{
 "cells": [
  {
   "cell_type": "code",
   "execution_count": 13,
   "metadata": {},
   "outputs": [
    {
     "name": "stderr",
     "output_type": "stream",
     "text": [
      "100%|██████████| 1961/1961 [00:58<00:00, 33.33it/s]\n"
     ]
    }
   ],
   "source": [
    "from concurrent.futures import ThreadPoolExecutor\n",
    "from pathlib import Path\n",
    "from tqdm import tqdm\n",
    "import shutil\n",
    "import threading\n",
    "\n",
    "lock = threading.Lock()\n",
    "\n",
    "def copy_file(src):\n",
    "    relative_path = src.relative_to(DATA_PATH)\n",
    "    trg = DATA_PATH / 'xmls' / relative_path\n",
    "    with lock:\n",
    "        trg.parent.mkdir(parents=True, exist_ok=True)\n",
    "    try:\n",
    "        shutil.copyfile(src, trg)\n",
    "    except Exception as e:\n",
    "        print(f\"Failed to copy {src} to {trg}: {e}\")\n",
    "\n",
    "DATA_PATH = Path('G:/내 드라이브/Project/RGBLab/ABB/Data')\n",
    "all_files = list(DATA_PATH.rglob('*.xml'))\n",
    "\n",
    "with ThreadPoolExecutor() as executor:\n",
    "    list(tqdm(executor.map(copy_file, all_files), total=len(all_files)))\n"
   ]
  },
  {
   "cell_type": "code",
   "execution_count": null,
   "metadata": {},
   "outputs": [],
   "source": []
  }
 ],
 "metadata": {
  "kernelspec": {
   "display_name": "abb_project",
   "language": "python",
   "name": "python3"
  },
  "language_info": {
   "codemirror_mode": {
    "name": "ipython",
    "version": 3
   },
   "file_extension": ".py",
   "mimetype": "text/x-python",
   "name": "python",
   "nbconvert_exporter": "python",
   "pygments_lexer": "ipython3",
   "version": "3.10.13"
  }
 },
 "nbformat": 4,
 "nbformat_minor": 2
}
