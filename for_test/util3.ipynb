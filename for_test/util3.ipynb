{
 "cells": [
  {
   "cell_type": "markdown",
   "metadata": {},
   "source": [
    "# It calculate the total size of the all resized files"
   ]
  },
  {
   "cell_type": "code",
   "execution_count": 11,
   "metadata": {},
   "outputs": [],
   "source": [
    "import pickle\n",
    "import os"
   ]
  },
  {
   "cell_type": "code",
   "execution_count": 12,
   "metadata": {},
   "outputs": [],
   "source": [
    "with open('processed_data/dataset.pkl', 'rb') as f:\n",
    "    data = pickle.load(f) \n",
    "    \n",
    "TARGET_WIDTH = 480\n",
    "TARGET_HEIGHT = 720\n",
    "ROOT_PATH = os.path.abspath(\"G:\\내 드라이브\\Project\\RGBLab\\ABB\\Data\")\n",
    "DATA_PATH = []\n",
    "\n",
    "for single_data in data:\n",
    "    DATA_PATH.append(os.path.join(ROOT_PATH, single_data[1]))"
   ]
  },
  {
   "cell_type": "code",
   "execution_count": 13,
   "metadata": {},
   "outputs": [],
   "source": [
    "# add _resized.mp4 to the end of the file name\n",
    "DATA_PATH = [path + '_resized.mp4' for path in DATA_PATH]"
   ]
  },
  {
   "cell_type": "code",
   "execution_count": 14,
   "metadata": {},
   "outputs": [
    {
     "data": {
      "text/plain": [
       "['G:\\\\내 드라이브\\\\Project\\\\RGBLab\\\\ABB\\\\Data\\\\01.폭행(assult)\\\\inside_croki_02\\\\24-5\\\\24-5_cam01_assault01_place09_night_winter_resized.mp4',\n",
       " 'G:\\\\내 드라이브\\\\Project\\\\RGBLab\\\\ABB\\\\Data\\\\01.폭행(assult)\\\\inside_croki_02\\\\24-5\\\\24-5_cam02_assault01_place09_night_winter_resized.mp4',\n",
       " 'G:\\\\내 드라이브\\\\Project\\\\RGBLab\\\\ABB\\\\Data\\\\01.폭행(assult)\\\\inside_croki_02\\\\24-5\\\\24-5_cam01_assault01_place09_night_summer_resized.mp4',\n",
       " 'G:\\\\내 드라이브\\\\Project\\\\RGBLab\\\\ABB\\\\Data\\\\01.폭행(assult)\\\\inside_croki_02\\\\24-5\\\\24-5_cam01_assault01_place09_night_spring_resized.mp4',\n",
       " 'G:\\\\내 드라이브\\\\Project\\\\RGBLab\\\\ABB\\\\Data\\\\01.폭행(assult)\\\\inside_croki_02\\\\24-5\\\\24-5_cam03_assault01_place09_night_spring_resized.mp4']"
      ]
     },
     "execution_count": 14,
     "metadata": {},
     "output_type": "execute_result"
    }
   ],
   "source": [
    "DATA_PATH[:5]"
   ]
  },
  {
   "cell_type": "code",
   "execution_count": 15,
   "metadata": {},
   "outputs": [
    {
     "name": "stdout",
     "output_type": "stream",
     "text": [
      "Total size of the data: 108.35 GB\n"
     ]
    }
   ],
   "source": [
    "# loop through the data, calculate the total size of the data\n",
    "total_size = 0\n",
    "for path in DATA_PATH:\n",
    "    total_size += os.path.getsize(path)\n",
    "    \n",
    "print(f\"Total size of the data: {total_size / 1024 / 1024 / 1024:.2f} GB\")"
   ]
  },
  {
   "cell_type": "code",
   "execution_count": null,
   "metadata": {},
   "outputs": [],
   "source": []
  }
 ],
 "metadata": {
  "kernelspec": {
   "display_name": "abb_project",
   "language": "python",
   "name": "python3"
  },
  "language_info": {
   "codemirror_mode": {
    "name": "ipython",
    "version": 3
   },
   "file_extension": ".py",
   "mimetype": "text/x-python",
   "name": "python",
   "nbconvert_exporter": "python",
   "pygments_lexer": "ipython3",
   "version": "3.10.13"
  }
 },
 "nbformat": 4,
 "nbformat_minor": 2
}
