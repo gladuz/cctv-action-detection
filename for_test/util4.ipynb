{
 "cells": [
  {
   "cell_type": "markdown",
   "metadata": {},
   "source": [
    "# Check contents of the extracted rgb features"
   ]
  },
  {
   "cell_type": "code",
   "execution_count": 1,
   "metadata": {},
   "outputs": [],
   "source": [
    "import pickle\n",
    "import os"
   ]
  },
  {
   "cell_type": "code",
   "execution_count": 2,
   "metadata": {},
   "outputs": [],
   "source": [
    "with open('processed_data/features.pkl', 'rb') as f:\n",
    "    data = pickle.load(f)"
   ]
  },
  {
   "cell_type": "code",
   "execution_count": 7,
   "metadata": {},
   "outputs": [],
   "source": [
    "first_data = data['G:\\\\내 드라이브\\\\Project\\\\RGBLab\\\\ABB\\\\Data\\\\01.폭행(assult)\\\\inside_croki_02\\\\24-5\\\\24-5_cam01_assault01_place09_night_winter_resized.mp4']"
   ]
  },
  {
   "cell_type": "code",
   "execution_count": 8,
   "metadata": {},
   "outputs": [
    {
     "data": {
      "text/plain": [
       "array([[0.        , 0.00158106, 0.01624556, ..., 0.0127989 , 0.04674656,\n",
       "        0.        ],\n",
       "       [0.        , 0.02046042, 0.00158567, ..., 0.05599438, 0.00735342,\n",
       "        0.        ],\n",
       "       [0.        , 0.00659071, 0.0003984 , ..., 0.07896529, 0.01049048,\n",
       "        0.        ],\n",
       "       ...,\n",
       "       [0.        , 0.        , 0.03931953, ..., 0.15728617, 0.        ,\n",
       "        0.        ],\n",
       "       [0.        , 0.        , 0.04145173, ..., 0.19264364, 0.        ,\n",
       "        0.        ],\n",
       "       [0.        , 0.        , 0.0296879 , ..., 0.16422231, 0.        ,\n",
       "        0.00216139]], dtype=float32)"
      ]
     },
     "execution_count": 8,
     "metadata": {},
     "output_type": "execute_result"
    }
   ],
   "source": [
    "first_data"
   ]
  },
  {
   "cell_type": "code",
   "execution_count": 11,
   "metadata": {},
   "outputs": [
    {
     "data": {
      "text/plain": [
       "(1344, 2048)"
      ]
     },
     "execution_count": 11,
     "metadata": {},
     "output_type": "execute_result"
    }
   ],
   "source": [
    "first_data.shape"
   ]
  }
 ],
 "metadata": {
  "kernelspec": {
   "display_name": "abb_project",
   "language": "python",
   "name": "python3"
  },
  "language_info": {
   "codemirror_mode": {
    "name": "ipython",
    "version": 3
   },
   "file_extension": ".py",
   "mimetype": "text/x-python",
   "name": "python",
   "nbconvert_exporter": "python",
   "pygments_lexer": "ipython3",
   "version": "3.10.13"
  }
 },
 "nbformat": 4,
 "nbformat_minor": 2
}
