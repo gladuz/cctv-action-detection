{
 "cells": [
  {
   "cell_type": "code",
   "execution_count": 2,
   "metadata": {},
   "outputs": [
    {
     "name": "stdout",
     "output_type": "stream",
     "text": [
      "Unique action names: {'piercing', 'stop and go', 'punching', 'threaten', 'kicking', 'running', 'pulling', 'around', 'climbwall', 'pushing', 'throwing', 'walking', 'falldown'}\n"
     ]
    }
   ],
   "source": [
    "import os\n",
    "import pandas as pd\n",
    "\n",
    "DATA_PATH = \"G:\\내 드라이브\\Project\\RGBLab\\ABB\\Data\"\n",
    "\n",
    "import xml.etree.ElementTree as ET\n",
    "\n",
    "def parse_xml_for_actionname(xml_file):\n",
    "    tree = ET.parse(xml_file)\n",
    "    root = tree.getroot()\n",
    "\n",
    "    action_names = []\n",
    "\n",
    "    for action in root.findall(\".//action\"):\n",
    "        action_name_element = action.find(\"actionname\")\n",
    "        if action_name_element is not None:\n",
    "            action_names.append(action_name_element.text)\n",
    "\n",
    "    return action_names\n",
    "\n",
    "\n",
    "df = pd.read_csv(os.path.join(\"./processed_data\", 'data_files.csv'))\n",
    "actions = set()\n",
    "for index, row in df.iterrows():\n",
    "    xml_file = os.path.join(DATA_PATH, row['path'], row['filename']+'.xml')\n",
    "    try:\n",
    "        action_names = parse_xml_for_actionname(xml_file)\n",
    "        actions.update(action_names)\n",
    "    except FileNotFoundError:\n",
    "        print(f\"File {xml_file} not found.\")\n",
    "    except ET.ParseError:\n",
    "        print(f\"Error parsing {xml_file}\")\n",
    "\n",
    "print(\"Unique action names:\", actions)"
   ]
  }
 ],
 "metadata": {
  "kernelspec": {
   "display_name": "abb_project",
   "language": "python",
   "name": "python3"
  },
  "language_info": {
   "codemirror_mode": {
    "name": "ipython",
    "version": 3
   },
   "file_extension": ".py",
   "mimetype": "text/x-python",
   "name": "python",
   "nbconvert_exporter": "python",
   "pygments_lexer": "ipython3",
   "version": "3.10.13"
  },
  "orig_nbformat": 4
 },
 "nbformat": 4,
 "nbformat_minor": 2
}
