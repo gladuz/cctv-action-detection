{
 "cells": [
  {
   "cell_type": "markdown",
   "metadata": {},
   "source": [
    "# It copies all resized videos into other dir"
   ]
  },
  {
   "cell_type": "code",
   "execution_count": 23,
   "metadata": {},
   "outputs": [],
   "source": [
    "import pickle\n",
    "import os"
   ]
  },
  {
   "cell_type": "code",
   "execution_count": 24,
   "metadata": {},
   "outputs": [],
   "source": [
    "with open('processed_data/dataset.pkl', 'rb') as f:\n",
    "    data = pickle.load(f) \n",
    "    \n",
    "TARGET_WIDTH = 480\n",
    "TARGET_HEIGHT = 720\n",
    "ROOT_PATH = os.path.abspath(\"G:\\내 드라이브\\Project\\RGBLab\\ABB\\Data\")\n",
    "src_DATA_PATH = []\n",
    "\n",
    "for single_data in data:\n",
    "    src_DATA_PATH.append(os.path.join(ROOT_PATH, single_data[1]))"
   ]
  },
  {
   "cell_type": "code",
   "execution_count": 25,
   "metadata": {},
   "outputs": [],
   "source": [
    "# add _resized.mp4 to the end of the file name\n",
    "src_DATA_PATH = [path + '_resized.mp4' for path in src_DATA_PATH]"
   ]
  },
  {
   "cell_type": "code",
   "execution_count": 26,
   "metadata": {},
   "outputs": [
    {
     "data": {
      "text/plain": [
       "['G:\\\\내 드라이브\\\\Project\\\\RGBLab\\\\ABB\\\\Data\\\\01.폭행(assult)\\\\inside_croki_02\\\\24-5\\\\24-5_cam01_assault01_place09_night_winter_resized.mp4',\n",
       " 'G:\\\\내 드라이브\\\\Project\\\\RGBLab\\\\ABB\\\\Data\\\\01.폭행(assult)\\\\inside_croki_02\\\\24-5\\\\24-5_cam02_assault01_place09_night_winter_resized.mp4',\n",
       " 'G:\\\\내 드라이브\\\\Project\\\\RGBLab\\\\ABB\\\\Data\\\\01.폭행(assult)\\\\inside_croki_02\\\\24-5\\\\24-5_cam01_assault01_place09_night_summer_resized.mp4',\n",
       " 'G:\\\\내 드라이브\\\\Project\\\\RGBLab\\\\ABB\\\\Data\\\\01.폭행(assult)\\\\inside_croki_02\\\\24-5\\\\24-5_cam01_assault01_place09_night_spring_resized.mp4',\n",
       " 'G:\\\\내 드라이브\\\\Project\\\\RGBLab\\\\ABB\\\\Data\\\\01.폭행(assult)\\\\inside_croki_02\\\\24-5\\\\24-5_cam03_assault01_place09_night_spring_resized.mp4']"
      ]
     },
     "execution_count": 26,
     "metadata": {},
     "output_type": "execute_result"
    }
   ],
   "source": [
    "src_DATA_PATH[:5]"
   ]
  },
  {
   "cell_type": "markdown",
   "metadata": {},
   "source": [
    "# Add \"Resized\" in paths"
   ]
  },
  {
   "cell_type": "code",
   "execution_count": 27,
   "metadata": {},
   "outputs": [],
   "source": [
    "import shutil\n",
    "from tqdm import tqdm\n",
    "\n",
    "trg_DATA_PATH = [path.replace(\"Data\", \"Data\\\\Resized\") for path in src_DATA_PATH]\n",
    "\n",
    "# copy all the files from src_DATA_PATH to trg_DATA_PATH\n",
    "for src, trg in tqdm(zip(src_DATA_PATH, trg_DATA_PATH), desc=\"Copying files\"):\n",
    "    \n",
    "    tqdm.write(\"Copying {} to {}\".format(src, trg))\n",
    "    \n",
    "    try:\n",
    "        # check first if the file exists\n",
    "        if not os.path.exists(trg):\n",
    "            # check if the directory exists\n",
    "            if not os.path.exists(os.path.dirname(trg)):\n",
    "                os.makedirs(os.path.dirname(trg))\n",
    "\n",
    "            # copy the file\n",
    "            shutil.copy(src, trg)\n",
    "            \n",
    "    except Exception as e:\n",
    "        tqdm.write(\"Error copying file: {}\".format(e))\n",
    "        continue\n",
    "    \n",
    "print(\"Done copying files\")"
   ]
  },
  {
   "cell_type": "code",
   "execution_count": 28,
   "metadata": {},
   "outputs": [
    {
     "data": {
      "text/plain": [
       "['G:\\\\내 드라이브\\\\Project\\\\RGBLab\\\\ABB\\\\Data\\\\Resized\\\\01.폭행(assult)\\\\inside_croki_02\\\\24-5\\\\24-5_cam01_assault01_place09_night_winter_resized.mp4',\n",
       " 'G:\\\\내 드라이브\\\\Project\\\\RGBLab\\\\ABB\\\\Data\\\\Resized\\\\01.폭행(assult)\\\\inside_croki_02\\\\24-5\\\\24-5_cam02_assault01_place09_night_winter_resized.mp4',\n",
       " 'G:\\\\내 드라이브\\\\Project\\\\RGBLab\\\\ABB\\\\Data\\\\Resized\\\\01.폭행(assult)\\\\inside_croki_02\\\\24-5\\\\24-5_cam01_assault01_place09_night_summer_resized.mp4',\n",
       " 'G:\\\\내 드라이브\\\\Project\\\\RGBLab\\\\ABB\\\\Data\\\\Resized\\\\01.폭행(assult)\\\\inside_croki_02\\\\24-5\\\\24-5_cam01_assault01_place09_night_spring_resized.mp4',\n",
       " 'G:\\\\내 드라이브\\\\Project\\\\RGBLab\\\\ABB\\\\Data\\\\Resized\\\\01.폭행(assult)\\\\inside_croki_02\\\\24-5\\\\24-5_cam03_assault01_place09_night_spring_resized.mp4']"
      ]
     },
     "execution_count": 28,
     "metadata": {},
     "output_type": "execute_result"
    }
   ],
   "source": [
    "trg_DATA_PATH[:5]"
   ]
  },
  {
   "cell_type": "code",
   "execution_count": null,
   "metadata": {},
   "outputs": [],
   "source": []
  },
  {
   "cell_type": "code",
   "execution_count": 15,
   "metadata": {},
   "outputs": [
    {
     "name": "stdout",
     "output_type": "stream",
     "text": [
      "Total size of the data: 108.35 GB\n"
     ]
    }
   ],
   "source": [
    "# loop through the data, calculate the total size of the data\n",
    "total_size = 0\n",
    "for path in DATA_PATH:\n",
    "    total_size += os.path.getsize(path)\n",
    "    \n",
    "print(f\"Total size of the data: {total_size / 1024 / 1024 / 1024:.2f} GB\")"
   ]
  },
  {
   "cell_type": "code",
   "execution_count": null,
   "metadata": {},
   "outputs": [],
   "source": []
  }
 ],
 "metadata": {
  "kernelspec": {
   "display_name": "abb_project",
   "language": "python",
   "name": "python3"
  },
  "language_info": {
   "codemirror_mode": {
    "name": "ipython",
    "version": 3
   },
   "file_extension": ".py",
   "mimetype": "text/x-python",
   "name": "python",
   "nbconvert_exporter": "python",
   "pygments_lexer": "ipython3",
   "version": "3.10.13"
  }
 },
 "nbformat": 4,
 "nbformat_minor": 2
}
