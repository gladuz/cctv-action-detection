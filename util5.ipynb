{
 "cells": [
  {
   "cell_type": "markdown",
   "metadata": {},
   "source": [
    "# It copies all resized videos into other dir"
   ]
  },
  {
   "cell_type": "code",
   "execution_count": 33,
   "metadata": {},
   "outputs": [],
   "source": [
    "import pickle\n",
    "import os"
   ]
  },
  {
   "cell_type": "code",
   "execution_count": 34,
   "metadata": {},
   "outputs": [],
   "source": [
    "with open('processed_data/dataset.pkl', 'rb') as f:\n",
    "    data = pickle.load(f) \n",
    "    \n",
    "TARGET_WIDTH = 480\n",
    "TARGET_HEIGHT = 720\n",
    "ROOT_PATH = os.path.abspath(\"G:\\내 드라이브\\Project\\RGBLab\\ABB\\Data\")\n",
    "src_DATA_PATH = []\n",
    "\n",
    "for single_data in data:\n",
    "    src_DATA_PATH.append(os.path.join(ROOT_PATH, single_data[1]))"
   ]
  },
  {
   "cell_type": "code",
   "execution_count": 35,
   "metadata": {},
   "outputs": [],
   "source": [
    "# add _resized.mp4 to the end of the file name\n",
    "src_DATA_PATH = [path + '_resized.mp4' for path in src_DATA_PATH]"
   ]
  },
  {
   "cell_type": "code",
   "execution_count": 36,
   "metadata": {},
   "outputs": [
    {
     "data": {
      "text/plain": [
       "['G:\\\\내 드라이브\\\\Project\\\\RGBLab\\\\ABB\\\\Data\\\\01.폭행(assult)\\\\inside_croki_02\\\\24-5\\\\24-5_cam01_assault01_place09_night_winter_resized.mp4',\n",
       " 'G:\\\\내 드라이브\\\\Project\\\\RGBLab\\\\ABB\\\\Data\\\\01.폭행(assult)\\\\inside_croki_02\\\\24-5\\\\24-5_cam02_assault01_place09_night_winter_resized.mp4',\n",
       " 'G:\\\\내 드라이브\\\\Project\\\\RGBLab\\\\ABB\\\\Data\\\\01.폭행(assult)\\\\inside_croki_02\\\\24-5\\\\24-5_cam01_assault01_place09_night_summer_resized.mp4',\n",
       " 'G:\\\\내 드라이브\\\\Project\\\\RGBLab\\\\ABB\\\\Data\\\\01.폭행(assult)\\\\inside_croki_02\\\\24-5\\\\24-5_cam01_assault01_place09_night_spring_resized.mp4',\n",
       " 'G:\\\\내 드라이브\\\\Project\\\\RGBLab\\\\ABB\\\\Data\\\\01.폭행(assult)\\\\inside_croki_02\\\\24-5\\\\24-5_cam03_assault01_place09_night_spring_resized.mp4']"
      ]
     },
     "execution_count": 36,
     "metadata": {},
     "output_type": "execute_result"
    }
   ],
   "source": [
    "src_DATA_PATH[:5]"
   ]
  },
  {
   "cell_type": "markdown",
   "metadata": {},
   "source": [
    "# Add \"Resized\" in paths"
   ]
  },
  {
   "cell_type": "code",
   "execution_count": 37,
   "metadata": {},
   "outputs": [
    {
     "name": "stderr",
     "output_type": "stream",
     "text": [
      "Copying files: 3it [00:00, 24.38it/s]"
     ]
    },
    {
     "name": "stdout",
     "output_type": "stream",
     "text": [
      "Copying G:\\내 드라이브\\Project\\RGBLab\\ABB\\Data\\01.폭행(assult)\\inside_croki_02\\24-5\\24-5_cam01_assault01_place09_night_winter_resized.mp4 to G:\\내 드라이브\\Project\\RGBLab\\ABB\\Data\\Resized\\01.폭행(assult)\\inside_croki_02\\24-5\\24-5_cam01_assault01_place09_night_winter_resized.mp4\n",
      "Copying G:\\내 드라이브\\Project\\RGBLab\\ABB\\Data\\01.폭행(assult)\\inside_croki_02\\24-5\\24-5_cam02_assault01_place09_night_winter_resized.mp4 to G:\\내 드라이브\\Project\\RGBLab\\ABB\\Data\\Resized\\01.폭행(assult)\\inside_croki_02\\24-5\\24-5_cam02_assault01_place09_night_winter_resized.mp4\n",
      "Copying G:\\내 드라이브\\Project\\RGBLab\\ABB\\Data\\01.폭행(assult)\\inside_croki_02\\24-5\\24-5_cam01_assault01_place09_night_summer_resized.mp4 to G:\\내 드라이브\\Project\\RGBLab\\ABB\\Data\\Resized\\01.폭행(assult)\\inside_croki_02\\24-5\\24-5_cam01_assault01_place09_night_summer_resized.mp4\n",
      "Copying G:\\내 드라이브\\Project\\RGBLab\\ABB\\Data\\01.폭행(assult)\\inside_croki_02\\24-5\\24-5_cam01_assault01_place09_night_spring_resized.mp4 to G:\\내 드라이브\\Project\\RGBLab\\ABB\\Data\\Resized\\01.폭행(assult)\\inside_croki_02\\24-5\\24-5_cam01_assault01_place09_night_spring_resized.mp4\n",
      "Copying G:\\내 드라이브\\Project\\RGBLab\\ABB\\Data\\01.폭행(assult)\\inside_croki_02\\24-5\\24-5_cam03_assault01_place09_night_spring_resized.mp4 to G:\\내 드라이브\\Project\\RGBLab\\ABB\\Data\\Resized\\01.폭행(assult)\\inside_croki_02\\24-5\\24-5_cam03_assault01_place09_night_spring_resized.mp4\n"
     ]
    },
    {
     "name": "stderr",
     "output_type": "stream",
     "text": [
      "Copying files: 10it [00:00, 26.52it/s]"
     ]
    },
    {
     "name": "stdout",
     "output_type": "stream",
     "text": [
      "Copying G:\\내 드라이브\\Project\\RGBLab\\ABB\\Data\\01.폭행(assult)\\inside_croki_02\\24-5\\24-5_cam03_assault01_place09_night_summer_resized.mp4 to G:\\내 드라이브\\Project\\RGBLab\\ABB\\Data\\Resized\\01.폭행(assult)\\inside_croki_02\\24-5\\24-5_cam03_assault01_place09_night_summer_resized.mp4\n",
      "Copying G:\\내 드라이브\\Project\\RGBLab\\ABB\\Data\\01.폭행(assult)\\inside_croki_02\\24-5\\24-5_cam03_assault01_place09_night_winter_resized.mp4 to G:\\내 드라이브\\Project\\RGBLab\\ABB\\Data\\Resized\\01.폭행(assult)\\inside_croki_02\\24-5\\24-5_cam03_assault01_place09_night_winter_resized.mp4\n",
      "Copying G:\\내 드라이브\\Project\\RGBLab\\ABB\\Data\\01.폭행(assult)\\inside_croki_02\\24-5\\24-5_cam02_assault01_place09_night_spring_resized.mp4 to G:\\내 드라이브\\Project\\RGBLab\\ABB\\Data\\Resized\\01.폭행(assult)\\inside_croki_02\\24-5\\24-5_cam02_assault01_place09_night_spring_resized.mp4\n",
      "Copying G:\\내 드라이브\\Project\\RGBLab\\ABB\\Data\\01.폭행(assult)\\inside_croki_02\\24-5\\24-5_cam02_assault01_place09_night_summer_resized.mp4 to G:\\내 드라이브\\Project\\RGBLab\\ABB\\Data\\Resized\\01.폭행(assult)\\inside_croki_02\\24-5\\24-5_cam02_assault01_place09_night_summer_resized.mp4\n",
      "Copying G:\\내 드라이브\\Project\\RGBLab\\ABB\\Data\\01.폭행(assult)\\inside_croki_02\\26-1\\26-1_cam01_assault01_place01_night_summer_resized.mp4 to G:\\내 드라이브\\Project\\RGBLab\\ABB\\Data\\Resized\\01.폭행(assult)\\inside_croki_02\\26-1\\26-1_cam01_assault01_place01_night_summer_resized.mp4\n"
     ]
    },
    {
     "name": "stderr",
     "output_type": "stream",
     "text": [
      "Copying files: 13it [00:00, 22.54it/s]"
     ]
    },
    {
     "name": "stdout",
     "output_type": "stream",
     "text": [
      "Copying G:\\내 드라이브\\Project\\RGBLab\\ABB\\Data\\01.폭행(assult)\\inside_croki_02\\26-1\\26-1_cam02_assault01_place01_night_summer_resized.mp4 to G:\\내 드라이브\\Project\\RGBLab\\ABB\\Data\\Resized\\01.폭행(assult)\\inside_croki_02\\26-1\\26-1_cam02_assault01_place01_night_summer_resized.mp4\n",
      "Copying G:\\내 드라이브\\Project\\RGBLab\\ABB\\Data\\01.폭행(assult)\\inside_croki_02\\26-1\\26-1_cam03_assault01_place01_night_spring_resized.mp4 to G:\\내 드라이브\\Project\\RGBLab\\ABB\\Data\\Resized\\01.폭행(assult)\\inside_croki_02\\26-1\\26-1_cam03_assault01_place01_night_spring_resized.mp4\n",
      "Copying G:\\내 드라이브\\Project\\RGBLab\\ABB\\Data\\01.폭행(assult)\\inside_croki_02\\26-1\\26-1_cam02_assault01_place01_night_spring_resized.mp4 to G:\\내 드라이브\\Project\\RGBLab\\ABB\\Data\\Resized\\01.폭행(assult)\\inside_croki_02\\26-1\\26-1_cam02_assault01_place01_night_spring_resized.mp4\n",
      "Copying G:\\내 드라이브\\Project\\RGBLab\\ABB\\Data\\01.폭행(assult)\\inside_croki_02\\26-1\\26-1_cam01_assault01_place01_night_spring_resized.mp4 to G:\\내 드라이브\\Project\\RGBLab\\ABB\\Data\\Resized\\01.폭행(assult)\\inside_croki_02\\26-1\\26-1_cam01_assault01_place01_night_spring_resized.mp4\n"
     ]
    },
    {
     "name": "stderr",
     "output_type": "stream",
     "text": [
      "Copying files: 19it [00:00, 23.20it/s]"
     ]
    },
    {
     "name": "stdout",
     "output_type": "stream",
     "text": [
      "Copying G:\\내 드라이브\\Project\\RGBLab\\ABB\\Data\\01.폭행(assult)\\inside_croki_02\\26-1\\26-1_cam02_assault01_place01_night_winter_resized.mp4 to G:\\내 드라이브\\Project\\RGBLab\\ABB\\Data\\Resized\\01.폭행(assult)\\inside_croki_02\\26-1\\26-1_cam02_assault01_place01_night_winter_resized.mp4\n",
      "Copying G:\\내 드라이브\\Project\\RGBLab\\ABB\\Data\\01.폭행(assult)\\inside_croki_02\\26-1\\26-1_cam01_assault01_place01_night_winter_resized.mp4 to G:\\내 드라이브\\Project\\RGBLab\\ABB\\Data\\Resized\\01.폭행(assult)\\inside_croki_02\\26-1\\26-1_cam01_assault01_place01_night_winter_resized.mp4\n",
      "Copying G:\\내 드라이브\\Project\\RGBLab\\ABB\\Data\\01.폭행(assult)\\inside_croki_02\\26-1\\26-1_cam03_assault01_place01_night_summer_resized.mp4 to G:\\내 드라이브\\Project\\RGBLab\\ABB\\Data\\Resized\\01.폭행(assult)\\inside_croki_02\\26-1\\26-1_cam03_assault01_place01_night_summer_resized.mp4\n",
      "Copying G:\\내 드라이브\\Project\\RGBLab\\ABB\\Data\\01.폭행(assult)\\inside_croki_02\\26-1\\26-1_cam03_assault01_place01_night_winter_resized.mp4 to G:\\내 드라이브\\Project\\RGBLab\\ABB\\Data\\Resized\\01.폭행(assult)\\inside_croki_02\\26-1\\26-1_cam03_assault01_place01_night_winter_resized.mp4\n",
      "Copying G:\\내 드라이브\\Project\\RGBLab\\ABB\\Data\\01.폭행(assult)\\inside_croki_02\\24-6\\24-6_cam01_assault01_place09_night_spring_resized.mp4 to G:\\내 드라이브\\Project\\RGBLab\\ABB\\Data\\Resized\\01.폭행(assult)\\inside_croki_02\\24-6\\24-6_cam01_assault01_place09_night_spring_resized.mp4\n"
     ]
    },
    {
     "name": "stderr",
     "output_type": "stream",
     "text": [
      "Copying files: 22it [00:00, 24.62it/s]"
     ]
    },
    {
     "name": "stdout",
     "output_type": "stream",
     "text": [
      "Copying G:\\내 드라이브\\Project\\RGBLab\\ABB\\Data\\01.폭행(assult)\\inside_croki_02\\24-6\\24-6_cam03_assault01_place09_night_winter_resized.mp4 to G:\\내 드라이브\\Project\\RGBLab\\ABB\\Data\\Resized\\01.폭행(assult)\\inside_croki_02\\24-6\\24-6_cam03_assault01_place09_night_winter_resized.mp4\n",
      "Copying G:\\내 드라이브\\Project\\RGBLab\\ABB\\Data\\01.폭행(assult)\\inside_croki_02\\24-6\\24-6_cam02_assault01_place09_night_spring_resized.mp4 to G:\\내 드라이브\\Project\\RGBLab\\ABB\\Data\\Resized\\01.폭행(assult)\\inside_croki_02\\24-6\\24-6_cam02_assault01_place09_night_spring_resized.mp4\n",
      "Copying G:\\내 드라이브\\Project\\RGBLab\\ABB\\Data\\01.폭행(assult)\\inside_croki_02\\24-6\\24-6_cam03_assault01_place09_night_spring_resized.mp4 to G:\\내 드라이브\\Project\\RGBLab\\ABB\\Data\\Resized\\01.폭행(assult)\\inside_croki_02\\24-6\\24-6_cam03_assault01_place09_night_spring_resized.mp4\n",
      "Copying G:\\내 드라이브\\Project\\RGBLab\\ABB\\Data\\01.폭행(assult)\\inside_croki_02\\24-6\\24-6_cam01_assault01_place09_night_winter_resized.mp4 to G:\\내 드라이브\\Project\\RGBLab\\ABB\\Data\\Resized\\01.폭행(assult)\\inside_croki_02\\24-6\\24-6_cam01_assault01_place09_night_winter_resized.mp4\n",
      "Copying G:\\내 드라이브\\Project\\RGBLab\\ABB\\Data\\01.폭행(assult)\\inside_croki_02\\24-6\\24-6_cam03_assault01_place09_night_summer_resized.mp4 to G:\\내 드라이브\\Project\\RGBLab\\ABB\\Data\\Resized\\01.폭행(assult)\\inside_croki_02\\24-6\\24-6_cam03_assault01_place09_night_summer_resized.mp4\n",
      "Copying G:\\내 드라이브\\Project\\RGBLab\\ABB\\Data\\01.폭행(assult)\\inside_croki_02\\24-6\\24-6_cam01_assault01_place09_night_summer_resized.mp4 to G:\\내 드라이브\\Project\\RGBLab\\ABB\\Data\\Resized\\01.폭행(assult)\\inside_croki_02\\24-6\\24-6_cam01_assault01_place09_night_summer_resized.mp4\n"
     ]
    },
    {
     "name": "stderr",
     "output_type": "stream",
     "text": [
      "Copying files: 29it [00:01, 25.54it/s]"
     ]
    },
    {
     "name": "stdout",
     "output_type": "stream",
     "text": [
      "Copying G:\\내 드라이브\\Project\\RGBLab\\ABB\\Data\\01.폭행(assult)\\inside_croki_02\\24-6\\24-6_cam02_assault01_place09_night_winter_resized.mp4 to G:\\내 드라이브\\Project\\RGBLab\\ABB\\Data\\Resized\\01.폭행(assult)\\inside_croki_02\\24-6\\24-6_cam02_assault01_place09_night_winter_resized.mp4\n",
      "Copying G:\\내 드라이브\\Project\\RGBLab\\ABB\\Data\\01.폭행(assult)\\inside_croki_02\\24-6\\24-6_cam02_assault01_place09_night_summer_resized.mp4 to G:\\내 드라이브\\Project\\RGBLab\\ABB\\Data\\Resized\\01.폭행(assult)\\inside_croki_02\\24-6\\24-6_cam02_assault01_place09_night_summer_resized.mp4\n",
      "Copying G:\\내 드라이브\\Project\\RGBLab\\ABB\\Data\\01.폭행(assult)\\inside_croki_02\\26-2\\26-2_cam02_assault01_place01_night_winter_resized.mp4 to G:\\내 드라이브\\Project\\RGBLab\\ABB\\Data\\Resized\\01.폭행(assult)\\inside_croki_02\\26-2\\26-2_cam02_assault01_place01_night_winter_resized.mp4\n",
      "Copying G:\\내 드라이브\\Project\\RGBLab\\ABB\\Data\\01.폭행(assult)\\inside_croki_02\\26-2\\26-2_cam03_assault01_place01_night_summer_resized.mp4 to G:\\내 드라이브\\Project\\RGBLab\\ABB\\Data\\Resized\\01.폭행(assult)\\inside_croki_02\\26-2\\26-2_cam03_assault01_place01_night_summer_resized.mp4\n",
      "Copying G:\\내 드라이브\\Project\\RGBLab\\ABB\\Data\\01.폭행(assult)\\inside_croki_02\\26-2\\26-2_cam01_assault01_place01_night_spring_resized.mp4 to G:\\내 드라이브\\Project\\RGBLab\\ABB\\Data\\Resized\\01.폭행(assult)\\inside_croki_02\\26-2\\26-2_cam01_assault01_place01_night_spring_resized.mp4\n"
     ]
    },
    {
     "name": "stderr",
     "output_type": "stream",
     "text": [
      "Copying files: 32it [00:01, 24.77it/s]"
     ]
    },
    {
     "name": "stdout",
     "output_type": "stream",
     "text": [
      "Copying G:\\내 드라이브\\Project\\RGBLab\\ABB\\Data\\01.폭행(assult)\\inside_croki_02\\26-2\\26-2_cam03_assault01_place01_night_winter_resized.mp4 to G:\\내 드라이브\\Project\\RGBLab\\ABB\\Data\\Resized\\01.폭행(assult)\\inside_croki_02\\26-2\\26-2_cam03_assault01_place01_night_winter_resized.mp4\n",
      "Copying G:\\내 드라이브\\Project\\RGBLab\\ABB\\Data\\01.폭행(assult)\\inside_croki_02\\26-2\\26-2_cam03_assault01_place01_night_spring_resized.mp4 to G:\\내 드라이브\\Project\\RGBLab\\ABB\\Data\\Resized\\01.폭행(assult)\\inside_croki_02\\26-2\\26-2_cam03_assault01_place01_night_spring_resized.mp4\n",
      "Copying G:\\내 드라이브\\Project\\RGBLab\\ABB\\Data\\01.폭행(assult)\\inside_croki_02\\26-2\\26-2_cam02_assault01_place01_night_summer_resized.mp4 to G:\\내 드라이브\\Project\\RGBLab\\ABB\\Data\\Resized\\01.폭행(assult)\\inside_croki_02\\26-2\\26-2_cam02_assault01_place01_night_summer_resized.mp4\n",
      "Copying G:\\내 드라이브\\Project\\RGBLab\\ABB\\Data\\01.폭행(assult)\\inside_croki_02\\26-2\\26-2_cam02_assault01_place01_night_spring_resized.mp4 to G:\\내 드라이브\\Project\\RGBLab\\ABB\\Data\\Resized\\01.폭행(assult)\\inside_croki_02\\26-2\\26-2_cam02_assault01_place01_night_spring_resized.mp4\n",
      "Copying G:\\내 드라이브\\Project\\RGBLab\\ABB\\Data\\01.폭행(assult)\\inside_croki_02\\26-2\\26-2_cam01_assault01_place01_night_winter_resized.mp4 to G:\\내 드라이브\\Project\\RGBLab\\ABB\\Data\\Resized\\01.폭행(assult)\\inside_croki_02\\26-2\\26-2_cam01_assault01_place01_night_winter_resized.mp4\n"
     ]
    },
    {
     "name": "stderr",
     "output_type": "stream",
     "text": [
      "Copying files: 38it [00:01, 23.01it/s]"
     ]
    },
    {
     "name": "stdout",
     "output_type": "stream",
     "text": [
      "Copying G:\\내 드라이브\\Project\\RGBLab\\ABB\\Data\\01.폭행(assult)\\inside_croki_02\\26-2\\26-2_cam01_assault01_place01_night_summer_resized.mp4 to G:\\내 드라이브\\Project\\RGBLab\\ABB\\Data\\Resized\\01.폭행(assult)\\inside_croki_02\\26-2\\26-2_cam01_assault01_place01_night_summer_resized.mp4\n",
      "Copying G:\\내 드라이브\\Project\\RGBLab\\ABB\\Data\\01.폭행(assult)\\inside_croki_02\\26-4\\26-4_cam03_assault01_place01_night_summer_resized.mp4 to G:\\내 드라이브\\Project\\RGBLab\\ABB\\Data\\Resized\\01.폭행(assult)\\inside_croki_02\\26-4\\26-4_cam03_assault01_place01_night_summer_resized.mp4\n",
      "Copying G:\\내 드라이브\\Project\\RGBLab\\ABB\\Data\\01.폭행(assult)\\inside_croki_02\\26-4\\26-4_cam01_assault01_place01_night_winter_resized.mp4 to G:\\내 드라이브\\Project\\RGBLab\\ABB\\Data\\Resized\\01.폭행(assult)\\inside_croki_02\\26-4\\26-4_cam01_assault01_place01_night_winter_resized.mp4\n",
      "Copying G:\\내 드라이브\\Project\\RGBLab\\ABB\\Data\\01.폭행(assult)\\inside_croki_02\\26-4\\26-4_cam02_assault01_place01_night_spring_resized.mp4 to G:\\내 드라이브\\Project\\RGBLab\\ABB\\Data\\Resized\\01.폭행(assult)\\inside_croki_02\\26-4\\26-4_cam02_assault01_place01_night_spring_resized.mp4\n"
     ]
    },
    {
     "name": "stderr",
     "output_type": "stream",
     "text": [
      "Copying files: 41it [00:01, 21.59it/s]"
     ]
    },
    {
     "name": "stdout",
     "output_type": "stream",
     "text": [
      "Copying G:\\내 드라이브\\Project\\RGBLab\\ABB\\Data\\01.폭행(assult)\\inside_croki_02\\26-4\\26-4_cam01_assault01_place01_night_spring_resized.mp4 to G:\\내 드라이브\\Project\\RGBLab\\ABB\\Data\\Resized\\01.폭행(assult)\\inside_croki_02\\26-4\\26-4_cam01_assault01_place01_night_spring_resized.mp4\n",
      "Copying G:\\내 드라이브\\Project\\RGBLab\\ABB\\Data\\01.폭행(assult)\\inside_croki_02\\26-4\\26-4_cam03_assault01_place01_night_spring_resized.mp4 to G:\\내 드라이브\\Project\\RGBLab\\ABB\\Data\\Resized\\01.폭행(assult)\\inside_croki_02\\26-4\\26-4_cam03_assault01_place01_night_spring_resized.mp4\n",
      "Copying G:\\내 드라이브\\Project\\RGBLab\\ABB\\Data\\01.폭행(assult)\\inside_croki_02\\26-4\\26-4_cam03_assault01_place01_night_winter_resized.mp4 to G:\\내 드라이브\\Project\\RGBLab\\ABB\\Data\\Resized\\01.폭행(assult)\\inside_croki_02\\26-4\\26-4_cam03_assault01_place01_night_winter_resized.mp4\n",
      "Copying G:\\내 드라이브\\Project\\RGBLab\\ABB\\Data\\01.폭행(assult)\\inside_croki_02\\26-4\\26-4_cam02_assault01_place01_night_winter_resized.mp4 to G:\\내 드라이브\\Project\\RGBLab\\ABB\\Data\\Resized\\01.폭행(assult)\\inside_croki_02\\26-4\\26-4_cam02_assault01_place01_night_winter_resized.mp4\n",
      "Copying G:\\내 드라이브\\Project\\RGBLab\\ABB\\Data\\01.폭행(assult)\\inside_croki_02\\26-4\\26-4_cam02_assault01_place01_night_summer_resized.mp4 to G:\\내 드라이브\\Project\\RGBLab\\ABB\\Data\\Resized\\01.폭행(assult)\\inside_croki_02\\26-4\\26-4_cam02_assault01_place01_night_summer_resized.mp4\n"
     ]
    },
    {
     "name": "stderr",
     "output_type": "stream",
     "text": [
      "Copying files: 47it [00:02, 23.32it/s]"
     ]
    },
    {
     "name": "stdout",
     "output_type": "stream",
     "text": [
      "Copying G:\\내 드라이브\\Project\\RGBLab\\ABB\\Data\\01.폭행(assult)\\inside_croki_02\\26-4\\26-4_cam01_assault01_place01_night_summer_resized.mp4 to G:\\내 드라이브\\Project\\RGBLab\\ABB\\Data\\Resized\\01.폭행(assult)\\inside_croki_02\\26-4\\26-4_cam01_assault01_place01_night_summer_resized.mp4\n",
      "Copying G:\\내 드라이브\\Project\\RGBLab\\ABB\\Data\\01.폭행(assult)\\inside_croki_02\\26-3\\26-3_cam01_assault01_place01_night_winter_resized.mp4 to G:\\내 드라이브\\Project\\RGBLab\\ABB\\Data\\Resized\\01.폭행(assult)\\inside_croki_02\\26-3\\26-3_cam01_assault01_place01_night_winter_resized.mp4\n",
      "Copying G:\\내 드라이브\\Project\\RGBLab\\ABB\\Data\\01.폭행(assult)\\inside_croki_02\\26-3\\26-3_cam02_assault01_place01_night_winter_resized.mp4 to G:\\내 드라이브\\Project\\RGBLab\\ABB\\Data\\Resized\\01.폭행(assult)\\inside_croki_02\\26-3\\26-3_cam02_assault01_place01_night_winter_resized.mp4\n",
      "Copying G:\\내 드라이브\\Project\\RGBLab\\ABB\\Data\\01.폭행(assult)\\inside_croki_02\\26-3\\26-3_cam03_assault01_place01_night_winter_resized.mp4 to G:\\내 드라이브\\Project\\RGBLab\\ABB\\Data\\Resized\\01.폭행(assult)\\inside_croki_02\\26-3\\26-3_cam03_assault01_place01_night_winter_resized.mp4\n",
      "Copying G:\\내 드라이브\\Project\\RGBLab\\ABB\\Data\\01.폭행(assult)\\inside_croki_02\\26-3\\26-3_cam01_assault01_place01_night_spring_resized.mp4 to G:\\내 드라이브\\Project\\RGBLab\\ABB\\Data\\Resized\\01.폭행(assult)\\inside_croki_02\\26-3\\26-3_cam01_assault01_place01_night_spring_resized.mp4\n"
     ]
    },
    {
     "name": "stderr",
     "output_type": "stream",
     "text": [
      "Copying files: 53it [00:02, 22.21it/s]"
     ]
    },
    {
     "name": "stdout",
     "output_type": "stream",
     "text": [
      "Copying G:\\내 드라이브\\Project\\RGBLab\\ABB\\Data\\01.폭행(assult)\\inside_croki_02\\26-3\\26-3_cam01_assault01_place01_night_summer_resized.mp4 to G:\\내 드라이브\\Project\\RGBLab\\ABB\\Data\\Resized\\01.폭행(assult)\\inside_croki_02\\26-3\\26-3_cam01_assault01_place01_night_summer_resized.mp4\n",
      "Copying G:\\내 드라이브\\Project\\RGBLab\\ABB\\Data\\01.폭행(assult)\\inside_croki_02\\26-3\\26-3_cam03_assault01_place01_night_spring_resized.mp4 to G:\\내 드라이브\\Project\\RGBLab\\ABB\\Data\\Resized\\01.폭행(assult)\\inside_croki_02\\26-3\\26-3_cam03_assault01_place01_night_spring_resized.mp4\n",
      "Copying G:\\내 드라이브\\Project\\RGBLab\\ABB\\Data\\01.폭행(assult)\\inside_croki_02\\26-3\\26-3_cam03_assault01_place01_night_summer_resized.mp4 to G:\\내 드라이브\\Project\\RGBLab\\ABB\\Data\\Resized\\01.폭행(assult)\\inside_croki_02\\26-3\\26-3_cam03_assault01_place01_night_summer_resized.mp4\n",
      "Copying G:\\내 드라이브\\Project\\RGBLab\\ABB\\Data\\01.폭행(assult)\\inside_croki_02\\26-3\\26-3_cam02_assault01_place01_night_spring_resized.mp4 to G:\\내 드라이브\\Project\\RGBLab\\ABB\\Data\\Resized\\01.폭행(assult)\\inside_croki_02\\26-3\\26-3_cam02_assault01_place01_night_spring_resized.mp4\n"
     ]
    },
    {
     "name": "stderr",
     "output_type": "stream",
     "text": [
      "Copying files: 56it [00:02, 22.56it/s]"
     ]
    },
    {
     "name": "stdout",
     "output_type": "stream",
     "text": [
      "Copying G:\\내 드라이브\\Project\\RGBLab\\ABB\\Data\\01.폭행(assult)\\inside_croki_02\\26-3\\26-3_cam02_assault01_place01_night_summer_resized.mp4 to G:\\내 드라이브\\Project\\RGBLab\\ABB\\Data\\Resized\\01.폭행(assult)\\inside_croki_02\\26-3\\26-3_cam02_assault01_place01_night_summer_resized.mp4\n",
      "Copying G:\\내 드라이브\\Project\\RGBLab\\ABB\\Data\\01.폭행(assult)\\inside_croki_02\\26-5\\26-5_cam01_assault01_place01_night_summer_resized.mp4 to G:\\내 드라이브\\Project\\RGBLab\\ABB\\Data\\Resized\\01.폭행(assult)\\inside_croki_02\\26-5\\26-5_cam01_assault01_place01_night_summer_resized.mp4\n",
      "Copying G:\\내 드라이브\\Project\\RGBLab\\ABB\\Data\\01.폭행(assult)\\inside_croki_02\\26-5\\26-5_cam03_assault01_place01_night_summer_resized.mp4 to G:\\내 드라이브\\Project\\RGBLab\\ABB\\Data\\Resized\\01.폭행(assult)\\inside_croki_02\\26-5\\26-5_cam03_assault01_place01_night_summer_resized.mp4\n",
      "Copying G:\\내 드라이브\\Project\\RGBLab\\ABB\\Data\\01.폭행(assult)\\inside_croki_02\\26-5\\26-5_cam03_assault01_place01_night_spring_resized.mp4 to G:\\내 드라이브\\Project\\RGBLab\\ABB\\Data\\Resized\\01.폭행(assult)\\inside_croki_02\\26-5\\26-5_cam03_assault01_place01_night_spring_resized.mp4\n"
     ]
    },
    {
     "name": "stderr",
     "output_type": "stream",
     "text": [
      "Copying files: 59it [00:02, 23.03it/s]"
     ]
    },
    {
     "name": "stdout",
     "output_type": "stream",
     "text": [
      "Copying G:\\내 드라이브\\Project\\RGBLab\\ABB\\Data\\01.폭행(assult)\\inside_croki_02\\26-5\\26-5_cam01_assault01_place01_night_winter_resized.mp4 to G:\\내 드라이브\\Project\\RGBLab\\ABB\\Data\\Resized\\01.폭행(assult)\\inside_croki_02\\26-5\\26-5_cam01_assault01_place01_night_winter_resized.mp4\n",
      "Copying G:\\내 드라이브\\Project\\RGBLab\\ABB\\Data\\01.폭행(assult)\\inside_croki_02\\26-5\\26-5_cam03_assault01_place01_night_winter_resized.mp4 to G:\\내 드라이브\\Project\\RGBLab\\ABB\\Data\\Resized\\01.폭행(assult)\\inside_croki_02\\26-5\\26-5_cam03_assault01_place01_night_winter_resized.mp4\n",
      "Copying G:\\내 드라이브\\Project\\RGBLab\\ABB\\Data\\01.폭행(assult)\\inside_croki_02\\26-5\\26-5_cam01_assault01_place01_night_spring_resized.mp4 to G:\\내 드라이브\\Project\\RGBLab\\ABB\\Data\\Resized\\01.폭행(assult)\\inside_croki_02\\26-5\\26-5_cam01_assault01_place01_night_spring_resized.mp4\n",
      "Copying G:\\내 드라이브\\Project\\RGBLab\\ABB\\Data\\01.폭행(assult)\\inside_croki_02\\26-5\\26-5_cam02_assault01_place01_night_summer_resized.mp4 to G:\\내 드라이브\\Project\\RGBLab\\ABB\\Data\\Resized\\01.폭행(assult)\\inside_croki_02\\26-5\\26-5_cam02_assault01_place01_night_summer_resized.mp4\n"
     ]
    },
    {
     "name": "stderr",
     "output_type": "stream",
     "text": [
      "Copying files: 62it [00:02, 20.66it/s]"
     ]
    },
    {
     "name": "stdout",
     "output_type": "stream",
     "text": [
      "Copying G:\\내 드라이브\\Project\\RGBLab\\ABB\\Data\\01.폭행(assult)\\inside_croki_02\\26-5\\26-5_cam02_assault01_place01_night_spring_resized.mp4 to G:\\내 드라이브\\Project\\RGBLab\\ABB\\Data\\Resized\\01.폭행(assult)\\inside_croki_02\\26-5\\26-5_cam02_assault01_place01_night_spring_resized.mp4\n",
      "Copying G:\\내 드라이브\\Project\\RGBLab\\ABB\\Data\\01.폭행(assult)\\inside_croki_02\\26-5\\26-5_cam02_assault01_place01_night_winter_resized.mp4 to G:\\내 드라이브\\Project\\RGBLab\\ABB\\Data\\Resized\\01.폭행(assult)\\inside_croki_02\\26-5\\26-5_cam02_assault01_place01_night_winter_resized.mp4\n",
      "Copying G:\\내 드라이브\\Project\\RGBLab\\ABB\\Data\\01.폭행(assult)\\inside_croki_02\\407-1\\407-1_cam02_assault01_place04_day_spring_resized.mp4 to G:\\내 드라이브\\Project\\RGBLab\\ABB\\Data\\Resized\\01.폭행(assult)\\inside_croki_02\\407-1\\407-1_cam02_assault01_place04_day_spring_resized.mp4\n",
      "Copying G:\\내 드라이브\\Project\\RGBLab\\ABB\\Data\\01.폭행(assult)\\inside_croki_02\\407-1\\407-1_cam02_assault01_place04_day_winter_resized.mp4 to G:\\내 드라이브\\Project\\RGBLab\\ABB\\Data\\Resized\\01.폭행(assult)\\inside_croki_02\\407-1\\407-1_cam02_assault01_place04_day_winter_resized.mp4\n"
     ]
    },
    {
     "name": "stderr",
     "output_type": "stream",
     "text": [
      "Copying files: 68it [00:02, 19.94it/s]"
     ]
    },
    {
     "name": "stdout",
     "output_type": "stream",
     "text": [
      "Copying G:\\내 드라이브\\Project\\RGBLab\\ABB\\Data\\01.폭행(assult)\\inside_croki_02\\407-1\\407-1_cam03_assault01_place04_day_summer_resized.mp4 to G:\\내 드라이브\\Project\\RGBLab\\ABB\\Data\\Resized\\01.폭행(assult)\\inside_croki_02\\407-1\\407-1_cam03_assault01_place04_day_summer_resized.mp4\n",
      "Copying G:\\내 드라이브\\Project\\RGBLab\\ABB\\Data\\01.폭행(assult)\\inside_croki_02\\407-1\\407-1_cam01_assault01_place04_day_winter_resized.mp4 to G:\\내 드라이브\\Project\\RGBLab\\ABB\\Data\\Resized\\01.폭행(assult)\\inside_croki_02\\407-1\\407-1_cam01_assault01_place04_day_winter_resized.mp4\n",
      "Copying G:\\내 드라이브\\Project\\RGBLab\\ABB\\Data\\01.폭행(assult)\\inside_croki_02\\407-1\\407-1_cam01_assault01_place04_day_spring_resized.mp4 to G:\\내 드라이브\\Project\\RGBLab\\ABB\\Data\\Resized\\01.폭행(assult)\\inside_croki_02\\407-1\\407-1_cam01_assault01_place04_day_spring_resized.mp4\n",
      "Copying G:\\내 드라이브\\Project\\RGBLab\\ABB\\Data\\01.폭행(assult)\\inside_croki_02\\407-1\\407-1_cam02_assault01_place04_day_summer_resized.mp4 to G:\\내 드라이브\\Project\\RGBLab\\ABB\\Data\\Resized\\01.폭행(assult)\\inside_croki_02\\407-1\\407-1_cam02_assault01_place04_day_summer_resized.mp4\n"
     ]
    },
    {
     "name": "stderr",
     "output_type": "stream",
     "text": [
      "Copying files: 71it [00:03, 19.25it/s]"
     ]
    },
    {
     "name": "stdout",
     "output_type": "stream",
     "text": [
      "Copying G:\\내 드라이브\\Project\\RGBLab\\ABB\\Data\\01.폭행(assult)\\inside_croki_02\\407-1\\407-1_cam03_assault01_place04_day_spring_resized.mp4 to G:\\내 드라이브\\Project\\RGBLab\\ABB\\Data\\Resized\\01.폭행(assult)\\inside_croki_02\\407-1\\407-1_cam03_assault01_place04_day_spring_resized.mp4\n",
      "Copying G:\\내 드라이브\\Project\\RGBLab\\ABB\\Data\\01.폭행(assult)\\inside_croki_02\\407-1\\407-1_cam01_assault01_place04_day_summer_resized.mp4 to G:\\내 드라이브\\Project\\RGBLab\\ABB\\Data\\Resized\\01.폭행(assult)\\inside_croki_02\\407-1\\407-1_cam01_assault01_place04_day_summer_resized.mp4\n",
      "Copying G:\\내 드라이브\\Project\\RGBLab\\ABB\\Data\\01.폭행(assult)\\inside_croki_02\\407-1\\407-1_cam03_assault01_place04_day_winter_resized.mp4 to G:\\내 드라이브\\Project\\RGBLab\\ABB\\Data\\Resized\\01.폭행(assult)\\inside_croki_02\\407-1\\407-1_cam03_assault01_place04_day_winter_resized.mp4\n",
      "Copying G:\\내 드라이브\\Project\\RGBLab\\ABB\\Data\\01.폭행(assult)\\inside_croki_03\\407-2\\407-2_cam01_assault01_place04_day_winter_resized.mp4 to G:\\내 드라이브\\Project\\RGBLab\\ABB\\Data\\Resized\\01.폭행(assult)\\inside_croki_03\\407-2\\407-2_cam01_assault01_place04_day_winter_resized.mp4\n"
     ]
    },
    {
     "name": "stderr",
     "output_type": "stream",
     "text": [
      "Copying files: 77it [00:03, 19.44it/s]"
     ]
    },
    {
     "name": "stdout",
     "output_type": "stream",
     "text": [
      "Copying G:\\내 드라이브\\Project\\RGBLab\\ABB\\Data\\01.폭행(assult)\\inside_croki_03\\407-2\\407-2_cam02_assault01_place04_day_spring_resized.mp4 to G:\\내 드라이브\\Project\\RGBLab\\ABB\\Data\\Resized\\01.폭행(assult)\\inside_croki_03\\407-2\\407-2_cam02_assault01_place04_day_spring_resized.mp4\n",
      "Copying G:\\내 드라이브\\Project\\RGBLab\\ABB\\Data\\01.폭행(assult)\\inside_croki_03\\407-2\\407-2_cam01_assault01_place04_day_summer_resized.mp4 to G:\\내 드라이브\\Project\\RGBLab\\ABB\\Data\\Resized\\01.폭행(assult)\\inside_croki_03\\407-2\\407-2_cam01_assault01_place04_day_summer_resized.mp4\n",
      "Copying G:\\내 드라이브\\Project\\RGBLab\\ABB\\Data\\01.폭행(assult)\\inside_croki_03\\407-2\\407-2_cam03_assault01_place04_day_winter_resized.mp4 to G:\\내 드라이브\\Project\\RGBLab\\ABB\\Data\\Resized\\01.폭행(assult)\\inside_croki_03\\407-2\\407-2_cam03_assault01_place04_day_winter_resized.mp4\n",
      "Copying G:\\내 드라이브\\Project\\RGBLab\\ABB\\Data\\01.폭행(assult)\\inside_croki_03\\407-2\\407-2_cam03_assault01_place04_day_summer_resized.mp4 to G:\\내 드라이브\\Project\\RGBLab\\ABB\\Data\\Resized\\01.폭행(assult)\\inside_croki_03\\407-2\\407-2_cam03_assault01_place04_day_summer_resized.mp4\n"
     ]
    },
    {
     "name": "stderr",
     "output_type": "stream",
     "text": [
      "Copying files: 79it [00:03, 18.62it/s]"
     ]
    },
    {
     "name": "stdout",
     "output_type": "stream",
     "text": [
      "Copying G:\\내 드라이브\\Project\\RGBLab\\ABB\\Data\\01.폭행(assult)\\inside_croki_03\\407-2\\407-2_cam01_assault01_place04_day_spring_resized.mp4 to G:\\내 드라이브\\Project\\RGBLab\\ABB\\Data\\Resized\\01.폭행(assult)\\inside_croki_03\\407-2\\407-2_cam01_assault01_place04_day_spring_resized.mp4\n",
      "Copying G:\\내 드라이브\\Project\\RGBLab\\ABB\\Data\\01.폭행(assult)\\inside_croki_03\\407-2\\407-2_cam02_assault01_place04_day_winter_resized.mp4 to G:\\내 드라이브\\Project\\RGBLab\\ABB\\Data\\Resized\\01.폭행(assult)\\inside_croki_03\\407-2\\407-2_cam02_assault01_place04_day_winter_resized.mp4\n",
      "Copying G:\\내 드라이브\\Project\\RGBLab\\ABB\\Data\\01.폭행(assult)\\inside_croki_03\\407-2\\407-2_cam03_assault01_place04_day_spring_resized.mp4 to G:\\내 드라이브\\Project\\RGBLab\\ABB\\Data\\Resized\\01.폭행(assult)\\inside_croki_03\\407-2\\407-2_cam03_assault01_place04_day_spring_resized.mp4\n",
      "Copying G:\\내 드라이브\\Project\\RGBLab\\ABB\\Data\\01.폭행(assult)\\inside_croki_03\\407-2\\407-2_cam02_assault01_place04_day_summer_resized.mp4 to G:\\내 드라이브\\Project\\RGBLab\\ABB\\Data\\Resized\\01.폭행(assult)\\inside_croki_03\\407-2\\407-2_cam02_assault01_place04_day_summer_resized.mp4\n"
     ]
    },
    {
     "name": "stderr",
     "output_type": "stream",
     "text": [
      "Copying files: 83it [00:03, 18.67it/s]"
     ]
    },
    {
     "name": "stdout",
     "output_type": "stream",
     "text": [
      "Copying G:\\내 드라이브\\Project\\RGBLab\\ABB\\Data\\01.폭행(assult)\\inside_croki_03\\407-4\\407-4_cam03_assault01_place04_day_spring_resized.mp4 to G:\\내 드라이브\\Project\\RGBLab\\ABB\\Data\\Resized\\01.폭행(assult)\\inside_croki_03\\407-4\\407-4_cam03_assault01_place04_day_spring_resized.mp4\n",
      "Copying G:\\내 드라이브\\Project\\RGBLab\\ABB\\Data\\01.폭행(assult)\\inside_croki_03\\407-4\\407-4_cam03_assault01_place04_day_winter_resized.mp4 to G:\\내 드라이브\\Project\\RGBLab\\ABB\\Data\\Resized\\01.폭행(assult)\\inside_croki_03\\407-4\\407-4_cam03_assault01_place04_day_winter_resized.mp4\n",
      "Copying G:\\내 드라이브\\Project\\RGBLab\\ABB\\Data\\01.폭행(assult)\\inside_croki_03\\407-4\\407-4_cam01_assault01_place04_day_spring_resized.mp4 to G:\\내 드라이브\\Project\\RGBLab\\ABB\\Data\\Resized\\01.폭행(assult)\\inside_croki_03\\407-4\\407-4_cam01_assault01_place04_day_spring_resized.mp4\n",
      "Copying G:\\내 드라이브\\Project\\RGBLab\\ABB\\Data\\01.폭행(assult)\\inside_croki_03\\407-4\\407-4_cam02_assault01_place04_day_summer_resized.mp4 to G:\\내 드라이브\\Project\\RGBLab\\ABB\\Data\\Resized\\01.폭행(assult)\\inside_croki_03\\407-4\\407-4_cam02_assault01_place04_day_summer_resized.mp4\n"
     ]
    },
    {
     "name": "stderr",
     "output_type": "stream",
     "text": [
      "Copying files: 87it [00:04, 18.03it/s]"
     ]
    },
    {
     "name": "stdout",
     "output_type": "stream",
     "text": [
      "Copying G:\\내 드라이브\\Project\\RGBLab\\ABB\\Data\\01.폭행(assult)\\inside_croki_03\\407-4\\407-4_cam01_assault01_place04_day_summer_resized.mp4 to G:\\내 드라이브\\Project\\RGBLab\\ABB\\Data\\Resized\\01.폭행(assult)\\inside_croki_03\\407-4\\407-4_cam01_assault01_place04_day_summer_resized.mp4\n",
      "Copying G:\\내 드라이브\\Project\\RGBLab\\ABB\\Data\\01.폭행(assult)\\inside_croki_03\\407-4\\407-4_cam02_assault01_place04_day_spring_resized.mp4 to G:\\내 드라이브\\Project\\RGBLab\\ABB\\Data\\Resized\\01.폭행(assult)\\inside_croki_03\\407-4\\407-4_cam02_assault01_place04_day_spring_resized.mp4\n",
      "Copying G:\\내 드라이브\\Project\\RGBLab\\ABB\\Data\\01.폭행(assult)\\inside_croki_03\\407-4\\407-4_cam02_assault01_place04_day_winter_resized.mp4 to G:\\내 드라이브\\Project\\RGBLab\\ABB\\Data\\Resized\\01.폭행(assult)\\inside_croki_03\\407-4\\407-4_cam02_assault01_place04_day_winter_resized.mp4\n"
     ]
    },
    {
     "name": "stderr",
     "output_type": "stream",
     "text": [
      "Copying files: 91it [00:04, 16.69it/s]"
     ]
    },
    {
     "name": "stdout",
     "output_type": "stream",
     "text": [
      "Copying G:\\내 드라이브\\Project\\RGBLab\\ABB\\Data\\01.폭행(assult)\\inside_croki_03\\407-4\\407-4_cam03_assault01_place04_day_summer_resized.mp4 to G:\\내 드라이브\\Project\\RGBLab\\ABB\\Data\\Resized\\01.폭행(assult)\\inside_croki_03\\407-4\\407-4_cam03_assault01_place04_day_summer_resized.mp4\n",
      "Copying G:\\내 드라이브\\Project\\RGBLab\\ABB\\Data\\01.폭행(assult)\\inside_croki_03\\407-4\\407-4_cam01_assault01_place04_day_winter_resized.mp4 to G:\\내 드라이브\\Project\\RGBLab\\ABB\\Data\\Resized\\01.폭행(assult)\\inside_croki_03\\407-4\\407-4_cam01_assault01_place04_day_winter_resized.mp4\n",
      "Copying G:\\내 드라이브\\Project\\RGBLab\\ABB\\Data\\01.폭행(assult)\\inside_croki_03\\407-3\\407-3_cam02_assault01_place04_day_spring_resized.mp4 to G:\\내 드라이브\\Project\\RGBLab\\ABB\\Data\\Resized\\01.폭행(assult)\\inside_croki_03\\407-3\\407-3_cam02_assault01_place04_day_spring_resized.mp4\n"
     ]
    },
    {
     "name": "stderr",
     "output_type": "stream",
     "text": [
      "Copying files: 95it [00:04, 17.99it/s]"
     ]
    },
    {
     "name": "stdout",
     "output_type": "stream",
     "text": [
      "Copying G:\\내 드라이브\\Project\\RGBLab\\ABB\\Data\\01.폭행(assult)\\inside_croki_03\\407-3\\407-3_cam01_assault01_place04_day_winter_resized.mp4 to G:\\내 드라이브\\Project\\RGBLab\\ABB\\Data\\Resized\\01.폭행(assult)\\inside_croki_03\\407-3\\407-3_cam01_assault01_place04_day_winter_resized.mp4\n",
      "Copying G:\\내 드라이브\\Project\\RGBLab\\ABB\\Data\\01.폭행(assult)\\inside_croki_03\\407-3\\407-3_cam01_assault01_place04_day_summer_resized.mp4 to G:\\내 드라이브\\Project\\RGBLab\\ABB\\Data\\Resized\\01.폭행(assult)\\inside_croki_03\\407-3\\407-3_cam01_assault01_place04_day_summer_resized.mp4\n",
      "Copying G:\\내 드라이브\\Project\\RGBLab\\ABB\\Data\\01.폭행(assult)\\inside_croki_03\\407-3\\407-3_cam03_assault01_place04_day_winter_resized.mp4 to G:\\내 드라이브\\Project\\RGBLab\\ABB\\Data\\Resized\\01.폭행(assult)\\inside_croki_03\\407-3\\407-3_cam03_assault01_place04_day_winter_resized.mp4\n",
      "Copying G:\\내 드라이브\\Project\\RGBLab\\ABB\\Data\\01.폭행(assult)\\inside_croki_03\\407-3\\407-3_cam03_assault01_place04_day_spring_resized.mp4 to G:\\내 드라이브\\Project\\RGBLab\\ABB\\Data\\Resized\\01.폭행(assult)\\inside_croki_03\\407-3\\407-3_cam03_assault01_place04_day_spring_resized.mp4\n"
     ]
    },
    {
     "name": "stderr",
     "output_type": "stream",
     "text": [
      "Copying files: 97it [00:04, 16.94it/s]"
     ]
    },
    {
     "name": "stdout",
     "output_type": "stream",
     "text": [
      "Copying G:\\내 드라이브\\Project\\RGBLab\\ABB\\Data\\01.폭행(assult)\\inside_croki_03\\407-3\\407-3_cam02_assault01_place04_day_summer_resized.mp4 to G:\\내 드라이브\\Project\\RGBLab\\ABB\\Data\\Resized\\01.폭행(assult)\\inside_croki_03\\407-3\\407-3_cam02_assault01_place04_day_summer_resized.mp4\n",
      "Copying G:\\내 드라이브\\Project\\RGBLab\\ABB\\Data\\01.폭행(assult)\\inside_croki_03\\407-3\\407-3_cam02_assault01_place04_day_winter_resized.mp4 to G:\\내 드라이브\\Project\\RGBLab\\ABB\\Data\\Resized\\01.폭행(assult)\\inside_croki_03\\407-3\\407-3_cam02_assault01_place04_day_winter_resized.mp4\n",
      "Copying G:\\내 드라이브\\Project\\RGBLab\\ABB\\Data\\01.폭행(assult)\\inside_croki_03\\407-3\\407-3_cam01_assault01_place04_day_spring_resized.mp4 to G:\\내 드라이브\\Project\\RGBLab\\ABB\\Data\\Resized\\01.폭행(assult)\\inside_croki_03\\407-3\\407-3_cam01_assault01_place04_day_spring_resized.mp4\n"
     ]
    },
    {
     "name": "stderr",
     "output_type": "stream",
     "text": [
      "Copying files: 102it [00:04, 18.38it/s]"
     ]
    },
    {
     "name": "stdout",
     "output_type": "stream",
     "text": [
      "Copying G:\\내 드라이브\\Project\\RGBLab\\ABB\\Data\\01.폭행(assult)\\inside_croki_03\\407-3\\407-3_cam03_assault01_place04_day_summer_resized.mp4 to G:\\내 드라이브\\Project\\RGBLab\\ABB\\Data\\Resized\\01.폭행(assult)\\inside_croki_03\\407-3\\407-3_cam03_assault01_place04_day_summer_resized.mp4\n",
      "Copying G:\\내 드라이브\\Project\\RGBLab\\ABB\\Data\\01.폭행(assult)\\inside_croki_03\\407-6\\407-6_cam03_assault01_place04_day_spring_resized.mp4 to G:\\내 드라이브\\Project\\RGBLab\\ABB\\Data\\Resized\\01.폭행(assult)\\inside_croki_03\\407-6\\407-6_cam03_assault01_place04_day_spring_resized.mp4\n",
      "Copying G:\\내 드라이브\\Project\\RGBLab\\ABB\\Data\\01.폭행(assult)\\inside_croki_03\\407-6\\407-6_cam02_assault01_place04_day_winter_resized.mp4 to G:\\내 드라이브\\Project\\RGBLab\\ABB\\Data\\Resized\\01.폭행(assult)\\inside_croki_03\\407-6\\407-6_cam02_assault01_place04_day_winter_resized.mp4\n",
      "Copying G:\\내 드라이브\\Project\\RGBLab\\ABB\\Data\\01.폭행(assult)\\inside_croki_03\\407-6\\407-6_cam03_assault01_place04_day_summer_resized.mp4 to G:\\내 드라이브\\Project\\RGBLab\\ABB\\Data\\Resized\\01.폭행(assult)\\inside_croki_03\\407-6\\407-6_cam03_assault01_place04_day_summer_resized.mp4\n"
     ]
    },
    {
     "name": "stderr",
     "output_type": "stream",
     "text": [
      "Copying files: 104it [00:05, 18.65it/s]"
     ]
    },
    {
     "name": "stdout",
     "output_type": "stream",
     "text": [
      "Copying G:\\내 드라이브\\Project\\RGBLab\\ABB\\Data\\01.폭행(assult)\\inside_croki_03\\407-6\\407-6_cam01_assault01_place04_day_winter_resized.mp4 to G:\\내 드라이브\\Project\\RGBLab\\ABB\\Data\\Resized\\01.폭행(assult)\\inside_croki_03\\407-6\\407-6_cam01_assault01_place04_day_winter_resized.mp4\n",
      "Copying G:\\내 드라이브\\Project\\RGBLab\\ABB\\Data\\01.폭행(assult)\\inside_croki_03\\407-6\\407-6_cam01_assault01_place04_day_summer_resized.mp4 to G:\\내 드라이브\\Project\\RGBLab\\ABB\\Data\\Resized\\01.폭행(assult)\\inside_croki_03\\407-6\\407-6_cam01_assault01_place04_day_summer_resized.mp4\n",
      "Copying G:\\내 드라이브\\Project\\RGBLab\\ABB\\Data\\01.폭행(assult)\\inside_croki_03\\407-6\\407-6_cam01_assault01_place04_day_spring_resized.mp4 to G:\\내 드라이브\\Project\\RGBLab\\ABB\\Data\\Resized\\01.폭행(assult)\\inside_croki_03\\407-6\\407-6_cam01_assault01_place04_day_spring_resized.mp4\n",
      "Copying G:\\내 드라이브\\Project\\RGBLab\\ABB\\Data\\01.폭행(assult)\\inside_croki_03\\407-6\\407-6_cam02_assault01_place04_day_summer_resized.mp4 to G:\\내 드라이브\\Project\\RGBLab\\ABB\\Data\\Resized\\01.폭행(assult)\\inside_croki_03\\407-6\\407-6_cam02_assault01_place04_day_summer_resized.mp4\n"
     ]
    },
    {
     "name": "stderr",
     "output_type": "stream",
     "text": [
      "Copying files: 108it [00:05, 18.36it/s]"
     ]
    },
    {
     "name": "stdout",
     "output_type": "stream",
     "text": [
      "Copying G:\\내 드라이브\\Project\\RGBLab\\ABB\\Data\\01.폭행(assult)\\inside_croki_03\\407-6\\407-6_cam03_assault01_place04_day_winter_resized.mp4 to G:\\내 드라이브\\Project\\RGBLab\\ABB\\Data\\Resized\\01.폭행(assult)\\inside_croki_03\\407-6\\407-6_cam03_assault01_place04_day_winter_resized.mp4\n",
      "Copying G:\\내 드라이브\\Project\\RGBLab\\ABB\\Data\\01.폭행(assult)\\inside_croki_03\\407-6\\407-6_cam02_assault01_place04_day_spring_resized.mp4 to G:\\내 드라이브\\Project\\RGBLab\\ABB\\Data\\Resized\\01.폭행(assult)\\inside_croki_03\\407-6\\407-6_cam02_assault01_place04_day_spring_resized.mp4\n",
      "Copying G:\\내 드라이브\\Project\\RGBLab\\ABB\\Data\\01.폭행(assult)\\inside_croki_03\\411-2\\411-2_cam01_assault01_place08_night_winter_resized.mp4 to G:\\내 드라이브\\Project\\RGBLab\\ABB\\Data\\Resized\\01.폭행(assult)\\inside_croki_03\\411-2\\411-2_cam01_assault01_place08_night_winter_resized.mp4\n",
      "Copying G:\\내 드라이브\\Project\\RGBLab\\ABB\\Data\\01.폭행(assult)\\inside_croki_03\\411-2\\411-2_cam03_assault01_place08_night_winter_resized.mp4 to G:\\내 드라이브\\Project\\RGBLab\\ABB\\Data\\Resized\\01.폭행(assult)\\inside_croki_03\\411-2\\411-2_cam03_assault01_place08_night_winter_resized.mp4\n",
      "Copying G:\\내 드라이브\\Project\\RGBLab\\ABB\\Data\\01.폭행(assult)\\inside_croki_03\\411-2\\411-2_cam02_assault01_place08_night_winter_resized.mp4 to G:\\내 드라이브\\Project\\RGBLab\\ABB\\Data\\Resized\\01.폭행(assult)\\inside_croki_03\\411-2\\411-2_cam02_assault01_place08_night_winter_resized.mp4\n"
     ]
    },
    {
     "name": "stderr",
     "output_type": "stream",
     "text": [
      "Copying files: 116it [00:05, 25.18it/s]"
     ]
    },
    {
     "name": "stdout",
     "output_type": "stream",
     "text": [
      "Copying G:\\내 드라이브\\Project\\RGBLab\\ABB\\Data\\01.폭행(assult)\\inside_croki_03\\411-2\\411-2_cam03_assault01_place08_night_spring_resized.mp4 to G:\\내 드라이브\\Project\\RGBLab\\ABB\\Data\\Resized\\01.폭행(assult)\\inside_croki_03\\411-2\\411-2_cam03_assault01_place08_night_spring_resized.mp4\n",
      "Copying G:\\내 드라이브\\Project\\RGBLab\\ABB\\Data\\01.폭행(assult)\\inside_croki_03\\411-2\\411-2_cam01_assault01_place08_night_summer_resized.mp4 to G:\\내 드라이브\\Project\\RGBLab\\ABB\\Data\\Resized\\01.폭행(assult)\\inside_croki_03\\411-2\\411-2_cam01_assault01_place08_night_summer_resized.mp4\n",
      "Copying G:\\내 드라이브\\Project\\RGBLab\\ABB\\Data\\01.폭행(assult)\\inside_croki_03\\411-2\\411-2_cam01_assault01_place08_night_spring_resized.mp4 to G:\\내 드라이브\\Project\\RGBLab\\ABB\\Data\\Resized\\01.폭행(assult)\\inside_croki_03\\411-2\\411-2_cam01_assault01_place08_night_spring_resized.mp4\n",
      "Copying G:\\내 드라이브\\Project\\RGBLab\\ABB\\Data\\01.폭행(assult)\\inside_croki_03\\411-2\\411-2_cam02_assault01_place08_night_spring_resized.mp4 to G:\\내 드라이브\\Project\\RGBLab\\ABB\\Data\\Resized\\01.폭행(assult)\\inside_croki_03\\411-2\\411-2_cam02_assault01_place08_night_spring_resized.mp4\n",
      "Copying G:\\내 드라이브\\Project\\RGBLab\\ABB\\Data\\01.폭행(assult)\\inside_croki_03\\411-2\\411-2_cam03_assault01_place08_night_summer_resized.mp4 to G:\\내 드라이브\\Project\\RGBLab\\ABB\\Data\\Resized\\01.폭행(assult)\\inside_croki_03\\411-2\\411-2_cam03_assault01_place08_night_summer_resized.mp4\n",
      "Copying G:\\내 드라이브\\Project\\RGBLab\\ABB\\Data\\01.폭행(assult)\\inside_croki_03\\411-2\\411-2_cam02_assault01_place08_night_summer_resized.mp4 to G:\\내 드라이브\\Project\\RGBLab\\ABB\\Data\\Resized\\01.폭행(assult)\\inside_croki_03\\411-2\\411-2_cam02_assault01_place08_night_summer_resized.mp4\n"
     ]
    },
    {
     "name": "stderr",
     "output_type": "stream",
     "text": [
      "Copying files: 119it [00:05, 22.39it/s]"
     ]
    },
    {
     "name": "stdout",
     "output_type": "stream",
     "text": [
      "Copying G:\\내 드라이브\\Project\\RGBLab\\ABB\\Data\\01.폭행(assult)\\inside_croki_03\\407-5\\407-5_cam03_assault01_place04_day_summer_resized.mp4 to G:\\내 드라이브\\Project\\RGBLab\\ABB\\Data\\Resized\\01.폭행(assult)\\inside_croki_03\\407-5\\407-5_cam03_assault01_place04_day_summer_resized.mp4\n",
      "Copying G:\\내 드라이브\\Project\\RGBLab\\ABB\\Data\\01.폭행(assult)\\inside_croki_03\\407-5\\407-5_cam03_assault01_place04_day_winter_resized.mp4 to G:\\내 드라이브\\Project\\RGBLab\\ABB\\Data\\Resized\\01.폭행(assult)\\inside_croki_03\\407-5\\407-5_cam03_assault01_place04_day_winter_resized.mp4\n",
      "Copying G:\\내 드라이브\\Project\\RGBLab\\ABB\\Data\\01.폭행(assult)\\inside_croki_03\\407-5\\407-5_cam01_assault01_place04_day_summer_resized.mp4 to G:\\내 드라이브\\Project\\RGBLab\\ABB\\Data\\Resized\\01.폭행(assult)\\inside_croki_03\\407-5\\407-5_cam01_assault01_place04_day_summer_resized.mp4\n"
     ]
    },
    {
     "name": "stderr",
     "output_type": "stream",
     "text": [
      "Copying files: 122it [00:05, 21.47it/s]"
     ]
    },
    {
     "name": "stdout",
     "output_type": "stream",
     "text": [
      "Copying G:\\내 드라이브\\Project\\RGBLab\\ABB\\Data\\01.폭행(assult)\\inside_croki_03\\407-5\\407-5_cam03_assault01_place04_day_spring_resized.mp4 to G:\\내 드라이브\\Project\\RGBLab\\ABB\\Data\\Resized\\01.폭행(assult)\\inside_croki_03\\407-5\\407-5_cam03_assault01_place04_day_spring_resized.mp4\n",
      "Copying G:\\내 드라이브\\Project\\RGBLab\\ABB\\Data\\01.폭행(assult)\\inside_croki_03\\407-5\\407-5_cam01_assault01_place04_day_spring_resized.mp4 to G:\\내 드라이브\\Project\\RGBLab\\ABB\\Data\\Resized\\01.폭행(assult)\\inside_croki_03\\407-5\\407-5_cam01_assault01_place04_day_spring_resized.mp4\n",
      "Copying G:\\내 드라이브\\Project\\RGBLab\\ABB\\Data\\01.폭행(assult)\\inside_croki_03\\407-5\\407-5_cam02_assault01_place04_day_winter_resized.mp4 to G:\\내 드라이브\\Project\\RGBLab\\ABB\\Data\\Resized\\01.폭행(assult)\\inside_croki_03\\407-5\\407-5_cam02_assault01_place04_day_winter_resized.mp4\n",
      "Copying G:\\내 드라이브\\Project\\RGBLab\\ABB\\Data\\01.폭행(assult)\\inside_croki_03\\407-5\\407-5_cam02_assault01_place04_day_spring_resized.mp4 to G:\\내 드라이브\\Project\\RGBLab\\ABB\\Data\\Resized\\01.폭행(assult)\\inside_croki_03\\407-5\\407-5_cam02_assault01_place04_day_spring_resized.mp4\n"
     ]
    },
    {
     "name": "stderr",
     "output_type": "stream",
     "text": [
      "Copying files: 128it [00:06, 21.66it/s]"
     ]
    },
    {
     "name": "stdout",
     "output_type": "stream",
     "text": [
      "Copying G:\\내 드라이브\\Project\\RGBLab\\ABB\\Data\\01.폭행(assult)\\inside_croki_03\\407-5\\407-5_cam01_assault01_place04_day_winter_resized.mp4 to G:\\내 드라이브\\Project\\RGBLab\\ABB\\Data\\Resized\\01.폭행(assult)\\inside_croki_03\\407-5\\407-5_cam01_assault01_place04_day_winter_resized.mp4\n",
      "Copying G:\\내 드라이브\\Project\\RGBLab\\ABB\\Data\\01.폭행(assult)\\inside_croki_03\\407-5\\407-5_cam02_assault01_place04_day_summer_resized.mp4 to G:\\내 드라이브\\Project\\RGBLab\\ABB\\Data\\Resized\\01.폭행(assult)\\inside_croki_03\\407-5\\407-5_cam02_assault01_place04_day_summer_resized.mp4\n",
      "Copying G:\\내 드라이브\\Project\\RGBLab\\ABB\\Data\\01.폭행(assult)\\inside_croki_03\\411-3\\411-3_cam02_assault01_place08_night_winter_resized.mp4 to G:\\내 드라이브\\Project\\RGBLab\\ABB\\Data\\Resized\\01.폭행(assult)\\inside_croki_03\\411-3\\411-3_cam02_assault01_place08_night_winter_resized.mp4\n",
      "Copying G:\\내 드라이브\\Project\\RGBLab\\ABB\\Data\\01.폭행(assult)\\inside_croki_03\\411-3\\411-3_cam03_assault01_place08_night_spring_resized.mp4 to G:\\내 드라이브\\Project\\RGBLab\\ABB\\Data\\Resized\\01.폭행(assult)\\inside_croki_03\\411-3\\411-3_cam03_assault01_place08_night_spring_resized.mp4\n",
      "Copying G:\\내 드라이브\\Project\\RGBLab\\ABB\\Data\\01.폭행(assult)\\inside_croki_03\\411-3\\411-3_cam01_assault01_place08_night_spring_resized.mp4 to G:\\내 드라이브\\Project\\RGBLab\\ABB\\Data\\Resized\\01.폭행(assult)\\inside_croki_03\\411-3\\411-3_cam01_assault01_place08_night_spring_resized.mp4\n"
     ]
    },
    {
     "name": "stderr",
     "output_type": "stream",
     "text": [
      "Copying files: 132it [00:06, 24.73it/s]"
     ]
    },
    {
     "name": "stdout",
     "output_type": "stream",
     "text": [
      "Copying G:\\내 드라이브\\Project\\RGBLab\\ABB\\Data\\01.폭행(assult)\\inside_croki_03\\411-3\\411-3_cam01_assault01_place08_night_summer_resized.mp4 to G:\\내 드라이브\\Project\\RGBLab\\ABB\\Data\\Resized\\01.폭행(assult)\\inside_croki_03\\411-3\\411-3_cam01_assault01_place08_night_summer_resized.mp4\n",
      "Copying G:\\내 드라이브\\Project\\RGBLab\\ABB\\Data\\01.폭행(assult)\\inside_croki_03\\411-3\\411-3_cam02_assault01_place08_night_spring_resized.mp4 to G:\\내 드라이브\\Project\\RGBLab\\ABB\\Data\\Resized\\01.폭행(assult)\\inside_croki_03\\411-3\\411-3_cam02_assault01_place08_night_spring_resized.mp4\n",
      "Copying G:\\내 드라이브\\Project\\RGBLab\\ABB\\Data\\01.폭행(assult)\\inside_croki_03\\411-3\\411-3_cam03_assault01_place08_night_summer_resized.mp4 to G:\\내 드라이브\\Project\\RGBLab\\ABB\\Data\\Resized\\01.폭행(assult)\\inside_croki_03\\411-3\\411-3_cam03_assault01_place08_night_summer_resized.mp4\n",
      "Copying G:\\내 드라이브\\Project\\RGBLab\\ABB\\Data\\01.폭행(assult)\\inside_croki_03\\411-3\\411-3_cam02_assault01_place08_night_summer_resized.mp4 to G:\\내 드라이브\\Project\\RGBLab\\ABB\\Data\\Resized\\01.폭행(assult)\\inside_croki_03\\411-3\\411-3_cam02_assault01_place08_night_summer_resized.mp4\n",
      "Copying G:\\내 드라이브\\Project\\RGBLab\\ABB\\Data\\01.폭행(assult)\\inside_croki_03\\411-3\\411-3_cam01_assault01_place08_night_winter_resized.mp4 to G:\\내 드라이브\\Project\\RGBLab\\ABB\\Data\\Resized\\01.폭행(assult)\\inside_croki_03\\411-3\\411-3_cam01_assault01_place08_night_winter_resized.mp4\n",
      "Copying G:\\내 드라이브\\Project\\RGBLab\\ABB\\Data\\01.폭행(assult)\\inside_croki_03\\411-3\\411-3_cam03_assault01_place08_night_winter_resized.mp4 to G:\\내 드라이브\\Project\\RGBLab\\ABB\\Data\\Resized\\01.폭행(assult)\\inside_croki_03\\411-3\\411-3_cam03_assault01_place08_night_winter_resized.mp4\n"
     ]
    },
    {
     "name": "stderr",
     "output_type": "stream",
     "text": [
      "Copying files: 140it [00:06, 28.87it/s]"
     ]
    },
    {
     "name": "stdout",
     "output_type": "stream",
     "text": [
      "Copying G:\\내 드라이브\\Project\\RGBLab\\ABB\\Data\\01.폭행(assult)\\inside_croki_03\\411-4\\411-4_cam03_assault01_place08_night_summer_resized.mp4 to G:\\내 드라이브\\Project\\RGBLab\\ABB\\Data\\Resized\\01.폭행(assult)\\inside_croki_03\\411-4\\411-4_cam03_assault01_place08_night_summer_resized.mp4\n",
      "Copying G:\\내 드라이브\\Project\\RGBLab\\ABB\\Data\\01.폭행(assult)\\inside_croki_03\\411-4\\411-4_cam02_assault01_place08_night_winter_resized.mp4 to G:\\내 드라이브\\Project\\RGBLab\\ABB\\Data\\Resized\\01.폭행(assult)\\inside_croki_03\\411-4\\411-4_cam02_assault01_place08_night_winter_resized.mp4\n",
      "Copying G:\\내 드라이브\\Project\\RGBLab\\ABB\\Data\\01.폭행(assult)\\inside_croki_03\\411-4\\411-4_cam03_assault01_place08_night_spring_resized.mp4 to G:\\내 드라이브\\Project\\RGBLab\\ABB\\Data\\Resized\\01.폭행(assult)\\inside_croki_03\\411-4\\411-4_cam03_assault01_place08_night_spring_resized.mp4\n",
      "Copying G:\\내 드라이브\\Project\\RGBLab\\ABB\\Data\\01.폭행(assult)\\inside_croki_03\\411-4\\411-4_cam02_assault01_place08_night_spring_resized.mp4 to G:\\내 드라이브\\Project\\RGBLab\\ABB\\Data\\Resized\\01.폭행(assult)\\inside_croki_03\\411-4\\411-4_cam02_assault01_place08_night_spring_resized.mp4\n",
      "Copying G:\\내 드라이브\\Project\\RGBLab\\ABB\\Data\\01.폭행(assult)\\inside_croki_03\\411-4\\411-4_cam01_assault01_place08_night_spring_resized.mp4 to G:\\내 드라이브\\Project\\RGBLab\\ABB\\Data\\Resized\\01.폭행(assult)\\inside_croki_03\\411-4\\411-4_cam01_assault01_place08_night_spring_resized.mp4\n",
      "Copying G:\\내 드라이브\\Project\\RGBLab\\ABB\\Data\\01.폭행(assult)\\inside_croki_03\\411-4\\411-4_cam03_assault01_place08_night_winter_resized.mp4 to G:\\내 드라이브\\Project\\RGBLab\\ABB\\Data\\Resized\\01.폭행(assult)\\inside_croki_03\\411-4\\411-4_cam03_assault01_place08_night_winter_resized.mp4\n"
     ]
    },
    {
     "name": "stderr",
     "output_type": "stream",
     "text": [
      "Copying files: 147it [00:06, 29.65it/s]"
     ]
    },
    {
     "name": "stdout",
     "output_type": "stream",
     "text": [
      "Copying G:\\내 드라이브\\Project\\RGBLab\\ABB\\Data\\01.폭행(assult)\\inside_croki_03\\411-4\\411-4_cam01_assault01_place08_night_summer_resized.mp4 to G:\\내 드라이브\\Project\\RGBLab\\ABB\\Data\\Resized\\01.폭행(assult)\\inside_croki_03\\411-4\\411-4_cam01_assault01_place08_night_summer_resized.mp4\n",
      "Copying G:\\내 드라이브\\Project\\RGBLab\\ABB\\Data\\01.폭행(assult)\\inside_croki_03\\411-4\\411-4_cam01_assault01_place08_night_winter_resized.mp4 to G:\\내 드라이브\\Project\\RGBLab\\ABB\\Data\\Resized\\01.폭행(assult)\\inside_croki_03\\411-4\\411-4_cam01_assault01_place08_night_winter_resized.mp4\n",
      "Copying G:\\내 드라이브\\Project\\RGBLab\\ABB\\Data\\01.폭행(assult)\\inside_croki_03\\411-4\\411-4_cam02_assault01_place08_night_summer_resized.mp4 to G:\\내 드라이브\\Project\\RGBLab\\ABB\\Data\\Resized\\01.폭행(assult)\\inside_croki_03\\411-4\\411-4_cam02_assault01_place08_night_summer_resized.mp4\n",
      "Copying G:\\내 드라이브\\Project\\RGBLab\\ABB\\Data\\01.폭행(assult)\\inside_croki_04\\411-5\\411-5_cam02_assault01_place08_night_spring_resized.mp4 to G:\\내 드라이브\\Project\\RGBLab\\ABB\\Data\\Resized\\01.폭행(assult)\\inside_croki_04\\411-5\\411-5_cam02_assault01_place08_night_spring_resized.mp4\n",
      "Copying G:\\내 드라이브\\Project\\RGBLab\\ABB\\Data\\01.폭행(assult)\\inside_croki_04\\411-5\\411-5_cam02_assault01_place08_night_winter_resized.mp4 to G:\\내 드라이브\\Project\\RGBLab\\ABB\\Data\\Resized\\01.폭행(assult)\\inside_croki_04\\411-5\\411-5_cam02_assault01_place08_night_winter_resized.mp4\n",
      "Copying G:\\내 드라이브\\Project\\RGBLab\\ABB\\Data\\01.폭행(assult)\\inside_croki_04\\411-5\\411-5_cam03_assault01_place08_night_winter_resized.mp4 to G:\\내 드라이브\\Project\\RGBLab\\ABB\\Data\\Resized\\01.폭행(assult)\\inside_croki_04\\411-5\\411-5_cam03_assault01_place08_night_winter_resized.mp4\n"
     ]
    },
    {
     "name": "stderr",
     "output_type": "stream",
     "text": [
      "Copying files: 151it [00:06, 29.06it/s]"
     ]
    },
    {
     "name": "stdout",
     "output_type": "stream",
     "text": [
      "Copying G:\\내 드라이브\\Project\\RGBLab\\ABB\\Data\\01.폭행(assult)\\inside_croki_04\\411-5\\411-5_cam01_assault01_place08_night_spring_resized.mp4 to G:\\내 드라이브\\Project\\RGBLab\\ABB\\Data\\Resized\\01.폭행(assult)\\inside_croki_04\\411-5\\411-5_cam01_assault01_place08_night_spring_resized.mp4\n",
      "Copying G:\\내 드라이브\\Project\\RGBLab\\ABB\\Data\\01.폭행(assult)\\inside_croki_04\\411-5\\411-5_cam01_assault01_place08_night_summer_resized.mp4 to G:\\내 드라이브\\Project\\RGBLab\\ABB\\Data\\Resized\\01.폭행(assult)\\inside_croki_04\\411-5\\411-5_cam01_assault01_place08_night_summer_resized.mp4\n",
      "Copying G:\\내 드라이브\\Project\\RGBLab\\ABB\\Data\\01.폭행(assult)\\inside_croki_04\\411-5\\411-5_cam02_assault01_place08_night_summer_resized.mp4 to G:\\내 드라이브\\Project\\RGBLab\\ABB\\Data\\Resized\\01.폭행(assult)\\inside_croki_04\\411-5\\411-5_cam02_assault01_place08_night_summer_resized.mp4\n",
      "Copying G:\\내 드라이브\\Project\\RGBLab\\ABB\\Data\\01.폭행(assult)\\inside_croki_04\\411-5\\411-5_cam01_assault01_place08_night_winter_resized.mp4 to G:\\내 드라이브\\Project\\RGBLab\\ABB\\Data\\Resized\\01.폭행(assult)\\inside_croki_04\\411-5\\411-5_cam01_assault01_place08_night_winter_resized.mp4\n",
      "Copying G:\\내 드라이브\\Project\\RGBLab\\ABB\\Data\\01.폭행(assult)\\inside_croki_04\\411-5\\411-5_cam03_assault01_place08_night_summer_resized.mp4 to G:\\내 드라이브\\Project\\RGBLab\\ABB\\Data\\Resized\\01.폭행(assult)\\inside_croki_04\\411-5\\411-5_cam03_assault01_place08_night_summer_resized.mp4\n"
     ]
    },
    {
     "name": "stderr",
     "output_type": "stream",
     "text": [
      "Copying files: 157it [00:07, 27.80it/s]"
     ]
    },
    {
     "name": "stdout",
     "output_type": "stream",
     "text": [
      "Copying G:\\내 드라이브\\Project\\RGBLab\\ABB\\Data\\01.폭행(assult)\\inside_croki_04\\411-5\\411-5_cam03_assault01_place08_night_spring_resized.mp4 to G:\\내 드라이브\\Project\\RGBLab\\ABB\\Data\\Resized\\01.폭행(assult)\\inside_croki_04\\411-5\\411-5_cam03_assault01_place08_night_spring_resized.mp4\n",
      "Copying G:\\내 드라이브\\Project\\RGBLab\\ABB\\Data\\01.폭행(assult)\\inside_croki_04\\412-1\\412-1_cam01_assault01_place09_night_summer_resized.mp4 to G:\\내 드라이브\\Project\\RGBLab\\ABB\\Data\\Resized\\01.폭행(assult)\\inside_croki_04\\412-1\\412-1_cam01_assault01_place09_night_summer_resized.mp4\n",
      "Copying G:\\내 드라이브\\Project\\RGBLab\\ABB\\Data\\01.폭행(assult)\\inside_croki_04\\412-1\\412-1_cam01_assault01_place09_night_spring_resized.mp4 to G:\\내 드라이브\\Project\\RGBLab\\ABB\\Data\\Resized\\01.폭행(assult)\\inside_croki_04\\412-1\\412-1_cam01_assault01_place09_night_spring_resized.mp4\n",
      "Copying G:\\내 드라이브\\Project\\RGBLab\\ABB\\Data\\01.폭행(assult)\\inside_croki_04\\412-1\\412-1_cam01_assault01_place09_night_winter_resized.mp4 to G:\\내 드라이브\\Project\\RGBLab\\ABB\\Data\\Resized\\01.폭행(assult)\\inside_croki_04\\412-1\\412-1_cam01_assault01_place09_night_winter_resized.mp4\n",
      "Copying G:\\내 드라이브\\Project\\RGBLab\\ABB\\Data\\01.폭행(assult)\\inside_croki_04\\412-1\\412-1_cam03_assault01_place09_night_summer_resized.mp4 to G:\\내 드라이브\\Project\\RGBLab\\ABB\\Data\\Resized\\01.폭행(assult)\\inside_croki_04\\412-1\\412-1_cam03_assault01_place09_night_summer_resized.mp4\n"
     ]
    },
    {
     "name": "stderr",
     "output_type": "stream",
     "text": [
      "Copying files: 160it [00:07, 26.93it/s]"
     ]
    },
    {
     "name": "stdout",
     "output_type": "stream",
     "text": [
      "Copying G:\\내 드라이브\\Project\\RGBLab\\ABB\\Data\\01.폭행(assult)\\inside_croki_04\\412-1\\412-1_cam02_assault01_place09_night_spring_resized.mp4 to G:\\내 드라이브\\Project\\RGBLab\\ABB\\Data\\Resized\\01.폭행(assult)\\inside_croki_04\\412-1\\412-1_cam02_assault01_place09_night_spring_resized.mp4\n",
      "Copying G:\\내 드라이브\\Project\\RGBLab\\ABB\\Data\\01.폭행(assult)\\inside_croki_04\\412-1\\412-1_cam02_assault01_place09_night_winter_resized.mp4 to G:\\내 드라이브\\Project\\RGBLab\\ABB\\Data\\Resized\\01.폭행(assult)\\inside_croki_04\\412-1\\412-1_cam02_assault01_place09_night_winter_resized.mp4\n",
      "Copying G:\\내 드라이브\\Project\\RGBLab\\ABB\\Data\\01.폭행(assult)\\inside_croki_04\\412-1\\412-1_cam03_assault01_place09_night_winter_resized.mp4 to G:\\내 드라이브\\Project\\RGBLab\\ABB\\Data\\Resized\\01.폭행(assult)\\inside_croki_04\\412-1\\412-1_cam03_assault01_place09_night_winter_resized.mp4\n",
      "Copying G:\\내 드라이브\\Project\\RGBLab\\ABB\\Data\\01.폭행(assult)\\inside_croki_04\\412-1\\412-1_cam02_assault01_place09_night_summer_resized.mp4 to G:\\내 드라이브\\Project\\RGBLab\\ABB\\Data\\Resized\\01.폭행(assult)\\inside_croki_04\\412-1\\412-1_cam02_assault01_place09_night_summer_resized.mp4\n",
      "Copying G:\\내 드라이브\\Project\\RGBLab\\ABB\\Data\\01.폭행(assult)\\inside_croki_04\\412-1\\412-1_cam03_assault01_place09_night_spring_resized.mp4 to G:\\내 드라이브\\Project\\RGBLab\\ABB\\Data\\Resized\\01.폭행(assult)\\inside_croki_04\\412-1\\412-1_cam03_assault01_place09_night_spring_resized.mp4\n"
     ]
    },
    {
     "name": "stderr",
     "output_type": "stream",
     "text": [
      "Copying files: 166it [00:07, 26.32it/s]"
     ]
    },
    {
     "name": "stdout",
     "output_type": "stream",
     "text": [
      "Copying G:\\내 드라이브\\Project\\RGBLab\\ABB\\Data\\01.폭행(assult)\\inside_croki_04\\412-2\\412-2_cam02_assault01_place09_night_spring_resized.mp4 to G:\\내 드라이브\\Project\\RGBLab\\ABB\\Data\\Resized\\01.폭행(assult)\\inside_croki_04\\412-2\\412-2_cam02_assault01_place09_night_spring_resized.mp4\n",
      "Copying G:\\내 드라이브\\Project\\RGBLab\\ABB\\Data\\01.폭행(assult)\\inside_croki_04\\412-2\\412-2_cam02_assault01_place09_night_winter_resized.mp4 to G:\\내 드라이브\\Project\\RGBLab\\ABB\\Data\\Resized\\01.폭행(assult)\\inside_croki_04\\412-2\\412-2_cam02_assault01_place09_night_winter_resized.mp4\n",
      "Copying G:\\내 드라이브\\Project\\RGBLab\\ABB\\Data\\01.폭행(assult)\\inside_croki_04\\412-2\\412-2_cam01_assault01_place09_night_summer_resized.mp4 to G:\\내 드라이브\\Project\\RGBLab\\ABB\\Data\\Resized\\01.폭행(assult)\\inside_croki_04\\412-2\\412-2_cam01_assault01_place09_night_summer_resized.mp4\n",
      "Copying G:\\내 드라이브\\Project\\RGBLab\\ABB\\Data\\01.폭행(assult)\\inside_croki_04\\412-2\\412-2_cam01_assault01_place09_night_spring_resized.mp4 to G:\\내 드라이브\\Project\\RGBLab\\ABB\\Data\\Resized\\01.폭행(assult)\\inside_croki_04\\412-2\\412-2_cam01_assault01_place09_night_spring_resized.mp4\n",
      "Copying G:\\내 드라이브\\Project\\RGBLab\\ABB\\Data\\01.폭행(assult)\\inside_croki_04\\412-2\\412-2_cam03_assault01_place09_night_winter_resized.mp4 to G:\\내 드라이브\\Project\\RGBLab\\ABB\\Data\\Resized\\01.폭행(assult)\\inside_croki_04\\412-2\\412-2_cam03_assault01_place09_night_winter_resized.mp4\n"
     ]
    },
    {
     "name": "stderr",
     "output_type": "stream",
     "text": [
      "Copying files: 170it [00:07, 27.47it/s]"
     ]
    },
    {
     "name": "stdout",
     "output_type": "stream",
     "text": [
      "Copying G:\\내 드라이브\\Project\\RGBLab\\ABB\\Data\\01.폭행(assult)\\inside_croki_04\\412-2\\412-2_cam02_assault01_place09_night_summer_resized.mp4 to G:\\내 드라이브\\Project\\RGBLab\\ABB\\Data\\Resized\\01.폭행(assult)\\inside_croki_04\\412-2\\412-2_cam02_assault01_place09_night_summer_resized.mp4\n",
      "Copying G:\\내 드라이브\\Project\\RGBLab\\ABB\\Data\\01.폭행(assult)\\inside_croki_04\\412-2\\412-2_cam03_assault01_place09_night_spring_resized.mp4 to G:\\내 드라이브\\Project\\RGBLab\\ABB\\Data\\Resized\\01.폭행(assult)\\inside_croki_04\\412-2\\412-2_cam03_assault01_place09_night_spring_resized.mp4\n",
      "Copying G:\\내 드라이브\\Project\\RGBLab\\ABB\\Data\\01.폭행(assult)\\inside_croki_04\\412-2\\412-2_cam01_assault01_place09_night_winter_resized.mp4 to G:\\내 드라이브\\Project\\RGBLab\\ABB\\Data\\Resized\\01.폭행(assult)\\inside_croki_04\\412-2\\412-2_cam01_assault01_place09_night_winter_resized.mp4\n",
      "Copying G:\\내 드라이브\\Project\\RGBLab\\ABB\\Data\\01.폭행(assult)\\inside_croki_04\\412-2\\412-2_cam03_assault01_place09_night_summer_resized.mp4 to G:\\내 드라이브\\Project\\RGBLab\\ABB\\Data\\Resized\\01.폭행(assult)\\inside_croki_04\\412-2\\412-2_cam03_assault01_place09_night_summer_resized.mp4\n",
      "Copying G:\\내 드라이브\\Project\\RGBLab\\ABB\\Data\\01.폭행(assult)\\inside_croki_04\\411-6\\411-6_cam03_assault01_place08_night_winter_resized.mp4 to G:\\내 드라이브\\Project\\RGBLab\\ABB\\Data\\Resized\\01.폭행(assult)\\inside_croki_04\\411-6\\411-6_cam03_assault01_place08_night_winter_resized.mp4\n",
      "Copying G:\\내 드라이브\\Project\\RGBLab\\ABB\\Data\\01.폭행(assult)\\inside_croki_04\\411-6\\411-6_cam02_assault01_place08_night_winter_resized.mp4 to G:\\내 드라이브\\Project\\RGBLab\\ABB\\Data\\Resized\\01.폭행(assult)\\inside_croki_04\\411-6\\411-6_cam02_assault01_place08_night_winter_resized.mp4\n"
     ]
    },
    {
     "name": "stderr",
     "output_type": "stream",
     "text": [
      "Copying files: 174it [00:07, 28.50it/s]"
     ]
    },
    {
     "name": "stdout",
     "output_type": "stream",
     "text": [
      "Copying G:\\내 드라이브\\Project\\RGBLab\\ABB\\Data\\01.폭행(assult)\\inside_croki_04\\411-6\\411-6_cam02_assault01_place08_night_summer_resized.mp4 to G:\\내 드라이브\\Project\\RGBLab\\ABB\\Data\\Resized\\01.폭행(assult)\\inside_croki_04\\411-6\\411-6_cam02_assault01_place08_night_summer_resized.mp4\n",
      "Copying G:\\내 드라이브\\Project\\RGBLab\\ABB\\Data\\01.폭행(assult)\\inside_croki_04\\411-6\\411-6_cam01_assault01_place08_night_winter_resized.mp4 to G:\\내 드라이브\\Project\\RGBLab\\ABB\\Data\\Resized\\01.폭행(assult)\\inside_croki_04\\411-6\\411-6_cam01_assault01_place08_night_winter_resized.mp4\n",
      "Copying G:\\내 드라이브\\Project\\RGBLab\\ABB\\Data\\01.폭행(assult)\\inside_croki_04\\411-6\\411-6_cam03_assault01_place08_night_summer_resized.mp4 to G:\\내 드라이브\\Project\\RGBLab\\ABB\\Data\\Resized\\01.폭행(assult)\\inside_croki_04\\411-6\\411-6_cam03_assault01_place08_night_summer_resized.mp4\n",
      "Copying G:\\내 드라이브\\Project\\RGBLab\\ABB\\Data\\01.폭행(assult)\\inside_croki_04\\411-6\\411-6_cam01_assault01_place08_night_summer_resized.mp4 to G:\\내 드라이브\\Project\\RGBLab\\ABB\\Data\\Resized\\01.폭행(assult)\\inside_croki_04\\411-6\\411-6_cam01_assault01_place08_night_summer_resized.mp4\n"
     ]
    },
    {
     "name": "stderr",
     "output_type": "stream",
     "text": [
      "Copying files: 181it [00:08, 25.18it/s]"
     ]
    },
    {
     "name": "stdout",
     "output_type": "stream",
     "text": [
      "Copying G:\\내 드라이브\\Project\\RGBLab\\ABB\\Data\\01.폭행(assult)\\inside_croki_04\\411-6\\411-6_cam01_assault01_place08_night_spring_resized.mp4 to G:\\내 드라이브\\Project\\RGBLab\\ABB\\Data\\Resized\\01.폭행(assult)\\inside_croki_04\\411-6\\411-6_cam01_assault01_place08_night_spring_resized.mp4\n",
      "Copying G:\\내 드라이브\\Project\\RGBLab\\ABB\\Data\\01.폭행(assult)\\inside_croki_04\\411-6\\411-6_cam02_assault01_place08_night_spring_resized.mp4 to G:\\내 드라이브\\Project\\RGBLab\\ABB\\Data\\Resized\\01.폭행(assult)\\inside_croki_04\\411-6\\411-6_cam02_assault01_place08_night_spring_resized.mp4\n",
      "Copying G:\\내 드라이브\\Project\\RGBLab\\ABB\\Data\\01.폭행(assult)\\inside_croki_04\\411-6\\411-6_cam03_assault01_place08_night_spring_resized.mp4 to G:\\내 드라이브\\Project\\RGBLab\\ABB\\Data\\Resized\\01.폭행(assult)\\inside_croki_04\\411-6\\411-6_cam03_assault01_place08_night_spring_resized.mp4\n",
      "Copying G:\\내 드라이브\\Project\\RGBLab\\ABB\\Data\\01.폭행(assult)\\inside_croki_04\\412-4\\412-4_cam03_assault01_place09_night_winter_resized.mp4 to G:\\내 드라이브\\Project\\RGBLab\\ABB\\Data\\Resized\\01.폭행(assult)\\inside_croki_04\\412-4\\412-4_cam03_assault01_place09_night_winter_resized.mp4\n",
      "Copying G:\\내 드라이브\\Project\\RGBLab\\ABB\\Data\\01.폭행(assult)\\inside_croki_04\\412-4\\412-4_cam01_assault01_place09_night_spring_resized.mp4 to G:\\내 드라이브\\Project\\RGBLab\\ABB\\Data\\Resized\\01.폭행(assult)\\inside_croki_04\\412-4\\412-4_cam01_assault01_place09_night_spring_resized.mp4\n",
      "Copying G:\\내 드라이브\\Project\\RGBLab\\ABB\\Data\\01.폭행(assult)\\inside_croki_04\\412-4\\412-4_cam02_assault01_place09_night_winter_resized.mp4 to G:\\내 드라이브\\Project\\RGBLab\\ABB\\Data\\Resized\\01.폭행(assult)\\inside_croki_04\\412-4\\412-4_cam02_assault01_place09_night_winter_resized.mp4\n"
     ]
    },
    {
     "name": "stderr",
     "output_type": "stream",
     "text": [
      "Copying files: 187it [00:08, 25.12it/s]"
     ]
    },
    {
     "name": "stdout",
     "output_type": "stream",
     "text": [
      "Copying G:\\내 드라이브\\Project\\RGBLab\\ABB\\Data\\01.폭행(assult)\\inside_croki_04\\412-4\\412-4_cam03_assault01_place09_night_summer_resized.mp4 to G:\\내 드라이브\\Project\\RGBLab\\ABB\\Data\\Resized\\01.폭행(assult)\\inside_croki_04\\412-4\\412-4_cam03_assault01_place09_night_summer_resized.mp4\n",
      "Copying G:\\내 드라이브\\Project\\RGBLab\\ABB\\Data\\01.폭행(assult)\\inside_croki_04\\412-4\\412-4_cam01_assault01_place09_night_winter_resized.mp4 to G:\\내 드라이브\\Project\\RGBLab\\ABB\\Data\\Resized\\01.폭행(assult)\\inside_croki_04\\412-4\\412-4_cam01_assault01_place09_night_winter_resized.mp4\n",
      "Copying G:\\내 드라이브\\Project\\RGBLab\\ABB\\Data\\01.폭행(assult)\\inside_croki_04\\412-4\\412-4_cam02_assault01_place09_night_summer_resized.mp4 to G:\\내 드라이브\\Project\\RGBLab\\ABB\\Data\\Resized\\01.폭행(assult)\\inside_croki_04\\412-4\\412-4_cam02_assault01_place09_night_summer_resized.mp4\n",
      "Copying G:\\내 드라이브\\Project\\RGBLab\\ABB\\Data\\01.폭행(assult)\\inside_croki_04\\412-4\\412-4_cam02_assault01_place09_night_spring_resized.mp4 to G:\\내 드라이브\\Project\\RGBLab\\ABB\\Data\\Resized\\01.폭행(assult)\\inside_croki_04\\412-4\\412-4_cam02_assault01_place09_night_spring_resized.mp4\n",
      "Copying G:\\내 드라이브\\Project\\RGBLab\\ABB\\Data\\01.폭행(assult)\\inside_croki_04\\412-4\\412-4_cam03_assault01_place09_night_spring_resized.mp4 to G:\\내 드라이브\\Project\\RGBLab\\ABB\\Data\\Resized\\01.폭행(assult)\\inside_croki_04\\412-4\\412-4_cam03_assault01_place09_night_spring_resized.mp4\n"
     ]
    },
    {
     "name": "stderr",
     "output_type": "stream",
     "text": [
      "Copying files: 193it [00:08, 26.42it/s]"
     ]
    },
    {
     "name": "stdout",
     "output_type": "stream",
     "text": [
      "Copying G:\\내 드라이브\\Project\\RGBLab\\ABB\\Data\\01.폭행(assult)\\inside_croki_04\\412-4\\412-4_cam01_assault01_place09_night_summer_resized.mp4 to G:\\내 드라이브\\Project\\RGBLab\\ABB\\Data\\Resized\\01.폭행(assult)\\inside_croki_04\\412-4\\412-4_cam01_assault01_place09_night_summer_resized.mp4\n",
      "Copying G:\\내 드라이브\\Project\\RGBLab\\ABB\\Data\\01.폭행(assult)\\inside_croki_04\\412-5\\412-5_cam03_assault01_place09_night_summer_resized.mp4 to G:\\내 드라이브\\Project\\RGBLab\\ABB\\Data\\Resized\\01.폭행(assult)\\inside_croki_04\\412-5\\412-5_cam03_assault01_place09_night_summer_resized.mp4\n",
      "Copying G:\\내 드라이브\\Project\\RGBLab\\ABB\\Data\\01.폭행(assult)\\inside_croki_04\\412-5\\412-5_cam02_assault01_place09_night_winter_resized.mp4 to G:\\내 드라이브\\Project\\RGBLab\\ABB\\Data\\Resized\\01.폭행(assult)\\inside_croki_04\\412-5\\412-5_cam02_assault01_place09_night_winter_resized.mp4\n",
      "Copying G:\\내 드라이브\\Project\\RGBLab\\ABB\\Data\\01.폭행(assult)\\inside_croki_04\\412-5\\412-5_cam01_assault01_place09_night_winter_resized.mp4 to G:\\내 드라이브\\Project\\RGBLab\\ABB\\Data\\Resized\\01.폭행(assult)\\inside_croki_04\\412-5\\412-5_cam01_assault01_place09_night_winter_resized.mp4\n",
      "Copying G:\\내 드라이브\\Project\\RGBLab\\ABB\\Data\\01.폭행(assult)\\inside_croki_04\\412-5\\412-5_cam01_assault01_place09_night_spring_resized.mp4 to G:\\내 드라이브\\Project\\RGBLab\\ABB\\Data\\Resized\\01.폭행(assult)\\inside_croki_04\\412-5\\412-5_cam01_assault01_place09_night_spring_resized.mp4\n",
      "Copying G:\\내 드라이브\\Project\\RGBLab\\ABB\\Data\\01.폭행(assult)\\inside_croki_04\\412-5\\412-5_cam03_assault01_place09_night_spring_resized.mp4 to G:\\내 드라이브\\Project\\RGBLab\\ABB\\Data\\Resized\\01.폭행(assult)\\inside_croki_04\\412-5\\412-5_cam03_assault01_place09_night_spring_resized.mp4\n"
     ]
    },
    {
     "name": "stderr",
     "output_type": "stream",
     "text": [
      "Copying files: 196it [00:08, 24.78it/s]"
     ]
    },
    {
     "name": "stdout",
     "output_type": "stream",
     "text": [
      "Copying G:\\내 드라이브\\Project\\RGBLab\\ABB\\Data\\01.폭행(assult)\\inside_croki_04\\412-5\\412-5_cam02_assault01_place09_night_summer_resized.mp4 to G:\\내 드라이브\\Project\\RGBLab\\ABB\\Data\\Resized\\01.폭행(assult)\\inside_croki_04\\412-5\\412-5_cam02_assault01_place09_night_summer_resized.mp4\n",
      "Copying G:\\내 드라이브\\Project\\RGBLab\\ABB\\Data\\01.폭행(assult)\\inside_croki_04\\412-5\\412-5_cam02_assault01_place09_night_spring_resized.mp4 to G:\\내 드라이브\\Project\\RGBLab\\ABB\\Data\\Resized\\01.폭행(assult)\\inside_croki_04\\412-5\\412-5_cam02_assault01_place09_night_spring_resized.mp4\n",
      "Copying G:\\내 드라이브\\Project\\RGBLab\\ABB\\Data\\01.폭행(assult)\\inside_croki_04\\412-5\\412-5_cam03_assault01_place09_night_winter_resized.mp4 to G:\\내 드라이브\\Project\\RGBLab\\ABB\\Data\\Resized\\01.폭행(assult)\\inside_croki_04\\412-5\\412-5_cam03_assault01_place09_night_winter_resized.mp4\n",
      "Copying G:\\내 드라이브\\Project\\RGBLab\\ABB\\Data\\01.폭행(assult)\\inside_croki_04\\412-5\\412-5_cam01_assault01_place09_night_summer_resized.mp4 to G:\\내 드라이브\\Project\\RGBLab\\ABB\\Data\\Resized\\01.폭행(assult)\\inside_croki_04\\412-5\\412-5_cam01_assault01_place09_night_summer_resized.mp4\n",
      "Copying G:\\내 드라이브\\Project\\RGBLab\\ABB\\Data\\01.폭행(assult)\\inside_croki_04\\412-3\\412-3_cam02_assault01_place09_night_winter_resized.mp4 to G:\\내 드라이브\\Project\\RGBLab\\ABB\\Data\\Resized\\01.폭행(assult)\\inside_croki_04\\412-3\\412-3_cam02_assault01_place09_night_winter_resized.mp4\n"
     ]
    },
    {
     "name": "stderr",
     "output_type": "stream",
     "text": [
      "Copying files: 204it [00:08, 28.01it/s]"
     ]
    },
    {
     "name": "stdout",
     "output_type": "stream",
     "text": [
      "Copying G:\\내 드라이브\\Project\\RGBLab\\ABB\\Data\\01.폭행(assult)\\inside_croki_04\\412-3\\412-3_cam01_assault01_place09_night_winter_resized.mp4 to G:\\내 드라이브\\Project\\RGBLab\\ABB\\Data\\Resized\\01.폭행(assult)\\inside_croki_04\\412-3\\412-3_cam01_assault01_place09_night_winter_resized.mp4\n",
      "Copying G:\\내 드라이브\\Project\\RGBLab\\ABB\\Data\\01.폭행(assult)\\inside_croki_04\\412-3\\412-3_cam02_assault01_place09_night_spring_resized.mp4 to G:\\내 드라이브\\Project\\RGBLab\\ABB\\Data\\Resized\\01.폭행(assult)\\inside_croki_04\\412-3\\412-3_cam02_assault01_place09_night_spring_resized.mp4\n",
      "Copying G:\\내 드라이브\\Project\\RGBLab\\ABB\\Data\\01.폭행(assult)\\inside_croki_04\\412-3\\412-3_cam03_assault01_place09_night_winter_resized.mp4 to G:\\내 드라이브\\Project\\RGBLab\\ABB\\Data\\Resized\\01.폭행(assult)\\inside_croki_04\\412-3\\412-3_cam03_assault01_place09_night_winter_resized.mp4\n",
      "Copying G:\\내 드라이브\\Project\\RGBLab\\ABB\\Data\\01.폭행(assult)\\inside_croki_04\\412-3\\412-3_cam02_assault01_place09_night_summer_resized.mp4 to G:\\내 드라이브\\Project\\RGBLab\\ABB\\Data\\Resized\\01.폭행(assult)\\inside_croki_04\\412-3\\412-3_cam02_assault01_place09_night_summer_resized.mp4\n",
      "Copying G:\\내 드라이브\\Project\\RGBLab\\ABB\\Data\\01.폭행(assult)\\inside_croki_04\\412-3\\412-3_cam03_assault01_place09_night_spring_resized.mp4 to G:\\내 드라이브\\Project\\RGBLab\\ABB\\Data\\Resized\\01.폭행(assult)\\inside_croki_04\\412-3\\412-3_cam03_assault01_place09_night_spring_resized.mp4\n",
      "Copying G:\\내 드라이브\\Project\\RGBLab\\ABB\\Data\\01.폭행(assult)\\inside_croki_04\\412-3\\412-3_cam01_assault01_place09_night_summer_resized.mp4 to G:\\내 드라이브\\Project\\RGBLab\\ABB\\Data\\Resized\\01.폭행(assult)\\inside_croki_04\\412-3\\412-3_cam01_assault01_place09_night_summer_resized.mp4\n"
     ]
    },
    {
     "name": "stderr",
     "output_type": "stream",
     "text": [
      "Copying files: 211it [00:09, 28.88it/s]"
     ]
    },
    {
     "name": "stdout",
     "output_type": "stream",
     "text": [
      "Copying G:\\내 드라이브\\Project\\RGBLab\\ABB\\Data\\01.폭행(assult)\\inside_croki_04\\412-3\\412-3_cam03_assault01_place09_night_summer_resized.mp4 to G:\\내 드라이브\\Project\\RGBLab\\ABB\\Data\\Resized\\01.폭행(assult)\\inside_croki_04\\412-3\\412-3_cam03_assault01_place09_night_summer_resized.mp4\n",
      "Copying G:\\내 드라이브\\Project\\RGBLab\\ABB\\Data\\01.폭행(assult)\\inside_croki_04\\412-3\\412-3_cam01_assault01_place09_night_spring_resized.mp4 to G:\\내 드라이브\\Project\\RGBLab\\ABB\\Data\\Resized\\01.폭행(assult)\\inside_croki_04\\412-3\\412-3_cam01_assault01_place09_night_spring_resized.mp4\n",
      "Copying G:\\내 드라이브\\Project\\RGBLab\\ABB\\Data\\01.폭행(assult)\\inside_croki_04\\416-1\\416-1_cam01_assault01_place02_night_winter_resized.mp4 to G:\\내 드라이브\\Project\\RGBLab\\ABB\\Data\\Resized\\01.폭행(assult)\\inside_croki_04\\416-1\\416-1_cam01_assault01_place02_night_winter_resized.mp4\n",
      "Copying G:\\내 드라이브\\Project\\RGBLab\\ABB\\Data\\01.폭행(assult)\\inside_croki_04\\416-1\\416-1_cam03_assault01_place02_night_winter_resized.mp4 to G:\\내 드라이브\\Project\\RGBLab\\ABB\\Data\\Resized\\01.폭행(assult)\\inside_croki_04\\416-1\\416-1_cam03_assault01_place02_night_winter_resized.mp4\n",
      "Copying G:\\내 드라이브\\Project\\RGBLab\\ABB\\Data\\01.폭행(assult)\\inside_croki_04\\416-1\\416-1_cam02_assault01_place02_night_summer_resized.mp4 to G:\\내 드라이브\\Project\\RGBLab\\ABB\\Data\\Resized\\01.폭행(assult)\\inside_croki_04\\416-1\\416-1_cam02_assault01_place02_night_summer_resized.mp4\n",
      "Copying G:\\내 드라이브\\Project\\RGBLab\\ABB\\Data\\01.폭행(assult)\\inside_croki_04\\416-1\\416-1_cam01_assault01_place02_night_spring_resized.mp4 to G:\\내 드라이브\\Project\\RGBLab\\ABB\\Data\\Resized\\01.폭행(assult)\\inside_croki_04\\416-1\\416-1_cam01_assault01_place02_night_spring_resized.mp4\n"
     ]
    },
    {
     "name": "stderr",
     "output_type": "stream",
     "text": [
      "Copying files: 214it [00:09, 28.17it/s]"
     ]
    },
    {
     "name": "stdout",
     "output_type": "stream",
     "text": [
      "Copying G:\\내 드라이브\\Project\\RGBLab\\ABB\\Data\\01.폭행(assult)\\inside_croki_04\\416-1\\416-1_cam03_assault01_place02_night_spring_resized.mp4 to G:\\내 드라이브\\Project\\RGBLab\\ABB\\Data\\Resized\\01.폭행(assult)\\inside_croki_04\\416-1\\416-1_cam03_assault01_place02_night_spring_resized.mp4\n",
      "Copying G:\\내 드라이브\\Project\\RGBLab\\ABB\\Data\\01.폭행(assult)\\inside_croki_04\\416-1\\416-1_cam02_assault01_place02_night_spring_resized.mp4 to G:\\내 드라이브\\Project\\RGBLab\\ABB\\Data\\Resized\\01.폭행(assult)\\inside_croki_04\\416-1\\416-1_cam02_assault01_place02_night_spring_resized.mp4\n",
      "Copying G:\\내 드라이브\\Project\\RGBLab\\ABB\\Data\\01.폭행(assult)\\inside_croki_04\\416-1\\416-1_cam01_assault01_place02_night_summer_resized.mp4 to G:\\내 드라이브\\Project\\RGBLab\\ABB\\Data\\Resized\\01.폭행(assult)\\inside_croki_04\\416-1\\416-1_cam01_assault01_place02_night_summer_resized.mp4\n",
      "Copying G:\\내 드라이브\\Project\\RGBLab\\ABB\\Data\\01.폭행(assult)\\inside_croki_04\\416-1\\416-1_cam03_assault01_place02_night_summer_resized.mp4 to G:\\내 드라이브\\Project\\RGBLab\\ABB\\Data\\Resized\\01.폭행(assult)\\inside_croki_04\\416-1\\416-1_cam03_assault01_place02_night_summer_resized.mp4\n",
      "Copying G:\\내 드라이브\\Project\\RGBLab\\ABB\\Data\\01.폭행(assult)\\inside_croki_04\\416-1\\416-1_cam02_assault01_place02_night_winter_resized.mp4 to G:\\내 드라이브\\Project\\RGBLab\\ABB\\Data\\Resized\\01.폭행(assult)\\inside_croki_04\\416-1\\416-1_cam02_assault01_place02_night_winter_resized.mp4\n"
     ]
    },
    {
     "name": "stderr",
     "output_type": "stream",
     "text": [
      "Copying files: 220it [00:09, 27.89it/s]"
     ]
    },
    {
     "name": "stdout",
     "output_type": "stream",
     "text": [
      "Copying G:\\내 드라이브\\Project\\RGBLab\\ABB\\Data\\01.폭행(assult)\\inside_croki_04\\412-6\\412-6_cam01_assault01_place09_night_spring_resized.mp4 to G:\\내 드라이브\\Project\\RGBLab\\ABB\\Data\\Resized\\01.폭행(assult)\\inside_croki_04\\412-6\\412-6_cam01_assault01_place09_night_spring_resized.mp4\n",
      "Copying G:\\내 드라이브\\Project\\RGBLab\\ABB\\Data\\01.폭행(assult)\\inside_croki_04\\412-6\\412-6_cam02_assault01_place09_night_spring_resized.mp4 to G:\\내 드라이브\\Project\\RGBLab\\ABB\\Data\\Resized\\01.폭행(assult)\\inside_croki_04\\412-6\\412-6_cam02_assault01_place09_night_spring_resized.mp4\n",
      "Copying G:\\내 드라이브\\Project\\RGBLab\\ABB\\Data\\01.폭행(assult)\\inside_croki_04\\412-6\\412-6_cam01_assault01_place09_night_summer_resized.mp4 to G:\\내 드라이브\\Project\\RGBLab\\ABB\\Data\\Resized\\01.폭행(assult)\\inside_croki_04\\412-6\\412-6_cam01_assault01_place09_night_summer_resized.mp4\n",
      "Copying G:\\내 드라이브\\Project\\RGBLab\\ABB\\Data\\01.폭행(assult)\\inside_croki_04\\412-6\\412-6_cam02_assault01_place09_night_winter_resized.mp4 to G:\\내 드라이브\\Project\\RGBLab\\ABB\\Data\\Resized\\01.폭행(assult)\\inside_croki_04\\412-6\\412-6_cam02_assault01_place09_night_winter_resized.mp4\n",
      "Copying G:\\내 드라이브\\Project\\RGBLab\\ABB\\Data\\01.폭행(assult)\\inside_croki_04\\412-6\\412-6_cam02_assault01_place09_night_summer_resized.mp4 to G:\\내 드라이브\\Project\\RGBLab\\ABB\\Data\\Resized\\01.폭행(assult)\\inside_croki_04\\412-6\\412-6_cam02_assault01_place09_night_summer_resized.mp4\n"
     ]
    },
    {
     "name": "stderr",
     "output_type": "stream",
     "text": [
      "Copying files: 223it [00:09, 27.67it/s]"
     ]
    },
    {
     "name": "stdout",
     "output_type": "stream",
     "text": [
      "Copying G:\\내 드라이브\\Project\\RGBLab\\ABB\\Data\\01.폭행(assult)\\inside_croki_04\\412-6\\412-6_cam01_assault01_place09_night_winter_resized.mp4 to G:\\내 드라이브\\Project\\RGBLab\\ABB\\Data\\Resized\\01.폭행(assult)\\inside_croki_04\\412-6\\412-6_cam01_assault01_place09_night_winter_resized.mp4\n",
      "Copying G:\\내 드라이브\\Project\\RGBLab\\ABB\\Data\\01.폭행(assult)\\inside_croki_04\\412-6\\412-6_cam03_assault01_place09_night_spring_resized.mp4 to G:\\내 드라이브\\Project\\RGBLab\\ABB\\Data\\Resized\\01.폭행(assult)\\inside_croki_04\\412-6\\412-6_cam03_assault01_place09_night_spring_resized.mp4\n",
      "Copying G:\\내 드라이브\\Project\\RGBLab\\ABB\\Data\\01.폭행(assult)\\inside_croki_04\\412-6\\412-6_cam03_assault01_place09_night_winter_resized.mp4 to G:\\내 드라이브\\Project\\RGBLab\\ABB\\Data\\Resized\\01.폭행(assult)\\inside_croki_04\\412-6\\412-6_cam03_assault01_place09_night_winter_resized.mp4\n",
      "Copying G:\\내 드라이브\\Project\\RGBLab\\ABB\\Data\\01.폭행(assult)\\inside_croki_04\\412-6\\412-6_cam03_assault01_place09_night_summer_resized.mp4 to G:\\내 드라이브\\Project\\RGBLab\\ABB\\Data\\Resized\\01.폭행(assult)\\inside_croki_04\\412-6\\412-6_cam03_assault01_place09_night_summer_resized.mp4\n",
      "Copying G:\\내 드라이브\\Project\\RGBLab\\ABB\\Data\\01.폭행(assult)\\inside_croki_01\\10-1\\10-1_cam02_assault03_place07_night_spring_resized.mp4 to G:\\내 드라이브\\Project\\RGBLab\\ABB\\Data\\Resized\\01.폭행(assult)\\inside_croki_01\\10-1\\10-1_cam02_assault03_place07_night_spring_resized.mp4\n"
     ]
    },
    {
     "name": "stderr",
     "output_type": "stream",
     "text": [
      "Copying files: 230it [00:09, 29.11it/s]"
     ]
    },
    {
     "name": "stdout",
     "output_type": "stream",
     "text": [
      "Copying G:\\내 드라이브\\Project\\RGBLab\\ABB\\Data\\01.폭행(assult)\\inside_croki_01\\10-1\\10-1_cam01_assault03_place07_night_spring_resized.mp4 to G:\\내 드라이브\\Project\\RGBLab\\ABB\\Data\\Resized\\01.폭행(assult)\\inside_croki_01\\10-1\\10-1_cam01_assault03_place07_night_spring_resized.mp4\n",
      "Copying G:\\내 드라이브\\Project\\RGBLab\\ABB\\Data\\01.폭행(assult)\\inside_croki_01\\10-1\\10-1_cam03_assault03_place07_night_spring_resized.mp4 to G:\\내 드라이브\\Project\\RGBLab\\ABB\\Data\\Resized\\01.폭행(assult)\\inside_croki_01\\10-1\\10-1_cam03_assault03_place07_night_spring_resized.mp4\n",
      "Copying G:\\내 드라이브\\Project\\RGBLab\\ABB\\Data\\01.폭행(assult)\\inside_croki_01\\10-1\\10-1_cam01_assault03_place07_night_summer_resized.mp4 to G:\\내 드라이브\\Project\\RGBLab\\ABB\\Data\\Resized\\01.폭행(assult)\\inside_croki_01\\10-1\\10-1_cam01_assault03_place07_night_summer_resized.mp4\n",
      "Copying G:\\내 드라이브\\Project\\RGBLab\\ABB\\Data\\01.폭행(assult)\\inside_croki_01\\10-1\\10-1_cam03_assault03_place07_night_summer_resized.mp4 to G:\\내 드라이브\\Project\\RGBLab\\ABB\\Data\\Resized\\01.폭행(assult)\\inside_croki_01\\10-1\\10-1_cam03_assault03_place07_night_summer_resized.mp4\n",
      "Copying G:\\내 드라이브\\Project\\RGBLab\\ABB\\Data\\01.폭행(assult)\\inside_croki_01\\10-1\\10-1_cam02_assault03_place07_night_summer_resized.mp4 to G:\\내 드라이브\\Project\\RGBLab\\ABB\\Data\\Resized\\01.폭행(assult)\\inside_croki_01\\10-1\\10-1_cam02_assault03_place07_night_summer_resized.mp4\n",
      "Copying G:\\내 드라이브\\Project\\RGBLab\\ABB\\Data\\01.폭행(assult)\\inside_croki_01\\10-1\\10-1_cam01_assault03_place07_night_winter_resized.mp4 to G:\\내 드라이브\\Project\\RGBLab\\ABB\\Data\\Resized\\01.폭행(assult)\\inside_croki_01\\10-1\\10-1_cam01_assault03_place07_night_winter_resized.mp4\n",
      "Copying G:\\내 드라이브\\Project\\RGBLab\\ABB\\Data\\01.폭행(assult)\\inside_croki_01\\10-1\\10-1_cam02_assault03_place07_night_winter_resized.mp4 to G:\\내 드라이브\\Project\\RGBLab\\ABB\\Data\\Resized\\01.폭행(assult)\\inside_croki_01\\10-1\\10-1_cam02_assault03_place07_night_winter_resized.mp4\n"
     ]
    },
    {
     "name": "stderr",
     "output_type": "stream",
     "text": [
      "Copying files: 238it [00:10, 30.82it/s]"
     ]
    },
    {
     "name": "stdout",
     "output_type": "stream",
     "text": [
      "Copying G:\\내 드라이브\\Project\\RGBLab\\ABB\\Data\\01.폭행(assult)\\inside_croki_01\\10-1\\10-1_cam03_assault03_place07_night_winter_resized.mp4 to G:\\내 드라이브\\Project\\RGBLab\\ABB\\Data\\Resized\\01.폭행(assult)\\inside_croki_01\\10-1\\10-1_cam03_assault03_place07_night_winter_resized.mp4\n",
      "Copying G:\\내 드라이브\\Project\\RGBLab\\ABB\\Data\\01.폭행(assult)\\inside_croki_01\\10-4\\10-4_cam02_assault03_place07_night_winter_resized.mp4 to G:\\내 드라이브\\Project\\RGBLab\\ABB\\Data\\Resized\\01.폭행(assult)\\inside_croki_01\\10-4\\10-4_cam02_assault03_place07_night_winter_resized.mp4\n",
      "Copying G:\\내 드라이브\\Project\\RGBLab\\ABB\\Data\\01.폭행(assult)\\inside_croki_01\\10-4\\10-4_cam03_assault03_place07_night_winter_resized.mp4 to G:\\내 드라이브\\Project\\RGBLab\\ABB\\Data\\Resized\\01.폭행(assult)\\inside_croki_01\\10-4\\10-4_cam03_assault03_place07_night_winter_resized.mp4\n",
      "Copying G:\\내 드라이브\\Project\\RGBLab\\ABB\\Data\\01.폭행(assult)\\inside_croki_01\\10-4\\10-4_cam01_assault03_place07_night_winter_resized.mp4 to G:\\내 드라이브\\Project\\RGBLab\\ABB\\Data\\Resized\\01.폭행(assult)\\inside_croki_01\\10-4\\10-4_cam01_assault03_place07_night_winter_resized.mp4\n",
      "Copying G:\\내 드라이브\\Project\\RGBLab\\ABB\\Data\\01.폭행(assult)\\inside_croki_01\\10-3\\10-3_cam02_assault03_place07_night_summer_resized.mp4 to G:\\내 드라이브\\Project\\RGBLab\\ABB\\Data\\Resized\\01.폭행(assult)\\inside_croki_01\\10-3\\10-3_cam02_assault03_place07_night_summer_resized.mp4\n",
      "Copying G:\\내 드라이브\\Project\\RGBLab\\ABB\\Data\\01.폭행(assult)\\inside_croki_01\\10-3\\10-3_cam01_assault03_place07_night_summer_resized.mp4 to G:\\내 드라이브\\Project\\RGBLab\\ABB\\Data\\Resized\\01.폭행(assult)\\inside_croki_01\\10-3\\10-3_cam01_assault03_place07_night_summer_resized.mp4\n",
      "Copying G:\\내 드라이브\\Project\\RGBLab\\ABB\\Data\\01.폭행(assult)\\inside_croki_01\\10-3\\10-3_cam03_assault03_place07_night_spring_resized.mp4 to G:\\내 드라이브\\Project\\RGBLab\\ABB\\Data\\Resized\\01.폭행(assult)\\inside_croki_01\\10-3\\10-3_cam03_assault03_place07_night_spring_resized.mp4\n"
     ]
    },
    {
     "name": "stderr",
     "output_type": "stream",
     "text": [
      "Copying files: 242it [00:10, 30.90it/s]"
     ]
    },
    {
     "name": "stdout",
     "output_type": "stream",
     "text": [
      "Copying G:\\내 드라이브\\Project\\RGBLab\\ABB\\Data\\01.폭행(assult)\\inside_croki_01\\10-3\\10-3_cam03_assault03_place07_night_summer_resized.mp4 to G:\\내 드라이브\\Project\\RGBLab\\ABB\\Data\\Resized\\01.폭행(assult)\\inside_croki_01\\10-3\\10-3_cam03_assault03_place07_night_summer_resized.mp4\n",
      "Copying G:\\내 드라이브\\Project\\RGBLab\\ABB\\Data\\01.폭행(assult)\\inside_croki_01\\10-3\\10-3_cam02_assault03_place07_night_winter_resized.mp4 to G:\\내 드라이브\\Project\\RGBLab\\ABB\\Data\\Resized\\01.폭행(assult)\\inside_croki_01\\10-3\\10-3_cam02_assault03_place07_night_winter_resized.mp4\n",
      "Copying G:\\내 드라이브\\Project\\RGBLab\\ABB\\Data\\01.폭행(assult)\\inside_croki_01\\10-3\\10-3_cam02_assault03_place07_night_spring_resized.mp4 to G:\\내 드라이브\\Project\\RGBLab\\ABB\\Data\\Resized\\01.폭행(assult)\\inside_croki_01\\10-3\\10-3_cam02_assault03_place07_night_spring_resized.mp4\n",
      "Copying G:\\내 드라이브\\Project\\RGBLab\\ABB\\Data\\01.폭행(assult)\\inside_croki_01\\10-3\\10-3_cam03_assault03_place07_night_winter_resized.mp4 to G:\\내 드라이브\\Project\\RGBLab\\ABB\\Data\\Resized\\01.폭행(assult)\\inside_croki_01\\10-3\\10-3_cam03_assault03_place07_night_winter_resized.mp4\n",
      "Copying G:\\내 드라이브\\Project\\RGBLab\\ABB\\Data\\01.폭행(assult)\\inside_croki_01\\10-3\\10-3_cam01_assault03_place07_night_winter_resized.mp4 to G:\\내 드라이브\\Project\\RGBLab\\ABB\\Data\\Resized\\01.폭행(assult)\\inside_croki_01\\10-3\\10-3_cam01_assault03_place07_night_winter_resized.mp4\n",
      "Copying G:\\내 드라이브\\Project\\RGBLab\\ABB\\Data\\01.폭행(assult)\\inside_croki_01\\10-3\\10-3_cam01_assault03_place07_night_spring_resized.mp4 to G:\\내 드라이브\\Project\\RGBLab\\ABB\\Data\\Resized\\01.폭행(assult)\\inside_croki_01\\10-3\\10-3_cam01_assault03_place07_night_spring_resized.mp4\n"
     ]
    },
    {
     "name": "stderr",
     "output_type": "stream",
     "text": [
      "Copying files: 250it [00:10, 31.02it/s]"
     ]
    },
    {
     "name": "stdout",
     "output_type": "stream",
     "text": [
      "Copying G:\\내 드라이브\\Project\\RGBLab\\ABB\\Data\\01.폭행(assult)\\inside_croki_01\\10-2\\10-2_cam02_assault03_place07_night_summer_resized.mp4 to G:\\내 드라이브\\Project\\RGBLab\\ABB\\Data\\Resized\\01.폭행(assult)\\inside_croki_01\\10-2\\10-2_cam02_assault03_place07_night_summer_resized.mp4\n",
      "Copying G:\\내 드라이브\\Project\\RGBLab\\ABB\\Data\\01.폭행(assult)\\inside_croki_01\\10-2\\10-2_cam02_assault03_place07_night_winter_resized.mp4 to G:\\내 드라이브\\Project\\RGBLab\\ABB\\Data\\Resized\\01.폭행(assult)\\inside_croki_01\\10-2\\10-2_cam02_assault03_place07_night_winter_resized.mp4\n",
      "Copying G:\\내 드라이브\\Project\\RGBLab\\ABB\\Data\\01.폭행(assult)\\inside_croki_01\\10-2\\10-2_cam02_assault03_place07_night_spring_resized.mp4 to G:\\내 드라이브\\Project\\RGBLab\\ABB\\Data\\Resized\\01.폭행(assult)\\inside_croki_01\\10-2\\10-2_cam02_assault03_place07_night_spring_resized.mp4\n",
      "Copying G:\\내 드라이브\\Project\\RGBLab\\ABB\\Data\\01.폭행(assult)\\inside_croki_01\\10-2\\10-2_cam03_assault03_place07_night_winter_resized.mp4 to G:\\내 드라이브\\Project\\RGBLab\\ABB\\Data\\Resized\\01.폭행(assult)\\inside_croki_01\\10-2\\10-2_cam03_assault03_place07_night_winter_resized.mp4\n",
      "Copying G:\\내 드라이브\\Project\\RGBLab\\ABB\\Data\\01.폭행(assult)\\inside_croki_01\\10-2\\10-2_cam01_assault03_place07_night_winter_resized.mp4 to G:\\내 드라이브\\Project\\RGBLab\\ABB\\Data\\Resized\\01.폭행(assult)\\inside_croki_01\\10-2\\10-2_cam01_assault03_place07_night_winter_resized.mp4\n",
      "Copying G:\\내 드라이브\\Project\\RGBLab\\ABB\\Data\\01.폭행(assult)\\inside_croki_01\\10-2\\10-2_cam01_assault03_place07_night_spring_resized.mp4 to G:\\내 드라이브\\Project\\RGBLab\\ABB\\Data\\Resized\\01.폭행(assult)\\inside_croki_01\\10-2\\10-2_cam01_assault03_place07_night_spring_resized.mp4\n",
      "Copying G:\\내 드라이브\\Project\\RGBLab\\ABB\\Data\\01.폭행(assult)\\inside_croki_01\\10-2\\10-2_cam03_assault03_place07_night_spring_resized.mp4 to G:\\내 드라이브\\Project\\RGBLab\\ABB\\Data\\Resized\\01.폭행(assult)\\inside_croki_01\\10-2\\10-2_cam03_assault03_place07_night_spring_resized.mp4\n"
     ]
    },
    {
     "name": "stderr",
     "output_type": "stream",
     "text": [
      "Copying files: 258it [00:10, 29.95it/s]"
     ]
    },
    {
     "name": "stdout",
     "output_type": "stream",
     "text": [
      "Copying G:\\내 드라이브\\Project\\RGBLab\\ABB\\Data\\01.폭행(assult)\\inside_croki_01\\10-2\\10-2_cam01_assault03_place07_night_summer_resized.mp4 to G:\\내 드라이브\\Project\\RGBLab\\ABB\\Data\\Resized\\01.폭행(assult)\\inside_croki_01\\10-2\\10-2_cam01_assault03_place07_night_summer_resized.mp4\n",
      "Copying G:\\내 드라이브\\Project\\RGBLab\\ABB\\Data\\01.폭행(assult)\\inside_croki_01\\10-2\\10-2_cam03_assault03_place07_night_summer_resized.mp4 to G:\\내 드라이브\\Project\\RGBLab\\ABB\\Data\\Resized\\01.폭행(assult)\\inside_croki_01\\10-2\\10-2_cam03_assault03_place07_night_summer_resized.mp4\n",
      "Copying G:\\내 드라이브\\Project\\RGBLab\\ABB\\Data\\01.폭행(assult)\\inside_croki_01\\10-5\\10-5_cam02_assault03_place07_night_spring_resized.mp4 to G:\\내 드라이브\\Project\\RGBLab\\ABB\\Data\\Resized\\01.폭행(assult)\\inside_croki_01\\10-5\\10-5_cam02_assault03_place07_night_spring_resized.mp4\n",
      "Copying G:\\내 드라이브\\Project\\RGBLab\\ABB\\Data\\01.폭행(assult)\\inside_croki_01\\22-2\\22-2_cam02_assault01_place07_night_summer_resized.mp4 to G:\\내 드라이브\\Project\\RGBLab\\ABB\\Data\\Resized\\01.폭행(assult)\\inside_croki_01\\22-2\\22-2_cam02_assault01_place07_night_summer_resized.mp4\n",
      "Copying G:\\내 드라이브\\Project\\RGBLab\\ABB\\Data\\01.폭행(assult)\\inside_croki_01\\22-2\\22-2_cam02_assault01_place07_night_spring_resized.mp4 to G:\\내 드라이브\\Project\\RGBLab\\ABB\\Data\\Resized\\01.폭행(assult)\\inside_croki_01\\22-2\\22-2_cam02_assault01_place07_night_spring_resized.mp4\n"
     ]
    },
    {
     "name": "stderr",
     "output_type": "stream",
     "text": [
      "Copying files: 262it [00:10, 30.69it/s]"
     ]
    },
    {
     "name": "stdout",
     "output_type": "stream",
     "text": [
      "Copying G:\\내 드라이브\\Project\\RGBLab\\ABB\\Data\\01.폭행(assult)\\inside_croki_01\\22-2\\22-2_cam01_assault01_place07_night_winter_resized.mp4 to G:\\내 드라이브\\Project\\RGBLab\\ABB\\Data\\Resized\\01.폭행(assult)\\inside_croki_01\\22-2\\22-2_cam01_assault01_place07_night_winter_resized.mp4\n",
      "Copying G:\\내 드라이브\\Project\\RGBLab\\ABB\\Data\\01.폭행(assult)\\inside_croki_01\\22-2\\22-2_cam03_assault01_place07_night_spring_resized.mp4 to G:\\내 드라이브\\Project\\RGBLab\\ABB\\Data\\Resized\\01.폭행(assult)\\inside_croki_01\\22-2\\22-2_cam03_assault01_place07_night_spring_resized.mp4\n",
      "Copying G:\\내 드라이브\\Project\\RGBLab\\ABB\\Data\\01.폭행(assult)\\inside_croki_01\\22-2\\22-2_cam01_assault01_place07_night_spring_resized.mp4 to G:\\내 드라이브\\Project\\RGBLab\\ABB\\Data\\Resized\\01.폭행(assult)\\inside_croki_01\\22-2\\22-2_cam01_assault01_place07_night_spring_resized.mp4\n",
      "Copying G:\\내 드라이브\\Project\\RGBLab\\ABB\\Data\\01.폭행(assult)\\inside_croki_01\\22-2\\22-2_cam02_assault01_place07_night_winter_resized.mp4 to G:\\내 드라이브\\Project\\RGBLab\\ABB\\Data\\Resized\\01.폭행(assult)\\inside_croki_01\\22-2\\22-2_cam02_assault01_place07_night_winter_resized.mp4\n",
      "Copying G:\\내 드라이브\\Project\\RGBLab\\ABB\\Data\\01.폭행(assult)\\inside_croki_01\\22-2\\22-2_cam03_assault01_place07_night_winter_resized.mp4 to G:\\내 드라이브\\Project\\RGBLab\\ABB\\Data\\Resized\\01.폭행(assult)\\inside_croki_01\\22-2\\22-2_cam03_assault01_place07_night_winter_resized.mp4\n",
      "Copying G:\\내 드라이브\\Project\\RGBLab\\ABB\\Data\\01.폭행(assult)\\inside_croki_01\\22-2\\22-2_cam03_assault01_place07_night_summer_resized.mp4 to G:\\내 드라이브\\Project\\RGBLab\\ABB\\Data\\Resized\\01.폭행(assult)\\inside_croki_01\\22-2\\22-2_cam03_assault01_place07_night_summer_resized.mp4\n"
     ]
    },
    {
     "name": "stderr",
     "output_type": "stream",
     "text": [
      "Copying files: 266it [00:11, 30.33it/s]"
     ]
    },
    {
     "name": "stdout",
     "output_type": "stream",
     "text": [
      "Copying G:\\내 드라이브\\Project\\RGBLab\\ABB\\Data\\01.폭행(assult)\\inside_croki_01\\22-2\\22-2_cam01_assault01_place07_night_summer_resized.mp4 to G:\\내 드라이브\\Project\\RGBLab\\ABB\\Data\\Resized\\01.폭행(assult)\\inside_croki_01\\22-2\\22-2_cam01_assault01_place07_night_summer_resized.mp4\n",
      "Copying G:\\내 드라이브\\Project\\RGBLab\\ABB\\Data\\01.폭행(assult)\\inside_croki_01\\22-3\\22-3_cam03_assault01_place07_night_summer_resized.mp4 to G:\\내 드라이브\\Project\\RGBLab\\ABB\\Data\\Resized\\01.폭행(assult)\\inside_croki_01\\22-3\\22-3_cam03_assault01_place07_night_summer_resized.mp4\n",
      "Copying G:\\내 드라이브\\Project\\RGBLab\\ABB\\Data\\01.폭행(assult)\\inside_croki_01\\22-3\\22-3_cam02_assault01_place07_night_spring_resized.mp4 to G:\\내 드라이브\\Project\\RGBLab\\ABB\\Data\\Resized\\01.폭행(assult)\\inside_croki_01\\22-3\\22-3_cam02_assault01_place07_night_spring_resized.mp4\n",
      "Copying G:\\내 드라이브\\Project\\RGBLab\\ABB\\Data\\01.폭행(assult)\\inside_croki_01\\22-3\\22-3_cam01_assault01_place07_night_summer_resized.mp4 to G:\\내 드라이브\\Project\\RGBLab\\ABB\\Data\\Resized\\01.폭행(assult)\\inside_croki_01\\22-3\\22-3_cam01_assault01_place07_night_summer_resized.mp4\n",
      "Copying G:\\내 드라이브\\Project\\RGBLab\\ABB\\Data\\01.폭행(assult)\\inside_croki_01\\22-3\\22-3_cam02_assault01_place07_night_summer_resized.mp4 to G:\\내 드라이브\\Project\\RGBLab\\ABB\\Data\\Resized\\01.폭행(assult)\\inside_croki_01\\22-3\\22-3_cam02_assault01_place07_night_summer_resized.mp4\n"
     ]
    },
    {
     "name": "stderr",
     "output_type": "stream",
     "text": [
      "Copying files: 274it [00:11, 30.56it/s]"
     ]
    },
    {
     "name": "stdout",
     "output_type": "stream",
     "text": [
      "Copying G:\\내 드라이브\\Project\\RGBLab\\ABB\\Data\\01.폭행(assult)\\inside_croki_01\\22-3\\22-3_cam03_assault01_place07_night_spring_resized.mp4 to G:\\내 드라이브\\Project\\RGBLab\\ABB\\Data\\Resized\\01.폭행(assult)\\inside_croki_01\\22-3\\22-3_cam03_assault01_place07_night_spring_resized.mp4\n",
      "Copying G:\\내 드라이브\\Project\\RGBLab\\ABB\\Data\\01.폭행(assult)\\inside_croki_01\\22-3\\22-3_cam02_assault01_place07_night_winter_resized.mp4 to G:\\내 드라이브\\Project\\RGBLab\\ABB\\Data\\Resized\\01.폭행(assult)\\inside_croki_01\\22-3\\22-3_cam02_assault01_place07_night_winter_resized.mp4\n",
      "Copying G:\\내 드라이브\\Project\\RGBLab\\ABB\\Data\\01.폭행(assult)\\inside_croki_01\\22-3\\22-3_cam01_assault01_place07_night_spring_resized.mp4 to G:\\내 드라이브\\Project\\RGBLab\\ABB\\Data\\Resized\\01.폭행(assult)\\inside_croki_01\\22-3\\22-3_cam01_assault01_place07_night_spring_resized.mp4\n",
      "Copying G:\\내 드라이브\\Project\\RGBLab\\ABB\\Data\\01.폭행(assult)\\inside_croki_01\\22-3\\22-3_cam03_assault01_place07_night_winter_resized.mp4 to G:\\내 드라이브\\Project\\RGBLab\\ABB\\Data\\Resized\\01.폭행(assult)\\inside_croki_01\\22-3\\22-3_cam03_assault01_place07_night_winter_resized.mp4\n",
      "Copying G:\\내 드라이브\\Project\\RGBLab\\ABB\\Data\\01.폭행(assult)\\inside_croki_01\\22-3\\22-3_cam01_assault01_place07_night_winter_resized.mp4 to G:\\내 드라이브\\Project\\RGBLab\\ABB\\Data\\Resized\\01.폭행(assult)\\inside_croki_01\\22-3\\22-3_cam01_assault01_place07_night_winter_resized.mp4\n",
      "Copying G:\\내 드라이브\\Project\\RGBLab\\ABB\\Data\\01.폭행(assult)\\inside_croki_01\\22-4\\22-4_cam02_assault01_place07_night_winter_resized.mp4 to G:\\내 드라이브\\Project\\RGBLab\\ABB\\Data\\Resized\\01.폭행(assult)\\inside_croki_01\\22-4\\22-4_cam02_assault01_place07_night_winter_resized.mp4\n"
     ]
    },
    {
     "name": "stderr",
     "output_type": "stream",
     "text": [
      "Copying files: 278it [00:11, 30.41it/s]"
     ]
    },
    {
     "name": "stdout",
     "output_type": "stream",
     "text": [
      "Copying G:\\내 드라이브\\Project\\RGBLab\\ABB\\Data\\01.폭행(assult)\\inside_croki_01\\22-4\\22-4_cam01_assault01_place07_night_spring_resized.mp4 to G:\\내 드라이브\\Project\\RGBLab\\ABB\\Data\\Resized\\01.폭행(assult)\\inside_croki_01\\22-4\\22-4_cam01_assault01_place07_night_spring_resized.mp4\n",
      "Copying G:\\내 드라이브\\Project\\RGBLab\\ABB\\Data\\01.폭행(assult)\\inside_croki_01\\22-4\\22-4_cam01_assault01_place07_night_winter_resized.mp4 to G:\\내 드라이브\\Project\\RGBLab\\ABB\\Data\\Resized\\01.폭행(assult)\\inside_croki_01\\22-4\\22-4_cam01_assault01_place07_night_winter_resized.mp4\n",
      "Copying G:\\내 드라이브\\Project\\RGBLab\\ABB\\Data\\01.폭행(assult)\\inside_croki_01\\22-4\\22-4_cam03_assault01_place07_night_winter_resized.mp4 to G:\\내 드라이브\\Project\\RGBLab\\ABB\\Data\\Resized\\01.폭행(assult)\\inside_croki_01\\22-4\\22-4_cam03_assault01_place07_night_winter_resized.mp4\n",
      "Copying G:\\내 드라이브\\Project\\RGBLab\\ABB\\Data\\01.폭행(assult)\\inside_croki_01\\22-4\\22-4_cam01_assault01_place07_night_summer_resized.mp4 to G:\\내 드라이브\\Project\\RGBLab\\ABB\\Data\\Resized\\01.폭행(assult)\\inside_croki_01\\22-4\\22-4_cam01_assault01_place07_night_summer_resized.mp4\n",
      "Copying G:\\내 드라이브\\Project\\RGBLab\\ABB\\Data\\01.폭행(assult)\\inside_croki_01\\22-4\\22-4_cam03_assault01_place07_night_spring_resized.mp4 to G:\\내 드라이브\\Project\\RGBLab\\ABB\\Data\\Resized\\01.폭행(assult)\\inside_croki_01\\22-4\\22-4_cam03_assault01_place07_night_spring_resized.mp4\n",
      "Copying G:\\내 드라이브\\Project\\RGBLab\\ABB\\Data\\01.폭행(assult)\\inside_croki_01\\22-4\\22-4_cam03_assault01_place07_night_summer_resized.mp4 to G:\\내 드라이브\\Project\\RGBLab\\ABB\\Data\\Resized\\01.폭행(assult)\\inside_croki_01\\22-4\\22-4_cam03_assault01_place07_night_summer_resized.mp4\n"
     ]
    },
    {
     "name": "stderr",
     "output_type": "stream",
     "text": [
      "Copying files: 282it [00:11, 30.38it/s]"
     ]
    },
    {
     "name": "stdout",
     "output_type": "stream",
     "text": [
      "Copying G:\\내 드라이브\\Project\\RGBLab\\ABB\\Data\\01.폭행(assult)\\inside_croki_01\\22-4\\22-4_cam02_assault01_place07_night_spring_resized.mp4 to G:\\내 드라이브\\Project\\RGBLab\\ABB\\Data\\Resized\\01.폭행(assult)\\inside_croki_01\\22-4\\22-4_cam02_assault01_place07_night_spring_resized.mp4\n",
      "Copying G:\\내 드라이브\\Project\\RGBLab\\ABB\\Data\\01.폭행(assult)\\inside_croki_01\\22-4\\22-4_cam02_assault01_place07_night_summer_resized.mp4 to G:\\내 드라이브\\Project\\RGBLab\\ABB\\Data\\Resized\\01.폭행(assult)\\inside_croki_01\\22-4\\22-4_cam02_assault01_place07_night_summer_resized.mp4\n",
      "Copying G:\\내 드라이브\\Project\\RGBLab\\ABB\\Data\\01.폭행(assult)\\inside_croki_01\\22-5\\22-5_cam03_assault01_place07_night_summer_resized.mp4 to G:\\내 드라이브\\Project\\RGBLab\\ABB\\Data\\Resized\\01.폭행(assult)\\inside_croki_01\\22-5\\22-5_cam03_assault01_place07_night_summer_resized.mp4\n",
      "Copying G:\\내 드라이브\\Project\\RGBLab\\ABB\\Data\\01.폭행(assult)\\inside_croki_01\\22-5\\22-5_cam01_assault01_place07_night_summer_resized.mp4 to G:\\내 드라이브\\Project\\RGBLab\\ABB\\Data\\Resized\\01.폭행(assult)\\inside_croki_01\\22-5\\22-5_cam01_assault01_place07_night_summer_resized.mp4\n"
     ]
    },
    {
     "name": "stderr",
     "output_type": "stream",
     "text": [
      "Copying files: 289it [00:11, 27.30it/s]"
     ]
    },
    {
     "name": "stdout",
     "output_type": "stream",
     "text": [
      "Copying G:\\내 드라이브\\Project\\RGBLab\\ABB\\Data\\01.폭행(assult)\\inside_croki_01\\22-5\\22-5_cam01_assault01_place07_night_spring_resized.mp4 to G:\\내 드라이브\\Project\\RGBLab\\ABB\\Data\\Resized\\01.폭행(assult)\\inside_croki_01\\22-5\\22-5_cam01_assault01_place07_night_spring_resized.mp4\n",
      "Copying G:\\내 드라이브\\Project\\RGBLab\\ABB\\Data\\01.폭행(assult)\\inside_croki_01\\22-5\\22-5_cam02_assault01_place07_night_summer_resized.mp4 to G:\\내 드라이브\\Project\\RGBLab\\ABB\\Data\\Resized\\01.폭행(assult)\\inside_croki_01\\22-5\\22-5_cam02_assault01_place07_night_summer_resized.mp4\n",
      "Copying G:\\내 드라이브\\Project\\RGBLab\\ABB\\Data\\01.폭행(assult)\\inside_croki_01\\22-5\\22-5_cam02_assault01_place07_night_spring_resized.mp4 to G:\\내 드라이브\\Project\\RGBLab\\ABB\\Data\\Resized\\01.폭행(assult)\\inside_croki_01\\22-5\\22-5_cam02_assault01_place07_night_spring_resized.mp4\n",
      "Copying G:\\내 드라이브\\Project\\RGBLab\\ABB\\Data\\01.폭행(assult)\\inside_croki_01\\22-5\\22-5_cam03_assault01_place07_night_winter_resized.mp4 to G:\\내 드라이브\\Project\\RGBLab\\ABB\\Data\\Resized\\01.폭행(assult)\\inside_croki_01\\22-5\\22-5_cam03_assault01_place07_night_winter_resized.mp4\n",
      "Copying G:\\내 드라이브\\Project\\RGBLab\\ABB\\Data\\01.폭행(assult)\\inside_croki_01\\22-5\\22-5_cam02_assault01_place07_night_winter_resized.mp4 to G:\\내 드라이브\\Project\\RGBLab\\ABB\\Data\\Resized\\01.폭행(assult)\\inside_croki_01\\22-5\\22-5_cam02_assault01_place07_night_winter_resized.mp4\n",
      "Copying G:\\내 드라이브\\Project\\RGBLab\\ABB\\Data\\01.폭행(assult)\\inside_croki_01\\22-5\\22-5_cam01_assault01_place07_night_winter_resized.mp4 to G:\\내 드라이브\\Project\\RGBLab\\ABB\\Data\\Resized\\01.폭행(assult)\\inside_croki_01\\22-5\\22-5_cam01_assault01_place07_night_winter_resized.mp4\n"
     ]
    },
    {
     "name": "stderr",
     "output_type": "stream",
     "text": [
      "Copying files: 293it [00:11, 27.92it/s]"
     ]
    },
    {
     "name": "stdout",
     "output_type": "stream",
     "text": [
      "Copying G:\\내 드라이브\\Project\\RGBLab\\ABB\\Data\\01.폭행(assult)\\inside_croki_01\\22-5\\22-5_cam03_assault01_place07_night_spring_resized.mp4 to G:\\내 드라이브\\Project\\RGBLab\\ABB\\Data\\Resized\\01.폭행(assult)\\inside_croki_01\\22-5\\22-5_cam03_assault01_place07_night_spring_resized.mp4\n",
      "Copying G:\\내 드라이브\\Project\\RGBLab\\ABB\\Data\\01.폭행(assult)\\inside_croki_01\\22-6\\22-6_cam03_assault01_place07_night_spring_resized.mp4 to G:\\내 드라이브\\Project\\RGBLab\\ABB\\Data\\Resized\\01.폭행(assult)\\inside_croki_01\\22-6\\22-6_cam03_assault01_place07_night_spring_resized.mp4\n",
      "Copying G:\\내 드라이브\\Project\\RGBLab\\ABB\\Data\\01.폭행(assult)\\inside_croki_01\\22-6\\22-6_cam02_assault01_place07_night_spring_resized.mp4 to G:\\내 드라이브\\Project\\RGBLab\\ABB\\Data\\Resized\\01.폭행(assult)\\inside_croki_01\\22-6\\22-6_cam02_assault01_place07_night_spring_resized.mp4\n",
      "Copying G:\\내 드라이브\\Project\\RGBLab\\ABB\\Data\\01.폭행(assult)\\inside_croki_01\\22-6\\22-6_cam01_assault01_place07_night_spring_resized.mp4 to G:\\내 드라이브\\Project\\RGBLab\\ABB\\Data\\Resized\\01.폭행(assult)\\inside_croki_01\\22-6\\22-6_cam01_assault01_place07_night_spring_resized.mp4\n",
      "Copying G:\\내 드라이브\\Project\\RGBLab\\ABB\\Data\\01.폭행(assult)\\inside_croki_01\\22-6\\22-6_cam02_assault01_place07_night_winter_resized.mp4 to G:\\내 드라이브\\Project\\RGBLab\\ABB\\Data\\Resized\\01.폭행(assult)\\inside_croki_01\\22-6\\22-6_cam02_assault01_place07_night_winter_resized.mp4\n",
      "Copying G:\\내 드라이브\\Project\\RGBLab\\ABB\\Data\\01.폭행(assult)\\inside_croki_01\\22-6\\22-6_cam02_assault01_place07_night_summer_resized.mp4 to G:\\내 드라이브\\Project\\RGBLab\\ABB\\Data\\Resized\\01.폭행(assult)\\inside_croki_01\\22-6\\22-6_cam02_assault01_place07_night_summer_resized.mp4\n"
     ]
    },
    {
     "name": "stderr",
     "output_type": "stream",
     "text": [
      "Copying files: 300it [00:12, 28.43it/s]"
     ]
    },
    {
     "name": "stdout",
     "output_type": "stream",
     "text": [
      "Copying G:\\내 드라이브\\Project\\RGBLab\\ABB\\Data\\01.폭행(assult)\\inside_croki_01\\22-6\\22-6_cam03_assault01_place07_night_winter_resized.mp4 to G:\\내 드라이브\\Project\\RGBLab\\ABB\\Data\\Resized\\01.폭행(assult)\\inside_croki_01\\22-6\\22-6_cam03_assault01_place07_night_winter_resized.mp4\n",
      "Copying G:\\내 드라이브\\Project\\RGBLab\\ABB\\Data\\01.폭행(assult)\\inside_croki_01\\22-6\\22-6_cam03_assault01_place07_night_summer_resized.mp4 to G:\\내 드라이브\\Project\\RGBLab\\ABB\\Data\\Resized\\01.폭행(assult)\\inside_croki_01\\22-6\\22-6_cam03_assault01_place07_night_summer_resized.mp4\n",
      "Copying G:\\내 드라이브\\Project\\RGBLab\\ABB\\Data\\01.폭행(assult)\\inside_croki_01\\22-6\\22-6_cam01_assault01_place07_night_summer_resized.mp4 to G:\\내 드라이브\\Project\\RGBLab\\ABB\\Data\\Resized\\01.폭행(assult)\\inside_croki_01\\22-6\\22-6_cam01_assault01_place07_night_summer_resized.mp4\n",
      "Copying G:\\내 드라이브\\Project\\RGBLab\\ABB\\Data\\01.폭행(assult)\\inside_croki_01\\22-6\\22-6_cam01_assault01_place07_night_winter_resized.mp4 to G:\\내 드라이브\\Project\\RGBLab\\ABB\\Data\\Resized\\01.폭행(assult)\\inside_croki_01\\22-6\\22-6_cam01_assault01_place07_night_winter_resized.mp4\n",
      "Copying G:\\내 드라이브\\Project\\RGBLab\\ABB\\Data\\01.폭행(assult)\\inside_croki_01\\24-2\\24-2_cam03_assault01_place09_night_winter_resized.mp4 to G:\\내 드라이브\\Project\\RGBLab\\ABB\\Data\\Resized\\01.폭행(assult)\\inside_croki_01\\24-2\\24-2_cam03_assault01_place09_night_winter_resized.mp4\n",
      "Copying G:\\내 드라이브\\Project\\RGBLab\\ABB\\Data\\01.폭행(assult)\\inside_croki_01\\24-2\\24-2_cam03_assault01_place09_night_spring_resized.mp4 to G:\\내 드라이브\\Project\\RGBLab\\ABB\\Data\\Resized\\01.폭행(assult)\\inside_croki_01\\24-2\\24-2_cam03_assault01_place09_night_spring_resized.mp4\n"
     ]
    },
    {
     "name": "stderr",
     "output_type": "stream",
     "text": [
      "Copying files: 308it [00:12, 28.16it/s]"
     ]
    },
    {
     "name": "stdout",
     "output_type": "stream",
     "text": [
      "Copying G:\\내 드라이브\\Project\\RGBLab\\ABB\\Data\\01.폭행(assult)\\inside_croki_01\\24-2\\24-2_cam01_assault01_place09_night_spring_resized.mp4 to G:\\내 드라이브\\Project\\RGBLab\\ABB\\Data\\Resized\\01.폭행(assult)\\inside_croki_01\\24-2\\24-2_cam01_assault01_place09_night_spring_resized.mp4\n",
      "Copying G:\\내 드라이브\\Project\\RGBLab\\ABB\\Data\\01.폭행(assult)\\inside_croki_01\\24-2\\24-2_cam02_assault01_place09_night_summer_resized.mp4 to G:\\내 드라이브\\Project\\RGBLab\\ABB\\Data\\Resized\\01.폭행(assult)\\inside_croki_01\\24-2\\24-2_cam02_assault01_place09_night_summer_resized.mp4\n",
      "Copying G:\\내 드라이브\\Project\\RGBLab\\ABB\\Data\\01.폭행(assult)\\inside_croki_01\\24-2\\24-2_cam01_assault01_place09_night_summer_resized.mp4 to G:\\내 드라이브\\Project\\RGBLab\\ABB\\Data\\Resized\\01.폭행(assult)\\inside_croki_01\\24-2\\24-2_cam01_assault01_place09_night_summer_resized.mp4\n",
      "Copying G:\\내 드라이브\\Project\\RGBLab\\ABB\\Data\\01.폭행(assult)\\inside_croki_01\\24-2\\24-2_cam02_assault01_place09_night_winter_resized.mp4 to G:\\내 드라이브\\Project\\RGBLab\\ABB\\Data\\Resized\\01.폭행(assult)\\inside_croki_01\\24-2\\24-2_cam02_assault01_place09_night_winter_resized.mp4\n",
      "Copying G:\\내 드라이브\\Project\\RGBLab\\ABB\\Data\\01.폭행(assult)\\inside_croki_01\\24-2\\24-2_cam02_assault01_place09_night_spring_resized.mp4 to G:\\내 드라이브\\Project\\RGBLab\\ABB\\Data\\Resized\\01.폭행(assult)\\inside_croki_01\\24-2\\24-2_cam02_assault01_place09_night_spring_resized.mp4\n"
     ]
    },
    {
     "name": "stderr",
     "output_type": "stream",
     "text": [
      "Copying files: 311it [00:12, 28.26it/s]"
     ]
    },
    {
     "name": "stdout",
     "output_type": "stream",
     "text": [
      "Copying G:\\내 드라이브\\Project\\RGBLab\\ABB\\Data\\01.폭행(assult)\\inside_croki_01\\24-2\\24-2_cam03_assault01_place09_night_summer_resized.mp4 to G:\\내 드라이브\\Project\\RGBLab\\ABB\\Data\\Resized\\01.폭행(assult)\\inside_croki_01\\24-2\\24-2_cam03_assault01_place09_night_summer_resized.mp4\n",
      "Copying G:\\내 드라이브\\Project\\RGBLab\\ABB\\Data\\01.폭행(assult)\\inside_croki_01\\24-2\\24-2_cam01_assault01_place09_night_winter_resized.mp4 to G:\\내 드라이브\\Project\\RGBLab\\ABB\\Data\\Resized\\01.폭행(assult)\\inside_croki_01\\24-2\\24-2_cam01_assault01_place09_night_winter_resized.mp4\n",
      "Copying G:\\내 드라이브\\Project\\RGBLab\\ABB\\Data\\01.폭행(assult)\\inside_croki_01\\24-1\\24-1_cam02_assault01_place09_night_summer_resized.mp4 to G:\\내 드라이브\\Project\\RGBLab\\ABB\\Data\\Resized\\01.폭행(assult)\\inside_croki_01\\24-1\\24-1_cam02_assault01_place09_night_summer_resized.mp4\n",
      "Copying G:\\내 드라이브\\Project\\RGBLab\\ABB\\Data\\01.폭행(assult)\\inside_croki_01\\24-1\\24-1_cam02_assault01_place09_night_winter_resized.mp4 to G:\\내 드라이브\\Project\\RGBLab\\ABB\\Data\\Resized\\01.폭행(assult)\\inside_croki_01\\24-1\\24-1_cam02_assault01_place09_night_winter_resized.mp4\n",
      "Copying G:\\내 드라이브\\Project\\RGBLab\\ABB\\Data\\01.폭행(assult)\\inside_croki_01\\24-1\\24-1_cam02_assault01_place09_night_spring_resized.mp4 to G:\\내 드라이브\\Project\\RGBLab\\ABB\\Data\\Resized\\01.폭행(assult)\\inside_croki_01\\24-1\\24-1_cam02_assault01_place09_night_spring_resized.mp4\n"
     ]
    },
    {
     "name": "stderr",
     "output_type": "stream",
     "text": [
      "Copying files: 314it [00:12, 27.12it/s]"
     ]
    },
    {
     "name": "stdout",
     "output_type": "stream",
     "text": [
      "Copying G:\\내 드라이브\\Project\\RGBLab\\ABB\\Data\\01.폭행(assult)\\inside_croki_01\\24-1\\24-1_cam01_assault01_place09_night_spring_resized.mp4 to G:\\내 드라이브\\Project\\RGBLab\\ABB\\Data\\Resized\\01.폭행(assult)\\inside_croki_01\\24-1\\24-1_cam01_assault01_place09_night_spring_resized.mp4\n",
      "Copying G:\\내 드라이브\\Project\\RGBLab\\ABB\\Data\\01.폭행(assult)\\inside_croki_01\\24-1\\24-1_cam01_assault01_place09_night_winter_resized.mp4 to G:\\내 드라이브\\Project\\RGBLab\\ABB\\Data\\Resized\\01.폭행(assult)\\inside_croki_01\\24-1\\24-1_cam01_assault01_place09_night_winter_resized.mp4\n",
      "Copying G:\\내 드라이브\\Project\\RGBLab\\ABB\\Data\\01.폭행(assult)\\inside_croki_01\\24-1\\24-1_cam03_assault01_place09_night_summer_resized.mp4 to G:\\내 드라이브\\Project\\RGBLab\\ABB\\Data\\Resized\\01.폭행(assult)\\inside_croki_01\\24-1\\24-1_cam03_assault01_place09_night_summer_resized.mp4\n",
      "Copying G:\\내 드라이브\\Project\\RGBLab\\ABB\\Data\\01.폭행(assult)\\inside_croki_01\\24-1\\24-1_cam03_assault01_place09_night_spring_resized.mp4 to G:\\내 드라이브\\Project\\RGBLab\\ABB\\Data\\Resized\\01.폭행(assult)\\inside_croki_01\\24-1\\24-1_cam03_assault01_place09_night_spring_resized.mp4\n",
      "Copying G:\\내 드라이브\\Project\\RGBLab\\ABB\\Data\\01.폭행(assult)\\inside_croki_01\\24-1\\24-1_cam03_assault01_place09_night_winter_resized.mp4 to G:\\내 드라이브\\Project\\RGBLab\\ABB\\Data\\Resized\\01.폭행(assult)\\inside_croki_01\\24-1\\24-1_cam03_assault01_place09_night_winter_resized.mp4\n"
     ]
    },
    {
     "name": "stderr",
     "output_type": "stream",
     "text": [
      "Copying files: 321it [00:13, 23.07it/s]"
     ]
    },
    {
     "name": "stdout",
     "output_type": "stream",
     "text": [
      "Copying G:\\내 드라이브\\Project\\RGBLab\\ABB\\Data\\01.폭행(assult)\\inside_croki_01\\24-1\\24-1_cam01_assault01_place09_night_summer_resized.mp4 to G:\\내 드라이브\\Project\\RGBLab\\ABB\\Data\\Resized\\01.폭행(assult)\\inside_croki_01\\24-1\\24-1_cam01_assault01_place09_night_summer_resized.mp4\n",
      "Copying G:\\내 드라이브\\Project\\RGBLab\\ABB\\Data\\01.폭행(assult)\\inside_croki_01\\24-3\\24-3_cam02_assault01_place09_night_summer_resized.mp4 to G:\\내 드라이브\\Project\\RGBLab\\ABB\\Data\\Resized\\01.폭행(assult)\\inside_croki_01\\24-3\\24-3_cam02_assault01_place09_night_summer_resized.mp4\n",
      "Copying G:\\내 드라이브\\Project\\RGBLab\\ABB\\Data\\01.폭행(assult)\\inside_croki_01\\24-3\\24-3_cam03_assault01_place09_night_spring_resized.mp4 to G:\\내 드라이브\\Project\\RGBLab\\ABB\\Data\\Resized\\01.폭행(assult)\\inside_croki_01\\24-3\\24-3_cam03_assault01_place09_night_spring_resized.mp4\n",
      "Copying G:\\내 드라이브\\Project\\RGBLab\\ABB\\Data\\01.폭행(assult)\\inside_croki_01\\24-3\\24-3_cam02_assault01_place09_night_winter_resized.mp4 to G:\\내 드라이브\\Project\\RGBLab\\ABB\\Data\\Resized\\01.폭행(assult)\\inside_croki_01\\24-3\\24-3_cam02_assault01_place09_night_winter_resized.mp4\n",
      "Copying G:\\내 드라이브\\Project\\RGBLab\\ABB\\Data\\01.폭행(assult)\\inside_croki_01\\24-3\\24-3_cam03_assault01_place09_night_summer_resized.mp4 to G:\\내 드라이브\\Project\\RGBLab\\ABB\\Data\\Resized\\01.폭행(assult)\\inside_croki_01\\24-3\\24-3_cam03_assault01_place09_night_summer_resized.mp4\n"
     ]
    },
    {
     "name": "stderr",
     "output_type": "stream",
     "text": [
      "Copying files: 329it [00:13, 26.95it/s]"
     ]
    },
    {
     "name": "stdout",
     "output_type": "stream",
     "text": [
      "Copying G:\\내 드라이브\\Project\\RGBLab\\ABB\\Data\\01.폭행(assult)\\inside_croki_01\\24-3\\24-3_cam01_assault01_place09_night_winter_resized.mp4 to G:\\내 드라이브\\Project\\RGBLab\\ABB\\Data\\Resized\\01.폭행(assult)\\inside_croki_01\\24-3\\24-3_cam01_assault01_place09_night_winter_resized.mp4\n",
      "Copying G:\\내 드라이브\\Project\\RGBLab\\ABB\\Data\\01.폭행(assult)\\inside_croki_01\\24-3\\24-3_cam03_assault01_place09_night_winter_resized.mp4 to G:\\내 드라이브\\Project\\RGBLab\\ABB\\Data\\Resized\\01.폭행(assult)\\inside_croki_01\\24-3\\24-3_cam03_assault01_place09_night_winter_resized.mp4\n",
      "Copying G:\\내 드라이브\\Project\\RGBLab\\ABB\\Data\\01.폭행(assult)\\inside_croki_01\\24-3\\24-3_cam02_assault01_place09_night_spring_resized.mp4 to G:\\내 드라이브\\Project\\RGBLab\\ABB\\Data\\Resized\\01.폭행(assult)\\inside_croki_01\\24-3\\24-3_cam02_assault01_place09_night_spring_resized.mp4\n",
      "Copying G:\\내 드라이브\\Project\\RGBLab\\ABB\\Data\\01.폭행(assult)\\inside_croki_01\\24-3\\24-3_cam01_assault01_place09_night_summer_resized.mp4 to G:\\내 드라이브\\Project\\RGBLab\\ABB\\Data\\Resized\\01.폭행(assult)\\inside_croki_01\\24-3\\24-3_cam01_assault01_place09_night_summer_resized.mp4\n",
      "Copying G:\\내 드라이브\\Project\\RGBLab\\ABB\\Data\\01.폭행(assult)\\inside_croki_01\\24-3\\24-3_cam01_assault01_place09_night_spring_resized.mp4 to G:\\내 드라이브\\Project\\RGBLab\\ABB\\Data\\Resized\\01.폭행(assult)\\inside_croki_01\\24-3\\24-3_cam01_assault01_place09_night_spring_resized.mp4\n",
      "Copying G:\\내 드라이브\\Project\\RGBLab\\ABB\\Data\\01.폭행(assult)\\inside_croki_01\\24-4\\24-4_cam02_assault01_place09_night_spring_resized.mp4 to G:\\내 드라이브\\Project\\RGBLab\\ABB\\Data\\Resized\\01.폭행(assult)\\inside_croki_01\\24-4\\24-4_cam02_assault01_place09_night_spring_resized.mp4\n"
     ]
    },
    {
     "name": "stderr",
     "output_type": "stream",
     "text": [
      "Copying files: 333it [00:13, 27.93it/s]"
     ]
    },
    {
     "name": "stdout",
     "output_type": "stream",
     "text": [
      "Copying G:\\내 드라이브\\Project\\RGBLab\\ABB\\Data\\01.폭행(assult)\\inside_croki_01\\24-4\\24-4_cam01_assault01_place09_night_summer_resized.mp4 to G:\\내 드라이브\\Project\\RGBLab\\ABB\\Data\\Resized\\01.폭행(assult)\\inside_croki_01\\24-4\\24-4_cam01_assault01_place09_night_summer_resized.mp4\n",
      "Copying G:\\내 드라이브\\Project\\RGBLab\\ABB\\Data\\01.폭행(assult)\\inside_croki_01\\24-4\\24-4_cam03_assault01_place09_night_winter_resized.mp4 to G:\\내 드라이브\\Project\\RGBLab\\ABB\\Data\\Resized\\01.폭행(assult)\\inside_croki_01\\24-4\\24-4_cam03_assault01_place09_night_winter_resized.mp4\n",
      "Copying G:\\내 드라이브\\Project\\RGBLab\\ABB\\Data\\01.폭행(assult)\\inside_croki_01\\24-4\\24-4_cam03_assault01_place09_night_spring_resized.mp4 to G:\\내 드라이브\\Project\\RGBLab\\ABB\\Data\\Resized\\01.폭행(assult)\\inside_croki_01\\24-4\\24-4_cam03_assault01_place09_night_spring_resized.mp4\n",
      "Copying G:\\내 드라이브\\Project\\RGBLab\\ABB\\Data\\01.폭행(assult)\\inside_croki_01\\24-4\\24-4_cam02_assault01_place09_night_winter_resized.mp4 to G:\\내 드라이브\\Project\\RGBLab\\ABB\\Data\\Resized\\01.폭행(assult)\\inside_croki_01\\24-4\\24-4_cam02_assault01_place09_night_winter_resized.mp4\n",
      "Copying G:\\내 드라이브\\Project\\RGBLab\\ABB\\Data\\01.폭행(assult)\\inside_croki_01\\24-4\\24-4_cam01_assault01_place09_night_spring_resized.mp4 to G:\\내 드라이브\\Project\\RGBLab\\ABB\\Data\\Resized\\01.폭행(assult)\\inside_croki_01\\24-4\\24-4_cam01_assault01_place09_night_spring_resized.mp4\n",
      "Copying G:\\내 드라이브\\Project\\RGBLab\\ABB\\Data\\01.폭행(assult)\\inside_croki_01\\24-4\\24-4_cam01_assault01_place09_night_winter_resized.mp4 to G:\\내 드라이브\\Project\\RGBLab\\ABB\\Data\\Resized\\01.폭행(assult)\\inside_croki_01\\24-4\\24-4_cam01_assault01_place09_night_winter_resized.mp4\n"
     ]
    },
    {
     "name": "stderr",
     "output_type": "stream",
     "text": [
      "Copying files: 339it [00:13, 26.64it/s]"
     ]
    },
    {
     "name": "stdout",
     "output_type": "stream",
     "text": [
      "Copying G:\\내 드라이브\\Project\\RGBLab\\ABB\\Data\\01.폭행(assult)\\inside_croki_01\\24-4\\24-4_cam02_assault01_place09_night_summer_resized.mp4 to G:\\내 드라이브\\Project\\RGBLab\\ABB\\Data\\Resized\\01.폭행(assult)\\inside_croki_01\\24-4\\24-4_cam02_assault01_place09_night_summer_resized.mp4\n",
      "Copying G:\\내 드라이브\\Project\\RGBLab\\ABB\\Data\\01.폭행(assult)\\inside_croki_01\\24-4\\24-4_cam03_assault01_place09_night_summer_resized.mp4 to G:\\내 드라이브\\Project\\RGBLab\\ABB\\Data\\Resized\\01.폭행(assult)\\inside_croki_01\\24-4\\24-4_cam03_assault01_place09_night_summer_resized.mp4\n",
      "Copying G:\\내 드라이브\\Project\\RGBLab\\ABB\\Data\\01.폭행(assult)\\inside_croki_05\\416-2\\416-2_cam02_assault01_place02_night_summer_resized.mp4 to G:\\내 드라이브\\Project\\RGBLab\\ABB\\Data\\Resized\\01.폭행(assult)\\inside_croki_05\\416-2\\416-2_cam02_assault01_place02_night_summer_resized.mp4\n",
      "Copying G:\\내 드라이브\\Project\\RGBLab\\ABB\\Data\\01.폭행(assult)\\inside_croki_05\\416-2\\416-2_cam03_assault01_place02_night_summer_resized.mp4 to G:\\내 드라이브\\Project\\RGBLab\\ABB\\Data\\Resized\\01.폭행(assult)\\inside_croki_05\\416-2\\416-2_cam03_assault01_place02_night_summer_resized.mp4\n",
      "Copying G:\\내 드라이브\\Project\\RGBLab\\ABB\\Data\\01.폭행(assult)\\inside_croki_05\\416-2\\416-2_cam03_assault01_place02_night_winter_resized.mp4 to G:\\내 드라이브\\Project\\RGBLab\\ABB\\Data\\Resized\\01.폭행(assult)\\inside_croki_05\\416-2\\416-2_cam03_assault01_place02_night_winter_resized.mp4\n"
     ]
    },
    {
     "name": "stderr",
     "output_type": "stream",
     "text": [
      "Copying files: 345it [00:13, 26.40it/s]"
     ]
    },
    {
     "name": "stdout",
     "output_type": "stream",
     "text": [
      "Copying G:\\내 드라이브\\Project\\RGBLab\\ABB\\Data\\01.폭행(assult)\\inside_croki_05\\416-2\\416-2_cam01_assault01_place02_night_summer_resized.mp4 to G:\\내 드라이브\\Project\\RGBLab\\ABB\\Data\\Resized\\01.폭행(assult)\\inside_croki_05\\416-2\\416-2_cam01_assault01_place02_night_summer_resized.mp4\n",
      "Copying G:\\내 드라이브\\Project\\RGBLab\\ABB\\Data\\01.폭행(assult)\\inside_croki_05\\416-2\\416-2_cam02_assault01_place02_night_winter_resized.mp4 to G:\\내 드라이브\\Project\\RGBLab\\ABB\\Data\\Resized\\01.폭행(assult)\\inside_croki_05\\416-2\\416-2_cam02_assault01_place02_night_winter_resized.mp4\n",
      "Copying G:\\내 드라이브\\Project\\RGBLab\\ABB\\Data\\01.폭행(assult)\\inside_croki_05\\416-2\\416-2_cam01_assault01_place02_night_winter_resized.mp4 to G:\\내 드라이브\\Project\\RGBLab\\ABB\\Data\\Resized\\01.폭행(assult)\\inside_croki_05\\416-2\\416-2_cam01_assault01_place02_night_winter_resized.mp4\n",
      "Copying G:\\내 드라이브\\Project\\RGBLab\\ABB\\Data\\01.폭행(assult)\\inside_croki_05\\416-2\\416-2_cam01_assault01_place02_night_spring_resized.mp4 to G:\\내 드라이브\\Project\\RGBLab\\ABB\\Data\\Resized\\01.폭행(assult)\\inside_croki_05\\416-2\\416-2_cam01_assault01_place02_night_spring_resized.mp4\n",
      "Copying G:\\내 드라이브\\Project\\RGBLab\\ABB\\Data\\01.폭행(assult)\\inside_croki_05\\416-2\\416-2_cam03_assault01_place02_night_spring_resized.mp4 to G:\\내 드라이브\\Project\\RGBLab\\ABB\\Data\\Resized\\01.폭행(assult)\\inside_croki_05\\416-2\\416-2_cam03_assault01_place02_night_spring_resized.mp4\n"
     ]
    },
    {
     "name": "stderr",
     "output_type": "stream",
     "text": [
      "Copying files: 348it [00:13, 24.58it/s]"
     ]
    },
    {
     "name": "stdout",
     "output_type": "stream",
     "text": [
      "Copying G:\\내 드라이브\\Project\\RGBLab\\ABB\\Data\\01.폭행(assult)\\inside_croki_05\\416-2\\416-2_cam02_assault01_place02_night_spring_resized.mp4 to G:\\내 드라이브\\Project\\RGBLab\\ABB\\Data\\Resized\\01.폭행(assult)\\inside_croki_05\\416-2\\416-2_cam02_assault01_place02_night_spring_resized.mp4\n",
      "Copying G:\\내 드라이브\\Project\\RGBLab\\ABB\\Data\\01.폭행(assult)\\inside_croki_05\\416-3\\416-3_cam03_assault01_place02_night_spring_resized.mp4 to G:\\내 드라이브\\Project\\RGBLab\\ABB\\Data\\Resized\\01.폭행(assult)\\inside_croki_05\\416-3\\416-3_cam03_assault01_place02_night_spring_resized.mp4\n",
      "Copying G:\\내 드라이브\\Project\\RGBLab\\ABB\\Data\\01.폭행(assult)\\inside_croki_05\\416-3\\416-3_cam01_assault01_place02_night_spring_resized.mp4 to G:\\내 드라이브\\Project\\RGBLab\\ABB\\Data\\Resized\\01.폭행(assult)\\inside_croki_05\\416-3\\416-3_cam01_assault01_place02_night_spring_resized.mp4\n",
      "Copying G:\\내 드라이브\\Project\\RGBLab\\ABB\\Data\\01.폭행(assult)\\inside_croki_05\\416-3\\416-3_cam02_assault01_place02_night_summer_resized.mp4 to G:\\내 드라이브\\Project\\RGBLab\\ABB\\Data\\Resized\\01.폭행(assult)\\inside_croki_05\\416-3\\416-3_cam02_assault01_place02_night_summer_resized.mp4\n"
     ]
    },
    {
     "name": "stderr",
     "output_type": "stream",
     "text": [
      "Copying files: 354it [00:14, 25.90it/s]"
     ]
    },
    {
     "name": "stdout",
     "output_type": "stream",
     "text": [
      "Copying G:\\내 드라이브\\Project\\RGBLab\\ABB\\Data\\01.폭행(assult)\\inside_croki_05\\416-3\\416-3_cam02_assault01_place02_night_spring_resized.mp4 to G:\\내 드라이브\\Project\\RGBLab\\ABB\\Data\\Resized\\01.폭행(assult)\\inside_croki_05\\416-3\\416-3_cam02_assault01_place02_night_spring_resized.mp4\n",
      "Copying G:\\내 드라이브\\Project\\RGBLab\\ABB\\Data\\01.폭행(assult)\\inside_croki_05\\416-3\\416-3_cam03_assault01_place02_night_winter_resized.mp4 to G:\\내 드라이브\\Project\\RGBLab\\ABB\\Data\\Resized\\01.폭행(assult)\\inside_croki_05\\416-3\\416-3_cam03_assault01_place02_night_winter_resized.mp4\n",
      "Copying G:\\내 드라이브\\Project\\RGBLab\\ABB\\Data\\01.폭행(assult)\\inside_croki_05\\416-3\\416-3_cam01_assault01_place02_night_summer_resized.mp4 to G:\\내 드라이브\\Project\\RGBLab\\ABB\\Data\\Resized\\01.폭행(assult)\\inside_croki_05\\416-3\\416-3_cam01_assault01_place02_night_summer_resized.mp4\n",
      "Copying G:\\내 드라이브\\Project\\RGBLab\\ABB\\Data\\01.폭행(assult)\\inside_croki_05\\416-3\\416-3_cam03_assault01_place02_night_summer_resized.mp4 to G:\\내 드라이브\\Project\\RGBLab\\ABB\\Data\\Resized\\01.폭행(assult)\\inside_croki_05\\416-3\\416-3_cam03_assault01_place02_night_summer_resized.mp4\n",
      "Copying G:\\내 드라이브\\Project\\RGBLab\\ABB\\Data\\01.폭행(assult)\\inside_croki_05\\416-3\\416-3_cam01_assault01_place02_night_winter_resized.mp4 to G:\\내 드라이브\\Project\\RGBLab\\ABB\\Data\\Resized\\01.폭행(assult)\\inside_croki_05\\416-3\\416-3_cam01_assault01_place02_night_winter_resized.mp4\n"
     ]
    },
    {
     "name": "stderr",
     "output_type": "stream",
     "text": [
      "Copying files: 357it [00:14, 24.84it/s]"
     ]
    },
    {
     "name": "stdout",
     "output_type": "stream",
     "text": [
      "Copying G:\\내 드라이브\\Project\\RGBLab\\ABB\\Data\\01.폭행(assult)\\inside_croki_05\\416-3\\416-3_cam02_assault01_place02_night_winter_resized.mp4 to G:\\내 드라이브\\Project\\RGBLab\\ABB\\Data\\Resized\\01.폭행(assult)\\inside_croki_05\\416-3\\416-3_cam02_assault01_place02_night_winter_resized.mp4\n",
      "Copying G:\\내 드라이브\\Project\\RGBLab\\ABB\\Data\\01.폭행(assult)\\inside_croki_05\\416-5\\416-5_cam01_assault01_place02_night_spring_resized.mp4 to G:\\내 드라이브\\Project\\RGBLab\\ABB\\Data\\Resized\\01.폭행(assult)\\inside_croki_05\\416-5\\416-5_cam01_assault01_place02_night_spring_resized.mp4\n",
      "Copying G:\\내 드라이브\\Project\\RGBLab\\ABB\\Data\\01.폭행(assult)\\inside_croki_05\\416-5\\416-5_cam03_assault01_place02_night_summer_resized.mp4 to G:\\내 드라이브\\Project\\RGBLab\\ABB\\Data\\Resized\\01.폭행(assult)\\inside_croki_05\\416-5\\416-5_cam03_assault01_place02_night_summer_resized.mp4\n",
      "Copying G:\\내 드라이브\\Project\\RGBLab\\ABB\\Data\\01.폭행(assult)\\inside_croki_05\\416-5\\416-5_cam03_assault01_place02_night_spring_resized.mp4 to G:\\내 드라이브\\Project\\RGBLab\\ABB\\Data\\Resized\\01.폭행(assult)\\inside_croki_05\\416-5\\416-5_cam03_assault01_place02_night_spring_resized.mp4\n",
      "Copying G:\\내 드라이브\\Project\\RGBLab\\ABB\\Data\\01.폭행(assult)\\inside_croki_05\\416-5\\416-5_cam02_assault01_place02_night_spring_resized.mp4 to G:\\내 드라이브\\Project\\RGBLab\\ABB\\Data\\Resized\\01.폭행(assult)\\inside_croki_05\\416-5\\416-5_cam02_assault01_place02_night_spring_resized.mp4\n"
     ]
    },
    {
     "name": "stderr",
     "output_type": "stream",
     "text": [
      "Copying files: 363it [00:14, 23.78it/s]"
     ]
    },
    {
     "name": "stdout",
     "output_type": "stream",
     "text": [
      "Copying G:\\내 드라이브\\Project\\RGBLab\\ABB\\Data\\01.폭행(assult)\\inside_croki_05\\416-5\\416-5_cam02_assault01_place02_night_summer_resized.mp4 to G:\\내 드라이브\\Project\\RGBLab\\ABB\\Data\\Resized\\01.폭행(assult)\\inside_croki_05\\416-5\\416-5_cam02_assault01_place02_night_summer_resized.mp4\n",
      "Copying G:\\내 드라이브\\Project\\RGBLab\\ABB\\Data\\01.폭행(assult)\\inside_croki_05\\416-5\\416-5_cam01_assault01_place02_night_winter_resized.mp4 to G:\\내 드라이브\\Project\\RGBLab\\ABB\\Data\\Resized\\01.폭행(assult)\\inside_croki_05\\416-5\\416-5_cam01_assault01_place02_night_winter_resized.mp4\n",
      "Copying G:\\내 드라이브\\Project\\RGBLab\\ABB\\Data\\01.폭행(assult)\\inside_croki_05\\416-5\\416-5_cam02_assault01_place02_night_winter_resized.mp4 to G:\\내 드라이브\\Project\\RGBLab\\ABB\\Data\\Resized\\01.폭행(assult)\\inside_croki_05\\416-5\\416-5_cam02_assault01_place02_night_winter_resized.mp4\n",
      "Copying G:\\내 드라이브\\Project\\RGBLab\\ABB\\Data\\01.폭행(assult)\\inside_croki_05\\416-5\\416-5_cam01_assault01_place02_night_summer_resized.mp4 to G:\\내 드라이브\\Project\\RGBLab\\ABB\\Data\\Resized\\01.폭행(assult)\\inside_croki_05\\416-5\\416-5_cam01_assault01_place02_night_summer_resized.mp4\n",
      "Copying G:\\내 드라이브\\Project\\RGBLab\\ABB\\Data\\01.폭행(assult)\\inside_croki_05\\416-5\\416-5_cam03_assault01_place02_night_winter_resized.mp4 to G:\\내 드라이브\\Project\\RGBLab\\ABB\\Data\\Resized\\01.폭행(assult)\\inside_croki_05\\416-5\\416-5_cam03_assault01_place02_night_winter_resized.mp4\n"
     ]
    },
    {
     "name": "stderr",
     "output_type": "stream",
     "text": [
      "Copying files: 369it [00:14, 25.38it/s]"
     ]
    },
    {
     "name": "stdout",
     "output_type": "stream",
     "text": [
      "Copying G:\\내 드라이브\\Project\\RGBLab\\ABB\\Data\\01.폭행(assult)\\inside_croki_05\\416-4\\416-4_cam03_assault01_place02_night_winter_resized.mp4 to G:\\내 드라이브\\Project\\RGBLab\\ABB\\Data\\Resized\\01.폭행(assult)\\inside_croki_05\\416-4\\416-4_cam03_assault01_place02_night_winter_resized.mp4\n",
      "Copying G:\\내 드라이브\\Project\\RGBLab\\ABB\\Data\\01.폭행(assult)\\inside_croki_05\\416-4\\416-4_cam03_assault01_place02_night_summer_resized.mp4 to G:\\내 드라이브\\Project\\RGBLab\\ABB\\Data\\Resized\\01.폭행(assult)\\inside_croki_05\\416-4\\416-4_cam03_assault01_place02_night_summer_resized.mp4\n",
      "Copying G:\\내 드라이브\\Project\\RGBLab\\ABB\\Data\\01.폭행(assult)\\inside_croki_05\\416-4\\416-4_cam02_assault01_place02_night_summer_resized.mp4 to G:\\내 드라이브\\Project\\RGBLab\\ABB\\Data\\Resized\\01.폭행(assult)\\inside_croki_05\\416-4\\416-4_cam02_assault01_place02_night_summer_resized.mp4\n",
      "Copying G:\\내 드라이브\\Project\\RGBLab\\ABB\\Data\\01.폭행(assult)\\inside_croki_05\\416-4\\416-4_cam01_assault01_place02_night_spring_resized.mp4 to G:\\내 드라이브\\Project\\RGBLab\\ABB\\Data\\Resized\\01.폭행(assult)\\inside_croki_05\\416-4\\416-4_cam01_assault01_place02_night_spring_resized.mp4\n",
      "Copying G:\\내 드라이브\\Project\\RGBLab\\ABB\\Data\\01.폭행(assult)\\inside_croki_05\\416-4\\416-4_cam03_assault01_place02_night_spring_resized.mp4 to G:\\내 드라이브\\Project\\RGBLab\\ABB\\Data\\Resized\\01.폭행(assult)\\inside_croki_05\\416-4\\416-4_cam03_assault01_place02_night_spring_resized.mp4\n"
     ]
    },
    {
     "name": "stderr",
     "output_type": "stream",
     "text": [
      "Copying files: 372it [00:14, 24.22it/s]"
     ]
    },
    {
     "name": "stdout",
     "output_type": "stream",
     "text": [
      "Copying G:\\내 드라이브\\Project\\RGBLab\\ABB\\Data\\01.폭행(assult)\\inside_croki_05\\416-4\\416-4_cam01_assault01_place02_night_summer_resized.mp4 to G:\\내 드라이브\\Project\\RGBLab\\ABB\\Data\\Resized\\01.폭행(assult)\\inside_croki_05\\416-4\\416-4_cam01_assault01_place02_night_summer_resized.mp4\n",
      "Copying G:\\내 드라이브\\Project\\RGBLab\\ABB\\Data\\01.폭행(assult)\\inside_croki_05\\416-4\\416-4_cam02_assault01_place02_night_spring_resized.mp4 to G:\\내 드라이브\\Project\\RGBLab\\ABB\\Data\\Resized\\01.폭행(assult)\\inside_croki_05\\416-4\\416-4_cam02_assault01_place02_night_spring_resized.mp4\n",
      "Copying G:\\내 드라이브\\Project\\RGBLab\\ABB\\Data\\01.폭행(assult)\\inside_croki_05\\416-4\\416-4_cam02_assault01_place02_night_winter_resized.mp4 to G:\\내 드라이브\\Project\\RGBLab\\ABB\\Data\\Resized\\01.폭행(assult)\\inside_croki_05\\416-4\\416-4_cam02_assault01_place02_night_winter_resized.mp4\n",
      "Copying G:\\내 드라이브\\Project\\RGBLab\\ABB\\Data\\01.폭행(assult)\\inside_croki_05\\416-4\\416-4_cam01_assault01_place02_night_winter_resized.mp4 to G:\\내 드라이브\\Project\\RGBLab\\ABB\\Data\\Resized\\01.폭행(assult)\\inside_croki_05\\416-4\\416-4_cam01_assault01_place02_night_winter_resized.mp4\n"
     ]
    },
    {
     "name": "stderr",
     "output_type": "stream",
     "text": [
      "Copying files: 378it [00:15, 23.75it/s]"
     ]
    },
    {
     "name": "stdout",
     "output_type": "stream",
     "text": [
      "Copying G:\\내 드라이브\\Project\\RGBLab\\ABB\\Data\\01.폭행(assult)\\inside_croki_05\\416-6\\416-6_cam01_assault01_place02_night_spring_resized.mp4 to G:\\내 드라이브\\Project\\RGBLab\\ABB\\Data\\Resized\\01.폭행(assult)\\inside_croki_05\\416-6\\416-6_cam01_assault01_place02_night_spring_resized.mp4\n",
      "Copying G:\\내 드라이브\\Project\\RGBLab\\ABB\\Data\\01.폭행(assult)\\inside_croki_05\\416-6\\416-6_cam03_assault01_place02_night_winter_resized.mp4 to G:\\내 드라이브\\Project\\RGBLab\\ABB\\Data\\Resized\\01.폭행(assult)\\inside_croki_05\\416-6\\416-6_cam03_assault01_place02_night_winter_resized.mp4\n",
      "Copying G:\\내 드라이브\\Project\\RGBLab\\ABB\\Data\\01.폭행(assult)\\inside_croki_05\\416-6\\416-6_cam02_assault01_place02_night_winter_resized.mp4 to G:\\내 드라이브\\Project\\RGBLab\\ABB\\Data\\Resized\\01.폭행(assult)\\inside_croki_05\\416-6\\416-6_cam02_assault01_place02_night_winter_resized.mp4\n",
      "Copying G:\\내 드라이브\\Project\\RGBLab\\ABB\\Data\\01.폭행(assult)\\inside_croki_05\\416-6\\416-6_cam03_assault01_place02_night_summer_resized.mp4 to G:\\내 드라이브\\Project\\RGBLab\\ABB\\Data\\Resized\\01.폭행(assult)\\inside_croki_05\\416-6\\416-6_cam03_assault01_place02_night_summer_resized.mp4\n",
      "Copying G:\\내 드라이브\\Project\\RGBLab\\ABB\\Data\\01.폭행(assult)\\inside_croki_05\\416-6\\416-6_cam03_assault01_place02_night_spring_resized.mp4 to G:\\내 드라이브\\Project\\RGBLab\\ABB\\Data\\Resized\\01.폭행(assult)\\inside_croki_05\\416-6\\416-6_cam03_assault01_place02_night_spring_resized.mp4\n"
     ]
    },
    {
     "name": "stderr",
     "output_type": "stream",
     "text": [
      "Copying files: 381it [00:15, 23.99it/s]"
     ]
    },
    {
     "name": "stdout",
     "output_type": "stream",
     "text": [
      "Copying G:\\내 드라이브\\Project\\RGBLab\\ABB\\Data\\01.폭행(assult)\\inside_croki_05\\416-6\\416-6_cam01_assault01_place02_night_summer_resized.mp4 to G:\\내 드라이브\\Project\\RGBLab\\ABB\\Data\\Resized\\01.폭행(assult)\\inside_croki_05\\416-6\\416-6_cam01_assault01_place02_night_summer_resized.mp4\n",
      "Copying G:\\내 드라이브\\Project\\RGBLab\\ABB\\Data\\01.폭행(assult)\\inside_croki_05\\416-6\\416-6_cam02_assault01_place02_night_summer_resized.mp4 to G:\\내 드라이브\\Project\\RGBLab\\ABB\\Data\\Resized\\01.폭행(assult)\\inside_croki_05\\416-6\\416-6_cam02_assault01_place02_night_summer_resized.mp4\n",
      "Copying G:\\내 드라이브\\Project\\RGBLab\\ABB\\Data\\01.폭행(assult)\\inside_croki_05\\416-6\\416-6_cam02_assault01_place02_night_spring_resized.mp4 to G:\\내 드라이브\\Project\\RGBLab\\ABB\\Data\\Resized\\01.폭행(assult)\\inside_croki_05\\416-6\\416-6_cam02_assault01_place02_night_spring_resized.mp4\n",
      "Copying G:\\내 드라이브\\Project\\RGBLab\\ABB\\Data\\01.폭행(assult)\\inside_croki_05\\416-6\\416-6_cam01_assault01_place02_night_winter_resized.mp4 to G:\\내 드라이브\\Project\\RGBLab\\ABB\\Data\\Resized\\01.폭행(assult)\\inside_croki_05\\416-6\\416-6_cam01_assault01_place02_night_winter_resized.mp4\n",
      "Copying G:\\내 드라이브\\Project\\RGBLab\\ABB\\Data\\01.폭행(assult)\\inside_croki_05\\417-2\\417-2_cam01_assault01_place03_night_spring_resized.mp4 to G:\\내 드라이브\\Project\\RGBLab\\ABB\\Data\\Resized\\01.폭행(assult)\\inside_croki_05\\417-2\\417-2_cam01_assault01_place03_night_spring_resized.mp4\n"
     ]
    },
    {
     "name": "stderr",
     "output_type": "stream",
     "text": [
      "Copying files: 387it [00:15, 22.33it/s]"
     ]
    },
    {
     "name": "stdout",
     "output_type": "stream",
     "text": [
      "Copying G:\\내 드라이브\\Project\\RGBLab\\ABB\\Data\\01.폭행(assult)\\inside_croki_05\\417-2\\417-2_cam02_assault01_place03_night_winter_resized.mp4 to G:\\내 드라이브\\Project\\RGBLab\\ABB\\Data\\Resized\\01.폭행(assult)\\inside_croki_05\\417-2\\417-2_cam02_assault01_place03_night_winter_resized.mp4\n",
      "Copying G:\\내 드라이브\\Project\\RGBLab\\ABB\\Data\\01.폭행(assult)\\inside_croki_05\\417-2\\417-2_cam03_assault01_place03_night_summer_resized.mp4 to G:\\내 드라이브\\Project\\RGBLab\\ABB\\Data\\Resized\\01.폭행(assult)\\inside_croki_05\\417-2\\417-2_cam03_assault01_place03_night_summer_resized.mp4\n",
      "Copying G:\\내 드라이브\\Project\\RGBLab\\ABB\\Data\\01.폭행(assult)\\inside_croki_05\\417-2\\417-2_cam02_assault01_place03_night_spring_resized.mp4 to G:\\내 드라이브\\Project\\RGBLab\\ABB\\Data\\Resized\\01.폭행(assult)\\inside_croki_05\\417-2\\417-2_cam02_assault01_place03_night_spring_resized.mp4\n",
      "Copying G:\\내 드라이브\\Project\\RGBLab\\ABB\\Data\\01.폭행(assult)\\inside_croki_05\\417-2\\417-2_cam01_assault01_place03_night_summer_resized.mp4 to G:\\내 드라이브\\Project\\RGBLab\\ABB\\Data\\Resized\\01.폭행(assult)\\inside_croki_05\\417-2\\417-2_cam01_assault01_place03_night_summer_resized.mp4\n"
     ]
    },
    {
     "name": "stderr",
     "output_type": "stream",
     "text": [
      "Copying files: 390it [00:15, 22.20it/s]"
     ]
    },
    {
     "name": "stdout",
     "output_type": "stream",
     "text": [
      "Copying G:\\내 드라이브\\Project\\RGBLab\\ABB\\Data\\01.폭행(assult)\\inside_croki_05\\417-2\\417-2_cam02_assault01_place03_night_summer_resized.mp4 to G:\\내 드라이브\\Project\\RGBLab\\ABB\\Data\\Resized\\01.폭행(assult)\\inside_croki_05\\417-2\\417-2_cam02_assault01_place03_night_summer_resized.mp4\n",
      "Copying G:\\내 드라이브\\Project\\RGBLab\\ABB\\Data\\01.폭행(assult)\\inside_croki_05\\417-2\\417-2_cam03_assault01_place03_night_winter_resized.mp4 to G:\\내 드라이브\\Project\\RGBLab\\ABB\\Data\\Resized\\01.폭행(assult)\\inside_croki_05\\417-2\\417-2_cam03_assault01_place03_night_winter_resized.mp4\n",
      "Copying G:\\내 드라이브\\Project\\RGBLab\\ABB\\Data\\01.폭행(assult)\\inside_croki_05\\417-2\\417-2_cam01_assault01_place03_night_winter_resized.mp4 to G:\\내 드라이브\\Project\\RGBLab\\ABB\\Data\\Resized\\01.폭행(assult)\\inside_croki_05\\417-2\\417-2_cam01_assault01_place03_night_winter_resized.mp4\n",
      "Copying G:\\내 드라이브\\Project\\RGBLab\\ABB\\Data\\01.폭행(assult)\\inside_croki_05\\417-2\\417-2_cam03_assault01_place03_night_spring_resized.mp4 to G:\\내 드라이브\\Project\\RGBLab\\ABB\\Data\\Resized\\01.폭행(assult)\\inside_croki_05\\417-2\\417-2_cam03_assault01_place03_night_spring_resized.mp4\n",
      "Copying G:\\내 드라이브\\Project\\RGBLab\\ABB\\Data\\01.폭행(assult)\\inside_croki_05\\417-1\\417-1_cam03_assault01_place03_night_spring_resized.mp4 to G:\\내 드라이브\\Project\\RGBLab\\ABB\\Data\\Resized\\01.폭행(assult)\\inside_croki_05\\417-1\\417-1_cam03_assault01_place03_night_spring_resized.mp4\n"
     ]
    },
    {
     "name": "stderr",
     "output_type": "stream",
     "text": [
      "Copying files: 396it [00:16, 22.72it/s]"
     ]
    },
    {
     "name": "stdout",
     "output_type": "stream",
     "text": [
      "Copying G:\\내 드라이브\\Project\\RGBLab\\ABB\\Data\\01.폭행(assult)\\inside_croki_05\\417-1\\417-1_cam01_assault01_place03_night_summer_resized.mp4 to G:\\내 드라이브\\Project\\RGBLab\\ABB\\Data\\Resized\\01.폭행(assult)\\inside_croki_05\\417-1\\417-1_cam01_assault01_place03_night_summer_resized.mp4\n",
      "Copying G:\\내 드라이브\\Project\\RGBLab\\ABB\\Data\\01.폭행(assult)\\inside_croki_05\\417-1\\417-1_cam02_assault01_place03_night_spring_resized.mp4 to G:\\내 드라이브\\Project\\RGBLab\\ABB\\Data\\Resized\\01.폭행(assult)\\inside_croki_05\\417-1\\417-1_cam02_assault01_place03_night_spring_resized.mp4\n",
      "Copying G:\\내 드라이브\\Project\\RGBLab\\ABB\\Data\\01.폭행(assult)\\inside_croki_05\\417-1\\417-1_cam02_assault01_place03_night_summer_resized.mp4 to G:\\내 드라이브\\Project\\RGBLab\\ABB\\Data\\Resized\\01.폭행(assult)\\inside_croki_05\\417-1\\417-1_cam02_assault01_place03_night_summer_resized.mp4\n",
      "Copying G:\\내 드라이브\\Project\\RGBLab\\ABB\\Data\\01.폭행(assult)\\inside_croki_05\\417-1\\417-1_cam03_assault01_place03_night_winter_resized.mp4 to G:\\내 드라이브\\Project\\RGBLab\\ABB\\Data\\Resized\\01.폭행(assult)\\inside_croki_05\\417-1\\417-1_cam03_assault01_place03_night_winter_resized.mp4\n",
      "Copying G:\\내 드라이브\\Project\\RGBLab\\ABB\\Data\\01.폭행(assult)\\inside_croki_05\\417-1\\417-1_cam02_assault01_place03_night_winter_resized.mp4 to G:\\내 드라이브\\Project\\RGBLab\\ABB\\Data\\Resized\\01.폭행(assult)\\inside_croki_05\\417-1\\417-1_cam02_assault01_place03_night_winter_resized.mp4\n"
     ]
    },
    {
     "name": "stderr",
     "output_type": "stream",
     "text": [
      "Copying files: 402it [00:16, 22.89it/s]"
     ]
    },
    {
     "name": "stdout",
     "output_type": "stream",
     "text": [
      "Copying G:\\내 드라이브\\Project\\RGBLab\\ABB\\Data\\01.폭행(assult)\\inside_croki_05\\417-1\\417-1_cam03_assault01_place03_night_summer_resized.mp4 to G:\\내 드라이브\\Project\\RGBLab\\ABB\\Data\\Resized\\01.폭행(assult)\\inside_croki_05\\417-1\\417-1_cam03_assault01_place03_night_summer_resized.mp4\n",
      "Copying G:\\내 드라이브\\Project\\RGBLab\\ABB\\Data\\01.폭행(assult)\\inside_croki_05\\417-1\\417-1_cam01_assault01_place03_night_winter_resized.mp4 to G:\\내 드라이브\\Project\\RGBLab\\ABB\\Data\\Resized\\01.폭행(assult)\\inside_croki_05\\417-1\\417-1_cam01_assault01_place03_night_winter_resized.mp4\n",
      "Copying G:\\내 드라이브\\Project\\RGBLab\\ABB\\Data\\01.폭행(assult)\\inside_croki_05\\417-1\\417-1_cam01_assault01_place03_night_spring_resized.mp4 to G:\\내 드라이브\\Project\\RGBLab\\ABB\\Data\\Resized\\01.폭행(assult)\\inside_croki_05\\417-1\\417-1_cam01_assault01_place03_night_spring_resized.mp4\n",
      "Copying G:\\내 드라이브\\Project\\RGBLab\\ABB\\Data\\01.폭행(assult)\\inside_croki_05\\417-3\\417-3_cam01_assault01_place03_night_summer_resized.mp4 to G:\\내 드라이브\\Project\\RGBLab\\ABB\\Data\\Resized\\01.폭행(assult)\\inside_croki_05\\417-3\\417-3_cam01_assault01_place03_night_summer_resized.mp4\n",
      "Copying G:\\내 드라이브\\Project\\RGBLab\\ABB\\Data\\01.폭행(assult)\\inside_croki_05\\417-3\\417-3_cam03_assault01_place03_night_spring_resized.mp4 to G:\\내 드라이브\\Project\\RGBLab\\ABB\\Data\\Resized\\01.폭행(assult)\\inside_croki_05\\417-3\\417-3_cam03_assault01_place03_night_spring_resized.mp4\n"
     ]
    },
    {
     "name": "stderr",
     "output_type": "stream",
     "text": [
      "Copying files: 405it [00:16, 22.23it/s]"
     ]
    },
    {
     "name": "stdout",
     "output_type": "stream",
     "text": [
      "Copying G:\\내 드라이브\\Project\\RGBLab\\ABB\\Data\\01.폭행(assult)\\inside_croki_05\\417-3\\417-3_cam02_assault01_place03_night_winter_resized.mp4 to G:\\내 드라이브\\Project\\RGBLab\\ABB\\Data\\Resized\\01.폭행(assult)\\inside_croki_05\\417-3\\417-3_cam02_assault01_place03_night_winter_resized.mp4\n",
      "Copying G:\\내 드라이브\\Project\\RGBLab\\ABB\\Data\\01.폭행(assult)\\inside_croki_05\\417-3\\417-3_cam02_assault01_place03_night_spring_resized.mp4 to G:\\내 드라이브\\Project\\RGBLab\\ABB\\Data\\Resized\\01.폭행(assult)\\inside_croki_05\\417-3\\417-3_cam02_assault01_place03_night_spring_resized.mp4\n",
      "Copying G:\\내 드라이브\\Project\\RGBLab\\ABB\\Data\\01.폭행(assult)\\inside_croki_05\\417-3\\417-3_cam01_assault01_place03_night_winter_resized.mp4 to G:\\내 드라이브\\Project\\RGBLab\\ABB\\Data\\Resized\\01.폭행(assult)\\inside_croki_05\\417-3\\417-3_cam01_assault01_place03_night_winter_resized.mp4\n",
      "Copying G:\\내 드라이브\\Project\\RGBLab\\ABB\\Data\\01.폭행(assult)\\inside_croki_05\\417-3\\417-3_cam01_assault01_place03_night_spring_resized.mp4 to G:\\내 드라이브\\Project\\RGBLab\\ABB\\Data\\Resized\\01.폭행(assult)\\inside_croki_05\\417-3\\417-3_cam01_assault01_place03_night_spring_resized.mp4\n"
     ]
    },
    {
     "name": "stderr",
     "output_type": "stream",
     "text": [
      "Copying files: 408it [00:16, 21.42it/s]"
     ]
    },
    {
     "name": "stdout",
     "output_type": "stream",
     "text": [
      "Copying G:\\내 드라이브\\Project\\RGBLab\\ABB\\Data\\01.폭행(assult)\\inside_croki_05\\417-3\\417-3_cam02_assault01_place03_night_summer_resized.mp4 to G:\\내 드라이브\\Project\\RGBLab\\ABB\\Data\\Resized\\01.폭행(assult)\\inside_croki_05\\417-3\\417-3_cam02_assault01_place03_night_summer_resized.mp4\n",
      "Copying G:\\내 드라이브\\Project\\RGBLab\\ABB\\Data\\01.폭행(assult)\\inside_croki_05\\417-3\\417-3_cam03_assault01_place03_night_summer_resized.mp4 to G:\\내 드라이브\\Project\\RGBLab\\ABB\\Data\\Resized\\01.폭행(assult)\\inside_croki_05\\417-3\\417-3_cam03_assault01_place03_night_summer_resized.mp4\n",
      "Copying G:\\내 드라이브\\Project\\RGBLab\\ABB\\Data\\01.폭행(assult)\\inside_croki_05\\417-3\\417-3_cam03_assault01_place03_night_winter_resized.mp4 to G:\\내 드라이브\\Project\\RGBLab\\ABB\\Data\\Resized\\01.폭행(assult)\\inside_croki_05\\417-3\\417-3_cam03_assault01_place03_night_winter_resized.mp4\n",
      "Copying G:\\내 드라이브\\Project\\RGBLab\\ABB\\Data\\01.폭행(assult)\\outsidedoor_01\\12-1\\12-1_cam02_assault01_place09_day_summer_resized.mp4 to G:\\내 드라이브\\Project\\RGBLab\\ABB\\Data\\Resized\\01.폭행(assult)\\outsidedoor_01\\12-1\\12-1_cam02_assault01_place09_day_summer_resized.mp4\n"
     ]
    },
    {
     "name": "stderr",
     "output_type": "stream",
     "text": [
      "Copying files: 408it [00:16, 21.42it/s]"
     ]
    },
    {
     "name": "stdout",
     "output_type": "stream",
     "text": [
      "Copying G:\\내 드라이브\\Project\\RGBLab\\ABB\\Data\\01.폭행(assult)\\outsidedoor_01\\12-1\\12-1_cam01_assault01_place09_day_summer_resized.mp4 to G:\\내 드라이브\\Project\\RGBLab\\ABB\\Data\\Resized\\01.폭행(assult)\\outsidedoor_01\\12-1\\12-1_cam01_assault01_place09_day_summer_resized.mp4\n"
     ]
    },
    {
     "name": "stderr",
     "output_type": "stream",
     "text": [
      "Copying files: 411it [00:17, 12.22it/s]"
     ]
    },
    {
     "name": "stdout",
     "output_type": "stream",
     "text": [
      "Copying G:\\내 드라이브\\Project\\RGBLab\\ABB\\Data\\01.폭행(assult)\\outsidedoor_01\\12-1\\12-1_cam01_assault01_place09_day_spring_resized.mp4 to G:\\내 드라이브\\Project\\RGBLab\\ABB\\Data\\Resized\\01.폭행(assult)\\outsidedoor_01\\12-1\\12-1_cam01_assault01_place09_day_spring_resized.mp4\n"
     ]
    },
    {
     "name": "stderr",
     "output_type": "stream",
     "text": [
      "Copying files: 411it [00:17, 12.22it/s]"
     ]
    },
    {
     "name": "stdout",
     "output_type": "stream",
     "text": [
      "Copying G:\\내 드라이브\\Project\\RGBLab\\ABB\\Data\\01.폭행(assult)\\outsidedoor_01\\12-1\\12-1_cam02_assault01_place09_day_spring_resized.mp4 to G:\\내 드라이브\\Project\\RGBLab\\ABB\\Data\\Resized\\01.폭행(assult)\\outsidedoor_01\\12-1\\12-1_cam02_assault01_place09_day_spring_resized.mp4\n"
     ]
    },
    {
     "name": "stderr",
     "output_type": "stream",
     "text": [
      "Copying files: 413it [00:17,  8.57it/s]"
     ]
    },
    {
     "name": "stdout",
     "output_type": "stream",
     "text": [
      "Copying G:\\내 드라이브\\Project\\RGBLab\\ABB\\Data\\01.폭행(assult)\\outsidedoor_01\\12-2\\12-2_cam02_assault01_place09_day_summer_resized.mp4 to G:\\내 드라이브\\Project\\RGBLab\\ABB\\Data\\Resized\\01.폭행(assult)\\outsidedoor_01\\12-2\\12-2_cam02_assault01_place09_day_summer_resized.mp4\n"
     ]
    },
    {
     "name": "stderr",
     "output_type": "stream",
     "text": [
      "Copying files: 413it [00:17,  8.57it/s]"
     ]
    },
    {
     "name": "stdout",
     "output_type": "stream",
     "text": [
      "Copying G:\\내 드라이브\\Project\\RGBLab\\ABB\\Data\\01.폭행(assult)\\outsidedoor_01\\12-2\\12-2_cam01_assault01_place09_day_spring_resized.mp4 to G:\\내 드라이브\\Project\\RGBLab\\ABB\\Data\\Resized\\01.폭행(assult)\\outsidedoor_01\\12-2\\12-2_cam01_assault01_place09_day_spring_resized.mp4\n"
     ]
    },
    {
     "name": "stderr",
     "output_type": "stream",
     "text": [
      "Copying files: 415it [00:18,  6.82it/s]"
     ]
    },
    {
     "name": "stdout",
     "output_type": "stream",
     "text": [
      "Copying G:\\내 드라이브\\Project\\RGBLab\\ABB\\Data\\01.폭행(assult)\\outsidedoor_01\\12-2\\12-2_cam02_assault01_place09_day_spring_resized.mp4 to G:\\내 드라이브\\Project\\RGBLab\\ABB\\Data\\Resized\\01.폭행(assult)\\outsidedoor_01\\12-2\\12-2_cam02_assault01_place09_day_spring_resized.mp4\n"
     ]
    },
    {
     "name": "stderr",
     "output_type": "stream",
     "text": [
      "Copying files: 415it [00:18,  6.82it/s]"
     ]
    },
    {
     "name": "stdout",
     "output_type": "stream",
     "text": [
      "Copying G:\\내 드라이브\\Project\\RGBLab\\ABB\\Data\\01.폭행(assult)\\outsidedoor_01\\12-2\\12-2_cam01_assault01_place09_day_summer_resized.mp4 to G:\\내 드라이브\\Project\\RGBLab\\ABB\\Data\\Resized\\01.폭행(assult)\\outsidedoor_01\\12-2\\12-2_cam01_assault01_place09_day_summer_resized.mp4\n"
     ]
    },
    {
     "name": "stderr",
     "output_type": "stream",
     "text": [
      "Copying files: 417it [00:18,  5.93it/s]"
     ]
    },
    {
     "name": "stdout",
     "output_type": "stream",
     "text": [
      "Copying G:\\내 드라이브\\Project\\RGBLab\\ABB\\Data\\01.폭행(assult)\\outsidedoor_01\\12-3\\12-3_cam02_assault01_place09_day_summer_resized.mp4 to G:\\내 드라이브\\Project\\RGBLab\\ABB\\Data\\Resized\\01.폭행(assult)\\outsidedoor_01\\12-3\\12-3_cam02_assault01_place09_day_summer_resized.mp4\n"
     ]
    },
    {
     "name": "stderr",
     "output_type": "stream",
     "text": [
      "Copying files: 419it [00:18,  5.48it/s]"
     ]
    },
    {
     "name": "stdout",
     "output_type": "stream",
     "text": [
      "Copying G:\\내 드라이브\\Project\\RGBLab\\ABB\\Data\\01.폭행(assult)\\outsidedoor_01\\12-3\\12-3_cam01_assault01_place09_day_summer_resized.mp4 to G:\\내 드라이브\\Project\\RGBLab\\ABB\\Data\\Resized\\01.폭행(assult)\\outsidedoor_01\\12-3\\12-3_cam01_assault01_place09_day_summer_resized.mp4\n"
     ]
    },
    {
     "name": "stderr",
     "output_type": "stream",
     "text": [
      "Copying files: 419it [00:18,  5.48it/s]"
     ]
    },
    {
     "name": "stdout",
     "output_type": "stream",
     "text": [
      "Copying G:\\내 드라이브\\Project\\RGBLab\\ABB\\Data\\01.폭행(assult)\\outsidedoor_01\\12-3\\12-3_cam02_assault01_place09_day_spring_resized.mp4 to G:\\내 드라이브\\Project\\RGBLab\\ABB\\Data\\Resized\\01.폭행(assult)\\outsidedoor_01\\12-3\\12-3_cam02_assault01_place09_day_spring_resized.mp4\n"
     ]
    },
    {
     "name": "stderr",
     "output_type": "stream",
     "text": [
      "Copying files: 420it [00:19,  4.86it/s]"
     ]
    },
    {
     "name": "stdout",
     "output_type": "stream",
     "text": [
      "Copying G:\\내 드라이브\\Project\\RGBLab\\ABB\\Data\\01.폭행(assult)\\outsidedoor_01\\12-3\\12-3_cam01_assault01_place09_day_spring_resized.mp4 to G:\\내 드라이브\\Project\\RGBLab\\ABB\\Data\\Resized\\01.폭행(assult)\\outsidedoor_01\\12-3\\12-3_cam01_assault01_place09_day_spring_resized.mp4\n"
     ]
    },
    {
     "name": "stderr",
     "output_type": "stream",
     "text": [
      "Copying files: 422it [00:19,  4.84it/s]"
     ]
    },
    {
     "name": "stdout",
     "output_type": "stream",
     "text": [
      "Copying G:\\내 드라이브\\Project\\RGBLab\\ABB\\Data\\01.폭행(assult)\\outsidedoor_01\\12-4\\12-4_cam01_assault01_place09_day_spring_resized.mp4 to G:\\내 드라이브\\Project\\RGBLab\\ABB\\Data\\Resized\\01.폭행(assult)\\outsidedoor_01\\12-4\\12-4_cam01_assault01_place09_day_spring_resized.mp4\n"
     ]
    },
    {
     "name": "stderr",
     "output_type": "stream",
     "text": [
      "Copying files: 422it [00:19,  4.84it/s]"
     ]
    },
    {
     "name": "stdout",
     "output_type": "stream",
     "text": [
      "Copying G:\\내 드라이브\\Project\\RGBLab\\ABB\\Data\\01.폭행(assult)\\outsidedoor_01\\12-4\\12-4_cam02_assault01_place09_day_spring_resized.mp4 to G:\\내 드라이브\\Project\\RGBLab\\ABB\\Data\\Resized\\01.폭행(assult)\\outsidedoor_01\\12-4\\12-4_cam02_assault01_place09_day_spring_resized.mp4\n"
     ]
    },
    {
     "name": "stderr",
     "output_type": "stream",
     "text": [
      "Copying files: 424it [00:20,  4.55it/s]"
     ]
    },
    {
     "name": "stdout",
     "output_type": "stream",
     "text": [
      "Copying G:\\내 드라이브\\Project\\RGBLab\\ABB\\Data\\01.폭행(assult)\\outsidedoor_01\\12-4\\12-4_cam01_assault01_place09_day_summer_resized.mp4 to G:\\내 드라이브\\Project\\RGBLab\\ABB\\Data\\Resized\\01.폭행(assult)\\outsidedoor_01\\12-4\\12-4_cam01_assault01_place09_day_summer_resized.mp4\n"
     ]
    },
    {
     "name": "stderr",
     "output_type": "stream",
     "text": [
      "Copying files: 424it [00:20,  4.55it/s]"
     ]
    },
    {
     "name": "stdout",
     "output_type": "stream",
     "text": [
      "Copying G:\\내 드라이브\\Project\\RGBLab\\ABB\\Data\\01.폭행(assult)\\outsidedoor_01\\12-4\\12-4_cam02_assault01_place09_day_summer_resized.mp4 to G:\\내 드라이브\\Project\\RGBLab\\ABB\\Data\\Resized\\01.폭행(assult)\\outsidedoor_01\\12-4\\12-4_cam02_assault01_place09_day_summer_resized.mp4\n"
     ]
    },
    {
     "name": "stderr",
     "output_type": "stream",
     "text": [
      "Copying files: 425it [00:20,  4.20it/s]"
     ]
    },
    {
     "name": "stdout",
     "output_type": "stream",
     "text": [
      "Copying G:\\내 드라이브\\Project\\RGBLab\\ABB\\Data\\01.폭행(assult)\\outsidedoor_01\\12-5\\12-5_cam01_assault01_place09_day_spring_resized.mp4 to G:\\내 드라이브\\Project\\RGBLab\\ABB\\Data\\Resized\\01.폭행(assult)\\outsidedoor_01\\12-5\\12-5_cam01_assault01_place09_day_spring_resized.mp4\n"
     ]
    },
    {
     "name": "stderr",
     "output_type": "stream",
     "text": [
      "Copying files: 426it [00:20,  4.18it/s]"
     ]
    },
    {
     "name": "stdout",
     "output_type": "stream",
     "text": [
      "Copying G:\\내 드라이브\\Project\\RGBLab\\ABB\\Data\\01.폭행(assult)\\outsidedoor_01\\12-5\\12-5_cam02_assault01_place09_day_spring_resized.mp4 to G:\\내 드라이브\\Project\\RGBLab\\ABB\\Data\\Resized\\01.폭행(assult)\\outsidedoor_01\\12-5\\12-5_cam02_assault01_place09_day_spring_resized.mp4\n"
     ]
    },
    {
     "name": "stderr",
     "output_type": "stream",
     "text": [
      "Copying files: 428it [00:21,  4.28it/s]"
     ]
    },
    {
     "name": "stdout",
     "output_type": "stream",
     "text": [
      "Copying G:\\내 드라이브\\Project\\RGBLab\\ABB\\Data\\01.폭행(assult)\\outsidedoor_01\\12-5\\12-5_cam01_assault01_place09_day_summer_resized.mp4 to G:\\내 드라이브\\Project\\RGBLab\\ABB\\Data\\Resized\\01.폭행(assult)\\outsidedoor_01\\12-5\\12-5_cam01_assault01_place09_day_summer_resized.mp4\n"
     ]
    },
    {
     "name": "stderr",
     "output_type": "stream",
     "text": [
      "Copying files: 428it [00:21,  4.28it/s]"
     ]
    },
    {
     "name": "stdout",
     "output_type": "stream",
     "text": [
      "Copying G:\\내 드라이브\\Project\\RGBLab\\ABB\\Data\\01.폭행(assult)\\outsidedoor_01\\12-5\\12-5_cam02_assault01_place09_day_summer_resized.mp4 to G:\\내 드라이브\\Project\\RGBLab\\ABB\\Data\\Resized\\01.폭행(assult)\\outsidedoor_01\\12-5\\12-5_cam02_assault01_place09_day_summer_resized.mp4\n"
     ]
    },
    {
     "name": "stderr",
     "output_type": "stream",
     "text": [
      "Copying files: 430it [00:21,  4.52it/s]"
     ]
    },
    {
     "name": "stdout",
     "output_type": "stream",
     "text": [
      "Copying G:\\내 드라이브\\Project\\RGBLab\\ABB\\Data\\01.폭행(assult)\\outsidedoor_01\\11-2\\11-2_cam01_assault01_place08_night_summer_resized.mp4 to G:\\내 드라이브\\Project\\RGBLab\\ABB\\Data\\Resized\\01.폭행(assult)\\outsidedoor_01\\11-2\\11-2_cam01_assault01_place08_night_summer_resized.mp4\n",
      "Copying G:\\내 드라이브\\Project\\RGBLab\\ABB\\Data\\01.폭행(assult)\\outsidedoor_01\\11-2\\11-2_cam01_assault01_place08_night_spring_resized.mp4 to G:\\내 드라이브\\Project\\RGBLab\\ABB\\Data\\Resized\\01.폭행(assult)\\outsidedoor_01\\11-2\\11-2_cam01_assault01_place08_night_spring_resized.mp4\n"
     ]
    },
    {
     "name": "stderr",
     "output_type": "stream",
     "text": [
      "Copying files: 431it [00:21,  4.88it/s]"
     ]
    },
    {
     "name": "stdout",
     "output_type": "stream",
     "text": [
      "Copying G:\\내 드라이브\\Project\\RGBLab\\ABB\\Data\\01.폭행(assult)\\outsidedoor_01\\11-2\\11-2_cam02_assault01_place08_night_summer_resized.mp4 to G:\\내 드라이브\\Project\\RGBLab\\ABB\\Data\\Resized\\01.폭행(assult)\\outsidedoor_01\\11-2\\11-2_cam02_assault01_place08_night_summer_resized.mp4\n",
      "Copying G:\\내 드라이브\\Project\\RGBLab\\ABB\\Data\\01.폭행(assult)\\outsidedoor_01\\11-2\\11-2_cam02_assault01_place08_night_spring_resized.mp4 to G:\\내 드라이브\\Project\\RGBLab\\ABB\\Data\\Resized\\01.폭행(assult)\\outsidedoor_01\\11-2\\11-2_cam02_assault01_place08_night_spring_resized.mp4\n"
     ]
    },
    {
     "name": "stderr",
     "output_type": "stream",
     "text": [
      "Copying files: 434it [00:22,  5.87it/s]"
     ]
    },
    {
     "name": "stdout",
     "output_type": "stream",
     "text": [
      "Copying G:\\내 드라이브\\Project\\RGBLab\\ABB\\Data\\01.폭행(assult)\\outsidedoor_01\\11-3\\11-3_cam01_assault01_place08_night_spring_resized.mp4 to G:\\내 드라이브\\Project\\RGBLab\\ABB\\Data\\Resized\\01.폭행(assult)\\outsidedoor_01\\11-3\\11-3_cam01_assault01_place08_night_spring_resized.mp4\n",
      "Copying G:\\내 드라이브\\Project\\RGBLab\\ABB\\Data\\01.폭행(assult)\\outsidedoor_01\\11-3\\11-3_cam02_assault01_place08_night_spring_resized.mp4 to G:\\내 드라이브\\Project\\RGBLab\\ABB\\Data\\Resized\\01.폭행(assult)\\outsidedoor_01\\11-3\\11-3_cam02_assault01_place08_night_spring_resized.mp4\n"
     ]
    },
    {
     "name": "stderr",
     "output_type": "stream",
     "text": [
      "Copying files: 436it [00:22,  5.80it/s]"
     ]
    },
    {
     "name": "stdout",
     "output_type": "stream",
     "text": [
      "Copying G:\\내 드라이브\\Project\\RGBLab\\ABB\\Data\\01.폭행(assult)\\outsidedoor_01\\11-4\\11-4_cam01_assault01_place08_night_summer_resized.mp4 to G:\\내 드라이브\\Project\\RGBLab\\ABB\\Data\\Resized\\01.폭행(assult)\\outsidedoor_01\\11-4\\11-4_cam01_assault01_place08_night_summer_resized.mp4\n",
      "Copying G:\\내 드라이브\\Project\\RGBLab\\ABB\\Data\\01.폭행(assult)\\outsidedoor_01\\11-4\\11-4_cam01_assault01_place08_night_spring_resized.mp4 to G:\\내 드라이브\\Project\\RGBLab\\ABB\\Data\\Resized\\01.폭행(assult)\\outsidedoor_01\\11-4\\11-4_cam01_assault01_place08_night_spring_resized.mp4\n"
     ]
    },
    {
     "name": "stderr",
     "output_type": "stream",
     "text": [
      "Copying files: 438it [00:22,  5.59it/s]"
     ]
    },
    {
     "name": "stdout",
     "output_type": "stream",
     "text": [
      "Copying G:\\내 드라이브\\Project\\RGBLab\\ABB\\Data\\01.폭행(assult)\\outsidedoor_01\\11-4\\11-4_cam02_assault01_place08_night_spring_resized.mp4 to G:\\내 드라이브\\Project\\RGBLab\\ABB\\Data\\Resized\\01.폭행(assult)\\outsidedoor_01\\11-4\\11-4_cam02_assault01_place08_night_spring_resized.mp4\n",
      "Copying G:\\내 드라이브\\Project\\RGBLab\\ABB\\Data\\01.폭행(assult)\\outsidedoor_01\\11-4\\11-4_cam02_assault01_place08_night_summer_resized.mp4 to G:\\내 드라이브\\Project\\RGBLab\\ABB\\Data\\Resized\\01.폭행(assult)\\outsidedoor_01\\11-4\\11-4_cam02_assault01_place08_night_summer_resized.mp4\n"
     ]
    },
    {
     "name": "stderr",
     "output_type": "stream",
     "text": [
      "Copying files: 439it [00:23,  5.65it/s]"
     ]
    },
    {
     "name": "stdout",
     "output_type": "stream",
     "text": [
      "Copying G:\\내 드라이브\\Project\\RGBLab\\ABB\\Data\\01.폭행(assult)\\outsidedoor_01\\11-6\\11-6_cam02_assault01_place08_night_spring_resized.mp4 to G:\\내 드라이브\\Project\\RGBLab\\ABB\\Data\\Resized\\01.폭행(assult)\\outsidedoor_01\\11-6\\11-6_cam02_assault01_place08_night_spring_resized.mp4\n"
     ]
    },
    {
     "name": "stderr",
     "output_type": "stream",
     "text": [
      "Copying files: 441it [00:23,  5.22it/s]"
     ]
    },
    {
     "name": "stdout",
     "output_type": "stream",
     "text": [
      "Copying G:\\내 드라이브\\Project\\RGBLab\\ABB\\Data\\01.폭행(assult)\\outsidedoor_01\\11-6\\11-6_cam01_assault01_place08_night_spring_resized.mp4 to G:\\내 드라이브\\Project\\RGBLab\\ABB\\Data\\Resized\\01.폭행(assult)\\outsidedoor_01\\11-6\\11-6_cam01_assault01_place08_night_spring_resized.mp4\n",
      "Copying G:\\내 드라이브\\Project\\RGBLab\\ABB\\Data\\01.폭행(assult)\\outsidedoor_01\\11-6\\11-6_cam02_assault01_place08_night_summer_resized.mp4 to G:\\내 드라이브\\Project\\RGBLab\\ABB\\Data\\Resized\\01.폭행(assult)\\outsidedoor_01\\11-6\\11-6_cam02_assault01_place08_night_summer_resized.mp4\n"
     ]
    },
    {
     "name": "stderr",
     "output_type": "stream",
     "text": [
      "Copying files: 443it [00:23,  5.64it/s]"
     ]
    },
    {
     "name": "stdout",
     "output_type": "stream",
     "text": [
      "Copying G:\\내 드라이브\\Project\\RGBLab\\ABB\\Data\\01.폭행(assult)\\outsidedoor_01\\11-6\\11-6_cam01_assault01_place08_night_summer_resized.mp4 to G:\\내 드라이브\\Project\\RGBLab\\ABB\\Data\\Resized\\01.폭행(assult)\\outsidedoor_01\\11-6\\11-6_cam01_assault01_place08_night_summer_resized.mp4\n",
      "Copying G:\\내 드라이브\\Project\\RGBLab\\ABB\\Data\\01.폭행(assult)\\outsidedoor_01\\11-5\\11-5_cam02_assault01_place08_night_spring_resized.mp4 to G:\\내 드라이브\\Project\\RGBLab\\ABB\\Data\\Resized\\01.폭행(assult)\\outsidedoor_01\\11-5\\11-5_cam02_assault01_place08_night_spring_resized.mp4\n"
     ]
    },
    {
     "name": "stderr",
     "output_type": "stream",
     "text": [
      "Copying files: 445it [00:24,  5.48it/s]"
     ]
    },
    {
     "name": "stdout",
     "output_type": "stream",
     "text": [
      "Copying G:\\내 드라이브\\Project\\RGBLab\\ABB\\Data\\01.폭행(assult)\\outsidedoor_01\\11-5\\11-5_cam01_assault01_place08_night_spring_resized.mp4 to G:\\내 드라이브\\Project\\RGBLab\\ABB\\Data\\Resized\\01.폭행(assult)\\outsidedoor_01\\11-5\\11-5_cam01_assault01_place08_night_spring_resized.mp4\n"
     ]
    },
    {
     "name": "stderr",
     "output_type": "stream",
     "text": [
      "Copying files: 446it [00:24,  5.61it/s]"
     ]
    },
    {
     "name": "stdout",
     "output_type": "stream",
     "text": [
      "Copying G:\\내 드라이브\\Project\\RGBLab\\ABB\\Data\\01.폭행(assult)\\outsidedoor_01\\11-5\\11-5_cam01_assault01_place08_night_summer_resized.mp4 to G:\\내 드라이브\\Project\\RGBLab\\ABB\\Data\\Resized\\01.폭행(assult)\\outsidedoor_01\\11-5\\11-5_cam01_assault01_place08_night_summer_resized.mp4\n",
      "Copying G:\\내 드라이브\\Project\\RGBLab\\ABB\\Data\\01.폭행(assult)\\outsidedoor_01\\11-5\\11-5_cam02_assault01_place08_night_summer_resized.mp4 to G:\\내 드라이브\\Project\\RGBLab\\ABB\\Data\\Resized\\01.폭행(assult)\\outsidedoor_01\\11-5\\11-5_cam02_assault01_place08_night_summer_resized.mp4\n"
     ]
    },
    {
     "name": "stderr",
     "output_type": "stream",
     "text": [
      "Copying files: 447it [00:24,  5.51it/s]"
     ]
    },
    {
     "name": "stdout",
     "output_type": "stream",
     "text": [
      "Copying G:\\내 드라이브\\Project\\RGBLab\\ABB\\Data\\01.폭행(assult)\\outsidedoor_02\\12-6\\12-6_cam02_assault01_place09_day_spring_resized.mp4 to G:\\내 드라이브\\Project\\RGBLab\\ABB\\Data\\Resized\\01.폭행(assult)\\outsidedoor_02\\12-6\\12-6_cam02_assault01_place09_day_spring_resized.mp4\n"
     ]
    },
    {
     "name": "stderr",
     "output_type": "stream",
     "text": [
      "Copying files: 448it [00:24,  4.48it/s]"
     ]
    },
    {
     "name": "stdout",
     "output_type": "stream",
     "text": [
      "Copying G:\\내 드라이브\\Project\\RGBLab\\ABB\\Data\\01.폭행(assult)\\outsidedoor_02\\12-6\\12-6_cam01_assault01_place09_day_spring_resized.mp4 to G:\\내 드라이브\\Project\\RGBLab\\ABB\\Data\\Resized\\01.폭행(assult)\\outsidedoor_02\\12-6\\12-6_cam01_assault01_place09_day_spring_resized.mp4\n"
     ]
    },
    {
     "name": "stderr",
     "output_type": "stream",
     "text": [
      "Copying files: 450it [00:25,  4.66it/s]"
     ]
    },
    {
     "name": "stdout",
     "output_type": "stream",
     "text": [
      "Copying G:\\내 드라이브\\Project\\RGBLab\\ABB\\Data\\01.폭행(assult)\\outsidedoor_02\\12-6\\12-6_cam01_assault01_place09_day_summer_resized.mp4 to G:\\내 드라이브\\Project\\RGBLab\\ABB\\Data\\Resized\\01.폭행(assult)\\outsidedoor_02\\12-6\\12-6_cam01_assault01_place09_day_summer_resized.mp4\n"
     ]
    },
    {
     "name": "stderr",
     "output_type": "stream",
     "text": [
      "Copying files: 450it [00:25,  4.66it/s]"
     ]
    },
    {
     "name": "stdout",
     "output_type": "stream",
     "text": [
      "Copying G:\\내 드라이브\\Project\\RGBLab\\ABB\\Data\\01.폭행(assult)\\outsidedoor_02\\12-6\\12-6_cam02_assault01_place09_day_summer_resized.mp4 to G:\\내 드라이브\\Project\\RGBLab\\ABB\\Data\\Resized\\01.폭행(assult)\\outsidedoor_02\\12-6\\12-6_cam02_assault01_place09_day_summer_resized.mp4\n"
     ]
    },
    {
     "name": "stderr",
     "output_type": "stream",
     "text": [
      "Copying files: 451it [00:25,  4.20it/s]"
     ]
    },
    {
     "name": "stdout",
     "output_type": "stream",
     "text": [
      "Copying G:\\내 드라이브\\Project\\RGBLab\\ABB\\Data\\01.폭행(assult)\\outsidedoor_02\\13-1\\13-1_cam02_assault02_place08_day_summer_resized.mp4 to G:\\내 드라이브\\Project\\RGBLab\\ABB\\Data\\Resized\\01.폭행(assult)\\outsidedoor_02\\13-1\\13-1_cam02_assault02_place08_day_summer_resized.mp4\n"
     ]
    },
    {
     "name": "stderr",
     "output_type": "stream",
     "text": [
      "Copying files: 452it [00:25,  4.10it/s]"
     ]
    },
    {
     "name": "stdout",
     "output_type": "stream",
     "text": [
      "Copying G:\\내 드라이브\\Project\\RGBLab\\ABB\\Data\\01.폭행(assult)\\outsidedoor_02\\13-1\\13-1_cam02_assault02_place08_day_spring_resized.mp4 to G:\\내 드라이브\\Project\\RGBLab\\ABB\\Data\\Resized\\01.폭행(assult)\\outsidedoor_02\\13-1\\13-1_cam02_assault02_place08_day_spring_resized.mp4\n"
     ]
    },
    {
     "name": "stderr",
     "output_type": "stream",
     "text": [
      "Copying files: 453it [00:26,  3.87it/s]"
     ]
    },
    {
     "name": "stdout",
     "output_type": "stream",
     "text": [
      "Copying G:\\내 드라이브\\Project\\RGBLab\\ABB\\Data\\01.폭행(assult)\\outsidedoor_02\\13-1\\13-1_cam01_assault02_place08_day_summer_resized.mp4 to G:\\내 드라이브\\Project\\RGBLab\\ABB\\Data\\Resized\\01.폭행(assult)\\outsidedoor_02\\13-1\\13-1_cam01_assault02_place08_day_summer_resized.mp4\n"
     ]
    },
    {
     "name": "stderr",
     "output_type": "stream",
     "text": [
      "Copying files: 454it [00:26,  3.75it/s]"
     ]
    },
    {
     "name": "stdout",
     "output_type": "stream",
     "text": [
      "Copying G:\\내 드라이브\\Project\\RGBLab\\ABB\\Data\\01.폭행(assult)\\outsidedoor_02\\13-1\\13-1_cam01_assault02_place08_day_spring_resized.mp4 to G:\\내 드라이브\\Project\\RGBLab\\ABB\\Data\\Resized\\01.폭행(assult)\\outsidedoor_02\\13-1\\13-1_cam01_assault02_place08_day_spring_resized.mp4\n"
     ]
    },
    {
     "name": "stderr",
     "output_type": "stream",
     "text": [
      "Copying files: 455it [00:26,  3.66it/s]"
     ]
    },
    {
     "name": "stdout",
     "output_type": "stream",
     "text": [
      "Copying G:\\내 드라이브\\Project\\RGBLab\\ABB\\Data\\01.폭행(assult)\\outsidedoor_02\\13-2\\13-2_cam01_assault02_place08_day_summer_resized.mp4 to G:\\내 드라이브\\Project\\RGBLab\\ABB\\Data\\Resized\\01.폭행(assult)\\outsidedoor_02\\13-2\\13-2_cam01_assault02_place08_day_summer_resized.mp4\n"
     ]
    },
    {
     "name": "stderr",
     "output_type": "stream",
     "text": [
      "Copying files: 456it [00:27,  3.33it/s]"
     ]
    },
    {
     "name": "stdout",
     "output_type": "stream",
     "text": [
      "Copying G:\\내 드라이브\\Project\\RGBLab\\ABB\\Data\\01.폭행(assult)\\outsidedoor_02\\13-2\\13-2_cam02_assault02_place08_day_spring_resized.mp4 to G:\\내 드라이브\\Project\\RGBLab\\ABB\\Data\\Resized\\01.폭행(assult)\\outsidedoor_02\\13-2\\13-2_cam02_assault02_place08_day_spring_resized.mp4\n"
     ]
    },
    {
     "name": "stderr",
     "output_type": "stream",
     "text": [
      "Copying files: 457it [00:27,  3.15it/s]"
     ]
    },
    {
     "name": "stdout",
     "output_type": "stream",
     "text": [
      "Copying G:\\내 드라이브\\Project\\RGBLab\\ABB\\Data\\01.폭행(assult)\\outsidedoor_02\\13-2\\13-2_cam01_assault02_place08_day_spring_resized.mp4 to G:\\내 드라이브\\Project\\RGBLab\\ABB\\Data\\Resized\\01.폭행(assult)\\outsidedoor_02\\13-2\\13-2_cam01_assault02_place08_day_spring_resized.mp4\n"
     ]
    },
    {
     "name": "stderr",
     "output_type": "stream",
     "text": [
      "Copying files: 458it [00:27,  3.20it/s]"
     ]
    },
    {
     "name": "stdout",
     "output_type": "stream",
     "text": [
      "Copying G:\\내 드라이브\\Project\\RGBLab\\ABB\\Data\\01.폭행(assult)\\outsidedoor_02\\13-2\\13-2_cam02_assault02_place08_day_summer_resized.mp4 to G:\\내 드라이브\\Project\\RGBLab\\ABB\\Data\\Resized\\01.폭행(assult)\\outsidedoor_02\\13-2\\13-2_cam02_assault02_place08_day_summer_resized.mp4\n"
     ]
    },
    {
     "name": "stderr",
     "output_type": "stream",
     "text": [
      "Copying files: 459it [00:28,  3.07it/s]"
     ]
    },
    {
     "name": "stdout",
     "output_type": "stream",
     "text": [
      "Copying G:\\내 드라이브\\Project\\RGBLab\\ABB\\Data\\01.폭행(assult)\\outsidedoor_02\\13-3\\13-3_cam01_assault02_place08_day_spring_resized.mp4 to G:\\내 드라이브\\Project\\RGBLab\\ABB\\Data\\Resized\\01.폭행(assult)\\outsidedoor_02\\13-3\\13-3_cam01_assault02_place08_day_spring_resized.mp4\n"
     ]
    },
    {
     "name": "stderr",
     "output_type": "stream",
     "text": [
      "Copying files: 460it [00:28,  3.08it/s]"
     ]
    },
    {
     "name": "stdout",
     "output_type": "stream",
     "text": [
      "Copying G:\\내 드라이브\\Project\\RGBLab\\ABB\\Data\\01.폭행(assult)\\outsidedoor_02\\13-3\\13-3_cam01_assault02_place08_day_summer_resized.mp4 to G:\\내 드라이브\\Project\\RGBLab\\ABB\\Data\\Resized\\01.폭행(assult)\\outsidedoor_02\\13-3\\13-3_cam01_assault02_place08_day_summer_resized.mp4\n"
     ]
    },
    {
     "name": "stderr",
     "output_type": "stream",
     "text": [
      "Copying files: 461it [00:28,  2.94it/s]"
     ]
    },
    {
     "name": "stdout",
     "output_type": "stream",
     "text": [
      "Copying G:\\내 드라이브\\Project\\RGBLab\\ABB\\Data\\01.폭행(assult)\\outsidedoor_02\\13-3\\13-3_cam02_assault02_place08_day_summer_resized.mp4 to G:\\내 드라이브\\Project\\RGBLab\\ABB\\Data\\Resized\\01.폭행(assult)\\outsidedoor_02\\13-3\\13-3_cam02_assault02_place08_day_summer_resized.mp4\n"
     ]
    },
    {
     "name": "stderr",
     "output_type": "stream",
     "text": [
      "Copying files: 462it [00:29,  3.00it/s]"
     ]
    },
    {
     "name": "stdout",
     "output_type": "stream",
     "text": [
      "Copying G:\\내 드라이브\\Project\\RGBLab\\ABB\\Data\\01.폭행(assult)\\outsidedoor_02\\13-3\\13-3_cam02_assault02_place08_day_spring_resized.mp4 to G:\\내 드라이브\\Project\\RGBLab\\ABB\\Data\\Resized\\01.폭행(assult)\\outsidedoor_02\\13-3\\13-3_cam02_assault02_place08_day_spring_resized.mp4\n"
     ]
    },
    {
     "name": "stderr",
     "output_type": "stream",
     "text": [
      "Copying files: 463it [00:29,  3.12it/s]"
     ]
    },
    {
     "name": "stdout",
     "output_type": "stream",
     "text": [
      "Copying G:\\내 드라이브\\Project\\RGBLab\\ABB\\Data\\01.폭행(assult)\\outsidedoor_02\\13-4\\13-4_cam02_assault02_place08_day_summer_resized.mp4 to G:\\내 드라이브\\Project\\RGBLab\\ABB\\Data\\Resized\\01.폭행(assult)\\outsidedoor_02\\13-4\\13-4_cam02_assault02_place08_day_summer_resized.mp4\n"
     ]
    },
    {
     "name": "stderr",
     "output_type": "stream",
     "text": [
      "Copying files: 464it [00:29,  3.21it/s]"
     ]
    },
    {
     "name": "stdout",
     "output_type": "stream",
     "text": [
      "Copying G:\\내 드라이브\\Project\\RGBLab\\ABB\\Data\\01.폭행(assult)\\outsidedoor_02\\13-4\\13-4_cam01_assault02_place08_day_summer_resized.mp4 to G:\\내 드라이브\\Project\\RGBLab\\ABB\\Data\\Resized\\01.폭행(assult)\\outsidedoor_02\\13-4\\13-4_cam01_assault02_place08_day_summer_resized.mp4\n"
     ]
    },
    {
     "name": "stderr",
     "output_type": "stream",
     "text": [
      "Copying files: 465it [00:30,  3.19it/s]"
     ]
    },
    {
     "name": "stdout",
     "output_type": "stream",
     "text": [
      "Copying G:\\내 드라이브\\Project\\RGBLab\\ABB\\Data\\01.폭행(assult)\\outsidedoor_02\\13-4\\13-4_cam02_assault02_place08_day_spring_resized.mp4 to G:\\내 드라이브\\Project\\RGBLab\\ABB\\Data\\Resized\\01.폭행(assult)\\outsidedoor_02\\13-4\\13-4_cam02_assault02_place08_day_spring_resized.mp4\n"
     ]
    },
    {
     "name": "stderr",
     "output_type": "stream",
     "text": [
      "Copying files: 466it [00:30,  3.21it/s]"
     ]
    },
    {
     "name": "stdout",
     "output_type": "stream",
     "text": [
      "Copying G:\\내 드라이브\\Project\\RGBLab\\ABB\\Data\\01.폭행(assult)\\outsidedoor_02\\13-4\\13-4_cam01_assault02_place08_day_spring_resized.mp4 to G:\\내 드라이브\\Project\\RGBLab\\ABB\\Data\\Resized\\01.폭행(assult)\\outsidedoor_02\\13-4\\13-4_cam01_assault02_place08_day_spring_resized.mp4\n"
     ]
    },
    {
     "name": "stderr",
     "output_type": "stream",
     "text": [
      "Copying files: 467it [00:30,  3.31it/s]"
     ]
    },
    {
     "name": "stdout",
     "output_type": "stream",
     "text": [
      "Copying G:\\내 드라이브\\Project\\RGBLab\\ABB\\Data\\01.폭행(assult)\\outsidedoor_02\\13-5\\13-5_cam02_assault02_place08_day_spring_resized.mp4 to G:\\내 드라이브\\Project\\RGBLab\\ABB\\Data\\Resized\\01.폭행(assult)\\outsidedoor_02\\13-5\\13-5_cam02_assault02_place08_day_spring_resized.mp4\n"
     ]
    },
    {
     "name": "stderr",
     "output_type": "stream",
     "text": [
      "Copying files: 468it [00:30,  3.45it/s]"
     ]
    },
    {
     "name": "stdout",
     "output_type": "stream",
     "text": [
      "Copying G:\\내 드라이브\\Project\\RGBLab\\ABB\\Data\\01.폭행(assult)\\outsidedoor_02\\13-5\\13-5_cam02_assault02_place08_day_summer_resized.mp4 to G:\\내 드라이브\\Project\\RGBLab\\ABB\\Data\\Resized\\01.폭행(assult)\\outsidedoor_02\\13-5\\13-5_cam02_assault02_place08_day_summer_resized.mp4\n"
     ]
    },
    {
     "name": "stderr",
     "output_type": "stream",
     "text": [
      "Copying files: 469it [00:31,  3.42it/s]"
     ]
    },
    {
     "name": "stdout",
     "output_type": "stream",
     "text": [
      "Copying G:\\내 드라이브\\Project\\RGBLab\\ABB\\Data\\01.폭행(assult)\\outsidedoor_02\\13-5\\13-5_cam01_assault02_place08_day_spring_resized.mp4 to G:\\내 드라이브\\Project\\RGBLab\\ABB\\Data\\Resized\\01.폭행(assult)\\outsidedoor_02\\13-5\\13-5_cam01_assault02_place08_day_spring_resized.mp4\n"
     ]
    },
    {
     "name": "stderr",
     "output_type": "stream",
     "text": [
      "Copying files: 470it [00:31,  3.35it/s]"
     ]
    },
    {
     "name": "stdout",
     "output_type": "stream",
     "text": [
      "Copying G:\\내 드라이브\\Project\\RGBLab\\ABB\\Data\\01.폭행(assult)\\outsidedoor_02\\13-5\\13-5_cam01_assault02_place08_day_summer_resized.mp4 to G:\\내 드라이브\\Project\\RGBLab\\ABB\\Data\\Resized\\01.폭행(assult)\\outsidedoor_02\\13-5\\13-5_cam01_assault02_place08_day_summer_resized.mp4\n"
     ]
    },
    {
     "name": "stderr",
     "output_type": "stream",
     "text": [
      "Copying files: 471it [00:31,  3.25it/s]"
     ]
    },
    {
     "name": "stdout",
     "output_type": "stream",
     "text": [
      "Copying G:\\내 드라이브\\Project\\RGBLab\\ABB\\Data\\01.폭행(assult)\\outsidedoor_02\\13-6\\13-6_cam02_assault02_place08_day_spring_resized.mp4 to G:\\내 드라이브\\Project\\RGBLab\\ABB\\Data\\Resized\\01.폭행(assult)\\outsidedoor_02\\13-6\\13-6_cam02_assault02_place08_day_spring_resized.mp4\n"
     ]
    },
    {
     "name": "stderr",
     "output_type": "stream",
     "text": [
      "Copying files: 472it [00:32,  3.43it/s]"
     ]
    },
    {
     "name": "stdout",
     "output_type": "stream",
     "text": [
      "Copying G:\\내 드라이브\\Project\\RGBLab\\ABB\\Data\\01.폭행(assult)\\outsidedoor_02\\13-6\\13-6_cam02_assault02_place08_day_summer_resized.mp4 to G:\\내 드라이브\\Project\\RGBLab\\ABB\\Data\\Resized\\01.폭행(assult)\\outsidedoor_02\\13-6\\13-6_cam02_assault02_place08_day_summer_resized.mp4\n"
     ]
    },
    {
     "name": "stderr",
     "output_type": "stream",
     "text": [
      "Copying files: 473it [00:32,  3.54it/s]"
     ]
    },
    {
     "name": "stdout",
     "output_type": "stream",
     "text": [
      "Copying G:\\내 드라이브\\Project\\RGBLab\\ABB\\Data\\01.폭행(assult)\\outsidedoor_02\\13-6\\13-6_cam01_assault02_place08_day_summer_resized.mp4 to G:\\내 드라이브\\Project\\RGBLab\\ABB\\Data\\Resized\\01.폭행(assult)\\outsidedoor_02\\13-6\\13-6_cam01_assault02_place08_day_summer_resized.mp4\n"
     ]
    },
    {
     "name": "stderr",
     "output_type": "stream",
     "text": [
      "Copying files: 474it [00:32,  3.54it/s]"
     ]
    },
    {
     "name": "stdout",
     "output_type": "stream",
     "text": [
      "Copying G:\\내 드라이브\\Project\\RGBLab\\ABB\\Data\\01.폭행(assult)\\outsidedoor_02\\13-6\\13-6_cam01_assault02_place08_day_spring_resized.mp4 to G:\\내 드라이브\\Project\\RGBLab\\ABB\\Data\\Resized\\01.폭행(assult)\\outsidedoor_02\\13-6\\13-6_cam01_assault02_place08_day_spring_resized.mp4\n"
     ]
    },
    {
     "name": "stderr",
     "output_type": "stream",
     "text": [
      "Copying files: 475it [00:32,  3.60it/s]"
     ]
    },
    {
     "name": "stdout",
     "output_type": "stream",
     "text": [
      "Copying G:\\내 드라이브\\Project\\RGBLab\\ABB\\Data\\01.폭행(assult)\\outsidedoor_02\\14-4\\14-4_cam01_assault02_place06_night_summer_resized.mp4 to G:\\내 드라이브\\Project\\RGBLab\\ABB\\Data\\Resized\\01.폭행(assult)\\outsidedoor_02\\14-4\\14-4_cam01_assault02_place06_night_summer_resized.mp4\n"
     ]
    },
    {
     "name": "stderr",
     "output_type": "stream",
     "text": [
      "Copying files: 477it [00:33,  3.98it/s]"
     ]
    },
    {
     "name": "stdout",
     "output_type": "stream",
     "text": [
      "Copying G:\\내 드라이브\\Project\\RGBLab\\ABB\\Data\\01.폭행(assult)\\outsidedoor_02\\16-1\\16-1_cam01_assault01_place02_night_summer_resized.mp4 to G:\\내 드라이브\\Project\\RGBLab\\ABB\\Data\\Resized\\01.폭행(assult)\\outsidedoor_02\\16-1\\16-1_cam01_assault01_place02_night_summer_resized.mp4\n"
     ]
    },
    {
     "name": "stderr",
     "output_type": "stream",
     "text": [
      "Copying files: 478it [00:33,  4.26it/s]"
     ]
    },
    {
     "name": "stdout",
     "output_type": "stream",
     "text": [
      "Copying G:\\내 드라이브\\Project\\RGBLab\\ABB\\Data\\01.폭행(assult)\\outsidedoor_02\\16-1\\16-1_cam01_assault01_place02_night_spring_resized.mp4 to G:\\내 드라이브\\Project\\RGBLab\\ABB\\Data\\Resized\\01.폭행(assult)\\outsidedoor_02\\16-1\\16-1_cam01_assault01_place02_night_spring_resized.mp4\n"
     ]
    },
    {
     "name": "stderr",
     "output_type": "stream",
     "text": [
      "Copying files: 478it [00:33,  4.26it/s]"
     ]
    },
    {
     "name": "stdout",
     "output_type": "stream",
     "text": [
      "Copying G:\\내 드라이브\\Project\\RGBLab\\ABB\\Data\\01.폭행(assult)\\outsidedoor_02\\16-1\\16-1_cam02_assault01_place02_night_spring_resized.mp4 to G:\\내 드라이브\\Project\\RGBLab\\ABB\\Data\\Resized\\01.폭행(assult)\\outsidedoor_02\\16-1\\16-1_cam02_assault01_place02_night_spring_resized.mp4\n"
     ]
    },
    {
     "name": "stderr",
     "output_type": "stream",
     "text": [
      "Copying files: 479it [00:33,  4.26it/s]"
     ]
    },
    {
     "name": "stdout",
     "output_type": "stream",
     "text": [
      "Copying G:\\내 드라이브\\Project\\RGBLab\\ABB\\Data\\01.폭행(assult)\\outsidedoor_02\\16-1\\16-1_cam02_assault01_place02_night_summer_resized.mp4 to G:\\내 드라이브\\Project\\RGBLab\\ABB\\Data\\Resized\\01.폭행(assult)\\outsidedoor_02\\16-1\\16-1_cam02_assault01_place02_night_summer_resized.mp4\n"
     ]
    },
    {
     "name": "stderr",
     "output_type": "stream",
     "text": [
      "Copying files: 480it [00:34,  3.81it/s]"
     ]
    },
    {
     "name": "stdout",
     "output_type": "stream",
     "text": [
      "Copying G:\\내 드라이브\\Project\\RGBLab\\ABB\\Data\\01.폭행(assult)\\outsidedoor_02\\16-2\\16-2_cam02_assault01_place02_night_spring_resized.mp4 to G:\\내 드라이브\\Project\\RGBLab\\ABB\\Data\\Resized\\01.폭행(assult)\\outsidedoor_02\\16-2\\16-2_cam02_assault01_place02_night_spring_resized.mp4\n"
     ]
    },
    {
     "name": "stderr",
     "output_type": "stream",
     "text": [
      "Copying files: 482it [00:34,  4.02it/s]"
     ]
    },
    {
     "name": "stdout",
     "output_type": "stream",
     "text": [
      "Copying G:\\내 드라이브\\Project\\RGBLab\\ABB\\Data\\01.폭행(assult)\\outsidedoor_02\\16-2\\16-2_cam01_assault01_place02_night_spring_resized.mp4 to G:\\내 드라이브\\Project\\RGBLab\\ABB\\Data\\Resized\\01.폭행(assult)\\outsidedoor_02\\16-2\\16-2_cam01_assault01_place02_night_spring_resized.mp4\n"
     ]
    },
    {
     "name": "stderr",
     "output_type": "stream",
     "text": [
      "Copying files: 482it [00:34,  4.02it/s]"
     ]
    },
    {
     "name": "stdout",
     "output_type": "stream",
     "text": [
      "Copying G:\\내 드라이브\\Project\\RGBLab\\ABB\\Data\\01.폭행(assult)\\outsidedoor_02\\16-2\\16-2_cam02_assault01_place02_night_summer_resized.mp4 to G:\\내 드라이브\\Project\\RGBLab\\ABB\\Data\\Resized\\01.폭행(assult)\\outsidedoor_02\\16-2\\16-2_cam02_assault01_place02_night_summer_resized.mp4\n"
     ]
    },
    {
     "name": "stderr",
     "output_type": "stream",
     "text": [
      "Copying files: 484it [00:34,  4.34it/s]"
     ]
    },
    {
     "name": "stdout",
     "output_type": "stream",
     "text": [
      "Copying G:\\내 드라이브\\Project\\RGBLab\\ABB\\Data\\01.폭행(assult)\\outsidedoor_02\\16-2\\16-2_cam01_assault01_place02_night_summer_resized.mp4 to G:\\내 드라이브\\Project\\RGBLab\\ABB\\Data\\Resized\\01.폭행(assult)\\outsidedoor_02\\16-2\\16-2_cam01_assault01_place02_night_summer_resized.mp4\n"
     ]
    },
    {
     "name": "stderr",
     "output_type": "stream",
     "text": [
      "Copying files: 487it [00:35,  8.03it/s]"
     ]
    },
    {
     "name": "stdout",
     "output_type": "stream",
     "text": [
      "Copying G:\\내 드라이브\\Project\\RGBLab\\ABB\\Data\\01.폭행(assult)\\inside_croki_06\\417-4\\417-4_cam02_assault01_place03_night_spring_resized.mp4 to G:\\내 드라이브\\Project\\RGBLab\\ABB\\Data\\Resized\\01.폭행(assult)\\inside_croki_06\\417-4\\417-4_cam02_assault01_place03_night_spring_resized.mp4\n",
      "Copying G:\\내 드라이브\\Project\\RGBLab\\ABB\\Data\\01.폭행(assult)\\inside_croki_06\\417-4\\417-4_cam01_assault01_place03_night_winter_resized.mp4 to G:\\내 드라이브\\Project\\RGBLab\\ABB\\Data\\Resized\\01.폭행(assult)\\inside_croki_06\\417-4\\417-4_cam01_assault01_place03_night_winter_resized.mp4\n",
      "Copying G:\\내 드라이브\\Project\\RGBLab\\ABB\\Data\\01.폭행(assult)\\inside_croki_06\\417-4\\417-4_cam01_assault01_place03_night_spring_resized.mp4 to G:\\내 드라이브\\Project\\RGBLab\\ABB\\Data\\Resized\\01.폭행(assult)\\inside_croki_06\\417-4\\417-4_cam01_assault01_place03_night_spring_resized.mp4\n",
      "Copying G:\\내 드라이브\\Project\\RGBLab\\ABB\\Data\\01.폭행(assult)\\inside_croki_06\\417-4\\417-4_cam02_assault01_place03_night_winter_resized.mp4 to G:\\내 드라이브\\Project\\RGBLab\\ABB\\Data\\Resized\\01.폭행(assult)\\inside_croki_06\\417-4\\417-4_cam02_assault01_place03_night_winter_resized.mp4\n",
      "Copying G:\\내 드라이브\\Project\\RGBLab\\ABB\\Data\\01.폭행(assult)\\inside_croki_06\\417-4\\417-4_cam03_assault01_place03_night_summer_resized.mp4 to G:\\내 드라이브\\Project\\RGBLab\\ABB\\Data\\Resized\\01.폭행(assult)\\inside_croki_06\\417-4\\417-4_cam03_assault01_place03_night_summer_resized.mp4\n"
     ]
    },
    {
     "name": "stderr",
     "output_type": "stream",
     "text": [
      "Copying files: 493it [00:35, 14.72it/s]"
     ]
    },
    {
     "name": "stdout",
     "output_type": "stream",
     "text": [
      "Copying G:\\내 드라이브\\Project\\RGBLab\\ABB\\Data\\01.폭행(assult)\\inside_croki_06\\417-4\\417-4_cam01_assault01_place03_night_summer_resized.mp4 to G:\\내 드라이브\\Project\\RGBLab\\ABB\\Data\\Resized\\01.폭행(assult)\\inside_croki_06\\417-4\\417-4_cam01_assault01_place03_night_summer_resized.mp4\n",
      "Copying G:\\내 드라이브\\Project\\RGBLab\\ABB\\Data\\01.폭행(assult)\\inside_croki_06\\417-4\\417-4_cam03_assault01_place03_night_winter_resized.mp4 to G:\\내 드라이브\\Project\\RGBLab\\ABB\\Data\\Resized\\01.폭행(assult)\\inside_croki_06\\417-4\\417-4_cam03_assault01_place03_night_winter_resized.mp4\n",
      "Copying G:\\내 드라이브\\Project\\RGBLab\\ABB\\Data\\01.폭행(assult)\\inside_croki_06\\417-4\\417-4_cam02_assault01_place03_night_summer_resized.mp4 to G:\\내 드라이브\\Project\\RGBLab\\ABB\\Data\\Resized\\01.폭행(assult)\\inside_croki_06\\417-4\\417-4_cam02_assault01_place03_night_summer_resized.mp4\n",
      "Copying G:\\내 드라이브\\Project\\RGBLab\\ABB\\Data\\01.폭행(assult)\\inside_croki_06\\417-4\\417-4_cam03_assault01_place03_night_spring_resized.mp4 to G:\\내 드라이브\\Project\\RGBLab\\ABB\\Data\\Resized\\01.폭행(assult)\\inside_croki_06\\417-4\\417-4_cam03_assault01_place03_night_spring_resized.mp4\n",
      "Copying G:\\내 드라이브\\Project\\RGBLab\\ABB\\Data\\01.폭행(assult)\\inside_croki_06\\417-5\\417-5_cam01_assault01_place03_night_spring_resized.mp4 to G:\\내 드라이브\\Project\\RGBLab\\ABB\\Data\\Resized\\01.폭행(assult)\\inside_croki_06\\417-5\\417-5_cam01_assault01_place03_night_spring_resized.mp4\n"
     ]
    },
    {
     "name": "stderr",
     "output_type": "stream",
     "text": [
      "Copying files: 499it [00:35, 19.35it/s]"
     ]
    },
    {
     "name": "stdout",
     "output_type": "stream",
     "text": [
      "Copying G:\\내 드라이브\\Project\\RGBLab\\ABB\\Data\\01.폭행(assult)\\inside_croki_06\\417-5\\417-5_cam03_assault01_place03_night_winter_resized.mp4 to G:\\내 드라이브\\Project\\RGBLab\\ABB\\Data\\Resized\\01.폭행(assult)\\inside_croki_06\\417-5\\417-5_cam03_assault01_place03_night_winter_resized.mp4\n",
      "Copying G:\\내 드라이브\\Project\\RGBLab\\ABB\\Data\\01.폭행(assult)\\inside_croki_06\\417-5\\417-5_cam03_assault01_place03_night_summer_resized.mp4 to G:\\내 드라이브\\Project\\RGBLab\\ABB\\Data\\Resized\\01.폭행(assult)\\inside_croki_06\\417-5\\417-5_cam03_assault01_place03_night_summer_resized.mp4\n",
      "Copying G:\\내 드라이브\\Project\\RGBLab\\ABB\\Data\\01.폭행(assult)\\inside_croki_06\\417-5\\417-5_cam01_assault01_place03_night_summer_resized.mp4 to G:\\내 드라이브\\Project\\RGBLab\\ABB\\Data\\Resized\\01.폭행(assult)\\inside_croki_06\\417-5\\417-5_cam01_assault01_place03_night_summer_resized.mp4\n",
      "Copying G:\\내 드라이브\\Project\\RGBLab\\ABB\\Data\\01.폭행(assult)\\inside_croki_06\\417-5\\417-5_cam03_assault01_place03_night_spring_resized.mp4 to G:\\내 드라이브\\Project\\RGBLab\\ABB\\Data\\Resized\\01.폭행(assult)\\inside_croki_06\\417-5\\417-5_cam03_assault01_place03_night_spring_resized.mp4\n",
      "Copying G:\\내 드라이브\\Project\\RGBLab\\ABB\\Data\\01.폭행(assult)\\inside_croki_06\\417-5\\417-5_cam01_assault01_place03_night_winter_resized.mp4 to G:\\내 드라이브\\Project\\RGBLab\\ABB\\Data\\Resized\\01.폭행(assult)\\inside_croki_06\\417-5\\417-5_cam01_assault01_place03_night_winter_resized.mp4\n"
     ]
    },
    {
     "name": "stderr",
     "output_type": "stream",
     "text": [
      "Copying files: 502it [00:35, 20.95it/s]"
     ]
    },
    {
     "name": "stdout",
     "output_type": "stream",
     "text": [
      "Copying G:\\내 드라이브\\Project\\RGBLab\\ABB\\Data\\01.폭행(assult)\\inside_croki_06\\417-5\\417-5_cam02_assault01_place03_night_winter_resized.mp4 to G:\\내 드라이브\\Project\\RGBLab\\ABB\\Data\\Resized\\01.폭행(assult)\\inside_croki_06\\417-5\\417-5_cam02_assault01_place03_night_winter_resized.mp4\n",
      "Copying G:\\내 드라이브\\Project\\RGBLab\\ABB\\Data\\01.폭행(assult)\\inside_croki_06\\417-5\\417-5_cam02_assault01_place03_night_summer_resized.mp4 to G:\\내 드라이브\\Project\\RGBLab\\ABB\\Data\\Resized\\01.폭행(assult)\\inside_croki_06\\417-5\\417-5_cam02_assault01_place03_night_summer_resized.mp4\n",
      "Copying G:\\내 드라이브\\Project\\RGBLab\\ABB\\Data\\01.폭행(assult)\\inside_croki_06\\417-5\\417-5_cam02_assault01_place03_night_spring_resized.mp4 to G:\\내 드라이브\\Project\\RGBLab\\ABB\\Data\\Resized\\01.폭행(assult)\\inside_croki_06\\417-5\\417-5_cam02_assault01_place03_night_spring_resized.mp4\n",
      "Copying G:\\내 드라이브\\Project\\RGBLab\\ABB\\Data\\01.폭행(assult)\\inside_croki_06\\439-4\\439-4_cam01_assault01_place03_day_spring_resized.mp4 to G:\\내 드라이브\\Project\\RGBLab\\ABB\\Data\\Resized\\01.폭행(assult)\\inside_croki_06\\439-4\\439-4_cam01_assault01_place03_day_spring_resized.mp4\n",
      "Copying G:\\내 드라이브\\Project\\RGBLab\\ABB\\Data\\01.폭행(assult)\\inside_croki_06\\439-4\\439-4_cam01_assault01_place03_day_summer_resized.mp4 to G:\\내 드라이브\\Project\\RGBLab\\ABB\\Data\\Resized\\01.폭행(assult)\\inside_croki_06\\439-4\\439-4_cam01_assault01_place03_day_summer_resized.mp4\n",
      "Copying G:\\내 드라이브\\Project\\RGBLab\\ABB\\Data\\01.폭행(assult)\\inside_croki_06\\439-4\\439-4_cam03_assault01_place03_day_summer_resized.mp4 to G:\\내 드라이브\\Project\\RGBLab\\ABB\\Data\\Resized\\01.폭행(assult)\\inside_croki_06\\439-4\\439-4_cam03_assault01_place03_day_summer_resized.mp4\n"
     ]
    },
    {
     "name": "stderr",
     "output_type": "stream",
     "text": [
      "Copying files: 510it [00:35, 28.60it/s]"
     ]
    },
    {
     "name": "stdout",
     "output_type": "stream",
     "text": [
      "Copying G:\\내 드라이브\\Project\\RGBLab\\ABB\\Data\\01.폭행(assult)\\inside_croki_06\\439-4\\439-4_cam03_assault01_place03_day_winter_resized.mp4 to G:\\내 드라이브\\Project\\RGBLab\\ABB\\Data\\Resized\\01.폭행(assult)\\inside_croki_06\\439-4\\439-4_cam03_assault01_place03_day_winter_resized.mp4\n",
      "Copying G:\\내 드라이브\\Project\\RGBLab\\ABB\\Data\\01.폭행(assult)\\inside_croki_06\\439-4\\439-4_cam02_assault01_place03_day_winter_resized.mp4 to G:\\내 드라이브\\Project\\RGBLab\\ABB\\Data\\Resized\\01.폭행(assult)\\inside_croki_06\\439-4\\439-4_cam02_assault01_place03_day_winter_resized.mp4\n",
      "Copying G:\\내 드라이브\\Project\\RGBLab\\ABB\\Data\\01.폭행(assult)\\inside_croki_06\\439-4\\439-4_cam02_assault01_place03_day_spring_resized.mp4 to G:\\내 드라이브\\Project\\RGBLab\\ABB\\Data\\Resized\\01.폭행(assult)\\inside_croki_06\\439-4\\439-4_cam02_assault01_place03_day_spring_resized.mp4\n",
      "Copying G:\\내 드라이브\\Project\\RGBLab\\ABB\\Data\\01.폭행(assult)\\inside_croki_06\\439-4\\439-4_cam01_assault01_place03_day_winter_resized.mp4 to G:\\내 드라이브\\Project\\RGBLab\\ABB\\Data\\Resized\\01.폭행(assult)\\inside_croki_06\\439-4\\439-4_cam01_assault01_place03_day_winter_resized.mp4\n",
      "Copying G:\\내 드라이브\\Project\\RGBLab\\ABB\\Data\\01.폭행(assult)\\inside_croki_06\\439-4\\439-4_cam03_assault01_place03_day_spring_resized.mp4 to G:\\내 드라이브\\Project\\RGBLab\\ABB\\Data\\Resized\\01.폭행(assult)\\inside_croki_06\\439-4\\439-4_cam03_assault01_place03_day_spring_resized.mp4\n",
      "Copying G:\\내 드라이브\\Project\\RGBLab\\ABB\\Data\\01.폭행(assult)\\inside_croki_06\\439-4\\439-4_cam02_assault01_place03_day_summer_resized.mp4 to G:\\내 드라이브\\Project\\RGBLab\\ABB\\Data\\Resized\\01.폭행(assult)\\inside_croki_06\\439-4\\439-4_cam02_assault01_place03_day_summer_resized.mp4\n",
      "Copying G:\\내 드라이브\\Project\\RGBLab\\ABB\\Data\\01.폭행(assult)\\inside_croki_06\\439-5\\439-5_cam03_assault01_place03_day_summer_resized.mp4 to G:\\내 드라이브\\Project\\RGBLab\\ABB\\Data\\Resized\\01.폭행(assult)\\inside_croki_06\\439-5\\439-5_cam03_assault01_place03_day_summer_resized.mp4\n"
     ]
    },
    {
     "name": "stderr",
     "output_type": "stream",
     "text": [
      "Copying files: 518it [00:36, 31.18it/s]"
     ]
    },
    {
     "name": "stdout",
     "output_type": "stream",
     "text": [
      "Copying G:\\내 드라이브\\Project\\RGBLab\\ABB\\Data\\01.폭행(assult)\\inside_croki_06\\439-5\\439-5_cam03_assault01_place03_day_winter_resized.mp4 to G:\\내 드라이브\\Project\\RGBLab\\ABB\\Data\\Resized\\01.폭행(assult)\\inside_croki_06\\439-5\\439-5_cam03_assault01_place03_day_winter_resized.mp4\n",
      "Copying G:\\내 드라이브\\Project\\RGBLab\\ABB\\Data\\01.폭행(assult)\\inside_croki_06\\439-5\\439-5_cam03_assault01_place03_day_spring_resized.mp4 to G:\\내 드라이브\\Project\\RGBLab\\ABB\\Data\\Resized\\01.폭행(assult)\\inside_croki_06\\439-5\\439-5_cam03_assault01_place03_day_spring_resized.mp4\n",
      "Copying G:\\내 드라이브\\Project\\RGBLab\\ABB\\Data\\01.폭행(assult)\\inside_croki_06\\439-5\\439-5_cam02_assault01_place03_day_spring_resized.mp4 to G:\\내 드라이브\\Project\\RGBLab\\ABB\\Data\\Resized\\01.폭행(assult)\\inside_croki_06\\439-5\\439-5_cam02_assault01_place03_day_spring_resized.mp4\n",
      "Copying G:\\내 드라이브\\Project\\RGBLab\\ABB\\Data\\01.폭행(assult)\\inside_croki_06\\439-5\\439-5_cam01_assault01_place03_day_summer_resized.mp4 to G:\\내 드라이브\\Project\\RGBLab\\ABB\\Data\\Resized\\01.폭행(assult)\\inside_croki_06\\439-5\\439-5_cam01_assault01_place03_day_summer_resized.mp4\n",
      "Copying G:\\내 드라이브\\Project\\RGBLab\\ABB\\Data\\01.폭행(assult)\\inside_croki_06\\439-5\\439-5_cam01_assault01_place03_day_winter_resized.mp4 to G:\\내 드라이브\\Project\\RGBLab\\ABB\\Data\\Resized\\01.폭행(assult)\\inside_croki_06\\439-5\\439-5_cam01_assault01_place03_day_winter_resized.mp4\n",
      "Copying G:\\내 드라이브\\Project\\RGBLab\\ABB\\Data\\01.폭행(assult)\\inside_croki_06\\439-5\\439-5_cam02_assault01_place03_day_summer_resized.mp4 to G:\\내 드라이브\\Project\\RGBLab\\ABB\\Data\\Resized\\01.폭행(assult)\\inside_croki_06\\439-5\\439-5_cam02_assault01_place03_day_summer_resized.mp4\n"
     ]
    },
    {
     "name": "stderr",
     "output_type": "stream",
     "text": [
      "Copying files: 522it [00:36, 28.17it/s]"
     ]
    },
    {
     "name": "stdout",
     "output_type": "stream",
     "text": [
      "Copying G:\\내 드라이브\\Project\\RGBLab\\ABB\\Data\\01.폭행(assult)\\inside_croki_06\\439-5\\439-5_cam01_assault01_place03_day_spring_resized.mp4 to G:\\내 드라이브\\Project\\RGBLab\\ABB\\Data\\Resized\\01.폭행(assult)\\inside_croki_06\\439-5\\439-5_cam01_assault01_place03_day_spring_resized.mp4\n",
      "Copying G:\\내 드라이브\\Project\\RGBLab\\ABB\\Data\\01.폭행(assult)\\inside_croki_06\\439-5\\439-5_cam02_assault01_place03_day_winter_resized.mp4 to G:\\내 드라이브\\Project\\RGBLab\\ABB\\Data\\Resized\\01.폭행(assult)\\inside_croki_06\\439-5\\439-5_cam02_assault01_place03_day_winter_resized.mp4\n",
      "Copying G:\\내 드라이브\\Project\\RGBLab\\ABB\\Data\\01.폭행(assult)\\inside_croki_06\\45-3\\45-3_cam02_assault01_place01_day_spring_resized.mp4 to G:\\내 드라이브\\Project\\RGBLab\\ABB\\Data\\Resized\\01.폭행(assult)\\inside_croki_06\\45-3\\45-3_cam02_assault01_place01_day_spring_resized.mp4\n",
      "Copying G:\\내 드라이브\\Project\\RGBLab\\ABB\\Data\\01.폭행(assult)\\inside_croki_06\\45-3\\45-3_cam02_assault01_place01_day_winter_resized.mp4 to G:\\내 드라이브\\Project\\RGBLab\\ABB\\Data\\Resized\\01.폭행(assult)\\inside_croki_06\\45-3\\45-3_cam02_assault01_place01_day_winter_resized.mp4\n",
      "Copying G:\\내 드라이브\\Project\\RGBLab\\ABB\\Data\\01.폭행(assult)\\inside_croki_06\\45-3\\45-3_cam01_assault01_place01_day_spring_resized.mp4 to G:\\내 드라이브\\Project\\RGBLab\\ABB\\Data\\Resized\\01.폭행(assult)\\inside_croki_06\\45-3\\45-3_cam01_assault01_place01_day_spring_resized.mp4\n"
     ]
    },
    {
     "name": "stderr",
     "output_type": "stream",
     "text": [
      "Copying files: 525it [00:36, 25.58it/s]"
     ]
    },
    {
     "name": "stdout",
     "output_type": "stream",
     "text": [
      "Copying G:\\내 드라이브\\Project\\RGBLab\\ABB\\Data\\01.폭행(assult)\\inside_croki_06\\45-4\\45-4_cam03_assault01_place01_day_summer_resized.mp4 to G:\\내 드라이브\\Project\\RGBLab\\ABB\\Data\\Resized\\01.폭행(assult)\\inside_croki_06\\45-4\\45-4_cam03_assault01_place01_day_summer_resized.mp4\n",
      "Copying G:\\내 드라이브\\Project\\RGBLab\\ABB\\Data\\01.폭행(assult)\\inside_croki_06\\45-4\\45-4_cam01_assault01_place01_day_summer_resized.mp4 to G:\\내 드라이브\\Project\\RGBLab\\ABB\\Data\\Resized\\01.폭행(assult)\\inside_croki_06\\45-4\\45-4_cam01_assault01_place01_day_summer_resized.mp4\n",
      "Copying G:\\내 드라이브\\Project\\RGBLab\\ABB\\Data\\01.폭행(assult)\\inside_croki_06\\45-4\\45-4_cam02_assault01_place01_day_spring_resized.mp4 to G:\\내 드라이브\\Project\\RGBLab\\ABB\\Data\\Resized\\01.폭행(assult)\\inside_croki_06\\45-4\\45-4_cam02_assault01_place01_day_spring_resized.mp4\n",
      "Copying G:\\내 드라이브\\Project\\RGBLab\\ABB\\Data\\01.폭행(assult)\\inside_croki_06\\45-4\\45-4_cam03_assault01_place01_day_spring_resized.mp4 to G:\\내 드라이브\\Project\\RGBLab\\ABB\\Data\\Resized\\01.폭행(assult)\\inside_croki_06\\45-4\\45-4_cam03_assault01_place01_day_spring_resized.mp4\n"
     ]
    },
    {
     "name": "stderr",
     "output_type": "stream",
     "text": [
      "Copying files: 531it [00:36, 22.49it/s]"
     ]
    },
    {
     "name": "stdout",
     "output_type": "stream",
     "text": [
      "Copying G:\\내 드라이브\\Project\\RGBLab\\ABB\\Data\\01.폭행(assult)\\inside_croki_06\\45-4\\45-4_cam02_assault01_place01_day_summer_resized.mp4 to G:\\내 드라이브\\Project\\RGBLab\\ABB\\Data\\Resized\\01.폭행(assult)\\inside_croki_06\\45-4\\45-4_cam02_assault01_place01_day_summer_resized.mp4\n",
      "Copying G:\\내 드라이브\\Project\\RGBLab\\ABB\\Data\\01.폭행(assult)\\inside_croki_06\\45-4\\45-4_cam01_assault01_place01_day_winter_resized.mp4 to G:\\내 드라이브\\Project\\RGBLab\\ABB\\Data\\Resized\\01.폭행(assult)\\inside_croki_06\\45-4\\45-4_cam01_assault01_place01_day_winter_resized.mp4\n",
      "Copying G:\\내 드라이브\\Project\\RGBLab\\ABB\\Data\\01.폭행(assult)\\inside_croki_06\\45-4\\45-4_cam01_assault01_place01_day_spring_resized.mp4 to G:\\내 드라이브\\Project\\RGBLab\\ABB\\Data\\Resized\\01.폭행(assult)\\inside_croki_06\\45-4\\45-4_cam01_assault01_place01_day_spring_resized.mp4\n",
      "Copying G:\\내 드라이브\\Project\\RGBLab\\ABB\\Data\\01.폭행(assult)\\inside_croki_06\\53-1\\53-1_cam02_assault01_place01_day_winter_resized.mp4 to G:\\내 드라이브\\Project\\RGBLab\\ABB\\Data\\Resized\\01.폭행(assult)\\inside_croki_06\\53-1\\53-1_cam02_assault01_place01_day_winter_resized.mp4\n"
     ]
    },
    {
     "name": "stderr",
     "output_type": "stream",
     "text": [
      "Copying files: 534it [00:36, 21.21it/s]"
     ]
    },
    {
     "name": "stdout",
     "output_type": "stream",
     "text": [
      "Copying G:\\내 드라이브\\Project\\RGBLab\\ABB\\Data\\01.폭행(assult)\\inside_croki_06\\53-1\\53-1_cam03_assault01_place01_day_winter_resized.mp4 to G:\\내 드라이브\\Project\\RGBLab\\ABB\\Data\\Resized\\01.폭행(assult)\\inside_croki_06\\53-1\\53-1_cam03_assault01_place01_day_winter_resized.mp4\n",
      "Copying G:\\내 드라이브\\Project\\RGBLab\\ABB\\Data\\01.폭행(assult)\\inside_croki_06\\53-1\\53-1_cam03_assault01_place01_day_spring_resized.mp4 to G:\\내 드라이브\\Project\\RGBLab\\ABB\\Data\\Resized\\01.폭행(assult)\\inside_croki_06\\53-1\\53-1_cam03_assault01_place01_day_spring_resized.mp4\n",
      "Copying G:\\내 드라이브\\Project\\RGBLab\\ABB\\Data\\01.폭행(assult)\\inside_croki_06\\53-1\\53-1_cam01_assault01_place01_day_spring_resized.mp4 to G:\\내 드라이브\\Project\\RGBLab\\ABB\\Data\\Resized\\01.폭행(assult)\\inside_croki_06\\53-1\\53-1_cam01_assault01_place01_day_spring_resized.mp4\n",
      "Copying G:\\내 드라이브\\Project\\RGBLab\\ABB\\Data\\01.폭행(assult)\\inside_croki_06\\53-1\\53-1_cam01_assault01_place01_day_winter_resized.mp4 to G:\\내 드라이브\\Project\\RGBLab\\ABB\\Data\\Resized\\01.폭행(assult)\\inside_croki_06\\53-1\\53-1_cam01_assault01_place01_day_winter_resized.mp4\n"
     ]
    },
    {
     "name": "stderr",
     "output_type": "stream",
     "text": [
      "Copying files: 542it [00:37, 28.90it/s]"
     ]
    },
    {
     "name": "stdout",
     "output_type": "stream",
     "text": [
      "Copying G:\\내 드라이브\\Project\\RGBLab\\ABB\\Data\\01.폭행(assult)\\inside_croki_06\\53-1\\53-1_cam03_assault01_place01_day_summer_resized.mp4 to G:\\내 드라이브\\Project\\RGBLab\\ABB\\Data\\Resized\\01.폭행(assult)\\inside_croki_06\\53-1\\53-1_cam03_assault01_place01_day_summer_resized.mp4\n",
      "Copying G:\\내 드라이브\\Project\\RGBLab\\ABB\\Data\\01.폭행(assult)\\inside_croki_06\\53-1\\53-1_cam01_assault01_place01_day_summer_resized.mp4 to G:\\내 드라이브\\Project\\RGBLab\\ABB\\Data\\Resized\\01.폭행(assult)\\inside_croki_06\\53-1\\53-1_cam01_assault01_place01_day_summer_resized.mp4\n",
      "Copying G:\\내 드라이브\\Project\\RGBLab\\ABB\\Data\\01.폭행(assult)\\inside_croki_06\\53-1\\53-1_cam02_assault01_place01_day_summer_resized.mp4 to G:\\내 드라이브\\Project\\RGBLab\\ABB\\Data\\Resized\\01.폭행(assult)\\inside_croki_06\\53-1\\53-1_cam02_assault01_place01_day_summer_resized.mp4\n",
      "Copying G:\\내 드라이브\\Project\\RGBLab\\ABB\\Data\\01.폭행(assult)\\inside_croki_06\\53-1\\53-1_cam02_assault01_place01_day_spring_resized.mp4 to G:\\내 드라이브\\Project\\RGBLab\\ABB\\Data\\Resized\\01.폭행(assult)\\inside_croki_06\\53-1\\53-1_cam02_assault01_place01_day_spring_resized.mp4\n",
      "Copying G:\\내 드라이브\\Project\\RGBLab\\ABB\\Data\\01.폭행(assult)\\inside_croki_06\\6-1\\6-1_cam02_assault01_place03_night_spring_resized.mp4 to G:\\내 드라이브\\Project\\RGBLab\\ABB\\Data\\Resized\\01.폭행(assult)\\inside_croki_06\\6-1\\6-1_cam02_assault01_place03_night_spring_resized.mp4\n",
      "Copying G:\\내 드라이브\\Project\\RGBLab\\ABB\\Data\\01.폭행(assult)\\inside_croki_06\\6-1\\6-1_cam01_assault01_place03_night_winter_resized.mp4 to G:\\내 드라이브\\Project\\RGBLab\\ABB\\Data\\Resized\\01.폭행(assult)\\inside_croki_06\\6-1\\6-1_cam01_assault01_place03_night_winter_resized.mp4\n",
      "Copying G:\\내 드라이브\\Project\\RGBLab\\ABB\\Data\\01.폭행(assult)\\inside_croki_06\\6-1\\6-1_cam01_assault01_place03_night_summer_resized.mp4 to G:\\내 드라이브\\Project\\RGBLab\\ABB\\Data\\Resized\\01.폭행(assult)\\inside_croki_06\\6-1\\6-1_cam01_assault01_place03_night_summer_resized.mp4\n",
      "Copying G:\\내 드라이브\\Project\\RGBLab\\ABB\\Data\\01.폭행(assult)\\inside_croki_06\\6-1\\6-1_cam02_assault01_place03_night_winter_resized.mp4 to G:\\내 드라이브\\Project\\RGBLab\\ABB\\Data\\Resized\\01.폭행(assult)\\inside_croki_06\\6-1\\6-1_cam02_assault01_place03_night_winter_resized.mp4\n"
     ]
    },
    {
     "name": "stderr",
     "output_type": "stream",
     "text": [
      "Copying files: 546it [00:37, 29.71it/s]"
     ]
    },
    {
     "name": "stdout",
     "output_type": "stream",
     "text": [
      "Copying G:\\내 드라이브\\Project\\RGBLab\\ABB\\Data\\01.폭행(assult)\\inside_croki_06\\6-1\\6-1_cam03_assault01_place03_night_summer_resized.mp4 to G:\\내 드라이브\\Project\\RGBLab\\ABB\\Data\\Resized\\01.폭행(assult)\\inside_croki_06\\6-1\\6-1_cam03_assault01_place03_night_summer_resized.mp4\n",
      "Copying G:\\내 드라이브\\Project\\RGBLab\\ABB\\Data\\01.폭행(assult)\\inside_croki_06\\6-1\\6-1_cam03_assault01_place03_night_winter_resized.mp4 to G:\\내 드라이브\\Project\\RGBLab\\ABB\\Data\\Resized\\01.폭행(assult)\\inside_croki_06\\6-1\\6-1_cam03_assault01_place03_night_winter_resized.mp4\n",
      "Copying G:\\내 드라이브\\Project\\RGBLab\\ABB\\Data\\01.폭행(assult)\\inside_croki_06\\6-1\\6-1_cam03_assault01_place03_night_spring_resized.mp4 to G:\\내 드라이브\\Project\\RGBLab\\ABB\\Data\\Resized\\01.폭행(assult)\\inside_croki_06\\6-1\\6-1_cam03_assault01_place03_night_spring_resized.mp4\n",
      "Copying G:\\내 드라이브\\Project\\RGBLab\\ABB\\Data\\01.폭행(assult)\\inside_croki_06\\6-1\\6-1_cam01_assault01_place03_night_spring_resized.mp4 to G:\\내 드라이브\\Project\\RGBLab\\ABB\\Data\\Resized\\01.폭행(assult)\\inside_croki_06\\6-1\\6-1_cam01_assault01_place03_night_spring_resized.mp4\n",
      "Copying G:\\내 드라이브\\Project\\RGBLab\\ABB\\Data\\01.폭행(assult)\\inside_croki_06\\6-1\\6-1_cam02_assault01_place03_night_summer_resized.mp4 to G:\\내 드라이브\\Project\\RGBLab\\ABB\\Data\\Resized\\01.폭행(assult)\\inside_croki_06\\6-1\\6-1_cam02_assault01_place03_night_summer_resized.mp4\n",
      "Copying G:\\내 드라이브\\Project\\RGBLab\\ABB\\Data\\01.폭행(assult)\\inside_croki_06\\6-2\\6-2_cam03_assault01_place03_night_summer_resized.mp4 to G:\\내 드라이브\\Project\\RGBLab\\ABB\\Data\\Resized\\01.폭행(assult)\\inside_croki_06\\6-2\\6-2_cam03_assault01_place03_night_summer_resized.mp4\n"
     ]
    },
    {
     "name": "stderr",
     "output_type": "stream",
     "text": [
      "Copying files: 554it [00:37, 30.49it/s]"
     ]
    },
    {
     "name": "stdout",
     "output_type": "stream",
     "text": [
      "Copying G:\\내 드라이브\\Project\\RGBLab\\ABB\\Data\\01.폭행(assult)\\inside_croki_06\\6-2\\6-2_cam02_assault01_place03_night_winter_resized.mp4 to G:\\내 드라이브\\Project\\RGBLab\\ABB\\Data\\Resized\\01.폭행(assult)\\inside_croki_06\\6-2\\6-2_cam02_assault01_place03_night_winter_resized.mp4\n",
      "Copying G:\\내 드라이브\\Project\\RGBLab\\ABB\\Data\\01.폭행(assult)\\inside_croki_06\\6-2\\6-2_cam02_assault01_place03_night_summer_resized.mp4 to G:\\내 드라이브\\Project\\RGBLab\\ABB\\Data\\Resized\\01.폭행(assult)\\inside_croki_06\\6-2\\6-2_cam02_assault01_place03_night_summer_resized.mp4\n",
      "Copying G:\\내 드라이브\\Project\\RGBLab\\ABB\\Data\\01.폭행(assult)\\inside_croki_06\\6-2\\6-2_cam03_assault01_place03_night_spring_resized.mp4 to G:\\내 드라이브\\Project\\RGBLab\\ABB\\Data\\Resized\\01.폭행(assult)\\inside_croki_06\\6-2\\6-2_cam03_assault01_place03_night_spring_resized.mp4\n",
      "Copying G:\\내 드라이브\\Project\\RGBLab\\ABB\\Data\\01.폭행(assult)\\inside_croki_06\\6-2\\6-2_cam01_assault01_place03_night_spring_resized.mp4 to G:\\내 드라이브\\Project\\RGBLab\\ABB\\Data\\Resized\\01.폭행(assult)\\inside_croki_06\\6-2\\6-2_cam01_assault01_place03_night_spring_resized.mp4\n",
      "Copying G:\\내 드라이브\\Project\\RGBLab\\ABB\\Data\\01.폭행(assult)\\inside_croki_06\\6-2\\6-2_cam01_assault01_place03_night_summer_resized.mp4 to G:\\내 드라이브\\Project\\RGBLab\\ABB\\Data\\Resized\\01.폭행(assult)\\inside_croki_06\\6-2\\6-2_cam01_assault01_place03_night_summer_resized.mp4\n",
      "Copying G:\\내 드라이브\\Project\\RGBLab\\ABB\\Data\\01.폭행(assult)\\inside_croki_06\\6-2\\6-2_cam01_assault01_place03_night_winter_resized.mp4 to G:\\내 드라이브\\Project\\RGBLab\\ABB\\Data\\Resized\\01.폭행(assult)\\inside_croki_06\\6-2\\6-2_cam01_assault01_place03_night_winter_resized.mp4\n"
     ]
    },
    {
     "name": "stderr",
     "output_type": "stream",
     "text": [
      "Copying files: 558it [00:37, 31.13it/s]"
     ]
    },
    {
     "name": "stdout",
     "output_type": "stream",
     "text": [
      "Copying G:\\내 드라이브\\Project\\RGBLab\\ABB\\Data\\01.폭행(assult)\\inside_croki_06\\6-2\\6-2_cam03_assault01_place03_night_winter_resized.mp4 to G:\\내 드라이브\\Project\\RGBLab\\ABB\\Data\\Resized\\01.폭행(assult)\\inside_croki_06\\6-2\\6-2_cam03_assault01_place03_night_winter_resized.mp4\n",
      "Copying G:\\내 드라이브\\Project\\RGBLab\\ABB\\Data\\01.폭행(assult)\\inside_croki_06\\6-2\\6-2_cam02_assault01_place03_night_spring_resized.mp4 to G:\\내 드라이브\\Project\\RGBLab\\ABB\\Data\\Resized\\01.폭행(assult)\\inside_croki_06\\6-2\\6-2_cam02_assault01_place03_night_spring_resized.mp4\n",
      "Copying G:\\내 드라이브\\Project\\RGBLab\\ABB\\Data\\01.폭행(assult)\\inside_croki_06\\6-3\\6-3_cam03_assault01_place03_night_spring_resized.mp4 to G:\\내 드라이브\\Project\\RGBLab\\ABB\\Data\\Resized\\01.폭행(assult)\\inside_croki_06\\6-3\\6-3_cam03_assault01_place03_night_spring_resized.mp4\n",
      "Copying G:\\내 드라이브\\Project\\RGBLab\\ABB\\Data\\01.폭행(assult)\\inside_croki_06\\6-3\\6-3_cam03_assault01_place03_night_winter_resized.mp4 to G:\\내 드라이브\\Project\\RGBLab\\ABB\\Data\\Resized\\01.폭행(assult)\\inside_croki_06\\6-3\\6-3_cam03_assault01_place03_night_winter_resized.mp4\n",
      "Copying G:\\내 드라이브\\Project\\RGBLab\\ABB\\Data\\01.폭행(assult)\\inside_croki_06\\6-3\\6-3_cam03_assault01_place03_night_summer_resized.mp4 to G:\\내 드라이브\\Project\\RGBLab\\ABB\\Data\\Resized\\01.폭행(assult)\\inside_croki_06\\6-3\\6-3_cam03_assault01_place03_night_summer_resized.mp4\n",
      "Copying G:\\내 드라이브\\Project\\RGBLab\\ABB\\Data\\01.폭행(assult)\\inside_croki_06\\6-3\\6-3_cam02_assault01_place03_night_summer_resized.mp4 to G:\\내 드라이브\\Project\\RGBLab\\ABB\\Data\\Resized\\01.폭행(assult)\\inside_croki_06\\6-3\\6-3_cam02_assault01_place03_night_summer_resized.mp4\n"
     ]
    },
    {
     "name": "stderr",
     "output_type": "stream",
     "text": [
      "Copying files: 566it [00:37, 30.95it/s]"
     ]
    },
    {
     "name": "stdout",
     "output_type": "stream",
     "text": [
      "Copying G:\\내 드라이브\\Project\\RGBLab\\ABB\\Data\\01.폭행(assult)\\inside_croki_06\\6-3\\6-3_cam01_assault01_place03_night_summer_resized.mp4 to G:\\내 드라이브\\Project\\RGBLab\\ABB\\Data\\Resized\\01.폭행(assult)\\inside_croki_06\\6-3\\6-3_cam01_assault01_place03_night_summer_resized.mp4\n",
      "Copying G:\\내 드라이브\\Project\\RGBLab\\ABB\\Data\\01.폭행(assult)\\inside_croki_06\\6-3\\6-3_cam01_assault01_place03_night_winter_resized.mp4 to G:\\내 드라이브\\Project\\RGBLab\\ABB\\Data\\Resized\\01.폭행(assult)\\inside_croki_06\\6-3\\6-3_cam01_assault01_place03_night_winter_resized.mp4\n",
      "Copying G:\\내 드라이브\\Project\\RGBLab\\ABB\\Data\\01.폭행(assult)\\inside_croki_06\\6-3\\6-3_cam02_assault01_place03_night_winter_resized.mp4 to G:\\내 드라이브\\Project\\RGBLab\\ABB\\Data\\Resized\\01.폭행(assult)\\inside_croki_06\\6-3\\6-3_cam02_assault01_place03_night_winter_resized.mp4\n",
      "Copying G:\\내 드라이브\\Project\\RGBLab\\ABB\\Data\\01.폭행(assult)\\inside_croki_06\\6-3\\6-3_cam01_assault01_place03_night_spring_resized.mp4 to G:\\내 드라이브\\Project\\RGBLab\\ABB\\Data\\Resized\\01.폭행(assult)\\inside_croki_06\\6-3\\6-3_cam01_assault01_place03_night_spring_resized.mp4\n",
      "Copying G:\\내 드라이브\\Project\\RGBLab\\ABB\\Data\\01.폭행(assult)\\inside_croki_06\\6-3\\6-3_cam02_assault01_place03_night_spring_resized.mp4 to G:\\내 드라이브\\Project\\RGBLab\\ABB\\Data\\Resized\\01.폭행(assult)\\inside_croki_06\\6-3\\6-3_cam02_assault01_place03_night_spring_resized.mp4\n",
      "Copying G:\\내 드라이브\\Project\\RGBLab\\ABB\\Data\\01.폭행(assult)\\insidedoor_03\\24-2\\24-2_cam02_assault01_place09_night_winter_resized.mp4 to G:\\내 드라이브\\Project\\RGBLab\\ABB\\Data\\Resized\\01.폭행(assult)\\insidedoor_03\\24-2\\24-2_cam02_assault01_place09_night_winter_resized.mp4\n"
     ]
    },
    {
     "name": "stderr",
     "output_type": "stream",
     "text": [
      "Copying files: 570it [00:38, 28.87it/s]"
     ]
    },
    {
     "name": "stdout",
     "output_type": "stream",
     "text": [
      "Copying G:\\내 드라이브\\Project\\RGBLab\\ABB\\Data\\01.폭행(assult)\\insidedoor_03\\24-2\\24-2_cam03_assault01_place09_night_spring_resized.mp4 to G:\\내 드라이브\\Project\\RGBLab\\ABB\\Data\\Resized\\01.폭행(assult)\\insidedoor_03\\24-2\\24-2_cam03_assault01_place09_night_spring_resized.mp4\n",
      "Copying G:\\내 드라이브\\Project\\RGBLab\\ABB\\Data\\01.폭행(assult)\\insidedoor_03\\24-2\\24-2_cam03_assault01_place09_night_winter_resized.mp4 to G:\\내 드라이브\\Project\\RGBLab\\ABB\\Data\\Resized\\01.폭행(assult)\\insidedoor_03\\24-2\\24-2_cam03_assault01_place09_night_winter_resized.mp4\n",
      "Copying G:\\내 드라이브\\Project\\RGBLab\\ABB\\Data\\01.폭행(assult)\\insidedoor_03\\24-2\\24-2_cam01_assault01_place09_night_summer_resized.mp4 to G:\\내 드라이브\\Project\\RGBLab\\ABB\\Data\\Resized\\01.폭행(assult)\\insidedoor_03\\24-2\\24-2_cam01_assault01_place09_night_summer_resized.mp4\n",
      "Copying G:\\내 드라이브\\Project\\RGBLab\\ABB\\Data\\01.폭행(assult)\\insidedoor_03\\24-2\\24-2_cam02_assault01_place09_night_summer_resized.mp4 to G:\\내 드라이브\\Project\\RGBLab\\ABB\\Data\\Resized\\01.폭행(assult)\\insidedoor_03\\24-2\\24-2_cam02_assault01_place09_night_summer_resized.mp4\n"
     ]
    },
    {
     "name": "stderr",
     "output_type": "stream",
     "text": [
      "Copying files: 573it [00:38, 24.79it/s]"
     ]
    },
    {
     "name": "stdout",
     "output_type": "stream",
     "text": [
      "Copying G:\\내 드라이브\\Project\\RGBLab\\ABB\\Data\\01.폭행(assult)\\insidedoor_03\\24-2\\24-2_cam03_assault01_place09_night_summer_resized.mp4 to G:\\내 드라이브\\Project\\RGBLab\\ABB\\Data\\Resized\\01.폭행(assult)\\insidedoor_03\\24-2\\24-2_cam03_assault01_place09_night_summer_resized.mp4\n",
      "Copying G:\\내 드라이브\\Project\\RGBLab\\ABB\\Data\\01.폭행(assult)\\insidedoor_03\\24-2\\24-2_cam01_assault01_place09_night_winter_resized.mp4 to G:\\내 드라이브\\Project\\RGBLab\\ABB\\Data\\Resized\\01.폭행(assult)\\insidedoor_03\\24-2\\24-2_cam01_assault01_place09_night_winter_resized.mp4\n",
      "Copying G:\\내 드라이브\\Project\\RGBLab\\ABB\\Data\\01.폭행(assult)\\insidedoor_03\\24-2\\24-2_cam02_assault01_place09_night_spring_resized.mp4 to G:\\내 드라이브\\Project\\RGBLab\\ABB\\Data\\Resized\\01.폭행(assult)\\insidedoor_03\\24-2\\24-2_cam02_assault01_place09_night_spring_resized.mp4\n",
      "Copying G:\\내 드라이브\\Project\\RGBLab\\ABB\\Data\\01.폭행(assult)\\insidedoor_03\\24-2\\24-2_cam01_assault01_place09_night_spring_resized.mp4 to G:\\내 드라이브\\Project\\RGBLab\\ABB\\Data\\Resized\\01.폭행(assult)\\insidedoor_03\\24-2\\24-2_cam01_assault01_place09_night_spring_resized.mp4\n",
      "Copying G:\\내 드라이브\\Project\\RGBLab\\ABB\\Data\\01.폭행(assult)\\insidedoor_03\\24-3\\24-3_cam03_assault01_place09_night_winter_resized.mp4 to G:\\내 드라이브\\Project\\RGBLab\\ABB\\Data\\Resized\\01.폭행(assult)\\insidedoor_03\\24-3\\24-3_cam03_assault01_place09_night_winter_resized.mp4\n"
     ]
    },
    {
     "name": "stderr",
     "output_type": "stream",
     "text": [
      "Copying files: 579it [00:38, 25.74it/s]"
     ]
    },
    {
     "name": "stdout",
     "output_type": "stream",
     "text": [
      "Copying G:\\내 드라이브\\Project\\RGBLab\\ABB\\Data\\01.폭행(assult)\\insidedoor_03\\24-3\\24-3_cam03_assault01_place09_night_summer_resized.mp4 to G:\\내 드라이브\\Project\\RGBLab\\ABB\\Data\\Resized\\01.폭행(assult)\\insidedoor_03\\24-3\\24-3_cam03_assault01_place09_night_summer_resized.mp4\n",
      "Copying G:\\내 드라이브\\Project\\RGBLab\\ABB\\Data\\01.폭행(assult)\\insidedoor_03\\24-3\\24-3_cam03_assault01_place09_night_spring_resized.mp4 to G:\\내 드라이브\\Project\\RGBLab\\ABB\\Data\\Resized\\01.폭행(assult)\\insidedoor_03\\24-3\\24-3_cam03_assault01_place09_night_spring_resized.mp4\n",
      "Copying G:\\내 드라이브\\Project\\RGBLab\\ABB\\Data\\01.폭행(assult)\\insidedoor_03\\24-3\\24-3_cam01_assault01_place09_night_spring_resized.mp4 to G:\\내 드라이브\\Project\\RGBLab\\ABB\\Data\\Resized\\01.폭행(assult)\\insidedoor_03\\24-3\\24-3_cam01_assault01_place09_night_spring_resized.mp4\n",
      "Copying G:\\내 드라이브\\Project\\RGBLab\\ABB\\Data\\01.폭행(assult)\\insidedoor_03\\24-3\\24-3_cam02_assault01_place09_night_summer_resized.mp4 to G:\\내 드라이브\\Project\\RGBLab\\ABB\\Data\\Resized\\01.폭행(assult)\\insidedoor_03\\24-3\\24-3_cam02_assault01_place09_night_summer_resized.mp4\n",
      "Copying G:\\내 드라이브\\Project\\RGBLab\\ABB\\Data\\01.폭행(assult)\\insidedoor_03\\24-3\\24-3_cam02_assault01_place09_night_spring_resized.mp4 to G:\\내 드라이브\\Project\\RGBLab\\ABB\\Data\\Resized\\01.폭행(assult)\\insidedoor_03\\24-3\\24-3_cam02_assault01_place09_night_spring_resized.mp4\n"
     ]
    },
    {
     "name": "stderr",
     "output_type": "stream",
     "text": [
      "Copying files: 585it [00:38, 25.54it/s]"
     ]
    },
    {
     "name": "stdout",
     "output_type": "stream",
     "text": [
      "Copying G:\\내 드라이브\\Project\\RGBLab\\ABB\\Data\\01.폭행(assult)\\insidedoor_03\\24-3\\24-3_cam02_assault01_place09_night_winter_resized.mp4 to G:\\내 드라이브\\Project\\RGBLab\\ABB\\Data\\Resized\\01.폭행(assult)\\insidedoor_03\\24-3\\24-3_cam02_assault01_place09_night_winter_resized.mp4\n",
      "Copying G:\\내 드라이브\\Project\\RGBLab\\ABB\\Data\\01.폭행(assult)\\insidedoor_03\\24-3\\24-3_cam01_assault01_place09_night_summer_resized.mp4 to G:\\내 드라이브\\Project\\RGBLab\\ABB\\Data\\Resized\\01.폭행(assult)\\insidedoor_03\\24-3\\24-3_cam01_assault01_place09_night_summer_resized.mp4\n",
      "Copying G:\\내 드라이브\\Project\\RGBLab\\ABB\\Data\\01.폭행(assult)\\insidedoor_03\\24-3\\24-3_cam01_assault01_place09_night_winter_resized.mp4 to G:\\내 드라이브\\Project\\RGBLab\\ABB\\Data\\Resized\\01.폭행(assult)\\insidedoor_03\\24-3\\24-3_cam01_assault01_place09_night_winter_resized.mp4\n",
      "Copying G:\\내 드라이브\\Project\\RGBLab\\ABB\\Data\\01.폭행(assult)\\insidedoor_03\\24-4\\24-4_cam01_assault01_place09_night_spring_resized.mp4 to G:\\내 드라이브\\Project\\RGBLab\\ABB\\Data\\Resized\\01.폭행(assult)\\insidedoor_03\\24-4\\24-4_cam01_assault01_place09_night_spring_resized.mp4\n",
      "Copying G:\\내 드라이브\\Project\\RGBLab\\ABB\\Data\\01.폭행(assult)\\insidedoor_03\\24-4\\24-4_cam03_assault01_place09_night_winter_resized.mp4 to G:\\내 드라이브\\Project\\RGBLab\\ABB\\Data\\Resized\\01.폭행(assult)\\insidedoor_03\\24-4\\24-4_cam03_assault01_place09_night_winter_resized.mp4\n"
     ]
    },
    {
     "name": "stderr",
     "output_type": "stream",
     "text": [
      "Copying files: 591it [00:38, 26.17it/s]"
     ]
    },
    {
     "name": "stdout",
     "output_type": "stream",
     "text": [
      "Copying G:\\내 드라이브\\Project\\RGBLab\\ABB\\Data\\01.폭행(assult)\\insidedoor_03\\24-4\\24-4_cam02_assault01_place09_night_spring_resized.mp4 to G:\\내 드라이브\\Project\\RGBLab\\ABB\\Data\\Resized\\01.폭행(assult)\\insidedoor_03\\24-4\\24-4_cam02_assault01_place09_night_spring_resized.mp4\n",
      "Copying G:\\내 드라이브\\Project\\RGBLab\\ABB\\Data\\01.폭행(assult)\\insidedoor_03\\24-4\\24-4_cam02_assault01_place09_night_winter_resized.mp4 to G:\\내 드라이브\\Project\\RGBLab\\ABB\\Data\\Resized\\01.폭행(assult)\\insidedoor_03\\24-4\\24-4_cam02_assault01_place09_night_winter_resized.mp4\n",
      "Copying G:\\내 드라이브\\Project\\RGBLab\\ABB\\Data\\01.폭행(assult)\\insidedoor_03\\24-4\\24-4_cam03_assault01_place09_night_spring_resized.mp4 to G:\\내 드라이브\\Project\\RGBLab\\ABB\\Data\\Resized\\01.폭행(assult)\\insidedoor_03\\24-4\\24-4_cam03_assault01_place09_night_spring_resized.mp4\n",
      "Copying G:\\내 드라이브\\Project\\RGBLab\\ABB\\Data\\01.폭행(assult)\\insidedoor_03\\24-4\\24-4_cam03_assault01_place09_night_summer_resized.mp4 to G:\\내 드라이브\\Project\\RGBLab\\ABB\\Data\\Resized\\01.폭행(assult)\\insidedoor_03\\24-4\\24-4_cam03_assault01_place09_night_summer_resized.mp4\n",
      "Copying G:\\내 드라이브\\Project\\RGBLab\\ABB\\Data\\01.폭행(assult)\\insidedoor_03\\24-4\\24-4_cam01_assault01_place09_night_winter_resized.mp4 to G:\\내 드라이브\\Project\\RGBLab\\ABB\\Data\\Resized\\01.폭행(assult)\\insidedoor_03\\24-4\\24-4_cam01_assault01_place09_night_winter_resized.mp4\n"
     ]
    },
    {
     "name": "stderr",
     "output_type": "stream",
     "text": [
      "Copying files: 594it [00:39, 25.36it/s]"
     ]
    },
    {
     "name": "stdout",
     "output_type": "stream",
     "text": [
      "Copying G:\\내 드라이브\\Project\\RGBLab\\ABB\\Data\\01.폭행(assult)\\insidedoor_03\\24-4\\24-4_cam02_assault01_place09_night_summer_resized.mp4 to G:\\내 드라이브\\Project\\RGBLab\\ABB\\Data\\Resized\\01.폭행(assult)\\insidedoor_03\\24-4\\24-4_cam02_assault01_place09_night_summer_resized.mp4\n",
      "Copying G:\\내 드라이브\\Project\\RGBLab\\ABB\\Data\\01.폭행(assult)\\insidedoor_03\\24-4\\24-4_cam01_assault01_place09_night_summer_resized.mp4 to G:\\내 드라이브\\Project\\RGBLab\\ABB\\Data\\Resized\\01.폭행(assult)\\insidedoor_03\\24-4\\24-4_cam01_assault01_place09_night_summer_resized.mp4\n",
      "Copying G:\\내 드라이브\\Project\\RGBLab\\ABB\\Data\\01.폭행(assult)\\insidedoor_03\\24-5\\24-5_cam03_assault01_place09_night_summer_resized.mp4 to G:\\내 드라이브\\Project\\RGBLab\\ABB\\Data\\Resized\\01.폭행(assult)\\insidedoor_03\\24-5\\24-5_cam03_assault01_place09_night_summer_resized.mp4\n",
      "Copying G:\\내 드라이브\\Project\\RGBLab\\ABB\\Data\\01.폭행(assult)\\insidedoor_03\\24-5\\24-5_cam02_assault01_place09_night_summer_resized.mp4 to G:\\내 드라이브\\Project\\RGBLab\\ABB\\Data\\Resized\\01.폭행(assult)\\insidedoor_03\\24-5\\24-5_cam02_assault01_place09_night_summer_resized.mp4\n",
      "Copying G:\\내 드라이브\\Project\\RGBLab\\ABB\\Data\\01.폭행(assult)\\insidedoor_03\\24-5\\24-5_cam01_assault01_place09_night_summer_resized.mp4 to G:\\내 드라이브\\Project\\RGBLab\\ABB\\Data\\Resized\\01.폭행(assult)\\insidedoor_03\\24-5\\24-5_cam01_assault01_place09_night_summer_resized.mp4\n"
     ]
    },
    {
     "name": "stderr",
     "output_type": "stream",
     "text": [
      "Copying files: 600it [00:39, 24.78it/s]"
     ]
    },
    {
     "name": "stdout",
     "output_type": "stream",
     "text": [
      "Copying G:\\내 드라이브\\Project\\RGBLab\\ABB\\Data\\01.폭행(assult)\\insidedoor_03\\24-5\\24-5_cam03_assault01_place09_night_spring_resized.mp4 to G:\\내 드라이브\\Project\\RGBLab\\ABB\\Data\\Resized\\01.폭행(assult)\\insidedoor_03\\24-5\\24-5_cam03_assault01_place09_night_spring_resized.mp4\n",
      "Copying G:\\내 드라이브\\Project\\RGBLab\\ABB\\Data\\01.폭행(assult)\\insidedoor_03\\24-5\\24-5_cam01_assault01_place09_night_spring_resized.mp4 to G:\\내 드라이브\\Project\\RGBLab\\ABB\\Data\\Resized\\01.폭행(assult)\\insidedoor_03\\24-5\\24-5_cam01_assault01_place09_night_spring_resized.mp4\n",
      "Copying G:\\내 드라이브\\Project\\RGBLab\\ABB\\Data\\01.폭행(assult)\\insidedoor_03\\24-5\\24-5_cam03_assault01_place09_night_winter_resized.mp4 to G:\\내 드라이브\\Project\\RGBLab\\ABB\\Data\\Resized\\01.폭행(assult)\\insidedoor_03\\24-5\\24-5_cam03_assault01_place09_night_winter_resized.mp4\n",
      "Copying G:\\내 드라이브\\Project\\RGBLab\\ABB\\Data\\01.폭행(assult)\\insidedoor_03\\24-5\\24-5_cam02_assault01_place09_night_spring_resized.mp4 to G:\\내 드라이브\\Project\\RGBLab\\ABB\\Data\\Resized\\01.폭행(assult)\\insidedoor_03\\24-5\\24-5_cam02_assault01_place09_night_spring_resized.mp4\n",
      "Copying G:\\내 드라이브\\Project\\RGBLab\\ABB\\Data\\01.폭행(assult)\\insidedoor_03\\24-5\\24-5_cam02_assault01_place09_night_winter_resized.mp4 to G:\\내 드라이브\\Project\\RGBLab\\ABB\\Data\\Resized\\01.폭행(assult)\\insidedoor_03\\24-5\\24-5_cam02_assault01_place09_night_winter_resized.mp4\n"
     ]
    },
    {
     "name": "stderr",
     "output_type": "stream",
     "text": [
      "Copying files: 603it [00:39, 24.31it/s]"
     ]
    },
    {
     "name": "stdout",
     "output_type": "stream",
     "text": [
      "Copying G:\\내 드라이브\\Project\\RGBLab\\ABB\\Data\\01.폭행(assult)\\insidedoor_03\\24-5\\24-5_cam01_assault01_place09_night_winter_resized.mp4 to G:\\내 드라이브\\Project\\RGBLab\\ABB\\Data\\Resized\\01.폭행(assult)\\insidedoor_03\\24-5\\24-5_cam01_assault01_place09_night_winter_resized.mp4\n",
      "Copying G:\\내 드라이브\\Project\\RGBLab\\ABB\\Data\\01.폭행(assult)\\insidedoor_03\\24-6\\24-6_cam01_assault01_place09_night_spring_resized.mp4 to G:\\내 드라이브\\Project\\RGBLab\\ABB\\Data\\Resized\\01.폭행(assult)\\insidedoor_03\\24-6\\24-6_cam01_assault01_place09_night_spring_resized.mp4\n",
      "Copying G:\\내 드라이브\\Project\\RGBLab\\ABB\\Data\\01.폭행(assult)\\insidedoor_03\\24-6\\24-6_cam02_assault01_place09_night_winter_resized.mp4 to G:\\내 드라이브\\Project\\RGBLab\\ABB\\Data\\Resized\\01.폭행(assult)\\insidedoor_03\\24-6\\24-6_cam02_assault01_place09_night_winter_resized.mp4\n",
      "Copying G:\\내 드라이브\\Project\\RGBLab\\ABB\\Data\\01.폭행(assult)\\insidedoor_03\\24-6\\24-6_cam03_assault01_place09_night_winter_resized.mp4 to G:\\내 드라이브\\Project\\RGBLab\\ABB\\Data\\Resized\\01.폭행(assult)\\insidedoor_03\\24-6\\24-6_cam03_assault01_place09_night_winter_resized.mp4\n"
     ]
    },
    {
     "name": "stderr",
     "output_type": "stream",
     "text": [
      "Copying files: 609it [00:39, 22.31it/s]"
     ]
    },
    {
     "name": "stdout",
     "output_type": "stream",
     "text": [
      "Copying G:\\내 드라이브\\Project\\RGBLab\\ABB\\Data\\01.폭행(assult)\\insidedoor_03\\24-6\\24-6_cam03_assault01_place09_night_summer_resized.mp4 to G:\\내 드라이브\\Project\\RGBLab\\ABB\\Data\\Resized\\01.폭행(assult)\\insidedoor_03\\24-6\\24-6_cam03_assault01_place09_night_summer_resized.mp4\n",
      "Copying G:\\내 드라이브\\Project\\RGBLab\\ABB\\Data\\01.폭행(assult)\\insidedoor_03\\24-6\\24-6_cam02_assault01_place09_night_summer_resized.mp4 to G:\\내 드라이브\\Project\\RGBLab\\ABB\\Data\\Resized\\01.폭행(assult)\\insidedoor_03\\24-6\\24-6_cam02_assault01_place09_night_summer_resized.mp4\n",
      "Copying G:\\내 드라이브\\Project\\RGBLab\\ABB\\Data\\01.폭행(assult)\\insidedoor_03\\24-6\\24-6_cam03_assault01_place09_night_spring_resized.mp4 to G:\\내 드라이브\\Project\\RGBLab\\ABB\\Data\\Resized\\01.폭행(assult)\\insidedoor_03\\24-6\\24-6_cam03_assault01_place09_night_spring_resized.mp4\n",
      "Copying G:\\내 드라이브\\Project\\RGBLab\\ABB\\Data\\01.폭행(assult)\\insidedoor_03\\24-6\\24-6_cam02_assault01_place09_night_spring_resized.mp4 to G:\\내 드라이브\\Project\\RGBLab\\ABB\\Data\\Resized\\01.폭행(assult)\\insidedoor_03\\24-6\\24-6_cam02_assault01_place09_night_spring_resized.mp4\n"
     ]
    },
    {
     "name": "stderr",
     "output_type": "stream",
     "text": [
      "Copying files: 609it [00:39, 22.31it/s]"
     ]
    },
    {
     "name": "stdout",
     "output_type": "stream",
     "text": [
      "Copying G:\\내 드라이브\\Project\\RGBLab\\ABB\\Data\\01.폭행(assult)\\insidedoor_03\\24-6\\24-6_cam01_assault01_place09_night_summer_resized.mp4 to G:\\내 드라이브\\Project\\RGBLab\\ABB\\Data\\Resized\\01.폭행(assult)\\insidedoor_03\\24-6\\24-6_cam01_assault01_place09_night_summer_resized.mp4\n",
      "Copying G:\\내 드라이브\\Project\\RGBLab\\ABB\\Data\\01.폭행(assult)\\insidedoor_03\\24-6\\24-6_cam01_assault01_place09_night_winter_resized.mp4 to G:\\내 드라이브\\Project\\RGBLab\\ABB\\Data\\Resized\\01.폭행(assult)\\insidedoor_03\\24-6\\24-6_cam01_assault01_place09_night_winter_resized.mp4\n",
      "Copying G:\\내 드라이브\\Project\\RGBLab\\ABB\\Data\\01.폭행(assult)\\outsidedoor_03\\16-3\\16-3_cam01_assault01_place02_night_spring_resized.mp4 to G:\\내 드라이브\\Project\\RGBLab\\ABB\\Data\\Resized\\01.폭행(assult)\\outsidedoor_03\\16-3\\16-3_cam01_assault01_place02_night_spring_resized.mp4\n"
     ]
    },
    {
     "name": "stderr",
     "output_type": "stream",
     "text": [
      "Copying files: 612it [00:40, 17.21it/s]"
     ]
    },
    {
     "name": "stdout",
     "output_type": "stream",
     "text": [
      "Copying G:\\내 드라이브\\Project\\RGBLab\\ABB\\Data\\01.폭행(assult)\\outsidedoor_03\\16-3\\16-3_cam02_assault01_place02_night_summer_resized.mp4 to G:\\내 드라이브\\Project\\RGBLab\\ABB\\Data\\Resized\\01.폭행(assult)\\outsidedoor_03\\16-3\\16-3_cam02_assault01_place02_night_summer_resized.mp4\n"
     ]
    },
    {
     "name": "stderr",
     "output_type": "stream",
     "text": [
      "Copying files: 612it [00:40, 17.21it/s]"
     ]
    },
    {
     "name": "stdout",
     "output_type": "stream",
     "text": [
      "Copying G:\\내 드라이브\\Project\\RGBLab\\ABB\\Data\\01.폭행(assult)\\outsidedoor_03\\16-3\\16-3_cam02_assault01_place02_night_spring_resized.mp4 to G:\\내 드라이브\\Project\\RGBLab\\ABB\\Data\\Resized\\01.폭행(assult)\\outsidedoor_03\\16-3\\16-3_cam02_assault01_place02_night_spring_resized.mp4\n"
     ]
    },
    {
     "name": "stderr",
     "output_type": "stream",
     "text": [
      "Copying files: 614it [00:40,  9.98it/s]"
     ]
    },
    {
     "name": "stdout",
     "output_type": "stream",
     "text": [
      "Copying G:\\내 드라이브\\Project\\RGBLab\\ABB\\Data\\01.폭행(assult)\\outsidedoor_03\\16-3\\16-3_cam01_assault01_place02_night_summer_resized.mp4 to G:\\내 드라이브\\Project\\RGBLab\\ABB\\Data\\Resized\\01.폭행(assult)\\outsidedoor_03\\16-3\\16-3_cam01_assault01_place02_night_summer_resized.mp4\n",
      "Copying G:\\내 드라이브\\Project\\RGBLab\\ABB\\Data\\01.폭행(assult)\\outsidedoor_03\\16-4\\16-4_cam02_assault01_place02_night_summer_resized.mp4 to G:\\내 드라이브\\Project\\RGBLab\\ABB\\Data\\Resized\\01.폭행(assult)\\outsidedoor_03\\16-4\\16-4_cam02_assault01_place02_night_summer_resized.mp4\n"
     ]
    },
    {
     "name": "stderr",
     "output_type": "stream",
     "text": [
      "Copying files: 616it [00:40,  7.71it/s]"
     ]
    },
    {
     "name": "stdout",
     "output_type": "stream",
     "text": [
      "Copying G:\\내 드라이브\\Project\\RGBLab\\ABB\\Data\\01.폭행(assult)\\outsidedoor_03\\16-4\\16-4_cam02_assault01_place02_night_spring_resized.mp4 to G:\\내 드라이브\\Project\\RGBLab\\ABB\\Data\\Resized\\01.폭행(assult)\\outsidedoor_03\\16-4\\16-4_cam02_assault01_place02_night_spring_resized.mp4\n"
     ]
    },
    {
     "name": "stderr",
     "output_type": "stream",
     "text": [
      "Copying files: 618it [00:41,  6.56it/s]"
     ]
    },
    {
     "name": "stdout",
     "output_type": "stream",
     "text": [
      "Copying G:\\내 드라이브\\Project\\RGBLab\\ABB\\Data\\01.폭행(assult)\\outsidedoor_03\\16-4\\16-4_cam01_assault01_place02_night_summer_resized.mp4 to G:\\내 드라이브\\Project\\RGBLab\\ABB\\Data\\Resized\\01.폭행(assult)\\outsidedoor_03\\16-4\\16-4_cam01_assault01_place02_night_summer_resized.mp4\n"
     ]
    },
    {
     "name": "stderr",
     "output_type": "stream",
     "text": [
      "Copying files: 619it [00:41,  6.41it/s]"
     ]
    },
    {
     "name": "stdout",
     "output_type": "stream",
     "text": [
      "Copying G:\\내 드라이브\\Project\\RGBLab\\ABB\\Data\\01.폭행(assult)\\outsidedoor_03\\16-5\\16-5_cam01_assault01_place02_night_summer_resized.mp4 to G:\\내 드라이브\\Project\\RGBLab\\ABB\\Data\\Resized\\01.폭행(assult)\\outsidedoor_03\\16-5\\16-5_cam01_assault01_place02_night_summer_resized.mp4\n",
      "Copying G:\\내 드라이브\\Project\\RGBLab\\ABB\\Data\\01.폭행(assult)\\outsidedoor_03\\16-5\\16-5_cam02_assault01_place02_night_summer_resized.mp4 to G:\\내 드라이브\\Project\\RGBLab\\ABB\\Data\\Resized\\01.폭행(assult)\\outsidedoor_03\\16-5\\16-5_cam02_assault01_place02_night_summer_resized.mp4\n"
     ]
    },
    {
     "name": "stderr",
     "output_type": "stream",
     "text": [
      "Copying files: 620it [00:41,  5.93it/s]"
     ]
    },
    {
     "name": "stdout",
     "output_type": "stream",
     "text": [
      "Copying G:\\내 드라이브\\Project\\RGBLab\\ABB\\Data\\01.폭행(assult)\\outsidedoor_03\\16-5\\16-5_cam02_assault01_place02_night_spring_resized.mp4 to G:\\내 드라이브\\Project\\RGBLab\\ABB\\Data\\Resized\\01.폭행(assult)\\outsidedoor_03\\16-5\\16-5_cam02_assault01_place02_night_spring_resized.mp4\n"
     ]
    },
    {
     "name": "stderr",
     "output_type": "stream",
     "text": [
      "Copying files: 622it [00:42,  5.77it/s]"
     ]
    },
    {
     "name": "stdout",
     "output_type": "stream",
     "text": [
      "Copying G:\\내 드라이브\\Project\\RGBLab\\ABB\\Data\\01.폭행(assult)\\outsidedoor_03\\16-5\\16-5_cam01_assault01_place02_night_spring_resized.mp4 to G:\\내 드라이브\\Project\\RGBLab\\ABB\\Data\\Resized\\01.폭행(assult)\\outsidedoor_03\\16-5\\16-5_cam01_assault01_place02_night_spring_resized.mp4\n",
      "Copying G:\\내 드라이브\\Project\\RGBLab\\ABB\\Data\\01.폭행(assult)\\outsidedoor_03\\16-6\\16-6_cam02_assault01_place02_night_spring_resized.mp4 to G:\\내 드라이브\\Project\\RGBLab\\ABB\\Data\\Resized\\01.폭행(assult)\\outsidedoor_03\\16-6\\16-6_cam02_assault01_place02_night_spring_resized.mp4\n"
     ]
    },
    {
     "name": "stderr",
     "output_type": "stream",
     "text": [
      "Copying files: 623it [00:42,  5.24it/s]"
     ]
    },
    {
     "name": "stdout",
     "output_type": "stream",
     "text": [
      "Copying G:\\내 드라이브\\Project\\RGBLab\\ABB\\Data\\01.폭행(assult)\\outsidedoor_03\\16-6\\16-6_cam02_assault01_place02_night_summer_resized.mp4 to G:\\내 드라이브\\Project\\RGBLab\\ABB\\Data\\Resized\\01.폭행(assult)\\outsidedoor_03\\16-6\\16-6_cam02_assault01_place02_night_summer_resized.mp4\n"
     ]
    },
    {
     "name": "stderr",
     "output_type": "stream",
     "text": [
      "Copying files: 625it [00:42,  5.33it/s]"
     ]
    },
    {
     "name": "stdout",
     "output_type": "stream",
     "text": [
      "Copying G:\\내 드라이브\\Project\\RGBLab\\ABB\\Data\\01.폭행(assult)\\outsidedoor_03\\16-6\\16-6_cam01_assault01_place02_night_summer_resized.mp4 to G:\\내 드라이브\\Project\\RGBLab\\ABB\\Data\\Resized\\01.폭행(assult)\\outsidedoor_03\\16-6\\16-6_cam01_assault01_place02_night_summer_resized.mp4\n",
      "Copying G:\\내 드라이브\\Project\\RGBLab\\ABB\\Data\\01.폭행(assult)\\outsidedoor_03\\16-6\\16-6_cam01_assault01_place02_night_spring_resized.mp4 to G:\\내 드라이브\\Project\\RGBLab\\ABB\\Data\\Resized\\01.폭행(assult)\\outsidedoor_03\\16-6\\16-6_cam01_assault01_place02_night_spring_resized.mp4\n"
     ]
    },
    {
     "name": "stderr",
     "output_type": "stream",
     "text": [
      "Copying files: 627it [00:43,  5.44it/s]"
     ]
    },
    {
     "name": "stdout",
     "output_type": "stream",
     "text": [
      "Copying G:\\내 드라이브\\Project\\RGBLab\\ABB\\Data\\01.폭행(assult)\\outsidedoor_03\\17-1\\17-1_cam01_assault03_place03_night_spring_resized.mp4 to G:\\내 드라이브\\Project\\RGBLab\\ABB\\Data\\Resized\\01.폭행(assult)\\outsidedoor_03\\17-1\\17-1_cam01_assault03_place03_night_spring_resized.mp4\n"
     ]
    },
    {
     "name": "stderr",
     "output_type": "stream",
     "text": [
      "Copying files: 628it [00:43,  5.92it/s]"
     ]
    },
    {
     "name": "stdout",
     "output_type": "stream",
     "text": [
      "Copying G:\\내 드라이브\\Project\\RGBLab\\ABB\\Data\\01.폭행(assult)\\outsidedoor_03\\17-1\\17-1_cam01_assault03_place03_night_summer_resized.mp4 to G:\\내 드라이브\\Project\\RGBLab\\ABB\\Data\\Resized\\01.폭행(assult)\\outsidedoor_03\\17-1\\17-1_cam01_assault03_place03_night_summer_resized.mp4\n",
      "Copying G:\\내 드라이브\\Project\\RGBLab\\ABB\\Data\\01.폭행(assult)\\outsidedoor_03\\17-1\\17-1_cam02_assault03_place03_night_summer_resized.mp4 to G:\\내 드라이브\\Project\\RGBLab\\ABB\\Data\\Resized\\01.폭행(assult)\\outsidedoor_03\\17-1\\17-1_cam02_assault03_place03_night_summer_resized.mp4\n"
     ]
    },
    {
     "name": "stderr",
     "output_type": "stream",
     "text": [
      "Copying files: 630it [00:43,  6.03it/s]"
     ]
    },
    {
     "name": "stdout",
     "output_type": "stream",
     "text": [
      "Copying G:\\내 드라이브\\Project\\RGBLab\\ABB\\Data\\01.폭행(assult)\\outsidedoor_03\\17-1\\17-1_cam02_assault03_place03_night_spring_resized.mp4 to G:\\내 드라이브\\Project\\RGBLab\\ABB\\Data\\Resized\\01.폭행(assult)\\outsidedoor_03\\17-1\\17-1_cam02_assault03_place03_night_spring_resized.mp4\n",
      "Copying G:\\내 드라이브\\Project\\RGBLab\\ABB\\Data\\01.폭행(assult)\\outsidedoor_03\\17-2\\17-2_cam02_assault03_place03_night_spring_resized.mp4 to G:\\내 드라이브\\Project\\RGBLab\\ABB\\Data\\Resized\\01.폭행(assult)\\outsidedoor_03\\17-2\\17-2_cam02_assault03_place03_night_spring_resized.mp4\n"
     ]
    },
    {
     "name": "stderr",
     "output_type": "stream",
     "text": [
      "Copying files: 632it [00:43,  6.80it/s]"
     ]
    },
    {
     "name": "stdout",
     "output_type": "stream",
     "text": [
      "Copying G:\\내 드라이브\\Project\\RGBLab\\ABB\\Data\\01.폭행(assult)\\outsidedoor_03\\17-2\\17-2_cam01_assault03_place03_night_spring_resized.mp4 to G:\\내 드라이브\\Project\\RGBLab\\ABB\\Data\\Resized\\01.폭행(assult)\\outsidedoor_03\\17-2\\17-2_cam01_assault03_place03_night_spring_resized.mp4\n",
      "Copying G:\\내 드라이브\\Project\\RGBLab\\ABB\\Data\\01.폭행(assult)\\outsidedoor_03\\17-2\\17-2_cam02_assault03_place03_night_summer_resized.mp4 to G:\\내 드라이브\\Project\\RGBLab\\ABB\\Data\\Resized\\01.폭행(assult)\\outsidedoor_03\\17-2\\17-2_cam02_assault03_place03_night_summer_resized.mp4\n"
     ]
    },
    {
     "name": "stderr",
     "output_type": "stream",
     "text": [
      "Copying files: 634it [00:44,  7.17it/s]"
     ]
    },
    {
     "name": "stdout",
     "output_type": "stream",
     "text": [
      "Copying G:\\내 드라이브\\Project\\RGBLab\\ABB\\Data\\01.폭행(assult)\\outsidedoor_03\\17-2\\17-2_cam01_assault03_place03_night_summer_resized.mp4 to G:\\내 드라이브\\Project\\RGBLab\\ABB\\Data\\Resized\\01.폭행(assult)\\outsidedoor_03\\17-2\\17-2_cam01_assault03_place03_night_summer_resized.mp4\n",
      "Copying G:\\내 드라이브\\Project\\RGBLab\\ABB\\Data\\01.폭행(assult)\\outsidedoor_03\\17-3\\17-3_cam02_assault03_place03_night_summer_resized.mp4 to G:\\내 드라이브\\Project\\RGBLab\\ABB\\Data\\Resized\\01.폭행(assult)\\outsidedoor_03\\17-3\\17-3_cam02_assault03_place03_night_summer_resized.mp4\n"
     ]
    },
    {
     "name": "stderr",
     "output_type": "stream",
     "text": [
      "Copying files: 636it [00:44,  7.81it/s]"
     ]
    },
    {
     "name": "stdout",
     "output_type": "stream",
     "text": [
      "Copying G:\\내 드라이브\\Project\\RGBLab\\ABB\\Data\\01.폭행(assult)\\outsidedoor_03\\17-3\\17-3_cam01_assault03_place03_night_spring_resized.mp4 to G:\\내 드라이브\\Project\\RGBLab\\ABB\\Data\\Resized\\01.폭행(assult)\\outsidedoor_03\\17-3\\17-3_cam01_assault03_place03_night_spring_resized.mp4\n",
      "Copying G:\\내 드라이브\\Project\\RGBLab\\ABB\\Data\\01.폭행(assult)\\outsidedoor_03\\17-3\\17-3_cam01_assault03_place03_night_summer_resized.mp4 to G:\\내 드라이브\\Project\\RGBLab\\ABB\\Data\\Resized\\01.폭행(assult)\\outsidedoor_03\\17-3\\17-3_cam01_assault03_place03_night_summer_resized.mp4\n"
     ]
    },
    {
     "name": "stderr",
     "output_type": "stream",
     "text": [
      "Copying files: 638it [00:44,  8.08it/s]"
     ]
    },
    {
     "name": "stdout",
     "output_type": "stream",
     "text": [
      "Copying G:\\내 드라이브\\Project\\RGBLab\\ABB\\Data\\01.폭행(assult)\\outsidedoor_03\\17-3\\17-3_cam02_assault03_place03_night_spring_resized.mp4 to G:\\내 드라이브\\Project\\RGBLab\\ABB\\Data\\Resized\\01.폭행(assult)\\outsidedoor_03\\17-3\\17-3_cam02_assault03_place03_night_spring_resized.mp4\n",
      "Copying G:\\내 드라이브\\Project\\RGBLab\\ABB\\Data\\01.폭행(assult)\\outsidedoor_03\\17-4\\17-4_cam02_assault03_place03_night_summer_resized.mp4 to G:\\내 드라이브\\Project\\RGBLab\\ABB\\Data\\Resized\\01.폭행(assult)\\outsidedoor_03\\17-4\\17-4_cam02_assault03_place03_night_summer_resized.mp4\n"
     ]
    },
    {
     "name": "stderr",
     "output_type": "stream",
     "text": [
      "Copying files: 640it [00:44,  7.93it/s]"
     ]
    },
    {
     "name": "stdout",
     "output_type": "stream",
     "text": [
      "Copying G:\\내 드라이브\\Project\\RGBLab\\ABB\\Data\\01.폭행(assult)\\outsidedoor_03\\17-4\\17-4_cam01_assault03_place03_night_summer_resized.mp4 to G:\\내 드라이브\\Project\\RGBLab\\ABB\\Data\\Resized\\01.폭행(assult)\\outsidedoor_03\\17-4\\17-4_cam01_assault03_place03_night_summer_resized.mp4\n",
      "Copying G:\\내 드라이브\\Project\\RGBLab\\ABB\\Data\\01.폭행(assult)\\outsidedoor_03\\17-4\\17-4_cam01_assault03_place03_night_spring_resized.mp4 to G:\\내 드라이브\\Project\\RGBLab\\ABB\\Data\\Resized\\01.폭행(assult)\\outsidedoor_03\\17-4\\17-4_cam01_assault03_place03_night_spring_resized.mp4\n"
     ]
    },
    {
     "name": "stderr",
     "output_type": "stream",
     "text": [
      "Copying files: 642it [00:45,  6.90it/s]"
     ]
    },
    {
     "name": "stdout",
     "output_type": "stream",
     "text": [
      "Copying G:\\내 드라이브\\Project\\RGBLab\\ABB\\Data\\01.폭행(assult)\\outsidedoor_03\\17-4\\17-4_cam02_assault03_place03_night_spring_resized.mp4 to G:\\내 드라이브\\Project\\RGBLab\\ABB\\Data\\Resized\\01.폭행(assult)\\outsidedoor_03\\17-4\\17-4_cam02_assault03_place03_night_spring_resized.mp4\n",
      "Copying G:\\내 드라이브\\Project\\RGBLab\\ABB\\Data\\01.폭행(assult)\\outsidedoor_03\\17-5\\17-5_cam01_assault03_place03_night_spring_resized.mp4 to G:\\내 드라이브\\Project\\RGBLab\\ABB\\Data\\Resized\\01.폭행(assult)\\outsidedoor_03\\17-5\\17-5_cam01_assault03_place03_night_spring_resized.mp4\n"
     ]
    },
    {
     "name": "stderr",
     "output_type": "stream",
     "text": [
      "Copying files: 644it [00:45,  7.34it/s]"
     ]
    },
    {
     "name": "stdout",
     "output_type": "stream",
     "text": [
      "Copying G:\\내 드라이브\\Project\\RGBLab\\ABB\\Data\\01.폭행(assult)\\outsidedoor_03\\17-5\\17-5_cam01_assault03_place03_night_summer_resized.mp4 to G:\\내 드라이브\\Project\\RGBLab\\ABB\\Data\\Resized\\01.폭행(assult)\\outsidedoor_03\\17-5\\17-5_cam01_assault03_place03_night_summer_resized.mp4\n",
      "Copying G:\\내 드라이브\\Project\\RGBLab\\ABB\\Data\\01.폭행(assult)\\outsidedoor_03\\17-5\\17-5_cam02_assault03_place03_night_summer_resized.mp4 to G:\\내 드라이브\\Project\\RGBLab\\ABB\\Data\\Resized\\01.폭행(assult)\\outsidedoor_03\\17-5\\17-5_cam02_assault03_place03_night_summer_resized.mp4\n"
     ]
    },
    {
     "name": "stderr",
     "output_type": "stream",
     "text": [
      "Copying files: 646it [00:45,  6.82it/s]"
     ]
    },
    {
     "name": "stdout",
     "output_type": "stream",
     "text": [
      "Copying G:\\내 드라이브\\Project\\RGBLab\\ABB\\Data\\01.폭행(assult)\\outsidedoor_03\\17-5\\17-5_cam02_assault03_place03_night_spring_resized.mp4 to G:\\내 드라이브\\Project\\RGBLab\\ABB\\Data\\Resized\\01.폭행(assult)\\outsidedoor_03\\17-5\\17-5_cam02_assault03_place03_night_spring_resized.mp4\n",
      "Copying G:\\내 드라이브\\Project\\RGBLab\\ABB\\Data\\01.폭행(assult)\\outsidedoor_03\\17-6\\17-6_cam01_assault03_place03_night_spring_resized.mp4 to G:\\내 드라이브\\Project\\RGBLab\\ABB\\Data\\Resized\\01.폭행(assult)\\outsidedoor_03\\17-6\\17-6_cam01_assault03_place03_night_spring_resized.mp4\n"
     ]
    },
    {
     "name": "stderr",
     "output_type": "stream",
     "text": [
      "Copying files: 648it [00:46,  7.12it/s]"
     ]
    },
    {
     "name": "stdout",
     "output_type": "stream",
     "text": [
      "Copying G:\\내 드라이브\\Project\\RGBLab\\ABB\\Data\\01.폭행(assult)\\outsidedoor_03\\17-6\\17-6_cam01_assault03_place03_night_summer_resized.mp4 to G:\\내 드라이브\\Project\\RGBLab\\ABB\\Data\\Resized\\01.폭행(assult)\\outsidedoor_03\\17-6\\17-6_cam01_assault03_place03_night_summer_resized.mp4\n",
      "Copying G:\\내 드라이브\\Project\\RGBLab\\ABB\\Data\\01.폭행(assult)\\outsidedoor_03\\17-6\\17-6_cam02_assault03_place03_night_summer_resized.mp4 to G:\\내 드라이브\\Project\\RGBLab\\ABB\\Data\\Resized\\01.폭행(assult)\\outsidedoor_03\\17-6\\17-6_cam02_assault03_place03_night_summer_resized.mp4\n"
     ]
    },
    {
     "name": "stderr",
     "output_type": "stream",
     "text": [
      "Copying files: 650it [00:46,  6.34it/s]"
     ]
    },
    {
     "name": "stdout",
     "output_type": "stream",
     "text": [
      "Copying G:\\내 드라이브\\Project\\RGBLab\\ABB\\Data\\01.폭행(assult)\\outsidedoor_03\\17-6\\17-6_cam02_assault03_place03_night_spring_resized.mp4 to G:\\내 드라이브\\Project\\RGBLab\\ABB\\Data\\Resized\\01.폭행(assult)\\outsidedoor_03\\17-6\\17-6_cam02_assault03_place03_night_spring_resized.mp4\n"
     ]
    },
    {
     "name": "stderr",
     "output_type": "stream",
     "text": [
      "Copying files: 652it [00:46,  8.36it/s]"
     ]
    },
    {
     "name": "stdout",
     "output_type": "stream",
     "text": [
      "Copying G:\\내 드라이브\\Project\\RGBLab\\ABB\\Data\\01.폭행(assult)\\outsidedoor_04\\2-1\\2-1_cam01_assault01_place04_night_summer_resized.mp4 to G:\\내 드라이브\\Project\\RGBLab\\ABB\\Data\\Resized\\01.폭행(assult)\\outsidedoor_04\\2-1\\2-1_cam01_assault01_place04_night_summer_resized.mp4\n",
      "Copying G:\\내 드라이브\\Project\\RGBLab\\ABB\\Data\\01.폭행(assult)\\outsidedoor_04\\2-1\\2-1_cam01_assault01_place04_night_spring_resized.mp4 to G:\\내 드라이브\\Project\\RGBLab\\ABB\\Data\\Resized\\01.폭행(assult)\\outsidedoor_04\\2-1\\2-1_cam01_assault01_place04_night_spring_resized.mp4\n",
      "Copying G:\\내 드라이브\\Project\\RGBLab\\ABB\\Data\\01.폭행(assult)\\outsidedoor_04\\2-1\\2-1_cam02_assault01_place04_night_summer_resized.mp4 to G:\\내 드라이브\\Project\\RGBLab\\ABB\\Data\\Resized\\01.폭행(assult)\\outsidedoor_04\\2-1\\2-1_cam02_assault01_place04_night_summer_resized.mp4\n"
     ]
    },
    {
     "name": "stderr",
     "output_type": "stream",
     "text": [
      "Copying files: 654it [00:46,  9.43it/s]"
     ]
    },
    {
     "name": "stdout",
     "output_type": "stream",
     "text": [
      "Copying G:\\내 드라이브\\Project\\RGBLab\\ABB\\Data\\01.폭행(assult)\\outsidedoor_04\\2-1\\2-1_cam02_assault01_place04_night_spring_resized.mp4 to G:\\내 드라이브\\Project\\RGBLab\\ABB\\Data\\Resized\\01.폭행(assult)\\outsidedoor_04\\2-1\\2-1_cam02_assault01_place04_night_spring_resized.mp4\n",
      "Copying G:\\내 드라이브\\Project\\RGBLab\\ABB\\Data\\01.폭행(assult)\\outsidedoor_04\\18-1\\18-1_cam01_assault04_place02_night_summer_resized.mp4 to G:\\내 드라이브\\Project\\RGBLab\\ABB\\Data\\Resized\\01.폭행(assult)\\outsidedoor_04\\18-1\\18-1_cam01_assault04_place02_night_summer_resized.mp4\n",
      "Copying G:\\내 드라이브\\Project\\RGBLab\\ABB\\Data\\01.폭행(assult)\\outsidedoor_04\\18-1\\18-1_cam01_assault04_place02_night_spring_resized.mp4 to G:\\내 드라이브\\Project\\RGBLab\\ABB\\Data\\Resized\\01.폭행(assult)\\outsidedoor_04\\18-1\\18-1_cam01_assault04_place02_night_spring_resized.mp4\n"
     ]
    },
    {
     "name": "stderr",
     "output_type": "stream",
     "text": [
      "Copying files: 658it [00:47,  9.82it/s]"
     ]
    },
    {
     "name": "stdout",
     "output_type": "stream",
     "text": [
      "Copying G:\\내 드라이브\\Project\\RGBLab\\ABB\\Data\\01.폭행(assult)\\outsidedoor_04\\18-1\\18-1_cam02_assault04_place02_night_spring_resized.mp4 to G:\\내 드라이브\\Project\\RGBLab\\ABB\\Data\\Resized\\01.폭행(assult)\\outsidedoor_04\\18-1\\18-1_cam02_assault04_place02_night_spring_resized.mp4\n",
      "Copying G:\\내 드라이브\\Project\\RGBLab\\ABB\\Data\\01.폭행(assult)\\outsidedoor_04\\18-1\\18-1_cam02_assault04_place02_night_summer_resized.mp4 to G:\\내 드라이브\\Project\\RGBLab\\ABB\\Data\\Resized\\01.폭행(assult)\\outsidedoor_04\\18-1\\18-1_cam02_assault04_place02_night_summer_resized.mp4\n"
     ]
    },
    {
     "name": "stderr",
     "output_type": "stream",
     "text": [
      "Copying files: 659it [00:47,  9.28it/s]"
     ]
    },
    {
     "name": "stdout",
     "output_type": "stream",
     "text": [
      "Copying G:\\내 드라이브\\Project\\RGBLab\\ABB\\Data\\01.폭행(assult)\\outsidedoor_04\\18-3\\18-3_cam01_assault04_place02_night_summer_resized.mp4 to G:\\내 드라이브\\Project\\RGBLab\\ABB\\Data\\Resized\\01.폭행(assult)\\outsidedoor_04\\18-3\\18-3_cam01_assault04_place02_night_summer_resized.mp4\n",
      "Copying G:\\내 드라이브\\Project\\RGBLab\\ABB\\Data\\01.폭행(assult)\\outsidedoor_04\\18-3\\18-3_cam02_assault04_place02_night_summer_resized.mp4 to G:\\내 드라이브\\Project\\RGBLab\\ABB\\Data\\Resized\\01.폭행(assult)\\outsidedoor_04\\18-3\\18-3_cam02_assault04_place02_night_summer_resized.mp4\n"
     ]
    },
    {
     "name": "stderr",
     "output_type": "stream",
     "text": [
      "Copying files: 662it [00:47,  9.87it/s]"
     ]
    },
    {
     "name": "stdout",
     "output_type": "stream",
     "text": [
      "Copying G:\\내 드라이브\\Project\\RGBLab\\ABB\\Data\\01.폭행(assult)\\outsidedoor_04\\18-3\\18-3_cam01_assault04_place02_night_spring_resized.mp4 to G:\\내 드라이브\\Project\\RGBLab\\ABB\\Data\\Resized\\01.폭행(assult)\\outsidedoor_04\\18-3\\18-3_cam01_assault04_place02_night_spring_resized.mp4\n",
      "Copying G:\\내 드라이브\\Project\\RGBLab\\ABB\\Data\\01.폭행(assult)\\outsidedoor_04\\18-3\\18-3_cam02_assault04_place02_night_spring_resized.mp4 to G:\\내 드라이브\\Project\\RGBLab\\ABB\\Data\\Resized\\01.폭행(assult)\\outsidedoor_04\\18-3\\18-3_cam02_assault04_place02_night_spring_resized.mp4\n",
      "Copying G:\\내 드라이브\\Project\\RGBLab\\ABB\\Data\\01.폭행(assult)\\outsidedoor_04\\18-5\\18-5_cam02_assault04_place02_night_summer_resized.mp4 to G:\\내 드라이브\\Project\\RGBLab\\ABB\\Data\\Resized\\01.폭행(assult)\\outsidedoor_04\\18-5\\18-5_cam02_assault04_place02_night_summer_resized.mp4\n"
     ]
    },
    {
     "name": "stderr",
     "output_type": "stream",
     "text": [
      "Copying files: 664it [00:47,  9.82it/s]"
     ]
    },
    {
     "name": "stdout",
     "output_type": "stream",
     "text": [
      "Copying G:\\내 드라이브\\Project\\RGBLab\\ABB\\Data\\01.폭행(assult)\\outsidedoor_04\\18-5\\18-5_cam01_assault04_place02_night_spring_resized.mp4 to G:\\내 드라이브\\Project\\RGBLab\\ABB\\Data\\Resized\\01.폭행(assult)\\outsidedoor_04\\18-5\\18-5_cam01_assault04_place02_night_spring_resized.mp4\n",
      "Copying G:\\내 드라이브\\Project\\RGBLab\\ABB\\Data\\01.폭행(assult)\\outsidedoor_04\\18-5\\18-5_cam01_assault04_place02_night_summer_resized.mp4 to G:\\내 드라이브\\Project\\RGBLab\\ABB\\Data\\Resized\\01.폭행(assult)\\outsidedoor_04\\18-5\\18-5_cam01_assault04_place02_night_summer_resized.mp4\n"
     ]
    },
    {
     "name": "stderr",
     "output_type": "stream",
     "text": [
      "Copying files: 666it [00:47,  8.87it/s]"
     ]
    },
    {
     "name": "stdout",
     "output_type": "stream",
     "text": [
      "Copying G:\\내 드라이브\\Project\\RGBLab\\ABB\\Data\\01.폭행(assult)\\outsidedoor_04\\18-5\\18-5_cam02_assault04_place02_night_spring_resized.mp4 to G:\\내 드라이브\\Project\\RGBLab\\ABB\\Data\\Resized\\01.폭행(assult)\\outsidedoor_04\\18-5\\18-5_cam02_assault04_place02_night_spring_resized.mp4\n",
      "Copying G:\\내 드라이브\\Project\\RGBLab\\ABB\\Data\\01.폭행(assult)\\outsidedoor_04\\18-6\\18-6_cam02_assault04_place02_night_spring_resized.mp4 to G:\\내 드라이브\\Project\\RGBLab\\ABB\\Data\\Resized\\01.폭행(assult)\\outsidedoor_04\\18-6\\18-6_cam02_assault04_place02_night_spring_resized.mp4\n"
     ]
    },
    {
     "name": "stderr",
     "output_type": "stream",
     "text": [
      "Copying files: 669it [00:48,  9.51it/s]"
     ]
    },
    {
     "name": "stdout",
     "output_type": "stream",
     "text": [
      "Copying G:\\내 드라이브\\Project\\RGBLab\\ABB\\Data\\01.폭행(assult)\\outsidedoor_04\\18-6\\18-6_cam01_assault04_place02_night_spring_resized.mp4 to G:\\내 드라이브\\Project\\RGBLab\\ABB\\Data\\Resized\\01.폭행(assult)\\outsidedoor_04\\18-6\\18-6_cam01_assault04_place02_night_spring_resized.mp4\n",
      "Copying G:\\내 드라이브\\Project\\RGBLab\\ABB\\Data\\01.폭행(assult)\\outsidedoor_04\\18-6\\18-6_cam02_assault04_place02_night_summer_resized.mp4 to G:\\내 드라이브\\Project\\RGBLab\\ABB\\Data\\Resized\\01.폭행(assult)\\outsidedoor_04\\18-6\\18-6_cam02_assault04_place02_night_summer_resized.mp4\n"
     ]
    },
    {
     "name": "stderr",
     "output_type": "stream",
     "text": [
      "Copying files: 669it [00:48,  9.51it/s]"
     ]
    },
    {
     "name": "stdout",
     "output_type": "stream",
     "text": [
      "Copying G:\\내 드라이브\\Project\\RGBLab\\ABB\\Data\\01.폭행(assult)\\outsidedoor_04\\18-6\\18-6_cam01_assault04_place02_night_summer_resized.mp4 to G:\\내 드라이브\\Project\\RGBLab\\ABB\\Data\\Resized\\01.폭행(assult)\\outsidedoor_04\\18-6\\18-6_cam01_assault04_place02_night_summer_resized.mp4\n",
      "Copying G:\\내 드라이브\\Project\\RGBLab\\ABB\\Data\\01.폭행(assult)\\outsidedoor_04\\19-3\\19-3_cam01_assault01_place04_night_spring_resized.mp4 to G:\\내 드라이브\\Project\\RGBLab\\ABB\\Data\\Resized\\01.폭행(assult)\\outsidedoor_04\\19-3\\19-3_cam01_assault01_place04_night_spring_resized.mp4\n"
     ]
    },
    {
     "name": "stderr",
     "output_type": "stream",
     "text": [
      "Copying files: 673it [00:48,  9.57it/s]"
     ]
    },
    {
     "name": "stdout",
     "output_type": "stream",
     "text": [
      "Copying G:\\내 드라이브\\Project\\RGBLab\\ABB\\Data\\01.폭행(assult)\\outsidedoor_04\\19-5\\19-5_cam02_assault01_place04_night_spring_resized.mp4 to G:\\내 드라이브\\Project\\RGBLab\\ABB\\Data\\Resized\\01.폭행(assult)\\outsidedoor_04\\19-5\\19-5_cam02_assault01_place04_night_spring_resized.mp4\n",
      "Copying G:\\내 드라이브\\Project\\RGBLab\\ABB\\Data\\01.폭행(assult)\\outsidedoor_04\\19-5\\19-5_cam02_assault01_place04_night_summer_resized.mp4 to G:\\내 드라이브\\Project\\RGBLab\\ABB\\Data\\Resized\\01.폭행(assult)\\outsidedoor_04\\19-5\\19-5_cam02_assault01_place04_night_summer_resized.mp4\n",
      "Copying G:\\내 드라이브\\Project\\RGBLab\\ABB\\Data\\01.폭행(assult)\\outsidedoor_04\\19-5\\19-5_cam01_assault01_place04_night_summer_resized.mp4 to G:\\내 드라이브\\Project\\RGBLab\\ABB\\Data\\Resized\\01.폭행(assult)\\outsidedoor_04\\19-5\\19-5_cam01_assault01_place04_night_summer_resized.mp4\n"
     ]
    },
    {
     "name": "stderr",
     "output_type": "stream",
     "text": [
      "Copying files: 675it [00:49,  7.96it/s]"
     ]
    },
    {
     "name": "stdout",
     "output_type": "stream",
     "text": [
      "Copying G:\\내 드라이브\\Project\\RGBLab\\ABB\\Data\\01.폭행(assult)\\outsidedoor_04\\19-6\\19-6_cam01_assault01_place04_night_summer_resized.mp4 to G:\\내 드라이브\\Project\\RGBLab\\ABB\\Data\\Resized\\01.폭행(assult)\\outsidedoor_04\\19-6\\19-6_cam01_assault01_place04_night_summer_resized.mp4\n",
      "Copying G:\\내 드라이브\\Project\\RGBLab\\ABB\\Data\\01.폭행(assult)\\outsidedoor_04\\19-6\\19-6_cam01_assault01_place04_night_spring_resized.mp4 to G:\\내 드라이브\\Project\\RGBLab\\ABB\\Data\\Resized\\01.폭행(assult)\\outsidedoor_04\\19-6\\19-6_cam01_assault01_place04_night_spring_resized.mp4\n"
     ]
    },
    {
     "name": "stderr",
     "output_type": "stream",
     "text": [
      "Copying files: 678it [00:49,  8.95it/s]"
     ]
    },
    {
     "name": "stdout",
     "output_type": "stream",
     "text": [
      "Copying G:\\내 드라이브\\Project\\RGBLab\\ABB\\Data\\01.폭행(assult)\\outsidedoor_04\\19-6\\19-6_cam02_assault01_place04_night_spring_resized.mp4 to G:\\내 드라이브\\Project\\RGBLab\\ABB\\Data\\Resized\\01.폭행(assult)\\outsidedoor_04\\19-6\\19-6_cam02_assault01_place04_night_spring_resized.mp4\n",
      "Copying G:\\내 드라이브\\Project\\RGBLab\\ABB\\Data\\01.폭행(assult)\\outsidedoor_04\\19-6\\19-6_cam02_assault01_place04_night_summer_resized.mp4 to G:\\내 드라이브\\Project\\RGBLab\\ABB\\Data\\Resized\\01.폭행(assult)\\outsidedoor_04\\19-6\\19-6_cam02_assault01_place04_night_summer_resized.mp4\n",
      "Copying G:\\내 드라이브\\Project\\RGBLab\\ABB\\Data\\01.폭행(assult)\\outsidedoor_04\\180-3\\180-3_cam02_assault01_place09_day_summer_resized.mp4 to G:\\내 드라이브\\Project\\RGBLab\\ABB\\Data\\Resized\\01.폭행(assult)\\outsidedoor_04\\180-3\\180-3_cam02_assault01_place09_day_summer_resized.mp4\n"
     ]
    },
    {
     "name": "stderr",
     "output_type": "stream",
     "text": [
      "Copying files: 679it [00:49,  7.24it/s]"
     ]
    },
    {
     "name": "stdout",
     "output_type": "stream",
     "text": [
      "Copying G:\\내 드라이브\\Project\\RGBLab\\ABB\\Data\\01.폭행(assult)\\outsidedoor_04\\180-3\\180-3_cam02_assault01_place09_day_spring_resized.mp4 to G:\\내 드라이브\\Project\\RGBLab\\ABB\\Data\\Resized\\01.폭행(assult)\\outsidedoor_04\\180-3\\180-3_cam02_assault01_place09_day_spring_resized.mp4\n"
     ]
    },
    {
     "name": "stderr",
     "output_type": "stream",
     "text": [
      "Copying files: 680it [00:49,  6.19it/s]"
     ]
    },
    {
     "name": "stdout",
     "output_type": "stream",
     "text": [
      "Copying G:\\내 드라이브\\Project\\RGBLab\\ABB\\Data\\01.폭행(assult)\\outsidedoor_04\\180-3\\180-3_cam01_assault01_place09_day_spring_resized.mp4 to G:\\내 드라이브\\Project\\RGBLab\\ABB\\Data\\Resized\\01.폭행(assult)\\outsidedoor_04\\180-3\\180-3_cam01_assault01_place09_day_spring_resized.mp4\n"
     ]
    },
    {
     "name": "stderr",
     "output_type": "stream",
     "text": [
      "Copying files: 681it [00:50,  5.65it/s]"
     ]
    },
    {
     "name": "stdout",
     "output_type": "stream",
     "text": [
      "Copying G:\\내 드라이브\\Project\\RGBLab\\ABB\\Data\\01.폭행(assult)\\outsidedoor_04\\180-3\\180-3_cam01_assault01_place09_day_summer_resized.mp4 to G:\\내 드라이브\\Project\\RGBLab\\ABB\\Data\\Resized\\01.폭행(assult)\\outsidedoor_04\\180-3\\180-3_cam01_assault01_place09_day_summer_resized.mp4\n"
     ]
    },
    {
     "name": "stderr",
     "output_type": "stream",
     "text": [
      "Copying files: 682it [00:50,  5.09it/s]"
     ]
    },
    {
     "name": "stdout",
     "output_type": "stream",
     "text": [
      "Copying G:\\내 드라이브\\Project\\RGBLab\\ABB\\Data\\01.폭행(assult)\\outsidedoor_04\\180-6\\180-6_cam01_assault01_place09_day_summer_resized.mp4 to G:\\내 드라이브\\Project\\RGBLab\\ABB\\Data\\Resized\\01.폭행(assult)\\outsidedoor_04\\180-6\\180-6_cam01_assault01_place09_day_summer_resized.mp4\n"
     ]
    },
    {
     "name": "stderr",
     "output_type": "stream",
     "text": [
      "Copying files: 683it [00:50,  4.82it/s]"
     ]
    },
    {
     "name": "stdout",
     "output_type": "stream",
     "text": [
      "Copying G:\\내 드라이브\\Project\\RGBLab\\ABB\\Data\\01.폭행(assult)\\outsidedoor_04\\180-6\\180-6_cam01_assault01_place09_day_spring_resized.mp4 to G:\\내 드라이브\\Project\\RGBLab\\ABB\\Data\\Resized\\01.폭행(assult)\\outsidedoor_04\\180-6\\180-6_cam01_assault01_place09_day_spring_resized.mp4\n"
     ]
    },
    {
     "name": "stderr",
     "output_type": "stream",
     "text": [
      "Copying files: 684it [00:50,  4.52it/s]"
     ]
    },
    {
     "name": "stdout",
     "output_type": "stream",
     "text": [
      "Copying G:\\내 드라이브\\Project\\RGBLab\\ABB\\Data\\01.폭행(assult)\\outsidedoor_04\\180-6\\180-6_cam02_assault01_place09_day_spring_resized.mp4 to G:\\내 드라이브\\Project\\RGBLab\\ABB\\Data\\Resized\\01.폭행(assult)\\outsidedoor_04\\180-6\\180-6_cam02_assault01_place09_day_spring_resized.mp4\n"
     ]
    },
    {
     "name": "stderr",
     "output_type": "stream",
     "text": [
      "Copying files: 686it [00:51,  4.49it/s]"
     ]
    },
    {
     "name": "stdout",
     "output_type": "stream",
     "text": [
      "Copying G:\\내 드라이브\\Project\\RGBLab\\ABB\\Data\\01.폭행(assult)\\outsidedoor_04\\180-6\\180-6_cam02_assault01_place09_day_summer_resized.mp4 to G:\\내 드라이브\\Project\\RGBLab\\ABB\\Data\\Resized\\01.폭행(assult)\\outsidedoor_04\\180-6\\180-6_cam02_assault01_place09_day_summer_resized.mp4\n"
     ]
    },
    {
     "name": "stderr",
     "output_type": "stream",
     "text": [
      "Copying files: 688it [00:51,  6.41it/s]"
     ]
    },
    {
     "name": "stdout",
     "output_type": "stream",
     "text": [
      "Copying G:\\내 드라이브\\Project\\RGBLab\\ABB\\Data\\01.폭행(assult)\\outsidedoor_05\\2-2\\2-2_cam01_assault01_place04_night_summer_resized.mp4 to G:\\내 드라이브\\Project\\RGBLab\\ABB\\Data\\Resized\\01.폭행(assult)\\outsidedoor_05\\2-2\\2-2_cam01_assault01_place04_night_summer_resized.mp4\n",
      "Copying G:\\내 드라이브\\Project\\RGBLab\\ABB\\Data\\01.폭행(assult)\\outsidedoor_05\\2-2\\2-2_cam01_assault01_place04_night_spring_resized.mp4 to G:\\내 드라이브\\Project\\RGBLab\\ABB\\Data\\Resized\\01.폭행(assult)\\outsidedoor_05\\2-2\\2-2_cam01_assault01_place04_night_spring_resized.mp4\n",
      "Copying G:\\내 드라이브\\Project\\RGBLab\\ABB\\Data\\01.폭행(assult)\\outsidedoor_05\\2-2\\2-2_cam02_assault01_place04_night_summer_resized.mp4 to G:\\내 드라이브\\Project\\RGBLab\\ABB\\Data\\Resized\\01.폭행(assult)\\outsidedoor_05\\2-2\\2-2_cam02_assault01_place04_night_summer_resized.mp4\n"
     ]
    },
    {
     "name": "stderr",
     "output_type": "stream",
     "text": [
      "Copying files: 691it [00:51,  9.23it/s]"
     ]
    },
    {
     "name": "stdout",
     "output_type": "stream",
     "text": [
      "Copying G:\\내 드라이브\\Project\\RGBLab\\ABB\\Data\\01.폭행(assult)\\outsidedoor_05\\2-2\\2-2_cam02_assault01_place04_night_spring_resized.mp4 to G:\\내 드라이브\\Project\\RGBLab\\ABB\\Data\\Resized\\01.폭행(assult)\\outsidedoor_05\\2-2\\2-2_cam02_assault01_place04_night_spring_resized.mp4\n",
      "Copying G:\\내 드라이브\\Project\\RGBLab\\ABB\\Data\\01.폭행(assult)\\outsidedoor_05\\2-3\\2-3_cam01_assault01_place04_night_summer_resized.mp4 to G:\\내 드라이브\\Project\\RGBLab\\ABB\\Data\\Resized\\01.폭행(assult)\\outsidedoor_05\\2-3\\2-3_cam01_assault01_place04_night_summer_resized.mp4\n",
      "Copying G:\\내 드라이브\\Project\\RGBLab\\ABB\\Data\\01.폭행(assult)\\outsidedoor_05\\2-3\\2-3_cam02_assault01_place04_night_spring_resized.mp4 to G:\\내 드라이브\\Project\\RGBLab\\ABB\\Data\\Resized\\01.폭행(assult)\\outsidedoor_05\\2-3\\2-3_cam02_assault01_place04_night_spring_resized.mp4\n"
     ]
    },
    {
     "name": "stderr",
     "output_type": "stream",
     "text": [
      "Copying files: 693it [00:51, 10.45it/s]"
     ]
    },
    {
     "name": "stdout",
     "output_type": "stream",
     "text": [
      "Copying G:\\내 드라이브\\Project\\RGBLab\\ABB\\Data\\01.폭행(assult)\\outsidedoor_05\\2-3\\2-3_cam01_assault01_place04_night_spring_resized.mp4 to G:\\내 드라이브\\Project\\RGBLab\\ABB\\Data\\Resized\\01.폭행(assult)\\outsidedoor_05\\2-3\\2-3_cam01_assault01_place04_night_spring_resized.mp4\n",
      "Copying G:\\내 드라이브\\Project\\RGBLab\\ABB\\Data\\01.폭행(assult)\\outsidedoor_05\\2-3\\2-3_cam02_assault01_place04_night_summer_resized.mp4 to G:\\내 드라이브\\Project\\RGBLab\\ABB\\Data\\Resized\\01.폭행(assult)\\outsidedoor_05\\2-3\\2-3_cam02_assault01_place04_night_summer_resized.mp4\n"
     ]
    },
    {
     "name": "stderr",
     "output_type": "stream",
     "text": [
      "Copying files: 697it [00:52, 12.13it/s]"
     ]
    },
    {
     "name": "stdout",
     "output_type": "stream",
     "text": [
      "Copying G:\\내 드라이브\\Project\\RGBLab\\ABB\\Data\\01.폭행(assult)\\outsidedoor_05\\2-4\\2-4_cam01_assault01_place04_night_spring_resized.mp4 to G:\\내 드라이브\\Project\\RGBLab\\ABB\\Data\\Resized\\01.폭행(assult)\\outsidedoor_05\\2-4\\2-4_cam01_assault01_place04_night_spring_resized.mp4\n",
      "Copying G:\\내 드라이브\\Project\\RGBLab\\ABB\\Data\\01.폭행(assult)\\outsidedoor_05\\2-4\\2-4_cam01_assault01_place04_night_summer_resized.mp4 to G:\\내 드라이브\\Project\\RGBLab\\ABB\\Data\\Resized\\01.폭행(assult)\\outsidedoor_05\\2-4\\2-4_cam01_assault01_place04_night_summer_resized.mp4\n",
      "Copying G:\\내 드라이브\\Project\\RGBLab\\ABB\\Data\\01.폭행(assult)\\outsidedoor_05\\2-4\\2-4_cam02_assault01_place04_night_summer_resized.mp4 to G:\\내 드라이브\\Project\\RGBLab\\ABB\\Data\\Resized\\01.폭행(assult)\\outsidedoor_05\\2-4\\2-4_cam02_assault01_place04_night_summer_resized.mp4\n"
     ]
    },
    {
     "name": "stderr",
     "output_type": "stream",
     "text": [
      "Copying files: 699it [00:52, 13.07it/s]"
     ]
    },
    {
     "name": "stdout",
     "output_type": "stream",
     "text": [
      "Copying G:\\내 드라이브\\Project\\RGBLab\\ABB\\Data\\01.폭행(assult)\\outsidedoor_05\\2-4\\2-4_cam02_assault01_place04_night_spring_resized.mp4 to G:\\내 드라이브\\Project\\RGBLab\\ABB\\Data\\Resized\\01.폭행(assult)\\outsidedoor_05\\2-4\\2-4_cam02_assault01_place04_night_spring_resized.mp4\n",
      "Copying G:\\내 드라이브\\Project\\RGBLab\\ABB\\Data\\01.폭행(assult)\\outsidedoor_05\\2-5\\2-5_cam02_assault01_place04_night_summer_resized.mp4 to G:\\내 드라이브\\Project\\RGBLab\\ABB\\Data\\Resized\\01.폭행(assult)\\outsidedoor_05\\2-5\\2-5_cam02_assault01_place04_night_summer_resized.mp4\n",
      "Copying G:\\내 드라이브\\Project\\RGBLab\\ABB\\Data\\01.폭행(assult)\\outsidedoor_05\\2-5\\2-5_cam01_assault01_place04_night_spring_resized.mp4 to G:\\내 드라이브\\Project\\RGBLab\\ABB\\Data\\Resized\\01.폭행(assult)\\outsidedoor_05\\2-5\\2-5_cam01_assault01_place04_night_spring_resized.mp4\n"
     ]
    },
    {
     "name": "stderr",
     "output_type": "stream",
     "text": [
      "Copying files: 701it [00:52, 13.05it/s]"
     ]
    },
    {
     "name": "stdout",
     "output_type": "stream",
     "text": [
      "Copying G:\\내 드라이브\\Project\\RGBLab\\ABB\\Data\\01.폭행(assult)\\outsidedoor_05\\2-5\\2-5_cam02_assault01_place04_night_spring_resized.mp4 to G:\\내 드라이브\\Project\\RGBLab\\ABB\\Data\\Resized\\01.폭행(assult)\\outsidedoor_05\\2-5\\2-5_cam02_assault01_place04_night_spring_resized.mp4\n",
      "Copying G:\\내 드라이브\\Project\\RGBLab\\ABB\\Data\\01.폭행(assult)\\outsidedoor_05\\2-5\\2-5_cam01_assault01_place04_night_summer_resized.mp4 to G:\\내 드라이브\\Project\\RGBLab\\ABB\\Data\\Resized\\01.폭행(assult)\\outsidedoor_05\\2-5\\2-5_cam01_assault01_place04_night_summer_resized.mp4\n",
      "Copying G:\\내 드라이브\\Project\\RGBLab\\ABB\\Data\\01.폭행(assult)\\outsidedoor_05\\2-6\\2-6_cam02_assault01_place04_night_spring_resized.mp4 to G:\\내 드라이브\\Project\\RGBLab\\ABB\\Data\\Resized\\01.폭행(assult)\\outsidedoor_05\\2-6\\2-6_cam02_assault01_place04_night_spring_resized.mp4\n"
     ]
    },
    {
     "name": "stderr",
     "output_type": "stream",
     "text": [
      "Copying files: 705it [00:52, 13.62it/s]"
     ]
    },
    {
     "name": "stdout",
     "output_type": "stream",
     "text": [
      "Copying G:\\내 드라이브\\Project\\RGBLab\\ABB\\Data\\01.폭행(assult)\\outsidedoor_05\\2-6\\2-6_cam01_assault01_place04_night_summer_resized.mp4 to G:\\내 드라이브\\Project\\RGBLab\\ABB\\Data\\Resized\\01.폭행(assult)\\outsidedoor_05\\2-6\\2-6_cam01_assault01_place04_night_summer_resized.mp4\n",
      "Copying G:\\내 드라이브\\Project\\RGBLab\\ABB\\Data\\01.폭행(assult)\\outsidedoor_05\\2-6\\2-6_cam01_assault01_place04_night_spring_resized.mp4 to G:\\내 드라이브\\Project\\RGBLab\\ABB\\Data\\Resized\\01.폭행(assult)\\outsidedoor_05\\2-6\\2-6_cam01_assault01_place04_night_spring_resized.mp4\n",
      "Copying G:\\내 드라이브\\Project\\RGBLab\\ABB\\Data\\01.폭행(assult)\\outsidedoor_05\\2-6\\2-6_cam02_assault01_place04_night_summer_resized.mp4 to G:\\내 드라이브\\Project\\RGBLab\\ABB\\Data\\Resized\\01.폭행(assult)\\outsidedoor_05\\2-6\\2-6_cam02_assault01_place04_night_summer_resized.mp4\n"
     ]
    },
    {
     "name": "stderr",
     "output_type": "stream",
     "text": [
      "Copying files: 705it [00:52, 13.62it/s]"
     ]
    },
    {
     "name": "stdout",
     "output_type": "stream",
     "text": [
      "Copying G:\\내 드라이브\\Project\\RGBLab\\ABB\\Data\\01.폭행(assult)\\outsidedoor_05\\20-3\\20-3_cam02_assault01_place02_night_summer_resized.mp4 to G:\\내 드라이브\\Project\\RGBLab\\ABB\\Data\\Resized\\01.폭행(assult)\\outsidedoor_05\\20-3\\20-3_cam02_assault01_place02_night_summer_resized.mp4\n"
     ]
    },
    {
     "name": "stderr",
     "output_type": "stream",
     "text": [
      "Copying files: 707it [00:53,  9.19it/s]"
     ]
    },
    {
     "name": "stdout",
     "output_type": "stream",
     "text": [
      "Copying G:\\내 드라이브\\Project\\RGBLab\\ABB\\Data\\01.폭행(assult)\\outsidedoor_05\\20-3\\20-3_cam02_assault01_place02_night_spring_resized.mp4 to G:\\내 드라이브\\Project\\RGBLab\\ABB\\Data\\Resized\\01.폭행(assult)\\outsidedoor_05\\20-3\\20-3_cam02_assault01_place02_night_spring_resized.mp4\n"
     ]
    },
    {
     "name": "stderr",
     "output_type": "stream",
     "text": [
      "Copying files: 707it [00:53,  9.19it/s]"
     ]
    },
    {
     "name": "stdout",
     "output_type": "stream",
     "text": [
      "Copying G:\\내 드라이브\\Project\\RGBLab\\ABB\\Data\\01.폭행(assult)\\outsidedoor_05\\20-3\\20-3_cam01_assault01_place02_night_spring_resized.mp4 to G:\\내 드라이브\\Project\\RGBLab\\ABB\\Data\\Resized\\01.폭행(assult)\\outsidedoor_05\\20-3\\20-3_cam01_assault01_place02_night_spring_resized.mp4\n"
     ]
    },
    {
     "name": "stderr",
     "output_type": "stream",
     "text": [
      "Copying files: 709it [00:53,  5.99it/s]"
     ]
    },
    {
     "name": "stdout",
     "output_type": "stream",
     "text": [
      "Copying G:\\내 드라이브\\Project\\RGBLab\\ABB\\Data\\01.폭행(assult)\\outsidedoor_05\\20-3\\20-3_cam01_assault01_place02_night_summer_resized.mp4 to G:\\내 드라이브\\Project\\RGBLab\\ABB\\Data\\Resized\\01.폭행(assult)\\outsidedoor_05\\20-3\\20-3_cam01_assault01_place02_night_summer_resized.mp4\n"
     ]
    },
    {
     "name": "stderr",
     "output_type": "stream",
     "text": [
      "Copying files: 710it [00:53,  5.26it/s]"
     ]
    },
    {
     "name": "stdout",
     "output_type": "stream",
     "text": [
      "Copying G:\\내 드라이브\\Project\\RGBLab\\ABB\\Data\\01.폭행(assult)\\outsidedoor_05\\20-4\\20-4_cam01_assault01_place02_night_spring_resized.mp4 to G:\\내 드라이브\\Project\\RGBLab\\ABB\\Data\\Resized\\01.폭행(assult)\\outsidedoor_05\\20-4\\20-4_cam01_assault01_place02_night_spring_resized.mp4\n"
     ]
    },
    {
     "name": "stderr",
     "output_type": "stream",
     "text": [
      "Copying files: 711it [00:54,  4.88it/s]"
     ]
    },
    {
     "name": "stdout",
     "output_type": "stream",
     "text": [
      "Copying G:\\내 드라이브\\Project\\RGBLab\\ABB\\Data\\01.폭행(assult)\\outsidedoor_05\\20-4\\20-4_cam01_assault01_place02_night_summer_resized.mp4 to G:\\내 드라이브\\Project\\RGBLab\\ABB\\Data\\Resized\\01.폭행(assult)\\outsidedoor_05\\20-4\\20-4_cam01_assault01_place02_night_summer_resized.mp4\n"
     ]
    },
    {
     "name": "stderr",
     "output_type": "stream",
     "text": [
      "Copying files: 712it [00:54,  4.52it/s]"
     ]
    },
    {
     "name": "stdout",
     "output_type": "stream",
     "text": [
      "Copying G:\\내 드라이브\\Project\\RGBLab\\ABB\\Data\\01.폭행(assult)\\outsidedoor_05\\20-4\\20-4_cam02_assault01_place02_night_summer_resized.mp4 to G:\\내 드라이브\\Project\\RGBLab\\ABB\\Data\\Resized\\01.폭행(assult)\\outsidedoor_05\\20-4\\20-4_cam02_assault01_place02_night_summer_resized.mp4\n"
     ]
    },
    {
     "name": "stderr",
     "output_type": "stream",
     "text": [
      "Copying files: 713it [00:54,  4.20it/s]"
     ]
    },
    {
     "name": "stdout",
     "output_type": "stream",
     "text": [
      "Copying G:\\내 드라이브\\Project\\RGBLab\\ABB\\Data\\01.폭행(assult)\\outsidedoor_05\\20-4\\20-4_cam02_assault01_place02_night_spring_resized.mp4 to G:\\내 드라이브\\Project\\RGBLab\\ABB\\Data\\Resized\\01.폭행(assult)\\outsidedoor_05\\20-4\\20-4_cam02_assault01_place02_night_spring_resized.mp4\n"
     ]
    },
    {
     "name": "stderr",
     "output_type": "stream",
     "text": [
      "Copying files: 715it [00:55,  4.56it/s]"
     ]
    },
    {
     "name": "stdout",
     "output_type": "stream",
     "text": [
      "Copying G:\\내 드라이브\\Project\\RGBLab\\ABB\\Data\\01.폭행(assult)\\outsidedoor_05\\21-1\\21-1_cam02_assault01_place09_day_summer_resized.mp4 to G:\\내 드라이브\\Project\\RGBLab\\ABB\\Data\\Resized\\01.폭행(assult)\\outsidedoor_05\\21-1\\21-1_cam02_assault01_place09_day_summer_resized.mp4\n",
      "Copying G:\\내 드라이브\\Project\\RGBLab\\ABB\\Data\\01.폭행(assult)\\outsidedoor_05\\21-1\\21-1_cam01_assault01_place09_day_summer_resized.mp4 to G:\\내 드라이브\\Project\\RGBLab\\ABB\\Data\\Resized\\01.폭행(assult)\\outsidedoor_05\\21-1\\21-1_cam01_assault01_place09_day_summer_resized.mp4\n"
     ]
    },
    {
     "name": "stderr",
     "output_type": "stream",
     "text": [
      "Copying files: 717it [00:55,  5.22it/s]"
     ]
    },
    {
     "name": "stdout",
     "output_type": "stream",
     "text": [
      "Copying G:\\내 드라이브\\Project\\RGBLab\\ABB\\Data\\01.폭행(assult)\\outsidedoor_05\\21-1\\21-1_cam02_assault01_place09_day_spring_resized.mp4 to G:\\내 드라이브\\Project\\RGBLab\\ABB\\Data\\Resized\\01.폭행(assult)\\outsidedoor_05\\21-1\\21-1_cam02_assault01_place09_day_spring_resized.mp4\n",
      "Copying G:\\내 드라이브\\Project\\RGBLab\\ABB\\Data\\01.폭행(assult)\\outsidedoor_05\\21-1\\21-1_cam01_assault01_place09_day_spring_resized.mp4 to G:\\내 드라이브\\Project\\RGBLab\\ABB\\Data\\Resized\\01.폭행(assult)\\outsidedoor_05\\21-1\\21-1_cam01_assault01_place09_day_spring_resized.mp4\n"
     ]
    },
    {
     "name": "stderr",
     "output_type": "stream",
     "text": [
      "Copying files: 719it [00:55,  6.02it/s]"
     ]
    },
    {
     "name": "stdout",
     "output_type": "stream",
     "text": [
      "Copying G:\\내 드라이브\\Project\\RGBLab\\ABB\\Data\\01.폭행(assult)\\outsidedoor_05\\21-3\\21-3_cam02_assault01_place09_day_summer_resized.mp4 to G:\\내 드라이브\\Project\\RGBLab\\ABB\\Data\\Resized\\01.폭행(assult)\\outsidedoor_05\\21-3\\21-3_cam02_assault01_place09_day_summer_resized.mp4\n",
      "Copying G:\\내 드라이브\\Project\\RGBLab\\ABB\\Data\\01.폭행(assult)\\outsidedoor_05\\21-3\\21-3_cam01_assault01_place09_day_spring_resized.mp4 to G:\\내 드라이브\\Project\\RGBLab\\ABB\\Data\\Resized\\01.폭행(assult)\\outsidedoor_05\\21-3\\21-3_cam01_assault01_place09_day_spring_resized.mp4\n"
     ]
    },
    {
     "name": "stderr",
     "output_type": "stream",
     "text": [
      "Copying files: 721it [00:56,  5.80it/s]"
     ]
    },
    {
     "name": "stdout",
     "output_type": "stream",
     "text": [
      "Copying G:\\내 드라이브\\Project\\RGBLab\\ABB\\Data\\01.폭행(assult)\\outsidedoor_05\\21-3\\21-3_cam01_assault01_place09_day_summer_resized.mp4 to G:\\내 드라이브\\Project\\RGBLab\\ABB\\Data\\Resized\\01.폭행(assult)\\outsidedoor_05\\21-3\\21-3_cam01_assault01_place09_day_summer_resized.mp4\n",
      "Copying G:\\내 드라이브\\Project\\RGBLab\\ABB\\Data\\01.폭행(assult)\\outsidedoor_05\\21-3\\21-3_cam02_assault01_place09_day_spring_resized.mp4 to G:\\내 드라이브\\Project\\RGBLab\\ABB\\Data\\Resized\\01.폭행(assult)\\outsidedoor_05\\21-3\\21-3_cam02_assault01_place09_day_spring_resized.mp4\n"
     ]
    },
    {
     "name": "stderr",
     "output_type": "stream",
     "text": [
      "Copying files: 723it [00:56,  6.07it/s]"
     ]
    },
    {
     "name": "stdout",
     "output_type": "stream",
     "text": [
      "Copying G:\\내 드라이브\\Project\\RGBLab\\ABB\\Data\\01.폭행(assult)\\outsidedoor_05\\21-4\\21-4_cam01_assault01_place09_day_summer_resized.mp4 to G:\\내 드라이브\\Project\\RGBLab\\ABB\\Data\\Resized\\01.폭행(assult)\\outsidedoor_05\\21-4\\21-4_cam01_assault01_place09_day_summer_resized.mp4\n",
      "Copying G:\\내 드라이브\\Project\\RGBLab\\ABB\\Data\\01.폭행(assult)\\outsidedoor_05\\21-4\\21-4_cam01_assault01_place09_day_spring_resized.mp4 to G:\\내 드라이브\\Project\\RGBLab\\ABB\\Data\\Resized\\01.폭행(assult)\\outsidedoor_05\\21-4\\21-4_cam01_assault01_place09_day_spring_resized.mp4\n"
     ]
    },
    {
     "name": "stderr",
     "output_type": "stream",
     "text": [
      "Copying files: 725it [00:56,  6.68it/s]"
     ]
    },
    {
     "name": "stdout",
     "output_type": "stream",
     "text": [
      "Copying G:\\내 드라이브\\Project\\RGBLab\\ABB\\Data\\01.폭행(assult)\\outsidedoor_05\\21-4\\21-4_cam02_assault01_place09_day_spring_resized.mp4 to G:\\내 드라이브\\Project\\RGBLab\\ABB\\Data\\Resized\\01.폭행(assult)\\outsidedoor_05\\21-4\\21-4_cam02_assault01_place09_day_spring_resized.mp4\n",
      "Copying G:\\내 드라이브\\Project\\RGBLab\\ABB\\Data\\01.폭행(assult)\\outsidedoor_05\\21-4\\21-4_cam02_assault01_place09_day_summer_resized.mp4 to G:\\내 드라이브\\Project\\RGBLab\\ABB\\Data\\Resized\\01.폭행(assult)\\outsidedoor_05\\21-4\\21-4_cam02_assault01_place09_day_summer_resized.mp4\n"
     ]
    },
    {
     "name": "stderr",
     "output_type": "stream",
     "text": [
      "Copying files: 727it [00:56,  6.92it/s]"
     ]
    },
    {
     "name": "stdout",
     "output_type": "stream",
     "text": [
      "Copying G:\\내 드라이브\\Project\\RGBLab\\ABB\\Data\\01.폭행(assult)\\outsidedoor_05\\21-5\\21-5_cam02_assault01_place09_day_summer_resized.mp4 to G:\\내 드라이브\\Project\\RGBLab\\ABB\\Data\\Resized\\01.폭행(assult)\\outsidedoor_05\\21-5\\21-5_cam02_assault01_place09_day_summer_resized.mp4\n",
      "Copying G:\\내 드라이브\\Project\\RGBLab\\ABB\\Data\\01.폭행(assult)\\outsidedoor_05\\21-5\\21-5_cam02_assault01_place09_day_spring_resized.mp4 to G:\\내 드라이브\\Project\\RGBLab\\ABB\\Data\\Resized\\01.폭행(assult)\\outsidedoor_05\\21-5\\21-5_cam02_assault01_place09_day_spring_resized.mp4\n"
     ]
    },
    {
     "name": "stderr",
     "output_type": "stream",
     "text": [
      "Copying files: 729it [00:57,  7.05it/s]"
     ]
    },
    {
     "name": "stdout",
     "output_type": "stream",
     "text": [
      "Copying G:\\내 드라이브\\Project\\RGBLab\\ABB\\Data\\01.폭행(assult)\\outsidedoor_05\\21-5\\21-5_cam01_assault01_place09_day_spring_resized.mp4 to G:\\내 드라이브\\Project\\RGBLab\\ABB\\Data\\Resized\\01.폭행(assult)\\outsidedoor_05\\21-5\\21-5_cam01_assault01_place09_day_spring_resized.mp4\n",
      "Copying G:\\내 드라이브\\Project\\RGBLab\\ABB\\Data\\01.폭행(assult)\\outsidedoor_05\\21-5\\21-5_cam01_assault01_place09_day_summer_resized.mp4 to G:\\내 드라이브\\Project\\RGBLab\\ABB\\Data\\Resized\\01.폭행(assult)\\outsidedoor_05\\21-5\\21-5_cam01_assault01_place09_day_summer_resized.mp4\n"
     ]
    },
    {
     "name": "stderr",
     "output_type": "stream",
     "text": [
      "Copying files: 730it [00:57,  6.93it/s]"
     ]
    },
    {
     "name": "stdout",
     "output_type": "stream",
     "text": [
      "Copying G:\\내 드라이브\\Project\\RGBLab\\ABB\\Data\\01.폭행(assult)\\outsidedoor_05\\21-6\\21-6_cam01_assault01_place09_day_summer_resized.mp4 to G:\\내 드라이브\\Project\\RGBLab\\ABB\\Data\\Resized\\01.폭행(assult)\\outsidedoor_05\\21-6\\21-6_cam01_assault01_place09_day_summer_resized.mp4\n",
      "Copying G:\\내 드라이브\\Project\\RGBLab\\ABB\\Data\\01.폭행(assult)\\outsidedoor_05\\21-6\\21-6_cam02_assault01_place09_day_spring_resized.mp4 to G:\\내 드라이브\\Project\\RGBLab\\ABB\\Data\\Resized\\01.폭행(assult)\\outsidedoor_05\\21-6\\21-6_cam02_assault01_place09_day_spring_resized.mp4\n"
     ]
    },
    {
     "name": "stderr",
     "output_type": "stream",
     "text": [
      "Copying files: 732it [00:57,  7.02it/s]"
     ]
    },
    {
     "name": "stdout",
     "output_type": "stream",
     "text": [
      "Copying G:\\내 드라이브\\Project\\RGBLab\\ABB\\Data\\01.폭행(assult)\\outsidedoor_05\\21-6\\21-6_cam01_assault01_place09_day_spring_resized.mp4 to G:\\내 드라이브\\Project\\RGBLab\\ABB\\Data\\Resized\\01.폭행(assult)\\outsidedoor_05\\21-6\\21-6_cam01_assault01_place09_day_spring_resized.mp4\n",
      "Copying G:\\내 드라이브\\Project\\RGBLab\\ABB\\Data\\01.폭행(assult)\\outsidedoor_05\\21-6\\21-6_cam02_assault01_place09_day_summer_resized.mp4 to G:\\내 드라이브\\Project\\RGBLab\\ABB\\Data\\Resized\\01.폭행(assult)\\outsidedoor_05\\21-6\\21-6_cam02_assault01_place09_day_summer_resized.mp4\n"
     ]
    },
    {
     "name": "stderr",
     "output_type": "stream",
     "text": [
      "Copying files: 735it [00:58,  7.24it/s]"
     ]
    },
    {
     "name": "stdout",
     "output_type": "stream",
     "text": [
      "Copying G:\\내 드라이브\\Project\\RGBLab\\ABB\\Data\\01.폭행(assult)\\outsidedoor_05\\21-2\\21-2_cam02_assault01_place09_day_spring_resized.mp4 to G:\\내 드라이브\\Project\\RGBLab\\ABB\\Data\\Resized\\01.폭행(assult)\\outsidedoor_05\\21-2\\21-2_cam02_assault01_place09_day_spring_resized.mp4\n",
      "Copying G:\\내 드라이브\\Project\\RGBLab\\ABB\\Data\\01.폭행(assult)\\outsidedoor_05\\21-2\\21-2_cam02_assault01_place09_day_summer_resized.mp4 to G:\\내 드라이브\\Project\\RGBLab\\ABB\\Data\\Resized\\01.폭행(assult)\\outsidedoor_05\\21-2\\21-2_cam02_assault01_place09_day_summer_resized.mp4\n"
     ]
    },
    {
     "name": "stderr",
     "output_type": "stream",
     "text": [
      "Copying files: 737it [00:58,  6.90it/s]"
     ]
    },
    {
     "name": "stdout",
     "output_type": "stream",
     "text": [
      "Copying G:\\내 드라이브\\Project\\RGBLab\\ABB\\Data\\01.폭행(assult)\\outsidedoor_05\\21-2\\21-2_cam01_assault01_place09_day_summer_resized.mp4 to G:\\내 드라이브\\Project\\RGBLab\\ABB\\Data\\Resized\\01.폭행(assult)\\outsidedoor_05\\21-2\\21-2_cam01_assault01_place09_day_summer_resized.mp4\n",
      "Copying G:\\내 드라이브\\Project\\RGBLab\\ABB\\Data\\01.폭행(assult)\\outsidedoor_05\\21-2\\21-2_cam01_assault01_place09_day_spring_resized.mp4 to G:\\내 드라이브\\Project\\RGBLab\\ABB\\Data\\Resized\\01.폭행(assult)\\outsidedoor_05\\21-2\\21-2_cam01_assault01_place09_day_spring_resized.mp4\n"
     ]
    },
    {
     "name": "stderr",
     "output_type": "stream",
     "text": [
      "Copying files: 738it [00:58,  6.81it/s]"
     ]
    },
    {
     "name": "stdout",
     "output_type": "stream",
     "text": [
      "Copying G:\\내 드라이브\\Project\\RGBLab\\ABB\\Data\\01.폭행(assult)\\outsidedoor_06\\23-1\\23-1_cam02_assault01_place02_night_spring_resized.mp4 to G:\\내 드라이브\\Project\\RGBLab\\ABB\\Data\\Resized\\01.폭행(assult)\\outsidedoor_06\\23-1\\23-1_cam02_assault01_place02_night_spring_resized.mp4\n"
     ]
    },
    {
     "name": "stderr",
     "output_type": "stream",
     "text": [
      "Copying files: 739it [00:58,  5.12it/s]"
     ]
    },
    {
     "name": "stdout",
     "output_type": "stream",
     "text": [
      "Copying G:\\내 드라이브\\Project\\RGBLab\\ABB\\Data\\01.폭행(assult)\\outsidedoor_06\\23-1\\23-1_cam01_assault01_place02_night_spring_resized.mp4 to G:\\내 드라이브\\Project\\RGBLab\\ABB\\Data\\Resized\\01.폭행(assult)\\outsidedoor_06\\23-1\\23-1_cam01_assault01_place02_night_spring_resized.mp4\n"
     ]
    },
    {
     "name": "stderr",
     "output_type": "stream",
     "text": [
      "Copying files: 740it [00:59,  4.82it/s]"
     ]
    },
    {
     "name": "stdout",
     "output_type": "stream",
     "text": [
      "Copying G:\\내 드라이브\\Project\\RGBLab\\ABB\\Data\\01.폭행(assult)\\outsidedoor_06\\23-1\\23-1_cam02_assault01_place02_night_summer_resized.mp4 to G:\\내 드라이브\\Project\\RGBLab\\ABB\\Data\\Resized\\01.폭행(assult)\\outsidedoor_06\\23-1\\23-1_cam02_assault01_place02_night_summer_resized.mp4\n"
     ]
    },
    {
     "name": "stderr",
     "output_type": "stream",
     "text": [
      "Copying files: 741it [00:59,  4.41it/s]"
     ]
    },
    {
     "name": "stdout",
     "output_type": "stream",
     "text": [
      "Copying G:\\내 드라이브\\Project\\RGBLab\\ABB\\Data\\01.폭행(assult)\\outsidedoor_06\\23-1\\23-1_cam01_assault01_place02_night_summer_resized.mp4 to G:\\내 드라이브\\Project\\RGBLab\\ABB\\Data\\Resized\\01.폭행(assult)\\outsidedoor_06\\23-1\\23-1_cam01_assault01_place02_night_summer_resized.mp4\n"
     ]
    },
    {
     "name": "stderr",
     "output_type": "stream",
     "text": [
      "Copying files: 742it [00:59,  4.45it/s]"
     ]
    },
    {
     "name": "stdout",
     "output_type": "stream",
     "text": [
      "Copying G:\\내 드라이브\\Project\\RGBLab\\ABB\\Data\\01.폭행(assult)\\outsidedoor_06\\23-2\\23-2_cam01_assault01_place02_night_spring_resized.mp4 to G:\\내 드라이브\\Project\\RGBLab\\ABB\\Data\\Resized\\01.폭행(assult)\\outsidedoor_06\\23-2\\23-2_cam01_assault01_place02_night_spring_resized.mp4\n"
     ]
    },
    {
     "name": "stderr",
     "output_type": "stream",
     "text": [
      "Copying files: 743it [00:59,  4.43it/s]"
     ]
    },
    {
     "name": "stdout",
     "output_type": "stream",
     "text": [
      "Copying G:\\내 드라이브\\Project\\RGBLab\\ABB\\Data\\01.폭행(assult)\\outsidedoor_06\\23-2\\23-2_cam02_assault01_place02_night_spring_resized.mp4 to G:\\내 드라이브\\Project\\RGBLab\\ABB\\Data\\Resized\\01.폭행(assult)\\outsidedoor_06\\23-2\\23-2_cam02_assault01_place02_night_spring_resized.mp4\n"
     ]
    },
    {
     "name": "stderr",
     "output_type": "stream",
     "text": [
      "Copying files: 744it [01:00,  3.88it/s]"
     ]
    },
    {
     "name": "stdout",
     "output_type": "stream",
     "text": [
      "Copying G:\\내 드라이브\\Project\\RGBLab\\ABB\\Data\\01.폭행(assult)\\outsidedoor_06\\23-2\\23-2_cam02_assault01_place02_night_summer_resized.mp4 to G:\\내 드라이브\\Project\\RGBLab\\ABB\\Data\\Resized\\01.폭행(assult)\\outsidedoor_06\\23-2\\23-2_cam02_assault01_place02_night_summer_resized.mp4\n"
     ]
    },
    {
     "name": "stderr",
     "output_type": "stream",
     "text": [
      "Copying files: 745it [01:00,  3.81it/s]"
     ]
    },
    {
     "name": "stdout",
     "output_type": "stream",
     "text": [
      "Copying G:\\내 드라이브\\Project\\RGBLab\\ABB\\Data\\01.폭행(assult)\\outsidedoor_06\\23-2\\23-2_cam01_assault01_place02_night_summer_resized.mp4 to G:\\내 드라이브\\Project\\RGBLab\\ABB\\Data\\Resized\\01.폭행(assult)\\outsidedoor_06\\23-2\\23-2_cam01_assault01_place02_night_summer_resized.mp4\n"
     ]
    },
    {
     "name": "stderr",
     "output_type": "stream",
     "text": [
      "Copying files: 747it [01:00,  4.20it/s]"
     ]
    },
    {
     "name": "stdout",
     "output_type": "stream",
     "text": [
      "Copying G:\\내 드라이브\\Project\\RGBLab\\ABB\\Data\\01.폭행(assult)\\outsidedoor_06\\23-3\\23-3_cam01_assault01_place02_night_summer_resized.mp4 to G:\\내 드라이브\\Project\\RGBLab\\ABB\\Data\\Resized\\01.폭행(assult)\\outsidedoor_06\\23-3\\23-3_cam01_assault01_place02_night_summer_resized.mp4\n"
     ]
    },
    {
     "name": "stderr",
     "output_type": "stream",
     "text": [
      "Copying files: 748it [01:01,  4.39it/s]"
     ]
    },
    {
     "name": "stdout",
     "output_type": "stream",
     "text": [
      "Copying G:\\내 드라이브\\Project\\RGBLab\\ABB\\Data\\01.폭행(assult)\\outsidedoor_06\\23-3\\23-3_cam01_assault01_place02_night_spring_resized.mp4 to G:\\내 드라이브\\Project\\RGBLab\\ABB\\Data\\Resized\\01.폭행(assult)\\outsidedoor_06\\23-3\\23-3_cam01_assault01_place02_night_spring_resized.mp4\n"
     ]
    },
    {
     "name": "stderr",
     "output_type": "stream",
     "text": [
      "Copying files: 748it [01:01,  4.39it/s]"
     ]
    },
    {
     "name": "stdout",
     "output_type": "stream",
     "text": [
      "Copying G:\\내 드라이브\\Project\\RGBLab\\ABB\\Data\\01.폭행(assult)\\outsidedoor_06\\23-3\\23-3_cam02_assault01_place02_night_summer_resized.mp4 to G:\\내 드라이브\\Project\\RGBLab\\ABB\\Data\\Resized\\01.폭행(assult)\\outsidedoor_06\\23-3\\23-3_cam02_assault01_place02_night_summer_resized.mp4\n"
     ]
    },
    {
     "name": "stderr",
     "output_type": "stream",
     "text": [
      "Copying files: 749it [01:01,  4.22it/s]"
     ]
    },
    {
     "name": "stdout",
     "output_type": "stream",
     "text": [
      "Copying G:\\내 드라이브\\Project\\RGBLab\\ABB\\Data\\01.폭행(assult)\\outsidedoor_06\\23-3\\23-3_cam02_assault01_place02_night_spring_resized.mp4 to G:\\내 드라이브\\Project\\RGBLab\\ABB\\Data\\Resized\\01.폭행(assult)\\outsidedoor_06\\23-3\\23-3_cam02_assault01_place02_night_spring_resized.mp4\n"
     ]
    },
    {
     "name": "stderr",
     "output_type": "stream",
     "text": [
      "Copying files: 750it [01:01,  3.83it/s]"
     ]
    },
    {
     "name": "stdout",
     "output_type": "stream",
     "text": [
      "Copying G:\\내 드라이브\\Project\\RGBLab\\ABB\\Data\\01.폭행(assult)\\outsidedoor_06\\23-4\\23-4_cam02_assault01_place02_night_summer_resized.mp4 to G:\\내 드라이브\\Project\\RGBLab\\ABB\\Data\\Resized\\01.폭행(assult)\\outsidedoor_06\\23-4\\23-4_cam02_assault01_place02_night_summer_resized.mp4\n"
     ]
    },
    {
     "name": "stderr",
     "output_type": "stream",
     "text": [
      "Copying files: 751it [01:01,  3.77it/s]"
     ]
    },
    {
     "name": "stdout",
     "output_type": "stream",
     "text": [
      "Copying G:\\내 드라이브\\Project\\RGBLab\\ABB\\Data\\01.폭행(assult)\\outsidedoor_06\\23-4\\23-4_cam01_assault01_place02_night_summer_resized.mp4 to G:\\내 드라이브\\Project\\RGBLab\\ABB\\Data\\Resized\\01.폭행(assult)\\outsidedoor_06\\23-4\\23-4_cam01_assault01_place02_night_summer_resized.mp4\n"
     ]
    },
    {
     "name": "stderr",
     "output_type": "stream",
     "text": [
      "Copying files: 752it [01:02,  3.90it/s]"
     ]
    },
    {
     "name": "stdout",
     "output_type": "stream",
     "text": [
      "Copying G:\\내 드라이브\\Project\\RGBLab\\ABB\\Data\\01.폭행(assult)\\outsidedoor_06\\23-6\\23-6_cam02_assault01_place02_night_spring_resized.mp4 to G:\\내 드라이브\\Project\\RGBLab\\ABB\\Data\\Resized\\01.폭행(assult)\\outsidedoor_06\\23-6\\23-6_cam02_assault01_place02_night_spring_resized.mp4\n"
     ]
    },
    {
     "name": "stderr",
     "output_type": "stream",
     "text": [
      "Copying files: 753it [01:02,  3.82it/s]"
     ]
    },
    {
     "name": "stdout",
     "output_type": "stream",
     "text": [
      "Copying G:\\내 드라이브\\Project\\RGBLab\\ABB\\Data\\01.폭행(assult)\\outsidedoor_06\\23-6\\23-6_cam01_assault01_place02_night_spring_resized.mp4 to G:\\내 드라이브\\Project\\RGBLab\\ABB\\Data\\Resized\\01.폭행(assult)\\outsidedoor_06\\23-6\\23-6_cam01_assault01_place02_night_spring_resized.mp4\n"
     ]
    },
    {
     "name": "stderr",
     "output_type": "stream",
     "text": [
      "Copying files: 754it [01:02,  3.62it/s]"
     ]
    },
    {
     "name": "stdout",
     "output_type": "stream",
     "text": [
      "Copying G:\\내 드라이브\\Project\\RGBLab\\ABB\\Data\\01.폭행(assult)\\outsidedoor_06\\25-1\\25-1_cam02_assault01_place02_night_spring_resized.mp4 to G:\\내 드라이브\\Project\\RGBLab\\ABB\\Data\\Resized\\01.폭행(assult)\\outsidedoor_06\\25-1\\25-1_cam02_assault01_place02_night_spring_resized.mp4\n"
     ]
    },
    {
     "name": "stderr",
     "output_type": "stream",
     "text": [
      "Copying files: 756it [01:03,  4.44it/s]"
     ]
    },
    {
     "name": "stdout",
     "output_type": "stream",
     "text": [
      "Copying G:\\내 드라이브\\Project\\RGBLab\\ABB\\Data\\01.폭행(assult)\\outsidedoor_06\\25-1\\25-1_cam01_assault01_place02_night_summer_resized.mp4 to G:\\내 드라이브\\Project\\RGBLab\\ABB\\Data\\Resized\\01.폭행(assult)\\outsidedoor_06\\25-1\\25-1_cam01_assault01_place02_night_summer_resized.mp4\n",
      "Copying G:\\내 드라이브\\Project\\RGBLab\\ABB\\Data\\01.폭행(assult)\\outsidedoor_06\\25-1\\25-1_cam01_assault01_place02_night_spring_resized.mp4 to G:\\내 드라이브\\Project\\RGBLab\\ABB\\Data\\Resized\\01.폭행(assult)\\outsidedoor_06\\25-1\\25-1_cam01_assault01_place02_night_spring_resized.mp4\n"
     ]
    },
    {
     "name": "stderr",
     "output_type": "stream",
     "text": [
      "Copying files: 757it [01:03,  5.03it/s]"
     ]
    },
    {
     "name": "stdout",
     "output_type": "stream",
     "text": [
      "Copying G:\\내 드라이브\\Project\\RGBLab\\ABB\\Data\\01.폭행(assult)\\outsidedoor_06\\25-1\\25-1_cam02_assault01_place02_night_summer_resized.mp4 to G:\\내 드라이브\\Project\\RGBLab\\ABB\\Data\\Resized\\01.폭행(assult)\\outsidedoor_06\\25-1\\25-1_cam02_assault01_place02_night_summer_resized.mp4\n"
     ]
    },
    {
     "name": "stderr",
     "output_type": "stream",
     "text": [
      "Copying files: 758it [01:03,  4.74it/s]"
     ]
    },
    {
     "name": "stdout",
     "output_type": "stream",
     "text": [
      "Copying G:\\내 드라이브\\Project\\RGBLab\\ABB\\Data\\01.폭행(assult)\\outsidedoor_06\\25-2\\21-2_cam01_assault01_place09_day_summer_resized.mp4 to G:\\내 드라이브\\Project\\RGBLab\\ABB\\Data\\Resized\\01.폭행(assult)\\outsidedoor_06\\25-2\\21-2_cam01_assault01_place09_day_summer_resized.mp4\n",
      "Copying G:\\내 드라이브\\Project\\RGBLab\\ABB\\Data\\01.폭행(assult)\\outsidedoor_06\\25-2\\21-2_cam01_assault01_place09_day_spring_resized.mp4 to G:\\내 드라이브\\Project\\RGBLab\\ABB\\Data\\Resized\\01.폭행(assult)\\outsidedoor_06\\25-2\\21-2_cam01_assault01_place09_day_spring_resized.mp4\n",
      "Copying G:\\내 드라이브\\Project\\RGBLab\\ABB\\Data\\01.폭행(assult)\\outsidedoor_06\\25-2\\21-2_cam02_assault01_place09_day_summer_resized.mp4 to G:\\내 드라이브\\Project\\RGBLab\\ABB\\Data\\Resized\\01.폭행(assult)\\outsidedoor_06\\25-2\\21-2_cam02_assault01_place09_day_summer_resized.mp4\n",
      "Copying G:\\내 드라이브\\Project\\RGBLab\\ABB\\Data\\01.폭행(assult)\\outsidedoor_06\\25-2\\21-2_cam02_assault01_place09_day_spring_resized.mp4 to G:\\내 드라이브\\Project\\RGBLab\\ABB\\Data\\Resized\\01.폭행(assult)\\outsidedoor_06\\25-2\\21-2_cam02_assault01_place09_day_spring_resized.mp4\n",
      "Copying G:\\내 드라이브\\Project\\RGBLab\\ABB\\Data\\01.폭행(assult)\\outsidedoor_06\\25-2\\25-2_cam02_assault01_place02_night_summer_resized.mp4 to G:\\내 드라이브\\Project\\RGBLab\\ABB\\Data\\Resized\\01.폭행(assult)\\outsidedoor_06\\25-2\\25-2_cam02_assault01_place02_night_summer_resized.mp4\n"
     ]
    },
    {
     "name": "stderr",
     "output_type": "stream",
     "text": [
      "Copying files: 764it [01:03,  9.38it/s]"
     ]
    },
    {
     "name": "stdout",
     "output_type": "stream",
     "text": [
      "Copying G:\\내 드라이브\\Project\\RGBLab\\ABB\\Data\\01.폭행(assult)\\outsidedoor_06\\25-2\\25-2_cam01_assault01_place02_night_spring_resized.mp4 to G:\\내 드라이브\\Project\\RGBLab\\ABB\\Data\\Resized\\01.폭행(assult)\\outsidedoor_06\\25-2\\25-2_cam01_assault01_place02_night_spring_resized.mp4\n",
      "Copying G:\\내 드라이브\\Project\\RGBLab\\ABB\\Data\\01.폭행(assult)\\outsidedoor_06\\25-2\\25-2_cam02_assault01_place02_night_spring_resized.mp4 to G:\\내 드라이브\\Project\\RGBLab\\ABB\\Data\\Resized\\01.폭행(assult)\\outsidedoor_06\\25-2\\25-2_cam02_assault01_place02_night_spring_resized.mp4\n"
     ]
    },
    {
     "name": "stderr",
     "output_type": "stream",
     "text": [
      "Copying files: 766it [01:04,  7.43it/s]"
     ]
    },
    {
     "name": "stdout",
     "output_type": "stream",
     "text": [
      "Copying G:\\내 드라이브\\Project\\RGBLab\\ABB\\Data\\01.폭행(assult)\\outsidedoor_06\\25-2\\25-2_cam01_assault01_place02_night_summer_resized.mp4 to G:\\내 드라이브\\Project\\RGBLab\\ABB\\Data\\Resized\\01.폭행(assult)\\outsidedoor_06\\25-2\\25-2_cam01_assault01_place02_night_summer_resized.mp4\n",
      "Copying G:\\내 드라이브\\Project\\RGBLab\\ABB\\Data\\01.폭행(assult)\\outsidedoor_06\\25-3\\25-3_cam02_assault01_place02_night_summer_resized.mp4 to G:\\내 드라이브\\Project\\RGBLab\\ABB\\Data\\Resized\\01.폭행(assult)\\outsidedoor_06\\25-3\\25-3_cam02_assault01_place02_night_summer_resized.mp4\n"
     ]
    },
    {
     "name": "stderr",
     "output_type": "stream",
     "text": [
      "Copying files: 767it [01:04,  6.26it/s]"
     ]
    },
    {
     "name": "stdout",
     "output_type": "stream",
     "text": [
      "Copying G:\\내 드라이브\\Project\\RGBLab\\ABB\\Data\\01.폭행(assult)\\outsidedoor_06\\25-3\\25-3_cam02_assault01_place02_night_spring_resized.mp4 to G:\\내 드라이브\\Project\\RGBLab\\ABB\\Data\\Resized\\01.폭행(assult)\\outsidedoor_06\\25-3\\25-3_cam02_assault01_place02_night_spring_resized.mp4\n"
     ]
    },
    {
     "name": "stderr",
     "output_type": "stream",
     "text": [
      "Copying files: 769it [01:04,  6.04it/s]"
     ]
    },
    {
     "name": "stdout",
     "output_type": "stream",
     "text": [
      "Copying G:\\내 드라이브\\Project\\RGBLab\\ABB\\Data\\01.폭행(assult)\\outsidedoor_06\\25-3\\25-3_cam01_assault01_place02_night_summer_resized.mp4 to G:\\내 드라이브\\Project\\RGBLab\\ABB\\Data\\Resized\\01.폭행(assult)\\outsidedoor_06\\25-3\\25-3_cam01_assault01_place02_night_summer_resized.mp4\n",
      "Copying G:\\내 드라이브\\Project\\RGBLab\\ABB\\Data\\01.폭행(assult)\\outsidedoor_06\\25-3\\25-3_cam01_assault01_place02_night_spring_resized.mp4 to G:\\내 드라이브\\Project\\RGBLab\\ABB\\Data\\Resized\\01.폭행(assult)\\outsidedoor_06\\25-3\\25-3_cam01_assault01_place02_night_spring_resized.mp4\n"
     ]
    },
    {
     "name": "stderr",
     "output_type": "stream",
     "text": [
      "Copying files: 770it [01:05,  6.71it/s]"
     ]
    },
    {
     "name": "stdout",
     "output_type": "stream",
     "text": [
      "Copying G:\\내 드라이브\\Project\\RGBLab\\ABB\\Data\\01.폭행(assult)\\outsidedoor_06\\25-4\\25-4_cam02_assault01_place02_night_summer_resized.mp4 to G:\\내 드라이브\\Project\\RGBLab\\ABB\\Data\\Resized\\01.폭행(assult)\\outsidedoor_06\\25-4\\25-4_cam02_assault01_place02_night_summer_resized.mp4\n"
     ]
    },
    {
     "name": "stderr",
     "output_type": "stream",
     "text": [
      "Copying files: 772it [01:05,  6.37it/s]"
     ]
    },
    {
     "name": "stdout",
     "output_type": "stream",
     "text": [
      "Copying G:\\내 드라이브\\Project\\RGBLab\\ABB\\Data\\01.폭행(assult)\\outsidedoor_06\\25-4\\25-4_cam01_assault01_place02_night_spring_resized.mp4 to G:\\내 드라이브\\Project\\RGBLab\\ABB\\Data\\Resized\\01.폭행(assult)\\outsidedoor_06\\25-4\\25-4_cam01_assault01_place02_night_spring_resized.mp4\n",
      "Copying G:\\내 드라이브\\Project\\RGBLab\\ABB\\Data\\01.폭행(assult)\\outsidedoor_06\\25-4\\25-4_cam01_assault01_place02_night_summer_resized.mp4 to G:\\내 드라이브\\Project\\RGBLab\\ABB\\Data\\Resized\\01.폭행(assult)\\outsidedoor_06\\25-4\\25-4_cam01_assault01_place02_night_summer_resized.mp4\n"
     ]
    },
    {
     "name": "stderr",
     "output_type": "stream",
     "text": [
      "Copying files: 773it [01:05,  6.55it/s]"
     ]
    },
    {
     "name": "stdout",
     "output_type": "stream",
     "text": [
      "Copying G:\\내 드라이브\\Project\\RGBLab\\ABB\\Data\\01.폭행(assult)\\outsidedoor_06\\25-4\\25-4_cam02_assault01_place02_night_spring_resized.mp4 to G:\\내 드라이브\\Project\\RGBLab\\ABB\\Data\\Resized\\01.폭행(assult)\\outsidedoor_06\\25-4\\25-4_cam02_assault01_place02_night_spring_resized.mp4\n"
     ]
    },
    {
     "name": "stderr",
     "output_type": "stream",
     "text": [
      "Copying files: 774it [01:05,  5.38it/s]"
     ]
    },
    {
     "name": "stdout",
     "output_type": "stream",
     "text": [
      "Copying G:\\내 드라이브\\Project\\RGBLab\\ABB\\Data\\01.폭행(assult)\\outsidedoor_06\\25-5\\25-5_cam02_assault01_place02_night_spring_resized.mp4 to G:\\내 드라이브\\Project\\RGBLab\\ABB\\Data\\Resized\\01.폭행(assult)\\outsidedoor_06\\25-5\\25-5_cam02_assault01_place02_night_spring_resized.mp4\n"
     ]
    },
    {
     "name": "stderr",
     "output_type": "stream",
     "text": [
      "Copying files: 776it [01:06,  5.47it/s]"
     ]
    },
    {
     "name": "stdout",
     "output_type": "stream",
     "text": [
      "Copying G:\\내 드라이브\\Project\\RGBLab\\ABB\\Data\\01.폭행(assult)\\outsidedoor_06\\25-5\\25-5_cam01_assault01_place02_night_spring_resized.mp4 to G:\\내 드라이브\\Project\\RGBLab\\ABB\\Data\\Resized\\01.폭행(assult)\\outsidedoor_06\\25-5\\25-5_cam01_assault01_place02_night_spring_resized.mp4\n",
      "Copying G:\\내 드라이브\\Project\\RGBLab\\ABB\\Data\\01.폭행(assult)\\outsidedoor_06\\25-5\\25-5_cam01_assault01_place02_night_summer_resized.mp4 to G:\\내 드라이브\\Project\\RGBLab\\ABB\\Data\\Resized\\01.폭행(assult)\\outsidedoor_06\\25-5\\25-5_cam01_assault01_place02_night_summer_resized.mp4\n"
     ]
    },
    {
     "name": "stderr",
     "output_type": "stream",
     "text": [
      "Copying files: 778it [01:06,  5.41it/s]"
     ]
    },
    {
     "name": "stdout",
     "output_type": "stream",
     "text": [
      "Copying G:\\내 드라이브\\Project\\RGBLab\\ABB\\Data\\01.폭행(assult)\\outsidedoor_06\\25-5\\25-5_cam02_assault01_place02_night_summer_resized.mp4 to G:\\내 드라이브\\Project\\RGBLab\\ABB\\Data\\Resized\\01.폭행(assult)\\outsidedoor_06\\25-5\\25-5_cam02_assault01_place02_night_summer_resized.mp4\n"
     ]
    },
    {
     "name": "stderr",
     "output_type": "stream",
     "text": [
      "Copying files: 778it [01:06,  5.41it/s]"
     ]
    },
    {
     "name": "stdout",
     "output_type": "stream",
     "text": [
      "Copying G:\\내 드라이브\\Project\\RGBLab\\ABB\\Data\\01.폭행(assult)\\outsidedoor_06\\25-6\\25-6_cam02_assault01_place02_night_spring_resized.mp4 to G:\\내 드라이브\\Project\\RGBLab\\ABB\\Data\\Resized\\01.폭행(assult)\\outsidedoor_06\\25-6\\25-6_cam02_assault01_place02_night_spring_resized.mp4\n"
     ]
    },
    {
     "name": "stderr",
     "output_type": "stream",
     "text": [
      "Copying files: 779it [01:06,  5.14it/s]"
     ]
    },
    {
     "name": "stdout",
     "output_type": "stream",
     "text": [
      "Copying G:\\내 드라이브\\Project\\RGBLab\\ABB\\Data\\01.폭행(assult)\\outsidedoor_06\\25-6\\25-6_cam02_assault01_place02_night_summer_resized.mp4 to G:\\내 드라이브\\Project\\RGBLab\\ABB\\Data\\Resized\\01.폭행(assult)\\outsidedoor_06\\25-6\\25-6_cam02_assault01_place02_night_summer_resized.mp4\n"
     ]
    },
    {
     "name": "stderr",
     "output_type": "stream",
     "text": [
      "Copying files: 781it [01:07,  4.96it/s]"
     ]
    },
    {
     "name": "stdout",
     "output_type": "stream",
     "text": [
      "Copying G:\\내 드라이브\\Project\\RGBLab\\ABB\\Data\\01.폭행(assult)\\outsidedoor_06\\25-6\\25-6_cam01_assault01_place02_night_spring_resized.mp4 to G:\\내 드라이브\\Project\\RGBLab\\ABB\\Data\\Resized\\01.폭행(assult)\\outsidedoor_06\\25-6\\25-6_cam01_assault01_place02_night_spring_resized.mp4\n",
      "Copying G:\\내 드라이브\\Project\\RGBLab\\ABB\\Data\\01.폭행(assult)\\outsidedoor_06\\25-6\\25-6_cam01_assault01_place02_night_summer_resized.mp4 to G:\\내 드라이브\\Project\\RGBLab\\ABB\\Data\\Resized\\01.폭행(assult)\\outsidedoor_06\\25-6\\25-6_cam01_assault01_place02_night_summer_resized.mp4\n"
     ]
    },
    {
     "name": "stderr",
     "output_type": "stream",
     "text": [
      "Copying files: 782it [01:07,  5.54it/s]"
     ]
    },
    {
     "name": "stdout",
     "output_type": "stream",
     "text": [
      "Copying G:\\내 드라이브\\Project\\RGBLab\\ABB\\Data\\01.폭행(assult)\\outsidedoor_06\\29-1\\29-1_cam01_assault01_place01_day_spring_resized.mp4 to G:\\내 드라이브\\Project\\RGBLab\\ABB\\Data\\Resized\\01.폭행(assult)\\outsidedoor_06\\29-1\\29-1_cam01_assault01_place01_day_spring_resized.mp4\n"
     ]
    },
    {
     "name": "stderr",
     "output_type": "stream",
     "text": [
      "Copying files: 783it [01:07,  5.09it/s]"
     ]
    },
    {
     "name": "stdout",
     "output_type": "stream",
     "text": [
      "Copying G:\\내 드라이브\\Project\\RGBLab\\ABB\\Data\\01.폭행(assult)\\outsidedoor_06\\29-1\\29-1_cam02_assault01_place01_day_spring_resized.mp4 to G:\\내 드라이브\\Project\\RGBLab\\ABB\\Data\\Resized\\01.폭행(assult)\\outsidedoor_06\\29-1\\29-1_cam02_assault01_place01_day_spring_resized.mp4\n"
     ]
    },
    {
     "name": "stderr",
     "output_type": "stream",
     "text": [
      "Copying files: 784it [01:07,  4.36it/s]"
     ]
    },
    {
     "name": "stdout",
     "output_type": "stream",
     "text": [
      "Copying G:\\내 드라이브\\Project\\RGBLab\\ABB\\Data\\01.폭행(assult)\\outsidedoor_07\\4-1\\4-1_cam01_assault01_place01_day_summer_resized.mp4 to G:\\내 드라이브\\Project\\RGBLab\\ABB\\Data\\Resized\\01.폭행(assult)\\outsidedoor_07\\4-1\\4-1_cam01_assault01_place01_day_summer_resized.mp4\n"
     ]
    },
    {
     "name": "stderr",
     "output_type": "stream",
     "text": [
      "Copying files: 785it [01:08,  4.17it/s]"
     ]
    },
    {
     "name": "stdout",
     "output_type": "stream",
     "text": [
      "Copying G:\\내 드라이브\\Project\\RGBLab\\ABB\\Data\\01.폭행(assult)\\outsidedoor_07\\4-1\\4-1_cam02_assault01_place01_day_summer_resized.mp4 to G:\\내 드라이브\\Project\\RGBLab\\ABB\\Data\\Resized\\01.폭행(assult)\\outsidedoor_07\\4-1\\4-1_cam02_assault01_place01_day_summer_resized.mp4\n"
     ]
    },
    {
     "name": "stderr",
     "output_type": "stream",
     "text": [
      "Copying files: 786it [01:08,  3.98it/s]"
     ]
    },
    {
     "name": "stdout",
     "output_type": "stream",
     "text": [
      "Copying G:\\내 드라이브\\Project\\RGBLab\\ABB\\Data\\01.폭행(assult)\\outsidedoor_07\\4-1\\4-1_cam02_assault01_place01_day_spring_resized.mp4 to G:\\내 드라이브\\Project\\RGBLab\\ABB\\Data\\Resized\\01.폭행(assult)\\outsidedoor_07\\4-1\\4-1_cam02_assault01_place01_day_spring_resized.mp4\n"
     ]
    },
    {
     "name": "stderr",
     "output_type": "stream",
     "text": [
      "Copying files: 788it [01:08,  4.37it/s]"
     ]
    },
    {
     "name": "stdout",
     "output_type": "stream",
     "text": [
      "Copying G:\\내 드라이브\\Project\\RGBLab\\ABB\\Data\\01.폭행(assult)\\outsidedoor_07\\4-1\\4-1_cam01_assault01_place01_day_spring_resized.mp4 to G:\\내 드라이브\\Project\\RGBLab\\ABB\\Data\\Resized\\01.폭행(assult)\\outsidedoor_07\\4-1\\4-1_cam01_assault01_place01_day_spring_resized.mp4\n"
     ]
    },
    {
     "name": "stderr",
     "output_type": "stream",
     "text": [
      "Copying files: 788it [01:08,  4.37it/s]"
     ]
    },
    {
     "name": "stdout",
     "output_type": "stream",
     "text": [
      "Copying G:\\내 드라이브\\Project\\RGBLab\\ABB\\Data\\01.폭행(assult)\\outsidedoor_07\\4-2\\4-2_cam02_assault01_place01_day_summer_resized.mp4 to G:\\내 드라이브\\Project\\RGBLab\\ABB\\Data\\Resized\\01.폭행(assult)\\outsidedoor_07\\4-2\\4-2_cam02_assault01_place01_day_summer_resized.mp4\n"
     ]
    },
    {
     "name": "stderr",
     "output_type": "stream",
     "text": [
      "Copying files: 789it [01:09,  4.32it/s]"
     ]
    },
    {
     "name": "stdout",
     "output_type": "stream",
     "text": [
      "Copying G:\\내 드라이브\\Project\\RGBLab\\ABB\\Data\\01.폭행(assult)\\outsidedoor_07\\4-2\\4-2_cam01_assault01_place01_day_summer_resized.mp4 to G:\\내 드라이브\\Project\\RGBLab\\ABB\\Data\\Resized\\01.폭행(assult)\\outsidedoor_07\\4-2\\4-2_cam01_assault01_place01_day_summer_resized.mp4\n"
     ]
    },
    {
     "name": "stderr",
     "output_type": "stream",
     "text": [
      "Copying files: 791it [01:09,  4.53it/s]"
     ]
    },
    {
     "name": "stdout",
     "output_type": "stream",
     "text": [
      "Copying G:\\내 드라이브\\Project\\RGBLab\\ABB\\Data\\01.폭행(assult)\\outsidedoor_07\\4-2\\4-2_cam01_assault01_place01_day_spring_resized.mp4 to G:\\내 드라이브\\Project\\RGBLab\\ABB\\Data\\Resized\\01.폭행(assult)\\outsidedoor_07\\4-2\\4-2_cam01_assault01_place01_day_spring_resized.mp4\n"
     ]
    },
    {
     "name": "stderr",
     "output_type": "stream",
     "text": [
      "Copying files: 791it [01:09,  4.53it/s]"
     ]
    },
    {
     "name": "stdout",
     "output_type": "stream",
     "text": [
      "Copying G:\\내 드라이브\\Project\\RGBLab\\ABB\\Data\\01.폭행(assult)\\outsidedoor_07\\4-2\\4-2_cam02_assault01_place01_day_spring_resized.mp4 to G:\\내 드라이브\\Project\\RGBLab\\ABB\\Data\\Resized\\01.폭행(assult)\\outsidedoor_07\\4-2\\4-2_cam02_assault01_place01_day_spring_resized.mp4\n"
     ]
    },
    {
     "name": "stderr",
     "output_type": "stream",
     "text": [
      "Copying files: 792it [01:09,  4.18it/s]"
     ]
    },
    {
     "name": "stdout",
     "output_type": "stream",
     "text": [
      "Copying G:\\내 드라이브\\Project\\RGBLab\\ABB\\Data\\01.폭행(assult)\\outsidedoor_07\\4-3\\4-3_cam02_assault01_place01_day_summer_resized.mp4 to G:\\내 드라이브\\Project\\RGBLab\\ABB\\Data\\Resized\\01.폭행(assult)\\outsidedoor_07\\4-3\\4-3_cam02_assault01_place01_day_summer_resized.mp4\n"
     ]
    },
    {
     "name": "stderr",
     "output_type": "stream",
     "text": [
      "Copying files: 794it [01:10,  4.26it/s]"
     ]
    },
    {
     "name": "stdout",
     "output_type": "stream",
     "text": [
      "Copying G:\\내 드라이브\\Project\\RGBLab\\ABB\\Data\\01.폭행(assult)\\outsidedoor_07\\4-3\\4-3_cam01_assault01_place01_day_spring_resized.mp4 to G:\\내 드라이브\\Project\\RGBLab\\ABB\\Data\\Resized\\01.폭행(assult)\\outsidedoor_07\\4-3\\4-3_cam01_assault01_place01_day_spring_resized.mp4\n"
     ]
    },
    {
     "name": "stderr",
     "output_type": "stream",
     "text": [
      "Copying files: 794it [01:10,  4.26it/s]"
     ]
    },
    {
     "name": "stdout",
     "output_type": "stream",
     "text": [
      "Copying G:\\내 드라이브\\Project\\RGBLab\\ABB\\Data\\01.폭행(assult)\\outsidedoor_07\\4-3\\4-3_cam01_assault01_place01_day_summer_resized.mp4 to G:\\내 드라이브\\Project\\RGBLab\\ABB\\Data\\Resized\\01.폭행(assult)\\outsidedoor_07\\4-3\\4-3_cam01_assault01_place01_day_summer_resized.mp4\n"
     ]
    },
    {
     "name": "stderr",
     "output_type": "stream",
     "text": [
      "Copying files: 795it [01:10,  4.19it/s]"
     ]
    },
    {
     "name": "stdout",
     "output_type": "stream",
     "text": [
      "Copying G:\\내 드라이브\\Project\\RGBLab\\ABB\\Data\\01.폭행(assult)\\outsidedoor_07\\4-3\\4-3_cam02_assault01_place01_day_spring_resized.mp4 to G:\\내 드라이브\\Project\\RGBLab\\ABB\\Data\\Resized\\01.폭행(assult)\\outsidedoor_07\\4-3\\4-3_cam02_assault01_place01_day_spring_resized.mp4\n"
     ]
    },
    {
     "name": "stderr",
     "output_type": "stream",
     "text": [
      "Copying files: 796it [01:10,  4.27it/s]"
     ]
    },
    {
     "name": "stdout",
     "output_type": "stream",
     "text": [
      "Copying G:\\내 드라이브\\Project\\RGBLab\\ABB\\Data\\01.폭행(assult)\\outsidedoor_07\\4-4\\4-4_cam01_assault01_place01_day_summer_resized.mp4 to G:\\내 드라이브\\Project\\RGBLab\\ABB\\Data\\Resized\\01.폭행(assult)\\outsidedoor_07\\4-4\\4-4_cam01_assault01_place01_day_summer_resized.mp4\n"
     ]
    },
    {
     "name": "stderr",
     "output_type": "stream",
     "text": [
      "Copying files: 797it [01:10,  4.34it/s]"
     ]
    },
    {
     "name": "stdout",
     "output_type": "stream",
     "text": [
      "Copying G:\\내 드라이브\\Project\\RGBLab\\ABB\\Data\\01.폭행(assult)\\outsidedoor_07\\4-4\\4-4_cam02_assault01_place01_day_summer_resized.mp4 to G:\\내 드라이브\\Project\\RGBLab\\ABB\\Data\\Resized\\01.폭행(assult)\\outsidedoor_07\\4-4\\4-4_cam02_assault01_place01_day_summer_resized.mp4\n"
     ]
    },
    {
     "name": "stderr",
     "output_type": "stream",
     "text": [
      "Copying files: 798it [01:11,  4.31it/s]"
     ]
    },
    {
     "name": "stdout",
     "output_type": "stream",
     "text": [
      "Copying G:\\내 드라이브\\Project\\RGBLab\\ABB\\Data\\01.폭행(assult)\\outsidedoor_07\\4-4\\4-4_cam01_assault01_place01_day_spring_resized.mp4 to G:\\내 드라이브\\Project\\RGBLab\\ABB\\Data\\Resized\\01.폭행(assult)\\outsidedoor_07\\4-4\\4-4_cam01_assault01_place01_day_spring_resized.mp4\n"
     ]
    },
    {
     "name": "stderr",
     "output_type": "stream",
     "text": [
      "Copying files: 799it [01:11,  4.00it/s]"
     ]
    },
    {
     "name": "stdout",
     "output_type": "stream",
     "text": [
      "Copying G:\\내 드라이브\\Project\\RGBLab\\ABB\\Data\\01.폭행(assult)\\outsidedoor_07\\4-4\\4-4_cam02_assault01_place01_day_spring_resized.mp4 to G:\\내 드라이브\\Project\\RGBLab\\ABB\\Data\\Resized\\01.폭행(assult)\\outsidedoor_07\\4-4\\4-4_cam02_assault01_place01_day_spring_resized.mp4\n"
     ]
    },
    {
     "name": "stderr",
     "output_type": "stream",
     "text": [
      "Copying files: 800it [01:11,  4.05it/s]"
     ]
    },
    {
     "name": "stdout",
     "output_type": "stream",
     "text": [
      "Copying G:\\내 드라이브\\Project\\RGBLab\\ABB\\Data\\01.폭행(assult)\\outsidedoor_07\\4-5\\4-5_cam02_assault01_place01_day_summer_resized.mp4 to G:\\내 드라이브\\Project\\RGBLab\\ABB\\Data\\Resized\\01.폭행(assult)\\outsidedoor_07\\4-5\\4-5_cam02_assault01_place01_day_summer_resized.mp4\n"
     ]
    },
    {
     "name": "stderr",
     "output_type": "stream",
     "text": [
      "Copying files: 801it [01:11,  4.10it/s]"
     ]
    },
    {
     "name": "stdout",
     "output_type": "stream",
     "text": [
      "Copying G:\\내 드라이브\\Project\\RGBLab\\ABB\\Data\\01.폭행(assult)\\outsidedoor_07\\4-5\\4-5_cam01_assault01_place01_day_spring_resized.mp4 to G:\\내 드라이브\\Project\\RGBLab\\ABB\\Data\\Resized\\01.폭행(assult)\\outsidedoor_07\\4-5\\4-5_cam01_assault01_place01_day_spring_resized.mp4\n"
     ]
    },
    {
     "name": "stderr",
     "output_type": "stream",
     "text": [
      "Copying files: 802it [01:12,  3.98it/s]"
     ]
    },
    {
     "name": "stdout",
     "output_type": "stream",
     "text": [
      "Copying G:\\내 드라이브\\Project\\RGBLab\\ABB\\Data\\01.폭행(assult)\\outsidedoor_07\\4-5\\4-5_cam02_assault01_place01_day_spring_resized.mp4 to G:\\내 드라이브\\Project\\RGBLab\\ABB\\Data\\Resized\\01.폭행(assult)\\outsidedoor_07\\4-5\\4-5_cam02_assault01_place01_day_spring_resized.mp4\n"
     ]
    },
    {
     "name": "stderr",
     "output_type": "stream",
     "text": [
      "Copying files: 803it [01:12,  3.74it/s]"
     ]
    },
    {
     "name": "stdout",
     "output_type": "stream",
     "text": [
      "Copying G:\\내 드라이브\\Project\\RGBLab\\ABB\\Data\\01.폭행(assult)\\outsidedoor_07\\4-5\\4-5_cam01_assault01_place01_day_summer_resized.mp4 to G:\\내 드라이브\\Project\\RGBLab\\ABB\\Data\\Resized\\01.폭행(assult)\\outsidedoor_07\\4-5\\4-5_cam01_assault01_place01_day_summer_resized.mp4\n"
     ]
    },
    {
     "name": "stderr",
     "output_type": "stream",
     "text": [
      "Copying files: 805it [01:12,  4.24it/s]"
     ]
    },
    {
     "name": "stdout",
     "output_type": "stream",
     "text": [
      "Copying G:\\내 드라이브\\Project\\RGBLab\\ABB\\Data\\01.폭행(assult)\\outsidedoor_07\\4-6\\4-6_cam01_assault01_place01_day_summer_resized.mp4 to G:\\내 드라이브\\Project\\RGBLab\\ABB\\Data\\Resized\\01.폭행(assult)\\outsidedoor_07\\4-6\\4-6_cam01_assault01_place01_day_summer_resized.mp4\n"
     ]
    },
    {
     "name": "stderr",
     "output_type": "stream",
     "text": [
      "Copying files: 805it [01:12,  4.24it/s]"
     ]
    },
    {
     "name": "stdout",
     "output_type": "stream",
     "text": [
      "Copying G:\\내 드라이브\\Project\\RGBLab\\ABB\\Data\\01.폭행(assult)\\outsidedoor_07\\4-6\\4-6_cam01_assault01_place01_day_spring_resized.mp4 to G:\\내 드라이브\\Project\\RGBLab\\ABB\\Data\\Resized\\01.폭행(assult)\\outsidedoor_07\\4-6\\4-6_cam01_assault01_place01_day_spring_resized.mp4\n"
     ]
    },
    {
     "name": "stderr",
     "output_type": "stream",
     "text": [
      "Copying files: 806it [01:13,  4.16it/s]"
     ]
    },
    {
     "name": "stdout",
     "output_type": "stream",
     "text": [
      "Copying G:\\내 드라이브\\Project\\RGBLab\\ABB\\Data\\01.폭행(assult)\\outsidedoor_07\\4-6\\4-6_cam02_assault01_place01_day_summer_resized.mp4 to G:\\내 드라이브\\Project\\RGBLab\\ABB\\Data\\Resized\\01.폭행(assult)\\outsidedoor_07\\4-6\\4-6_cam02_assault01_place01_day_summer_resized.mp4\n"
     ]
    },
    {
     "name": "stderr",
     "output_type": "stream",
     "text": [
      "Copying files: 807it [01:13,  4.21it/s]"
     ]
    },
    {
     "name": "stdout",
     "output_type": "stream",
     "text": [
      "Copying G:\\내 드라이브\\Project\\RGBLab\\ABB\\Data\\01.폭행(assult)\\outsidedoor_07\\4-6\\4-6_cam02_assault01_place01_day_spring_resized.mp4 to G:\\내 드라이브\\Project\\RGBLab\\ABB\\Data\\Resized\\01.폭행(assult)\\outsidedoor_07\\4-6\\4-6_cam02_assault01_place01_day_spring_resized.mp4\n"
     ]
    },
    {
     "name": "stderr",
     "output_type": "stream",
     "text": [
      "Copying files: 809it [01:13,  4.81it/s]"
     ]
    },
    {
     "name": "stdout",
     "output_type": "stream",
     "text": [
      "Copying G:\\내 드라이브\\Project\\RGBLab\\ABB\\Data\\01.폭행(assult)\\outsidedoor_07\\30-1\\30-1_cam01_assault03_place02_night_summer_resized.mp4 to G:\\내 드라이브\\Project\\RGBLab\\ABB\\Data\\Resized\\01.폭행(assult)\\outsidedoor_07\\30-1\\30-1_cam01_assault03_place02_night_summer_resized.mp4\n",
      "Copying G:\\내 드라이브\\Project\\RGBLab\\ABB\\Data\\01.폭행(assult)\\outsidedoor_07\\30-3\\30-3_cam01_assault03_place02_night_summer_resized.mp4 to G:\\내 드라이브\\Project\\RGBLab\\ABB\\Data\\Resized\\01.폭행(assult)\\outsidedoor_07\\30-3\\30-3_cam01_assault03_place02_night_summer_resized.mp4\n"
     ]
    },
    {
     "name": "stderr",
     "output_type": "stream",
     "text": [
      "Copying files: 810it [01:13,  5.62it/s]"
     ]
    },
    {
     "name": "stdout",
     "output_type": "stream",
     "text": [
      "Copying G:\\내 드라이브\\Project\\RGBLab\\ABB\\Data\\01.폭행(assult)\\outsidedoor_07\\30-3\\30-3_cam02_assault03_place02_night_summer_resized.mp4 to G:\\내 드라이브\\Project\\RGBLab\\ABB\\Data\\Resized\\01.폭행(assult)\\outsidedoor_07\\30-3\\30-3_cam02_assault03_place02_night_summer_resized.mp4\n",
      "Copying G:\\내 드라이브\\Project\\RGBLab\\ABB\\Data\\01.폭행(assult)\\outsidedoor_07\\33-4\\33-4_cam02_assault01_place02_night_summer_resized.mp4 to G:\\내 드라이브\\Project\\RGBLab\\ABB\\Data\\Resized\\01.폭행(assult)\\outsidedoor_07\\33-4\\33-4_cam02_assault01_place02_night_summer_resized.mp4\n"
     ]
    },
    {
     "name": "stderr",
     "output_type": "stream",
     "text": [
      "Copying files: 814it [01:14,  8.04it/s]"
     ]
    },
    {
     "name": "stdout",
     "output_type": "stream",
     "text": [
      "Copying G:\\내 드라이브\\Project\\RGBLab\\ABB\\Data\\01.폭행(assult)\\outsidedoor_07\\40-4\\40-4_cam01_assault01_place01_night_summer_resized.mp4 to G:\\내 드라이브\\Project\\RGBLab\\ABB\\Data\\Resized\\01.폭행(assult)\\outsidedoor_07\\40-4\\40-4_cam01_assault01_place01_night_summer_resized.mp4\n",
      "Copying G:\\내 드라이브\\Project\\RGBLab\\ABB\\Data\\01.폭행(assult)\\outsidedoor_07\\40-4\\40-4_cam02_assault01_place01_night_summer_resized.mp4 to G:\\내 드라이브\\Project\\RGBLab\\ABB\\Data\\Resized\\01.폭행(assult)\\outsidedoor_07\\40-4\\40-4_cam02_assault01_place01_night_summer_resized.mp4\n",
      "Copying G:\\내 드라이브\\Project\\RGBLab\\ABB\\Data\\01.폭행(assult)\\outsidedoor_07\\406-1\\406-1_cam02_assault01_place03_day_summer_resized.mp4 to G:\\내 드라이브\\Project\\RGBLab\\ABB\\Data\\Resized\\01.폭행(assult)\\outsidedoor_07\\406-1\\406-1_cam02_assault01_place03_day_summer_resized.mp4\n"
     ]
    },
    {
     "name": "stderr",
     "output_type": "stream",
     "text": [
      "Copying files: 815it [01:14,  5.92it/s]"
     ]
    },
    {
     "name": "stdout",
     "output_type": "stream",
     "text": [
      "Copying G:\\내 드라이브\\Project\\RGBLab\\ABB\\Data\\01.폭행(assult)\\outsidedoor_07\\406-1\\406-1_cam01_assault01_place03_day_summer_resized.mp4 to G:\\내 드라이브\\Project\\RGBLab\\ABB\\Data\\Resized\\01.폭행(assult)\\outsidedoor_07\\406-1\\406-1_cam01_assault01_place03_day_summer_resized.mp4\n"
     ]
    },
    {
     "name": "stderr",
     "output_type": "stream",
     "text": [
      "Copying files: 816it [01:15,  3.89it/s]"
     ]
    },
    {
     "name": "stdout",
     "output_type": "stream",
     "text": [
      "Copying G:\\내 드라이브\\Project\\RGBLab\\ABB\\Data\\01.폭행(assult)\\outsidedoor_07\\406-1\\406-1_cam01_assault01_place03_day_spring_resized.mp4 to G:\\내 드라이브\\Project\\RGBLab\\ABB\\Data\\Resized\\01.폭행(assult)\\outsidedoor_07\\406-1\\406-1_cam01_assault01_place03_day_spring_resized.mp4\n"
     ]
    },
    {
     "name": "stderr",
     "output_type": "stream",
     "text": [
      "Copying files: 817it [01:15,  3.02it/s]"
     ]
    },
    {
     "name": "stdout",
     "output_type": "stream",
     "text": [
      "Copying G:\\내 드라이브\\Project\\RGBLab\\ABB\\Data\\01.폭행(assult)\\outsidedoor_07\\406-1\\406-1_cam02_assault01_place03_day_spring_resized.mp4 to G:\\내 드라이브\\Project\\RGBLab\\ABB\\Data\\Resized\\01.폭행(assult)\\outsidedoor_07\\406-1\\406-1_cam02_assault01_place03_day_spring_resized.mp4\n"
     ]
    },
    {
     "name": "stderr",
     "output_type": "stream",
     "text": [
      "Copying files: 818it [01:15,  3.05it/s]"
     ]
    },
    {
     "name": "stdout",
     "output_type": "stream",
     "text": [
      "Copying G:\\내 드라이브\\Project\\RGBLab\\ABB\\Data\\01.폭행(assult)\\outsidedoor_07\\406-2\\406-2_cam02_assault01_place03_day_summer_resized.mp4 to G:\\내 드라이브\\Project\\RGBLab\\ABB\\Data\\Resized\\01.폭행(assult)\\outsidedoor_07\\406-2\\406-2_cam02_assault01_place03_day_summer_resized.mp4\n"
     ]
    },
    {
     "name": "stderr",
     "output_type": "stream",
     "text": [
      "Copying files: 819it [01:16,  3.15it/s]"
     ]
    },
    {
     "name": "stdout",
     "output_type": "stream",
     "text": [
      "Copying G:\\내 드라이브\\Project\\RGBLab\\ABB\\Data\\01.폭행(assult)\\outsidedoor_07\\406-2\\406-2_cam01_assault01_place03_day_summer_resized.mp4 to G:\\내 드라이브\\Project\\RGBLab\\ABB\\Data\\Resized\\01.폭행(assult)\\outsidedoor_07\\406-2\\406-2_cam01_assault01_place03_day_summer_resized.mp4\n"
     ]
    },
    {
     "name": "stderr",
     "output_type": "stream",
     "text": [
      "Copying files: 820it [01:16,  2.58it/s]"
     ]
    },
    {
     "name": "stdout",
     "output_type": "stream",
     "text": [
      "Copying G:\\내 드라이브\\Project\\RGBLab\\ABB\\Data\\01.폭행(assult)\\outsidedoor_07\\406-2\\406-2_cam02_assault01_place03_day_spring_resized.mp4 to G:\\내 드라이브\\Project\\RGBLab\\ABB\\Data\\Resized\\01.폭행(assult)\\outsidedoor_07\\406-2\\406-2_cam02_assault01_place03_day_spring_resized.mp4\n"
     ]
    },
    {
     "name": "stderr",
     "output_type": "stream",
     "text": [
      "Copying files: 821it [01:17,  2.88it/s]"
     ]
    },
    {
     "name": "stdout",
     "output_type": "stream",
     "text": [
      "Copying G:\\내 드라이브\\Project\\RGBLab\\ABB\\Data\\01.폭행(assult)\\outsidedoor_07\\406-2\\406-2_cam01_assault01_place03_day_spring_resized.mp4 to G:\\내 드라이브\\Project\\RGBLab\\ABB\\Data\\Resized\\01.폭행(assult)\\outsidedoor_07\\406-2\\406-2_cam01_assault01_place03_day_spring_resized.mp4\n"
     ]
    },
    {
     "name": "stderr",
     "output_type": "stream",
     "text": [
      "Copying files: 822it [01:17,  2.38it/s]"
     ]
    },
    {
     "name": "stdout",
     "output_type": "stream",
     "text": [
      "Copying G:\\내 드라이브\\Project\\RGBLab\\ABB\\Data\\01.폭행(assult)\\outsidedoor_07\\406-3\\406-3_cam02_assault01_place03_day_summer_resized.mp4 to G:\\내 드라이브\\Project\\RGBLab\\ABB\\Data\\Resized\\01.폭행(assult)\\outsidedoor_07\\406-3\\406-3_cam02_assault01_place03_day_summer_resized.mp4\n"
     ]
    },
    {
     "name": "stderr",
     "output_type": "stream",
     "text": [
      "Copying files: 823it [01:17,  2.69it/s]"
     ]
    },
    {
     "name": "stdout",
     "output_type": "stream",
     "text": [
      "Copying G:\\내 드라이브\\Project\\RGBLab\\ABB\\Data\\01.폭행(assult)\\outsidedoor_07\\406-3\\406-3_cam02_assault01_place03_day_spring_resized.mp4 to G:\\내 드라이브\\Project\\RGBLab\\ABB\\Data\\Resized\\01.폭행(assult)\\outsidedoor_07\\406-3\\406-3_cam02_assault01_place03_day_spring_resized.mp4\n"
     ]
    },
    {
     "name": "stderr",
     "output_type": "stream",
     "text": [
      "Copying files: 824it [01:18,  2.94it/s]"
     ]
    },
    {
     "name": "stdout",
     "output_type": "stream",
     "text": [
      "Copying G:\\내 드라이브\\Project\\RGBLab\\ABB\\Data\\01.폭행(assult)\\outsidedoor_07\\406-3\\406-3_cam01_assault01_place03_day_spring_resized.mp4 to G:\\내 드라이브\\Project\\RGBLab\\ABB\\Data\\Resized\\01.폭행(assult)\\outsidedoor_07\\406-3\\406-3_cam01_assault01_place03_day_spring_resized.mp4\n"
     ]
    },
    {
     "name": "stderr",
     "output_type": "stream",
     "text": [
      "Copying files: 825it [01:18,  2.20it/s]"
     ]
    },
    {
     "name": "stdout",
     "output_type": "stream",
     "text": [
      "Copying G:\\내 드라이브\\Project\\RGBLab\\ABB\\Data\\01.폭행(assult)\\outsidedoor_07\\406-3\\406-3_cam01_assault01_place03_day_summer_resized.mp4 to G:\\내 드라이브\\Project\\RGBLab\\ABB\\Data\\Resized\\01.폭행(assult)\\outsidedoor_07\\406-3\\406-3_cam01_assault01_place03_day_summer_resized.mp4\n"
     ]
    },
    {
     "name": "stderr",
     "output_type": "stream",
     "text": [
      "Copying files: 826it [01:19,  1.84it/s]"
     ]
    },
    {
     "name": "stdout",
     "output_type": "stream",
     "text": [
      "Copying G:\\내 드라이브\\Project\\RGBLab\\ABB\\Data\\01.폭행(assult)\\outsidedoor_07\\406-4\\406-4_cam01_assault01_place03_day_summer_resized.mp4 to G:\\내 드라이브\\Project\\RGBLab\\ABB\\Data\\Resized\\01.폭행(assult)\\outsidedoor_07\\406-4\\406-4_cam01_assault01_place03_day_summer_resized.mp4\n"
     ]
    },
    {
     "name": "stderr",
     "output_type": "stream",
     "text": [
      "Copying files: 827it [01:20,  1.91it/s]"
     ]
    },
    {
     "name": "stdout",
     "output_type": "stream",
     "text": [
      "Copying G:\\내 드라이브\\Project\\RGBLab\\ABB\\Data\\01.폭행(assult)\\outsidedoor_07\\406-4\\406-4_cam01_assault01_place03_day_spring_resized.mp4 to G:\\내 드라이브\\Project\\RGBLab\\ABB\\Data\\Resized\\01.폭행(assult)\\outsidedoor_07\\406-4\\406-4_cam01_assault01_place03_day_spring_resized.mp4\n"
     ]
    },
    {
     "name": "stderr",
     "output_type": "stream",
     "text": [
      "Copying files: 828it [01:20,  1.86it/s]"
     ]
    },
    {
     "name": "stdout",
     "output_type": "stream",
     "text": [
      "Copying G:\\내 드라이브\\Project\\RGBLab\\ABB\\Data\\01.폭행(assult)\\outsidedoor_07\\406-4\\406-4_cam02_assault01_place03_day_spring_resized.mp4 to G:\\내 드라이브\\Project\\RGBLab\\ABB\\Data\\Resized\\01.폭행(assult)\\outsidedoor_07\\406-4\\406-4_cam02_assault01_place03_day_spring_resized.mp4\n"
     ]
    },
    {
     "name": "stderr",
     "output_type": "stream",
     "text": [
      "Copying files: 829it [01:21,  2.17it/s]"
     ]
    },
    {
     "name": "stdout",
     "output_type": "stream",
     "text": [
      "Copying G:\\내 드라이브\\Project\\RGBLab\\ABB\\Data\\01.폭행(assult)\\outsidedoor_07\\406-4\\406-4_cam02_assault01_place03_day_summer_resized.mp4 to G:\\내 드라이브\\Project\\RGBLab\\ABB\\Data\\Resized\\01.폭행(assult)\\outsidedoor_07\\406-4\\406-4_cam02_assault01_place03_day_summer_resized.mp4\n"
     ]
    },
    {
     "name": "stderr",
     "output_type": "stream",
     "text": [
      "Copying files: 830it [01:21,  2.46it/s]"
     ]
    },
    {
     "name": "stdout",
     "output_type": "stream",
     "text": [
      "Copying G:\\내 드라이브\\Project\\RGBLab\\ABB\\Data\\01.폭행(assult)\\outsidedoor_08\\5-1\\5-1_cam02_assault01_place08_day_spring_resized.mp4 to G:\\내 드라이브\\Project\\RGBLab\\ABB\\Data\\Resized\\01.폭행(assult)\\outsidedoor_08\\5-1\\5-1_cam02_assault01_place08_day_spring_resized.mp4\n"
     ]
    },
    {
     "name": "stderr",
     "output_type": "stream",
     "text": [
      "Copying files: 831it [01:21,  2.68it/s]"
     ]
    },
    {
     "name": "stdout",
     "output_type": "stream",
     "text": [
      "Copying G:\\내 드라이브\\Project\\RGBLab\\ABB\\Data\\01.폭행(assult)\\outsidedoor_08\\5-1\\5-1_cam01_assault01_place08_day_summer_resized.mp4 to G:\\내 드라이브\\Project\\RGBLab\\ABB\\Data\\Resized\\01.폭행(assult)\\outsidedoor_08\\5-1\\5-1_cam01_assault01_place08_day_summer_resized.mp4\n"
     ]
    },
    {
     "name": "stderr",
     "output_type": "stream",
     "text": [
      "Copying files: 832it [01:21,  2.71it/s]"
     ]
    },
    {
     "name": "stdout",
     "output_type": "stream",
     "text": [
      "Copying G:\\내 드라이브\\Project\\RGBLab\\ABB\\Data\\01.폭행(assult)\\outsidedoor_08\\5-1\\5-1_cam01_assault01_place08_day_spring_resized.mp4 to G:\\내 드라이브\\Project\\RGBLab\\ABB\\Data\\Resized\\01.폭행(assult)\\outsidedoor_08\\5-1\\5-1_cam01_assault01_place08_day_spring_resized.mp4\n"
     ]
    },
    {
     "name": "stderr",
     "output_type": "stream",
     "text": [
      "Copying files: 833it [01:22,  2.76it/s]"
     ]
    },
    {
     "name": "stdout",
     "output_type": "stream",
     "text": [
      "Copying G:\\내 드라이브\\Project\\RGBLab\\ABB\\Data\\01.폭행(assult)\\outsidedoor_08\\5-1\\5-1_cam02_assault01_place08_day_summer_resized.mp4 to G:\\내 드라이브\\Project\\RGBLab\\ABB\\Data\\Resized\\01.폭행(assult)\\outsidedoor_08\\5-1\\5-1_cam02_assault01_place08_day_summer_resized.mp4\n"
     ]
    },
    {
     "name": "stderr",
     "output_type": "stream",
     "text": [
      "Copying files: 834it [01:22,  2.96it/s]"
     ]
    },
    {
     "name": "stdout",
     "output_type": "stream",
     "text": [
      "Copying G:\\내 드라이브\\Project\\RGBLab\\ABB\\Data\\01.폭행(assult)\\outsidedoor_08\\5-2\\5-2_cam01_assault01_place08_day_spring_resized.mp4 to G:\\내 드라이브\\Project\\RGBLab\\ABB\\Data\\Resized\\01.폭행(assult)\\outsidedoor_08\\5-2\\5-2_cam01_assault01_place08_day_spring_resized.mp4\n"
     ]
    },
    {
     "name": "stderr",
     "output_type": "stream",
     "text": [
      "Copying files: 835it [01:22,  2.98it/s]"
     ]
    },
    {
     "name": "stdout",
     "output_type": "stream",
     "text": [
      "Copying G:\\내 드라이브\\Project\\RGBLab\\ABB\\Data\\01.폭행(assult)\\outsidedoor_08\\5-2\\5-2_cam02_assault01_place08_day_spring_resized.mp4 to G:\\내 드라이브\\Project\\RGBLab\\ABB\\Data\\Resized\\01.폭행(assult)\\outsidedoor_08\\5-2\\5-2_cam02_assault01_place08_day_spring_resized.mp4\n"
     ]
    },
    {
     "name": "stderr",
     "output_type": "stream",
     "text": [
      "Copying files: 836it [01:23,  3.06it/s]"
     ]
    },
    {
     "name": "stdout",
     "output_type": "stream",
     "text": [
      "Copying G:\\내 드라이브\\Project\\RGBLab\\ABB\\Data\\01.폭행(assult)\\outsidedoor_08\\5-2\\5-2_cam02_assault01_place08_day_summer_resized.mp4 to G:\\내 드라이브\\Project\\RGBLab\\ABB\\Data\\Resized\\01.폭행(assult)\\outsidedoor_08\\5-2\\5-2_cam02_assault01_place08_day_summer_resized.mp4\n"
     ]
    },
    {
     "name": "stderr",
     "output_type": "stream",
     "text": [
      "Copying files: 837it [01:23,  3.18it/s]"
     ]
    },
    {
     "name": "stdout",
     "output_type": "stream",
     "text": [
      "Copying G:\\내 드라이브\\Project\\RGBLab\\ABB\\Data\\01.폭행(assult)\\outsidedoor_08\\5-2\\5-2_cam01_assault01_place08_day_summer_resized.mp4 to G:\\내 드라이브\\Project\\RGBLab\\ABB\\Data\\Resized\\01.폭행(assult)\\outsidedoor_08\\5-2\\5-2_cam01_assault01_place08_day_summer_resized.mp4\n"
     ]
    },
    {
     "name": "stderr",
     "output_type": "stream",
     "text": [
      "Copying files: 838it [01:23,  3.19it/s]"
     ]
    },
    {
     "name": "stdout",
     "output_type": "stream",
     "text": [
      "Copying G:\\내 드라이브\\Project\\RGBLab\\ABB\\Data\\01.폭행(assult)\\outsidedoor_08\\5-3\\5-3_cam02_assault01_place08_day_summer_resized.mp4 to G:\\내 드라이브\\Project\\RGBLab\\ABB\\Data\\Resized\\01.폭행(assult)\\outsidedoor_08\\5-3\\5-3_cam02_assault01_place08_day_summer_resized.mp4\n"
     ]
    },
    {
     "name": "stderr",
     "output_type": "stream",
     "text": [
      "Copying files: 839it [01:24,  3.33it/s]"
     ]
    },
    {
     "name": "stdout",
     "output_type": "stream",
     "text": [
      "Copying G:\\내 드라이브\\Project\\RGBLab\\ABB\\Data\\01.폭행(assult)\\outsidedoor_08\\5-3\\5-3_cam02_assault01_place08_day_spring_resized.mp4 to G:\\내 드라이브\\Project\\RGBLab\\ABB\\Data\\Resized\\01.폭행(assult)\\outsidedoor_08\\5-3\\5-3_cam02_assault01_place08_day_spring_resized.mp4\n"
     ]
    },
    {
     "name": "stderr",
     "output_type": "stream",
     "text": [
      "Copying files: 840it [01:24,  3.41it/s]"
     ]
    },
    {
     "name": "stdout",
     "output_type": "stream",
     "text": [
      "Copying G:\\내 드라이브\\Project\\RGBLab\\ABB\\Data\\01.폭행(assult)\\outsidedoor_08\\5-3\\5-3_cam01_assault01_place08_day_summer_resized.mp4 to G:\\내 드라이브\\Project\\RGBLab\\ABB\\Data\\Resized\\01.폭행(assult)\\outsidedoor_08\\5-3\\5-3_cam01_assault01_place08_day_summer_resized.mp4\n"
     ]
    },
    {
     "name": "stderr",
     "output_type": "stream",
     "text": [
      "Copying files: 841it [01:24,  3.40it/s]"
     ]
    },
    {
     "name": "stdout",
     "output_type": "stream",
     "text": [
      "Copying G:\\내 드라이브\\Project\\RGBLab\\ABB\\Data\\01.폭행(assult)\\outsidedoor_08\\5-3\\5-3_cam01_assault01_place08_day_spring_resized.mp4 to G:\\내 드라이브\\Project\\RGBLab\\ABB\\Data\\Resized\\01.폭행(assult)\\outsidedoor_08\\5-3\\5-3_cam01_assault01_place08_day_spring_resized.mp4\n"
     ]
    },
    {
     "name": "stderr",
     "output_type": "stream",
     "text": [
      "Copying files: 842it [01:24,  3.39it/s]"
     ]
    },
    {
     "name": "stdout",
     "output_type": "stream",
     "text": [
      "Copying G:\\내 드라이브\\Project\\RGBLab\\ABB\\Data\\01.폭행(assult)\\outsidedoor_08\\5-4\\5-4_cam01_assault01_place08_day_summer_resized.mp4 to G:\\내 드라이브\\Project\\RGBLab\\ABB\\Data\\Resized\\01.폭행(assult)\\outsidedoor_08\\5-4\\5-4_cam01_assault01_place08_day_summer_resized.mp4\n"
     ]
    },
    {
     "name": "stderr",
     "output_type": "stream",
     "text": [
      "Copying files: 843it [01:25,  3.41it/s]"
     ]
    },
    {
     "name": "stdout",
     "output_type": "stream",
     "text": [
      "Copying G:\\내 드라이브\\Project\\RGBLab\\ABB\\Data\\01.폭행(assult)\\outsidedoor_08\\5-4\\5-4_cam01_assault01_place08_day_spring_resized.mp4 to G:\\내 드라이브\\Project\\RGBLab\\ABB\\Data\\Resized\\01.폭행(assult)\\outsidedoor_08\\5-4\\5-4_cam01_assault01_place08_day_spring_resized.mp4\n"
     ]
    },
    {
     "name": "stderr",
     "output_type": "stream",
     "text": [
      "Copying files: 844it [01:25,  3.41it/s]"
     ]
    },
    {
     "name": "stdout",
     "output_type": "stream",
     "text": [
      "Copying G:\\내 드라이브\\Project\\RGBLab\\ABB\\Data\\01.폭행(assult)\\outsidedoor_08\\5-4\\5-4_cam02_assault01_place08_day_summer_resized.mp4 to G:\\내 드라이브\\Project\\RGBLab\\ABB\\Data\\Resized\\01.폭행(assult)\\outsidedoor_08\\5-4\\5-4_cam02_assault01_place08_day_summer_resized.mp4\n"
     ]
    },
    {
     "name": "stderr",
     "output_type": "stream",
     "text": [
      "Copying files: 845it [01:25,  3.46it/s]"
     ]
    },
    {
     "name": "stdout",
     "output_type": "stream",
     "text": [
      "Copying G:\\내 드라이브\\Project\\RGBLab\\ABB\\Data\\01.폭행(assult)\\outsidedoor_08\\5-4\\5-4_cam02_assault01_place08_day_spring_resized.mp4 to G:\\내 드라이브\\Project\\RGBLab\\ABB\\Data\\Resized\\01.폭행(assult)\\outsidedoor_08\\5-4\\5-4_cam02_assault01_place08_day_spring_resized.mp4\n"
     ]
    },
    {
     "name": "stderr",
     "output_type": "stream",
     "text": [
      "Copying files: 846it [01:26,  3.39it/s]"
     ]
    },
    {
     "name": "stdout",
     "output_type": "stream",
     "text": [
      "Copying G:\\내 드라이브\\Project\\RGBLab\\ABB\\Data\\01.폭행(assult)\\outsidedoor_08\\5-5\\5-5_cam02_assault01_place08_day_summer_resized.mp4 to G:\\내 드라이브\\Project\\RGBLab\\ABB\\Data\\Resized\\01.폭행(assult)\\outsidedoor_08\\5-5\\5-5_cam02_assault01_place08_day_summer_resized.mp4\n"
     ]
    },
    {
     "name": "stderr",
     "output_type": "stream",
     "text": [
      "Copying files: 847it [01:26,  3.49it/s]"
     ]
    },
    {
     "name": "stdout",
     "output_type": "stream",
     "text": [
      "Copying G:\\내 드라이브\\Project\\RGBLab\\ABB\\Data\\01.폭행(assult)\\outsidedoor_08\\5-5\\5-5_cam01_assault01_place08_day_spring_resized.mp4 to G:\\내 드라이브\\Project\\RGBLab\\ABB\\Data\\Resized\\01.폭행(assult)\\outsidedoor_08\\5-5\\5-5_cam01_assault01_place08_day_spring_resized.mp4\n",
      "Copying G:\\내 드라이브\\Project\\RGBLab\\ABB\\Data\\01.폭행(assult)\\outsidedoor_08\\5-5\\5-5_cam02_assault01_place08_day_spring_resized.mp4 to G:\\내 드라이브\\Project\\RGBLab\\ABB\\Data\\Resized\\01.폭행(assult)\\outsidedoor_08\\5-5\\5-5_cam02_assault01_place08_day_spring_resized.mp4\n"
     ]
    },
    {
     "name": "stderr",
     "output_type": "stream",
     "text": [
      "Copying files: 849it [01:26,  4.52it/s]"
     ]
    },
    {
     "name": "stdout",
     "output_type": "stream",
     "text": [
      "Copying G:\\내 드라이브\\Project\\RGBLab\\ABB\\Data\\01.폭행(assult)\\outsidedoor_08\\5-5\\5-5_cam01_assault01_place08_day_summer_resized.mp4 to G:\\내 드라이브\\Project\\RGBLab\\ABB\\Data\\Resized\\01.폭행(assult)\\outsidedoor_08\\5-5\\5-5_cam01_assault01_place08_day_summer_resized.mp4\n"
     ]
    },
    {
     "name": "stderr",
     "output_type": "stream",
     "text": [
      "Copying files: 850it [01:26,  4.28it/s]"
     ]
    },
    {
     "name": "stdout",
     "output_type": "stream",
     "text": [
      "Copying G:\\내 드라이브\\Project\\RGBLab\\ABB\\Data\\01.폭행(assult)\\outsidedoor_08\\5-6\\5-6_cam01_assault01_place08_day_summer_resized.mp4 to G:\\내 드라이브\\Project\\RGBLab\\ABB\\Data\\Resized\\01.폭행(assult)\\outsidedoor_08\\5-6\\5-6_cam01_assault01_place08_day_summer_resized.mp4\n"
     ]
    },
    {
     "name": "stderr",
     "output_type": "stream",
     "text": [
      "Copying files: 851it [01:27,  3.73it/s]"
     ]
    },
    {
     "name": "stdout",
     "output_type": "stream",
     "text": [
      "Copying G:\\내 드라이브\\Project\\RGBLab\\ABB\\Data\\01.폭행(assult)\\outsidedoor_08\\5-6\\5-6_cam01_assault01_place08_day_spring_resized.mp4 to G:\\내 드라이브\\Project\\RGBLab\\ABB\\Data\\Resized\\01.폭행(assult)\\outsidedoor_08\\5-6\\5-6_cam01_assault01_place08_day_spring_resized.mp4\n"
     ]
    },
    {
     "name": "stderr",
     "output_type": "stream",
     "text": [
      "Copying files: 852it [01:27,  3.47it/s]"
     ]
    },
    {
     "name": "stdout",
     "output_type": "stream",
     "text": [
      "Copying G:\\내 드라이브\\Project\\RGBLab\\ABB\\Data\\01.폭행(assult)\\outsidedoor_08\\5-6\\5-6_cam02_assault01_place08_day_summer_resized.mp4 to G:\\내 드라이브\\Project\\RGBLab\\ABB\\Data\\Resized\\01.폭행(assult)\\outsidedoor_08\\5-6\\5-6_cam02_assault01_place08_day_summer_resized.mp4\n"
     ]
    },
    {
     "name": "stderr",
     "output_type": "stream",
     "text": [
      "Copying files: 853it [01:27,  3.46it/s]"
     ]
    },
    {
     "name": "stdout",
     "output_type": "stream",
     "text": [
      "Copying G:\\내 드라이브\\Project\\RGBLab\\ABB\\Data\\01.폭행(assult)\\outsidedoor_08\\5-6\\5-6_cam02_assault01_place08_day_spring_resized.mp4 to G:\\내 드라이브\\Project\\RGBLab\\ABB\\Data\\Resized\\01.폭행(assult)\\outsidedoor_08\\5-6\\5-6_cam02_assault01_place08_day_spring_resized.mp4\n"
     ]
    },
    {
     "name": "stderr",
     "output_type": "stream",
     "text": [
      "Copying files: 854it [01:28,  3.57it/s]"
     ]
    },
    {
     "name": "stdout",
     "output_type": "stream",
     "text": [
      "Copying G:\\내 드라이브\\Project\\RGBLab\\ABB\\Data\\01.폭행(assult)\\outsidedoor_08\\7-1\\7-1_cam02_assault01_place04_day_summer_resized.mp4 to G:\\내 드라이브\\Project\\RGBLab\\ABB\\Data\\Resized\\01.폭행(assult)\\outsidedoor_08\\7-1\\7-1_cam02_assault01_place04_day_summer_resized.mp4\n"
     ]
    },
    {
     "name": "stderr",
     "output_type": "stream",
     "text": [
      "Copying files: 855it [01:28,  2.94it/s]"
     ]
    },
    {
     "name": "stdout",
     "output_type": "stream",
     "text": [
      "Copying G:\\내 드라이브\\Project\\RGBLab\\ABB\\Data\\01.폭행(assult)\\outsidedoor_08\\7-1\\7-1_cam01_assault01_place04_day_summer_resized.mp4 to G:\\내 드라이브\\Project\\RGBLab\\ABB\\Data\\Resized\\01.폭행(assult)\\outsidedoor_08\\7-1\\7-1_cam01_assault01_place04_day_summer_resized.mp4\n"
     ]
    },
    {
     "name": "stderr",
     "output_type": "stream",
     "text": [
      "Copying files: 856it [01:29,  2.56it/s]"
     ]
    },
    {
     "name": "stdout",
     "output_type": "stream",
     "text": [
      "Copying G:\\내 드라이브\\Project\\RGBLab\\ABB\\Data\\01.폭행(assult)\\outsidedoor_08\\7-1\\7-1_cam01_assault01_place04_day_spring_resized.mp4 to G:\\내 드라이브\\Project\\RGBLab\\ABB\\Data\\Resized\\01.폭행(assult)\\outsidedoor_08\\7-1\\7-1_cam01_assault01_place04_day_spring_resized.mp4\n"
     ]
    },
    {
     "name": "stderr",
     "output_type": "stream",
     "text": [
      "Copying files: 857it [01:29,  2.30it/s]"
     ]
    },
    {
     "name": "stdout",
     "output_type": "stream",
     "text": [
      "Copying G:\\내 드라이브\\Project\\RGBLab\\ABB\\Data\\01.폭행(assult)\\outsidedoor_08\\7-1\\7-1_cam02_assault01_place04_day_spring_resized.mp4 to G:\\내 드라이브\\Project\\RGBLab\\ABB\\Data\\Resized\\01.폭행(assult)\\outsidedoor_08\\7-1\\7-1_cam02_assault01_place04_day_spring_resized.mp4\n"
     ]
    },
    {
     "name": "stderr",
     "output_type": "stream",
     "text": [
      "Copying files: 858it [01:30,  2.08it/s]"
     ]
    },
    {
     "name": "stdout",
     "output_type": "stream",
     "text": [
      "Copying G:\\내 드라이브\\Project\\RGBLab\\ABB\\Data\\01.폭행(assult)\\outsidedoor_08\\7-2\\7-2_cam02_assault01_place04_day_summer_resized.mp4 to G:\\내 드라이브\\Project\\RGBLab\\ABB\\Data\\Resized\\01.폭행(assult)\\outsidedoor_08\\7-2\\7-2_cam02_assault01_place04_day_summer_resized.mp4\n"
     ]
    },
    {
     "name": "stderr",
     "output_type": "stream",
     "text": [
      "Copying files: 859it [01:30,  2.12it/s]"
     ]
    },
    {
     "name": "stdout",
     "output_type": "stream",
     "text": [
      "Copying G:\\내 드라이브\\Project\\RGBLab\\ABB\\Data\\01.폭행(assult)\\outsidedoor_08\\7-2\\7-2_cam01_assault01_place04_day_spring_resized.mp4 to G:\\내 드라이브\\Project\\RGBLab\\ABB\\Data\\Resized\\01.폭행(assult)\\outsidedoor_08\\7-2\\7-2_cam01_assault01_place04_day_spring_resized.mp4\n"
     ]
    },
    {
     "name": "stderr",
     "output_type": "stream",
     "text": [
      "Copying files: 860it [01:31,  2.08it/s]"
     ]
    },
    {
     "name": "stdout",
     "output_type": "stream",
     "text": [
      "Copying G:\\내 드라이브\\Project\\RGBLab\\ABB\\Data\\01.폭행(assult)\\outsidedoor_08\\7-2\\7-2_cam01_assault01_place04_day_summer_resized.mp4 to G:\\내 드라이브\\Project\\RGBLab\\ABB\\Data\\Resized\\01.폭행(assult)\\outsidedoor_08\\7-2\\7-2_cam01_assault01_place04_day_summer_resized.mp4\n"
     ]
    },
    {
     "name": "stderr",
     "output_type": "stream",
     "text": [
      "Copying files: 861it [01:31,  2.05it/s]"
     ]
    },
    {
     "name": "stdout",
     "output_type": "stream",
     "text": [
      "Copying G:\\내 드라이브\\Project\\RGBLab\\ABB\\Data\\01.폭행(assult)\\outsidedoor_08\\7-2\\7-2_cam02_assault01_place04_day_spring_resized.mp4 to G:\\내 드라이브\\Project\\RGBLab\\ABB\\Data\\Resized\\01.폭행(assult)\\outsidedoor_08\\7-2\\7-2_cam02_assault01_place04_day_spring_resized.mp4\n"
     ]
    },
    {
     "name": "stderr",
     "output_type": "stream",
     "text": [
      "Copying files: 862it [01:32,  2.03it/s]"
     ]
    },
    {
     "name": "stdout",
     "output_type": "stream",
     "text": [
      "Copying G:\\내 드라이브\\Project\\RGBLab\\ABB\\Data\\01.폭행(assult)\\outsidedoor_08\\7-3\\7-3_cam01_assault01_place04_day_summer_resized.mp4 to G:\\내 드라이브\\Project\\RGBLab\\ABB\\Data\\Resized\\01.폭행(assult)\\outsidedoor_08\\7-3\\7-3_cam01_assault01_place04_day_summer_resized.mp4\n"
     ]
    },
    {
     "name": "stderr",
     "output_type": "stream",
     "text": [
      "Copying files: 863it [01:32,  2.02it/s]"
     ]
    },
    {
     "name": "stdout",
     "output_type": "stream",
     "text": [
      "Copying G:\\내 드라이브\\Project\\RGBLab\\ABB\\Data\\01.폭행(assult)\\outsidedoor_08\\7-3\\7-3_cam01_assault01_place04_day_spring_resized.mp4 to G:\\내 드라이브\\Project\\RGBLab\\ABB\\Data\\Resized\\01.폭행(assult)\\outsidedoor_08\\7-3\\7-3_cam01_assault01_place04_day_spring_resized.mp4\n"
     ]
    },
    {
     "name": "stderr",
     "output_type": "stream",
     "text": [
      "Copying files: 864it [01:33,  2.03it/s]"
     ]
    },
    {
     "name": "stdout",
     "output_type": "stream",
     "text": [
      "Copying G:\\내 드라이브\\Project\\RGBLab\\ABB\\Data\\01.폭행(assult)\\outsidedoor_08\\7-3\\7-3_cam02_assault01_place04_day_spring_resized.mp4 to G:\\내 드라이브\\Project\\RGBLab\\ABB\\Data\\Resized\\01.폭행(assult)\\outsidedoor_08\\7-3\\7-3_cam02_assault01_place04_day_spring_resized.mp4\n"
     ]
    },
    {
     "name": "stderr",
     "output_type": "stream",
     "text": [
      "Copying files: 865it [01:33,  2.11it/s]"
     ]
    },
    {
     "name": "stdout",
     "output_type": "stream",
     "text": [
      "Copying G:\\내 드라이브\\Project\\RGBLab\\ABB\\Data\\01.폭행(assult)\\outsidedoor_08\\7-3\\7-3_cam02_assault01_place04_day_summer_resized.mp4 to G:\\내 드라이브\\Project\\RGBLab\\ABB\\Data\\Resized\\01.폭행(assult)\\outsidedoor_08\\7-3\\7-3_cam02_assault01_place04_day_summer_resized.mp4\n"
     ]
    },
    {
     "name": "stderr",
     "output_type": "stream",
     "text": [
      "Copying files: 867it [01:34,  2.48it/s]"
     ]
    },
    {
     "name": "stdout",
     "output_type": "stream",
     "text": [
      "Copying G:\\내 드라이브\\Project\\RGBLab\\ABB\\Data\\01.폭행(assult)\\outsidedoor_08\\42-1\\42-1_cam01_assault01_place09_night_summer_resized.mp4 to G:\\내 드라이브\\Project\\RGBLab\\ABB\\Data\\Resized\\01.폭행(assult)\\outsidedoor_08\\42-1\\42-1_cam01_assault01_place09_night_summer_resized.mp4\n"
     ]
    },
    {
     "name": "stderr",
     "output_type": "stream",
     "text": [
      "Copying files: 868it [01:34,  3.10it/s]"
     ]
    },
    {
     "name": "stdout",
     "output_type": "stream",
     "text": [
      "Copying G:\\내 드라이브\\Project\\RGBLab\\ABB\\Data\\01.폭행(assult)\\outsidedoor_08\\42-1\\42-1_cam02_assault01_place09_night_summer_resized.mp4 to G:\\내 드라이브\\Project\\RGBLab\\ABB\\Data\\Resized\\01.폭행(assult)\\outsidedoor_08\\42-1\\42-1_cam02_assault01_place09_night_summer_resized.mp4\n",
      "Copying G:\\내 드라이브\\Project\\RGBLab\\ABB\\Data\\01.폭행(assult)\\outsidedoor_08\\42-6\\42-6_cam01_assault01_place09_night_spring_resized.mp4 to G:\\내 드라이브\\Project\\RGBLab\\ABB\\Data\\Resized\\01.폭행(assult)\\outsidedoor_08\\42-6\\42-6_cam01_assault01_place09_night_spring_resized.mp4\n"
     ]
    },
    {
     "name": "stderr",
     "output_type": "stream",
     "text": [
      "Copying files: 870it [01:34,  4.33it/s]"
     ]
    },
    {
     "name": "stdout",
     "output_type": "stream",
     "text": [
      "Copying G:\\내 드라이브\\Project\\RGBLab\\ABB\\Data\\01.폭행(assult)\\outsidedoor_08\\43-1\\43-1_cam01_assault04_place07_night_spring_resized.mp4 to G:\\내 드라이브\\Project\\RGBLab\\ABB\\Data\\Resized\\01.폭행(assult)\\outsidedoor_08\\43-1\\43-1_cam01_assault04_place07_night_spring_resized.mp4\n",
      "Copying G:\\내 드라이브\\Project\\RGBLab\\ABB\\Data\\01.폭행(assult)\\outsidedoor_08\\43-1\\43-1_cam02_assault04_place07_night_spring_resized.mp4 to G:\\내 드라이브\\Project\\RGBLab\\ABB\\Data\\Resized\\01.폭행(assult)\\outsidedoor_08\\43-1\\43-1_cam02_assault04_place07_night_spring_resized.mp4\n"
     ]
    },
    {
     "name": "stderr",
     "output_type": "stream",
     "text": [
      "Copying files: 871it [01:35,  4.75it/s]"
     ]
    },
    {
     "name": "stdout",
     "output_type": "stream",
     "text": [
      "Copying G:\\내 드라이브\\Project\\RGBLab\\ABB\\Data\\01.폭행(assult)\\outsidedoor_08\\406-5\\406-5_cam02_assault01_place03_day_summer_resized.mp4 to G:\\내 드라이브\\Project\\RGBLab\\ABB\\Data\\Resized\\01.폭행(assult)\\outsidedoor_08\\406-5\\406-5_cam02_assault01_place03_day_summer_resized.mp4\n"
     ]
    },
    {
     "name": "stderr",
     "output_type": "stream",
     "text": [
      "Copying files: 872it [01:35,  4.16it/s]"
     ]
    },
    {
     "name": "stdout",
     "output_type": "stream",
     "text": [
      "Copying G:\\내 드라이브\\Project\\RGBLab\\ABB\\Data\\01.폭행(assult)\\outsidedoor_08\\406-5\\406-5_cam01_assault01_place03_day_summer_resized.mp4 to G:\\내 드라이브\\Project\\RGBLab\\ABB\\Data\\Resized\\01.폭행(assult)\\outsidedoor_08\\406-5\\406-5_cam01_assault01_place03_day_summer_resized.mp4\n"
     ]
    },
    {
     "name": "stderr",
     "output_type": "stream",
     "text": [
      "Copying files: 873it [01:36,  2.71it/s]"
     ]
    },
    {
     "name": "stdout",
     "output_type": "stream",
     "text": [
      "Copying G:\\내 드라이브\\Project\\RGBLab\\ABB\\Data\\01.폭행(assult)\\outsidedoor_08\\406-5\\406-5_cam02_assault01_place03_day_spring_resized.mp4 to G:\\내 드라이브\\Project\\RGBLab\\ABB\\Data\\Resized\\01.폭행(assult)\\outsidedoor_08\\406-5\\406-5_cam02_assault01_place03_day_spring_resized.mp4\n"
     ]
    },
    {
     "name": "stderr",
     "output_type": "stream",
     "text": [
      "Copying files: 874it [01:36,  2.82it/s]"
     ]
    },
    {
     "name": "stdout",
     "output_type": "stream",
     "text": [
      "Copying G:\\내 드라이브\\Project\\RGBLab\\ABB\\Data\\01.폭행(assult)\\outsidedoor_08\\406-5\\406-5_cam01_assault01_place03_day_spring_resized.mp4 to G:\\내 드라이브\\Project\\RGBLab\\ABB\\Data\\Resized\\01.폭행(assult)\\outsidedoor_08\\406-5\\406-5_cam01_assault01_place03_day_spring_resized.mp4\n"
     ]
    },
    {
     "name": "stderr",
     "output_type": "stream",
     "text": [
      "Copying files: 875it [01:37,  2.09it/s]"
     ]
    },
    {
     "name": "stdout",
     "output_type": "stream",
     "text": [
      "Copying G:\\내 드라이브\\Project\\RGBLab\\ABB\\Data\\01.폭행(assult)\\outsidedoor_08\\406-6\\406-6_cam02_assault01_place03_day_summer_resized.mp4 to G:\\내 드라이브\\Project\\RGBLab\\ABB\\Data\\Resized\\01.폭행(assult)\\outsidedoor_08\\406-6\\406-6_cam02_assault01_place03_day_summer_resized.mp4\n"
     ]
    },
    {
     "name": "stderr",
     "output_type": "stream",
     "text": [
      "Copying files: 876it [01:37,  2.36it/s]"
     ]
    },
    {
     "name": "stdout",
     "output_type": "stream",
     "text": [
      "Copying G:\\내 드라이브\\Project\\RGBLab\\ABB\\Data\\01.폭행(assult)\\outsidedoor_08\\406-6\\406-6_cam02_assault01_place03_day_spring_resized.mp4 to G:\\내 드라이브\\Project\\RGBLab\\ABB\\Data\\Resized\\01.폭행(assult)\\outsidedoor_08\\406-6\\406-6_cam02_assault01_place03_day_spring_resized.mp4\n"
     ]
    },
    {
     "name": "stderr",
     "output_type": "stream",
     "text": [
      "Copying files: 877it [01:37,  2.59it/s]"
     ]
    },
    {
     "name": "stdout",
     "output_type": "stream",
     "text": [
      "Copying G:\\내 드라이브\\Project\\RGBLab\\ABB\\Data\\01.폭행(assult)\\outsidedoor_08\\406-6\\406-6_cam01_assault01_place03_day_spring_resized.mp4 to G:\\내 드라이브\\Project\\RGBLab\\ABB\\Data\\Resized\\01.폭행(assult)\\outsidedoor_08\\406-6\\406-6_cam01_assault01_place03_day_spring_resized.mp4\n"
     ]
    },
    {
     "name": "stderr",
     "output_type": "stream",
     "text": [
      "Copying files: 878it [01:38,  2.18it/s]"
     ]
    },
    {
     "name": "stdout",
     "output_type": "stream",
     "text": [
      "Copying G:\\내 드라이브\\Project\\RGBLab\\ABB\\Data\\01.폭행(assult)\\outsidedoor_08\\406-6\\406-6_cam01_assault01_place03_day_summer_resized.mp4 to G:\\내 드라이브\\Project\\RGBLab\\ABB\\Data\\Resized\\01.폭행(assult)\\outsidedoor_08\\406-6\\406-6_cam01_assault01_place03_day_summer_resized.mp4\n"
     ]
    },
    {
     "name": "stderr",
     "output_type": "stream",
     "text": [
      "Copying files: 879it [01:39,  1.89it/s]"
     ]
    },
    {
     "name": "stdout",
     "output_type": "stream",
     "text": [
      "Copying G:\\내 드라이브\\Project\\RGBLab\\ABB\\Data\\01.폭행(assult)\\outsidedoor_08\\453-2\\453-2_cam01_assault01_place01_day_summer_resized.mp4 to G:\\내 드라이브\\Project\\RGBLab\\ABB\\Data\\Resized\\01.폭행(assult)\\outsidedoor_08\\453-2\\453-2_cam01_assault01_place01_day_summer_resized.mp4\n"
     ]
    },
    {
     "name": "stderr",
     "output_type": "stream",
     "text": [
      "Copying files: 880it [01:39,  2.14it/s]"
     ]
    },
    {
     "name": "stdout",
     "output_type": "stream",
     "text": [
      "Copying G:\\내 드라이브\\Project\\RGBLab\\ABB\\Data\\01.폭행(assult)\\outsidedoor_08\\453-2\\453-2_cam01_assault01_place01_day_spring_resized.mp4 to G:\\내 드라이브\\Project\\RGBLab\\ABB\\Data\\Resized\\01.폭행(assult)\\outsidedoor_08\\453-2\\453-2_cam01_assault01_place01_day_spring_resized.mp4\n"
     ]
    },
    {
     "name": "stderr",
     "output_type": "stream",
     "text": [
      "Copying files: 881it [01:39,  2.35it/s]"
     ]
    },
    {
     "name": "stdout",
     "output_type": "stream",
     "text": [
      "Copying G:\\내 드라이브\\Project\\RGBLab\\ABB\\Data\\01.폭행(assult)\\outsidedoor_08\\453-2\\453-2_cam02_assault01_place01_day_summer_resized.mp4 to G:\\내 드라이브\\Project\\RGBLab\\ABB\\Data\\Resized\\01.폭행(assult)\\outsidedoor_08\\453-2\\453-2_cam02_assault01_place01_day_summer_resized.mp4\n"
     ]
    },
    {
     "name": "stderr",
     "output_type": "stream",
     "text": [
      "Copying files: 882it [01:40,  2.29it/s]"
     ]
    },
    {
     "name": "stdout",
     "output_type": "stream",
     "text": [
      "Copying G:\\내 드라이브\\Project\\RGBLab\\ABB\\Data\\01.폭행(assult)\\outsidedoor_08\\453-4\\453-4_cam02_assault01_place01_day_summer_resized.mp4 to G:\\내 드라이브\\Project\\RGBLab\\ABB\\Data\\Resized\\01.폭행(assult)\\outsidedoor_08\\453-4\\453-4_cam02_assault01_place01_day_summer_resized.mp4\n"
     ]
    },
    {
     "name": "stderr",
     "output_type": "stream",
     "text": [
      "Copying files: 883it [01:40,  2.21it/s]"
     ]
    },
    {
     "name": "stdout",
     "output_type": "stream",
     "text": [
      "Copying G:\\내 드라이브\\Project\\RGBLab\\ABB\\Data\\01.폭행(assult)\\outsidedoor_09\\7-4\\7-4_cam02_assault01_place04_day_spring_resized.mp4 to G:\\내 드라이브\\Project\\RGBLab\\ABB\\Data\\Resized\\01.폭행(assult)\\outsidedoor_09\\7-4\\7-4_cam02_assault01_place04_day_spring_resized.mp4\n"
     ]
    },
    {
     "name": "stderr",
     "output_type": "stream",
     "text": [
      "Copying files: 884it [01:41,  2.18it/s]"
     ]
    },
    {
     "name": "stdout",
     "output_type": "stream",
     "text": [
      "Copying G:\\내 드라이브\\Project\\RGBLab\\ABB\\Data\\01.폭행(assult)\\outsidedoor_09\\7-4\\7-4_cam02_assault01_place04_day_summer_resized.mp4 to G:\\내 드라이브\\Project\\RGBLab\\ABB\\Data\\Resized\\01.폭행(assult)\\outsidedoor_09\\7-4\\7-4_cam02_assault01_place04_day_summer_resized.mp4\n"
     ]
    },
    {
     "name": "stderr",
     "output_type": "stream",
     "text": [
      "Copying files: 885it [01:41,  2.14it/s]"
     ]
    },
    {
     "name": "stdout",
     "output_type": "stream",
     "text": [
      "Copying G:\\내 드라이브\\Project\\RGBLab\\ABB\\Data\\01.폭행(assult)\\outsidedoor_09\\7-4\\7-4_cam01_assault01_place04_day_spring_resized.mp4 to G:\\내 드라이브\\Project\\RGBLab\\ABB\\Data\\Resized\\01.폭행(assult)\\outsidedoor_09\\7-4\\7-4_cam01_assault01_place04_day_spring_resized.mp4\n"
     ]
    },
    {
     "name": "stderr",
     "output_type": "stream",
     "text": [
      "Copying files: 886it [01:42,  2.11it/s]"
     ]
    },
    {
     "name": "stdout",
     "output_type": "stream",
     "text": [
      "Copying G:\\내 드라이브\\Project\\RGBLab\\ABB\\Data\\01.폭행(assult)\\outsidedoor_09\\7-4\\7-4_cam01_assault01_place04_day_summer_resized.mp4 to G:\\내 드라이브\\Project\\RGBLab\\ABB\\Data\\Resized\\01.폭행(assult)\\outsidedoor_09\\7-4\\7-4_cam01_assault01_place04_day_summer_resized.mp4\n"
     ]
    },
    {
     "name": "stderr",
     "output_type": "stream",
     "text": [
      "Copying files: 887it [01:42,  1.93it/s]"
     ]
    },
    {
     "name": "stdout",
     "output_type": "stream",
     "text": [
      "Copying G:\\내 드라이브\\Project\\RGBLab\\ABB\\Data\\01.폭행(assult)\\outsidedoor_09\\7-5\\7-5_cam02_assault01_place04_day_summer_resized.mp4 to G:\\내 드라이브\\Project\\RGBLab\\ABB\\Data\\Resized\\01.폭행(assult)\\outsidedoor_09\\7-5\\7-5_cam02_assault01_place04_day_summer_resized.mp4\n"
     ]
    },
    {
     "name": "stderr",
     "output_type": "stream",
     "text": [
      "Copying files: 888it [01:43,  1.89it/s]"
     ]
    },
    {
     "name": "stdout",
     "output_type": "stream",
     "text": [
      "Copying G:\\내 드라이브\\Project\\RGBLab\\ABB\\Data\\01.폭행(assult)\\outsidedoor_09\\7-5\\7-5_cam02_assault01_place04_day_spring_resized.mp4 to G:\\내 드라이브\\Project\\RGBLab\\ABB\\Data\\Resized\\01.폭행(assult)\\outsidedoor_09\\7-5\\7-5_cam02_assault01_place04_day_spring_resized.mp4\n"
     ]
    },
    {
     "name": "stderr",
     "output_type": "stream",
     "text": [
      "Copying files: 889it [01:43,  1.90it/s]"
     ]
    },
    {
     "name": "stdout",
     "output_type": "stream",
     "text": [
      "Copying G:\\내 드라이브\\Project\\RGBLab\\ABB\\Data\\01.폭행(assult)\\outsidedoor_09\\7-5\\7-5_cam01_assault01_place04_day_spring_resized.mp4 to G:\\내 드라이브\\Project\\RGBLab\\ABB\\Data\\Resized\\01.폭행(assult)\\outsidedoor_09\\7-5\\7-5_cam01_assault01_place04_day_spring_resized.mp4\n"
     ]
    },
    {
     "name": "stderr",
     "output_type": "stream",
     "text": [
      "Copying files: 890it [01:55,  3.82s/it]"
     ]
    },
    {
     "name": "stdout",
     "output_type": "stream",
     "text": [
      "Copying G:\\내 드라이브\\Project\\RGBLab\\ABB\\Data\\01.폭행(assult)\\outsidedoor_09\\7-5\\7-5_cam01_assault01_place04_day_summer_resized.mp4 to G:\\내 드라이브\\Project\\RGBLab\\ABB\\Data\\Resized\\01.폭행(assult)\\outsidedoor_09\\7-5\\7-5_cam01_assault01_place04_day_summer_resized.mp4\n"
     ]
    },
    {
     "name": "stderr",
     "output_type": "stream",
     "text": [
      "Copying files: 891it [01:55,  2.84s/it]"
     ]
    },
    {
     "name": "stdout",
     "output_type": "stream",
     "text": [
      "Copying G:\\내 드라이브\\Project\\RGBLab\\ABB\\Data\\01.폭행(assult)\\outsidedoor_09\\7-6\\7-6_cam01_assault01_place04_day_spring_resized.mp4 to G:\\내 드라이브\\Project\\RGBLab\\ABB\\Data\\Resized\\01.폭행(assult)\\outsidedoor_09\\7-6\\7-6_cam01_assault01_place04_day_spring_resized.mp4\n"
     ]
    },
    {
     "name": "stderr",
     "output_type": "stream",
     "text": [
      "Copying files: 892it [01:56,  2.12s/it]"
     ]
    },
    {
     "name": "stdout",
     "output_type": "stream",
     "text": [
      "Copying G:\\내 드라이브\\Project\\RGBLab\\ABB\\Data\\01.폭행(assult)\\outsidedoor_09\\7-6\\7-6_cam02_assault01_place04_day_spring_resized.mp4 to G:\\내 드라이브\\Project\\RGBLab\\ABB\\Data\\Resized\\01.폭행(assult)\\outsidedoor_09\\7-6\\7-6_cam02_assault01_place04_day_spring_resized.mp4\n"
     ]
    },
    {
     "name": "stderr",
     "output_type": "stream",
     "text": [
      "Copying files: 893it [01:56,  1.61s/it]"
     ]
    },
    {
     "name": "stdout",
     "output_type": "stream",
     "text": [
      "Copying G:\\내 드라이브\\Project\\RGBLab\\ABB\\Data\\01.폭행(assult)\\outsidedoor_09\\7-6\\7-6_cam01_assault01_place04_day_summer_resized.mp4 to G:\\내 드라이브\\Project\\RGBLab\\ABB\\Data\\Resized\\01.폭행(assult)\\outsidedoor_09\\7-6\\7-6_cam01_assault01_place04_day_summer_resized.mp4\n"
     ]
    },
    {
     "name": "stderr",
     "output_type": "stream",
     "text": [
      "Copying files: 894it [01:57,  1.29s/it]"
     ]
    },
    {
     "name": "stdout",
     "output_type": "stream",
     "text": [
      "Copying G:\\내 드라이브\\Project\\RGBLab\\ABB\\Data\\01.폭행(assult)\\outsidedoor_09\\7-6\\7-6_cam02_assault01_place04_day_summer_resized.mp4 to G:\\내 드라이브\\Project\\RGBLab\\ABB\\Data\\Resized\\01.폭행(assult)\\outsidedoor_09\\7-6\\7-6_cam02_assault01_place04_day_summer_resized.mp4\n"
     ]
    },
    {
     "name": "stderr",
     "output_type": "stream",
     "text": [
      "Copying files: 895it [01:57,  1.07s/it]"
     ]
    },
    {
     "name": "stdout",
     "output_type": "stream",
     "text": [
      "Copying G:\\내 드라이브\\Project\\RGBLab\\ABB\\Data\\01.폭행(assult)\\outsidedoor_09\\8-1\\8-1_cam02_assault03_place05_day_summer_resized.mp4 to G:\\내 드라이브\\Project\\RGBLab\\ABB\\Data\\Resized\\01.폭행(assult)\\outsidedoor_09\\8-1\\8-1_cam02_assault03_place05_day_summer_resized.mp4\n"
     ]
    },
    {
     "name": "stderr",
     "output_type": "stream",
     "text": [
      "Copying files: 896it [01:58,  1.23it/s]"
     ]
    },
    {
     "name": "stdout",
     "output_type": "stream",
     "text": [
      "Copying G:\\내 드라이브\\Project\\RGBLab\\ABB\\Data\\01.폭행(assult)\\outsidedoor_09\\8-1\\8-1_cam02_assault03_place05_day_spring_resized.mp4 to G:\\내 드라이브\\Project\\RGBLab\\ABB\\Data\\Resized\\01.폭행(assult)\\outsidedoor_09\\8-1\\8-1_cam02_assault03_place05_day_spring_resized.mp4\n"
     ]
    },
    {
     "name": "stderr",
     "output_type": "stream",
     "text": [
      "Copying files: 897it [01:58,  1.56it/s]"
     ]
    },
    {
     "name": "stdout",
     "output_type": "stream",
     "text": [
      "Copying G:\\내 드라이브\\Project\\RGBLab\\ABB\\Data\\01.폭행(assult)\\outsidedoor_09\\8-1\\8-1_cam01_assault03_place05_day_spring_resized.mp4 to G:\\내 드라이브\\Project\\RGBLab\\ABB\\Data\\Resized\\01.폭행(assult)\\outsidedoor_09\\8-1\\8-1_cam01_assault03_place05_day_spring_resized.mp4\n"
     ]
    },
    {
     "name": "stderr",
     "output_type": "stream",
     "text": [
      "Copying files: 898it [01:58,  1.86it/s]"
     ]
    },
    {
     "name": "stdout",
     "output_type": "stream",
     "text": [
      "Copying G:\\내 드라이브\\Project\\RGBLab\\ABB\\Data\\01.폭행(assult)\\outsidedoor_09\\8-1\\8-1_cam01_assault03_place05_day_summer_resized.mp4 to G:\\내 드라이브\\Project\\RGBLab\\ABB\\Data\\Resized\\01.폭행(assult)\\outsidedoor_09\\8-1\\8-1_cam01_assault03_place05_day_summer_resized.mp4\n"
     ]
    },
    {
     "name": "stderr",
     "output_type": "stream",
     "text": [
      "Copying files: 900it [01:59,  2.60it/s]"
     ]
    },
    {
     "name": "stdout",
     "output_type": "stream",
     "text": [
      "Copying G:\\내 드라이브\\Project\\RGBLab\\ABB\\Data\\01.폭행(assult)\\outsidedoor_09\\8-2\\8-2_cam02_assault03_place05_day_summer_resized.mp4 to G:\\내 드라이브\\Project\\RGBLab\\ABB\\Data\\Resized\\01.폭행(assult)\\outsidedoor_09\\8-2\\8-2_cam02_assault03_place05_day_summer_resized.mp4\n"
     ]
    },
    {
     "name": "stderr",
     "output_type": "stream",
     "text": [
      "Copying files: 901it [01:59,  3.02it/s]"
     ]
    },
    {
     "name": "stdout",
     "output_type": "stream",
     "text": [
      "Copying G:\\내 드라이브\\Project\\RGBLab\\ABB\\Data\\01.폭행(assult)\\outsidedoor_09\\8-2\\8-2_cam02_assault03_place05_day_spring_resized.mp4 to G:\\내 드라이브\\Project\\RGBLab\\ABB\\Data\\Resized\\01.폭행(assult)\\outsidedoor_09\\8-2\\8-2_cam02_assault03_place05_day_spring_resized.mp4\n"
     ]
    },
    {
     "name": "stderr",
     "output_type": "stream",
     "text": [
      "Copying files: 901it [01:59,  3.02it/s]"
     ]
    },
    {
     "name": "stdout",
     "output_type": "stream",
     "text": [
      "Copying G:\\내 드라이브\\Project\\RGBLab\\ABB\\Data\\01.폭행(assult)\\outsidedoor_09\\8-2\\8-2_cam01_assault03_place05_day_spring_resized.mp4 to G:\\내 드라이브\\Project\\RGBLab\\ABB\\Data\\Resized\\01.폭행(assult)\\outsidedoor_09\\8-2\\8-2_cam01_assault03_place05_day_spring_resized.mp4\n"
     ]
    },
    {
     "name": "stderr",
     "output_type": "stream",
     "text": [
      "Copying files: 902it [02:10,  3.47s/it]"
     ]
    },
    {
     "name": "stdout",
     "output_type": "stream",
     "text": [
      "Copying G:\\내 드라이브\\Project\\RGBLab\\ABB\\Data\\01.폭행(assult)\\outsidedoor_09\\8-2\\8-2_cam01_assault03_place05_day_summer_resized.mp4 to G:\\내 드라이브\\Project\\RGBLab\\ABB\\Data\\Resized\\01.폭행(assult)\\outsidedoor_09\\8-2\\8-2_cam01_assault03_place05_day_summer_resized.mp4\n"
     ]
    },
    {
     "name": "stderr",
     "output_type": "stream",
     "text": [
      "Copying files: 903it [02:13,  3.58s/it]"
     ]
    },
    {
     "name": "stdout",
     "output_type": "stream",
     "text": [
      "Copying G:\\내 드라이브\\Project\\RGBLab\\ABB\\Data\\01.폭행(assult)\\outsidedoor_09\\8-3\\8-3_cam01_assault03_place05_day_summer_resized.mp4 to G:\\내 드라이브\\Project\\RGBLab\\ABB\\Data\\Resized\\01.폭행(assult)\\outsidedoor_09\\8-3\\8-3_cam01_assault03_place05_day_summer_resized.mp4\n"
     ]
    },
    {
     "name": "stderr",
     "output_type": "stream",
     "text": [
      "Copying files: 904it [02:14,  2.59s/it]"
     ]
    },
    {
     "name": "stdout",
     "output_type": "stream",
     "text": [
      "Copying G:\\내 드라이브\\Project\\RGBLab\\ABB\\Data\\01.폭행(assult)\\outsidedoor_09\\8-3\\8-3_cam01_assault03_place05_day_spring_resized.mp4 to G:\\내 드라이브\\Project\\RGBLab\\ABB\\Data\\Resized\\01.폭행(assult)\\outsidedoor_09\\8-3\\8-3_cam01_assault03_place05_day_spring_resized.mp4\n"
     ]
    },
    {
     "name": "stderr",
     "output_type": "stream",
     "text": [
      "Copying files: 905it [02:14,  1.90s/it]"
     ]
    },
    {
     "name": "stdout",
     "output_type": "stream",
     "text": [
      "Copying G:\\내 드라이브\\Project\\RGBLab\\ABB\\Data\\01.폭행(assult)\\outsidedoor_09\\8-3\\8-3_cam02_assault03_place05_day_spring_resized.mp4 to G:\\내 드라이브\\Project\\RGBLab\\ABB\\Data\\Resized\\01.폭행(assult)\\outsidedoor_09\\8-3\\8-3_cam02_assault03_place05_day_spring_resized.mp4\n"
     ]
    },
    {
     "name": "stderr",
     "output_type": "stream",
     "text": [
      "Copying files: 907it [02:17,  1.65s/it]"
     ]
    },
    {
     "name": "stdout",
     "output_type": "stream",
     "text": [
      "Copying G:\\내 드라이브\\Project\\RGBLab\\ABB\\Data\\01.폭행(assult)\\outsidedoor_09\\8-3\\8-3_cam02_assault03_place05_day_summer_resized.mp4 to G:\\내 드라이브\\Project\\RGBLab\\ABB\\Data\\Resized\\01.폭행(assult)\\outsidedoor_09\\8-3\\8-3_cam02_assault03_place05_day_summer_resized.mp4\n"
     ]
    },
    {
     "name": "stderr",
     "output_type": "stream",
     "text": [
      "Copying files: 908it [02:17,  1.21s/it]"
     ]
    },
    {
     "name": "stdout",
     "output_type": "stream",
     "text": [
      "Copying G:\\내 드라이브\\Project\\RGBLab\\ABB\\Data\\01.폭행(assult)\\outsidedoor_09\\8-4\\8-4_cam02_assault03_place05_day_spring_resized.mp4 to G:\\내 드라이브\\Project\\RGBLab\\ABB\\Data\\Resized\\01.폭행(assult)\\outsidedoor_09\\8-4\\8-4_cam02_assault03_place05_day_spring_resized.mp4\n"
     ]
    },
    {
     "name": "stderr",
     "output_type": "stream",
     "text": [
      "Copying files: 908it [02:17,  1.21s/it]"
     ]
    },
    {
     "name": "stdout",
     "output_type": "stream",
     "text": [
      "Copying G:\\내 드라이브\\Project\\RGBLab\\ABB\\Data\\01.폭행(assult)\\outsidedoor_09\\8-4\\8-4_cam01_assault03_place05_day_spring_resized.mp4 to G:\\내 드라이브\\Project\\RGBLab\\ABB\\Data\\Resized\\01.폭행(assult)\\outsidedoor_09\\8-4\\8-4_cam01_assault03_place05_day_spring_resized.mp4\n"
     ]
    },
    {
     "name": "stderr",
     "output_type": "stream",
     "text": [
      "Copying files: 909it [02:18,  1.07it/s]"
     ]
    },
    {
     "name": "stdout",
     "output_type": "stream",
     "text": [
      "Copying G:\\내 드라이브\\Project\\RGBLab\\ABB\\Data\\01.폭행(assult)\\outsidedoor_09\\8-4\\8-4_cam01_assault03_place05_day_summer_resized.mp4 to G:\\내 드라이브\\Project\\RGBLab\\ABB\\Data\\Resized\\01.폭행(assult)\\outsidedoor_09\\8-4\\8-4_cam01_assault03_place05_day_summer_resized.mp4\n"
     ]
    },
    {
     "name": "stderr",
     "output_type": "stream",
     "text": [
      "Copying files: 911it [02:18,  1.75it/s]"
     ]
    },
    {
     "name": "stdout",
     "output_type": "stream",
     "text": [
      "Copying G:\\내 드라이브\\Project\\RGBLab\\ABB\\Data\\01.폭행(assult)\\outsidedoor_09\\8-4\\8-4_cam02_assault03_place05_day_summer_resized.mp4 to G:\\내 드라이브\\Project\\RGBLab\\ABB\\Data\\Resized\\01.폭행(assult)\\outsidedoor_09\\8-4\\8-4_cam02_assault03_place05_day_summer_resized.mp4\n",
      "Copying G:\\내 드라이브\\Project\\RGBLab\\ABB\\Data\\01.폭행(assult)\\outsidedoor_09\\8-5\\8-5_cam02_assault03_place05_day_summer_resized.mp4 to G:\\내 드라이브\\Project\\RGBLab\\ABB\\Data\\Resized\\01.폭행(assult)\\outsidedoor_09\\8-5\\8-5_cam02_assault03_place05_day_summer_resized.mp4\n"
     ]
    },
    {
     "name": "stderr",
     "output_type": "stream",
     "text": [
      "Copying files: 912it [02:18,  2.21it/s]"
     ]
    },
    {
     "name": "stdout",
     "output_type": "stream",
     "text": [
      "Copying G:\\내 드라이브\\Project\\RGBLab\\ABB\\Data\\01.폭행(assult)\\outsidedoor_09\\8-5\\8-5_cam01_assault03_place05_day_spring_resized.mp4 to G:\\내 드라이브\\Project\\RGBLab\\ABB\\Data\\Resized\\01.폭행(assult)\\outsidedoor_09\\8-5\\8-5_cam01_assault03_place05_day_spring_resized.mp4\n"
     ]
    },
    {
     "name": "stderr",
     "output_type": "stream",
     "text": [
      "Copying files: 914it [02:19,  2.98it/s]"
     ]
    },
    {
     "name": "stdout",
     "output_type": "stream",
     "text": [
      "Copying G:\\내 드라이브\\Project\\RGBLab\\ABB\\Data\\01.폭행(assult)\\outsidedoor_09\\8-5\\8-5_cam02_assault03_place05_day_spring_resized.mp4 to G:\\내 드라이브\\Project\\RGBLab\\ABB\\Data\\Resized\\01.폭행(assult)\\outsidedoor_09\\8-5\\8-5_cam02_assault03_place05_day_spring_resized.mp4\n",
      "Copying G:\\내 드라이브\\Project\\RGBLab\\ABB\\Data\\01.폭행(assult)\\outsidedoor_09\\8-5\\8-5_cam01_assault03_place05_day_summer_resized.mp4 to G:\\내 드라이브\\Project\\RGBLab\\ABB\\Data\\Resized\\01.폭행(assult)\\outsidedoor_09\\8-5\\8-5_cam01_assault03_place05_day_summer_resized.mp4\n"
     ]
    },
    {
     "name": "stderr",
     "output_type": "stream",
     "text": [
      "Copying files: 916it [02:19,  3.59it/s]"
     ]
    },
    {
     "name": "stdout",
     "output_type": "stream",
     "text": [
      "Copying G:\\내 드라이브\\Project\\RGBLab\\ABB\\Data\\01.폭행(assult)\\outsidedoor_09\\8-6\\8-6_cam02_assault03_place05_day_summer_resized.mp4 to G:\\내 드라이브\\Project\\RGBLab\\ABB\\Data\\Resized\\01.폭행(assult)\\outsidedoor_09\\8-6\\8-6_cam02_assault03_place05_day_summer_resized.mp4\n",
      "Copying G:\\내 드라이브\\Project\\RGBLab\\ABB\\Data\\01.폭행(assult)\\outsidedoor_09\\8-6\\8-6_cam02_assault03_place05_day_spring_resized.mp4 to G:\\내 드라이브\\Project\\RGBLab\\ABB\\Data\\Resized\\01.폭행(assult)\\outsidedoor_09\\8-6\\8-6_cam02_assault03_place05_day_spring_resized.mp4\n"
     ]
    },
    {
     "name": "stderr",
     "output_type": "stream",
     "text": [
      "Copying files: 917it [02:20,  4.01it/s]"
     ]
    },
    {
     "name": "stdout",
     "output_type": "stream",
     "text": [
      "Copying G:\\내 드라이브\\Project\\RGBLab\\ABB\\Data\\01.폭행(assult)\\outsidedoor_09\\8-6\\8-6_cam01_assault03_place05_day_summer_resized.mp4 to G:\\내 드라이브\\Project\\RGBLab\\ABB\\Data\\Resized\\01.폭행(assult)\\outsidedoor_09\\8-6\\8-6_cam01_assault03_place05_day_summer_resized.mp4\n"
     ]
    },
    {
     "name": "stderr",
     "output_type": "stream",
     "text": [
      "Copying files: 918it [02:20,  3.76it/s]"
     ]
    },
    {
     "name": "stdout",
     "output_type": "stream",
     "text": [
      "Copying G:\\내 드라이브\\Project\\RGBLab\\ABB\\Data\\01.폭행(assult)\\outsidedoor_09\\8-6\\8-6_cam01_assault03_place05_day_spring_resized.mp4 to G:\\내 드라이브\\Project\\RGBLab\\ABB\\Data\\Resized\\01.폭행(assult)\\outsidedoor_09\\8-6\\8-6_cam01_assault03_place05_day_spring_resized.mp4\n"
     ]
    },
    {
     "name": "stderr",
     "output_type": "stream",
     "text": [
      "Copying files: 922it [02:20,  6.54it/s]"
     ]
    },
    {
     "name": "stdout",
     "output_type": "stream",
     "text": [
      "Copying G:\\내 드라이브\\Project\\RGBLab\\ABB\\Data\\01.폭행(assult)\\insidedoor_01\\10-1\\10-1_cam03_assault03_place07_night_spring_resized.mp4 to G:\\내 드라이브\\Project\\RGBLab\\ABB\\Data\\Resized\\01.폭행(assult)\\insidedoor_01\\10-1\\10-1_cam03_assault03_place07_night_spring_resized.mp4\n",
      "Copying G:\\내 드라이브\\Project\\RGBLab\\ABB\\Data\\01.폭행(assult)\\insidedoor_01\\10-1\\10-1_cam01_assault03_place07_night_winter_resized.mp4 to G:\\내 드라이브\\Project\\RGBLab\\ABB\\Data\\Resized\\01.폭행(assult)\\insidedoor_01\\10-1\\10-1_cam01_assault03_place07_night_winter_resized.mp4\n",
      "Copying G:\\내 드라이브\\Project\\RGBLab\\ABB\\Data\\01.폭행(assult)\\insidedoor_01\\10-1\\10-1_cam03_assault03_place07_night_summer_resized.mp4 to G:\\내 드라이브\\Project\\RGBLab\\ABB\\Data\\Resized\\01.폭행(assult)\\insidedoor_01\\10-1\\10-1_cam03_assault03_place07_night_summer_resized.mp4\n",
      "Copying G:\\내 드라이브\\Project\\RGBLab\\ABB\\Data\\01.폭행(assult)\\insidedoor_01\\10-1\\10-1_cam02_assault03_place07_night_spring_resized.mp4 to G:\\내 드라이브\\Project\\RGBLab\\ABB\\Data\\Resized\\01.폭행(assult)\\insidedoor_01\\10-1\\10-1_cam02_assault03_place07_night_spring_resized.mp4\n",
      "Copying G:\\내 드라이브\\Project\\RGBLab\\ABB\\Data\\01.폭행(assult)\\insidedoor_01\\10-1\\10-1_cam02_assault03_place07_night_winter_resized.mp4 to G:\\내 드라이브\\Project\\RGBLab\\ABB\\Data\\Resized\\01.폭행(assult)\\insidedoor_01\\10-1\\10-1_cam02_assault03_place07_night_winter_resized.mp4\n"
     ]
    },
    {
     "name": "stderr",
     "output_type": "stream",
     "text": [
      "Copying files: 928it [02:21, 12.72it/s]"
     ]
    },
    {
     "name": "stdout",
     "output_type": "stream",
     "text": [
      "Copying G:\\내 드라이브\\Project\\RGBLab\\ABB\\Data\\01.폭행(assult)\\insidedoor_01\\10-1\\10-1_cam01_assault03_place07_night_summer_resized.mp4 to G:\\내 드라이브\\Project\\RGBLab\\ABB\\Data\\Resized\\01.폭행(assult)\\insidedoor_01\\10-1\\10-1_cam01_assault03_place07_night_summer_resized.mp4\n",
      "Copying G:\\내 드라이브\\Project\\RGBLab\\ABB\\Data\\01.폭행(assult)\\insidedoor_01\\10-1\\10-1_cam01_assault03_place07_night_spring_resized.mp4 to G:\\내 드라이브\\Project\\RGBLab\\ABB\\Data\\Resized\\01.폭행(assult)\\insidedoor_01\\10-1\\10-1_cam01_assault03_place07_night_spring_resized.mp4\n",
      "Copying G:\\내 드라이브\\Project\\RGBLab\\ABB\\Data\\01.폭행(assult)\\insidedoor_01\\10-1\\10-1_cam02_assault03_place07_night_summer_resized.mp4 to G:\\내 드라이브\\Project\\RGBLab\\ABB\\Data\\Resized\\01.폭행(assult)\\insidedoor_01\\10-1\\10-1_cam02_assault03_place07_night_summer_resized.mp4\n",
      "Copying G:\\내 드라이브\\Project\\RGBLab\\ABB\\Data\\01.폭행(assult)\\insidedoor_01\\10-1\\10-1_cam03_assault03_place07_night_winter_resized.mp4 to G:\\내 드라이브\\Project\\RGBLab\\ABB\\Data\\Resized\\01.폭행(assult)\\insidedoor_01\\10-1\\10-1_cam03_assault03_place07_night_winter_resized.mp4\n",
      "Copying G:\\내 드라이브\\Project\\RGBLab\\ABB\\Data\\01.폭행(assult)\\insidedoor_01\\10-2\\10-2_cam03_assault03_place07_night_summer_resized.mp4 to G:\\내 드라이브\\Project\\RGBLab\\ABB\\Data\\Resized\\01.폭행(assult)\\insidedoor_01\\10-2\\10-2_cam03_assault03_place07_night_summer_resized.mp4\n"
     ]
    },
    {
     "name": "stderr",
     "output_type": "stream",
     "text": [
      "Copying files: 934it [02:21, 17.82it/s]"
     ]
    },
    {
     "name": "stdout",
     "output_type": "stream",
     "text": [
      "Copying G:\\내 드라이브\\Project\\RGBLab\\ABB\\Data\\01.폭행(assult)\\insidedoor_01\\10-2\\10-2_cam01_assault03_place07_night_summer_resized.mp4 to G:\\내 드라이브\\Project\\RGBLab\\ABB\\Data\\Resized\\01.폭행(assult)\\insidedoor_01\\10-2\\10-2_cam01_assault03_place07_night_summer_resized.mp4\n",
      "Copying G:\\내 드라이브\\Project\\RGBLab\\ABB\\Data\\01.폭행(assult)\\insidedoor_01\\10-2\\10-2_cam03_assault03_place07_night_spring_resized.mp4 to G:\\내 드라이브\\Project\\RGBLab\\ABB\\Data\\Resized\\01.폭행(assult)\\insidedoor_01\\10-2\\10-2_cam03_assault03_place07_night_spring_resized.mp4\n",
      "Copying G:\\내 드라이브\\Project\\RGBLab\\ABB\\Data\\01.폭행(assult)\\insidedoor_01\\10-2\\10-2_cam02_assault03_place07_night_summer_resized.mp4 to G:\\내 드라이브\\Project\\RGBLab\\ABB\\Data\\Resized\\01.폭행(assult)\\insidedoor_01\\10-2\\10-2_cam02_assault03_place07_night_summer_resized.mp4\n",
      "Copying G:\\내 드라이브\\Project\\RGBLab\\ABB\\Data\\01.폭행(assult)\\insidedoor_01\\10-2\\10-2_cam02_assault03_place07_night_spring_resized.mp4 to G:\\내 드라이브\\Project\\RGBLab\\ABB\\Data\\Resized\\01.폭행(assult)\\insidedoor_01\\10-2\\10-2_cam02_assault03_place07_night_spring_resized.mp4\n",
      "Copying G:\\내 드라이브\\Project\\RGBLab\\ABB\\Data\\01.폭행(assult)\\insidedoor_01\\10-2\\10-2_cam01_assault03_place07_night_winter_resized.mp4 to G:\\내 드라이브\\Project\\RGBLab\\ABB\\Data\\Resized\\01.폭행(assult)\\insidedoor_01\\10-2\\10-2_cam01_assault03_place07_night_winter_resized.mp4\n"
     ]
    },
    {
     "name": "stderr",
     "output_type": "stream",
     "text": [
      "Copying files: 937it [02:21, 19.13it/s]"
     ]
    },
    {
     "name": "stdout",
     "output_type": "stream",
     "text": [
      "Copying G:\\내 드라이브\\Project\\RGBLab\\ABB\\Data\\01.폭행(assult)\\insidedoor_01\\10-2\\10-2_cam03_assault03_place07_night_winter_resized.mp4 to G:\\내 드라이브\\Project\\RGBLab\\ABB\\Data\\Resized\\01.폭행(assult)\\insidedoor_01\\10-2\\10-2_cam03_assault03_place07_night_winter_resized.mp4\n",
      "Copying G:\\내 드라이브\\Project\\RGBLab\\ABB\\Data\\01.폭행(assult)\\insidedoor_01\\10-2\\10-2_cam02_assault03_place07_night_winter_resized.mp4 to G:\\내 드라이브\\Project\\RGBLab\\ABB\\Data\\Resized\\01.폭행(assult)\\insidedoor_01\\10-2\\10-2_cam02_assault03_place07_night_winter_resized.mp4\n",
      "Copying G:\\내 드라이브\\Project\\RGBLab\\ABB\\Data\\01.폭행(assult)\\insidedoor_01\\10-2\\10-2_cam01_assault03_place07_night_spring_resized.mp4 to G:\\내 드라이브\\Project\\RGBLab\\ABB\\Data\\Resized\\01.폭행(assult)\\insidedoor_01\\10-2\\10-2_cam01_assault03_place07_night_spring_resized.mp4\n",
      "Copying G:\\내 드라이브\\Project\\RGBLab\\ABB\\Data\\01.폭행(assult)\\insidedoor_01\\10-3\\10-3_cam01_assault03_place07_night_summer_resized.mp4 to G:\\내 드라이브\\Project\\RGBLab\\ABB\\Data\\Resized\\01.폭행(assult)\\insidedoor_01\\10-3\\10-3_cam01_assault03_place07_night_summer_resized.mp4\n",
      "Copying G:\\내 드라이브\\Project\\RGBLab\\ABB\\Data\\01.폭행(assult)\\insidedoor_01\\10-3\\10-3_cam02_assault03_place07_night_summer_resized.mp4 to G:\\내 드라이브\\Project\\RGBLab\\ABB\\Data\\Resized\\01.폭행(assult)\\insidedoor_01\\10-3\\10-3_cam02_assault03_place07_night_summer_resized.mp4\n"
     ]
    },
    {
     "name": "stderr",
     "output_type": "stream",
     "text": [
      "Copying files: 940it [02:21, 20.36it/s]"
     ]
    },
    {
     "name": "stdout",
     "output_type": "stream",
     "text": [
      "Copying G:\\내 드라이브\\Project\\RGBLab\\ABB\\Data\\01.폭행(assult)\\insidedoor_01\\10-3\\10-3_cam03_assault03_place07_night_spring_resized.mp4 to G:\\내 드라이브\\Project\\RGBLab\\ABB\\Data\\Resized\\01.폭행(assult)\\insidedoor_01\\10-3\\10-3_cam03_assault03_place07_night_spring_resized.mp4\n",
      "Copying G:\\내 드라이브\\Project\\RGBLab\\ABB\\Data\\01.폭행(assult)\\insidedoor_01\\10-3\\10-3_cam03_assault03_place07_night_summer_resized.mp4 to G:\\내 드라이브\\Project\\RGBLab\\ABB\\Data\\Resized\\01.폭행(assult)\\insidedoor_01\\10-3\\10-3_cam03_assault03_place07_night_summer_resized.mp4\n"
     ]
    },
    {
     "name": "stderr",
     "output_type": "stream",
     "text": [
      "Copying files: 940it [02:25, 20.36it/s]"
     ]
    },
    {
     "name": "stdout",
     "output_type": "stream",
     "text": [
      "Copying G:\\내 드라이브\\Project\\RGBLab\\ABB\\Data\\01.폭행(assult)\\insidedoor_01\\10-3\\10-3_cam01_assault03_place07_night_spring_resized.mp4 to G:\\내 드라이브\\Project\\RGBLab\\ABB\\Data\\Resized\\01.폭행(assult)\\insidedoor_01\\10-3\\10-3_cam01_assault03_place07_night_spring_resized.mp4\n",
      "Copying G:\\내 드라이브\\Project\\RGBLab\\ABB\\Data\\01.폭행(assult)\\insidedoor_01\\10-3\\10-3_cam02_assault03_place07_night_winter_resized.mp4 to G:\\내 드라이브\\Project\\RGBLab\\ABB\\Data\\Resized\\01.폭행(assult)\\insidedoor_01\\10-3\\10-3_cam02_assault03_place07_night_winter_resized.mp4\n"
     ]
    },
    {
     "name": "stderr",
     "output_type": "stream",
     "text": [
      "Copying files: 946it [02:27,  2.30it/s]"
     ]
    },
    {
     "name": "stdout",
     "output_type": "stream",
     "text": [
      "Copying G:\\내 드라이브\\Project\\RGBLab\\ABB\\Data\\01.폭행(assult)\\insidedoor_01\\10-3\\10-3_cam02_assault03_place07_night_spring_resized.mp4 to G:\\내 드라이브\\Project\\RGBLab\\ABB\\Data\\Resized\\01.폭행(assult)\\insidedoor_01\\10-3\\10-3_cam02_assault03_place07_night_spring_resized.mp4\n",
      "Copying G:\\내 드라이브\\Project\\RGBLab\\ABB\\Data\\01.폭행(assult)\\insidedoor_01\\10-3\\10-3_cam01_assault03_place07_night_winter_resized.mp4 to G:\\내 드라이브\\Project\\RGBLab\\ABB\\Data\\Resized\\01.폭행(assult)\\insidedoor_01\\10-3\\10-3_cam01_assault03_place07_night_winter_resized.mp4\n",
      "Copying G:\\내 드라이브\\Project\\RGBLab\\ABB\\Data\\01.폭행(assult)\\insidedoor_01\\10-3\\10-3_cam03_assault03_place07_night_winter_resized.mp4 to G:\\내 드라이브\\Project\\RGBLab\\ABB\\Data\\Resized\\01.폭행(assult)\\insidedoor_01\\10-3\\10-3_cam03_assault03_place07_night_winter_resized.mp4\n",
      "Copying G:\\내 드라이브\\Project\\RGBLab\\ABB\\Data\\01.폭행(assult)\\insidedoor_01\\10-4\\10-4_cam01_assault03_place07_night_winter_resized.mp4 to G:\\내 드라이브\\Project\\RGBLab\\ABB\\Data\\Resized\\01.폭행(assult)\\insidedoor_01\\10-4\\10-4_cam01_assault03_place07_night_winter_resized.mp4\n"
     ]
    },
    {
     "name": "stderr",
     "output_type": "stream",
     "text": [
      "Copying files: 952it [02:27,  4.34it/s]"
     ]
    },
    {
     "name": "stdout",
     "output_type": "stream",
     "text": [
      "Copying G:\\내 드라이브\\Project\\RGBLab\\ABB\\Data\\01.폭행(assult)\\insidedoor_01\\10-4\\10-4_cam02_assault03_place07_night_winter_resized.mp4 to G:\\내 드라이브\\Project\\RGBLab\\ABB\\Data\\Resized\\01.폭행(assult)\\insidedoor_01\\10-4\\10-4_cam02_assault03_place07_night_winter_resized.mp4\n",
      "Copying G:\\내 드라이브\\Project\\RGBLab\\ABB\\Data\\01.폭행(assult)\\insidedoor_01\\10-4\\10-4_cam03_assault03_place07_night_winter_resized.mp4 to G:\\내 드라이브\\Project\\RGBLab\\ABB\\Data\\Resized\\01.폭행(assult)\\insidedoor_01\\10-4\\10-4_cam03_assault03_place07_night_winter_resized.mp4\n",
      "Copying G:\\내 드라이브\\Project\\RGBLab\\ABB\\Data\\01.폭행(assult)\\insidedoor_02\\22-2\\22-2_cam02_assault01_place07_night_winter_resized.mp4 to G:\\내 드라이브\\Project\\RGBLab\\ABB\\Data\\Resized\\01.폭행(assult)\\insidedoor_02\\22-2\\22-2_cam02_assault01_place07_night_winter_resized.mp4\n",
      "Copying G:\\내 드라이브\\Project\\RGBLab\\ABB\\Data\\01.폭행(assult)\\insidedoor_02\\22-2\\22-2_cam03_assault01_place07_night_summer_resized.mp4 to G:\\내 드라이브\\Project\\RGBLab\\ABB\\Data\\Resized\\01.폭행(assult)\\insidedoor_02\\22-2\\22-2_cam03_assault01_place07_night_summer_resized.mp4\n",
      "Copying G:\\내 드라이브\\Project\\RGBLab\\ABB\\Data\\01.폭행(assult)\\insidedoor_02\\22-2\\22-2_cam01_assault01_place07_night_summer_resized.mp4 to G:\\내 드라이브\\Project\\RGBLab\\ABB\\Data\\Resized\\01.폭행(assult)\\insidedoor_02\\22-2\\22-2_cam01_assault01_place07_night_summer_resized.mp4\n"
     ]
    },
    {
     "name": "stderr",
     "output_type": "stream",
     "text": [
      "Copying files: 955it [02:27,  5.82it/s]"
     ]
    },
    {
     "name": "stdout",
     "output_type": "stream",
     "text": [
      "Copying G:\\내 드라이브\\Project\\RGBLab\\ABB\\Data\\01.폭행(assult)\\insidedoor_02\\22-2\\22-2_cam02_assault01_place07_night_summer_resized.mp4 to G:\\내 드라이브\\Project\\RGBLab\\ABB\\Data\\Resized\\01.폭행(assult)\\insidedoor_02\\22-2\\22-2_cam02_assault01_place07_night_summer_resized.mp4\n",
      "Copying G:\\내 드라이브\\Project\\RGBLab\\ABB\\Data\\01.폭행(assult)\\insidedoor_02\\22-2\\22-2_cam03_assault01_place07_night_winter_resized.mp4 to G:\\내 드라이브\\Project\\RGBLab\\ABB\\Data\\Resized\\01.폭행(assult)\\insidedoor_02\\22-2\\22-2_cam03_assault01_place07_night_winter_resized.mp4\n",
      "Copying G:\\내 드라이브\\Project\\RGBLab\\ABB\\Data\\01.폭행(assult)\\insidedoor_02\\22-2\\22-2_cam01_assault01_place07_night_spring_resized.mp4 to G:\\내 드라이브\\Project\\RGBLab\\ABB\\Data\\Resized\\01.폭행(assult)\\insidedoor_02\\22-2\\22-2_cam01_assault01_place07_night_spring_resized.mp4\n",
      "Copying G:\\내 드라이브\\Project\\RGBLab\\ABB\\Data\\01.폭행(assult)\\insidedoor_02\\22-2\\22-2_cam01_assault01_place07_night_winter_resized.mp4 to G:\\내 드라이브\\Project\\RGBLab\\ABB\\Data\\Resized\\01.폭행(assult)\\insidedoor_02\\22-2\\22-2_cam01_assault01_place07_night_winter_resized.mp4\n",
      "Copying G:\\내 드라이브\\Project\\RGBLab\\ABB\\Data\\01.폭행(assult)\\insidedoor_02\\22-2\\22-2_cam02_assault01_place07_night_spring_resized.mp4 to G:\\내 드라이브\\Project\\RGBLab\\ABB\\Data\\Resized\\01.폭행(assult)\\insidedoor_02\\22-2\\22-2_cam02_assault01_place07_night_spring_resized.mp4\n"
     ]
    },
    {
     "name": "stderr",
     "output_type": "stream",
     "text": [
      "Copying files: 961it [02:27,  9.84it/s]"
     ]
    },
    {
     "name": "stdout",
     "output_type": "stream",
     "text": [
      "Copying G:\\내 드라이브\\Project\\RGBLab\\ABB\\Data\\01.폭행(assult)\\insidedoor_02\\22-2\\22-2_cam03_assault01_place07_night_spring_resized.mp4 to G:\\내 드라이브\\Project\\RGBLab\\ABB\\Data\\Resized\\01.폭행(assult)\\insidedoor_02\\22-2\\22-2_cam03_assault01_place07_night_spring_resized.mp4\n",
      "Copying G:\\내 드라이브\\Project\\RGBLab\\ABB\\Data\\01.폭행(assult)\\insidedoor_02\\22-3\\22-3_cam02_assault01_place07_night_winter_resized.mp4 to G:\\내 드라이브\\Project\\RGBLab\\ABB\\Data\\Resized\\01.폭행(assult)\\insidedoor_02\\22-3\\22-3_cam02_assault01_place07_night_winter_resized.mp4\n",
      "Copying G:\\내 드라이브\\Project\\RGBLab\\ABB\\Data\\01.폭행(assult)\\insidedoor_02\\22-3\\22-3_cam01_assault01_place07_night_summer_resized.mp4 to G:\\내 드라이브\\Project\\RGBLab\\ABB\\Data\\Resized\\01.폭행(assult)\\insidedoor_02\\22-3\\22-3_cam01_assault01_place07_night_summer_resized.mp4\n",
      "Copying G:\\내 드라이브\\Project\\RGBLab\\ABB\\Data\\01.폭행(assult)\\insidedoor_02\\22-3\\22-3_cam01_assault01_place07_night_winter_resized.mp4 to G:\\내 드라이브\\Project\\RGBLab\\ABB\\Data\\Resized\\01.폭행(assult)\\insidedoor_02\\22-3\\22-3_cam01_assault01_place07_night_winter_resized.mp4\n",
      "Copying G:\\내 드라이브\\Project\\RGBLab\\ABB\\Data\\01.폭행(assult)\\insidedoor_02\\22-3\\22-3_cam03_assault01_place07_night_summer_resized.mp4 to G:\\내 드라이브\\Project\\RGBLab\\ABB\\Data\\Resized\\01.폭행(assult)\\insidedoor_02\\22-3\\22-3_cam03_assault01_place07_night_summer_resized.mp4\n",
      "Copying G:\\내 드라이브\\Project\\RGBLab\\ABB\\Data\\01.폭행(assult)\\insidedoor_02\\22-3\\22-3_cam03_assault01_place07_night_winter_resized.mp4 to G:\\내 드라이브\\Project\\RGBLab\\ABB\\Data\\Resized\\01.폭행(assult)\\insidedoor_02\\22-3\\22-3_cam03_assault01_place07_night_winter_resized.mp4\n"
     ]
    },
    {
     "name": "stderr",
     "output_type": "stream",
     "text": [
      "Copying files: 967it [02:29,  6.76it/s]"
     ]
    },
    {
     "name": "stdout",
     "output_type": "stream",
     "text": [
      "Copying G:\\내 드라이브\\Project\\RGBLab\\ABB\\Data\\01.폭행(assult)\\insidedoor_02\\22-3\\22-3_cam02_assault01_place07_night_summer_resized.mp4 to G:\\내 드라이브\\Project\\RGBLab\\ABB\\Data\\Resized\\01.폭행(assult)\\insidedoor_02\\22-3\\22-3_cam02_assault01_place07_night_summer_resized.mp4\n",
      "Copying G:\\내 드라이브\\Project\\RGBLab\\ABB\\Data\\01.폭행(assult)\\insidedoor_02\\22-3\\22-3_cam01_assault01_place07_night_spring_resized.mp4 to G:\\내 드라이브\\Project\\RGBLab\\ABB\\Data\\Resized\\01.폭행(assult)\\insidedoor_02\\22-3\\22-3_cam01_assault01_place07_night_spring_resized.mp4\n",
      "Copying G:\\내 드라이브\\Project\\RGBLab\\ABB\\Data\\01.폭행(assult)\\insidedoor_02\\22-3\\22-3_cam02_assault01_place07_night_spring_resized.mp4 to G:\\내 드라이브\\Project\\RGBLab\\ABB\\Data\\Resized\\01.폭행(assult)\\insidedoor_02\\22-3\\22-3_cam02_assault01_place07_night_spring_resized.mp4\n",
      "Copying G:\\내 드라이브\\Project\\RGBLab\\ABB\\Data\\01.폭행(assult)\\insidedoor_02\\22-3\\22-3_cam03_assault01_place07_night_spring_resized.mp4 to G:\\내 드라이브\\Project\\RGBLab\\ABB\\Data\\Resized\\01.폭행(assult)\\insidedoor_02\\22-3\\22-3_cam03_assault01_place07_night_spring_resized.mp4\n",
      "Copying G:\\내 드라이브\\Project\\RGBLab\\ABB\\Data\\01.폭행(assult)\\insidedoor_02\\22-4\\22-4_cam02_assault01_place07_night_summer_resized.mp4 to G:\\내 드라이브\\Project\\RGBLab\\ABB\\Data\\Resized\\01.폭행(assult)\\insidedoor_02\\22-4\\22-4_cam02_assault01_place07_night_summer_resized.mp4\n"
     ]
    },
    {
     "name": "stderr",
     "output_type": "stream",
     "text": [
      "Copying files: 973it [02:29, 10.94it/s]"
     ]
    },
    {
     "name": "stdout",
     "output_type": "stream",
     "text": [
      "Copying G:\\내 드라이브\\Project\\RGBLab\\ABB\\Data\\01.폭행(assult)\\insidedoor_02\\22-4\\22-4_cam03_assault01_place07_night_spring_resized.mp4 to G:\\내 드라이브\\Project\\RGBLab\\ABB\\Data\\Resized\\01.폭행(assult)\\insidedoor_02\\22-4\\22-4_cam03_assault01_place07_night_spring_resized.mp4\n",
      "Copying G:\\내 드라이브\\Project\\RGBLab\\ABB\\Data\\01.폭행(assult)\\insidedoor_02\\22-4\\22-4_cam03_assault01_place07_night_winter_resized.mp4 to G:\\내 드라이브\\Project\\RGBLab\\ABB\\Data\\Resized\\01.폭행(assult)\\insidedoor_02\\22-4\\22-4_cam03_assault01_place07_night_winter_resized.mp4\n",
      "Copying G:\\내 드라이브\\Project\\RGBLab\\ABB\\Data\\01.폭행(assult)\\insidedoor_02\\22-4\\22-4_cam01_assault01_place07_night_winter_resized.mp4 to G:\\내 드라이브\\Project\\RGBLab\\ABB\\Data\\Resized\\01.폭행(assult)\\insidedoor_02\\22-4\\22-4_cam01_assault01_place07_night_winter_resized.mp4\n",
      "Copying G:\\내 드라이브\\Project\\RGBLab\\ABB\\Data\\01.폭행(assult)\\insidedoor_02\\22-4\\22-4_cam01_assault01_place07_night_spring_resized.mp4 to G:\\내 드라이브\\Project\\RGBLab\\ABB\\Data\\Resized\\01.폭행(assult)\\insidedoor_02\\22-4\\22-4_cam01_assault01_place07_night_spring_resized.mp4\n",
      "Copying G:\\내 드라이브\\Project\\RGBLab\\ABB\\Data\\01.폭행(assult)\\insidedoor_02\\22-4\\22-4_cam01_assault01_place07_night_summer_resized.mp4 to G:\\내 드라이브\\Project\\RGBLab\\ABB\\Data\\Resized\\01.폭행(assult)\\insidedoor_02\\22-4\\22-4_cam01_assault01_place07_night_summer_resized.mp4\n"
     ]
    },
    {
     "name": "stderr",
     "output_type": "stream",
     "text": [
      "Copying files: 976it [02:29, 13.25it/s]"
     ]
    },
    {
     "name": "stdout",
     "output_type": "stream",
     "text": [
      "Copying G:\\내 드라이브\\Project\\RGBLab\\ABB\\Data\\01.폭행(assult)\\insidedoor_02\\22-4\\22-4_cam03_assault01_place07_night_summer_resized.mp4 to G:\\내 드라이브\\Project\\RGBLab\\ABB\\Data\\Resized\\01.폭행(assult)\\insidedoor_02\\22-4\\22-4_cam03_assault01_place07_night_summer_resized.mp4\n",
      "Copying G:\\내 드라이브\\Project\\RGBLab\\ABB\\Data\\01.폭행(assult)\\insidedoor_02\\22-4\\22-4_cam02_assault01_place07_night_spring_resized.mp4 to G:\\내 드라이브\\Project\\RGBLab\\ABB\\Data\\Resized\\01.폭행(assult)\\insidedoor_02\\22-4\\22-4_cam02_assault01_place07_night_spring_resized.mp4\n",
      "Copying G:\\내 드라이브\\Project\\RGBLab\\ABB\\Data\\01.폭행(assult)\\insidedoor_02\\22-4\\22-4_cam02_assault01_place07_night_winter_resized.mp4 to G:\\내 드라이브\\Project\\RGBLab\\ABB\\Data\\Resized\\01.폭행(assult)\\insidedoor_02\\22-4\\22-4_cam02_assault01_place07_night_winter_resized.mp4\n",
      "Copying G:\\내 드라이브\\Project\\RGBLab\\ABB\\Data\\01.폭행(assult)\\insidedoor_02\\22-5\\22-5_cam02_assault01_place07_night_spring_resized.mp4 to G:\\내 드라이브\\Project\\RGBLab\\ABB\\Data\\Resized\\01.폭행(assult)\\insidedoor_02\\22-5\\22-5_cam02_assault01_place07_night_spring_resized.mp4\n",
      "Copying G:\\내 드라이브\\Project\\RGBLab\\ABB\\Data\\01.폭행(assult)\\insidedoor_02\\22-5\\22-5_cam03_assault01_place07_night_spring_resized.mp4 to G:\\내 드라이브\\Project\\RGBLab\\ABB\\Data\\Resized\\01.폭행(assult)\\insidedoor_02\\22-5\\22-5_cam03_assault01_place07_night_spring_resized.mp4\n"
     ]
    },
    {
     "name": "stderr",
     "output_type": "stream",
     "text": [
      "Copying files: 982it [02:29, 17.86it/s]"
     ]
    },
    {
     "name": "stdout",
     "output_type": "stream",
     "text": [
      "Copying G:\\내 드라이브\\Project\\RGBLab\\ABB\\Data\\01.폭행(assult)\\insidedoor_02\\22-5\\22-5_cam02_assault01_place07_night_summer_resized.mp4 to G:\\내 드라이브\\Project\\RGBLab\\ABB\\Data\\Resized\\01.폭행(assult)\\insidedoor_02\\22-5\\22-5_cam02_assault01_place07_night_summer_resized.mp4\n",
      "Copying G:\\내 드라이브\\Project\\RGBLab\\ABB\\Data\\01.폭행(assult)\\insidedoor_02\\22-5\\22-5_cam03_assault01_place07_night_summer_resized.mp4 to G:\\내 드라이브\\Project\\RGBLab\\ABB\\Data\\Resized\\01.폭행(assult)\\insidedoor_02\\22-5\\22-5_cam03_assault01_place07_night_summer_resized.mp4\n",
      "Copying G:\\내 드라이브\\Project\\RGBLab\\ABB\\Data\\01.폭행(assult)\\insidedoor_02\\22-5\\22-5_cam02_assault01_place07_night_winter_resized.mp4 to G:\\내 드라이브\\Project\\RGBLab\\ABB\\Data\\Resized\\01.폭행(assult)\\insidedoor_02\\22-5\\22-5_cam02_assault01_place07_night_winter_resized.mp4\n",
      "Copying G:\\내 드라이브\\Project\\RGBLab\\ABB\\Data\\01.폭행(assult)\\insidedoor_02\\22-5\\22-5_cam01_assault01_place07_night_spring_resized.mp4 to G:\\내 드라이브\\Project\\RGBLab\\ABB\\Data\\Resized\\01.폭행(assult)\\insidedoor_02\\22-5\\22-5_cam01_assault01_place07_night_spring_resized.mp4\n",
      "Copying G:\\내 드라이브\\Project\\RGBLab\\ABB\\Data\\01.폭행(assult)\\insidedoor_02\\22-5\\22-5_cam03_assault01_place07_night_winter_resized.mp4 to G:\\내 드라이브\\Project\\RGBLab\\ABB\\Data\\Resized\\01.폭행(assult)\\insidedoor_02\\22-5\\22-5_cam03_assault01_place07_night_winter_resized.mp4\n"
     ]
    },
    {
     "name": "stderr",
     "output_type": "stream",
     "text": [
      "Copying files: 988it [02:29, 21.05it/s]"
     ]
    },
    {
     "name": "stdout",
     "output_type": "stream",
     "text": [
      "Copying G:\\내 드라이브\\Project\\RGBLab\\ABB\\Data\\01.폭행(assult)\\insidedoor_02\\22-5\\22-5_cam01_assault01_place07_night_summer_resized.mp4 to G:\\내 드라이브\\Project\\RGBLab\\ABB\\Data\\Resized\\01.폭행(assult)\\insidedoor_02\\22-5\\22-5_cam01_assault01_place07_night_summer_resized.mp4\n",
      "Copying G:\\내 드라이브\\Project\\RGBLab\\ABB\\Data\\01.폭행(assult)\\insidedoor_02\\22-5\\22-5_cam01_assault01_place07_night_winter_resized.mp4 to G:\\내 드라이브\\Project\\RGBLab\\ABB\\Data\\Resized\\01.폭행(assult)\\insidedoor_02\\22-5\\22-5_cam01_assault01_place07_night_winter_resized.mp4\n",
      "Copying G:\\내 드라이브\\Project\\RGBLab\\ABB\\Data\\01.폭행(assult)\\insidedoor_02\\22-6\\22-6_cam03_assault01_place07_night_summer_resized.mp4 to G:\\내 드라이브\\Project\\RGBLab\\ABB\\Data\\Resized\\01.폭행(assult)\\insidedoor_02\\22-6\\22-6_cam03_assault01_place07_night_summer_resized.mp4\n",
      "Copying G:\\내 드라이브\\Project\\RGBLab\\ABB\\Data\\01.폭행(assult)\\insidedoor_02\\22-6\\22-6_cam03_assault01_place07_night_spring_resized.mp4 to G:\\내 드라이브\\Project\\RGBLab\\ABB\\Data\\Resized\\01.폭행(assult)\\insidedoor_02\\22-6\\22-6_cam03_assault01_place07_night_spring_resized.mp4\n",
      "Copying G:\\내 드라이브\\Project\\RGBLab\\ABB\\Data\\01.폭행(assult)\\insidedoor_02\\22-6\\22-6_cam03_assault01_place07_night_winter_resized.mp4 to G:\\내 드라이브\\Project\\RGBLab\\ABB\\Data\\Resized\\01.폭행(assult)\\insidedoor_02\\22-6\\22-6_cam03_assault01_place07_night_winter_resized.mp4\n"
     ]
    },
    {
     "name": "stderr",
     "output_type": "stream",
     "text": [
      "Copying files: 991it [02:30, 23.06it/s]"
     ]
    },
    {
     "name": "stdout",
     "output_type": "stream",
     "text": [
      "Copying G:\\내 드라이브\\Project\\RGBLab\\ABB\\Data\\01.폭행(assult)\\insidedoor_02\\22-6\\22-6_cam02_assault01_place07_night_winter_resized.mp4 to G:\\내 드라이브\\Project\\RGBLab\\ABB\\Data\\Resized\\01.폭행(assult)\\insidedoor_02\\22-6\\22-6_cam02_assault01_place07_night_winter_resized.mp4\n",
      "Copying G:\\내 드라이브\\Project\\RGBLab\\ABB\\Data\\01.폭행(assult)\\insidedoor_02\\22-6\\22-6_cam01_assault01_place07_night_spring_resized.mp4 to G:\\내 드라이브\\Project\\RGBLab\\ABB\\Data\\Resized\\01.폭행(assult)\\insidedoor_02\\22-6\\22-6_cam01_assault01_place07_night_spring_resized.mp4\n",
      "Copying G:\\내 드라이브\\Project\\RGBLab\\ABB\\Data\\01.폭행(assult)\\insidedoor_02\\22-6\\22-6_cam02_assault01_place07_night_spring_resized.mp4 to G:\\내 드라이브\\Project\\RGBLab\\ABB\\Data\\Resized\\01.폭행(assult)\\insidedoor_02\\22-6\\22-6_cam02_assault01_place07_night_spring_resized.mp4\n",
      "Copying G:\\내 드라이브\\Project\\RGBLab\\ABB\\Data\\01.폭행(assult)\\insidedoor_02\\22-6\\22-6_cam01_assault01_place07_night_summer_resized.mp4 to G:\\내 드라이브\\Project\\RGBLab\\ABB\\Data\\Resized\\01.폭행(assult)\\insidedoor_02\\22-6\\22-6_cam01_assault01_place07_night_summer_resized.mp4\n",
      "Copying G:\\내 드라이브\\Project\\RGBLab\\ABB\\Data\\01.폭행(assult)\\insidedoor_02\\22-6\\22-6_cam02_assault01_place07_night_summer_resized.mp4 to G:\\내 드라이브\\Project\\RGBLab\\ABB\\Data\\Resized\\01.폭행(assult)\\insidedoor_02\\22-6\\22-6_cam02_assault01_place07_night_summer_resized.mp4\n"
     ]
    },
    {
     "name": "stderr",
     "output_type": "stream",
     "text": [
      "Copying files: 997it [02:30, 22.03it/s]"
     ]
    },
    {
     "name": "stdout",
     "output_type": "stream",
     "text": [
      "Copying G:\\내 드라이브\\Project\\RGBLab\\ABB\\Data\\01.폭행(assult)\\insidedoor_02\\22-6\\22-6_cam01_assault01_place07_night_winter_resized.mp4 to G:\\내 드라이브\\Project\\RGBLab\\ABB\\Data\\Resized\\01.폭행(assult)\\insidedoor_02\\22-6\\22-6_cam01_assault01_place07_night_winter_resized.mp4\n",
      "Copying G:\\내 드라이브\\Project\\RGBLab\\ABB\\Data\\01.폭행(assult)\\insidedoor_04\\26-2\\26-2_cam03_assault01_place01_night_spring_resized.mp4 to G:\\내 드라이브\\Project\\RGBLab\\ABB\\Data\\Resized\\01.폭행(assult)\\insidedoor_04\\26-2\\26-2_cam03_assault01_place01_night_spring_resized.mp4\n",
      "Copying G:\\내 드라이브\\Project\\RGBLab\\ABB\\Data\\01.폭행(assult)\\insidedoor_04\\26-2\\26-2_cam03_assault01_place01_night_winter_resized.mp4 to G:\\내 드라이브\\Project\\RGBLab\\ABB\\Data\\Resized\\01.폭행(assult)\\insidedoor_04\\26-2\\26-2_cam03_assault01_place01_night_winter_resized.mp4\n",
      "Copying G:\\내 드라이브\\Project\\RGBLab\\ABB\\Data\\01.폭행(assult)\\insidedoor_04\\26-2\\26-2_cam03_assault01_place01_night_summer_resized.mp4 to G:\\내 드라이브\\Project\\RGBLab\\ABB\\Data\\Resized\\01.폭행(assult)\\insidedoor_04\\26-2\\26-2_cam03_assault01_place01_night_summer_resized.mp4\n"
     ]
    },
    {
     "name": "stderr",
     "output_type": "stream",
     "text": [
      "Copying files: 997it [02:30, 22.03it/s]"
     ]
    },
    {
     "name": "stdout",
     "output_type": "stream",
     "text": [
      "Copying G:\\내 드라이브\\Project\\RGBLab\\ABB\\Data\\01.폭행(assult)\\insidedoor_04\\26-2\\26-2_cam01_assault01_place01_night_winter_resized.mp4 to G:\\내 드라이브\\Project\\RGBLab\\ABB\\Data\\Resized\\01.폭행(assult)\\insidedoor_04\\26-2\\26-2_cam01_assault01_place01_night_winter_resized.mp4\n",
      "Copying G:\\내 드라이브\\Project\\RGBLab\\ABB\\Data\\01.폭행(assult)\\insidedoor_04\\26-2\\26-2_cam01_assault01_place01_night_spring_resized.mp4 to G:\\내 드라이브\\Project\\RGBLab\\ABB\\Data\\Resized\\01.폭행(assult)\\insidedoor_04\\26-2\\26-2_cam01_assault01_place01_night_spring_resized.mp4\n",
      "Copying G:\\내 드라이브\\Project\\RGBLab\\ABB\\Data\\01.폭행(assult)\\insidedoor_04\\26-2\\26-2_cam01_assault01_place01_night_summer_resized.mp4 to G:\\내 드라이브\\Project\\RGBLab\\ABB\\Data\\Resized\\01.폭행(assult)\\insidedoor_04\\26-2\\26-2_cam01_assault01_place01_night_summer_resized.mp4\n"
     ]
    },
    {
     "name": "stderr",
     "output_type": "stream",
     "text": [
      "Copying files: 1002it [02:31,  6.74it/s]"
     ]
    },
    {
     "name": "stdout",
     "output_type": "stream",
     "text": [
      "Copying G:\\내 드라이브\\Project\\RGBLab\\ABB\\Data\\01.폭행(assult)\\insidedoor_04\\26-2\\26-2_cam02_assault01_place01_night_spring_resized.mp4 to G:\\내 드라이브\\Project\\RGBLab\\ABB\\Data\\Resized\\01.폭행(assult)\\insidedoor_04\\26-2\\26-2_cam02_assault01_place01_night_spring_resized.mp4\n",
      "Copying G:\\내 드라이브\\Project\\RGBLab\\ABB\\Data\\01.폭행(assult)\\insidedoor_04\\26-2\\26-2_cam02_assault01_place01_night_winter_resized.mp4 to G:\\내 드라이브\\Project\\RGBLab\\ABB\\Data\\Resized\\01.폭행(assult)\\insidedoor_04\\26-2\\26-2_cam02_assault01_place01_night_winter_resized.mp4\n",
      "Copying G:\\내 드라이브\\Project\\RGBLab\\ABB\\Data\\01.폭행(assult)\\insidedoor_04\\26-2\\26-2_cam02_assault01_place01_night_summer_resized.mp4 to G:\\내 드라이브\\Project\\RGBLab\\ABB\\Data\\Resized\\01.폭행(assult)\\insidedoor_04\\26-2\\26-2_cam02_assault01_place01_night_summer_resized.mp4\n"
     ]
    },
    {
     "name": "stderr",
     "output_type": "stream",
     "text": [
      "Copying files: 1006it [02:32,  9.17it/s]"
     ]
    },
    {
     "name": "stdout",
     "output_type": "stream",
     "text": [
      "Copying G:\\내 드라이브\\Project\\RGBLab\\ABB\\Data\\01.폭행(assult)\\insidedoor_04\\26-3\\26-3_cam03_assault01_place01_night_summer_resized.mp4 to G:\\내 드라이브\\Project\\RGBLab\\ABB\\Data\\Resized\\01.폭행(assult)\\insidedoor_04\\26-3\\26-3_cam03_assault01_place01_night_summer_resized.mp4\n",
      "Copying G:\\내 드라이브\\Project\\RGBLab\\ABB\\Data\\01.폭행(assult)\\insidedoor_04\\26-3\\26-3_cam01_assault01_place01_night_winter_resized.mp4 to G:\\내 드라이브\\Project\\RGBLab\\ABB\\Data\\Resized\\01.폭행(assult)\\insidedoor_04\\26-3\\26-3_cam01_assault01_place01_night_winter_resized.mp4\n",
      "Copying G:\\내 드라이브\\Project\\RGBLab\\ABB\\Data\\01.폭행(assult)\\insidedoor_04\\26-3\\26-3_cam02_assault01_place01_night_summer_resized.mp4 to G:\\내 드라이브\\Project\\RGBLab\\ABB\\Data\\Resized\\01.폭행(assult)\\insidedoor_04\\26-3\\26-3_cam02_assault01_place01_night_summer_resized.mp4\n",
      "Copying G:\\내 드라이브\\Project\\RGBLab\\ABB\\Data\\01.폭행(assult)\\insidedoor_04\\26-3\\26-3_cam01_assault01_place01_night_spring_resized.mp4 to G:\\내 드라이브\\Project\\RGBLab\\ABB\\Data\\Resized\\01.폭행(assult)\\insidedoor_04\\26-3\\26-3_cam01_assault01_place01_night_spring_resized.mp4\n"
     ]
    },
    {
     "name": "stderr",
     "output_type": "stream",
     "text": [
      "Copying files: 1010it [02:32, 11.17it/s]"
     ]
    },
    {
     "name": "stdout",
     "output_type": "stream",
     "text": [
      "Copying G:\\내 드라이브\\Project\\RGBLab\\ABB\\Data\\01.폭행(assult)\\insidedoor_04\\26-3\\26-3_cam02_assault01_place01_night_winter_resized.mp4 to G:\\내 드라이브\\Project\\RGBLab\\ABB\\Data\\Resized\\01.폭행(assult)\\insidedoor_04\\26-3\\26-3_cam02_assault01_place01_night_winter_resized.mp4\n",
      "Copying G:\\내 드라이브\\Project\\RGBLab\\ABB\\Data\\01.폭행(assult)\\insidedoor_04\\26-3\\26-3_cam02_assault01_place01_night_spring_resized.mp4 to G:\\내 드라이브\\Project\\RGBLab\\ABB\\Data\\Resized\\01.폭행(assult)\\insidedoor_04\\26-3\\26-3_cam02_assault01_place01_night_spring_resized.mp4\n",
      "Copying G:\\내 드라이브\\Project\\RGBLab\\ABB\\Data\\01.폭행(assult)\\insidedoor_04\\26-3\\26-3_cam03_assault01_place01_night_spring_resized.mp4 to G:\\내 드라이브\\Project\\RGBLab\\ABB\\Data\\Resized\\01.폭행(assult)\\insidedoor_04\\26-3\\26-3_cam03_assault01_place01_night_spring_resized.mp4\n"
     ]
    },
    {
     "name": "stderr",
     "output_type": "stream",
     "text": [
      "Copying files: 1013it [02:32, 13.25it/s]"
     ]
    },
    {
     "name": "stdout",
     "output_type": "stream",
     "text": [
      "Copying G:\\내 드라이브\\Project\\RGBLab\\ABB\\Data\\01.폭행(assult)\\insidedoor_04\\26-3\\26-3_cam03_assault01_place01_night_winter_resized.mp4 to G:\\내 드라이브\\Project\\RGBLab\\ABB\\Data\\Resized\\01.폭행(assult)\\insidedoor_04\\26-3\\26-3_cam03_assault01_place01_night_winter_resized.mp4\n",
      "Copying G:\\내 드라이브\\Project\\RGBLab\\ABB\\Data\\01.폭행(assult)\\insidedoor_04\\26-3\\26-3_cam01_assault01_place01_night_summer_resized.mp4 to G:\\내 드라이브\\Project\\RGBLab\\ABB\\Data\\Resized\\01.폭행(assult)\\insidedoor_04\\26-3\\26-3_cam01_assault01_place01_night_summer_resized.mp4\n",
      "Copying G:\\내 드라이브\\Project\\RGBLab\\ABB\\Data\\01.폭행(assult)\\insidedoor_04\\26-4\\26-4_cam02_assault01_place01_night_summer_resized.mp4 to G:\\내 드라이브\\Project\\RGBLab\\ABB\\Data\\Resized\\01.폭행(assult)\\insidedoor_04\\26-4\\26-4_cam02_assault01_place01_night_summer_resized.mp4\n",
      "Copying G:\\내 드라이브\\Project\\RGBLab\\ABB\\Data\\01.폭행(assult)\\insidedoor_04\\26-4\\26-4_cam01_assault01_place01_night_spring_resized.mp4 to G:\\내 드라이브\\Project\\RGBLab\\ABB\\Data\\Resized\\01.폭행(assult)\\insidedoor_04\\26-4\\26-4_cam01_assault01_place01_night_spring_resized.mp4\n"
     ]
    },
    {
     "name": "stderr",
     "output_type": "stream",
     "text": [
      "Copying files: 1017it [02:32, 14.55it/s]"
     ]
    },
    {
     "name": "stdout",
     "output_type": "stream",
     "text": [
      "Copying G:\\내 드라이브\\Project\\RGBLab\\ABB\\Data\\01.폭행(assult)\\insidedoor_04\\26-4\\26-4_cam01_assault01_place01_night_winter_resized.mp4 to G:\\내 드라이브\\Project\\RGBLab\\ABB\\Data\\Resized\\01.폭행(assult)\\insidedoor_04\\26-4\\26-4_cam01_assault01_place01_night_winter_resized.mp4\n",
      "Copying G:\\내 드라이브\\Project\\RGBLab\\ABB\\Data\\01.폭행(assult)\\insidedoor_04\\26-4\\26-4_cam01_assault01_place01_night_summer_resized.mp4 to G:\\내 드라이브\\Project\\RGBLab\\ABB\\Data\\Resized\\01.폭행(assult)\\insidedoor_04\\26-4\\26-4_cam01_assault01_place01_night_summer_resized.mp4\n",
      "Copying G:\\내 드라이브\\Project\\RGBLab\\ABB\\Data\\01.폭행(assult)\\insidedoor_04\\26-4\\26-4_cam02_assault01_place01_night_spring_resized.mp4 to G:\\내 드라이브\\Project\\RGBLab\\ABB\\Data\\Resized\\01.폭행(assult)\\insidedoor_04\\26-4\\26-4_cam02_assault01_place01_night_spring_resized.mp4\n"
     ]
    },
    {
     "name": "stderr",
     "output_type": "stream",
     "text": [
      "Copying files: 1019it [02:32, 15.13it/s]"
     ]
    },
    {
     "name": "stdout",
     "output_type": "stream",
     "text": [
      "Copying G:\\내 드라이브\\Project\\RGBLab\\ABB\\Data\\01.폭행(assult)\\insidedoor_04\\26-4\\26-4_cam03_assault01_place01_night_summer_resized.mp4 to G:\\내 드라이브\\Project\\RGBLab\\ABB\\Data\\Resized\\01.폭행(assult)\\insidedoor_04\\26-4\\26-4_cam03_assault01_place01_night_summer_resized.mp4\n",
      "Copying G:\\내 드라이브\\Project\\RGBLab\\ABB\\Data\\01.폭행(assult)\\insidedoor_04\\26-4\\26-4_cam02_assault01_place01_night_winter_resized.mp4 to G:\\내 드라이브\\Project\\RGBLab\\ABB\\Data\\Resized\\01.폭행(assult)\\insidedoor_04\\26-4\\26-4_cam02_assault01_place01_night_winter_resized.mp4\n",
      "Copying G:\\내 드라이브\\Project\\RGBLab\\ABB\\Data\\01.폭행(assult)\\insidedoor_04\\26-4\\26-4_cam03_assault01_place01_night_spring_resized.mp4 to G:\\내 드라이브\\Project\\RGBLab\\ABB\\Data\\Resized\\01.폭행(assult)\\insidedoor_04\\26-4\\26-4_cam03_assault01_place01_night_spring_resized.mp4\n"
     ]
    },
    {
     "name": "stderr",
     "output_type": "stream",
     "text": [
      "Copying files: 1023it [02:37,  2.14it/s]"
     ]
    },
    {
     "name": "stdout",
     "output_type": "stream",
     "text": [
      "Copying G:\\내 드라이브\\Project\\RGBLab\\ABB\\Data\\01.폭행(assult)\\insidedoor_04\\26-4\\26-4_cam03_assault01_place01_night_winter_resized.mp4 to G:\\내 드라이브\\Project\\RGBLab\\ABB\\Data\\Resized\\01.폭행(assult)\\insidedoor_04\\26-4\\26-4_cam03_assault01_place01_night_winter_resized.mp4\n",
      "Copying G:\\내 드라이브\\Project\\RGBLab\\ABB\\Data\\01.폭행(assult)\\insidedoor_04\\26-5\\26-5_cam01_assault01_place01_night_spring_resized.mp4 to G:\\내 드라이브\\Project\\RGBLab\\ABB\\Data\\Resized\\01.폭행(assult)\\insidedoor_04\\26-5\\26-5_cam01_assault01_place01_night_spring_resized.mp4\n",
      "Copying G:\\내 드라이브\\Project\\RGBLab\\ABB\\Data\\01.폭행(assult)\\insidedoor_04\\26-5\\26-5_cam01_assault01_place01_night_summer_resized.mp4 to G:\\내 드라이브\\Project\\RGBLab\\ABB\\Data\\Resized\\01.폭행(assult)\\insidedoor_04\\26-5\\26-5_cam01_assault01_place01_night_summer_resized.mp4\n",
      "Copying G:\\내 드라이브\\Project\\RGBLab\\ABB\\Data\\01.폭행(assult)\\insidedoor_04\\26-5\\26-5_cam02_assault01_place01_night_summer_resized.mp4 to G:\\내 드라이브\\Project\\RGBLab\\ABB\\Data\\Resized\\01.폭행(assult)\\insidedoor_04\\26-5\\26-5_cam02_assault01_place01_night_summer_resized.mp4\n"
     ]
    },
    {
     "name": "stderr",
     "output_type": "stream",
     "text": [
      "Copying files: 1027it [02:37,  3.82it/s]"
     ]
    },
    {
     "name": "stdout",
     "output_type": "stream",
     "text": [
      "Copying G:\\내 드라이브\\Project\\RGBLab\\ABB\\Data\\01.폭행(assult)\\insidedoor_04\\26-5\\26-5_cam02_assault01_place01_night_spring_resized.mp4 to G:\\내 드라이브\\Project\\RGBLab\\ABB\\Data\\Resized\\01.폭행(assult)\\insidedoor_04\\26-5\\26-5_cam02_assault01_place01_night_spring_resized.mp4\n",
      "Copying G:\\내 드라이브\\Project\\RGBLab\\ABB\\Data\\01.폭행(assult)\\insidedoor_04\\26-5\\26-5_cam01_assault01_place01_night_winter_resized.mp4 to G:\\내 드라이브\\Project\\RGBLab\\ABB\\Data\\Resized\\01.폭행(assult)\\insidedoor_04\\26-5\\26-5_cam01_assault01_place01_night_winter_resized.mp4\n",
      "Copying G:\\내 드라이브\\Project\\RGBLab\\ABB\\Data\\01.폭행(assult)\\insidedoor_04\\26-5\\26-5_cam03_assault01_place01_night_summer_resized.mp4 to G:\\내 드라이브\\Project\\RGBLab\\ABB\\Data\\Resized\\01.폭행(assult)\\insidedoor_04\\26-5\\26-5_cam03_assault01_place01_night_summer_resized.mp4\n",
      "Copying G:\\내 드라이브\\Project\\RGBLab\\ABB\\Data\\01.폭행(assult)\\insidedoor_04\\26-5\\26-5_cam02_assault01_place01_night_winter_resized.mp4 to G:\\내 드라이브\\Project\\RGBLab\\ABB\\Data\\Resized\\01.폭행(assult)\\insidedoor_04\\26-5\\26-5_cam02_assault01_place01_night_winter_resized.mp4\n"
     ]
    },
    {
     "name": "stderr",
     "output_type": "stream",
     "text": [
      "Copying files: 1031it [02:39,  2.79it/s]"
     ]
    },
    {
     "name": "stdout",
     "output_type": "stream",
     "text": [
      "Copying G:\\내 드라이브\\Project\\RGBLab\\ABB\\Data\\01.폭행(assult)\\insidedoor_04\\26-5\\26-5_cam03_assault01_place01_night_spring_resized.mp4 to G:\\내 드라이브\\Project\\RGBLab\\ABB\\Data\\Resized\\01.폭행(assult)\\insidedoor_04\\26-5\\26-5_cam03_assault01_place01_night_spring_resized.mp4\n",
      "Copying G:\\내 드라이브\\Project\\RGBLab\\ABB\\Data\\01.폭행(assult)\\insidedoor_04\\26-5\\26-5_cam03_assault01_place01_night_winter_resized.mp4 to G:\\내 드라이브\\Project\\RGBLab\\ABB\\Data\\Resized\\01.폭행(assult)\\insidedoor_04\\26-5\\26-5_cam03_assault01_place01_night_winter_resized.mp4\n",
      "Copying G:\\내 드라이브\\Project\\RGBLab\\ABB\\Data\\01.폭행(assult)\\insidedoor_05\\407-2\\407-2_cam02_assault01_place04_day_winter_resized.mp4 to G:\\내 드라이브\\Project\\RGBLab\\ABB\\Data\\Resized\\01.폭행(assult)\\insidedoor_05\\407-2\\407-2_cam02_assault01_place04_day_winter_resized.mp4\n"
     ]
    },
    {
     "name": "stderr",
     "output_type": "stream",
     "text": [
      "Copying files: 1033it [02:39,  3.68it/s]"
     ]
    },
    {
     "name": "stdout",
     "output_type": "stream",
     "text": [
      "Copying G:\\내 드라이브\\Project\\RGBLab\\ABB\\Data\\01.폭행(assult)\\insidedoor_05\\407-2\\407-2_cam02_assault01_place04_day_summer_resized.mp4 to G:\\내 드라이브\\Project\\RGBLab\\ABB\\Data\\Resized\\01.폭행(assult)\\insidedoor_05\\407-2\\407-2_cam02_assault01_place04_day_summer_resized.mp4\n",
      "Copying G:\\내 드라이브\\Project\\RGBLab\\ABB\\Data\\01.폭행(assult)\\insidedoor_05\\407-2\\407-2_cam03_assault01_place04_day_spring_resized.mp4 to G:\\내 드라이브\\Project\\RGBLab\\ABB\\Data\\Resized\\01.폭행(assult)\\insidedoor_05\\407-2\\407-2_cam03_assault01_place04_day_spring_resized.mp4\n",
      "Copying G:\\내 드라이브\\Project\\RGBLab\\ABB\\Data\\01.폭행(assult)\\insidedoor_05\\407-2\\407-2_cam02_assault01_place04_day_spring_resized.mp4 to G:\\내 드라이브\\Project\\RGBLab\\ABB\\Data\\Resized\\01.폭행(assult)\\insidedoor_05\\407-2\\407-2_cam02_assault01_place04_day_spring_resized.mp4\n"
     ]
    },
    {
     "name": "stderr",
     "output_type": "stream",
     "text": [
      "Copying files: 1036it [02:39,  5.41it/s]"
     ]
    },
    {
     "name": "stdout",
     "output_type": "stream",
     "text": [
      "Copying G:\\내 드라이브\\Project\\RGBLab\\ABB\\Data\\01.폭행(assult)\\insidedoor_05\\407-2\\407-2_cam03_assault01_place04_day_winter_resized.mp4 to G:\\내 드라이브\\Project\\RGBLab\\ABB\\Data\\Resized\\01.폭행(assult)\\insidedoor_05\\407-2\\407-2_cam03_assault01_place04_day_winter_resized.mp4\n",
      "Copying G:\\내 드라이브\\Project\\RGBLab\\ABB\\Data\\01.폭행(assult)\\insidedoor_05\\407-2\\407-2_cam01_assault01_place04_day_winter_resized.mp4 to G:\\내 드라이브\\Project\\RGBLab\\ABB\\Data\\Resized\\01.폭행(assult)\\insidedoor_05\\407-2\\407-2_cam01_assault01_place04_day_winter_resized.mp4\n",
      "Copying G:\\내 드라이브\\Project\\RGBLab\\ABB\\Data\\01.폭행(assult)\\insidedoor_05\\407-2\\407-2_cam03_assault01_place04_day_summer_resized.mp4 to G:\\내 드라이브\\Project\\RGBLab\\ABB\\Data\\Resized\\01.폭행(assult)\\insidedoor_05\\407-2\\407-2_cam03_assault01_place04_day_summer_resized.mp4\n"
     ]
    },
    {
     "name": "stderr",
     "output_type": "stream",
     "text": [
      "Copying files: 1038it [02:41,  2.76it/s]"
     ]
    },
    {
     "name": "stdout",
     "output_type": "stream",
     "text": [
      "Copying G:\\내 드라이브\\Project\\RGBLab\\ABB\\Data\\01.폭행(assult)\\insidedoor_05\\407-2\\407-2_cam01_assault01_place04_day_summer_resized.mp4 to G:\\내 드라이브\\Project\\RGBLab\\ABB\\Data\\Resized\\01.폭행(assult)\\insidedoor_05\\407-2\\407-2_cam01_assault01_place04_day_summer_resized.mp4\n",
      "Copying G:\\내 드라이브\\Project\\RGBLab\\ABB\\Data\\01.폭행(assult)\\insidedoor_05\\407-2\\407-2_cam01_assault01_place04_day_spring_resized.mp4 to G:\\내 드라이브\\Project\\RGBLab\\ABB\\Data\\Resized\\01.폭행(assult)\\insidedoor_05\\407-2\\407-2_cam01_assault01_place04_day_spring_resized.mp4\n",
      "Copying G:\\내 드라이브\\Project\\RGBLab\\ABB\\Data\\01.폭행(assult)\\insidedoor_05\\407-3\\407-3_cam03_assault01_place04_day_spring_resized.mp4 to G:\\내 드라이브\\Project\\RGBLab\\ABB\\Data\\Resized\\01.폭행(assult)\\insidedoor_05\\407-3\\407-3_cam03_assault01_place04_day_spring_resized.mp4\n"
     ]
    },
    {
     "name": "stderr",
     "output_type": "stream",
     "text": [
      "Copying files: 1040it [02:41,  3.55it/s]"
     ]
    },
    {
     "name": "stdout",
     "output_type": "stream",
     "text": [
      "Copying G:\\내 드라이브\\Project\\RGBLab\\ABB\\Data\\01.폭행(assult)\\insidedoor_05\\407-3\\407-3_cam02_assault01_place04_day_spring_resized.mp4 to G:\\내 드라이브\\Project\\RGBLab\\ABB\\Data\\Resized\\01.폭행(assult)\\insidedoor_05\\407-3\\407-3_cam02_assault01_place04_day_spring_resized.mp4\n"
     ]
    },
    {
     "name": "stderr",
     "output_type": "stream",
     "text": [
      "Copying files: 1042it [02:43,  2.10it/s]"
     ]
    },
    {
     "name": "stdout",
     "output_type": "stream",
     "text": [
      "Copying G:\\내 드라이브\\Project\\RGBLab\\ABB\\Data\\01.폭행(assult)\\insidedoor_05\\407-3\\407-3_cam03_assault01_place04_day_winter_resized.mp4 to G:\\내 드라이브\\Project\\RGBLab\\ABB\\Data\\Resized\\01.폭행(assult)\\insidedoor_05\\407-3\\407-3_cam03_assault01_place04_day_winter_resized.mp4\n",
      "Copying G:\\내 드라이브\\Project\\RGBLab\\ABB\\Data\\01.폭행(assult)\\insidedoor_05\\407-3\\407-3_cam02_assault01_place04_day_winter_resized.mp4 to G:\\내 드라이브\\Project\\RGBLab\\ABB\\Data\\Resized\\01.폭행(assult)\\insidedoor_05\\407-3\\407-3_cam02_assault01_place04_day_winter_resized.mp4\n",
      "Copying G:\\내 드라이브\\Project\\RGBLab\\ABB\\Data\\01.폭행(assult)\\insidedoor_05\\407-3\\407-3_cam02_assault01_place04_day_summer_resized.mp4 to G:\\내 드라이브\\Project\\RGBLab\\ABB\\Data\\Resized\\01.폭행(assult)\\insidedoor_05\\407-3\\407-3_cam02_assault01_place04_day_summer_resized.mp4\n"
     ]
    },
    {
     "name": "stderr",
     "output_type": "stream",
     "text": [
      "Copying files: 1046it [02:43,  3.64it/s]"
     ]
    },
    {
     "name": "stdout",
     "output_type": "stream",
     "text": [
      "Copying G:\\내 드라이브\\Project\\RGBLab\\ABB\\Data\\01.폭행(assult)\\insidedoor_05\\407-3\\407-3_cam01_assault01_place04_day_winter_resized.mp4 to G:\\내 드라이브\\Project\\RGBLab\\ABB\\Data\\Resized\\01.폭행(assult)\\insidedoor_05\\407-3\\407-3_cam01_assault01_place04_day_winter_resized.mp4\n",
      "Copying G:\\내 드라이브\\Project\\RGBLab\\ABB\\Data\\01.폭행(assult)\\insidedoor_05\\407-3\\407-3_cam01_assault01_place04_day_spring_resized.mp4 to G:\\내 드라이브\\Project\\RGBLab\\ABB\\Data\\Resized\\01.폭행(assult)\\insidedoor_05\\407-3\\407-3_cam01_assault01_place04_day_spring_resized.mp4\n",
      "Copying G:\\내 드라이브\\Project\\RGBLab\\ABB\\Data\\01.폭행(assult)\\insidedoor_05\\407-3\\407-3_cam03_assault01_place04_day_summer_resized.mp4 to G:\\내 드라이브\\Project\\RGBLab\\ABB\\Data\\Resized\\01.폭행(assult)\\insidedoor_05\\407-3\\407-3_cam03_assault01_place04_day_summer_resized.mp4\n"
     ]
    },
    {
     "name": "stderr",
     "output_type": "stream",
     "text": [
      "Copying files: 1050it [02:44,  5.89it/s]"
     ]
    },
    {
     "name": "stdout",
     "output_type": "stream",
     "text": [
      "Copying G:\\내 드라이브\\Project\\RGBLab\\ABB\\Data\\01.폭행(assult)\\insidedoor_05\\407-3\\407-3_cam01_assault01_place04_day_summer_resized.mp4 to G:\\내 드라이브\\Project\\RGBLab\\ABB\\Data\\Resized\\01.폭행(assult)\\insidedoor_05\\407-3\\407-3_cam01_assault01_place04_day_summer_resized.mp4\n",
      "Copying G:\\내 드라이브\\Project\\RGBLab\\ABB\\Data\\01.폭행(assult)\\insidedoor_05\\407-4\\407-4_cam01_assault01_place04_day_spring_resized.mp4 to G:\\내 드라이브\\Project\\RGBLab\\ABB\\Data\\Resized\\01.폭행(assult)\\insidedoor_05\\407-4\\407-4_cam01_assault01_place04_day_spring_resized.mp4\n",
      "Copying G:\\내 드라이브\\Project\\RGBLab\\ABB\\Data\\01.폭행(assult)\\insidedoor_05\\407-4\\407-4_cam01_assault01_place04_day_summer_resized.mp4 to G:\\내 드라이브\\Project\\RGBLab\\ABB\\Data\\Resized\\01.폭행(assult)\\insidedoor_05\\407-4\\407-4_cam01_assault01_place04_day_summer_resized.mp4\n"
     ]
    },
    {
     "name": "stderr",
     "output_type": "stream",
     "text": [
      "Copying files: 1052it [02:44,  7.17it/s]"
     ]
    },
    {
     "name": "stdout",
     "output_type": "stream",
     "text": [
      "Copying G:\\내 드라이브\\Project\\RGBLab\\ABB\\Data\\01.폭행(assult)\\insidedoor_05\\407-4\\407-4_cam02_assault01_place04_day_spring_resized.mp4 to G:\\내 드라이브\\Project\\RGBLab\\ABB\\Data\\Resized\\01.폭행(assult)\\insidedoor_05\\407-4\\407-4_cam02_assault01_place04_day_spring_resized.mp4\n",
      "Copying G:\\내 드라이브\\Project\\RGBLab\\ABB\\Data\\01.폭행(assult)\\insidedoor_05\\407-4\\407-4_cam01_assault01_place04_day_winter_resized.mp4 to G:\\내 드라이브\\Project\\RGBLab\\ABB\\Data\\Resized\\01.폭행(assult)\\insidedoor_05\\407-4\\407-4_cam01_assault01_place04_day_winter_resized.mp4\n",
      "Copying G:\\내 드라이브\\Project\\RGBLab\\ABB\\Data\\01.폭행(assult)\\insidedoor_05\\407-4\\407-4_cam03_assault01_place04_day_summer_resized.mp4 to G:\\내 드라이브\\Project\\RGBLab\\ABB\\Data\\Resized\\01.폭행(assult)\\insidedoor_05\\407-4\\407-4_cam03_assault01_place04_day_summer_resized.mp4\n"
     ]
    },
    {
     "name": "stderr",
     "output_type": "stream",
     "text": [
      "Copying files: 1056it [02:44,  9.70it/s]"
     ]
    },
    {
     "name": "stdout",
     "output_type": "stream",
     "text": [
      "Copying G:\\내 드라이브\\Project\\RGBLab\\ABB\\Data\\01.폭행(assult)\\insidedoor_05\\407-4\\407-4_cam03_assault01_place04_day_spring_resized.mp4 to G:\\내 드라이브\\Project\\RGBLab\\ABB\\Data\\Resized\\01.폭행(assult)\\insidedoor_05\\407-4\\407-4_cam03_assault01_place04_day_spring_resized.mp4\n",
      "Copying G:\\내 드라이브\\Project\\RGBLab\\ABB\\Data\\01.폭행(assult)\\insidedoor_05\\407-4\\407-4_cam03_assault01_place04_day_winter_resized.mp4 to G:\\내 드라이브\\Project\\RGBLab\\ABB\\Data\\Resized\\01.폭행(assult)\\insidedoor_05\\407-4\\407-4_cam03_assault01_place04_day_winter_resized.mp4\n",
      "Copying G:\\내 드라이브\\Project\\RGBLab\\ABB\\Data\\01.폭행(assult)\\insidedoor_05\\407-4\\407-4_cam02_assault01_place04_day_summer_resized.mp4 to G:\\내 드라이브\\Project\\RGBLab\\ABB\\Data\\Resized\\01.폭행(assult)\\insidedoor_05\\407-4\\407-4_cam02_assault01_place04_day_summer_resized.mp4\n"
     ]
    },
    {
     "name": "stderr",
     "output_type": "stream",
     "text": [
      "Copying files: 1058it [02:44, 10.67it/s]"
     ]
    },
    {
     "name": "stdout",
     "output_type": "stream",
     "text": [
      "Copying G:\\내 드라이브\\Project\\RGBLab\\ABB\\Data\\01.폭행(assult)\\insidedoor_05\\407-4\\407-4_cam02_assault01_place04_day_winter_resized.mp4 to G:\\내 드라이브\\Project\\RGBLab\\ABB\\Data\\Resized\\01.폭행(assult)\\insidedoor_05\\407-4\\407-4_cam02_assault01_place04_day_winter_resized.mp4\n",
      "Copying G:\\내 드라이브\\Project\\RGBLab\\ABB\\Data\\01.폭행(assult)\\insidedoor_06\\407-6\\407-6_cam02_assault01_place04_day_winter_resized.mp4 to G:\\내 드라이브\\Project\\RGBLab\\ABB\\Data\\Resized\\01.폭행(assult)\\insidedoor_06\\407-6\\407-6_cam02_assault01_place04_day_winter_resized.mp4\n",
      "Copying G:\\내 드라이브\\Project\\RGBLab\\ABB\\Data\\01.폭행(assult)\\insidedoor_06\\407-6\\407-6_cam01_assault01_place04_day_winter_resized.mp4 to G:\\내 드라이브\\Project\\RGBLab\\ABB\\Data\\Resized\\01.폭행(assult)\\insidedoor_06\\407-6\\407-6_cam01_assault01_place04_day_winter_resized.mp4\n"
     ]
    },
    {
     "name": "stderr",
     "output_type": "stream",
     "text": [
      "Copying files: 1060it [02:44, 11.71it/s]"
     ]
    },
    {
     "name": "stdout",
     "output_type": "stream",
     "text": [
      "Copying G:\\내 드라이브\\Project\\RGBLab\\ABB\\Data\\01.폭행(assult)\\insidedoor_06\\407-6\\407-6_cam03_assault01_place04_day_spring_resized.mp4 to G:\\내 드라이브\\Project\\RGBLab\\ABB\\Data\\Resized\\01.폭행(assult)\\insidedoor_06\\407-6\\407-6_cam03_assault01_place04_day_spring_resized.mp4\n",
      "Copying G:\\내 드라이브\\Project\\RGBLab\\ABB\\Data\\01.폭행(assult)\\insidedoor_06\\407-6\\407-6_cam01_assault01_place04_day_spring_resized.mp4 to G:\\내 드라이브\\Project\\RGBLab\\ABB\\Data\\Resized\\01.폭행(assult)\\insidedoor_06\\407-6\\407-6_cam01_assault01_place04_day_spring_resized.mp4\n",
      "Copying G:\\내 드라이브\\Project\\RGBLab\\ABB\\Data\\01.폭행(assult)\\insidedoor_06\\407-6\\407-6_cam02_assault01_place04_day_spring_resized.mp4 to G:\\내 드라이브\\Project\\RGBLab\\ABB\\Data\\Resized\\01.폭행(assult)\\insidedoor_06\\407-6\\407-6_cam02_assault01_place04_day_spring_resized.mp4\n"
     ]
    },
    {
     "name": "stderr",
     "output_type": "stream",
     "text": [
      "Copying files: 1064it [02:45, 12.47it/s]"
     ]
    },
    {
     "name": "stdout",
     "output_type": "stream",
     "text": [
      "Copying G:\\내 드라이브\\Project\\RGBLab\\ABB\\Data\\01.폭행(assult)\\insidedoor_06\\407-6\\407-6_cam01_assault01_place04_day_summer_resized.mp4 to G:\\내 드라이브\\Project\\RGBLab\\ABB\\Data\\Resized\\01.폭행(assult)\\insidedoor_06\\407-6\\407-6_cam01_assault01_place04_day_summer_resized.mp4\n",
      "Copying G:\\내 드라이브\\Project\\RGBLab\\ABB\\Data\\01.폭행(assult)\\insidedoor_06\\407-6\\407-6_cam03_assault01_place04_day_summer_resized.mp4 to G:\\내 드라이브\\Project\\RGBLab\\ABB\\Data\\Resized\\01.폭행(assult)\\insidedoor_06\\407-6\\407-6_cam03_assault01_place04_day_summer_resized.mp4\n",
      "Copying G:\\내 드라이브\\Project\\RGBLab\\ABB\\Data\\01.폭행(assult)\\insidedoor_06\\407-6\\407-6_cam02_assault01_place04_day_summer_resized.mp4 to G:\\내 드라이브\\Project\\RGBLab\\ABB\\Data\\Resized\\01.폭행(assult)\\insidedoor_06\\407-6\\407-6_cam02_assault01_place04_day_summer_resized.mp4\n"
     ]
    },
    {
     "name": "stderr",
     "output_type": "stream",
     "text": [
      "Copying files: 1064it [02:46, 12.47it/s]"
     ]
    },
    {
     "name": "stdout",
     "output_type": "stream",
     "text": [
      "Copying G:\\내 드라이브\\Project\\RGBLab\\ABB\\Data\\01.폭행(assult)\\insidedoor_06\\407-6\\407-6_cam03_assault01_place04_day_winter_resized.mp4 to G:\\내 드라이브\\Project\\RGBLab\\ABB\\Data\\Resized\\01.폭행(assult)\\insidedoor_06\\407-6\\407-6_cam03_assault01_place04_day_winter_resized.mp4\n"
     ]
    },
    {
     "name": "stderr",
     "output_type": "stream",
     "text": [
      "Copying files: 1066it [02:48,  1.82it/s]"
     ]
    },
    {
     "name": "stdout",
     "output_type": "stream",
     "text": [
      "Copying G:\\내 드라이브\\Project\\RGBLab\\ABB\\Data\\01.폭행(assult)\\insidedoor_06\\411-2\\411-2_cam02_assault01_place08_night_summer_resized.mp4 to G:\\내 드라이브\\Project\\RGBLab\\ABB\\Data\\Resized\\01.폭행(assult)\\insidedoor_06\\411-2\\411-2_cam02_assault01_place08_night_summer_resized.mp4\n"
     ]
    },
    {
     "name": "stderr",
     "output_type": "stream",
     "text": [
      "Copying files: 1067it [02:49,  1.54it/s]"
     ]
    },
    {
     "name": "stdout",
     "output_type": "stream",
     "text": [
      "Copying G:\\내 드라이브\\Project\\RGBLab\\ABB\\Data\\01.폭행(assult)\\insidedoor_06\\411-2\\411-2_cam03_assault01_place08_night_winter_resized.mp4 to G:\\내 드라이브\\Project\\RGBLab\\ABB\\Data\\Resized\\01.폭행(assult)\\insidedoor_06\\411-2\\411-2_cam03_assault01_place08_night_winter_resized.mp4\n"
     ]
    },
    {
     "name": "stderr",
     "output_type": "stream",
     "text": [
      "Copying files: 1071it [02:50,  2.30it/s]"
     ]
    },
    {
     "name": "stdout",
     "output_type": "stream",
     "text": [
      "Copying G:\\내 드라이브\\Project\\RGBLab\\ABB\\Data\\01.폭행(assult)\\insidedoor_06\\411-2\\411-2_cam01_assault01_place08_night_summer_resized.mp4 to G:\\내 드라이브\\Project\\RGBLab\\ABB\\Data\\Resized\\01.폭행(assult)\\insidedoor_06\\411-2\\411-2_cam01_assault01_place08_night_summer_resized.mp4\n",
      "Copying G:\\내 드라이브\\Project\\RGBLab\\ABB\\Data\\01.폭행(assult)\\insidedoor_06\\411-2\\411-2_cam02_assault01_place08_night_spring_resized.mp4 to G:\\내 드라이브\\Project\\RGBLab\\ABB\\Data\\Resized\\01.폭행(assult)\\insidedoor_06\\411-2\\411-2_cam02_assault01_place08_night_spring_resized.mp4\n",
      "Copying G:\\내 드라이브\\Project\\RGBLab\\ABB\\Data\\01.폭행(assult)\\insidedoor_06\\411-2\\411-2_cam03_assault01_place08_night_spring_resized.mp4 to G:\\내 드라이브\\Project\\RGBLab\\ABB\\Data\\Resized\\01.폭행(assult)\\insidedoor_06\\411-2\\411-2_cam03_assault01_place08_night_spring_resized.mp4\n",
      "Copying G:\\내 드라이브\\Project\\RGBLab\\ABB\\Data\\01.폭행(assult)\\insidedoor_06\\411-2\\411-2_cam03_assault01_place08_night_summer_resized.mp4 to G:\\내 드라이브\\Project\\RGBLab\\ABB\\Data\\Resized\\01.폭행(assult)\\insidedoor_06\\411-2\\411-2_cam03_assault01_place08_night_summer_resized.mp4\n"
     ]
    },
    {
     "name": "stderr",
     "output_type": "stream",
     "text": [
      "Copying files: 1071it [02:52,  2.30it/s]"
     ]
    },
    {
     "name": "stdout",
     "output_type": "stream",
     "text": [
      "Copying G:\\내 드라이브\\Project\\RGBLab\\ABB\\Data\\01.폭행(assult)\\insidedoor_06\\411-2\\411-2_cam01_assault01_place08_night_winter_resized.mp4 to G:\\내 드라이브\\Project\\RGBLab\\ABB\\Data\\Resized\\01.폭행(assult)\\insidedoor_06\\411-2\\411-2_cam01_assault01_place08_night_winter_resized.mp4\n"
     ]
    },
    {
     "name": "stderr",
     "output_type": "stream",
     "text": [
      "Copying files: 1079it [02:53,  3.66it/s]"
     ]
    },
    {
     "name": "stdout",
     "output_type": "stream",
     "text": [
      "Copying G:\\내 드라이브\\Project\\RGBLab\\ABB\\Data\\01.폭행(assult)\\insidedoor_06\\411-2\\411-2_cam01_assault01_place08_night_spring_resized.mp4 to G:\\내 드라이브\\Project\\RGBLab\\ABB\\Data\\Resized\\01.폭행(assult)\\insidedoor_06\\411-2\\411-2_cam01_assault01_place08_night_spring_resized.mp4\n",
      "Copying G:\\내 드라이브\\Project\\RGBLab\\ABB\\Data\\01.폭행(assult)\\insidedoor_06\\411-2\\411-2_cam02_assault01_place08_night_winter_resized.mp4 to G:\\내 드라이브\\Project\\RGBLab\\ABB\\Data\\Resized\\01.폭행(assult)\\insidedoor_06\\411-2\\411-2_cam02_assault01_place08_night_winter_resized.mp4\n",
      "Copying G:\\내 드라이브\\Project\\RGBLab\\ABB\\Data\\01.폭행(assult)\\insidedoor_06\\411-3\\411-3_cam01_assault01_place08_night_summer_resized.mp4 to G:\\내 드라이브\\Project\\RGBLab\\ABB\\Data\\Resized\\01.폭행(assult)\\insidedoor_06\\411-3\\411-3_cam01_assault01_place08_night_summer_resized.mp4\n",
      "Copying G:\\내 드라이브\\Project\\RGBLab\\ABB\\Data\\01.폭행(assult)\\insidedoor_06\\411-3\\411-3_cam02_assault01_place08_night_spring_resized.mp4 to G:\\내 드라이브\\Project\\RGBLab\\ABB\\Data\\Resized\\01.폭행(assult)\\insidedoor_06\\411-3\\411-3_cam02_assault01_place08_night_spring_resized.mp4\n",
      "Copying G:\\내 드라이브\\Project\\RGBLab\\ABB\\Data\\01.폭행(assult)\\insidedoor_06\\411-3\\411-3_cam02_assault01_place08_night_summer_resized.mp4 to G:\\내 드라이브\\Project\\RGBLab\\ABB\\Data\\Resized\\01.폭행(assult)\\insidedoor_06\\411-3\\411-3_cam02_assault01_place08_night_summer_resized.mp4\n",
      "Copying G:\\내 드라이브\\Project\\RGBLab\\ABB\\Data\\01.폭행(assult)\\insidedoor_06\\411-3\\411-3_cam02_assault01_place08_night_winter_resized.mp4 to G:\\내 드라이브\\Project\\RGBLab\\ABB\\Data\\Resized\\01.폭행(assult)\\insidedoor_06\\411-3\\411-3_cam02_assault01_place08_night_winter_resized.mp4\n"
     ]
    },
    {
     "name": "stderr",
     "output_type": "stream",
     "text": [
      "Copying files: 1079it [02:53,  3.66it/s]"
     ]
    },
    {
     "name": "stdout",
     "output_type": "stream",
     "text": [
      "Copying G:\\내 드라이브\\Project\\RGBLab\\ABB\\Data\\01.폭행(assult)\\insidedoor_06\\411-3\\411-3_cam01_assault01_place08_night_winter_resized.mp4 to G:\\내 드라이브\\Project\\RGBLab\\ABB\\Data\\Resized\\01.폭행(assult)\\insidedoor_06\\411-3\\411-3_cam01_assault01_place08_night_winter_resized.mp4\n"
     ]
    },
    {
     "name": "stderr",
     "output_type": "stream",
     "text": [
      "Copying files: 1081it [02:54,  2.77it/s]"
     ]
    },
    {
     "name": "stdout",
     "output_type": "stream",
     "text": [
      "Copying G:\\내 드라이브\\Project\\RGBLab\\ABB\\Data\\01.폭행(assult)\\insidedoor_06\\411-3\\411-3_cam03_assault01_place08_night_summer_resized.mp4 to G:\\내 드라이브\\Project\\RGBLab\\ABB\\Data\\Resized\\01.폭행(assult)\\insidedoor_06\\411-3\\411-3_cam03_assault01_place08_night_summer_resized.mp4\n",
      "Copying G:\\내 드라이브\\Project\\RGBLab\\ABB\\Data\\01.폭행(assult)\\insidedoor_06\\411-3\\411-3_cam03_assault01_place08_night_winter_resized.mp4 to G:\\내 드라이브\\Project\\RGBLab\\ABB\\Data\\Resized\\01.폭행(assult)\\insidedoor_06\\411-3\\411-3_cam03_assault01_place08_night_winter_resized.mp4\n"
     ]
    },
    {
     "name": "stderr",
     "output_type": "stream",
     "text": [
      "Copying files: 1086it [02:57,  2.39it/s]"
     ]
    },
    {
     "name": "stdout",
     "output_type": "stream",
     "text": [
      "Copying G:\\내 드라이브\\Project\\RGBLab\\ABB\\Data\\01.폭행(assult)\\insidedoor_06\\411-3\\411-3_cam01_assault01_place08_night_spring_resized.mp4 to G:\\내 드라이브\\Project\\RGBLab\\ABB\\Data\\Resized\\01.폭행(assult)\\insidedoor_06\\411-3\\411-3_cam01_assault01_place08_night_spring_resized.mp4\n",
      "Copying G:\\내 드라이브\\Project\\RGBLab\\ABB\\Data\\01.폭행(assult)\\insidedoor_06\\411-3\\411-3_cam03_assault01_place08_night_spring_resized.mp4 to G:\\내 드라이브\\Project\\RGBLab\\ABB\\Data\\Resized\\01.폭행(assult)\\insidedoor_06\\411-3\\411-3_cam03_assault01_place08_night_spring_resized.mp4\n",
      "Copying G:\\내 드라이브\\Project\\RGBLab\\ABB\\Data\\01.폭행(assult)\\insidedoor_06\\411-4\\411-4_cam01_assault01_place08_night_spring_resized.mp4 to G:\\내 드라이브\\Project\\RGBLab\\ABB\\Data\\Resized\\01.폭행(assult)\\insidedoor_06\\411-4\\411-4_cam01_assault01_place08_night_spring_resized.mp4\n",
      "Copying G:\\내 드라이브\\Project\\RGBLab\\ABB\\Data\\01.폭행(assult)\\insidedoor_06\\411-4\\411-4_cam03_assault01_place08_night_spring_resized.mp4 to G:\\내 드라이브\\Project\\RGBLab\\ABB\\Data\\Resized\\01.폭행(assult)\\insidedoor_06\\411-4\\411-4_cam03_assault01_place08_night_spring_resized.mp4\n",
      "Copying G:\\내 드라이브\\Project\\RGBLab\\ABB\\Data\\01.폭행(assult)\\insidedoor_06\\411-4\\411-4_cam03_assault01_place08_night_winter_resized.mp4 to G:\\내 드라이브\\Project\\RGBLab\\ABB\\Data\\Resized\\01.폭행(assult)\\insidedoor_06\\411-4\\411-4_cam03_assault01_place08_night_winter_resized.mp4\n"
     ]
    },
    {
     "name": "stderr",
     "output_type": "stream",
     "text": [
      "Copying files: 1092it [02:57,  4.83it/s]"
     ]
    },
    {
     "name": "stdout",
     "output_type": "stream",
     "text": [
      "Copying G:\\내 드라이브\\Project\\RGBLab\\ABB\\Data\\01.폭행(assult)\\insidedoor_06\\411-4\\411-4_cam02_assault01_place08_night_winter_resized.mp4 to G:\\내 드라이브\\Project\\RGBLab\\ABB\\Data\\Resized\\01.폭행(assult)\\insidedoor_06\\411-4\\411-4_cam02_assault01_place08_night_winter_resized.mp4\n",
      "Copying G:\\내 드라이브\\Project\\RGBLab\\ABB\\Data\\01.폭행(assult)\\insidedoor_06\\411-4\\411-4_cam02_assault01_place08_night_spring_resized.mp4 to G:\\내 드라이브\\Project\\RGBLab\\ABB\\Data\\Resized\\01.폭행(assult)\\insidedoor_06\\411-4\\411-4_cam02_assault01_place08_night_spring_resized.mp4\n",
      "Copying G:\\내 드라이브\\Project\\RGBLab\\ABB\\Data\\01.폭행(assult)\\insidedoor_06\\411-4\\411-4_cam02_assault01_place08_night_summer_resized.mp4 to G:\\내 드라이브\\Project\\RGBLab\\ABB\\Data\\Resized\\01.폭행(assult)\\insidedoor_06\\411-4\\411-4_cam02_assault01_place08_night_summer_resized.mp4\n",
      "Copying G:\\내 드라이브\\Project\\RGBLab\\ABB\\Data\\01.폭행(assult)\\insidedoor_06\\411-4\\411-4_cam01_assault01_place08_night_summer_resized.mp4 to G:\\내 드라이브\\Project\\RGBLab\\ABB\\Data\\Resized\\01.폭행(assult)\\insidedoor_06\\411-4\\411-4_cam01_assault01_place08_night_summer_resized.mp4\n",
      "Copying G:\\내 드라이브\\Project\\RGBLab\\ABB\\Data\\01.폭행(assult)\\insidedoor_06\\411-4\\411-4_cam03_assault01_place08_night_summer_resized.mp4 to G:\\내 드라이브\\Project\\RGBLab\\ABB\\Data\\Resized\\01.폭행(assult)\\insidedoor_06\\411-4\\411-4_cam03_assault01_place08_night_summer_resized.mp4\n"
     ]
    },
    {
     "name": "stderr",
     "output_type": "stream",
     "text": [
      "Copying files: 1095it [02:57,  6.57it/s]"
     ]
    },
    {
     "name": "stdout",
     "output_type": "stream",
     "text": [
      "Copying G:\\내 드라이브\\Project\\RGBLab\\ABB\\Data\\01.폭행(assult)\\insidedoor_06\\411-4\\411-4_cam01_assault01_place08_night_winter_resized.mp4 to G:\\내 드라이브\\Project\\RGBLab\\ABB\\Data\\Resized\\01.폭행(assult)\\insidedoor_06\\411-4\\411-4_cam01_assault01_place08_night_winter_resized.mp4\n",
      "Copying G:\\내 드라이브\\Project\\RGBLab\\ABB\\Data\\01.폭행(assult)\\insidedoor_06\\411-5\\411-5_cam03_assault01_place08_night_winter_resized.mp4 to G:\\내 드라이브\\Project\\RGBLab\\ABB\\Data\\Resized\\01.폭행(assult)\\insidedoor_06\\411-5\\411-5_cam03_assault01_place08_night_winter_resized.mp4\n",
      "Copying G:\\내 드라이브\\Project\\RGBLab\\ABB\\Data\\01.폭행(assult)\\insidedoor_06\\411-5\\411-5_cam02_assault01_place08_night_winter_resized.mp4 to G:\\내 드라이브\\Project\\RGBLab\\ABB\\Data\\Resized\\01.폭행(assult)\\insidedoor_06\\411-5\\411-5_cam02_assault01_place08_night_winter_resized.mp4\n",
      "Copying G:\\내 드라이브\\Project\\RGBLab\\ABB\\Data\\01.폭행(assult)\\insidedoor_06\\411-5\\411-5_cam03_assault01_place08_night_summer_resized.mp4 to G:\\내 드라이브\\Project\\RGBLab\\ABB\\Data\\Resized\\01.폭행(assult)\\insidedoor_06\\411-5\\411-5_cam03_assault01_place08_night_summer_resized.mp4\n",
      "Copying G:\\내 드라이브\\Project\\RGBLab\\ABB\\Data\\01.폭행(assult)\\insidedoor_06\\411-5\\411-5_cam01_assault01_place08_night_summer_resized.mp4 to G:\\내 드라이브\\Project\\RGBLab\\ABB\\Data\\Resized\\01.폭행(assult)\\insidedoor_06\\411-5\\411-5_cam01_assault01_place08_night_summer_resized.mp4\n"
     ]
    },
    {
     "name": "stderr",
     "output_type": "stream",
     "text": [
      "Copying files: 1095it [02:59,  6.57it/s]"
     ]
    },
    {
     "name": "stdout",
     "output_type": "stream",
     "text": [
      "Copying G:\\내 드라이브\\Project\\RGBLab\\ABB\\Data\\01.폭행(assult)\\insidedoor_06\\411-5\\411-5_cam02_assault01_place08_night_spring_resized.mp4 to G:\\내 드라이브\\Project\\RGBLab\\ABB\\Data\\Resized\\01.폭행(assult)\\insidedoor_06\\411-5\\411-5_cam02_assault01_place08_night_spring_resized.mp4\n"
     ]
    },
    {
     "name": "stderr",
     "output_type": "stream",
     "text": [
      "Copying files: 1098it [03:01,  2.29it/s]"
     ]
    },
    {
     "name": "stdout",
     "output_type": "stream",
     "text": [
      "Copying G:\\내 드라이브\\Project\\RGBLab\\ABB\\Data\\01.폭행(assult)\\insidedoor_06\\411-5\\411-5_cam01_assault01_place08_night_spring_resized.mp4 to G:\\내 드라이브\\Project\\RGBLab\\ABB\\Data\\Resized\\01.폭행(assult)\\insidedoor_06\\411-5\\411-5_cam01_assault01_place08_night_spring_resized.mp4\n"
     ]
    },
    {
     "name": "stderr",
     "output_type": "stream",
     "text": [
      "Copying files: 1098it [03:02,  2.29it/s]"
     ]
    },
    {
     "name": "stdout",
     "output_type": "stream",
     "text": [
      "Copying G:\\내 드라이브\\Project\\RGBLab\\ABB\\Data\\01.폭행(assult)\\insidedoor_06\\411-5\\411-5_cam01_assault01_place08_night_winter_resized.mp4 to G:\\내 드라이브\\Project\\RGBLab\\ABB\\Data\\Resized\\01.폭행(assult)\\insidedoor_06\\411-5\\411-5_cam01_assault01_place08_night_winter_resized.mp4\n"
     ]
    },
    {
     "name": "stderr",
     "output_type": "stream",
     "text": [
      "Copying files: 1100it [03:03,  1.69it/s]"
     ]
    },
    {
     "name": "stdout",
     "output_type": "stream",
     "text": [
      "Copying G:\\내 드라이브\\Project\\RGBLab\\ABB\\Data\\01.폭행(assult)\\insidedoor_06\\411-5\\411-5_cam02_assault01_place08_night_summer_resized.mp4 to G:\\내 드라이브\\Project\\RGBLab\\ABB\\Data\\Resized\\01.폭행(assult)\\insidedoor_06\\411-5\\411-5_cam02_assault01_place08_night_summer_resized.mp4\n"
     ]
    },
    {
     "name": "stderr",
     "output_type": "stream",
     "text": [
      "Copying files: 1102it [03:04,  1.65it/s]"
     ]
    },
    {
     "name": "stdout",
     "output_type": "stream",
     "text": [
      "Copying G:\\내 드라이브\\Project\\RGBLab\\ABB\\Data\\01.폭행(assult)\\insidedoor_06\\411-5\\411-5_cam03_assault01_place08_night_spring_resized.mp4 to G:\\내 드라이브\\Project\\RGBLab\\ABB\\Data\\Resized\\01.폭행(assult)\\insidedoor_06\\411-5\\411-5_cam03_assault01_place08_night_spring_resized.mp4\n",
      "Copying G:\\내 드라이브\\Project\\RGBLab\\ABB\\Data\\01.폭행(assult)\\insidedoor_07\\412-1\\412-1_cam01_assault01_place09_night_spring_resized.mp4 to G:\\내 드라이브\\Project\\RGBLab\\ABB\\Data\\Resized\\01.폭행(assult)\\insidedoor_07\\412-1\\412-1_cam01_assault01_place09_night_spring_resized.mp4\n"
     ]
    },
    {
     "name": "stderr",
     "output_type": "stream",
     "text": [
      "Copying files: 1106it [03:06,  2.19it/s]"
     ]
    },
    {
     "name": "stdout",
     "output_type": "stream",
     "text": [
      "Copying G:\\내 드라이브\\Project\\RGBLab\\ABB\\Data\\01.폭행(assult)\\insidedoor_07\\412-1\\412-1_cam02_assault01_place09_night_summer_resized.mp4 to G:\\내 드라이브\\Project\\RGBLab\\ABB\\Data\\Resized\\01.폭행(assult)\\insidedoor_07\\412-1\\412-1_cam02_assault01_place09_night_summer_resized.mp4\n",
      "Copying G:\\내 드라이브\\Project\\RGBLab\\ABB\\Data\\01.폭행(assult)\\insidedoor_07\\412-1\\412-1_cam03_assault01_place09_night_winter_resized.mp4 to G:\\내 드라이브\\Project\\RGBLab\\ABB\\Data\\Resized\\01.폭행(assult)\\insidedoor_07\\412-1\\412-1_cam03_assault01_place09_night_winter_resized.mp4\n",
      "Copying G:\\내 드라이브\\Project\\RGBLab\\ABB\\Data\\01.폭행(assult)\\insidedoor_07\\412-1\\412-1_cam03_assault01_place09_night_summer_resized.mp4 to G:\\내 드라이브\\Project\\RGBLab\\ABB\\Data\\Resized\\01.폭행(assult)\\insidedoor_07\\412-1\\412-1_cam03_assault01_place09_night_summer_resized.mp4\n",
      "Copying G:\\내 드라이브\\Project\\RGBLab\\ABB\\Data\\01.폭행(assult)\\insidedoor_07\\412-1\\412-1_cam03_assault01_place09_night_spring_resized.mp4 to G:\\내 드라이브\\Project\\RGBLab\\ABB\\Data\\Resized\\01.폭행(assult)\\insidedoor_07\\412-1\\412-1_cam03_assault01_place09_night_spring_resized.mp4\n"
     ]
    },
    {
     "name": "stderr",
     "output_type": "stream",
     "text": [
      "Copying files: 1109it [03:06,  3.23it/s]"
     ]
    },
    {
     "name": "stdout",
     "output_type": "stream",
     "text": [
      "Copying G:\\내 드라이브\\Project\\RGBLab\\ABB\\Data\\01.폭행(assult)\\insidedoor_07\\412-1\\412-1_cam02_assault01_place09_night_winter_resized.mp4 to G:\\내 드라이브\\Project\\RGBLab\\ABB\\Data\\Resized\\01.폭행(assult)\\insidedoor_07\\412-1\\412-1_cam02_assault01_place09_night_winter_resized.mp4\n",
      "Copying G:\\내 드라이브\\Project\\RGBLab\\ABB\\Data\\01.폭행(assult)\\insidedoor_07\\412-1\\412-1_cam01_assault01_place09_night_summer_resized.mp4 to G:\\내 드라이브\\Project\\RGBLab\\ABB\\Data\\Resized\\01.폭행(assult)\\insidedoor_07\\412-1\\412-1_cam01_assault01_place09_night_summer_resized.mp4\n",
      "Copying G:\\내 드라이브\\Project\\RGBLab\\ABB\\Data\\01.폭행(assult)\\insidedoor_07\\412-1\\412-1_cam01_assault01_place09_night_winter_resized.mp4 to G:\\내 드라이브\\Project\\RGBLab\\ABB\\Data\\Resized\\01.폭행(assult)\\insidedoor_07\\412-1\\412-1_cam01_assault01_place09_night_winter_resized.mp4\n"
     ]
    },
    {
     "name": "stderr",
     "output_type": "stream",
     "text": [
      "Copying files: 1111it [03:10,  1.31it/s]"
     ]
    },
    {
     "name": "stdout",
     "output_type": "stream",
     "text": [
      "Copying G:\\내 드라이브\\Project\\RGBLab\\ABB\\Data\\01.폭행(assult)\\insidedoor_07\\412-1\\412-1_cam02_assault01_place09_night_spring_resized.mp4 to G:\\내 드라이브\\Project\\RGBLab\\ABB\\Data\\Resized\\01.폭행(assult)\\insidedoor_07\\412-1\\412-1_cam02_assault01_place09_night_spring_resized.mp4\n",
      "Copying G:\\내 드라이브\\Project\\RGBLab\\ABB\\Data\\01.폭행(assult)\\insidedoor_07\\412-2\\412-2_cam03_assault01_place09_night_winter_resized.mp4 to G:\\내 드라이브\\Project\\RGBLab\\ABB\\Data\\Resized\\01.폭행(assult)\\insidedoor_07\\412-2\\412-2_cam03_assault01_place09_night_winter_resized.mp4\n"
     ]
    },
    {
     "name": "stderr",
     "output_type": "stream",
     "text": [
      "Copying files: 1111it [03:11,  1.31it/s]"
     ]
    },
    {
     "name": "stdout",
     "output_type": "stream",
     "text": [
      "Copying G:\\내 드라이브\\Project\\RGBLab\\ABB\\Data\\01.폭행(assult)\\insidedoor_07\\412-2\\412-2_cam02_assault01_place09_night_spring_resized.mp4 to G:\\내 드라이브\\Project\\RGBLab\\ABB\\Data\\Resized\\01.폭행(assult)\\insidedoor_07\\412-2\\412-2_cam02_assault01_place09_night_spring_resized.mp4\n"
     ]
    },
    {
     "name": "stderr",
     "output_type": "stream",
     "text": [
      "Copying files: 1113it [03:12,  1.13it/s]"
     ]
    },
    {
     "name": "stdout",
     "output_type": "stream",
     "text": [
      "Copying G:\\내 드라이브\\Project\\RGBLab\\ABB\\Data\\01.폭행(assult)\\insidedoor_07\\412-2\\412-2_cam03_assault01_place09_night_spring_resized.mp4 to G:\\내 드라이브\\Project\\RGBLab\\ABB\\Data\\Resized\\01.폭행(assult)\\insidedoor_07\\412-2\\412-2_cam03_assault01_place09_night_spring_resized.mp4\n",
      "Copying G:\\내 드라이브\\Project\\RGBLab\\ABB\\Data\\01.폭행(assult)\\insidedoor_07\\412-2\\412-2_cam02_assault01_place09_night_winter_resized.mp4 to G:\\내 드라이브\\Project\\RGBLab\\ABB\\Data\\Resized\\01.폭행(assult)\\insidedoor_07\\412-2\\412-2_cam02_assault01_place09_night_winter_resized.mp4\n"
     ]
    },
    {
     "name": "stderr",
     "output_type": "stream",
     "text": [
      "Copying files: 1118it [03:16,  1.38it/s]"
     ]
    },
    {
     "name": "stdout",
     "output_type": "stream",
     "text": [
      "Copying G:\\내 드라이브\\Project\\RGBLab\\ABB\\Data\\01.폭행(assult)\\insidedoor_07\\412-2\\412-2_cam03_assault01_place09_night_summer_resized.mp4 to G:\\내 드라이브\\Project\\RGBLab\\ABB\\Data\\Resized\\01.폭행(assult)\\insidedoor_07\\412-2\\412-2_cam03_assault01_place09_night_summer_resized.mp4\n",
      "Copying G:\\내 드라이브\\Project\\RGBLab\\ABB\\Data\\01.폭행(assult)\\insidedoor_07\\412-2\\412-2_cam02_assault01_place09_night_summer_resized.mp4 to G:\\내 드라이브\\Project\\RGBLab\\ABB\\Data\\Resized\\01.폭행(assult)\\insidedoor_07\\412-2\\412-2_cam02_assault01_place09_night_summer_resized.mp4\n",
      "Copying G:\\내 드라이브\\Project\\RGBLab\\ABB\\Data\\01.폭행(assult)\\insidedoor_07\\412-2\\412-2_cam01_assault01_place09_night_summer_resized.mp4 to G:\\내 드라이브\\Project\\RGBLab\\ABB\\Data\\Resized\\01.폭행(assult)\\insidedoor_07\\412-2\\412-2_cam01_assault01_place09_night_summer_resized.mp4\n",
      "Copying G:\\내 드라이브\\Project\\RGBLab\\ABB\\Data\\01.폭행(assult)\\insidedoor_07\\412-2\\412-2_cam01_assault01_place09_night_spring_resized.mp4 to G:\\내 드라이브\\Project\\RGBLab\\ABB\\Data\\Resized\\01.폭행(assult)\\insidedoor_07\\412-2\\412-2_cam01_assault01_place09_night_spring_resized.mp4\n"
     ]
    },
    {
     "name": "stderr",
     "output_type": "stream",
     "text": [
      "Copying files: 1118it [03:17,  1.38it/s]"
     ]
    },
    {
     "name": "stdout",
     "output_type": "stream",
     "text": [
      "Copying G:\\내 드라이브\\Project\\RGBLab\\ABB\\Data\\01.폭행(assult)\\insidedoor_07\\412-2\\412-2_cam01_assault01_place09_night_winter_resized.mp4 to G:\\내 드라이브\\Project\\RGBLab\\ABB\\Data\\Resized\\01.폭행(assult)\\insidedoor_07\\412-2\\412-2_cam01_assault01_place09_night_winter_resized.mp4\n"
     ]
    },
    {
     "name": "stderr",
     "output_type": "stream",
     "text": [
      "Copying files: 1120it [03:18,  1.19it/s]"
     ]
    },
    {
     "name": "stdout",
     "output_type": "stream",
     "text": [
      "Copying G:\\내 드라이브\\Project\\RGBLab\\ABB\\Data\\01.폭행(assult)\\insidedoor_07\\412-3\\412-3_cam01_assault01_place09_night_spring_resized.mp4 to G:\\내 드라이브\\Project\\RGBLab\\ABB\\Data\\Resized\\01.폭행(assult)\\insidedoor_07\\412-3\\412-3_cam01_assault01_place09_night_spring_resized.mp4\n"
     ]
    },
    {
     "name": "stderr",
     "output_type": "stream",
     "text": [
      "Copying files: 1124it [03:22,  1.35it/s]"
     ]
    },
    {
     "name": "stdout",
     "output_type": "stream",
     "text": [
      "Copying G:\\내 드라이브\\Project\\RGBLab\\ABB\\Data\\01.폭행(assult)\\insidedoor_07\\412-3\\412-3_cam02_assault01_place09_night_summer_resized.mp4 to G:\\내 드라이브\\Project\\RGBLab\\ABB\\Data\\Resized\\01.폭행(assult)\\insidedoor_07\\412-3\\412-3_cam02_assault01_place09_night_summer_resized.mp4\n",
      "Copying G:\\내 드라이브\\Project\\RGBLab\\ABB\\Data\\01.폭행(assult)\\insidedoor_07\\412-3\\412-3_cam03_assault01_place09_night_winter_resized.mp4 to G:\\내 드라이브\\Project\\RGBLab\\ABB\\Data\\Resized\\01.폭행(assult)\\insidedoor_07\\412-3\\412-3_cam03_assault01_place09_night_winter_resized.mp4\n",
      "Copying G:\\내 드라이브\\Project\\RGBLab\\ABB\\Data\\01.폭행(assult)\\insidedoor_07\\412-3\\412-3_cam03_assault01_place09_night_summer_resized.mp4 to G:\\내 드라이브\\Project\\RGBLab\\ABB\\Data\\Resized\\01.폭행(assult)\\insidedoor_07\\412-3\\412-3_cam03_assault01_place09_night_summer_resized.mp4\n",
      "Copying G:\\내 드라이브\\Project\\RGBLab\\ABB\\Data\\01.폭행(assult)\\insidedoor_07\\412-3\\412-3_cam01_assault01_place09_night_winter_resized.mp4 to G:\\내 드라이브\\Project\\RGBLab\\ABB\\Data\\Resized\\01.폭행(assult)\\insidedoor_07\\412-3\\412-3_cam01_assault01_place09_night_winter_resized.mp4\n"
     ]
    },
    {
     "name": "stderr",
     "output_type": "stream",
     "text": [
      "Copying files: 1126it [03:23,  1.42it/s]"
     ]
    },
    {
     "name": "stdout",
     "output_type": "stream",
     "text": [
      "Copying G:\\내 드라이브\\Project\\RGBLab\\ABB\\Data\\01.폭행(assult)\\insidedoor_07\\412-3\\412-3_cam02_assault01_place09_night_winter_resized.mp4 to G:\\내 드라이브\\Project\\RGBLab\\ABB\\Data\\Resized\\01.폭행(assult)\\insidedoor_07\\412-3\\412-3_cam02_assault01_place09_night_winter_resized.mp4\n",
      "Copying G:\\내 드라이브\\Project\\RGBLab\\ABB\\Data\\01.폭행(assult)\\insidedoor_07\\412-3\\412-3_cam02_assault01_place09_night_spring_resized.mp4 to G:\\내 드라이브\\Project\\RGBLab\\ABB\\Data\\Resized\\01.폭행(assult)\\insidedoor_07\\412-3\\412-3_cam02_assault01_place09_night_spring_resized.mp4\n"
     ]
    },
    {
     "name": "stderr",
     "output_type": "stream",
     "text": [
      "Copying files: 1130it [03:24,  2.08it/s]"
     ]
    },
    {
     "name": "stdout",
     "output_type": "stream",
     "text": [
      "Copying G:\\내 드라이브\\Project\\RGBLab\\ABB\\Data\\01.폭행(assult)\\insidedoor_07\\412-3\\412-3_cam03_assault01_place09_night_spring_resized.mp4 to G:\\내 드라이브\\Project\\RGBLab\\ABB\\Data\\Resized\\01.폭행(assult)\\insidedoor_07\\412-3\\412-3_cam03_assault01_place09_night_spring_resized.mp4\n",
      "Copying G:\\내 드라이브\\Project\\RGBLab\\ABB\\Data\\01.폭행(assult)\\insidedoor_07\\412-3\\412-3_cam01_assault01_place09_night_summer_resized.mp4 to G:\\내 드라이브\\Project\\RGBLab\\ABB\\Data\\Resized\\01.폭행(assult)\\insidedoor_07\\412-3\\412-3_cam01_assault01_place09_night_summer_resized.mp4\n",
      "Copying G:\\내 드라이브\\Project\\RGBLab\\ABB\\Data\\01.폭행(assult)\\insidedoor_07\\412-4\\412-4_cam02_assault01_place09_night_winter_resized.mp4 to G:\\내 드라이브\\Project\\RGBLab\\ABB\\Data\\Resized\\01.폭행(assult)\\insidedoor_07\\412-4\\412-4_cam02_assault01_place09_night_winter_resized.mp4\n",
      "Copying G:\\내 드라이브\\Project\\RGBLab\\ABB\\Data\\01.폭행(assult)\\insidedoor_07\\412-4\\412-4_cam01_assault01_place09_night_summer_resized.mp4 to G:\\내 드라이브\\Project\\RGBLab\\ABB\\Data\\Resized\\01.폭행(assult)\\insidedoor_07\\412-4\\412-4_cam01_assault01_place09_night_summer_resized.mp4\n"
     ]
    },
    {
     "name": "stderr",
     "output_type": "stream",
     "text": [
      "Copying files: 1130it [03:24,  2.08it/s]"
     ]
    },
    {
     "name": "stdout",
     "output_type": "stream",
     "text": [
      "Copying G:\\내 드라이브\\Project\\RGBLab\\ABB\\Data\\01.폭행(assult)\\insidedoor_07\\412-4\\412-4_cam02_assault01_place09_night_spring_resized.mp4 to G:\\내 드라이브\\Project\\RGBLab\\ABB\\Data\\Resized\\01.폭행(assult)\\insidedoor_07\\412-4\\412-4_cam02_assault01_place09_night_spring_resized.mp4\n",
      "Copying G:\\내 드라이브\\Project\\RGBLab\\ABB\\Data\\01.폭행(assult)\\insidedoor_07\\412-4\\412-4_cam01_assault01_place09_night_winter_resized.mp4 to G:\\내 드라이브\\Project\\RGBLab\\ABB\\Data\\Resized\\01.폭행(assult)\\insidedoor_07\\412-4\\412-4_cam01_assault01_place09_night_winter_resized.mp4\n"
     ]
    },
    {
     "name": "stderr",
     "output_type": "stream",
     "text": [
      "Copying files: 1135it [03:26,  2.87it/s]"
     ]
    },
    {
     "name": "stdout",
     "output_type": "stream",
     "text": [
      "Copying G:\\내 드라이브\\Project\\RGBLab\\ABB\\Data\\01.폭행(assult)\\insidedoor_07\\412-4\\412-4_cam01_assault01_place09_night_spring_resized.mp4 to G:\\내 드라이브\\Project\\RGBLab\\ABB\\Data\\Resized\\01.폭행(assult)\\insidedoor_07\\412-4\\412-4_cam01_assault01_place09_night_spring_resized.mp4\n",
      "Copying G:\\내 드라이브\\Project\\RGBLab\\ABB\\Data\\01.폭행(assult)\\insidedoor_07\\412-4\\412-4_cam03_assault01_place09_night_spring_resized.mp4 to G:\\내 드라이브\\Project\\RGBLab\\ABB\\Data\\Resized\\01.폭행(assult)\\insidedoor_07\\412-4\\412-4_cam03_assault01_place09_night_spring_resized.mp4\n",
      "Copying G:\\내 드라이브\\Project\\RGBLab\\ABB\\Data\\01.폭행(assult)\\insidedoor_07\\412-4\\412-4_cam03_assault01_place09_night_summer_resized.mp4 to G:\\내 드라이브\\Project\\RGBLab\\ABB\\Data\\Resized\\01.폭행(assult)\\insidedoor_07\\412-4\\412-4_cam03_assault01_place09_night_summer_resized.mp4\n",
      "Copying G:\\내 드라이브\\Project\\RGBLab\\ABB\\Data\\01.폭행(assult)\\insidedoor_07\\412-4\\412-4_cam03_assault01_place09_night_winter_resized.mp4 to G:\\내 드라이브\\Project\\RGBLab\\ABB\\Data\\Resized\\01.폭행(assult)\\insidedoor_07\\412-4\\412-4_cam03_assault01_place09_night_winter_resized.mp4\n",
      "Copying G:\\내 드라이브\\Project\\RGBLab\\ABB\\Data\\01.폭행(assult)\\insidedoor_07\\412-4\\412-4_cam02_assault01_place09_night_summer_resized.mp4 to G:\\내 드라이브\\Project\\RGBLab\\ABB\\Data\\Resized\\01.폭행(assult)\\insidedoor_07\\412-4\\412-4_cam02_assault01_place09_night_summer_resized.mp4\n"
     ]
    },
    {
     "name": "stderr",
     "output_type": "stream",
     "text": [
      "Copying files: 1138it [03:29,  1.64it/s]"
     ]
    },
    {
     "name": "stdout",
     "output_type": "stream",
     "text": [
      "Copying G:\\내 드라이브\\Project\\RGBLab\\ABB\\Data\\01.폭행(assult)\\insidedoor_08\\412-6\\412-6_cam01_assault01_place09_night_winter_resized.mp4 to G:\\내 드라이브\\Project\\RGBLab\\ABB\\Data\\Resized\\01.폭행(assult)\\insidedoor_08\\412-6\\412-6_cam01_assault01_place09_night_winter_resized.mp4\n"
     ]
    },
    {
     "name": "stderr",
     "output_type": "stream",
     "text": [
      "Copying files: 1139it [03:30,  1.44it/s]"
     ]
    },
    {
     "name": "stdout",
     "output_type": "stream",
     "text": [
      "Copying G:\\내 드라이브\\Project\\RGBLab\\ABB\\Data\\01.폭행(assult)\\insidedoor_08\\412-6\\412-6_cam03_assault01_place09_night_spring_resized.mp4 to G:\\내 드라이브\\Project\\RGBLab\\ABB\\Data\\Resized\\01.폭행(assult)\\insidedoor_08\\412-6\\412-6_cam03_assault01_place09_night_spring_resized.mp4\n",
      "Copying G:\\내 드라이브\\Project\\RGBLab\\ABB\\Data\\01.폭행(assult)\\insidedoor_08\\412-6\\412-6_cam03_assault01_place09_night_summer_resized.mp4 to G:\\내 드라이브\\Project\\RGBLab\\ABB\\Data\\Resized\\01.폭행(assult)\\insidedoor_08\\412-6\\412-6_cam03_assault01_place09_night_summer_resized.mp4\n",
      "Copying G:\\내 드라이브\\Project\\RGBLab\\ABB\\Data\\01.폭행(assult)\\insidedoor_08\\412-6\\412-6_cam01_assault01_place09_night_summer_resized.mp4 to G:\\내 드라이브\\Project\\RGBLab\\ABB\\Data\\Resized\\01.폭행(assult)\\insidedoor_08\\412-6\\412-6_cam01_assault01_place09_night_summer_resized.mp4\n"
     ]
    },
    {
     "name": "stderr",
     "output_type": "stream",
     "text": [
      "Copying files: 1144it [03:31,  2.29it/s]"
     ]
    },
    {
     "name": "stdout",
     "output_type": "stream",
     "text": [
      "Copying G:\\내 드라이브\\Project\\RGBLab\\ABB\\Data\\01.폭행(assult)\\insidedoor_08\\412-6\\412-6_cam02_assault01_place09_night_spring_resized.mp4 to G:\\내 드라이브\\Project\\RGBLab\\ABB\\Data\\Resized\\01.폭행(assult)\\insidedoor_08\\412-6\\412-6_cam02_assault01_place09_night_spring_resized.mp4\n",
      "Copying G:\\내 드라이브\\Project\\RGBLab\\ABB\\Data\\01.폭행(assult)\\insidedoor_08\\412-6\\412-6_cam01_assault01_place09_night_spring_resized.mp4 to G:\\내 드라이브\\Project\\RGBLab\\ABB\\Data\\Resized\\01.폭행(assult)\\insidedoor_08\\412-6\\412-6_cam01_assault01_place09_night_spring_resized.mp4\n",
      "Copying G:\\내 드라이브\\Project\\RGBLab\\ABB\\Data\\01.폭행(assult)\\insidedoor_08\\412-6\\412-6_cam03_assault01_place09_night_winter_resized.mp4 to G:\\내 드라이브\\Project\\RGBLab\\ABB\\Data\\Resized\\01.폭행(assult)\\insidedoor_08\\412-6\\412-6_cam03_assault01_place09_night_winter_resized.mp4\n",
      "Copying G:\\내 드라이브\\Project\\RGBLab\\ABB\\Data\\01.폭행(assult)\\insidedoor_08\\412-6\\412-6_cam02_assault01_place09_night_winter_resized.mp4 to G:\\내 드라이브\\Project\\RGBLab\\ABB\\Data\\Resized\\01.폭행(assult)\\insidedoor_08\\412-6\\412-6_cam02_assault01_place09_night_winter_resized.mp4\n"
     ]
    },
    {
     "name": "stderr",
     "output_type": "stream",
     "text": [
      "Copying files: 1146it [03:33,  1.93it/s]"
     ]
    },
    {
     "name": "stdout",
     "output_type": "stream",
     "text": [
      "Copying G:\\내 드라이브\\Project\\RGBLab\\ABB\\Data\\01.폭행(assult)\\insidedoor_08\\412-6\\412-6_cam02_assault01_place09_night_summer_resized.mp4 to G:\\내 드라이브\\Project\\RGBLab\\ABB\\Data\\Resized\\01.폭행(assult)\\insidedoor_08\\412-6\\412-6_cam02_assault01_place09_night_summer_resized.mp4\n"
     ]
    },
    {
     "name": "stderr",
     "output_type": "stream",
     "text": [
      "Copying files: 1147it [03:34,  1.55it/s]"
     ]
    },
    {
     "name": "stdout",
     "output_type": "stream",
     "text": [
      "Copying G:\\내 드라이브\\Project\\RGBLab\\ABB\\Data\\01.폭행(assult)\\insidedoor_08\\416-1\\416-1_cam01_assault01_place02_night_winter_resized.mp4 to G:\\내 드라이브\\Project\\RGBLab\\ABB\\Data\\Resized\\01.폭행(assult)\\insidedoor_08\\416-1\\416-1_cam01_assault01_place02_night_winter_resized.mp4\n"
     ]
    },
    {
     "name": "stderr",
     "output_type": "stream",
     "text": [
      "Copying files: 1148it [03:36,  1.04it/s]"
     ]
    },
    {
     "name": "stdout",
     "output_type": "stream",
     "text": [
      "Copying G:\\내 드라이브\\Project\\RGBLab\\ABB\\Data\\01.폭행(assult)\\insidedoor_08\\416-1\\416-1_cam03_assault01_place02_night_winter_resized.mp4 to G:\\내 드라이브\\Project\\RGBLab\\ABB\\Data\\Resized\\01.폭행(assult)\\insidedoor_08\\416-1\\416-1_cam03_assault01_place02_night_winter_resized.mp4\n"
     ]
    },
    {
     "name": "stderr",
     "output_type": "stream",
     "text": [
      "Copying files: 1149it [03:37,  1.00it/s]"
     ]
    },
    {
     "name": "stdout",
     "output_type": "stream",
     "text": [
      "Copying G:\\내 드라이브\\Project\\RGBLab\\ABB\\Data\\01.폭행(assult)\\insidedoor_08\\416-1\\416-1_cam02_assault01_place02_night_spring_resized.mp4 to G:\\내 드라이브\\Project\\RGBLab\\ABB\\Data\\Resized\\01.폭행(assult)\\insidedoor_08\\416-1\\416-1_cam02_assault01_place02_night_spring_resized.mp4\n"
     ]
    },
    {
     "name": "stderr",
     "output_type": "stream",
     "text": [
      "Copying files: 1150it [03:39,  1.04s/it]"
     ]
    },
    {
     "name": "stdout",
     "output_type": "stream",
     "text": [
      "Copying G:\\내 드라이브\\Project\\RGBLab\\ABB\\Data\\01.폭행(assult)\\insidedoor_08\\416-1\\416-1_cam01_assault01_place02_night_summer_resized.mp4 to G:\\내 드라이브\\Project\\RGBLab\\ABB\\Data\\Resized\\01.폭행(assult)\\insidedoor_08\\416-1\\416-1_cam01_assault01_place02_night_summer_resized.mp4\n"
     ]
    },
    {
     "name": "stderr",
     "output_type": "stream",
     "text": [
      "Copying files: 1151it [03:40,  1.11s/it]"
     ]
    },
    {
     "name": "stdout",
     "output_type": "stream",
     "text": [
      "Copying G:\\내 드라이브\\Project\\RGBLab\\ABB\\Data\\01.폭행(assult)\\insidedoor_08\\416-1\\416-1_cam02_assault01_place02_night_winter_resized.mp4 to G:\\내 드라이브\\Project\\RGBLab\\ABB\\Data\\Resized\\01.폭행(assult)\\insidedoor_08\\416-1\\416-1_cam02_assault01_place02_night_winter_resized.mp4\n",
      "Copying G:\\내 드라이브\\Project\\RGBLab\\ABB\\Data\\01.폭행(assult)\\insidedoor_08\\416-1\\416-1_cam02_assault01_place02_night_summer_resized.mp4 to G:\\내 드라이브\\Project\\RGBLab\\ABB\\Data\\Resized\\01.폭행(assult)\\insidedoor_08\\416-1\\416-1_cam02_assault01_place02_night_summer_resized.mp4\n"
     ]
    },
    {
     "name": "stderr",
     "output_type": "stream",
     "text": [
      "Copying files: 1153it [03:43,  1.27s/it]"
     ]
    },
    {
     "name": "stdout",
     "output_type": "stream",
     "text": [
      "Copying G:\\내 드라이브\\Project\\RGBLab\\ABB\\Data\\01.폭행(assult)\\insidedoor_08\\416-1\\416-1_cam01_assault01_place02_night_spring_resized.mp4 to G:\\내 드라이브\\Project\\RGBLab\\ABB\\Data\\Resized\\01.폭행(assult)\\insidedoor_08\\416-1\\416-1_cam01_assault01_place02_night_spring_resized.mp4\n"
     ]
    },
    {
     "name": "stderr",
     "output_type": "stream",
     "text": [
      "Copying files: 1154it [03:45,  1.51s/it]"
     ]
    },
    {
     "name": "stdout",
     "output_type": "stream",
     "text": [
      "Copying G:\\내 드라이브\\Project\\RGBLab\\ABB\\Data\\01.폭행(assult)\\insidedoor_08\\416-1\\416-1_cam03_assault01_place02_night_summer_resized.mp4 to G:\\내 드라이브\\Project\\RGBLab\\ABB\\Data\\Resized\\01.폭행(assult)\\insidedoor_08\\416-1\\416-1_cam03_assault01_place02_night_summer_resized.mp4\n"
     ]
    },
    {
     "name": "stderr",
     "output_type": "stream",
     "text": [
      "Copying files: 1155it [03:46,  1.40s/it]"
     ]
    },
    {
     "name": "stdout",
     "output_type": "stream",
     "text": [
      "Copying G:\\내 드라이브\\Project\\RGBLab\\ABB\\Data\\01.폭행(assult)\\insidedoor_08\\416-1\\416-1_cam03_assault01_place02_night_spring_resized.mp4 to G:\\내 드라이브\\Project\\RGBLab\\ABB\\Data\\Resized\\01.폭행(assult)\\insidedoor_08\\416-1\\416-1_cam03_assault01_place02_night_spring_resized.mp4\n",
      "Copying G:\\내 드라이브\\Project\\RGBLab\\ABB\\Data\\01.폭행(assult)\\insidedoor_08\\416-2\\416-2_cam03_assault01_place02_night_summer_resized.mp4 to G:\\내 드라이브\\Project\\RGBLab\\ABB\\Data\\Resized\\01.폭행(assult)\\insidedoor_08\\416-2\\416-2_cam03_assault01_place02_night_summer_resized.mp4\n"
     ]
    },
    {
     "name": "stderr",
     "output_type": "stream",
     "text": [
      "Copying files: 1157it [03:48,  1.10s/it]"
     ]
    },
    {
     "name": "stdout",
     "output_type": "stream",
     "text": [
      "Copying G:\\내 드라이브\\Project\\RGBLab\\ABB\\Data\\01.폭행(assult)\\insidedoor_08\\416-2\\416-2_cam01_assault01_place02_night_summer_resized.mp4 to G:\\내 드라이브\\Project\\RGBLab\\ABB\\Data\\Resized\\01.폭행(assult)\\insidedoor_08\\416-2\\416-2_cam01_assault01_place02_night_summer_resized.mp4\n"
     ]
    },
    {
     "name": "stderr",
     "output_type": "stream",
     "text": [
      "Copying files: 1160it [03:49,  1.39it/s]"
     ]
    },
    {
     "name": "stdout",
     "output_type": "stream",
     "text": [
      "Copying G:\\내 드라이브\\Project\\RGBLab\\ABB\\Data\\01.폭행(assult)\\insidedoor_08\\416-2\\416-2_cam02_assault01_place02_night_spring_resized.mp4 to G:\\내 드라이브\\Project\\RGBLab\\ABB\\Data\\Resized\\01.폭행(assult)\\insidedoor_08\\416-2\\416-2_cam02_assault01_place02_night_spring_resized.mp4\n",
      "Copying G:\\내 드라이브\\Project\\RGBLab\\ABB\\Data\\01.폭행(assult)\\insidedoor_08\\416-2\\416-2_cam03_assault01_place02_night_winter_resized.mp4 to G:\\내 드라이브\\Project\\RGBLab\\ABB\\Data\\Resized\\01.폭행(assult)\\insidedoor_08\\416-2\\416-2_cam03_assault01_place02_night_winter_resized.mp4\n",
      "Copying G:\\내 드라이브\\Project\\RGBLab\\ABB\\Data\\01.폭행(assult)\\insidedoor_08\\416-2\\416-2_cam01_assault01_place02_night_winter_resized.mp4 to G:\\내 드라이브\\Project\\RGBLab\\ABB\\Data\\Resized\\01.폭행(assult)\\insidedoor_08\\416-2\\416-2_cam01_assault01_place02_night_winter_resized.mp4\n"
     ]
    },
    {
     "name": "stderr",
     "output_type": "stream",
     "text": [
      "Copying files: 1161it [03:50,  1.19it/s]"
     ]
    },
    {
     "name": "stdout",
     "output_type": "stream",
     "text": [
      "Copying G:\\내 드라이브\\Project\\RGBLab\\ABB\\Data\\01.폭행(assult)\\insidedoor_08\\416-2\\416-2_cam02_assault01_place02_night_winter_resized.mp4 to G:\\내 드라이브\\Project\\RGBLab\\ABB\\Data\\Resized\\01.폭행(assult)\\insidedoor_08\\416-2\\416-2_cam02_assault01_place02_night_winter_resized.mp4\n"
     ]
    },
    {
     "name": "stderr",
     "output_type": "stream",
     "text": [
      "Copying files: 1162it [03:52,  1.02s/it]"
     ]
    },
    {
     "name": "stdout",
     "output_type": "stream",
     "text": [
      "Copying G:\\내 드라이브\\Project\\RGBLab\\ABB\\Data\\01.폭행(assult)\\insidedoor_08\\416-2\\416-2_cam03_assault01_place02_night_spring_resized.mp4 to G:\\내 드라이브\\Project\\RGBLab\\ABB\\Data\\Resized\\01.폭행(assult)\\insidedoor_08\\416-2\\416-2_cam03_assault01_place02_night_spring_resized.mp4\n"
     ]
    },
    {
     "name": "stderr",
     "output_type": "stream",
     "text": [
      "Copying files: 1163it [03:54,  1.16s/it]"
     ]
    },
    {
     "name": "stdout",
     "output_type": "stream",
     "text": [
      "Copying G:\\내 드라이브\\Project\\RGBLab\\ABB\\Data\\01.폭행(assult)\\insidedoor_08\\416-2\\416-2_cam02_assault01_place02_night_summer_resized.mp4 to G:\\내 드라이브\\Project\\RGBLab\\ABB\\Data\\Resized\\01.폭행(assult)\\insidedoor_08\\416-2\\416-2_cam02_assault01_place02_night_summer_resized.mp4\n",
      "Copying G:\\내 드라이브\\Project\\RGBLab\\ABB\\Data\\01.폭행(assult)\\insidedoor_08\\416-2\\416-2_cam01_assault01_place02_night_spring_resized.mp4 to G:\\내 드라이브\\Project\\RGBLab\\ABB\\Data\\Resized\\01.폭행(assult)\\insidedoor_08\\416-2\\416-2_cam01_assault01_place02_night_spring_resized.mp4\n"
     ]
    },
    {
     "name": "stderr",
     "output_type": "stream",
     "text": [
      "Copying files: 1165it [03:58,  1.52s/it]"
     ]
    },
    {
     "name": "stdout",
     "output_type": "stream",
     "text": [
      "Copying G:\\내 드라이브\\Project\\RGBLab\\ABB\\Data\\01.폭행(assult)\\insidedoor_08\\416-3\\416-3_cam03_assault01_place02_night_winter_resized.mp4 to G:\\내 드라이브\\Project\\RGBLab\\ABB\\Data\\Resized\\01.폭행(assult)\\insidedoor_08\\416-3\\416-3_cam03_assault01_place02_night_winter_resized.mp4\n"
     ]
    },
    {
     "name": "stderr",
     "output_type": "stream",
     "text": [
      "Copying files: 1166it [04:00,  1.70s/it]"
     ]
    },
    {
     "name": "stdout",
     "output_type": "stream",
     "text": [
      "Copying G:\\내 드라이브\\Project\\RGBLab\\ABB\\Data\\01.폭행(assult)\\insidedoor_08\\416-3\\416-3_cam01_assault01_place02_night_winter_resized.mp4 to G:\\내 드라이브\\Project\\RGBLab\\ABB\\Data\\Resized\\01.폭행(assult)\\insidedoor_08\\416-3\\416-3_cam01_assault01_place02_night_winter_resized.mp4\n"
     ]
    },
    {
     "name": "stderr",
     "output_type": "stream",
     "text": [
      "Copying files: 1167it [04:03,  2.02s/it]"
     ]
    },
    {
     "name": "stdout",
     "output_type": "stream",
     "text": [
      "Copying G:\\내 드라이브\\Project\\RGBLab\\ABB\\Data\\01.폭행(assult)\\insidedoor_08\\416-3\\416-3_cam01_assault01_place02_night_spring_resized.mp4 to G:\\내 드라이브\\Project\\RGBLab\\ABB\\Data\\Resized\\01.폭행(assult)\\insidedoor_08\\416-3\\416-3_cam01_assault01_place02_night_spring_resized.mp4\n",
      "Copying G:\\내 드라이브\\Project\\RGBLab\\ABB\\Data\\01.폭행(assult)\\insidedoor_08\\416-3\\416-3_cam01_assault01_place02_night_summer_resized.mp4 to G:\\내 드라이브\\Project\\RGBLab\\ABB\\Data\\Resized\\01.폭행(assult)\\insidedoor_08\\416-3\\416-3_cam01_assault01_place02_night_summer_resized.mp4\n"
     ]
    },
    {
     "name": "stderr",
     "output_type": "stream",
     "text": [
      "Copying files: 1169it [04:04,  1.43s/it]"
     ]
    },
    {
     "name": "stdout",
     "output_type": "stream",
     "text": [
      "Copying G:\\내 드라이브\\Project\\RGBLab\\ABB\\Data\\01.폭행(assult)\\insidedoor_08\\416-3\\416-3_cam03_assault01_place02_night_summer_resized.mp4 to G:\\내 드라이브\\Project\\RGBLab\\ABB\\Data\\Resized\\01.폭행(assult)\\insidedoor_08\\416-3\\416-3_cam03_assault01_place02_night_summer_resized.mp4\n"
     ]
    },
    {
     "name": "stderr",
     "output_type": "stream",
     "text": [
      "Copying files: 1170it [04:05,  1.43s/it]"
     ]
    },
    {
     "name": "stdout",
     "output_type": "stream",
     "text": [
      "Copying G:\\내 드라이브\\Project\\RGBLab\\ABB\\Data\\01.폭행(assult)\\insidedoor_08\\416-3\\416-3_cam02_assault01_place02_night_summer_resized.mp4 to G:\\내 드라이브\\Project\\RGBLab\\ABB\\Data\\Resized\\01.폭행(assult)\\insidedoor_08\\416-3\\416-3_cam02_assault01_place02_night_summer_resized.mp4\n"
     ]
    },
    {
     "name": "stderr",
     "output_type": "stream",
     "text": [
      "Copying files: 1171it [04:07,  1.34s/it]"
     ]
    },
    {
     "name": "stdout",
     "output_type": "stream",
     "text": [
      "Copying G:\\내 드라이브\\Project\\RGBLab\\ABB\\Data\\01.폭행(assult)\\insidedoor_08\\416-3\\416-3_cam02_assault01_place02_night_spring_resized.mp4 to G:\\내 드라이브\\Project\\RGBLab\\ABB\\Data\\Resized\\01.폭행(assult)\\insidedoor_08\\416-3\\416-3_cam02_assault01_place02_night_spring_resized.mp4\n"
     ]
    },
    {
     "name": "stderr",
     "output_type": "stream",
     "text": [
      "Copying files: 1172it [04:10,  1.91s/it]"
     ]
    },
    {
     "name": "stdout",
     "output_type": "stream",
     "text": [
      "Copying G:\\내 드라이브\\Project\\RGBLab\\ABB\\Data\\01.폭행(assult)\\insidedoor_08\\416-3\\416-3_cam02_assault01_place02_night_winter_resized.mp4 to G:\\내 드라이브\\Project\\RGBLab\\ABB\\Data\\Resized\\01.폭행(assult)\\insidedoor_08\\416-3\\416-3_cam02_assault01_place02_night_winter_resized.mp4\n",
      "Copying G:\\내 드라이브\\Project\\RGBLab\\ABB\\Data\\01.폭행(assult)\\insidedoor_08\\416-3\\416-3_cam03_assault01_place02_night_spring_resized.mp4 to G:\\내 드라이브\\Project\\RGBLab\\ABB\\Data\\Resized\\01.폭행(assult)\\insidedoor_08\\416-3\\416-3_cam03_assault01_place02_night_spring_resized.mp4\n"
     ]
    },
    {
     "name": "stderr",
     "output_type": "stream",
     "text": [
      "Copying files: 1174it [04:11,  1.31s/it]"
     ]
    },
    {
     "name": "stdout",
     "output_type": "stream",
     "text": [
      "Copying G:\\내 드라이브\\Project\\RGBLab\\ABB\\Data\\01.폭행(assult)\\insidedoor_09\\416-5\\416-5_cam01_assault01_place02_night_winter_resized.mp4 to G:\\내 드라이브\\Project\\RGBLab\\ABB\\Data\\Resized\\01.폭행(assult)\\insidedoor_09\\416-5\\416-5_cam01_assault01_place02_night_winter_resized.mp4\n"
     ]
    },
    {
     "name": "stderr",
     "output_type": "stream",
     "text": [
      "Copying files: 1175it [04:12,  1.28s/it]"
     ]
    },
    {
     "name": "stdout",
     "output_type": "stream",
     "text": [
      "Copying G:\\내 드라이브\\Project\\RGBLab\\ABB\\Data\\01.폭행(assult)\\insidedoor_09\\416-5\\416-5_cam02_assault01_place02_night_winter_resized.mp4 to G:\\내 드라이브\\Project\\RGBLab\\ABB\\Data\\Resized\\01.폭행(assult)\\insidedoor_09\\416-5\\416-5_cam02_assault01_place02_night_winter_resized.mp4\n",
      "Copying G:\\내 드라이브\\Project\\RGBLab\\ABB\\Data\\01.폭행(assult)\\insidedoor_09\\416-5\\416-5_cam03_assault01_place02_night_summer_resized.mp4 to G:\\내 드라이브\\Project\\RGBLab\\ABB\\Data\\Resized\\01.폭행(assult)\\insidedoor_09\\416-5\\416-5_cam03_assault01_place02_night_summer_resized.mp4\n"
     ]
    },
    {
     "name": "stderr",
     "output_type": "stream",
     "text": [
      "Copying files: 1177it [04:14,  1.06s/it]"
     ]
    },
    {
     "name": "stdout",
     "output_type": "stream",
     "text": [
      "Copying G:\\내 드라이브\\Project\\RGBLab\\ABB\\Data\\01.폭행(assult)\\insidedoor_09\\416-5\\416-5_cam03_assault01_place02_night_winter_resized.mp4 to G:\\내 드라이브\\Project\\RGBLab\\ABB\\Data\\Resized\\01.폭행(assult)\\insidedoor_09\\416-5\\416-5_cam03_assault01_place02_night_winter_resized.mp4\n",
      "Copying G:\\내 드라이브\\Project\\RGBLab\\ABB\\Data\\01.폭행(assult)\\insidedoor_09\\416-5\\416-5_cam02_assault01_place02_night_summer_resized.mp4 to G:\\내 드라이브\\Project\\RGBLab\\ABB\\Data\\Resized\\01.폭행(assult)\\insidedoor_09\\416-5\\416-5_cam02_assault01_place02_night_summer_resized.mp4\n"
     ]
    },
    {
     "name": "stderr",
     "output_type": "stream",
     "text": [
      "Copying files: 1179it [04:15,  1.06it/s]"
     ]
    },
    {
     "name": "stdout",
     "output_type": "stream",
     "text": [
      "Copying G:\\내 드라이브\\Project\\RGBLab\\ABB\\Data\\01.폭행(assult)\\insidedoor_09\\416-5\\416-5_cam02_assault01_place02_night_spring_resized.mp4 to G:\\내 드라이브\\Project\\RGBLab\\ABB\\Data\\Resized\\01.폭행(assult)\\insidedoor_09\\416-5\\416-5_cam02_assault01_place02_night_spring_resized.mp4\n"
     ]
    },
    {
     "name": "stderr",
     "output_type": "stream",
     "text": [
      "Copying files: 1180it [04:17,  1.07s/it]"
     ]
    },
    {
     "name": "stdout",
     "output_type": "stream",
     "text": [
      "Copying G:\\내 드라이브\\Project\\RGBLab\\ABB\\Data\\01.폭행(assult)\\insidedoor_09\\416-5\\416-5_cam01_assault01_place02_night_spring_resized.mp4 to G:\\내 드라이브\\Project\\RGBLab\\ABB\\Data\\Resized\\01.폭행(assult)\\insidedoor_09\\416-5\\416-5_cam01_assault01_place02_night_spring_resized.mp4\n"
     ]
    },
    {
     "name": "stderr",
     "output_type": "stream",
     "text": [
      "Copying files: 1181it [04:18,  1.11s/it]"
     ]
    },
    {
     "name": "stdout",
     "output_type": "stream",
     "text": [
      "Copying G:\\내 드라이브\\Project\\RGBLab\\ABB\\Data\\01.폭행(assult)\\insidedoor_09\\416-5\\416-5_cam01_assault01_place02_night_summer_resized.mp4 to G:\\내 드라이브\\Project\\RGBLab\\ABB\\Data\\Resized\\01.폭행(assult)\\insidedoor_09\\416-5\\416-5_cam01_assault01_place02_night_summer_resized.mp4\n"
     ]
    },
    {
     "name": "stderr",
     "output_type": "stream",
     "text": [
      "Copying files: 1182it [04:22,  1.79s/it]"
     ]
    },
    {
     "name": "stdout",
     "output_type": "stream",
     "text": [
      "Copying G:\\내 드라이브\\Project\\RGBLab\\ABB\\Data\\01.폭행(assult)\\insidedoor_09\\416-5\\416-5_cam03_assault01_place02_night_spring_resized.mp4 to G:\\내 드라이브\\Project\\RGBLab\\ABB\\Data\\Resized\\01.폭행(assult)\\insidedoor_09\\416-5\\416-5_cam03_assault01_place02_night_spring_resized.mp4\n"
     ]
    },
    {
     "name": "stderr",
     "output_type": "stream",
     "text": [
      "Copying files: 1183it [04:23,  1.62s/it]"
     ]
    },
    {
     "name": "stdout",
     "output_type": "stream",
     "text": [
      "Copying G:\\내 드라이브\\Project\\RGBLab\\ABB\\Data\\01.폭행(assult)\\insidedoor_09\\416-6\\416-6_cam01_assault01_place02_night_summer_resized.mp4 to G:\\내 드라이브\\Project\\RGBLab\\ABB\\Data\\Resized\\01.폭행(assult)\\insidedoor_09\\416-6\\416-6_cam01_assault01_place02_night_summer_resized.mp4\n"
     ]
    },
    {
     "name": "stderr",
     "output_type": "stream",
     "text": [
      "Copying files: 1184it [04:24,  1.53s/it]"
     ]
    },
    {
     "name": "stdout",
     "output_type": "stream",
     "text": [
      "Copying G:\\내 드라이브\\Project\\RGBLab\\ABB\\Data\\01.폭행(assult)\\insidedoor_09\\416-6\\416-6_cam01_assault01_place02_night_spring_resized.mp4 to G:\\내 드라이브\\Project\\RGBLab\\ABB\\Data\\Resized\\01.폭행(assult)\\insidedoor_09\\416-6\\416-6_cam01_assault01_place02_night_spring_resized.mp4\n"
     ]
    },
    {
     "name": "stderr",
     "output_type": "stream",
     "text": [
      "Copying files: 1187it [04:26,  1.23it/s]"
     ]
    },
    {
     "name": "stdout",
     "output_type": "stream",
     "text": [
      "Copying G:\\내 드라이브\\Project\\RGBLab\\ABB\\Data\\01.폭행(assult)\\insidedoor_09\\416-6\\416-6_cam03_assault01_place02_night_spring_resized.mp4 to G:\\내 드라이브\\Project\\RGBLab\\ABB\\Data\\Resized\\01.폭행(assult)\\insidedoor_09\\416-6\\416-6_cam03_assault01_place02_night_spring_resized.mp4\n",
      "Copying G:\\내 드라이브\\Project\\RGBLab\\ABB\\Data\\01.폭행(assult)\\insidedoor_09\\416-6\\416-6_cam02_assault01_place02_night_winter_resized.mp4 to G:\\내 드라이브\\Project\\RGBLab\\ABB\\Data\\Resized\\01.폭행(assult)\\insidedoor_09\\416-6\\416-6_cam02_assault01_place02_night_winter_resized.mp4\n",
      "Copying G:\\내 드라이브\\Project\\RGBLab\\ABB\\Data\\01.폭행(assult)\\insidedoor_09\\416-6\\416-6_cam02_assault01_place02_night_spring_resized.mp4 to G:\\내 드라이브\\Project\\RGBLab\\ABB\\Data\\Resized\\01.폭행(assult)\\insidedoor_09\\416-6\\416-6_cam02_assault01_place02_night_spring_resized.mp4\n"
     ]
    },
    {
     "name": "stderr",
     "output_type": "stream",
     "text": [
      "Copying files: 1187it [04:26,  1.23it/s]"
     ]
    },
    {
     "name": "stdout",
     "output_type": "stream",
     "text": [
      "Copying G:\\내 드라이브\\Project\\RGBLab\\ABB\\Data\\01.폭행(assult)\\insidedoor_09\\416-6\\416-6_cam03_assault01_place02_night_summer_resized.mp4 to G:\\내 드라이브\\Project\\RGBLab\\ABB\\Data\\Resized\\01.폭행(assult)\\insidedoor_09\\416-6\\416-6_cam03_assault01_place02_night_summer_resized.mp4\n"
     ]
    },
    {
     "name": "stderr",
     "output_type": "stream",
     "text": [
      "Copying files: 1189it [04:27,  1.39it/s]"
     ]
    },
    {
     "name": "stdout",
     "output_type": "stream",
     "text": [
      "Copying G:\\내 드라이브\\Project\\RGBLab\\ABB\\Data\\01.폭행(assult)\\insidedoor_09\\416-6\\416-6_cam03_assault01_place02_night_winter_resized.mp4 to G:\\내 드라이브\\Project\\RGBLab\\ABB\\Data\\Resized\\01.폭행(assult)\\insidedoor_09\\416-6\\416-6_cam03_assault01_place02_night_winter_resized.mp4\n"
     ]
    },
    {
     "name": "stderr",
     "output_type": "stream",
     "text": [
      "Copying files: 1190it [04:28,  1.25it/s]"
     ]
    },
    {
     "name": "stdout",
     "output_type": "stream",
     "text": [
      "Copying G:\\내 드라이브\\Project\\RGBLab\\ABB\\Data\\01.폭행(assult)\\insidedoor_09\\416-6\\416-6_cam02_assault01_place02_night_summer_resized.mp4 to G:\\내 드라이브\\Project\\RGBLab\\ABB\\Data\\Resized\\01.폭행(assult)\\insidedoor_09\\416-6\\416-6_cam02_assault01_place02_night_summer_resized.mp4\n"
     ]
    },
    {
     "name": "stderr",
     "output_type": "stream",
     "text": [
      "Copying files: 1191it [04:29,  1.10it/s]"
     ]
    },
    {
     "name": "stdout",
     "output_type": "stream",
     "text": [
      "Copying G:\\내 드라이브\\Project\\RGBLab\\ABB\\Data\\01.폭행(assult)\\insidedoor_09\\416-6\\416-6_cam01_assault01_place02_night_winter_resized.mp4 to G:\\내 드라이브\\Project\\RGBLab\\ABB\\Data\\Resized\\01.폭행(assult)\\insidedoor_09\\416-6\\416-6_cam01_assault01_place02_night_winter_resized.mp4\n",
      "Copying G:\\내 드라이브\\Project\\RGBLab\\ABB\\Data\\01.폭행(assult)\\insidedoor_09\\417-1\\417-1_cam03_assault01_place03_night_summer_resized.mp4 to G:\\내 드라이브\\Project\\RGBLab\\ABB\\Data\\Resized\\01.폭행(assult)\\insidedoor_09\\417-1\\417-1_cam03_assault01_place03_night_summer_resized.mp4\n"
     ]
    },
    {
     "name": "stderr",
     "output_type": "stream",
     "text": [
      "Copying files: 1193it [04:30,  1.26it/s]"
     ]
    },
    {
     "name": "stdout",
     "output_type": "stream",
     "text": [
      "Copying G:\\내 드라이브\\Project\\RGBLab\\ABB\\Data\\01.폭행(assult)\\insidedoor_09\\417-1\\417-1_cam02_assault01_place03_night_spring_resized.mp4 to G:\\내 드라이브\\Project\\RGBLab\\ABB\\Data\\Resized\\01.폭행(assult)\\insidedoor_09\\417-1\\417-1_cam02_assault01_place03_night_spring_resized.mp4\n"
     ]
    },
    {
     "name": "stderr",
     "output_type": "stream",
     "text": [
      "Copying files: 1194it [04:31,  1.18it/s]"
     ]
    },
    {
     "name": "stdout",
     "output_type": "stream",
     "text": [
      "Copying G:\\내 드라이브\\Project\\RGBLab\\ABB\\Data\\01.폭행(assult)\\insidedoor_09\\417-1\\417-1_cam01_assault01_place03_night_summer_resized.mp4 to G:\\내 드라이브\\Project\\RGBLab\\ABB\\Data\\Resized\\01.폭행(assult)\\insidedoor_09\\417-1\\417-1_cam01_assault01_place03_night_summer_resized.mp4\n",
      "Copying G:\\내 드라이브\\Project\\RGBLab\\ABB\\Data\\01.폭행(assult)\\insidedoor_09\\417-1\\417-1_cam01_assault01_place03_night_winter_resized.mp4 to G:\\내 드라이브\\Project\\RGBLab\\ABB\\Data\\Resized\\01.폭행(assult)\\insidedoor_09\\417-1\\417-1_cam01_assault01_place03_night_winter_resized.mp4\n"
     ]
    },
    {
     "name": "stderr",
     "output_type": "stream",
     "text": [
      "Copying files: 1196it [04:32,  1.36it/s]"
     ]
    },
    {
     "name": "stdout",
     "output_type": "stream",
     "text": [
      "Copying G:\\내 드라이브\\Project\\RGBLab\\ABB\\Data\\01.폭행(assult)\\insidedoor_09\\417-1\\417-1_cam01_assault01_place03_night_spring_resized.mp4 to G:\\내 드라이브\\Project\\RGBLab\\ABB\\Data\\Resized\\01.폭행(assult)\\insidedoor_09\\417-1\\417-1_cam01_assault01_place03_night_spring_resized.mp4\n"
     ]
    },
    {
     "name": "stderr",
     "output_type": "stream",
     "text": [
      "Copying files: 1197it [04:35,  1.22s/it]"
     ]
    },
    {
     "name": "stdout",
     "output_type": "stream",
     "text": [
      "Copying G:\\내 드라이브\\Project\\RGBLab\\ABB\\Data\\01.폭행(assult)\\insidedoor_09\\417-1\\417-1_cam03_assault01_place03_night_spring_resized.mp4 to G:\\내 드라이브\\Project\\RGBLab\\ABB\\Data\\Resized\\01.폭행(assult)\\insidedoor_09\\417-1\\417-1_cam03_assault01_place03_night_spring_resized.mp4\n"
     ]
    },
    {
     "name": "stderr",
     "output_type": "stream",
     "text": [
      "Copying files: 1198it [04:37,  1.25s/it]"
     ]
    },
    {
     "name": "stdout",
     "output_type": "stream",
     "text": [
      "Copying G:\\내 드라이브\\Project\\RGBLab\\ABB\\Data\\01.폭행(assult)\\insidedoor_09\\417-1\\417-1_cam02_assault01_place03_night_summer_resized.mp4 to G:\\내 드라이브\\Project\\RGBLab\\ABB\\Data\\Resized\\01.폭행(assult)\\insidedoor_09\\417-1\\417-1_cam02_assault01_place03_night_summer_resized.mp4\n"
     ]
    },
    {
     "name": "stderr",
     "output_type": "stream",
     "text": [
      "Copying files: 1199it [04:38,  1.28s/it]"
     ]
    },
    {
     "name": "stdout",
     "output_type": "stream",
     "text": [
      "Copying G:\\내 드라이브\\Project\\RGBLab\\ABB\\Data\\01.폭행(assult)\\insidedoor_09\\417-1\\417-1_cam03_assault01_place03_night_winter_resized.mp4 to G:\\내 드라이브\\Project\\RGBLab\\ABB\\Data\\Resized\\01.폭행(assult)\\insidedoor_09\\417-1\\417-1_cam03_assault01_place03_night_winter_resized.mp4\n"
     ]
    },
    {
     "name": "stderr",
     "output_type": "stream",
     "text": [
      "Copying files: 1200it [04:40,  1.31s/it]"
     ]
    },
    {
     "name": "stdout",
     "output_type": "stream",
     "text": [
      "Copying G:\\내 드라이브\\Project\\RGBLab\\ABB\\Data\\01.폭행(assult)\\insidedoor_09\\417-1\\417-1_cam02_assault01_place03_night_winter_resized.mp4 to G:\\내 드라이브\\Project\\RGBLab\\ABB\\Data\\Resized\\01.폭행(assult)\\insidedoor_09\\417-1\\417-1_cam02_assault01_place03_night_winter_resized.mp4\n",
      "Copying G:\\내 드라이브\\Project\\RGBLab\\ABB\\Data\\01.폭행(assult)\\insidedoor_09\\417-2\\417-2_cam03_assault01_place03_night_winter_resized.mp4 to G:\\내 드라이브\\Project\\RGBLab\\ABB\\Data\\Resized\\01.폭행(assult)\\insidedoor_09\\417-2\\417-2_cam03_assault01_place03_night_winter_resized.mp4\n"
     ]
    },
    {
     "name": "stderr",
     "output_type": "stream",
     "text": [
      "Copying files: 1202it [04:41,  1.03it/s]"
     ]
    },
    {
     "name": "stdout",
     "output_type": "stream",
     "text": [
      "Copying G:\\내 드라이브\\Project\\RGBLab\\ABB\\Data\\01.폭행(assult)\\insidedoor_09\\417-2\\417-2_cam01_assault01_place03_night_spring_resized.mp4 to G:\\내 드라이브\\Project\\RGBLab\\ABB\\Data\\Resized\\01.폭행(assult)\\insidedoor_09\\417-2\\417-2_cam01_assault01_place03_night_spring_resized.mp4\n"
     ]
    },
    {
     "name": "stderr",
     "output_type": "stream",
     "text": [
      "Copying files: 1203it [04:42,  1.01s/it]"
     ]
    },
    {
     "name": "stdout",
     "output_type": "stream",
     "text": [
      "Copying G:\\내 드라이브\\Project\\RGBLab\\ABB\\Data\\01.폭행(assult)\\insidedoor_09\\417-2\\417-2_cam02_assault01_place03_night_summer_resized.mp4 to G:\\내 드라이브\\Project\\RGBLab\\ABB\\Data\\Resized\\01.폭행(assult)\\insidedoor_09\\417-2\\417-2_cam02_assault01_place03_night_summer_resized.mp4\n"
     ]
    },
    {
     "name": "stderr",
     "output_type": "stream",
     "text": [
      "Copying files: 1204it [04:43,  1.01s/it]"
     ]
    },
    {
     "name": "stdout",
     "output_type": "stream",
     "text": [
      "Copying G:\\내 드라이브\\Project\\RGBLab\\ABB\\Data\\01.폭행(assult)\\insidedoor_09\\417-2\\417-2_cam01_assault01_place03_night_winter_resized.mp4 to G:\\내 드라이브\\Project\\RGBLab\\ABB\\Data\\Resized\\01.폭행(assult)\\insidedoor_09\\417-2\\417-2_cam01_assault01_place03_night_winter_resized.mp4\n",
      "Copying G:\\내 드라이브\\Project\\RGBLab\\ABB\\Data\\01.폭행(assult)\\insidedoor_09\\417-2\\417-2_cam02_assault01_place03_night_spring_resized.mp4 to G:\\내 드라이브\\Project\\RGBLab\\ABB\\Data\\Resized\\01.폭행(assult)\\insidedoor_09\\417-2\\417-2_cam02_assault01_place03_night_spring_resized.mp4\n"
     ]
    },
    {
     "name": "stderr",
     "output_type": "stream",
     "text": [
      "Copying files: 1206it [04:44,  1.25it/s]"
     ]
    },
    {
     "name": "stdout",
     "output_type": "stream",
     "text": [
      "Copying G:\\내 드라이브\\Project\\RGBLab\\ABB\\Data\\01.폭행(assult)\\insidedoor_09\\417-2\\417-2_cam01_assault01_place03_night_summer_resized.mp4 to G:\\내 드라이브\\Project\\RGBLab\\ABB\\Data\\Resized\\01.폭행(assult)\\insidedoor_09\\417-2\\417-2_cam01_assault01_place03_night_summer_resized.mp4\n"
     ]
    },
    {
     "name": "stderr",
     "output_type": "stream",
     "text": [
      "Copying files: 1207it [04:45,  1.16it/s]"
     ]
    },
    {
     "name": "stdout",
     "output_type": "stream",
     "text": [
      "Copying G:\\내 드라이브\\Project\\RGBLab\\ABB\\Data\\01.폭행(assult)\\insidedoor_09\\417-2\\417-2_cam03_assault01_place03_night_summer_resized.mp4 to G:\\내 드라이브\\Project\\RGBLab\\ABB\\Data\\Resized\\01.폭행(assult)\\insidedoor_09\\417-2\\417-2_cam03_assault01_place03_night_summer_resized.mp4\n"
     ]
    },
    {
     "name": "stderr",
     "output_type": "stream",
     "text": [
      "Copying files: 1208it [04:46,  1.11it/s]"
     ]
    },
    {
     "name": "stdout",
     "output_type": "stream",
     "text": [
      "Copying G:\\내 드라이브\\Project\\RGBLab\\ABB\\Data\\01.폭행(assult)\\insidedoor_09\\417-2\\417-2_cam02_assault01_place03_night_winter_resized.mp4 to G:\\내 드라이브\\Project\\RGBLab\\ABB\\Data\\Resized\\01.폭행(assult)\\insidedoor_09\\417-2\\417-2_cam02_assault01_place03_night_winter_resized.mp4\n"
     ]
    },
    {
     "name": "stderr",
     "output_type": "stream",
     "text": [
      "Copying files: 1209it [04:47,  1.09it/s]"
     ]
    },
    {
     "name": "stdout",
     "output_type": "stream",
     "text": [
      "Copying G:\\내 드라이브\\Project\\RGBLab\\ABB\\Data\\01.폭행(assult)\\insidedoor_09\\417-2\\417-2_cam03_assault01_place03_night_spring_resized.mp4 to G:\\내 드라이브\\Project\\RGBLab\\ABB\\Data\\Resized\\01.폭행(assult)\\insidedoor_09\\417-2\\417-2_cam03_assault01_place03_night_spring_resized.mp4\n"
     ]
    },
    {
     "name": "stderr",
     "output_type": "stream",
     "text": [
      "Copying files: 1210it [04:48,  1.01s/it]"
     ]
    },
    {
     "name": "stdout",
     "output_type": "stream",
     "text": [
      "Copying G:\\내 드라이브\\Project\\RGBLab\\ABB\\Data\\01.폭행(assult)\\insidedoor_09\\417-3\\417-3_cam03_assault01_place03_night_summer_resized.mp4 to G:\\내 드라이브\\Project\\RGBLab\\ABB\\Data\\Resized\\01.폭행(assult)\\insidedoor_09\\417-3\\417-3_cam03_assault01_place03_night_summer_resized.mp4\n"
     ]
    },
    {
     "name": "stderr",
     "output_type": "stream",
     "text": [
      "Copying files: 1211it [04:49,  1.06s/it]"
     ]
    },
    {
     "name": "stdout",
     "output_type": "stream",
     "text": [
      "Copying G:\\내 드라이브\\Project\\RGBLab\\ABB\\Data\\01.폭행(assult)\\insidedoor_09\\417-3\\417-3_cam03_assault01_place03_night_winter_resized.mp4 to G:\\내 드라이브\\Project\\RGBLab\\ABB\\Data\\Resized\\01.폭행(assult)\\insidedoor_09\\417-3\\417-3_cam03_assault01_place03_night_winter_resized.mp4\n"
     ]
    },
    {
     "name": "stderr",
     "output_type": "stream",
     "text": [
      "Copying files: 1212it [04:50,  1.10s/it]"
     ]
    },
    {
     "name": "stdout",
     "output_type": "stream",
     "text": [
      "Copying G:\\내 드라이브\\Project\\RGBLab\\ABB\\Data\\01.폭행(assult)\\insidedoor_09\\417-3\\417-3_cam02_assault01_place03_night_summer_resized.mp4 to G:\\내 드라이브\\Project\\RGBLab\\ABB\\Data\\Resized\\01.폭행(assult)\\insidedoor_09\\417-3\\417-3_cam02_assault01_place03_night_summer_resized.mp4\n"
     ]
    },
    {
     "name": "stderr",
     "output_type": "stream",
     "text": [
      "Copying files: 1213it [04:52,  1.35s/it]"
     ]
    },
    {
     "name": "stdout",
     "output_type": "stream",
     "text": [
      "Copying G:\\내 드라이브\\Project\\RGBLab\\ABB\\Data\\01.폭행(assult)\\insidedoor_09\\417-3\\417-3_cam02_assault01_place03_night_winter_resized.mp4 to G:\\내 드라이브\\Project\\RGBLab\\ABB\\Data\\Resized\\01.폭행(assult)\\insidedoor_09\\417-3\\417-3_cam02_assault01_place03_night_winter_resized.mp4\n"
     ]
    },
    {
     "name": "stderr",
     "output_type": "stream",
     "text": [
      "Copying files: 1214it [04:54,  1.29s/it]"
     ]
    },
    {
     "name": "stdout",
     "output_type": "stream",
     "text": [
      "Copying G:\\내 드라이브\\Project\\RGBLab\\ABB\\Data\\01.폭행(assult)\\insidedoor_09\\417-3\\417-3_cam01_assault01_place03_night_winter_resized.mp4 to G:\\내 드라이브\\Project\\RGBLab\\ABB\\Data\\Resized\\01.폭행(assult)\\insidedoor_09\\417-3\\417-3_cam01_assault01_place03_night_winter_resized.mp4\n"
     ]
    },
    {
     "name": "stderr",
     "output_type": "stream",
     "text": [
      "Copying files: 1215it [04:56,  1.69s/it]"
     ]
    },
    {
     "name": "stdout",
     "output_type": "stream",
     "text": [
      "Copying G:\\내 드라이브\\Project\\RGBLab\\ABB\\Data\\01.폭행(assult)\\insidedoor_09\\417-3\\417-3_cam03_assault01_place03_night_spring_resized.mp4 to G:\\내 드라이브\\Project\\RGBLab\\ABB\\Data\\Resized\\01.폭행(assult)\\insidedoor_09\\417-3\\417-3_cam03_assault01_place03_night_spring_resized.mp4\n"
     ]
    },
    {
     "name": "stderr",
     "output_type": "stream",
     "text": [
      "Copying files: 1216it [04:58,  1.68s/it]"
     ]
    },
    {
     "name": "stdout",
     "output_type": "stream",
     "text": [
      "Copying G:\\내 드라이브\\Project\\RGBLab\\ABB\\Data\\01.폭행(assult)\\insidedoor_09\\417-3\\417-3_cam02_assault01_place03_night_spring_resized.mp4 to G:\\내 드라이브\\Project\\RGBLab\\ABB\\Data\\Resized\\01.폭행(assult)\\insidedoor_09\\417-3\\417-3_cam02_assault01_place03_night_spring_resized.mp4\n",
      "Copying G:\\내 드라이브\\Project\\RGBLab\\ABB\\Data\\01.폭행(assult)\\insidedoor_09\\417-3\\417-3_cam01_assault01_place03_night_spring_resized.mp4 to G:\\내 드라이브\\Project\\RGBLab\\ABB\\Data\\Resized\\01.폭행(assult)\\insidedoor_09\\417-3\\417-3_cam01_assault01_place03_night_spring_resized.mp4\n"
     ]
    },
    {
     "name": "stderr",
     "output_type": "stream",
     "text": [
      "Copying files: 1218it [04:59,  1.24s/it]"
     ]
    },
    {
     "name": "stdout",
     "output_type": "stream",
     "text": [
      "Copying G:\\내 드라이브\\Project\\RGBLab\\ABB\\Data\\01.폭행(assult)\\insidedoor_09\\417-3\\417-3_cam01_assault01_place03_night_summer_resized.mp4 to G:\\내 드라이브\\Project\\RGBLab\\ABB\\Data\\Resized\\01.폭행(assult)\\insidedoor_09\\417-3\\417-3_cam01_assault01_place03_night_summer_resized.mp4\n"
     ]
    },
    {
     "name": "stderr",
     "output_type": "stream",
     "text": [
      "Copying files: 1219it [05:00,  1.20s/it]"
     ]
    },
    {
     "name": "stdout",
     "output_type": "stream",
     "text": [
      "Copying G:\\내 드라이브\\Project\\RGBLab\\ABB\\Data\\01.폭행(assult)\\insidedoor_09\\417-4\\417-4_cam02_assault01_place03_night_spring_resized.mp4 to G:\\내 드라이브\\Project\\RGBLab\\ABB\\Data\\Resized\\01.폭행(assult)\\insidedoor_09\\417-4\\417-4_cam02_assault01_place03_night_spring_resized.mp4\n",
      "Copying G:\\내 드라이브\\Project\\RGBLab\\ABB\\Data\\01.폭행(assult)\\insidedoor_09\\417-4\\417-4_cam01_assault01_place03_night_winter_resized.mp4 to G:\\내 드라이브\\Project\\RGBLab\\ABB\\Data\\Resized\\01.폭행(assult)\\insidedoor_09\\417-4\\417-4_cam01_assault01_place03_night_winter_resized.mp4\n"
     ]
    },
    {
     "name": "stderr",
     "output_type": "stream",
     "text": [
      "Copying files: 1221it [05:02,  1.01it/s]"
     ]
    },
    {
     "name": "stdout",
     "output_type": "stream",
     "text": [
      "Copying G:\\내 드라이브\\Project\\RGBLab\\ABB\\Data\\01.폭행(assult)\\insidedoor_09\\417-4\\417-4_cam03_assault01_place03_night_spring_resized.mp4 to G:\\내 드라이브\\Project\\RGBLab\\ABB\\Data\\Resized\\01.폭행(assult)\\insidedoor_09\\417-4\\417-4_cam03_assault01_place03_night_spring_resized.mp4\n"
     ]
    },
    {
     "name": "stderr",
     "output_type": "stream",
     "text": [
      "Copying files: 1222it [05:03,  1.08s/it]"
     ]
    },
    {
     "name": "stdout",
     "output_type": "stream",
     "text": [
      "Copying G:\\내 드라이브\\Project\\RGBLab\\ABB\\Data\\01.폭행(assult)\\insidedoor_09\\417-4\\417-4_cam02_assault01_place03_night_winter_resized.mp4 to G:\\내 드라이브\\Project\\RGBLab\\ABB\\Data\\Resized\\01.폭행(assult)\\insidedoor_09\\417-4\\417-4_cam02_assault01_place03_night_winter_resized.mp4\n"
     ]
    },
    {
     "name": "stderr",
     "output_type": "stream",
     "text": [
      "Copying files: 1223it [05:04,  1.10s/it]"
     ]
    },
    {
     "name": "stdout",
     "output_type": "stream",
     "text": [
      "Copying G:\\내 드라이브\\Project\\RGBLab\\ABB\\Data\\01.폭행(assult)\\insidedoor_09\\417-4\\417-4_cam01_assault01_place03_night_summer_resized.mp4 to G:\\내 드라이브\\Project\\RGBLab\\ABB\\Data\\Resized\\01.폭행(assult)\\insidedoor_09\\417-4\\417-4_cam01_assault01_place03_night_summer_resized.mp4\n"
     ]
    },
    {
     "name": "stderr",
     "output_type": "stream",
     "text": [
      "Copying files: 1224it [05:06,  1.14s/it]"
     ]
    },
    {
     "name": "stdout",
     "output_type": "stream",
     "text": [
      "Copying G:\\내 드라이브\\Project\\RGBLab\\ABB\\Data\\01.폭행(assult)\\insidedoor_09\\417-4\\417-4_cam02_assault01_place03_night_summer_resized.mp4 to G:\\내 드라이브\\Project\\RGBLab\\ABB\\Data\\Resized\\01.폭행(assult)\\insidedoor_09\\417-4\\417-4_cam02_assault01_place03_night_summer_resized.mp4\n"
     ]
    },
    {
     "name": "stderr",
     "output_type": "stream",
     "text": [
      "Copying files: 1225it [05:08,  1.48s/it]"
     ]
    },
    {
     "name": "stdout",
     "output_type": "stream",
     "text": [
      "Copying G:\\내 드라이브\\Project\\RGBLab\\ABB\\Data\\01.폭행(assult)\\insidedoor_09\\417-4\\417-4_cam01_assault01_place03_night_spring_resized.mp4 to G:\\내 드라이브\\Project\\RGBLab\\ABB\\Data\\Resized\\01.폭행(assult)\\insidedoor_09\\417-4\\417-4_cam01_assault01_place03_night_spring_resized.mp4\n"
     ]
    },
    {
     "name": "stderr",
     "output_type": "stream",
     "text": [
      "Copying files: 1226it [05:09,  1.42s/it]"
     ]
    },
    {
     "name": "stdout",
     "output_type": "stream",
     "text": [
      "Copying G:\\내 드라이브\\Project\\RGBLab\\ABB\\Data\\01.폭행(assult)\\insidedoor_09\\417-4\\417-4_cam03_assault01_place03_night_winter_resized.mp4 to G:\\내 드라이브\\Project\\RGBLab\\ABB\\Data\\Resized\\01.폭행(assult)\\insidedoor_09\\417-4\\417-4_cam03_assault01_place03_night_winter_resized.mp4\n"
     ]
    },
    {
     "name": "stderr",
     "output_type": "stream",
     "text": [
      "Copying files: 1227it [05:10,  1.32s/it]"
     ]
    },
    {
     "name": "stdout",
     "output_type": "stream",
     "text": [
      "Copying G:\\내 드라이브\\Project\\RGBLab\\ABB\\Data\\01.폭행(assult)\\insidedoor_09\\417-4\\417-4_cam03_assault01_place03_night_summer_resized.mp4 to G:\\내 드라이브\\Project\\RGBLab\\ABB\\Data\\Resized\\01.폭행(assult)\\insidedoor_09\\417-4\\417-4_cam03_assault01_place03_night_summer_resized.mp4\n"
     ]
    },
    {
     "name": "stderr",
     "output_type": "stream",
     "text": [
      "Copying files: 1228it [05:11,  1.29s/it]"
     ]
    },
    {
     "name": "stdout",
     "output_type": "stream",
     "text": [
      "Copying G:\\내 드라이브\\Project\\RGBLab\\ABB\\Data\\01.폭행(assult)\\insidedoor_10\\439-4\\439-4_cam03_assault01_place03_day_spring_resized.mp4 to G:\\내 드라이브\\Project\\RGBLab\\ABB\\Data\\Resized\\01.폭행(assult)\\insidedoor_10\\439-4\\439-4_cam03_assault01_place03_day_spring_resized.mp4\n"
     ]
    },
    {
     "name": "stderr",
     "output_type": "stream",
     "text": [
      "Copying files: 1229it [05:13,  1.26s/it]"
     ]
    },
    {
     "name": "stdout",
     "output_type": "stream",
     "text": [
      "Copying G:\\내 드라이브\\Project\\RGBLab\\ABB\\Data\\01.폭행(assult)\\insidedoor_10\\439-4\\439-4_cam01_assault01_place03_day_spring_resized.mp4 to G:\\내 드라이브\\Project\\RGBLab\\ABB\\Data\\Resized\\01.폭행(assult)\\insidedoor_10\\439-4\\439-4_cam01_assault01_place03_day_spring_resized.mp4\n"
     ]
    },
    {
     "name": "stderr",
     "output_type": "stream",
     "text": [
      "Copying files: 1230it [05:15,  1.60s/it]"
     ]
    },
    {
     "name": "stdout",
     "output_type": "stream",
     "text": [
      "Copying G:\\내 드라이브\\Project\\RGBLab\\ABB\\Data\\01.폭행(assult)\\insidedoor_10\\439-4\\439-4_cam01_assault01_place03_day_summer_resized.mp4 to G:\\내 드라이브\\Project\\RGBLab\\ABB\\Data\\Resized\\01.폭행(assult)\\insidedoor_10\\439-4\\439-4_cam01_assault01_place03_day_summer_resized.mp4\n"
     ]
    },
    {
     "name": "stderr",
     "output_type": "stream",
     "text": [
      "Copying files: 1231it [05:16,  1.44s/it]"
     ]
    },
    {
     "name": "stdout",
     "output_type": "stream",
     "text": [
      "Copying G:\\내 드라이브\\Project\\RGBLab\\ABB\\Data\\01.폭행(assult)\\insidedoor_10\\439-4\\439-4_cam01_assault01_place03_day_winter_resized.mp4 to G:\\내 드라이브\\Project\\RGBLab\\ABB\\Data\\Resized\\01.폭행(assult)\\insidedoor_10\\439-4\\439-4_cam01_assault01_place03_day_winter_resized.mp4\n"
     ]
    },
    {
     "name": "stderr",
     "output_type": "stream",
     "text": [
      "Copying files: 1232it [05:17,  1.35s/it]"
     ]
    },
    {
     "name": "stdout",
     "output_type": "stream",
     "text": [
      "Copying G:\\내 드라이브\\Project\\RGBLab\\ABB\\Data\\01.폭행(assult)\\insidedoor_10\\439-4\\439-4_cam03_assault01_place03_day_summer_resized.mp4 to G:\\내 드라이브\\Project\\RGBLab\\ABB\\Data\\Resized\\01.폭행(assult)\\insidedoor_10\\439-4\\439-4_cam03_assault01_place03_day_summer_resized.mp4\n"
     ]
    },
    {
     "name": "stderr",
     "output_type": "stream",
     "text": [
      "Copying files: 1233it [05:18,  1.28s/it]"
     ]
    },
    {
     "name": "stdout",
     "output_type": "stream",
     "text": [
      "Copying G:\\내 드라이브\\Project\\RGBLab\\ABB\\Data\\01.폭행(assult)\\insidedoor_10\\439-4\\439-4_cam02_assault01_place03_day_summer_resized.mp4 to G:\\내 드라이브\\Project\\RGBLab\\ABB\\Data\\Resized\\01.폭행(assult)\\insidedoor_10\\439-4\\439-4_cam02_assault01_place03_day_summer_resized.mp4\n"
     ]
    },
    {
     "name": "stderr",
     "output_type": "stream",
     "text": [
      "Copying files: 1234it [05:19,  1.18s/it]"
     ]
    },
    {
     "name": "stdout",
     "output_type": "stream",
     "text": [
      "Copying G:\\내 드라이브\\Project\\RGBLab\\ABB\\Data\\01.폭행(assult)\\insidedoor_10\\439-4\\439-4_cam02_assault01_place03_day_winter_resized.mp4 to G:\\내 드라이브\\Project\\RGBLab\\ABB\\Data\\Resized\\01.폭행(assult)\\insidedoor_10\\439-4\\439-4_cam02_assault01_place03_day_winter_resized.mp4\n"
     ]
    },
    {
     "name": "stderr",
     "output_type": "stream",
     "text": [
      "Copying files: 1235it [05:20,  1.14s/it]"
     ]
    },
    {
     "name": "stdout",
     "output_type": "stream",
     "text": [
      "Copying G:\\내 드라이브\\Project\\RGBLab\\ABB\\Data\\01.폭행(assult)\\insidedoor_10\\439-4\\439-4_cam03_assault01_place03_day_winter_resized.mp4 to G:\\내 드라이브\\Project\\RGBLab\\ABB\\Data\\Resized\\01.폭행(assult)\\insidedoor_10\\439-4\\439-4_cam03_assault01_place03_day_winter_resized.mp4\n",
      "Copying G:\\내 드라이브\\Project\\RGBLab\\ABB\\Data\\01.폭행(assult)\\insidedoor_10\\439-4\\439-4_cam02_assault01_place03_day_spring_resized.mp4 to G:\\내 드라이브\\Project\\RGBLab\\ABB\\Data\\Resized\\01.폭행(assult)\\insidedoor_10\\439-4\\439-4_cam02_assault01_place03_day_spring_resized.mp4\n",
      "Copying G:\\내 드라이브\\Project\\RGBLab\\ABB\\Data\\01.폭행(assult)\\insidedoor_10\\439-5\\439-5_cam02_assault01_place03_day_spring_resized.mp4 to G:\\내 드라이브\\Project\\RGBLab\\ABB\\Data\\Resized\\01.폭행(assult)\\insidedoor_10\\439-5\\439-5_cam02_assault01_place03_day_spring_resized.mp4\n"
     ]
    },
    {
     "name": "stderr",
     "output_type": "stream",
     "text": [
      "Copying files: 1238it [05:22,  1.36it/s]"
     ]
    },
    {
     "name": "stdout",
     "output_type": "stream",
     "text": [
      "Copying G:\\내 드라이브\\Project\\RGBLab\\ABB\\Data\\01.폭행(assult)\\insidedoor_10\\439-5\\439-5_cam01_assault01_place03_day_winter_resized.mp4 to G:\\내 드라이브\\Project\\RGBLab\\ABB\\Data\\Resized\\01.폭행(assult)\\insidedoor_10\\439-5\\439-5_cam01_assault01_place03_day_winter_resized.mp4\n",
      "Copying G:\\내 드라이브\\Project\\RGBLab\\ABB\\Data\\01.폭행(assult)\\insidedoor_10\\439-5\\439-5_cam02_assault01_place03_day_summer_resized.mp4 to G:\\내 드라이브\\Project\\RGBLab\\ABB\\Data\\Resized\\01.폭행(assult)\\insidedoor_10\\439-5\\439-5_cam02_assault01_place03_day_summer_resized.mp4\n"
     ]
    },
    {
     "name": "stderr",
     "output_type": "stream",
     "text": [
      "Copying files: 1240it [05:23,  1.52it/s]"
     ]
    },
    {
     "name": "stdout",
     "output_type": "stream",
     "text": [
      "Copying G:\\내 드라이브\\Project\\RGBLab\\ABB\\Data\\01.폭행(assult)\\insidedoor_10\\439-5\\439-5_cam02_assault01_place03_day_winter_resized.mp4 to G:\\내 드라이브\\Project\\RGBLab\\ABB\\Data\\Resized\\01.폭행(assult)\\insidedoor_10\\439-5\\439-5_cam02_assault01_place03_day_winter_resized.mp4\n"
     ]
    },
    {
     "name": "stderr",
     "output_type": "stream",
     "text": [
      "Copying files: 1241it [05:24,  1.40it/s]"
     ]
    },
    {
     "name": "stdout",
     "output_type": "stream",
     "text": [
      "Copying G:\\내 드라이브\\Project\\RGBLab\\ABB\\Data\\01.폭행(assult)\\insidedoor_10\\439-5\\439-5_cam03_assault01_place03_day_winter_resized.mp4 to G:\\내 드라이브\\Project\\RGBLab\\ABB\\Data\\Resized\\01.폭행(assult)\\insidedoor_10\\439-5\\439-5_cam03_assault01_place03_day_winter_resized.mp4\n"
     ]
    },
    {
     "name": "stderr",
     "output_type": "stream",
     "text": [
      "Copying files: 1242it [05:25,  1.28it/s]"
     ]
    },
    {
     "name": "stdout",
     "output_type": "stream",
     "text": [
      "Copying G:\\내 드라이브\\Project\\RGBLab\\ABB\\Data\\01.폭행(assult)\\insidedoor_10\\439-5\\439-5_cam01_assault01_place03_day_spring_resized.mp4 to G:\\내 드라이브\\Project\\RGBLab\\ABB\\Data\\Resized\\01.폭행(assult)\\insidedoor_10\\439-5\\439-5_cam01_assault01_place03_day_spring_resized.mp4\n",
      "Copying G:\\내 드라이브\\Project\\RGBLab\\ABB\\Data\\01.폭행(assult)\\insidedoor_10\\439-5\\439-5_cam01_assault01_place03_day_summer_resized.mp4 to G:\\내 드라이브\\Project\\RGBLab\\ABB\\Data\\Resized\\01.폭행(assult)\\insidedoor_10\\439-5\\439-5_cam01_assault01_place03_day_summer_resized.mp4\n",
      "Copying G:\\내 드라이브\\Project\\RGBLab\\ABB\\Data\\01.폭행(assult)\\insidedoor_10\\439-5\\439-5_cam03_assault01_place03_day_summer_resized.mp4 to G:\\내 드라이브\\Project\\RGBLab\\ABB\\Data\\Resized\\01.폭행(assult)\\insidedoor_10\\439-5\\439-5_cam03_assault01_place03_day_summer_resized.mp4\n"
     ]
    },
    {
     "name": "stderr",
     "output_type": "stream",
     "text": [
      "Copying files: 1245it [05:27,  1.31it/s]"
     ]
    },
    {
     "name": "stdout",
     "output_type": "stream",
     "text": [
      "Copying G:\\내 드라이브\\Project\\RGBLab\\ABB\\Data\\01.폭행(assult)\\insidedoor_10\\439-5\\439-5_cam03_assault01_place03_day_spring_resized.mp4 to G:\\내 드라이브\\Project\\RGBLab\\ABB\\Data\\Resized\\01.폭행(assult)\\insidedoor_10\\439-5\\439-5_cam03_assault01_place03_day_spring_resized.mp4\n"
     ]
    },
    {
     "name": "stderr",
     "output_type": "stream",
     "text": [
      "Copying files: 1246it [05:28,  1.20it/s]"
     ]
    },
    {
     "name": "stdout",
     "output_type": "stream",
     "text": [
      "Copying G:\\내 드라이브\\Project\\RGBLab\\ABB\\Data\\01.폭행(assult)\\insidedoor_10\\45-3\\45-3_cam01_assault01_place01_day_spring_resized.mp4 to G:\\내 드라이브\\Project\\RGBLab\\ABB\\Data\\Resized\\01.폭행(assult)\\insidedoor_10\\45-3\\45-3_cam01_assault01_place01_day_spring_resized.mp4\n"
     ]
    },
    {
     "name": "stderr",
     "output_type": "stream",
     "text": [
      "Copying files: 1247it [05:30,  1.05s/it]"
     ]
    },
    {
     "name": "stdout",
     "output_type": "stream",
     "text": [
      "Copying G:\\내 드라이브\\Project\\RGBLab\\ABB\\Data\\01.폭행(assult)\\insidedoor_10\\45-3\\45-3_cam02_assault01_place01_day_winter_resized.mp4 to G:\\내 드라이브\\Project\\RGBLab\\ABB\\Data\\Resized\\01.폭행(assult)\\insidedoor_10\\45-3\\45-3_cam02_assault01_place01_day_winter_resized.mp4\n"
     ]
    },
    {
     "name": "stderr",
     "output_type": "stream",
     "text": [
      "Copying files: 1248it [05:33,  1.59s/it]"
     ]
    },
    {
     "name": "stdout",
     "output_type": "stream",
     "text": [
      "Copying G:\\내 드라이브\\Project\\RGBLab\\ABB\\Data\\01.폭행(assult)\\insidedoor_10\\45-3\\45-3_cam02_assault01_place01_day_spring_resized.mp4 to G:\\내 드라이브\\Project\\RGBLab\\ABB\\Data\\Resized\\01.폭행(assult)\\insidedoor_10\\45-3\\45-3_cam02_assault01_place01_day_spring_resized.mp4\n"
     ]
    },
    {
     "name": "stderr",
     "output_type": "stream",
     "text": [
      "Copying files: 1249it [05:35,  1.53s/it]"
     ]
    },
    {
     "name": "stdout",
     "output_type": "stream",
     "text": [
      "Copying G:\\내 드라이브\\Project\\RGBLab\\ABB\\Data\\01.폭행(assult)\\insidedoor_10\\6-1\\6-1_cam03_assault01_place03_night_spring_resized.mp4 to G:\\내 드라이브\\Project\\RGBLab\\ABB\\Data\\Resized\\01.폭행(assult)\\insidedoor_10\\6-1\\6-1_cam03_assault01_place03_night_spring_resized.mp4\n"
     ]
    },
    {
     "name": "stderr",
     "output_type": "stream",
     "text": [
      "Copying files: 1250it [05:37,  1.82s/it]"
     ]
    },
    {
     "name": "stdout",
     "output_type": "stream",
     "text": [
      "Copying G:\\내 드라이브\\Project\\RGBLab\\ABB\\Data\\01.폭행(assult)\\insidedoor_10\\6-1\\6-1_cam03_assault01_place03_night_summer_resized.mp4 to G:\\내 드라이브\\Project\\RGBLab\\ABB\\Data\\Resized\\01.폭행(assult)\\insidedoor_10\\6-1\\6-1_cam03_assault01_place03_night_summer_resized.mp4\n"
     ]
    },
    {
     "name": "stderr",
     "output_type": "stream",
     "text": [
      "Copying files: 1251it [05:39,  1.68s/it]"
     ]
    },
    {
     "name": "stdout",
     "output_type": "stream",
     "text": [
      "Copying G:\\내 드라이브\\Project\\RGBLab\\ABB\\Data\\01.폭행(assult)\\insidedoor_10\\6-1\\6-1_cam01_assault01_place03_night_summer_resized.mp4 to G:\\내 드라이브\\Project\\RGBLab\\ABB\\Data\\Resized\\01.폭행(assult)\\insidedoor_10\\6-1\\6-1_cam01_assault01_place03_night_summer_resized.mp4\n"
     ]
    },
    {
     "name": "stderr",
     "output_type": "stream",
     "text": [
      "Copying files: 1252it [05:41,  1.97s/it]"
     ]
    },
    {
     "name": "stdout",
     "output_type": "stream",
     "text": [
      "Copying G:\\내 드라이브\\Project\\RGBLab\\ABB\\Data\\01.폭행(assult)\\insidedoor_10\\6-1\\6-1_cam01_assault01_place03_night_spring_resized.mp4 to G:\\내 드라이브\\Project\\RGBLab\\ABB\\Data\\Resized\\01.폭행(assult)\\insidedoor_10\\6-1\\6-1_cam01_assault01_place03_night_spring_resized.mp4\n"
     ]
    },
    {
     "name": "stderr",
     "output_type": "stream",
     "text": [
      "Copying files: 1253it [05:42,  1.70s/it]"
     ]
    },
    {
     "name": "stdout",
     "output_type": "stream",
     "text": [
      "Copying G:\\내 드라이브\\Project\\RGBLab\\ABB\\Data\\01.폭행(assult)\\insidedoor_10\\6-1\\6-1_cam03_assault01_place03_night_winter_resized.mp4 to G:\\내 드라이브\\Project\\RGBLab\\ABB\\Data\\Resized\\01.폭행(assult)\\insidedoor_10\\6-1\\6-1_cam03_assault01_place03_night_winter_resized.mp4\n"
     ]
    },
    {
     "name": "stderr",
     "output_type": "stream",
     "text": [
      "Copying files: 1254it [05:43,  1.53s/it]"
     ]
    },
    {
     "name": "stdout",
     "output_type": "stream",
     "text": [
      "Copying G:\\내 드라이브\\Project\\RGBLab\\ABB\\Data\\01.폭행(assult)\\insidedoor_10\\6-1\\6-1_cam01_assault01_place03_night_winter_resized.mp4 to G:\\내 드라이브\\Project\\RGBLab\\ABB\\Data\\Resized\\01.폭행(assult)\\insidedoor_10\\6-1\\6-1_cam01_assault01_place03_night_winter_resized.mp4\n",
      "Copying G:\\내 드라이브\\Project\\RGBLab\\ABB\\Data\\01.폭행(assult)\\insidedoor_10\\6-1\\6-1_cam02_assault01_place03_night_summer_resized.mp4 to G:\\내 드라이브\\Project\\RGBLab\\ABB\\Data\\Resized\\01.폭행(assult)\\insidedoor_10\\6-1\\6-1_cam02_assault01_place03_night_summer_resized.mp4\n"
     ]
    },
    {
     "name": "stderr",
     "output_type": "stream",
     "text": [
      "Copying files: 1256it [05:45,  1.11s/it]"
     ]
    },
    {
     "name": "stdout",
     "output_type": "stream",
     "text": [
      "Copying G:\\내 드라이브\\Project\\RGBLab\\ABB\\Data\\01.폭행(assult)\\insidedoor_10\\6-1\\6-1_cam02_assault01_place03_night_spring_resized.mp4 to G:\\내 드라이브\\Project\\RGBLab\\ABB\\Data\\Resized\\01.폭행(assult)\\insidedoor_10\\6-1\\6-1_cam02_assault01_place03_night_spring_resized.mp4\n"
     ]
    },
    {
     "name": "stderr",
     "output_type": "stream",
     "text": [
      "Copying files: 1257it [05:46,  1.10s/it]"
     ]
    },
    {
     "name": "stdout",
     "output_type": "stream",
     "text": [
      "Copying G:\\내 드라이브\\Project\\RGBLab\\ABB\\Data\\01.폭행(assult)\\insidedoor_10\\6-1\\6-1_cam02_assault01_place03_night_winter_resized.mp4 to G:\\내 드라이브\\Project\\RGBLab\\ABB\\Data\\Resized\\01.폭행(assult)\\insidedoor_10\\6-1\\6-1_cam02_assault01_place03_night_winter_resized.mp4\n"
     ]
    },
    {
     "name": "stderr",
     "output_type": "stream",
     "text": [
      "Copying files: 1258it [05:47,  1.09s/it]"
     ]
    },
    {
     "name": "stdout",
     "output_type": "stream",
     "text": [
      "Copying G:\\내 드라이브\\Project\\RGBLab\\ABB\\Data\\01.폭행(assult)\\insidedoor_10\\45-4\\45-4_cam01_assault01_place01_day_spring_resized.mp4 to G:\\내 드라이브\\Project\\RGBLab\\ABB\\Data\\Resized\\01.폭행(assult)\\insidedoor_10\\45-4\\45-4_cam01_assault01_place01_day_spring_resized.mp4\n"
     ]
    },
    {
     "name": "stderr",
     "output_type": "stream",
     "text": [
      "Copying files: 1259it [05:48,  1.17s/it]"
     ]
    },
    {
     "name": "stdout",
     "output_type": "stream",
     "text": [
      "Copying G:\\내 드라이브\\Project\\RGBLab\\ABB\\Data\\01.폭행(assult)\\insidedoor_10\\45-4\\45-4_cam03_assault01_place01_day_spring_resized.mp4 to G:\\내 드라이브\\Project\\RGBLab\\ABB\\Data\\Resized\\01.폭행(assult)\\insidedoor_10\\45-4\\45-4_cam03_assault01_place01_day_spring_resized.mp4\n"
     ]
    },
    {
     "name": "stderr",
     "output_type": "stream",
     "text": [
      "Copying files: 1260it [05:49,  1.18s/it]"
     ]
    },
    {
     "name": "stdout",
     "output_type": "stream",
     "text": [
      "Copying G:\\내 드라이브\\Project\\RGBLab\\ABB\\Data\\01.폭행(assult)\\insidedoor_10\\45-4\\45-4_cam02_assault01_place01_day_spring_resized.mp4 to G:\\내 드라이브\\Project\\RGBLab\\ABB\\Data\\Resized\\01.폭행(assult)\\insidedoor_10\\45-4\\45-4_cam02_assault01_place01_day_spring_resized.mp4\n",
      "Copying G:\\내 드라이브\\Project\\RGBLab\\ABB\\Data\\01.폭행(assult)\\insidedoor_10\\45-4\\45-4_cam01_assault01_place01_day_summer_resized.mp4 to G:\\내 드라이브\\Project\\RGBLab\\ABB\\Data\\Resized\\01.폭행(assult)\\insidedoor_10\\45-4\\45-4_cam01_assault01_place01_day_summer_resized.mp4\n"
     ]
    },
    {
     "name": "stderr",
     "output_type": "stream",
     "text": [
      "Copying files: 1262it [05:55,  1.82s/it]"
     ]
    },
    {
     "name": "stdout",
     "output_type": "stream",
     "text": [
      "Copying G:\\내 드라이브\\Project\\RGBLab\\ABB\\Data\\01.폭행(assult)\\insidedoor_10\\45-4\\45-4_cam03_assault01_place01_day_summer_resized.mp4 to G:\\내 드라이브\\Project\\RGBLab\\ABB\\Data\\Resized\\01.폭행(assult)\\insidedoor_10\\45-4\\45-4_cam03_assault01_place01_day_summer_resized.mp4\n"
     ]
    },
    {
     "name": "stderr",
     "output_type": "stream",
     "text": [
      "Copying files: 1263it [05:56,  1.73s/it]"
     ]
    },
    {
     "name": "stdout",
     "output_type": "stream",
     "text": [
      "Copying G:\\내 드라이브\\Project\\RGBLab\\ABB\\Data\\01.폭행(assult)\\insidedoor_10\\45-4\\45-4_cam01_assault01_place01_day_winter_resized.mp4 to G:\\내 드라이브\\Project\\RGBLab\\ABB\\Data\\Resized\\01.폭행(assult)\\insidedoor_10\\45-4\\45-4_cam01_assault01_place01_day_winter_resized.mp4\n"
     ]
    },
    {
     "name": "stderr",
     "output_type": "stream",
     "text": [
      "Copying files: 1264it [05:58,  1.69s/it]"
     ]
    },
    {
     "name": "stdout",
     "output_type": "stream",
     "text": [
      "Copying G:\\내 드라이브\\Project\\RGBLab\\ABB\\Data\\01.폭행(assult)\\insidedoor_10\\45-4\\45-4_cam02_assault01_place01_day_summer_resized.mp4 to G:\\내 드라이브\\Project\\RGBLab\\ABB\\Data\\Resized\\01.폭행(assult)\\insidedoor_10\\45-4\\45-4_cam02_assault01_place01_day_summer_resized.mp4\n"
     ]
    },
    {
     "name": "stderr",
     "output_type": "stream",
     "text": [
      "Copying files: 1265it [05:59,  1.69s/it]"
     ]
    },
    {
     "name": "stdout",
     "output_type": "stream",
     "text": [
      "Copying G:\\내 드라이브\\Project\\RGBLab\\ABB\\Data\\01.폭행(assult)\\insidedoor_10\\45-4\\53-1\\53-1_cam03_assault01_place01_day_spring_resized.mp4 to G:\\내 드라이브\\Project\\RGBLab\\ABB\\Data\\Resized\\01.폭행(assult)\\insidedoor_10\\45-4\\53-1\\53-1_cam03_assault01_place01_day_spring_resized.mp4\n"
     ]
    },
    {
     "name": "stderr",
     "output_type": "stream",
     "text": [
      "Copying files: 1266it [06:03,  2.12s/it]"
     ]
    },
    {
     "name": "stdout",
     "output_type": "stream",
     "text": [
      "Copying G:\\내 드라이브\\Project\\RGBLab\\ABB\\Data\\01.폭행(assult)\\insidedoor_10\\45-4\\53-1\\53-1_cam02_assault01_place01_day_winter_resized.mp4 to G:\\내 드라이브\\Project\\RGBLab\\ABB\\Data\\Resized\\01.폭행(assult)\\insidedoor_10\\45-4\\53-1\\53-1_cam02_assault01_place01_day_winter_resized.mp4\n"
     ]
    },
    {
     "name": "stderr",
     "output_type": "stream",
     "text": [
      "Copying files: 1267it [06:08,  2.93s/it]"
     ]
    },
    {
     "name": "stdout",
     "output_type": "stream",
     "text": [
      "Copying G:\\내 드라이브\\Project\\RGBLab\\ABB\\Data\\01.폭행(assult)\\insidedoor_10\\45-4\\53-1\\53-1_cam03_assault01_place01_day_summer_resized.mp4 to G:\\내 드라이브\\Project\\RGBLab\\ABB\\Data\\Resized\\01.폭행(assult)\\insidedoor_10\\45-4\\53-1\\53-1_cam03_assault01_place01_day_summer_resized.mp4\n"
     ]
    },
    {
     "name": "stderr",
     "output_type": "stream",
     "text": [
      "Copying files: 1268it [06:09,  2.49s/it]"
     ]
    },
    {
     "name": "stdout",
     "output_type": "stream",
     "text": [
      "Copying G:\\내 드라이브\\Project\\RGBLab\\ABB\\Data\\01.폭행(assult)\\insidedoor_10\\45-4\\53-1\\53-1_cam01_assault01_place01_day_summer_resized.mp4 to G:\\내 드라이브\\Project\\RGBLab\\ABB\\Data\\Resized\\01.폭행(assult)\\insidedoor_10\\45-4\\53-1\\53-1_cam01_assault01_place01_day_summer_resized.mp4\n",
      "Copying G:\\내 드라이브\\Project\\RGBLab\\ABB\\Data\\01.폭행(assult)\\insidedoor_10\\45-4\\53-1\\53-1_cam02_assault01_place01_day_summer_resized.mp4 to G:\\내 드라이브\\Project\\RGBLab\\ABB\\Data\\Resized\\01.폭행(assult)\\insidedoor_10\\45-4\\53-1\\53-1_cam02_assault01_place01_day_summer_resized.mp4\n"
     ]
    },
    {
     "name": "stderr",
     "output_type": "stream",
     "text": [
      "Copying files: 1270it [06:11,  1.76s/it]"
     ]
    },
    {
     "name": "stdout",
     "output_type": "stream",
     "text": [
      "Copying G:\\내 드라이브\\Project\\RGBLab\\ABB\\Data\\01.폭행(assult)\\insidedoor_10\\45-4\\53-1\\53-1_cam01_assault01_place01_day_spring_resized.mp4 to G:\\내 드라이브\\Project\\RGBLab\\ABB\\Data\\Resized\\01.폭행(assult)\\insidedoor_10\\45-4\\53-1\\53-1_cam01_assault01_place01_day_spring_resized.mp4\n"
     ]
    },
    {
     "name": "stderr",
     "output_type": "stream",
     "text": [
      "Copying files: 1271it [06:12,  1.67s/it]"
     ]
    },
    {
     "name": "stdout",
     "output_type": "stream",
     "text": [
      "Copying G:\\내 드라이브\\Project\\RGBLab\\ABB\\Data\\01.폭행(assult)\\insidedoor_10\\45-4\\53-1\\53-1_cam03_assault01_place01_day_winter_resized.mp4 to G:\\내 드라이브\\Project\\RGBLab\\ABB\\Data\\Resized\\01.폭행(assult)\\insidedoor_10\\45-4\\53-1\\53-1_cam03_assault01_place01_day_winter_resized.mp4\n"
     ]
    },
    {
     "name": "stderr",
     "output_type": "stream",
     "text": [
      "Copying files: 1272it [06:13,  1.58s/it]"
     ]
    },
    {
     "name": "stdout",
     "output_type": "stream",
     "text": [
      "Copying G:\\내 드라이브\\Project\\RGBLab\\ABB\\Data\\01.폭행(assult)\\insidedoor_10\\45-4\\53-1\\53-1_cam02_assault01_place01_day_spring_resized.mp4 to G:\\내 드라이브\\Project\\RGBLab\\ABB\\Data\\Resized\\01.폭행(assult)\\insidedoor_10\\45-4\\53-1\\53-1_cam02_assault01_place01_day_spring_resized.mp4\n"
     ]
    },
    {
     "name": "stderr",
     "output_type": "stream",
     "text": [
      "Copying files: 1273it [06:18,  2.29s/it]"
     ]
    },
    {
     "name": "stdout",
     "output_type": "stream",
     "text": [
      "Copying G:\\내 드라이브\\Project\\RGBLab\\ABB\\Data\\01.폭행(assult)\\insidedoor_10\\45-4\\53-1\\53-1_cam01_assault01_place01_day_winter_resized.mp4 to G:\\내 드라이브\\Project\\RGBLab\\ABB\\Data\\Resized\\01.폭행(assult)\\insidedoor_10\\45-4\\53-1\\53-1_cam01_assault01_place01_day_winter_resized.mp4\n"
     ]
    },
    {
     "name": "stderr",
     "output_type": "stream",
     "text": [
      "Copying files: 1274it [06:19,  1.96s/it]"
     ]
    },
    {
     "name": "stdout",
     "output_type": "stream",
     "text": [
      "Copying G:\\내 드라이브\\Project\\RGBLab\\ABB\\Data\\01.폭행(assult)\\insidedoor_10\\53-1\\53-1_cam02_assault01_place01_day_summer_resized.mp4 to G:\\내 드라이브\\Project\\RGBLab\\ABB\\Data\\Resized\\01.폭행(assult)\\insidedoor_10\\53-1\\53-1_cam02_assault01_place01_day_summer_resized.mp4\n"
     ]
    },
    {
     "name": "stderr",
     "output_type": "stream",
     "text": [
      "Copying files: 1275it [06:20,  1.73s/it]"
     ]
    },
    {
     "name": "stdout",
     "output_type": "stream",
     "text": [
      "Copying G:\\내 드라이브\\Project\\RGBLab\\ABB\\Data\\01.폭행(assult)\\insidedoor_10\\53-1\\53-1_cam02_assault01_place01_day_winter_resized.mp4 to G:\\내 드라이브\\Project\\RGBLab\\ABB\\Data\\Resized\\01.폭행(assult)\\insidedoor_10\\53-1\\53-1_cam02_assault01_place01_day_winter_resized.mp4\n"
     ]
    },
    {
     "name": "stderr",
     "output_type": "stream",
     "text": [
      "Copying files: 1276it [06:22,  1.83s/it]"
     ]
    },
    {
     "name": "stdout",
     "output_type": "stream",
     "text": [
      "Copying G:\\내 드라이브\\Project\\RGBLab\\ABB\\Data\\01.폭행(assult)\\insidedoor_10\\53-1\\53-1_cam03_assault01_place01_day_spring_resized.mp4 to G:\\내 드라이브\\Project\\RGBLab\\ABB\\Data\\Resized\\01.폭행(assult)\\insidedoor_10\\53-1\\53-1_cam03_assault01_place01_day_spring_resized.mp4\n"
     ]
    },
    {
     "name": "stderr",
     "output_type": "stream",
     "text": [
      "Copying files: 1277it [06:24,  1.80s/it]"
     ]
    },
    {
     "name": "stdout",
     "output_type": "stream",
     "text": [
      "Copying G:\\내 드라이브\\Project\\RGBLab\\ABB\\Data\\01.폭행(assult)\\insidedoor_10\\53-1\\53-1_cam03_assault01_place01_day_summer_resized.mp4 to G:\\내 드라이브\\Project\\RGBLab\\ABB\\Data\\Resized\\01.폭행(assult)\\insidedoor_10\\53-1\\53-1_cam03_assault01_place01_day_summer_resized.mp4\n"
     ]
    },
    {
     "name": "stderr",
     "output_type": "stream",
     "text": [
      "Copying files: 1278it [06:25,  1.66s/it]"
     ]
    },
    {
     "name": "stdout",
     "output_type": "stream",
     "text": [
      "Copying G:\\내 드라이브\\Project\\RGBLab\\ABB\\Data\\01.폭행(assult)\\insidedoor_10\\53-1\\53-1_cam03_assault01_place01_day_winter_resized.mp4 to G:\\내 드라이브\\Project\\RGBLab\\ABB\\Data\\Resized\\01.폭행(assult)\\insidedoor_10\\53-1\\53-1_cam03_assault01_place01_day_winter_resized.mp4\n"
     ]
    },
    {
     "name": "stderr",
     "output_type": "stream",
     "text": [
      "Copying files: 1279it [06:26,  1.47s/it]"
     ]
    },
    {
     "name": "stdout",
     "output_type": "stream",
     "text": [
      "Copying G:\\내 드라이브\\Project\\RGBLab\\ABB\\Data\\01.폭행(assult)\\insidedoor_10\\53-1\\53-1_cam01_assault01_place01_day_spring_resized.mp4 to G:\\내 드라이브\\Project\\RGBLab\\ABB\\Data\\Resized\\01.폭행(assult)\\insidedoor_10\\53-1\\53-1_cam01_assault01_place01_day_spring_resized.mp4\n"
     ]
    },
    {
     "name": "stderr",
     "output_type": "stream",
     "text": [
      "Copying files: 1280it [06:27,  1.37s/it]"
     ]
    },
    {
     "name": "stdout",
     "output_type": "stream",
     "text": [
      "Copying G:\\내 드라이브\\Project\\RGBLab\\ABB\\Data\\01.폭행(assult)\\insidedoor_10\\53-1\\53-1_cam01_assault01_place01_day_summer_resized.mp4 to G:\\내 드라이브\\Project\\RGBLab\\ABB\\Data\\Resized\\01.폭행(assult)\\insidedoor_10\\53-1\\53-1_cam01_assault01_place01_day_summer_resized.mp4\n"
     ]
    },
    {
     "name": "stderr",
     "output_type": "stream",
     "text": [
      "Copying files: 1281it [06:28,  1.31s/it]"
     ]
    },
    {
     "name": "stdout",
     "output_type": "stream",
     "text": [
      "Copying G:\\내 드라이브\\Project\\RGBLab\\ABB\\Data\\01.폭행(assult)\\insidedoor_10\\53-1\\53-1_cam01_assault01_place01_day_winter_resized.mp4 to G:\\내 드라이브\\Project\\RGBLab\\ABB\\Data\\Resized\\01.폭행(assult)\\insidedoor_10\\53-1\\53-1_cam01_assault01_place01_day_winter_resized.mp4\n"
     ]
    },
    {
     "name": "stderr",
     "output_type": "stream",
     "text": [
      "Copying files: 1282it [06:29,  1.22s/it]"
     ]
    },
    {
     "name": "stdout",
     "output_type": "stream",
     "text": [
      "Copying G:\\내 드라이브\\Project\\RGBLab\\ABB\\Data\\01.폭행(assult)\\insidedoor_10\\53-1\\53-1_cam02_assault01_place01_day_spring_resized.mp4 to G:\\내 드라이브\\Project\\RGBLab\\ABB\\Data\\Resized\\01.폭행(assult)\\insidedoor_10\\53-1\\53-1_cam02_assault01_place01_day_spring_resized.mp4\n"
     ]
    },
    {
     "name": "stderr",
     "output_type": "stream",
     "text": [
      "Copying files: 1283it [06:30,  1.20s/it]"
     ]
    },
    {
     "name": "stdout",
     "output_type": "stream",
     "text": [
      "Copying G:\\내 드라이브\\Project\\RGBLab\\ABB\\Data\\06.배회(wander)\\inside_croki_01\\144-2\\144-2_cam02_wander03_place01_night_spring_resized.mp4 to G:\\내 드라이브\\Project\\RGBLab\\ABB\\Data\\Resized\\06.배회(wander)\\inside_croki_01\\144-2\\144-2_cam02_wander03_place01_night_spring_resized.mp4\n"
     ]
    },
    {
     "name": "stderr",
     "output_type": "stream",
     "text": [
      "Copying files: 1284it [06:31,  1.14s/it]"
     ]
    },
    {
     "name": "stdout",
     "output_type": "stream",
     "text": [
      "Copying G:\\내 드라이브\\Project\\RGBLab\\ABB\\Data\\06.배회(wander)\\inside_croki_01\\144-2\\144-2_cam01_wander03_place01_night_summer_resized.mp4 to G:\\내 드라이브\\Project\\RGBLab\\ABB\\Data\\Resized\\06.배회(wander)\\inside_croki_01\\144-2\\144-2_cam01_wander03_place01_night_summer_resized.mp4\n"
     ]
    },
    {
     "name": "stderr",
     "output_type": "stream",
     "text": [
      "Copying files: 1285it [06:32,  1.05s/it]"
     ]
    },
    {
     "name": "stdout",
     "output_type": "stream",
     "text": [
      "Copying G:\\내 드라이브\\Project\\RGBLab\\ABB\\Data\\06.배회(wander)\\inside_croki_01\\144-2\\144-2_cam03_wander03_place01_night_winter_resized.mp4 to G:\\내 드라이브\\Project\\RGBLab\\ABB\\Data\\Resized\\06.배회(wander)\\inside_croki_01\\144-2\\144-2_cam03_wander03_place01_night_winter_resized.mp4\n"
     ]
    },
    {
     "name": "stderr",
     "output_type": "stream",
     "text": [
      "Copying files: 1286it [06:34,  1.36s/it]"
     ]
    },
    {
     "name": "stdout",
     "output_type": "stream",
     "text": [
      "Copying G:\\내 드라이브\\Project\\RGBLab\\ABB\\Data\\06.배회(wander)\\inside_croki_01\\144-2\\144-2_cam03_wander03_place01_night_spring_resized.mp4 to G:\\내 드라이브\\Project\\RGBLab\\ABB\\Data\\Resized\\06.배회(wander)\\inside_croki_01\\144-2\\144-2_cam03_wander03_place01_night_spring_resized.mp4\n"
     ]
    },
    {
     "name": "stderr",
     "output_type": "stream",
     "text": [
      "Copying files: 1287it [06:35,  1.27s/it]"
     ]
    },
    {
     "name": "stdout",
     "output_type": "stream",
     "text": [
      "Copying G:\\내 드라이브\\Project\\RGBLab\\ABB\\Data\\06.배회(wander)\\inside_croki_01\\144-2\\144-2_cam02_wander03_place01_night_winter_resized.mp4 to G:\\내 드라이브\\Project\\RGBLab\\ABB\\Data\\Resized\\06.배회(wander)\\inside_croki_01\\144-2\\144-2_cam02_wander03_place01_night_winter_resized.mp4\n"
     ]
    },
    {
     "name": "stderr",
     "output_type": "stream",
     "text": [
      "Copying files: 1288it [06:36,  1.20s/it]"
     ]
    },
    {
     "name": "stdout",
     "output_type": "stream",
     "text": [
      "Copying G:\\내 드라이브\\Project\\RGBLab\\ABB\\Data\\06.배회(wander)\\inside_croki_01\\144-2\\144-2_cam01_wander03_place01_night_spring_resized.mp4 to G:\\내 드라이브\\Project\\RGBLab\\ABB\\Data\\Resized\\06.배회(wander)\\inside_croki_01\\144-2\\144-2_cam01_wander03_place01_night_spring_resized.mp4\n"
     ]
    },
    {
     "name": "stderr",
     "output_type": "stream",
     "text": [
      "Copying files: 1289it [06:38,  1.18s/it]"
     ]
    },
    {
     "name": "stdout",
     "output_type": "stream",
     "text": [
      "Copying G:\\내 드라이브\\Project\\RGBLab\\ABB\\Data\\06.배회(wander)\\inside_croki_01\\144-2\\144-2_cam01_wander03_place01_night_winter_resized.mp4 to G:\\내 드라이브\\Project\\RGBLab\\ABB\\Data\\Resized\\06.배회(wander)\\inside_croki_01\\144-2\\144-2_cam01_wander03_place01_night_winter_resized.mp4\n",
      "Copying G:\\내 드라이브\\Project\\RGBLab\\ABB\\Data\\06.배회(wander)\\inside_croki_01\\144-2\\144-2_cam03_wander03_place01_night_summer_resized.mp4 to G:\\내 드라이브\\Project\\RGBLab\\ABB\\Data\\Resized\\06.배회(wander)\\inside_croki_01\\144-2\\144-2_cam03_wander03_place01_night_summer_resized.mp4\n"
     ]
    },
    {
     "name": "stderr",
     "output_type": "stream",
     "text": [
      "Copying files: 1291it [06:39,  1.12it/s]"
     ]
    },
    {
     "name": "stdout",
     "output_type": "stream",
     "text": [
      "Copying G:\\내 드라이브\\Project\\RGBLab\\ABB\\Data\\06.배회(wander)\\inside_croki_01\\144-2\\144-2_cam02_wander03_place01_night_summer_resized.mp4 to G:\\내 드라이브\\Project\\RGBLab\\ABB\\Data\\Resized\\06.배회(wander)\\inside_croki_01\\144-2\\144-2_cam02_wander03_place01_night_summer_resized.mp4\n"
     ]
    },
    {
     "name": "stderr",
     "output_type": "stream",
     "text": [
      "Copying files: 1292it [06:40,  1.05it/s]"
     ]
    },
    {
     "name": "stdout",
     "output_type": "stream",
     "text": [
      "Copying G:\\내 드라이브\\Project\\RGBLab\\ABB\\Data\\06.배회(wander)\\inside_croki_01\\144-3\\144-3_cam02_wander03_place01_night_spring_resized.mp4 to G:\\내 드라이브\\Project\\RGBLab\\ABB\\Data\\Resized\\06.배회(wander)\\inside_croki_01\\144-3\\144-3_cam02_wander03_place01_night_spring_resized.mp4\n"
     ]
    },
    {
     "name": "stderr",
     "output_type": "stream",
     "text": [
      "Copying files: 1293it [06:41,  1.06it/s]"
     ]
    },
    {
     "name": "stdout",
     "output_type": "stream",
     "text": [
      "Copying G:\\내 드라이브\\Project\\RGBLab\\ABB\\Data\\06.배회(wander)\\inside_croki_01\\144-3\\144-3_cam01_wander03_place01_night_winter_resized.mp4 to G:\\내 드라이브\\Project\\RGBLab\\ABB\\Data\\Resized\\06.배회(wander)\\inside_croki_01\\144-3\\144-3_cam01_wander03_place01_night_winter_resized.mp4\n"
     ]
    },
    {
     "name": "stderr",
     "output_type": "stream",
     "text": [
      "Copying files: 1294it [06:43,  1.20s/it]"
     ]
    },
    {
     "name": "stdout",
     "output_type": "stream",
     "text": [
      "Copying G:\\내 드라이브\\Project\\RGBLab\\ABB\\Data\\06.배회(wander)\\inside_croki_01\\144-3\\144-3_cam02_wander03_place01_night_summer_resized.mp4 to G:\\내 드라이브\\Project\\RGBLab\\ABB\\Data\\Resized\\06.배회(wander)\\inside_croki_01\\144-3\\144-3_cam02_wander03_place01_night_summer_resized.mp4\n"
     ]
    },
    {
     "name": "stderr",
     "output_type": "stream",
     "text": [
      "Copying files: 1295it [06:44,  1.19s/it]"
     ]
    },
    {
     "name": "stdout",
     "output_type": "stream",
     "text": [
      "Copying G:\\내 드라이브\\Project\\RGBLab\\ABB\\Data\\06.배회(wander)\\inside_croki_01\\144-3\\144-3_cam02_wander03_place01_night_winter_resized.mp4 to G:\\내 드라이브\\Project\\RGBLab\\ABB\\Data\\Resized\\06.배회(wander)\\inside_croki_01\\144-3\\144-3_cam02_wander03_place01_night_winter_resized.mp4\n"
     ]
    },
    {
     "name": "stderr",
     "output_type": "stream",
     "text": [
      "Copying files: 1296it [06:45,  1.16s/it]"
     ]
    },
    {
     "name": "stdout",
     "output_type": "stream",
     "text": [
      "Copying G:\\내 드라이브\\Project\\RGBLab\\ABB\\Data\\06.배회(wander)\\inside_croki_01\\144-3\\144-3_cam03_wander03_place01_night_summer_resized.mp4 to G:\\내 드라이브\\Project\\RGBLab\\ABB\\Data\\Resized\\06.배회(wander)\\inside_croki_01\\144-3\\144-3_cam03_wander03_place01_night_summer_resized.mp4\n"
     ]
    },
    {
     "name": "stderr",
     "output_type": "stream",
     "text": [
      "Copying files: 1297it [06:46,  1.10s/it]"
     ]
    },
    {
     "name": "stdout",
     "output_type": "stream",
     "text": [
      "Copying G:\\내 드라이브\\Project\\RGBLab\\ABB\\Data\\06.배회(wander)\\inside_croki_01\\144-3\\144-3_cam03_wander03_place01_night_spring_resized.mp4 to G:\\내 드라이브\\Project\\RGBLab\\ABB\\Data\\Resized\\06.배회(wander)\\inside_croki_01\\144-3\\144-3_cam03_wander03_place01_night_spring_resized.mp4\n"
     ]
    },
    {
     "name": "stderr",
     "output_type": "stream",
     "text": [
      "Copying files: 1298it [06:47,  1.02s/it]"
     ]
    },
    {
     "name": "stdout",
     "output_type": "stream",
     "text": [
      "Copying G:\\내 드라이브\\Project\\RGBLab\\ABB\\Data\\06.배회(wander)\\inside_croki_01\\144-3\\144-3_cam03_wander03_place01_night_winter_resized.mp4 to G:\\내 드라이브\\Project\\RGBLab\\ABB\\Data\\Resized\\06.배회(wander)\\inside_croki_01\\144-3\\144-3_cam03_wander03_place01_night_winter_resized.mp4\n"
     ]
    },
    {
     "name": "stderr",
     "output_type": "stream",
     "text": [
      "Copying files: 1299it [06:48,  1.02s/it]"
     ]
    },
    {
     "name": "stdout",
     "output_type": "stream",
     "text": [
      "Copying G:\\내 드라이브\\Project\\RGBLab\\ABB\\Data\\06.배회(wander)\\inside_croki_01\\144-3\\144-3_cam01_wander03_place01_night_spring_resized.mp4 to G:\\내 드라이브\\Project\\RGBLab\\ABB\\Data\\Resized\\06.배회(wander)\\inside_croki_01\\144-3\\144-3_cam01_wander03_place01_night_spring_resized.mp4\n"
     ]
    },
    {
     "name": "stderr",
     "output_type": "stream",
     "text": [
      "Copying files: 1300it [06:49,  1.12s/it]"
     ]
    },
    {
     "name": "stdout",
     "output_type": "stream",
     "text": [
      "Copying G:\\내 드라이브\\Project\\RGBLab\\ABB\\Data\\06.배회(wander)\\inside_croki_01\\144-3\\144-3_cam01_wander03_place01_night_summer_resized.mp4 to G:\\내 드라이브\\Project\\RGBLab\\ABB\\Data\\Resized\\06.배회(wander)\\inside_croki_01\\144-3\\144-3_cam01_wander03_place01_night_summer_resized.mp4\n"
     ]
    },
    {
     "name": "stderr",
     "output_type": "stream",
     "text": [
      "Copying files: 1301it [06:50,  1.03s/it]"
     ]
    },
    {
     "name": "stdout",
     "output_type": "stream",
     "text": [
      "Copying G:\\내 드라이브\\Project\\RGBLab\\ABB\\Data\\06.배회(wander)\\inside_croki_01\\144-4\\144-4_cam02_wander03_place01_night_winter_resized.mp4 to G:\\내 드라이브\\Project\\RGBLab\\ABB\\Data\\Resized\\06.배회(wander)\\inside_croki_01\\144-4\\144-4_cam02_wander03_place01_night_winter_resized.mp4\n"
     ]
    },
    {
     "name": "stderr",
     "output_type": "stream",
     "text": [
      "Copying files: 1302it [06:51,  1.06it/s]"
     ]
    },
    {
     "name": "stdout",
     "output_type": "stream",
     "text": [
      "Copying G:\\내 드라이브\\Project\\RGBLab\\ABB\\Data\\06.배회(wander)\\inside_croki_01\\144-4\\144-4_cam03_wander03_place01_night_spring_resized.mp4 to G:\\내 드라이브\\Project\\RGBLab\\ABB\\Data\\Resized\\06.배회(wander)\\inside_croki_01\\144-4\\144-4_cam03_wander03_place01_night_spring_resized.mp4\n"
     ]
    },
    {
     "name": "stderr",
     "output_type": "stream",
     "text": [
      "Copying files: 1303it [06:52,  1.01it/s]"
     ]
    },
    {
     "name": "stdout",
     "output_type": "stream",
     "text": [
      "Copying G:\\내 드라이브\\Project\\RGBLab\\ABB\\Data\\06.배회(wander)\\inside_croki_01\\144-4\\144-4_cam02_wander03_place01_night_summer_resized.mp4 to G:\\내 드라이브\\Project\\RGBLab\\ABB\\Data\\Resized\\06.배회(wander)\\inside_croki_01\\144-4\\144-4_cam02_wander03_place01_night_summer_resized.mp4\n"
     ]
    },
    {
     "name": "stderr",
     "output_type": "stream",
     "text": [
      "Copying files: 1304it [06:52,  1.08it/s]"
     ]
    },
    {
     "name": "stdout",
     "output_type": "stream",
     "text": [
      "Copying G:\\내 드라이브\\Project\\RGBLab\\ABB\\Data\\06.배회(wander)\\inside_croki_01\\144-4\\144-4_cam03_wander03_place01_night_summer_resized.mp4 to G:\\내 드라이브\\Project\\RGBLab\\ABB\\Data\\Resized\\06.배회(wander)\\inside_croki_01\\144-4\\144-4_cam03_wander03_place01_night_summer_resized.mp4\n"
     ]
    },
    {
     "name": "stderr",
     "output_type": "stream",
     "text": [
      "Copying files: 1305it [06:54,  1.04it/s]"
     ]
    },
    {
     "name": "stdout",
     "output_type": "stream",
     "text": [
      "Copying G:\\내 드라이브\\Project\\RGBLab\\ABB\\Data\\06.배회(wander)\\inside_croki_01\\144-4\\144-4_cam03_wander03_place01_night_winter_resized.mp4 to G:\\내 드라이브\\Project\\RGBLab\\ABB\\Data\\Resized\\06.배회(wander)\\inside_croki_01\\144-4\\144-4_cam03_wander03_place01_night_winter_resized.mp4\n"
     ]
    },
    {
     "name": "stderr",
     "output_type": "stream",
     "text": [
      "Copying files: 1306it [06:54,  1.05it/s]"
     ]
    },
    {
     "name": "stdout",
     "output_type": "stream",
     "text": [
      "Copying G:\\내 드라이브\\Project\\RGBLab\\ABB\\Data\\06.배회(wander)\\inside_croki_01\\144-4\\144-4_cam01_wander03_place01_night_summer_resized.mp4 to G:\\내 드라이브\\Project\\RGBLab\\ABB\\Data\\Resized\\06.배회(wander)\\inside_croki_01\\144-4\\144-4_cam01_wander03_place01_night_summer_resized.mp4\n"
     ]
    },
    {
     "name": "stderr",
     "output_type": "stream",
     "text": [
      "Copying files: 1307it [06:56,  1.04s/it]"
     ]
    },
    {
     "name": "stdout",
     "output_type": "stream",
     "text": [
      "Copying G:\\내 드라이브\\Project\\RGBLab\\ABB\\Data\\06.배회(wander)\\inside_croki_01\\144-4\\144-4_cam01_wander03_place01_night_winter_resized.mp4 to G:\\내 드라이브\\Project\\RGBLab\\ABB\\Data\\Resized\\06.배회(wander)\\inside_croki_01\\144-4\\144-4_cam01_wander03_place01_night_winter_resized.mp4\n"
     ]
    },
    {
     "name": "stderr",
     "output_type": "stream",
     "text": [
      "Copying files: 1308it [06:57,  1.02s/it]"
     ]
    },
    {
     "name": "stdout",
     "output_type": "stream",
     "text": [
      "Copying G:\\내 드라이브\\Project\\RGBLab\\ABB\\Data\\06.배회(wander)\\inside_croki_01\\144-4\\144-4_cam01_wander03_place01_night_spring_resized.mp4 to G:\\내 드라이브\\Project\\RGBLab\\ABB\\Data\\Resized\\06.배회(wander)\\inside_croki_01\\144-4\\144-4_cam01_wander03_place01_night_spring_resized.mp4\n"
     ]
    },
    {
     "name": "stderr",
     "output_type": "stream",
     "text": [
      "Copying files: 1309it [06:57,  1.06it/s]"
     ]
    },
    {
     "name": "stdout",
     "output_type": "stream",
     "text": [
      "Copying G:\\내 드라이브\\Project\\RGBLab\\ABB\\Data\\06.배회(wander)\\inside_croki_01\\144-4\\144-4_cam02_wander03_place01_night_spring_resized.mp4 to G:\\내 드라이브\\Project\\RGBLab\\ABB\\Data\\Resized\\06.배회(wander)\\inside_croki_01\\144-4\\144-4_cam02_wander03_place01_night_spring_resized.mp4\n",
      "Copying G:\\내 드라이브\\Project\\RGBLab\\ABB\\Data\\06.배회(wander)\\inside_croki_01\\144-5\\144-5_cam02_wander03_place01_night_summer_resized.mp4 to G:\\내 드라이브\\Project\\RGBLab\\ABB\\Data\\Resized\\06.배회(wander)\\inside_croki_01\\144-5\\144-5_cam02_wander03_place01_night_summer_resized.mp4\n"
     ]
    },
    {
     "name": "stderr",
     "output_type": "stream",
     "text": [
      "Copying files: 1311it [06:59,  1.12it/s]"
     ]
    },
    {
     "name": "stdout",
     "output_type": "stream",
     "text": [
      "Copying G:\\내 드라이브\\Project\\RGBLab\\ABB\\Data\\06.배회(wander)\\inside_croki_01\\144-5\\144-5_cam03_wander03_place01_night_summer_resized.mp4 to G:\\내 드라이브\\Project\\RGBLab\\ABB\\Data\\Resized\\06.배회(wander)\\inside_croki_01\\144-5\\144-5_cam03_wander03_place01_night_summer_resized.mp4\n"
     ]
    },
    {
     "name": "stderr",
     "output_type": "stream",
     "text": [
      "Copying files: 1312it [07:00,  1.11it/s]"
     ]
    },
    {
     "name": "stdout",
     "output_type": "stream",
     "text": [
      "Copying G:\\내 드라이브\\Project\\RGBLab\\ABB\\Data\\06.배회(wander)\\inside_croki_01\\144-5\\144-5_cam01_wander03_place01_night_spring_resized.mp4 to G:\\내 드라이브\\Project\\RGBLab\\ABB\\Data\\Resized\\06.배회(wander)\\inside_croki_01\\144-5\\144-5_cam01_wander03_place01_night_spring_resized.mp4\n"
     ]
    },
    {
     "name": "stderr",
     "output_type": "stream",
     "text": [
      "Copying files: 1313it [07:01,  1.10it/s]"
     ]
    },
    {
     "name": "stdout",
     "output_type": "stream",
     "text": [
      "Copying G:\\내 드라이브\\Project\\RGBLab\\ABB\\Data\\06.배회(wander)\\inside_croki_01\\144-5\\144-5_cam02_wander03_place01_night_winter_resized.mp4 to G:\\내 드라이브\\Project\\RGBLab\\ABB\\Data\\Resized\\06.배회(wander)\\inside_croki_01\\144-5\\144-5_cam02_wander03_place01_night_winter_resized.mp4\n"
     ]
    },
    {
     "name": "stderr",
     "output_type": "stream",
     "text": [
      "Copying files: 1314it [07:02,  1.11it/s]"
     ]
    },
    {
     "name": "stdout",
     "output_type": "stream",
     "text": [
      "Copying G:\\내 드라이브\\Project\\RGBLab\\ABB\\Data\\06.배회(wander)\\inside_croki_01\\144-5\\144-5_cam02_wander03_place01_night_spring_resized.mp4 to G:\\내 드라이브\\Project\\RGBLab\\ABB\\Data\\Resized\\06.배회(wander)\\inside_croki_01\\144-5\\144-5_cam02_wander03_place01_night_spring_resized.mp4\n"
     ]
    },
    {
     "name": "stderr",
     "output_type": "stream",
     "text": [
      "Copying files: 1315it [07:03,  1.06it/s]"
     ]
    },
    {
     "name": "stdout",
     "output_type": "stream",
     "text": [
      "Copying G:\\내 드라이브\\Project\\RGBLab\\ABB\\Data\\06.배회(wander)\\inside_croki_01\\144-5\\144-5_cam03_wander03_place01_night_winter_resized.mp4 to G:\\내 드라이브\\Project\\RGBLab\\ABB\\Data\\Resized\\06.배회(wander)\\inside_croki_01\\144-5\\144-5_cam03_wander03_place01_night_winter_resized.mp4\n"
     ]
    },
    {
     "name": "stderr",
     "output_type": "stream",
     "text": [
      "Copying files: 1316it [07:04,  1.09it/s]"
     ]
    },
    {
     "name": "stdout",
     "output_type": "stream",
     "text": [
      "Copying G:\\내 드라이브\\Project\\RGBLab\\ABB\\Data\\06.배회(wander)\\inside_croki_01\\144-5\\144-5_cam03_wander03_place01_night_spring_resized.mp4 to G:\\내 드라이브\\Project\\RGBLab\\ABB\\Data\\Resized\\06.배회(wander)\\inside_croki_01\\144-5\\144-5_cam03_wander03_place01_night_spring_resized.mp4\n"
     ]
    },
    {
     "name": "stderr",
     "output_type": "stream",
     "text": [
      "Copying files: 1317it [07:05,  1.16s/it]"
     ]
    },
    {
     "name": "stdout",
     "output_type": "stream",
     "text": [
      "Copying G:\\내 드라이브\\Project\\RGBLab\\ABB\\Data\\06.배회(wander)\\inside_croki_01\\144-5\\144-5_cam01_wander03_place01_night_winter_resized.mp4 to G:\\내 드라이브\\Project\\RGBLab\\ABB\\Data\\Resized\\06.배회(wander)\\inside_croki_01\\144-5\\144-5_cam01_wander03_place01_night_winter_resized.mp4\n"
     ]
    },
    {
     "name": "stderr",
     "output_type": "stream",
     "text": [
      "Copying files: 1318it [07:06,  1.04s/it]"
     ]
    },
    {
     "name": "stdout",
     "output_type": "stream",
     "text": [
      "Copying G:\\내 드라이브\\Project\\RGBLab\\ABB\\Data\\06.배회(wander)\\inside_croki_01\\144-5\\144-5_cam01_wander03_place01_night_summer_resized.mp4 to G:\\내 드라이브\\Project\\RGBLab\\ABB\\Data\\Resized\\06.배회(wander)\\inside_croki_01\\144-5\\144-5_cam01_wander03_place01_night_summer_resized.mp4\n"
     ]
    },
    {
     "name": "stderr",
     "output_type": "stream",
     "text": [
      "Copying files: 1319it [07:07,  1.02it/s]"
     ]
    },
    {
     "name": "stdout",
     "output_type": "stream",
     "text": [
      "Copying G:\\내 드라이브\\Project\\RGBLab\\ABB\\Data\\06.배회(wander)\\inside_croki_01\\144-6\\144-6_cam03_wander03_place01_night_summer_resized.mp4 to G:\\내 드라이브\\Project\\RGBLab\\ABB\\Data\\Resized\\06.배회(wander)\\inside_croki_01\\144-6\\144-6_cam03_wander03_place01_night_summer_resized.mp4\n",
      "Copying G:\\내 드라이브\\Project\\RGBLab\\ABB\\Data\\06.배회(wander)\\inside_croki_01\\144-6\\144-6_cam01_wander03_place01_night_spring_resized.mp4 to G:\\내 드라이브\\Project\\RGBLab\\ABB\\Data\\Resized\\06.배회(wander)\\inside_croki_01\\144-6\\144-6_cam01_wander03_place01_night_spring_resized.mp4\n"
     ]
    },
    {
     "name": "stderr",
     "output_type": "stream",
     "text": [
      "Copying files: 1321it [07:08,  1.38it/s]"
     ]
    },
    {
     "name": "stdout",
     "output_type": "stream",
     "text": [
      "Copying G:\\내 드라이브\\Project\\RGBLab\\ABB\\Data\\06.배회(wander)\\inside_croki_01\\144-6\\144-6_cam01_wander03_place01_night_summer_resized.mp4 to G:\\내 드라이브\\Project\\RGBLab\\ABB\\Data\\Resized\\06.배회(wander)\\inside_croki_01\\144-6\\144-6_cam01_wander03_place01_night_summer_resized.mp4\n"
     ]
    },
    {
     "name": "stderr",
     "output_type": "stream",
     "text": [
      "Copying files: 1322it [07:10,  1.04s/it]"
     ]
    },
    {
     "name": "stdout",
     "output_type": "stream",
     "text": [
      "Copying G:\\내 드라이브\\Project\\RGBLab\\ABB\\Data\\06.배회(wander)\\inside_croki_01\\144-6\\144-6_cam03_wander03_place01_night_winter_resized.mp4 to G:\\내 드라이브\\Project\\RGBLab\\ABB\\Data\\Resized\\06.배회(wander)\\inside_croki_01\\144-6\\144-6_cam03_wander03_place01_night_winter_resized.mp4\n"
     ]
    },
    {
     "name": "stderr",
     "output_type": "stream",
     "text": [
      "Copying files: 1323it [07:11,  1.03it/s]"
     ]
    },
    {
     "name": "stdout",
     "output_type": "stream",
     "text": [
      "Copying G:\\내 드라이브\\Project\\RGBLab\\ABB\\Data\\06.배회(wander)\\inside_croki_01\\144-6\\144-6_cam03_wander03_place01_night_spring_resized.mp4 to G:\\내 드라이브\\Project\\RGBLab\\ABB\\Data\\Resized\\06.배회(wander)\\inside_croki_01\\144-6\\144-6_cam03_wander03_place01_night_spring_resized.mp4\n"
     ]
    },
    {
     "name": "stderr",
     "output_type": "stream",
     "text": [
      "Copying files: 1324it [07:13,  1.21s/it]"
     ]
    },
    {
     "name": "stdout",
     "output_type": "stream",
     "text": [
      "Copying G:\\내 드라이브\\Project\\RGBLab\\ABB\\Data\\06.배회(wander)\\inside_croki_01\\144-6\\144-6_cam02_wander03_place01_night_summer_resized.mp4 to G:\\내 드라이브\\Project\\RGBLab\\ABB\\Data\\Resized\\06.배회(wander)\\inside_croki_01\\144-6\\144-6_cam02_wander03_place01_night_summer_resized.mp4\n"
     ]
    },
    {
     "name": "stderr",
     "output_type": "stream",
     "text": [
      "Copying files: 1325it [07:14,  1.29s/it]"
     ]
    },
    {
     "name": "stdout",
     "output_type": "stream",
     "text": [
      "Copying G:\\내 드라이브\\Project\\RGBLab\\ABB\\Data\\06.배회(wander)\\inside_croki_01\\144-6\\144-6_cam01_wander03_place01_night_winter_resized.mp4 to G:\\내 드라이브\\Project\\RGBLab\\ABB\\Data\\Resized\\06.배회(wander)\\inside_croki_01\\144-6\\144-6_cam01_wander03_place01_night_winter_resized.mp4\n"
     ]
    },
    {
     "name": "stderr",
     "output_type": "stream",
     "text": [
      "Copying files: 1326it [07:15,  1.15s/it]"
     ]
    },
    {
     "name": "stdout",
     "output_type": "stream",
     "text": [
      "Copying G:\\내 드라이브\\Project\\RGBLab\\ABB\\Data\\06.배회(wander)\\inside_croki_01\\144-6\\144-6_cam02_wander03_place01_night_winter_resized.mp4 to G:\\내 드라이브\\Project\\RGBLab\\ABB\\Data\\Resized\\06.배회(wander)\\inside_croki_01\\144-6\\144-6_cam02_wander03_place01_night_winter_resized.mp4\n"
     ]
    },
    {
     "name": "stderr",
     "output_type": "stream",
     "text": [
      "Copying files: 1327it [07:16,  1.06s/it]"
     ]
    },
    {
     "name": "stdout",
     "output_type": "stream",
     "text": [
      "Copying G:\\내 드라이브\\Project\\RGBLab\\ABB\\Data\\06.배회(wander)\\inside_croki_01\\144-6\\144-6_cam02_wander03_place01_night_spring_resized.mp4 to G:\\내 드라이브\\Project\\RGBLab\\ABB\\Data\\Resized\\06.배회(wander)\\inside_croki_01\\144-6\\144-6_cam02_wander03_place01_night_spring_resized.mp4\n"
     ]
    },
    {
     "name": "stderr",
     "output_type": "stream",
     "text": [
      "Copying files: 1328it [07:17,  1.05s/it]"
     ]
    },
    {
     "name": "stdout",
     "output_type": "stream",
     "text": [
      "Copying G:\\내 드라이브\\Project\\RGBLab\\ABB\\Data\\06.배회(wander)\\inside_croki_01\\254-1_wander01_place09_day\\254-1_cam02_wander01_place09_day_winter_resized.mp4 to G:\\내 드라이브\\Project\\RGBLab\\ABB\\Data\\Resized\\06.배회(wander)\\inside_croki_01\\254-1_wander01_place09_day\\254-1_cam02_wander01_place09_day_winter_resized.mp4\n",
      "Copying G:\\내 드라이브\\Project\\RGBLab\\ABB\\Data\\06.배회(wander)\\inside_croki_01\\254-1_wander01_place09_day\\254-1_cam02_wander01_place09_day_spring_resized.mp4 to G:\\내 드라이브\\Project\\RGBLab\\ABB\\Data\\Resized\\06.배회(wander)\\inside_croki_01\\254-1_wander01_place09_day\\254-1_cam02_wander01_place09_day_spring_resized.mp4\n"
     ]
    },
    {
     "name": "stderr",
     "output_type": "stream",
     "text": [
      "Copying files: 1330it [07:18,  1.27it/s]"
     ]
    },
    {
     "name": "stdout",
     "output_type": "stream",
     "text": [
      "Copying G:\\내 드라이브\\Project\\RGBLab\\ABB\\Data\\06.배회(wander)\\inside_croki_01\\254-1_wander01_place09_day\\254-1_cam03_wander01_place09_day_winter_resized.mp4 to G:\\내 드라이브\\Project\\RGBLab\\ABB\\Data\\Resized\\06.배회(wander)\\inside_croki_01\\254-1_wander01_place09_day\\254-1_cam03_wander01_place09_day_winter_resized.mp4\n"
     ]
    },
    {
     "name": "stderr",
     "output_type": "stream",
     "text": [
      "Copying files: 1331it [07:19,  1.23it/s]"
     ]
    },
    {
     "name": "stdout",
     "output_type": "stream",
     "text": [
      "Copying G:\\내 드라이브\\Project\\RGBLab\\ABB\\Data\\06.배회(wander)\\inside_croki_01\\254-1_wander01_place09_day\\254-1_cam01_wander01_place09_day_spring_resized.mp4 to G:\\내 드라이브\\Project\\RGBLab\\ABB\\Data\\Resized\\06.배회(wander)\\inside_croki_01\\254-1_wander01_place09_day\\254-1_cam01_wander01_place09_day_spring_resized.mp4\n"
     ]
    },
    {
     "name": "stderr",
     "output_type": "stream",
     "text": [
      "Copying files: 1332it [07:19,  1.20it/s]"
     ]
    },
    {
     "name": "stdout",
     "output_type": "stream",
     "text": [
      "Copying G:\\내 드라이브\\Project\\RGBLab\\ABB\\Data\\06.배회(wander)\\inside_croki_01\\254-1_wander01_place09_day\\254-1_cam03_wander01_place09_day_summer_resized.mp4 to G:\\내 드라이브\\Project\\RGBLab\\ABB\\Data\\Resized\\06.배회(wander)\\inside_croki_01\\254-1_wander01_place09_day\\254-1_cam03_wander01_place09_day_summer_resized.mp4\n"
     ]
    },
    {
     "name": "stderr",
     "output_type": "stream",
     "text": [
      "Copying files: 1333it [07:21,  1.08s/it]"
     ]
    },
    {
     "name": "stdout",
     "output_type": "stream",
     "text": [
      "Copying G:\\내 드라이브\\Project\\RGBLab\\ABB\\Data\\06.배회(wander)\\inside_croki_01\\254-1_wander01_place09_day\\254-1_cam03_wander01_place09_day_spring_resized.mp4 to G:\\내 드라이브\\Project\\RGBLab\\ABB\\Data\\Resized\\06.배회(wander)\\inside_croki_01\\254-1_wander01_place09_day\\254-1_cam03_wander01_place09_day_spring_resized.mp4\n"
     ]
    },
    {
     "name": "stderr",
     "output_type": "stream",
     "text": [
      "Copying files: 1334it [07:22,  1.02s/it]"
     ]
    },
    {
     "name": "stdout",
     "output_type": "stream",
     "text": [
      "Copying G:\\내 드라이브\\Project\\RGBLab\\ABB\\Data\\06.배회(wander)\\inside_croki_01\\254-1_wander01_place09_day\\254-1_cam01_wander01_place09_day_summer_resized.mp4 to G:\\내 드라이브\\Project\\RGBLab\\ABB\\Data\\Resized\\06.배회(wander)\\inside_croki_01\\254-1_wander01_place09_day\\254-1_cam01_wander01_place09_day_summer_resized.mp4\n"
     ]
    },
    {
     "name": "stderr",
     "output_type": "stream",
     "text": [
      "Copying files: 1335it [07:23,  1.00s/it]"
     ]
    },
    {
     "name": "stdout",
     "output_type": "stream",
     "text": [
      "Copying G:\\내 드라이브\\Project\\RGBLab\\ABB\\Data\\06.배회(wander)\\inside_croki_01\\254-1_wander01_place09_day\\254-1_cam01_wander01_place09_day_winter_resized.mp4 to G:\\내 드라이브\\Project\\RGBLab\\ABB\\Data\\Resized\\06.배회(wander)\\inside_croki_01\\254-1_wander01_place09_day\\254-1_cam01_wander01_place09_day_winter_resized.mp4\n"
     ]
    },
    {
     "name": "stderr",
     "output_type": "stream",
     "text": [
      "Copying files: 1336it [07:24,  1.04it/s]"
     ]
    },
    {
     "name": "stdout",
     "output_type": "stream",
     "text": [
      "Copying G:\\내 드라이브\\Project\\RGBLab\\ABB\\Data\\06.배회(wander)\\inside_croki_01\\254-1_wander01_place09_day\\254-1_cam02_wander01_place09_day_summer_resized.mp4 to G:\\내 드라이브\\Project\\RGBLab\\ABB\\Data\\Resized\\06.배회(wander)\\inside_croki_01\\254-1_wander01_place09_day\\254-1_cam02_wander01_place09_day_summer_resized.mp4\n"
     ]
    },
    {
     "name": "stderr",
     "output_type": "stream",
     "text": [
      "Copying files: 1337it [07:25,  1.07it/s]"
     ]
    },
    {
     "name": "stdout",
     "output_type": "stream",
     "text": [
      "Copying G:\\내 드라이브\\Project\\RGBLab\\ABB\\Data\\06.배회(wander)\\inside_croki_01\\254-2_wander01_place09_day\\254-2_cam02_wander01_place09_day_winter_resized.mp4 to G:\\내 드라이브\\Project\\RGBLab\\ABB\\Data\\Resized\\06.배회(wander)\\inside_croki_01\\254-2_wander01_place09_day\\254-2_cam02_wander01_place09_day_winter_resized.mp4\n"
     ]
    },
    {
     "name": "stderr",
     "output_type": "stream",
     "text": [
      "Copying files: 1338it [07:27,  1.20s/it]"
     ]
    },
    {
     "name": "stdout",
     "output_type": "stream",
     "text": [
      "Copying G:\\내 드라이브\\Project\\RGBLab\\ABB\\Data\\06.배회(wander)\\inside_croki_01\\254-2_wander01_place09_day\\254-2_cam03_wander01_place09_day_winter_resized.mp4 to G:\\내 드라이브\\Project\\RGBLab\\ABB\\Data\\Resized\\06.배회(wander)\\inside_croki_01\\254-2_wander01_place09_day\\254-2_cam03_wander01_place09_day_winter_resized.mp4\n"
     ]
    },
    {
     "name": "stderr",
     "output_type": "stream",
     "text": [
      "Copying files: 1339it [07:27,  1.11s/it]"
     ]
    },
    {
     "name": "stdout",
     "output_type": "stream",
     "text": [
      "Copying G:\\내 드라이브\\Project\\RGBLab\\ABB\\Data\\06.배회(wander)\\inside_croki_01\\254-2_wander01_place09_day\\254-2_cam02_wander01_place09_day_spring_resized.mp4 to G:\\내 드라이브\\Project\\RGBLab\\ABB\\Data\\Resized\\06.배회(wander)\\inside_croki_01\\254-2_wander01_place09_day\\254-2_cam02_wander01_place09_day_spring_resized.mp4\n"
     ]
    },
    {
     "name": "stderr",
     "output_type": "stream",
     "text": [
      "Copying files: 1340it [07:30,  1.53s/it]"
     ]
    },
    {
     "name": "stdout",
     "output_type": "stream",
     "text": [
      "Copying G:\\내 드라이브\\Project\\RGBLab\\ABB\\Data\\06.배회(wander)\\inside_croki_01\\254-2_wander01_place09_day\\254-2_cam03_wander01_place09_day_summer_resized.mp4 to G:\\내 드라이브\\Project\\RGBLab\\ABB\\Data\\Resized\\06.배회(wander)\\inside_croki_01\\254-2_wander01_place09_day\\254-2_cam03_wander01_place09_day_summer_resized.mp4\n"
     ]
    },
    {
     "name": "stderr",
     "output_type": "stream",
     "text": [
      "Copying files: 1341it [07:31,  1.33s/it]"
     ]
    },
    {
     "name": "stdout",
     "output_type": "stream",
     "text": [
      "Copying G:\\내 드라이브\\Project\\RGBLab\\ABB\\Data\\06.배회(wander)\\inside_croki_01\\254-2_wander01_place09_day\\254-2_cam02_wander01_place09_day_summer_resized.mp4 to G:\\내 드라이브\\Project\\RGBLab\\ABB\\Data\\Resized\\06.배회(wander)\\inside_croki_01\\254-2_wander01_place09_day\\254-2_cam02_wander01_place09_day_summer_resized.mp4\n"
     ]
    },
    {
     "name": "stderr",
     "output_type": "stream",
     "text": [
      "Copying files: 1342it [07:33,  1.47s/it]"
     ]
    },
    {
     "name": "stdout",
     "output_type": "stream",
     "text": [
      "Copying G:\\내 드라이브\\Project\\RGBLab\\ABB\\Data\\06.배회(wander)\\inside_croki_01\\254-2_wander01_place09_day\\254-2_cam01_wander01_place09_day_spring_resized.mp4 to G:\\내 드라이브\\Project\\RGBLab\\ABB\\Data\\Resized\\06.배회(wander)\\inside_croki_01\\254-2_wander01_place09_day\\254-2_cam01_wander01_place09_day_spring_resized.mp4\n"
     ]
    },
    {
     "name": "stderr",
     "output_type": "stream",
     "text": [
      "Copying files: 1343it [07:34,  1.47s/it]"
     ]
    },
    {
     "name": "stdout",
     "output_type": "stream",
     "text": [
      "Copying G:\\내 드라이브\\Project\\RGBLab\\ABB\\Data\\06.배회(wander)\\inside_croki_01\\254-2_wander01_place09_day\\254-2_cam01_wander01_place09_day_summer_resized.mp4 to G:\\내 드라이브\\Project\\RGBLab\\ABB\\Data\\Resized\\06.배회(wander)\\inside_croki_01\\254-2_wander01_place09_day\\254-2_cam01_wander01_place09_day_summer_resized.mp4\n"
     ]
    },
    {
     "name": "stderr",
     "output_type": "stream",
     "text": [
      "Copying files: 1344it [07:35,  1.31s/it]"
     ]
    },
    {
     "name": "stdout",
     "output_type": "stream",
     "text": [
      "Copying G:\\내 드라이브\\Project\\RGBLab\\ABB\\Data\\06.배회(wander)\\inside_croki_01\\254-2_wander01_place09_day\\254-2_cam01_wander01_place09_day_winter_resized.mp4 to G:\\내 드라이브\\Project\\RGBLab\\ABB\\Data\\Resized\\06.배회(wander)\\inside_croki_01\\254-2_wander01_place09_day\\254-2_cam01_wander01_place09_day_winter_resized.mp4\n"
     ]
    },
    {
     "name": "stderr",
     "output_type": "stream",
     "text": [
      "Copying files: 1345it [07:36,  1.21s/it]"
     ]
    },
    {
     "name": "stdout",
     "output_type": "stream",
     "text": [
      "Copying G:\\내 드라이브\\Project\\RGBLab\\ABB\\Data\\06.배회(wander)\\inside_croki_01\\254-2_wander01_place09_day\\254-2_cam03_wander01_place09_day_spring_resized.mp4 to G:\\내 드라이브\\Project\\RGBLab\\ABB\\Data\\Resized\\06.배회(wander)\\inside_croki_01\\254-2_wander01_place09_day\\254-2_cam03_wander01_place09_day_spring_resized.mp4\n"
     ]
    },
    {
     "name": "stderr",
     "output_type": "stream",
     "text": [
      "Copying files: 1346it [07:38,  1.53s/it]"
     ]
    },
    {
     "name": "stdout",
     "output_type": "stream",
     "text": [
      "Copying G:\\내 드라이브\\Project\\RGBLab\\ABB\\Data\\06.배회(wander)\\inside_croki_01\\254-3_wander01_place09_day\\254-3_cam02_wander01_place09_day_winter_resized.mp4 to G:\\내 드라이브\\Project\\RGBLab\\ABB\\Data\\Resized\\06.배회(wander)\\inside_croki_01\\254-3_wander01_place09_day\\254-3_cam02_wander01_place09_day_winter_resized.mp4\n"
     ]
    },
    {
     "name": "stderr",
     "output_type": "stream",
     "text": [
      "Copying files: 1347it [07:41,  1.78s/it]"
     ]
    },
    {
     "name": "stdout",
     "output_type": "stream",
     "text": [
      "Copying G:\\내 드라이브\\Project\\RGBLab\\ABB\\Data\\06.배회(wander)\\inside_croki_01\\254-3_wander01_place09_day\\254-3_cam03_wander01_place09_day_spring_resized.mp4 to G:\\내 드라이브\\Project\\RGBLab\\ABB\\Data\\Resized\\06.배회(wander)\\inside_croki_01\\254-3_wander01_place09_day\\254-3_cam03_wander01_place09_day_spring_resized.mp4\n"
     ]
    },
    {
     "name": "stderr",
     "output_type": "stream",
     "text": [
      "Copying files: 1348it [07:42,  1.53s/it]"
     ]
    },
    {
     "name": "stdout",
     "output_type": "stream",
     "text": [
      "Copying G:\\내 드라이브\\Project\\RGBLab\\ABB\\Data\\06.배회(wander)\\inside_croki_01\\254-3_wander01_place09_day\\254-3_cam01_wander01_place09_day_winter_resized.mp4 to G:\\내 드라이브\\Project\\RGBLab\\ABB\\Data\\Resized\\06.배회(wander)\\inside_croki_01\\254-3_wander01_place09_day\\254-3_cam01_wander01_place09_day_winter_resized.mp4\n"
     ]
    },
    {
     "name": "stderr",
     "output_type": "stream",
     "text": [
      "Copying files: 1349it [07:42,  1.31s/it]"
     ]
    },
    {
     "name": "stdout",
     "output_type": "stream",
     "text": [
      "Copying G:\\내 드라이브\\Project\\RGBLab\\ABB\\Data\\06.배회(wander)\\inside_croki_01\\254-3_wander01_place09_day\\254-3_cam01_wander01_place09_day_spring_resized.mp4 to G:\\내 드라이브\\Project\\RGBLab\\ABB\\Data\\Resized\\06.배회(wander)\\inside_croki_01\\254-3_wander01_place09_day\\254-3_cam01_wander01_place09_day_spring_resized.mp4\n"
     ]
    },
    {
     "name": "stderr",
     "output_type": "stream",
     "text": [
      "Copying files: 1350it [07:43,  1.15s/it]"
     ]
    },
    {
     "name": "stdout",
     "output_type": "stream",
     "text": [
      "Copying G:\\내 드라이브\\Project\\RGBLab\\ABB\\Data\\06.배회(wander)\\inside_croki_01\\254-3_wander01_place09_day\\254-3_cam01_wander01_place09_day_summer_resized.mp4 to G:\\내 드라이브\\Project\\RGBLab\\ABB\\Data\\Resized\\06.배회(wander)\\inside_croki_01\\254-3_wander01_place09_day\\254-3_cam01_wander01_place09_day_summer_resized.mp4\n",
      "Copying G:\\내 드라이브\\Project\\RGBLab\\ABB\\Data\\06.배회(wander)\\inside_croki_01\\254-3_wander01_place09_day\\254-3_cam03_wander01_place09_day_winter_resized.mp4 to G:\\내 드라이브\\Project\\RGBLab\\ABB\\Data\\Resized\\06.배회(wander)\\inside_croki_01\\254-3_wander01_place09_day\\254-3_cam03_wander01_place09_day_winter_resized.mp4\n",
      "Copying G:\\내 드라이브\\Project\\RGBLab\\ABB\\Data\\06.배회(wander)\\inside_croki_01\\254-3_wander01_place09_day\\254-3_cam03_wander01_place09_day_summer_resized.mp4 to G:\\내 드라이브\\Project\\RGBLab\\ABB\\Data\\Resized\\06.배회(wander)\\inside_croki_01\\254-3_wander01_place09_day\\254-3_cam03_wander01_place09_day_summer_resized.mp4\n"
     ]
    },
    {
     "name": "stderr",
     "output_type": "stream",
     "text": [
      "Copying files: 1353it [07:45,  1.22it/s]"
     ]
    },
    {
     "name": "stdout",
     "output_type": "stream",
     "text": [
      "Copying G:\\내 드라이브\\Project\\RGBLab\\ABB\\Data\\06.배회(wander)\\inside_croki_01\\254-3_wander01_place09_day\\254-3_cam02_wander01_place09_day_spring_resized.mp4 to G:\\내 드라이브\\Project\\RGBLab\\ABB\\Data\\Resized\\06.배회(wander)\\inside_croki_01\\254-3_wander01_place09_day\\254-3_cam02_wander01_place09_day_spring_resized.mp4\n"
     ]
    },
    {
     "name": "stderr",
     "output_type": "stream",
     "text": [
      "Copying files: 1354it [07:46,  1.19it/s]"
     ]
    },
    {
     "name": "stdout",
     "output_type": "stream",
     "text": [
      "Copying G:\\내 드라이브\\Project\\RGBLab\\ABB\\Data\\06.배회(wander)\\inside_croki_01\\254-3_wander01_place09_day\\254-3_cam02_wander01_place09_day_summer_resized.mp4 to G:\\내 드라이브\\Project\\RGBLab\\ABB\\Data\\Resized\\06.배회(wander)\\inside_croki_01\\254-3_wander01_place09_day\\254-3_cam02_wander01_place09_day_summer_resized.mp4\n"
     ]
    },
    {
     "name": "stderr",
     "output_type": "stream",
     "text": [
      "Copying files: 1355it [07:47,  1.03s/it]"
     ]
    },
    {
     "name": "stdout",
     "output_type": "stream",
     "text": [
      "Copying G:\\내 드라이브\\Project\\RGBLab\\ABB\\Data\\06.배회(wander)\\inside_croki_02\\254-4_wander01_place09_day\\254-4_cam02_wander01_place09_day_winter_resized.mp4 to G:\\내 드라이브\\Project\\RGBLab\\ABB\\Data\\Resized\\06.배회(wander)\\inside_croki_02\\254-4_wander01_place09_day\\254-4_cam02_wander01_place09_day_winter_resized.mp4\n",
      "Copying G:\\내 드라이브\\Project\\RGBLab\\ABB\\Data\\06.배회(wander)\\inside_croki_02\\254-4_wander01_place09_day\\254-4_cam01_wander01_place09_day_summer_resized.mp4 to G:\\내 드라이브\\Project\\RGBLab\\ABB\\Data\\Resized\\06.배회(wander)\\inside_croki_02\\254-4_wander01_place09_day\\254-4_cam01_wander01_place09_day_summer_resized.mp4\n"
     ]
    },
    {
     "name": "stderr",
     "output_type": "stream",
     "text": [
      "Copying files: 1357it [07:48,  1.23it/s]"
     ]
    },
    {
     "name": "stdout",
     "output_type": "stream",
     "text": [
      "Copying G:\\내 드라이브\\Project\\RGBLab\\ABB\\Data\\06.배회(wander)\\inside_croki_02\\254-4_wander01_place09_day\\254-4_cam03_wander01_place09_day_spring_resized.mp4 to G:\\내 드라이브\\Project\\RGBLab\\ABB\\Data\\Resized\\06.배회(wander)\\inside_croki_02\\254-4_wander01_place09_day\\254-4_cam03_wander01_place09_day_spring_resized.mp4\n"
     ]
    },
    {
     "name": "stderr",
     "output_type": "stream",
     "text": [
      "Copying files: 1358it [07:49,  1.24it/s]"
     ]
    },
    {
     "name": "stdout",
     "output_type": "stream",
     "text": [
      "Copying G:\\내 드라이브\\Project\\RGBLab\\ABB\\Data\\06.배회(wander)\\inside_croki_02\\254-4_wander01_place09_day\\254-4_cam01_wander01_place09_day_winter_resized.mp4 to G:\\내 드라이브\\Project\\RGBLab\\ABB\\Data\\Resized\\06.배회(wander)\\inside_croki_02\\254-4_wander01_place09_day\\254-4_cam01_wander01_place09_day_winter_resized.mp4\n",
      "Copying G:\\내 드라이브\\Project\\RGBLab\\ABB\\Data\\06.배회(wander)\\inside_croki_02\\254-4_wander01_place09_day\\254-4_cam03_wander01_place09_day_summer_resized.mp4 to G:\\내 드라이브\\Project\\RGBLab\\ABB\\Data\\Resized\\06.배회(wander)\\inside_croki_02\\254-4_wander01_place09_day\\254-4_cam03_wander01_place09_day_summer_resized.mp4\n"
     ]
    },
    {
     "name": "stderr",
     "output_type": "stream",
     "text": [
      "Copying files: 1360it [07:50,  1.40it/s]"
     ]
    },
    {
     "name": "stdout",
     "output_type": "stream",
     "text": [
      "Copying G:\\내 드라이브\\Project\\RGBLab\\ABB\\Data\\06.배회(wander)\\inside_croki_02\\254-4_wander01_place09_day\\254-4_cam03_wander01_place09_day_winter_resized.mp4 to G:\\내 드라이브\\Project\\RGBLab\\ABB\\Data\\Resized\\06.배회(wander)\\inside_croki_02\\254-4_wander01_place09_day\\254-4_cam03_wander01_place09_day_winter_resized.mp4\n"
     ]
    },
    {
     "name": "stderr",
     "output_type": "stream",
     "text": [
      "Copying files: 1361it [07:51,  1.30it/s]"
     ]
    },
    {
     "name": "stdout",
     "output_type": "stream",
     "text": [
      "Copying G:\\내 드라이브\\Project\\RGBLab\\ABB\\Data\\06.배회(wander)\\inside_croki_02\\254-4_wander01_place09_day\\254-4_cam02_wander01_place09_day_summer_resized.mp4 to G:\\내 드라이브\\Project\\RGBLab\\ABB\\Data\\Resized\\06.배회(wander)\\inside_croki_02\\254-4_wander01_place09_day\\254-4_cam02_wander01_place09_day_summer_resized.mp4\n"
     ]
    },
    {
     "name": "stderr",
     "output_type": "stream",
     "text": [
      "Copying files: 1362it [07:52,  1.22it/s]"
     ]
    },
    {
     "name": "stdout",
     "output_type": "stream",
     "text": [
      "Copying G:\\내 드라이브\\Project\\RGBLab\\ABB\\Data\\06.배회(wander)\\inside_croki_02\\254-4_wander01_place09_day\\254-4_cam02_wander01_place09_day_spring_resized.mp4 to G:\\내 드라이브\\Project\\RGBLab\\ABB\\Data\\Resized\\06.배회(wander)\\inside_croki_02\\254-4_wander01_place09_day\\254-4_cam02_wander01_place09_day_spring_resized.mp4\n"
     ]
    },
    {
     "name": "stderr",
     "output_type": "stream",
     "text": [
      "Copying files: 1363it [07:53,  1.16it/s]"
     ]
    },
    {
     "name": "stdout",
     "output_type": "stream",
     "text": [
      "Copying G:\\내 드라이브\\Project\\RGBLab\\ABB\\Data\\06.배회(wander)\\inside_croki_02\\254-4_wander01_place09_day\\254-4_cam01_wander01_place09_day_spring_resized.mp4 to G:\\내 드라이브\\Project\\RGBLab\\ABB\\Data\\Resized\\06.배회(wander)\\inside_croki_02\\254-4_wander01_place09_day\\254-4_cam01_wander01_place09_day_spring_resized.mp4\n"
     ]
    },
    {
     "name": "stderr",
     "output_type": "stream",
     "text": [
      "Copying files: 1364it [07:54,  1.12it/s]"
     ]
    },
    {
     "name": "stdout",
     "output_type": "stream",
     "text": [
      "Copying G:\\내 드라이브\\Project\\RGBLab\\ABB\\Data\\06.배회(wander)\\inside_croki_02\\254-5_wander01_place09_day\\254-5_cam02_wander01_place09_day_winter_resized.mp4 to G:\\내 드라이브\\Project\\RGBLab\\ABB\\Data\\Resized\\06.배회(wander)\\inside_croki_02\\254-5_wander01_place09_day\\254-5_cam02_wander01_place09_day_winter_resized.mp4\n",
      "Copying G:\\내 드라이브\\Project\\RGBLab\\ABB\\Data\\06.배회(wander)\\inside_croki_02\\254-5_wander01_place09_day\\254-5_cam01_wander01_place09_day_winter_resized.mp4 to G:\\내 드라이브\\Project\\RGBLab\\ABB\\Data\\Resized\\06.배회(wander)\\inside_croki_02\\254-5_wander01_place09_day\\254-5_cam01_wander01_place09_day_winter_resized.mp4\n"
     ]
    },
    {
     "name": "stderr",
     "output_type": "stream",
     "text": [
      "Copying files: 1366it [07:55,  1.41it/s]"
     ]
    },
    {
     "name": "stdout",
     "output_type": "stream",
     "text": [
      "Copying G:\\내 드라이브\\Project\\RGBLab\\ABB\\Data\\06.배회(wander)\\inside_croki_02\\254-5_wander01_place09_day\\254-5_cam03_wander01_place09_day_spring_resized.mp4 to G:\\내 드라이브\\Project\\RGBLab\\ABB\\Data\\Resized\\06.배회(wander)\\inside_croki_02\\254-5_wander01_place09_day\\254-5_cam03_wander01_place09_day_spring_resized.mp4\n"
     ]
    },
    {
     "name": "stderr",
     "output_type": "stream",
     "text": [
      "Copying files: 1367it [07:57,  1.02it/s]"
     ]
    },
    {
     "name": "stdout",
     "output_type": "stream",
     "text": [
      "Copying G:\\내 드라이브\\Project\\RGBLab\\ABB\\Data\\06.배회(wander)\\inside_croki_02\\254-5_wander01_place09_day\\254-5_cam02_wander01_place09_day_summer_resized.mp4 to G:\\내 드라이브\\Project\\RGBLab\\ABB\\Data\\Resized\\06.배회(wander)\\inside_croki_02\\254-5_wander01_place09_day\\254-5_cam02_wander01_place09_day_summer_resized.mp4\n"
     ]
    },
    {
     "name": "stderr",
     "output_type": "stream",
     "text": [
      "Copying files: 1368it [07:58,  1.01s/it]"
     ]
    },
    {
     "name": "stdout",
     "output_type": "stream",
     "text": [
      "Copying G:\\내 드라이브\\Project\\RGBLab\\ABB\\Data\\06.배회(wander)\\inside_croki_02\\254-5_wander01_place09_day\\254-5_cam02_wander01_place09_day_spring_resized.mp4 to G:\\내 드라이브\\Project\\RGBLab\\ABB\\Data\\Resized\\06.배회(wander)\\inside_croki_02\\254-5_wander01_place09_day\\254-5_cam02_wander01_place09_day_spring_resized.mp4\n"
     ]
    },
    {
     "name": "stderr",
     "output_type": "stream",
     "text": [
      "Copying files: 1369it [07:59,  1.00s/it]"
     ]
    },
    {
     "name": "stdout",
     "output_type": "stream",
     "text": [
      "Copying G:\\내 드라이브\\Project\\RGBLab\\ABB\\Data\\06.배회(wander)\\inside_croki_02\\254-5_wander01_place09_day\\254-5_cam03_wander01_place09_day_winter_resized.mp4 to G:\\내 드라이브\\Project\\RGBLab\\ABB\\Data\\Resized\\06.배회(wander)\\inside_croki_02\\254-5_wander01_place09_day\\254-5_cam03_wander01_place09_day_winter_resized.mp4\n"
     ]
    },
    {
     "name": "stderr",
     "output_type": "stream",
     "text": [
      "Copying files: 1370it [08:00,  1.05it/s]"
     ]
    },
    {
     "name": "stdout",
     "output_type": "stream",
     "text": [
      "Copying G:\\내 드라이브\\Project\\RGBLab\\ABB\\Data\\06.배회(wander)\\inside_croki_02\\254-5_wander01_place09_day\\254-5_cam01_wander01_place09_day_spring_resized.mp4 to G:\\내 드라이브\\Project\\RGBLab\\ABB\\Data\\Resized\\06.배회(wander)\\inside_croki_02\\254-5_wander01_place09_day\\254-5_cam01_wander01_place09_day_spring_resized.mp4\n"
     ]
    },
    {
     "name": "stderr",
     "output_type": "stream",
     "text": [
      "Copying files: 1371it [08:01,  1.05it/s]"
     ]
    },
    {
     "name": "stdout",
     "output_type": "stream",
     "text": [
      "Copying G:\\내 드라이브\\Project\\RGBLab\\ABB\\Data\\06.배회(wander)\\inside_croki_02\\254-5_wander01_place09_day\\254-5_cam03_wander01_place09_day_summer_resized.mp4 to G:\\내 드라이브\\Project\\RGBLab\\ABB\\Data\\Resized\\06.배회(wander)\\inside_croki_02\\254-5_wander01_place09_day\\254-5_cam03_wander01_place09_day_summer_resized.mp4\n"
     ]
    },
    {
     "name": "stderr",
     "output_type": "stream",
     "text": [
      "Copying files: 1372it [08:02,  1.06it/s]"
     ]
    },
    {
     "name": "stdout",
     "output_type": "stream",
     "text": [
      "Copying G:\\내 드라이브\\Project\\RGBLab\\ABB\\Data\\06.배회(wander)\\inside_croki_02\\254-5_wander01_place09_day\\254-5_cam01_wander01_place09_day_summer_resized.mp4 to G:\\내 드라이브\\Project\\RGBLab\\ABB\\Data\\Resized\\06.배회(wander)\\inside_croki_02\\254-5_wander01_place09_day\\254-5_cam01_wander01_place09_day_summer_resized.mp4\n"
     ]
    },
    {
     "name": "stderr",
     "output_type": "stream",
     "text": [
      "Copying files: 1373it [08:04,  1.17s/it]"
     ]
    },
    {
     "name": "stdout",
     "output_type": "stream",
     "text": [
      "Copying G:\\내 드라이브\\Project\\RGBLab\\ABB\\Data\\06.배회(wander)\\inside_croki_02\\254-6_wander01_place09_day\\254-6_cam03_wander01_place09_day_winter_resized.mp4 to G:\\내 드라이브\\Project\\RGBLab\\ABB\\Data\\Resized\\06.배회(wander)\\inside_croki_02\\254-6_wander01_place09_day\\254-6_cam03_wander01_place09_day_winter_resized.mp4\n"
     ]
    },
    {
     "name": "stderr",
     "output_type": "stream",
     "text": [
      "Copying files: 1374it [08:05,  1.27s/it]"
     ]
    },
    {
     "name": "stdout",
     "output_type": "stream",
     "text": [
      "Copying G:\\내 드라이브\\Project\\RGBLab\\ABB\\Data\\06.배회(wander)\\inside_croki_02\\254-6_wander01_place09_day\\254-6_cam01_wander01_place09_day_spring_resized.mp4 to G:\\내 드라이브\\Project\\RGBLab\\ABB\\Data\\Resized\\06.배회(wander)\\inside_croki_02\\254-6_wander01_place09_day\\254-6_cam01_wander01_place09_day_spring_resized.mp4\n"
     ]
    },
    {
     "name": "stderr",
     "output_type": "stream",
     "text": [
      "Copying files: 1375it [08:06,  1.17s/it]"
     ]
    },
    {
     "name": "stdout",
     "output_type": "stream",
     "text": [
      "Copying G:\\내 드라이브\\Project\\RGBLab\\ABB\\Data\\06.배회(wander)\\inside_croki_02\\254-6_wander01_place09_day\\254-6_cam02_wander01_place09_day_summer_resized.mp4 to G:\\내 드라이브\\Project\\RGBLab\\ABB\\Data\\Resized\\06.배회(wander)\\inside_croki_02\\254-6_wander01_place09_day\\254-6_cam02_wander01_place09_day_summer_resized.mp4\n"
     ]
    },
    {
     "name": "stderr",
     "output_type": "stream",
     "text": [
      "Copying files: 1376it [08:07,  1.10s/it]"
     ]
    },
    {
     "name": "stdout",
     "output_type": "stream",
     "text": [
      "Copying G:\\내 드라이브\\Project\\RGBLab\\ABB\\Data\\06.배회(wander)\\inside_croki_02\\254-6_wander01_place09_day\\254-6_cam01_wander01_place09_day_winter_resized.mp4 to G:\\내 드라이브\\Project\\RGBLab\\ABB\\Data\\Resized\\06.배회(wander)\\inside_croki_02\\254-6_wander01_place09_day\\254-6_cam01_wander01_place09_day_winter_resized.mp4\n"
     ]
    },
    {
     "name": "stderr",
     "output_type": "stream",
     "text": [
      "Copying files: 1377it [08:08,  1.08s/it]"
     ]
    },
    {
     "name": "stdout",
     "output_type": "stream",
     "text": [
      "Copying G:\\내 드라이브\\Project\\RGBLab\\ABB\\Data\\06.배회(wander)\\inside_croki_02\\254-6_wander01_place09_day\\254-6_cam02_wander01_place09_day_winter_resized.mp4 to G:\\내 드라이브\\Project\\RGBLab\\ABB\\Data\\Resized\\06.배회(wander)\\inside_croki_02\\254-6_wander01_place09_day\\254-6_cam02_wander01_place09_day_winter_resized.mp4\n"
     ]
    },
    {
     "name": "stderr",
     "output_type": "stream",
     "text": [
      "Copying files: 1381it [08:09,  2.12it/s]"
     ]
    },
    {
     "name": "stdout",
     "output_type": "stream",
     "text": [
      "Copying G:\\내 드라이브\\Project\\RGBLab\\ABB\\Data\\06.배회(wander)\\inside_croki_02\\254-6_wander01_place09_day\\254-6_cam03_wander01_place09_day_spring_resized.mp4 to G:\\내 드라이브\\Project\\RGBLab\\ABB\\Data\\Resized\\06.배회(wander)\\inside_croki_02\\254-6_wander01_place09_day\\254-6_cam03_wander01_place09_day_spring_resized.mp4\n",
      "Copying G:\\내 드라이브\\Project\\RGBLab\\ABB\\Data\\06.배회(wander)\\inside_croki_02\\254-6_wander01_place09_day\\254-6_cam02_wander01_place09_day_spring_resized.mp4 to G:\\내 드라이브\\Project\\RGBLab\\ABB\\Data\\Resized\\06.배회(wander)\\inside_croki_02\\254-6_wander01_place09_day\\254-6_cam02_wander01_place09_day_spring_resized.mp4\n",
      "Copying G:\\내 드라이브\\Project\\RGBLab\\ABB\\Data\\06.배회(wander)\\inside_croki_02\\254-6_wander01_place09_day\\254-6_cam01_wander01_place09_day_summer_resized.mp4 to G:\\내 드라이브\\Project\\RGBLab\\ABB\\Data\\Resized\\06.배회(wander)\\inside_croki_02\\254-6_wander01_place09_day\\254-6_cam01_wander01_place09_day_summer_resized.mp4\n",
      "Copying G:\\내 드라이브\\Project\\RGBLab\\ABB\\Data\\06.배회(wander)\\inside_croki_02\\254-6_wander01_place09_day\\254-6_cam03_wander01_place09_day_summer_resized.mp4 to G:\\내 드라이브\\Project\\RGBLab\\ABB\\Data\\Resized\\06.배회(wander)\\inside_croki_02\\254-6_wander01_place09_day\\254-6_cam03_wander01_place09_day_summer_resized.mp4\n"
     ]
    },
    {
     "name": "stderr",
     "output_type": "stream",
     "text": [
      "Copying files: 1382it [08:10,  1.74it/s]"
     ]
    },
    {
     "name": "stdout",
     "output_type": "stream",
     "text": [
      "Copying G:\\내 드라이브\\Project\\RGBLab\\ABB\\Data\\06.배회(wander)\\inside_croki_02\\263-1\\263-1_cam01_wander03_place02_day_winter_resized.mp4 to G:\\내 드라이브\\Project\\RGBLab\\ABB\\Data\\Resized\\06.배회(wander)\\inside_croki_02\\263-1\\263-1_cam01_wander03_place02_day_winter_resized.mp4\n"
     ]
    },
    {
     "name": "stderr",
     "output_type": "stream",
     "text": [
      "Copying files: 1383it [08:11,  1.53it/s]"
     ]
    },
    {
     "name": "stdout",
     "output_type": "stream",
     "text": [
      "Copying G:\\내 드라이브\\Project\\RGBLab\\ABB\\Data\\06.배회(wander)\\inside_croki_02\\263-1\\263-1_cam01_wander03_place02_day_summer_resized.mp4 to G:\\내 드라이브\\Project\\RGBLab\\ABB\\Data\\Resized\\06.배회(wander)\\inside_croki_02\\263-1\\263-1_cam01_wander03_place02_day_summer_resized.mp4\n"
     ]
    },
    {
     "name": "stderr",
     "output_type": "stream",
     "text": [
      "Copying files: 1384it [08:12,  1.44it/s]"
     ]
    },
    {
     "name": "stdout",
     "output_type": "stream",
     "text": [
      "Copying G:\\내 드라이브\\Project\\RGBLab\\ABB\\Data\\06.배회(wander)\\inside_croki_02\\263-1\\263-1_cam02_wander03_place02_day_spring_resized.mp4 to G:\\내 드라이브\\Project\\RGBLab\\ABB\\Data\\Resized\\06.배회(wander)\\inside_croki_02\\263-1\\263-1_cam02_wander03_place02_day_spring_resized.mp4\n",
      "Copying G:\\내 드라이브\\Project\\RGBLab\\ABB\\Data\\06.배회(wander)\\inside_croki_02\\263-1\\263-1_cam01_wander03_place02_day_spring_resized.mp4 to G:\\내 드라이브\\Project\\RGBLab\\ABB\\Data\\Resized\\06.배회(wander)\\inside_croki_02\\263-1\\263-1_cam01_wander03_place02_day_spring_resized.mp4\n"
     ]
    },
    {
     "name": "stderr",
     "output_type": "stream",
     "text": [
      "Copying files: 1386it [08:13,  1.70it/s]"
     ]
    },
    {
     "name": "stdout",
     "output_type": "stream",
     "text": [
      "Copying G:\\내 드라이브\\Project\\RGBLab\\ABB\\Data\\06.배회(wander)\\inside_croki_02\\263-1\\263-1_cam03_wander03_place02_day_spring_resized.mp4 to G:\\내 드라이브\\Project\\RGBLab\\ABB\\Data\\Resized\\06.배회(wander)\\inside_croki_02\\263-1\\263-1_cam03_wander03_place02_day_spring_resized.mp4\n",
      "Copying G:\\내 드라이브\\Project\\RGBLab\\ABB\\Data\\06.배회(wander)\\inside_croki_02\\263-1\\263-1_cam02_wander03_place02_day_winter_resized.mp4 to G:\\내 드라이브\\Project\\RGBLab\\ABB\\Data\\Resized\\06.배회(wander)\\inside_croki_02\\263-1\\263-1_cam02_wander03_place02_day_winter_resized.mp4\n"
     ]
    },
    {
     "name": "stderr",
     "output_type": "stream",
     "text": [
      "Copying files: 1388it [08:13,  1.85it/s]"
     ]
    },
    {
     "name": "stdout",
     "output_type": "stream",
     "text": [
      "Copying G:\\내 드라이브\\Project\\RGBLab\\ABB\\Data\\06.배회(wander)\\inside_croki_02\\263-1\\263-1_cam03_wander03_place02_day_summer_resized.mp4 to G:\\내 드라이브\\Project\\RGBLab\\ABB\\Data\\Resized\\06.배회(wander)\\inside_croki_02\\263-1\\263-1_cam03_wander03_place02_day_summer_resized.mp4\n"
     ]
    },
    {
     "name": "stderr",
     "output_type": "stream",
     "text": [
      "Copying files: 1389it [08:14,  1.68it/s]"
     ]
    },
    {
     "name": "stdout",
     "output_type": "stream",
     "text": [
      "Copying G:\\내 드라이브\\Project\\RGBLab\\ABB\\Data\\06.배회(wander)\\inside_croki_02\\263-1\\263-1_cam02_wander03_place02_day_summer_resized.mp4 to G:\\내 드라이브\\Project\\RGBLab\\ABB\\Data\\Resized\\06.배회(wander)\\inside_croki_02\\263-1\\263-1_cam02_wander03_place02_day_summer_resized.mp4\n"
     ]
    },
    {
     "name": "stderr",
     "output_type": "stream",
     "text": [
      "Copying files: 1390it [08:15,  1.56it/s]"
     ]
    },
    {
     "name": "stdout",
     "output_type": "stream",
     "text": [
      "Copying G:\\내 드라이브\\Project\\RGBLab\\ABB\\Data\\06.배회(wander)\\inside_croki_02\\263-1\\263-1_cam03_wander03_place02_day_winter_resized.mp4 to G:\\내 드라이브\\Project\\RGBLab\\ABB\\Data\\Resized\\06.배회(wander)\\inside_croki_02\\263-1\\263-1_cam03_wander03_place02_day_winter_resized.mp4\n"
     ]
    },
    {
     "name": "stderr",
     "output_type": "stream",
     "text": [
      "Copying files: 1391it [08:16,  1.43it/s]"
     ]
    },
    {
     "name": "stdout",
     "output_type": "stream",
     "text": [
      "Copying G:\\내 드라이브\\Project\\RGBLab\\ABB\\Data\\06.배회(wander)\\inside_croki_02\\263-2\\263-2_cam02_wander03_place02_day_summer_resized.mp4 to G:\\내 드라이브\\Project\\RGBLab\\ABB\\Data\\Resized\\06.배회(wander)\\inside_croki_02\\263-2\\263-2_cam02_wander03_place02_day_summer_resized.mp4\n"
     ]
    },
    {
     "name": "stderr",
     "output_type": "stream",
     "text": [
      "Copying files: 1392it [08:17,  1.35it/s]"
     ]
    },
    {
     "name": "stdout",
     "output_type": "stream",
     "text": [
      "Copying G:\\내 드라이브\\Project\\RGBLab\\ABB\\Data\\06.배회(wander)\\inside_croki_02\\263-2\\263-2_cam03_wander03_place02_day_spring_resized.mp4 to G:\\내 드라이브\\Project\\RGBLab\\ABB\\Data\\Resized\\06.배회(wander)\\inside_croki_02\\263-2\\263-2_cam03_wander03_place02_day_spring_resized.mp4\n"
     ]
    },
    {
     "name": "stderr",
     "output_type": "stream",
     "text": [
      "Copying files: 1393it [08:18,  1.01it/s]"
     ]
    },
    {
     "name": "stdout",
     "output_type": "stream",
     "text": [
      "Copying G:\\내 드라이브\\Project\\RGBLab\\ABB\\Data\\06.배회(wander)\\inside_croki_02\\263-2\\263-2_cam03_wander03_place02_day_summer_resized.mp4 to G:\\내 드라이브\\Project\\RGBLab\\ABB\\Data\\Resized\\06.배회(wander)\\inside_croki_02\\263-2\\263-2_cam03_wander03_place02_day_summer_resized.mp4\n"
     ]
    },
    {
     "name": "stderr",
     "output_type": "stream",
     "text": [
      "Copying files: 1394it [08:19,  1.06it/s]"
     ]
    },
    {
     "name": "stdout",
     "output_type": "stream",
     "text": [
      "Copying G:\\내 드라이브\\Project\\RGBLab\\ABB\\Data\\06.배회(wander)\\inside_croki_02\\263-2\\263-2_cam02_wander03_place02_day_spring_resized.mp4 to G:\\내 드라이브\\Project\\RGBLab\\ABB\\Data\\Resized\\06.배회(wander)\\inside_croki_02\\263-2\\263-2_cam02_wander03_place02_day_spring_resized.mp4\n"
     ]
    },
    {
     "name": "stderr",
     "output_type": "stream",
     "text": [
      "Copying files: 1395it [08:20,  1.09it/s]"
     ]
    },
    {
     "name": "stdout",
     "output_type": "stream",
     "text": [
      "Copying G:\\내 드라이브\\Project\\RGBLab\\ABB\\Data\\06.배회(wander)\\inside_croki_02\\263-2\\263-2_cam01_wander03_place02_day_spring_resized.mp4 to G:\\내 드라이브\\Project\\RGBLab\\ABB\\Data\\Resized\\06.배회(wander)\\inside_croki_02\\263-2\\263-2_cam01_wander03_place02_day_spring_resized.mp4\n"
     ]
    },
    {
     "name": "stderr",
     "output_type": "stream",
     "text": [
      "Copying files: 1396it [08:21,  1.12it/s]"
     ]
    },
    {
     "name": "stdout",
     "output_type": "stream",
     "text": [
      "Copying G:\\내 드라이브\\Project\\RGBLab\\ABB\\Data\\06.배회(wander)\\inside_croki_02\\263-2\\263-2_cam02_wander03_place02_day_winter_resized.mp4 to G:\\내 드라이브\\Project\\RGBLab\\ABB\\Data\\Resized\\06.배회(wander)\\inside_croki_02\\263-2\\263-2_cam02_wander03_place02_day_winter_resized.mp4\n"
     ]
    },
    {
     "name": "stderr",
     "output_type": "stream",
     "text": [
      "Copying files: 1397it [08:22,  1.13it/s]"
     ]
    },
    {
     "name": "stdout",
     "output_type": "stream",
     "text": [
      "Copying G:\\내 드라이브\\Project\\RGBLab\\ABB\\Data\\06.배회(wander)\\inside_croki_02\\263-2\\263-2_cam01_wander03_place02_day_summer_resized.mp4 to G:\\내 드라이브\\Project\\RGBLab\\ABB\\Data\\Resized\\06.배회(wander)\\inside_croki_02\\263-2\\263-2_cam01_wander03_place02_day_summer_resized.mp4\n",
      "Copying G:\\내 드라이브\\Project\\RGBLab\\ABB\\Data\\06.배회(wander)\\inside_croki_02\\263-2\\263-2_cam03_wander03_place02_day_winter_resized.mp4 to G:\\내 드라이브\\Project\\RGBLab\\ABB\\Data\\Resized\\06.배회(wander)\\inside_croki_02\\263-2\\263-2_cam03_wander03_place02_day_winter_resized.mp4\n",
      "Copying G:\\내 드라이브\\Project\\RGBLab\\ABB\\Data\\06.배회(wander)\\inside_croki_02\\263-2\\263-2_cam01_wander03_place02_day_winter_resized.mp4 to G:\\내 드라이브\\Project\\RGBLab\\ABB\\Data\\Resized\\06.배회(wander)\\inside_croki_02\\263-2\\263-2_cam01_wander03_place02_day_winter_resized.mp4\n"
     ]
    },
    {
     "name": "stderr",
     "output_type": "stream",
     "text": [
      "Copying files: 1400it [08:23,  1.80it/s]"
     ]
    },
    {
     "name": "stdout",
     "output_type": "stream",
     "text": [
      "Copying G:\\내 드라이브\\Project\\RGBLab\\ABB\\Data\\06.배회(wander)\\inside_croki_02\\263-3\\263-3_cam03_wander03_place02_day_spring_resized.mp4 to G:\\내 드라이브\\Project\\RGBLab\\ABB\\Data\\Resized\\06.배회(wander)\\inside_croki_02\\263-3\\263-3_cam03_wander03_place02_day_spring_resized.mp4\n"
     ]
    },
    {
     "name": "stderr",
     "output_type": "stream",
     "text": [
      "Copying files: 1401it [08:24,  1.53it/s]"
     ]
    },
    {
     "name": "stdout",
     "output_type": "stream",
     "text": [
      "Copying G:\\내 드라이브\\Project\\RGBLab\\ABB\\Data\\06.배회(wander)\\inside_croki_02\\263-3\\263-3_cam02_wander03_place02_day_summer_resized.mp4 to G:\\내 드라이브\\Project\\RGBLab\\ABB\\Data\\Resized\\06.배회(wander)\\inside_croki_02\\263-3\\263-3_cam02_wander03_place02_day_summer_resized.mp4\n"
     ]
    },
    {
     "name": "stderr",
     "output_type": "stream",
     "text": [
      "Copying files: 1402it [08:25,  1.42it/s]"
     ]
    },
    {
     "name": "stdout",
     "output_type": "stream",
     "text": [
      "Copying G:\\내 드라이브\\Project\\RGBLab\\ABB\\Data\\06.배회(wander)\\inside_croki_02\\263-3\\263-3_cam01_wander03_place02_day_spring_resized.mp4 to G:\\내 드라이브\\Project\\RGBLab\\ABB\\Data\\Resized\\06.배회(wander)\\inside_croki_02\\263-3\\263-3_cam01_wander03_place02_day_spring_resized.mp4\n"
     ]
    },
    {
     "name": "stderr",
     "output_type": "stream",
     "text": [
      "Copying files: 1403it [08:27,  1.07s/it]"
     ]
    },
    {
     "name": "stdout",
     "output_type": "stream",
     "text": [
      "Copying G:\\내 드라이브\\Project\\RGBLab\\ABB\\Data\\06.배회(wander)\\inside_croki_02\\263-3\\263-3_cam03_wander03_place02_day_winter_resized.mp4 to G:\\내 드라이브\\Project\\RGBLab\\ABB\\Data\\Resized\\06.배회(wander)\\inside_croki_02\\263-3\\263-3_cam03_wander03_place02_day_winter_resized.mp4\n"
     ]
    },
    {
     "name": "stderr",
     "output_type": "stream",
     "text": [
      "Copying files: 1407it [08:28,  1.97it/s]"
     ]
    },
    {
     "name": "stdout",
     "output_type": "stream",
     "text": [
      "Copying G:\\내 드라이브\\Project\\RGBLab\\ABB\\Data\\06.배회(wander)\\inside_croki_02\\263-3\\263-3_cam01_wander03_place02_day_summer_resized.mp4 to G:\\내 드라이브\\Project\\RGBLab\\ABB\\Data\\Resized\\06.배회(wander)\\inside_croki_02\\263-3\\263-3_cam01_wander03_place02_day_summer_resized.mp4\n",
      "Copying G:\\내 드라이브\\Project\\RGBLab\\ABB\\Data\\06.배회(wander)\\inside_croki_02\\263-3\\263-3_cam02_wander03_place02_day_winter_resized.mp4 to G:\\내 드라이브\\Project\\RGBLab\\ABB\\Data\\Resized\\06.배회(wander)\\inside_croki_02\\263-3\\263-3_cam02_wander03_place02_day_winter_resized.mp4\n",
      "Copying G:\\내 드라이브\\Project\\RGBLab\\ABB\\Data\\06.배회(wander)\\inside_croki_02\\263-3\\263-3_cam02_wander03_place02_day_spring_resized.mp4 to G:\\내 드라이브\\Project\\RGBLab\\ABB\\Data\\Resized\\06.배회(wander)\\inside_croki_02\\263-3\\263-3_cam02_wander03_place02_day_spring_resized.mp4\n",
      "Copying G:\\내 드라이브\\Project\\RGBLab\\ABB\\Data\\06.배회(wander)\\inside_croki_02\\263-3\\263-3_cam01_wander03_place02_day_winter_resized.mp4 to G:\\내 드라이브\\Project\\RGBLab\\ABB\\Data\\Resized\\06.배회(wander)\\inside_croki_02\\263-3\\263-3_cam01_wander03_place02_day_winter_resized.mp4\n"
     ]
    },
    {
     "name": "stderr",
     "output_type": "stream",
     "text": [
      "Copying files: 1408it [08:30,  1.17it/s]"
     ]
    },
    {
     "name": "stdout",
     "output_type": "stream",
     "text": [
      "Copying G:\\내 드라이브\\Project\\RGBLab\\ABB\\Data\\06.배회(wander)\\inside_croki_02\\263-3\\263-3_cam03_wander03_place02_day_summer_resized.mp4 to G:\\내 드라이브\\Project\\RGBLab\\ABB\\Data\\Resized\\06.배회(wander)\\inside_croki_02\\263-3\\263-3_cam03_wander03_place02_day_summer_resized.mp4\n",
      "Copying G:\\내 드라이브\\Project\\RGBLab\\ABB\\Data\\06.배회(wander)\\inside_croki_02\\263-4\\263-4_cam03_wander03_place02_day_spring_resized.mp4 to G:\\내 드라이브\\Project\\RGBLab\\ABB\\Data\\Resized\\06.배회(wander)\\inside_croki_02\\263-4\\263-4_cam03_wander03_place02_day_spring_resized.mp4\n"
     ]
    },
    {
     "name": "stderr",
     "output_type": "stream",
     "text": [
      "Copying files: 1410it [08:32,  1.17it/s]"
     ]
    },
    {
     "name": "stdout",
     "output_type": "stream",
     "text": [
      "Copying G:\\내 드라이브\\Project\\RGBLab\\ABB\\Data\\06.배회(wander)\\inside_croki_02\\263-4\\263-4_cam03_wander03_place02_day_summer_resized.mp4 to G:\\내 드라이브\\Project\\RGBLab\\ABB\\Data\\Resized\\06.배회(wander)\\inside_croki_02\\263-4\\263-4_cam03_wander03_place02_day_summer_resized.mp4\n"
     ]
    },
    {
     "name": "stderr",
     "output_type": "stream",
     "text": [
      "Copying files: 1411it [08:33,  1.18it/s]"
     ]
    },
    {
     "name": "stdout",
     "output_type": "stream",
     "text": [
      "Copying G:\\내 드라이브\\Project\\RGBLab\\ABB\\Data\\06.배회(wander)\\inside_croki_02\\263-4\\263-4_cam02_wander03_place02_day_summer_resized.mp4 to G:\\내 드라이브\\Project\\RGBLab\\ABB\\Data\\Resized\\06.배회(wander)\\inside_croki_02\\263-4\\263-4_cam02_wander03_place02_day_summer_resized.mp4\n",
      "Copying G:\\내 드라이브\\Project\\RGBLab\\ABB\\Data\\06.배회(wander)\\inside_croki_02\\263-4\\263-4_cam01_wander03_place02_day_spring_resized.mp4 to G:\\내 드라이브\\Project\\RGBLab\\ABB\\Data\\Resized\\06.배회(wander)\\inside_croki_02\\263-4\\263-4_cam01_wander03_place02_day_spring_resized.mp4\n"
     ]
    },
    {
     "name": "stderr",
     "output_type": "stream",
     "text": [
      "Copying files: 1413it [08:35,  1.02s/it]"
     ]
    },
    {
     "name": "stdout",
     "output_type": "stream",
     "text": [
      "Copying G:\\내 드라이브\\Project\\RGBLab\\ABB\\Data\\06.배회(wander)\\inside_croki_02\\263-4\\263-4_cam01_wander03_place02_day_summer_resized.mp4 to G:\\내 드라이브\\Project\\RGBLab\\ABB\\Data\\Resized\\06.배회(wander)\\inside_croki_02\\263-4\\263-4_cam01_wander03_place02_day_summer_resized.mp4\n"
     ]
    },
    {
     "name": "stderr",
     "output_type": "stream",
     "text": [
      "Copying files: 1414it [08:36,  1.02it/s]"
     ]
    },
    {
     "name": "stdout",
     "output_type": "stream",
     "text": [
      "Copying G:\\내 드라이브\\Project\\RGBLab\\ABB\\Data\\06.배회(wander)\\inside_croki_02\\263-4\\263-4_cam03_wander03_place02_day_winter_resized.mp4 to G:\\내 드라이브\\Project\\RGBLab\\ABB\\Data\\Resized\\06.배회(wander)\\inside_croki_02\\263-4\\263-4_cam03_wander03_place02_day_winter_resized.mp4\n"
     ]
    },
    {
     "name": "stderr",
     "output_type": "stream",
     "text": [
      "Copying files: 1415it [08:37,  1.06it/s]"
     ]
    },
    {
     "name": "stdout",
     "output_type": "stream",
     "text": [
      "Copying G:\\내 드라이브\\Project\\RGBLab\\ABB\\Data\\06.배회(wander)\\inside_croki_02\\263-4\\263-4_cam02_wander03_place02_day_spring_resized.mp4 to G:\\내 드라이브\\Project\\RGBLab\\ABB\\Data\\Resized\\06.배회(wander)\\inside_croki_02\\263-4\\263-4_cam02_wander03_place02_day_spring_resized.mp4\n",
      "Copying G:\\내 드라이브\\Project\\RGBLab\\ABB\\Data\\06.배회(wander)\\inside_croki_02\\263-4\\263-4_cam02_wander03_place02_day_winter_resized.mp4 to G:\\내 드라이브\\Project\\RGBLab\\ABB\\Data\\Resized\\06.배회(wander)\\inside_croki_02\\263-4\\263-4_cam02_wander03_place02_day_winter_resized.mp4\n",
      "Copying G:\\내 드라이브\\Project\\RGBLab\\ABB\\Data\\06.배회(wander)\\inside_croki_02\\263-4\\263-4_cam01_wander03_place02_day_winter_resized.mp4 to G:\\내 드라이브\\Project\\RGBLab\\ABB\\Data\\Resized\\06.배회(wander)\\inside_croki_02\\263-4\\263-4_cam01_wander03_place02_day_winter_resized.mp4\n"
     ]
    },
    {
     "name": "stderr",
     "output_type": "stream",
     "text": [
      "Copying files: 1418it [08:38,  1.58it/s]"
     ]
    },
    {
     "name": "stdout",
     "output_type": "stream",
     "text": [
      "Copying G:\\내 드라이브\\Project\\RGBLab\\ABB\\Data\\06.배회(wander)\\inside_croki_02\\263-5\\263-5_cam02_wander03_place02_day_winter_resized.mp4 to G:\\내 드라이브\\Project\\RGBLab\\ABB\\Data\\Resized\\06.배회(wander)\\inside_croki_02\\263-5\\263-5_cam02_wander03_place02_day_winter_resized.mp4\n"
     ]
    },
    {
     "name": "stderr",
     "output_type": "stream",
     "text": [
      "Copying files: 1419it [08:40,  1.14it/s]"
     ]
    },
    {
     "name": "stdout",
     "output_type": "stream",
     "text": [
      "Copying G:\\내 드라이브\\Project\\RGBLab\\ABB\\Data\\06.배회(wander)\\inside_croki_02\\263-5\\263-5_cam03_wander03_place02_day_summer_resized.mp4 to G:\\내 드라이브\\Project\\RGBLab\\ABB\\Data\\Resized\\06.배회(wander)\\inside_croki_02\\263-5\\263-5_cam03_wander03_place02_day_summer_resized.mp4\n"
     ]
    },
    {
     "name": "stderr",
     "output_type": "stream",
     "text": [
      "Copying files: 1420it [08:41,  1.02it/s]"
     ]
    },
    {
     "name": "stdout",
     "output_type": "stream",
     "text": [
      "Copying G:\\내 드라이브\\Project\\RGBLab\\ABB\\Data\\06.배회(wander)\\inside_croki_02\\263-5\\263-5_cam01_wander03_place02_day_spring_resized.mp4 to G:\\내 드라이브\\Project\\RGBLab\\ABB\\Data\\Resized\\06.배회(wander)\\inside_croki_02\\263-5\\263-5_cam01_wander03_place02_day_spring_resized.mp4\n",
      "Copying G:\\내 드라이브\\Project\\RGBLab\\ABB\\Data\\06.배회(wander)\\inside_croki_02\\263-5\\263-5_cam03_wander03_place02_day_spring_resized.mp4 to G:\\내 드라이브\\Project\\RGBLab\\ABB\\Data\\Resized\\06.배회(wander)\\inside_croki_02\\263-5\\263-5_cam03_wander03_place02_day_spring_resized.mp4\n"
     ]
    },
    {
     "name": "stderr",
     "output_type": "stream",
     "text": [
      "Copying files: 1422it [08:42,  1.27it/s]"
     ]
    },
    {
     "name": "stdout",
     "output_type": "stream",
     "text": [
      "Copying G:\\내 드라이브\\Project\\RGBLab\\ABB\\Data\\06.배회(wander)\\inside_croki_02\\263-5\\263-5_cam02_wander03_place02_day_spring_resized.mp4 to G:\\내 드라이브\\Project\\RGBLab\\ABB\\Data\\Resized\\06.배회(wander)\\inside_croki_02\\263-5\\263-5_cam02_wander03_place02_day_spring_resized.mp4\n"
     ]
    },
    {
     "name": "stderr",
     "output_type": "stream",
     "text": [
      "Copying files: 1423it [08:43,  1.20it/s]"
     ]
    },
    {
     "name": "stdout",
     "output_type": "stream",
     "text": [
      "Copying G:\\내 드라이브\\Project\\RGBLab\\ABB\\Data\\06.배회(wander)\\inside_croki_02\\263-5\\263-5_cam03_wander03_place02_day_winter_resized.mp4 to G:\\내 드라이브\\Project\\RGBLab\\ABB\\Data\\Resized\\06.배회(wander)\\inside_croki_02\\263-5\\263-5_cam03_wander03_place02_day_winter_resized.mp4\n"
     ]
    },
    {
     "name": "stderr",
     "output_type": "stream",
     "text": [
      "Copying files: 1424it [08:44,  1.18it/s]"
     ]
    },
    {
     "name": "stdout",
     "output_type": "stream",
     "text": [
      "Copying G:\\내 드라이브\\Project\\RGBLab\\ABB\\Data\\06.배회(wander)\\inside_croki_02\\263-5\\263-5_cam01_wander03_place02_day_summer_resized.mp4 to G:\\내 드라이브\\Project\\RGBLab\\ABB\\Data\\Resized\\06.배회(wander)\\inside_croki_02\\263-5\\263-5_cam01_wander03_place02_day_summer_resized.mp4\n"
     ]
    },
    {
     "name": "stderr",
     "output_type": "stream",
     "text": [
      "Copying files: 1425it [08:45,  1.14it/s]"
     ]
    },
    {
     "name": "stdout",
     "output_type": "stream",
     "text": [
      "Copying G:\\내 드라이브\\Project\\RGBLab\\ABB\\Data\\06.배회(wander)\\inside_croki_02\\263-5\\263-5_cam01_wander03_place02_day_winter_resized.mp4 to G:\\내 드라이브\\Project\\RGBLab\\ABB\\Data\\Resized\\06.배회(wander)\\inside_croki_02\\263-5\\263-5_cam01_wander03_place02_day_winter_resized.mp4\n"
     ]
    },
    {
     "name": "stderr",
     "output_type": "stream",
     "text": [
      "Copying files: 1426it [08:47,  1.12s/it]"
     ]
    },
    {
     "name": "stdout",
     "output_type": "stream",
     "text": [
      "Copying G:\\내 드라이브\\Project\\RGBLab\\ABB\\Data\\06.배회(wander)\\inside_croki_02\\263-5\\263-5_cam02_wander03_place02_day_summer_resized.mp4 to G:\\내 드라이브\\Project\\RGBLab\\ABB\\Data\\Resized\\06.배회(wander)\\inside_croki_02\\263-5\\263-5_cam02_wander03_place02_day_summer_resized.mp4\n"
     ]
    },
    {
     "name": "stderr",
     "output_type": "stream",
     "text": [
      "Copying files: 1427it [08:48,  1.05s/it]"
     ]
    },
    {
     "name": "stdout",
     "output_type": "stream",
     "text": [
      "Copying G:\\내 드라이브\\Project\\RGBLab\\ABB\\Data\\06.배회(wander)\\inside_croki_02\\263-6\\263-6_cam01_wander03_place02_day_winter_resized.mp4 to G:\\내 드라이브\\Project\\RGBLab\\ABB\\Data\\Resized\\06.배회(wander)\\inside_croki_02\\263-6\\263-6_cam01_wander03_place02_day_winter_resized.mp4\n",
      "Copying G:\\내 드라이브\\Project\\RGBLab\\ABB\\Data\\06.배회(wander)\\inside_croki_02\\263-6\\263-6_cam01_wander03_place02_day_summer_resized.mp4 to G:\\내 드라이브\\Project\\RGBLab\\ABB\\Data\\Resized\\06.배회(wander)\\inside_croki_02\\263-6\\263-6_cam01_wander03_place02_day_summer_resized.mp4\n",
      "Copying G:\\내 드라이브\\Project\\RGBLab\\ABB\\Data\\06.배회(wander)\\inside_croki_02\\263-6\\263-6_cam03_wander03_place02_day_summer_resized.mp4 to G:\\내 드라이브\\Project\\RGBLab\\ABB\\Data\\Resized\\06.배회(wander)\\inside_croki_02\\263-6\\263-6_cam03_wander03_place02_day_summer_resized.mp4\n"
     ]
    },
    {
     "name": "stderr",
     "output_type": "stream",
     "text": [
      "Copying files: 1430it [08:48,  1.55it/s]"
     ]
    },
    {
     "name": "stdout",
     "output_type": "stream",
     "text": [
      "Copying G:\\내 드라이브\\Project\\RGBLab\\ABB\\Data\\06.배회(wander)\\inside_croki_02\\263-6\\263-6_cam02_wander03_place02_day_summer_resized.mp4 to G:\\내 드라이브\\Project\\RGBLab\\ABB\\Data\\Resized\\06.배회(wander)\\inside_croki_02\\263-6\\263-6_cam02_wander03_place02_day_summer_resized.mp4\n"
     ]
    },
    {
     "name": "stderr",
     "output_type": "stream",
     "text": [
      "Copying files: 1431it [08:50,  1.13it/s]"
     ]
    },
    {
     "name": "stdout",
     "output_type": "stream",
     "text": [
      "Copying G:\\내 드라이브\\Project\\RGBLab\\ABB\\Data\\06.배회(wander)\\inside_croki_02\\263-6\\263-6_cam02_wander03_place02_day_winter_resized.mp4 to G:\\내 드라이브\\Project\\RGBLab\\ABB\\Data\\Resized\\06.배회(wander)\\inside_croki_02\\263-6\\263-6_cam02_wander03_place02_day_winter_resized.mp4\n"
     ]
    },
    {
     "name": "stderr",
     "output_type": "stream",
     "text": [
      "Copying files: 1432it [08:52,  1.12s/it]"
     ]
    },
    {
     "name": "stdout",
     "output_type": "stream",
     "text": [
      "Copying G:\\내 드라이브\\Project\\RGBLab\\ABB\\Data\\06.배회(wander)\\inside_croki_02\\263-6\\263-6_cam03_wander03_place02_day_winter_resized.mp4 to G:\\내 드라이브\\Project\\RGBLab\\ABB\\Data\\Resized\\06.배회(wander)\\inside_croki_02\\263-6\\263-6_cam03_wander03_place02_day_winter_resized.mp4\n",
      "Copying G:\\내 드라이브\\Project\\RGBLab\\ABB\\Data\\06.배회(wander)\\inside_croki_02\\263-6\\263-6_cam03_wander03_place02_day_spring_resized.mp4 to G:\\내 드라이브\\Project\\RGBLab\\ABB\\Data\\Resized\\06.배회(wander)\\inside_croki_02\\263-6\\263-6_cam03_wander03_place02_day_spring_resized.mp4\n"
     ]
    },
    {
     "name": "stderr",
     "output_type": "stream",
     "text": [
      "Copying files: 1434it [08:53,  1.10it/s]"
     ]
    },
    {
     "name": "stdout",
     "output_type": "stream",
     "text": [
      "Copying G:\\내 드라이브\\Project\\RGBLab\\ABB\\Data\\06.배회(wander)\\inside_croki_02\\263-6\\263-6_cam01_wander03_place02_day_spring_resized.mp4 to G:\\내 드라이브\\Project\\RGBLab\\ABB\\Data\\Resized\\06.배회(wander)\\inside_croki_02\\263-6\\263-6_cam01_wander03_place02_day_spring_resized.mp4\n"
     ]
    },
    {
     "name": "stderr",
     "output_type": "stream",
     "text": [
      "Copying files: 1435it [08:54,  1.10it/s]"
     ]
    },
    {
     "name": "stdout",
     "output_type": "stream",
     "text": [
      "Copying G:\\내 드라이브\\Project\\RGBLab\\ABB\\Data\\06.배회(wander)\\inside_croki_02\\263-6\\263-6_cam02_wander03_place02_day_spring_resized.mp4 to G:\\내 드라이브\\Project\\RGBLab\\ABB\\Data\\Resized\\06.배회(wander)\\inside_croki_02\\263-6\\263-6_cam02_wander03_place02_day_spring_resized.mp4\n"
     ]
    },
    {
     "name": "stderr",
     "output_type": "stream",
     "text": [
      "Copying files: 1436it [08:56,  1.04s/it]"
     ]
    },
    {
     "name": "stdout",
     "output_type": "stream",
     "text": [
      "Copying G:\\내 드라이브\\Project\\RGBLab\\ABB\\Data\\06.배회(wander)\\insidedoor_01\\254-1_wander01_place09_day\\254-1_cam03_wander01_place09_day_summer_resized.mp4 to G:\\내 드라이브\\Project\\RGBLab\\ABB\\Data\\Resized\\06.배회(wander)\\insidedoor_01\\254-1_wander01_place09_day\\254-1_cam03_wander01_place09_day_summer_resized.mp4\n"
     ]
    },
    {
     "name": "stderr",
     "output_type": "stream",
     "text": [
      "Copying files: 1437it [08:57,  1.00it/s]"
     ]
    },
    {
     "name": "stdout",
     "output_type": "stream",
     "text": [
      "Copying G:\\내 드라이브\\Project\\RGBLab\\ABB\\Data\\06.배회(wander)\\insidedoor_01\\254-1_wander01_place09_day\\254-1_cam01_wander01_place09_day_winter_resized.mp4 to G:\\내 드라이브\\Project\\RGBLab\\ABB\\Data\\Resized\\06.배회(wander)\\insidedoor_01\\254-1_wander01_place09_day\\254-1_cam01_wander01_place09_day_winter_resized.mp4\n"
     ]
    },
    {
     "name": "stderr",
     "output_type": "stream",
     "text": [
      "Copying files: 1438it [08:59,  1.36s/it]"
     ]
    },
    {
     "name": "stdout",
     "output_type": "stream",
     "text": [
      "Copying G:\\내 드라이브\\Project\\RGBLab\\ABB\\Data\\06.배회(wander)\\insidedoor_01\\254-1_wander01_place09_day\\254-1_cam02_wander01_place09_day_spring_resized.mp4 to G:\\내 드라이브\\Project\\RGBLab\\ABB\\Data\\Resized\\06.배회(wander)\\insidedoor_01\\254-1_wander01_place09_day\\254-1_cam02_wander01_place09_day_spring_resized.mp4\n"
     ]
    },
    {
     "name": "stderr",
     "output_type": "stream",
     "text": [
      "Copying files: 1439it [09:00,  1.27s/it]"
     ]
    },
    {
     "name": "stdout",
     "output_type": "stream",
     "text": [
      "Copying G:\\내 드라이브\\Project\\RGBLab\\ABB\\Data\\06.배회(wander)\\insidedoor_01\\254-1_wander01_place09_day\\254-1_cam03_wander01_place09_day_spring_resized.mp4 to G:\\내 드라이브\\Project\\RGBLab\\ABB\\Data\\Resized\\06.배회(wander)\\insidedoor_01\\254-1_wander01_place09_day\\254-1_cam03_wander01_place09_day_spring_resized.mp4\n"
     ]
    },
    {
     "name": "stderr",
     "output_type": "stream",
     "text": [
      "Copying files: 1440it [09:02,  1.48s/it]"
     ]
    },
    {
     "name": "stdout",
     "output_type": "stream",
     "text": [
      "Copying G:\\내 드라이브\\Project\\RGBLab\\ABB\\Data\\06.배회(wander)\\insidedoor_01\\254-1_wander01_place09_day\\254-1_cam02_wander01_place09_day_summer_resized.mp4 to G:\\내 드라이브\\Project\\RGBLab\\ABB\\Data\\Resized\\06.배회(wander)\\insidedoor_01\\254-1_wander01_place09_day\\254-1_cam02_wander01_place09_day_summer_resized.mp4\n"
     ]
    },
    {
     "name": "stderr",
     "output_type": "stream",
     "text": [
      "Copying files: 1441it [09:03,  1.38s/it]"
     ]
    },
    {
     "name": "stdout",
     "output_type": "stream",
     "text": [
      "Copying G:\\내 드라이브\\Project\\RGBLab\\ABB\\Data\\06.배회(wander)\\insidedoor_01\\254-1_wander01_place09_day\\254-1_cam02_wander01_place09_day_winter_resized.mp4 to G:\\내 드라이브\\Project\\RGBLab\\ABB\\Data\\Resized\\06.배회(wander)\\insidedoor_01\\254-1_wander01_place09_day\\254-1_cam02_wander01_place09_day_winter_resized.mp4\n"
     ]
    },
    {
     "name": "stderr",
     "output_type": "stream",
     "text": [
      "Copying files: 1442it [09:04,  1.31s/it]"
     ]
    },
    {
     "name": "stdout",
     "output_type": "stream",
     "text": [
      "Copying G:\\내 드라이브\\Project\\RGBLab\\ABB\\Data\\06.배회(wander)\\insidedoor_01\\254-1_wander01_place09_day\\254-1_cam01_wander01_place09_day_summer_resized.mp4 to G:\\내 드라이브\\Project\\RGBLab\\ABB\\Data\\Resized\\06.배회(wander)\\insidedoor_01\\254-1_wander01_place09_day\\254-1_cam01_wander01_place09_day_summer_resized.mp4\n"
     ]
    },
    {
     "name": "stderr",
     "output_type": "stream",
     "text": [
      "Copying files: 1443it [09:07,  1.61s/it]"
     ]
    },
    {
     "name": "stdout",
     "output_type": "stream",
     "text": [
      "Copying G:\\내 드라이브\\Project\\RGBLab\\ABB\\Data\\06.배회(wander)\\insidedoor_01\\254-1_wander01_place09_day\\254-1_cam01_wander01_place09_day_spring_resized.mp4 to G:\\내 드라이브\\Project\\RGBLab\\ABB\\Data\\Resized\\06.배회(wander)\\insidedoor_01\\254-1_wander01_place09_day\\254-1_cam01_wander01_place09_day_spring_resized.mp4\n",
      "Copying G:\\내 드라이브\\Project\\RGBLab\\ABB\\Data\\06.배회(wander)\\insidedoor_01\\254-1_wander01_place09_day\\254-1_cam03_wander01_place09_day_winter_resized.mp4 to G:\\내 드라이브\\Project\\RGBLab\\ABB\\Data\\Resized\\06.배회(wander)\\insidedoor_01\\254-1_wander01_place09_day\\254-1_cam03_wander01_place09_day_winter_resized.mp4\n"
     ]
    },
    {
     "name": "stderr",
     "output_type": "stream",
     "text": [
      "Copying files: 1445it [09:08,  1.11s/it]"
     ]
    },
    {
     "name": "stdout",
     "output_type": "stream",
     "text": [
      "Copying G:\\내 드라이브\\Project\\RGBLab\\ABB\\Data\\06.배회(wander)\\insidedoor_01\\144-1\\144-1_cam02_wander03_place01_night_winter_resized.mp4 to G:\\내 드라이브\\Project\\RGBLab\\ABB\\Data\\Resized\\06.배회(wander)\\insidedoor_01\\144-1\\144-1_cam02_wander03_place01_night_winter_resized.mp4\n"
     ]
    },
    {
     "name": "stderr",
     "output_type": "stream",
     "text": [
      "Copying files: 1446it [09:09,  1.09s/it]"
     ]
    },
    {
     "name": "stdout",
     "output_type": "stream",
     "text": [
      "Copying G:\\내 드라이브\\Project\\RGBLab\\ABB\\Data\\06.배회(wander)\\insidedoor_01\\144-1\\144-1_cam03_wander03_place01_night_spring_resized.mp4 to G:\\내 드라이브\\Project\\RGBLab\\ABB\\Data\\Resized\\06.배회(wander)\\insidedoor_01\\144-1\\144-1_cam03_wander03_place01_night_spring_resized.mp4\n"
     ]
    },
    {
     "name": "stderr",
     "output_type": "stream",
     "text": [
      "Copying files: 1447it [09:10,  1.09s/it]"
     ]
    },
    {
     "name": "stdout",
     "output_type": "stream",
     "text": [
      "Copying G:\\내 드라이브\\Project\\RGBLab\\ABB\\Data\\06.배회(wander)\\insidedoor_01\\144-1\\144-1_cam03_wander03_place01_night_summer_resized.mp4 to G:\\내 드라이브\\Project\\RGBLab\\ABB\\Data\\Resized\\06.배회(wander)\\insidedoor_01\\144-1\\144-1_cam03_wander03_place01_night_summer_resized.mp4\n",
      "Copying G:\\내 드라이브\\Project\\RGBLab\\ABB\\Data\\06.배회(wander)\\insidedoor_01\\144-1\\144-1_cam03_wander03_place01_night_winter_resized.mp4 to G:\\내 드라이브\\Project\\RGBLab\\ABB\\Data\\Resized\\06.배회(wander)\\insidedoor_01\\144-1\\144-1_cam03_wander03_place01_night_winter_resized.mp4\n"
     ]
    },
    {
     "name": "stderr",
     "output_type": "stream",
     "text": [
      "Copying files: 1449it [09:12,  1.11s/it]"
     ]
    },
    {
     "name": "stdout",
     "output_type": "stream",
     "text": [
      "Copying G:\\내 드라이브\\Project\\RGBLab\\ABB\\Data\\06.배회(wander)\\insidedoor_01\\144-1\\144-1_cam01_wander03_place01_night_spring_resized.mp4 to G:\\내 드라이브\\Project\\RGBLab\\ABB\\Data\\Resized\\06.배회(wander)\\insidedoor_01\\144-1\\144-1_cam01_wander03_place01_night_spring_resized.mp4\n",
      "Copying G:\\내 드라이브\\Project\\RGBLab\\ABB\\Data\\06.배회(wander)\\insidedoor_01\\144-1\\144-1_cam01_wander03_place01_night_winter_resized.mp4 to G:\\내 드라이브\\Project\\RGBLab\\ABB\\Data\\Resized\\06.배회(wander)\\insidedoor_01\\144-1\\144-1_cam01_wander03_place01_night_winter_resized.mp4\n"
     ]
    },
    {
     "name": "stderr",
     "output_type": "stream",
     "text": [
      "Copying files: 1451it [09:13,  1.13it/s]"
     ]
    },
    {
     "name": "stdout",
     "output_type": "stream",
     "text": [
      "Copying G:\\내 드라이브\\Project\\RGBLab\\ABB\\Data\\06.배회(wander)\\insidedoor_01\\144-1\\144-1_cam01_wander03_place01_night_summer_resized.mp4 to G:\\내 드라이브\\Project\\RGBLab\\ABB\\Data\\Resized\\06.배회(wander)\\insidedoor_01\\144-1\\144-1_cam01_wander03_place01_night_summer_resized.mp4\n"
     ]
    },
    {
     "name": "stderr",
     "output_type": "stream",
     "text": [
      "Copying files: 1454it [09:14,  1.73it/s]"
     ]
    },
    {
     "name": "stdout",
     "output_type": "stream",
     "text": [
      "Copying G:\\내 드라이브\\Project\\RGBLab\\ABB\\Data\\06.배회(wander)\\insidedoor_01\\144-1\\144-1_cam02_wander03_place01_night_spring_resized.mp4 to G:\\내 드라이브\\Project\\RGBLab\\ABB\\Data\\Resized\\06.배회(wander)\\insidedoor_01\\144-1\\144-1_cam02_wander03_place01_night_spring_resized.mp4\n",
      "Copying G:\\내 드라이브\\Project\\RGBLab\\ABB\\Data\\06.배회(wander)\\insidedoor_01\\144-2\\144-2_cam02_wander03_place01_night_winter_resized.mp4 to G:\\내 드라이브\\Project\\RGBLab\\ABB\\Data\\Resized\\06.배회(wander)\\insidedoor_01\\144-2\\144-2_cam02_wander03_place01_night_winter_resized.mp4\n",
      "Copying G:\\내 드라이브\\Project\\RGBLab\\ABB\\Data\\06.배회(wander)\\insidedoor_01\\144-2\\144-2_cam03_wander03_place01_night_summer_resized.mp4 to G:\\내 드라이브\\Project\\RGBLab\\ABB\\Data\\Resized\\06.배회(wander)\\insidedoor_01\\144-2\\144-2_cam03_wander03_place01_night_summer_resized.mp4\n"
     ]
    },
    {
     "name": "stderr",
     "output_type": "stream",
     "text": [
      "Copying files: 1455it [09:16,  1.11it/s]"
     ]
    },
    {
     "name": "stdout",
     "output_type": "stream",
     "text": [
      "Copying G:\\내 드라이브\\Project\\RGBLab\\ABB\\Data\\06.배회(wander)\\insidedoor_01\\144-2\\144-2_cam03_wander03_place01_night_winter_resized.mp4 to G:\\내 드라이브\\Project\\RGBLab\\ABB\\Data\\Resized\\06.배회(wander)\\insidedoor_01\\144-2\\144-2_cam03_wander03_place01_night_winter_resized.mp4\n"
     ]
    },
    {
     "name": "stderr",
     "output_type": "stream",
     "text": [
      "Copying files: 1456it [09:18,  1.13s/it]"
     ]
    },
    {
     "name": "stdout",
     "output_type": "stream",
     "text": [
      "Copying G:\\내 드라이브\\Project\\RGBLab\\ABB\\Data\\06.배회(wander)\\insidedoor_01\\144-2\\144-2_cam03_wander03_place01_night_spring_resized.mp4 to G:\\내 드라이브\\Project\\RGBLab\\ABB\\Data\\Resized\\06.배회(wander)\\insidedoor_01\\144-2\\144-2_cam03_wander03_place01_night_spring_resized.mp4\n"
     ]
    },
    {
     "name": "stderr",
     "output_type": "stream",
     "text": [
      "Copying files: 1457it [09:19,  1.17s/it]"
     ]
    },
    {
     "name": "stdout",
     "output_type": "stream",
     "text": [
      "Copying G:\\내 드라이브\\Project\\RGBLab\\ABB\\Data\\06.배회(wander)\\insidedoor_01\\144-2\\144-2_cam01_wander03_place01_night_winter_resized.mp4 to G:\\내 드라이브\\Project\\RGBLab\\ABB\\Data\\Resized\\06.배회(wander)\\insidedoor_01\\144-2\\144-2_cam01_wander03_place01_night_winter_resized.mp4\n"
     ]
    },
    {
     "name": "stderr",
     "output_type": "stream",
     "text": [
      "Copying files: 1458it [09:20,  1.13s/it]"
     ]
    },
    {
     "name": "stdout",
     "output_type": "stream",
     "text": [
      "Copying G:\\내 드라이브\\Project\\RGBLab\\ABB\\Data\\06.배회(wander)\\insidedoor_01\\144-2\\144-2_cam02_wander03_place01_night_spring_resized.mp4 to G:\\내 드라이브\\Project\\RGBLab\\ABB\\Data\\Resized\\06.배회(wander)\\insidedoor_01\\144-2\\144-2_cam02_wander03_place01_night_spring_resized.mp4\n"
     ]
    },
    {
     "name": "stderr",
     "output_type": "stream",
     "text": [
      "Copying files: 1459it [09:22,  1.17s/it]"
     ]
    },
    {
     "name": "stdout",
     "output_type": "stream",
     "text": [
      "Copying G:\\내 드라이브\\Project\\RGBLab\\ABB\\Data\\06.배회(wander)\\insidedoor_01\\144-2\\144-2_cam01_wander03_place01_night_summer_resized.mp4 to G:\\내 드라이브\\Project\\RGBLab\\ABB\\Data\\Resized\\06.배회(wander)\\insidedoor_01\\144-2\\144-2_cam01_wander03_place01_night_summer_resized.mp4\n",
      "Copying G:\\내 드라이브\\Project\\RGBLab\\ABB\\Data\\06.배회(wander)\\insidedoor_01\\144-2\\144-2_cam01_wander03_place01_night_spring_resized.mp4 to G:\\내 드라이브\\Project\\RGBLab\\ABB\\Data\\Resized\\06.배회(wander)\\insidedoor_01\\144-2\\144-2_cam01_wander03_place01_night_spring_resized.mp4\n"
     ]
    },
    {
     "name": "stderr",
     "output_type": "stream",
     "text": [
      "Copying files: 1461it [09:25,  1.46s/it]"
     ]
    },
    {
     "name": "stdout",
     "output_type": "stream",
     "text": [
      "Copying G:\\내 드라이브\\Project\\RGBLab\\ABB\\Data\\06.배회(wander)\\insidedoor_01\\144-2\\144-2_cam02_wander03_place01_night_summer_resized.mp4 to G:\\내 드라이브\\Project\\RGBLab\\ABB\\Data\\Resized\\06.배회(wander)\\insidedoor_01\\144-2\\144-2_cam02_wander03_place01_night_summer_resized.mp4\n"
     ]
    },
    {
     "name": "stderr",
     "output_type": "stream",
     "text": [
      "Copying files: 1462it [09:27,  1.42s/it]"
     ]
    },
    {
     "name": "stdout",
     "output_type": "stream",
     "text": [
      "Copying G:\\내 드라이브\\Project\\RGBLab\\ABB\\Data\\06.배회(wander)\\insidedoor_01\\144-3\\144-3_cam02_wander03_place01_night_summer_resized.mp4 to G:\\내 드라이브\\Project\\RGBLab\\ABB\\Data\\Resized\\06.배회(wander)\\insidedoor_01\\144-3\\144-3_cam02_wander03_place01_night_summer_resized.mp4\n"
     ]
    },
    {
     "name": "stderr",
     "output_type": "stream",
     "text": [
      "Copying files: 1463it [09:29,  1.72s/it]"
     ]
    },
    {
     "name": "stdout",
     "output_type": "stream",
     "text": [
      "Copying G:\\내 드라이브\\Project\\RGBLab\\ABB\\Data\\06.배회(wander)\\insidedoor_01\\144-3\\144-3_cam02_wander03_place01_night_winter_resized.mp4 to G:\\내 드라이브\\Project\\RGBLab\\ABB\\Data\\Resized\\06.배회(wander)\\insidedoor_01\\144-3\\144-3_cam02_wander03_place01_night_winter_resized.mp4\n",
      "Copying G:\\내 드라이브\\Project\\RGBLab\\ABB\\Data\\06.배회(wander)\\insidedoor_01\\144-3\\144-3_cam03_wander03_place01_night_spring_resized.mp4 to G:\\내 드라이브\\Project\\RGBLab\\ABB\\Data\\Resized\\06.배회(wander)\\insidedoor_01\\144-3\\144-3_cam03_wander03_place01_night_spring_resized.mp4\n"
     ]
    },
    {
     "name": "stderr",
     "output_type": "stream",
     "text": [
      "Copying files: 1465it [09:30,  1.22s/it]"
     ]
    },
    {
     "name": "stdout",
     "output_type": "stream",
     "text": [
      "Copying G:\\내 드라이브\\Project\\RGBLab\\ABB\\Data\\06.배회(wander)\\insidedoor_01\\144-3\\144-3_cam03_wander03_place01_night_winter_resized.mp4 to G:\\내 드라이브\\Project\\RGBLab\\ABB\\Data\\Resized\\06.배회(wander)\\insidedoor_01\\144-3\\144-3_cam03_wander03_place01_night_winter_resized.mp4\n"
     ]
    },
    {
     "name": "stderr",
     "output_type": "stream",
     "text": [
      "Copying files: 1466it [09:32,  1.26s/it]"
     ]
    },
    {
     "name": "stdout",
     "output_type": "stream",
     "text": [
      "Copying G:\\내 드라이브\\Project\\RGBLab\\ABB\\Data\\06.배회(wander)\\insidedoor_01\\144-3\\144-3_cam03_wander03_place01_night_summer_resized.mp4 to G:\\내 드라이브\\Project\\RGBLab\\ABB\\Data\\Resized\\06.배회(wander)\\insidedoor_01\\144-3\\144-3_cam03_wander03_place01_night_summer_resized.mp4\n",
      "Copying G:\\내 드라이브\\Project\\RGBLab\\ABB\\Data\\06.배회(wander)\\insidedoor_01\\144-3\\144-3_cam01_wander03_place01_night_winter_resized.mp4 to G:\\내 드라이브\\Project\\RGBLab\\ABB\\Data\\Resized\\06.배회(wander)\\insidedoor_01\\144-3\\144-3_cam01_wander03_place01_night_winter_resized.mp4\n"
     ]
    },
    {
     "name": "stderr",
     "output_type": "stream",
     "text": [
      "Copying files: 1468it [09:34,  1.19s/it]"
     ]
    },
    {
     "name": "stdout",
     "output_type": "stream",
     "text": [
      "Copying G:\\내 드라이브\\Project\\RGBLab\\ABB\\Data\\06.배회(wander)\\insidedoor_01\\144-3\\144-3_cam01_wander03_place01_night_summer_resized.mp4 to G:\\내 드라이브\\Project\\RGBLab\\ABB\\Data\\Resized\\06.배회(wander)\\insidedoor_01\\144-3\\144-3_cam01_wander03_place01_night_summer_resized.mp4\n"
     ]
    },
    {
     "name": "stderr",
     "output_type": "stream",
     "text": [
      "Copying files: 1469it [09:36,  1.38s/it]"
     ]
    },
    {
     "name": "stdout",
     "output_type": "stream",
     "text": [
      "Copying G:\\내 드라이브\\Project\\RGBLab\\ABB\\Data\\06.배회(wander)\\insidedoor_01\\144-3\\144-3_cam02_wander03_place01_night_spring_resized.mp4 to G:\\내 드라이브\\Project\\RGBLab\\ABB\\Data\\Resized\\06.배회(wander)\\insidedoor_01\\144-3\\144-3_cam02_wander03_place01_night_spring_resized.mp4\n"
     ]
    },
    {
     "name": "stderr",
     "output_type": "stream",
     "text": [
      "Copying files: 1470it [09:39,  1.70s/it]"
     ]
    },
    {
     "name": "stdout",
     "output_type": "stream",
     "text": [
      "Copying G:\\내 드라이브\\Project\\RGBLab\\ABB\\Data\\06.배회(wander)\\insidedoor_01\\144-3\\144-3_cam01_wander03_place01_night_spring_resized.mp4 to G:\\내 드라이브\\Project\\RGBLab\\ABB\\Data\\Resized\\06.배회(wander)\\insidedoor_01\\144-3\\144-3_cam01_wander03_place01_night_spring_resized.mp4\n"
     ]
    },
    {
     "name": "stderr",
     "output_type": "stream",
     "text": [
      "Copying files: 1471it [09:41,  1.91s/it]"
     ]
    },
    {
     "name": "stdout",
     "output_type": "stream",
     "text": [
      "Copying G:\\내 드라이브\\Project\\RGBLab\\ABB\\Data\\06.배회(wander)\\insidedoor_01\\144-4\\144-4_cam03_wander03_place01_night_spring_resized.mp4 to G:\\내 드라이브\\Project\\RGBLab\\ABB\\Data\\Resized\\06.배회(wander)\\insidedoor_01\\144-4\\144-4_cam03_wander03_place01_night_spring_resized.mp4\n",
      "Copying G:\\내 드라이브\\Project\\RGBLab\\ABB\\Data\\06.배회(wander)\\insidedoor_01\\144-4\\144-4_cam03_wander03_place01_night_winter_resized.mp4 to G:\\내 드라이브\\Project\\RGBLab\\ABB\\Data\\Resized\\06.배회(wander)\\insidedoor_01\\144-4\\144-4_cam03_wander03_place01_night_winter_resized.mp4\n"
     ]
    },
    {
     "name": "stderr",
     "output_type": "stream",
     "text": [
      "Copying files: 1473it [09:44,  1.60s/it]"
     ]
    },
    {
     "name": "stdout",
     "output_type": "stream",
     "text": [
      "Copying G:\\내 드라이브\\Project\\RGBLab\\ABB\\Data\\06.배회(wander)\\insidedoor_01\\144-4\\144-4_cam02_wander03_place01_night_summer_resized.mp4 to G:\\내 드라이브\\Project\\RGBLab\\ABB\\Data\\Resized\\06.배회(wander)\\insidedoor_01\\144-4\\144-4_cam02_wander03_place01_night_summer_resized.mp4\n"
     ]
    },
    {
     "name": "stderr",
     "output_type": "stream",
     "text": [
      "Copying files: 1474it [09:44,  1.45s/it]"
     ]
    },
    {
     "name": "stdout",
     "output_type": "stream",
     "text": [
      "Copying G:\\내 드라이브\\Project\\RGBLab\\ABB\\Data\\06.배회(wander)\\insidedoor_01\\144-4\\144-4_cam03_wander03_place01_night_summer_resized.mp4 to G:\\내 드라이브\\Project\\RGBLab\\ABB\\Data\\Resized\\06.배회(wander)\\insidedoor_01\\144-4\\144-4_cam03_wander03_place01_night_summer_resized.mp4\n",
      "Copying G:\\내 드라이브\\Project\\RGBLab\\ABB\\Data\\06.배회(wander)\\insidedoor_01\\144-4\\144-4_cam02_wander03_place01_night_winter_resized.mp4 to G:\\내 드라이브\\Project\\RGBLab\\ABB\\Data\\Resized\\06.배회(wander)\\insidedoor_01\\144-4\\144-4_cam02_wander03_place01_night_winter_resized.mp4\n"
     ]
    },
    {
     "name": "stderr",
     "output_type": "stream",
     "text": [
      "Copying files: 1476it [09:46,  1.08s/it]"
     ]
    },
    {
     "name": "stdout",
     "output_type": "stream",
     "text": [
      "Copying G:\\내 드라이브\\Project\\RGBLab\\ABB\\Data\\06.배회(wander)\\insidedoor_01\\144-4\\144-4_cam01_wander03_place01_night_winter_resized.mp4 to G:\\내 드라이브\\Project\\RGBLab\\ABB\\Data\\Resized\\06.배회(wander)\\insidedoor_01\\144-4\\144-4_cam01_wander03_place01_night_winter_resized.mp4\n",
      "Copying G:\\내 드라이브\\Project\\RGBLab\\ABB\\Data\\06.배회(wander)\\insidedoor_01\\144-4\\144-4_cam01_wander03_place01_night_summer_resized.mp4 to G:\\내 드라이브\\Project\\RGBLab\\ABB\\Data\\Resized\\06.배회(wander)\\insidedoor_01\\144-4\\144-4_cam01_wander03_place01_night_summer_resized.mp4\n",
      "Copying G:\\내 드라이브\\Project\\RGBLab\\ABB\\Data\\06.배회(wander)\\insidedoor_01\\144-4\\144-4_cam01_wander03_place01_night_spring_resized.mp4 to G:\\내 드라이브\\Project\\RGBLab\\ABB\\Data\\Resized\\06.배회(wander)\\insidedoor_01\\144-4\\144-4_cam01_wander03_place01_night_spring_resized.mp4\n"
     ]
    },
    {
     "name": "stderr",
     "output_type": "stream",
     "text": [
      "Copying files: 1479it [09:47,  1.17it/s]"
     ]
    },
    {
     "name": "stdout",
     "output_type": "stream",
     "text": [
      "Copying G:\\내 드라이브\\Project\\RGBLab\\ABB\\Data\\06.배회(wander)\\insidedoor_01\\144-4\\144-4_cam02_wander03_place01_night_spring_resized.mp4 to G:\\내 드라이브\\Project\\RGBLab\\ABB\\Data\\Resized\\06.배회(wander)\\insidedoor_01\\144-4\\144-4_cam02_wander03_place01_night_spring_resized.mp4\n"
     ]
    },
    {
     "name": "stderr",
     "output_type": "stream",
     "text": [
      "Copying files: 1480it [09:48,  1.10it/s]"
     ]
    },
    {
     "name": "stdout",
     "output_type": "stream",
     "text": [
      "Copying G:\\내 드라이브\\Project\\RGBLab\\ABB\\Data\\06.배회(wander)\\insidedoor_01\\144-5\\144-5_cam02_wander03_place01_night_winter_resized.mp4 to G:\\내 드라이브\\Project\\RGBLab\\ABB\\Data\\Resized\\06.배회(wander)\\insidedoor_01\\144-5\\144-5_cam02_wander03_place01_night_winter_resized.mp4\n"
     ]
    },
    {
     "name": "stderr",
     "output_type": "stream",
     "text": [
      "Copying files: 1481it [09:51,  1.32s/it]"
     ]
    },
    {
     "name": "stdout",
     "output_type": "stream",
     "text": [
      "Copying G:\\내 드라이브\\Project\\RGBLab\\ABB\\Data\\06.배회(wander)\\insidedoor_01\\144-5\\144-5_cam03_wander03_place01_night_summer_resized.mp4 to G:\\내 드라이브\\Project\\RGBLab\\ABB\\Data\\Resized\\06.배회(wander)\\insidedoor_01\\144-5\\144-5_cam03_wander03_place01_night_summer_resized.mp4\n"
     ]
    },
    {
     "name": "stderr",
     "output_type": "stream",
     "text": [
      "Copying files: 1482it [09:52,  1.23s/it]"
     ]
    },
    {
     "name": "stdout",
     "output_type": "stream",
     "text": [
      "Copying G:\\내 드라이브\\Project\\RGBLab\\ABB\\Data\\06.배회(wander)\\insidedoor_01\\144-5\\144-5_cam03_wander03_place01_night_spring_resized.mp4 to G:\\내 드라이브\\Project\\RGBLab\\ABB\\Data\\Resized\\06.배회(wander)\\insidedoor_01\\144-5\\144-5_cam03_wander03_place01_night_spring_resized.mp4\n"
     ]
    },
    {
     "name": "stderr",
     "output_type": "stream",
     "text": [
      "Copying files: 1483it [09:53,  1.18s/it]"
     ]
    },
    {
     "name": "stdout",
     "output_type": "stream",
     "text": [
      "Copying G:\\내 드라이브\\Project\\RGBLab\\ABB\\Data\\06.배회(wander)\\insidedoor_01\\144-5\\144-5_cam03_wander03_place01_night_winter_resized.mp4 to G:\\내 드라이브\\Project\\RGBLab\\ABB\\Data\\Resized\\06.배회(wander)\\insidedoor_01\\144-5\\144-5_cam03_wander03_place01_night_winter_resized.mp4\n"
     ]
    },
    {
     "name": "stderr",
     "output_type": "stream",
     "text": [
      "Copying files: 1484it [09:54,  1.11s/it]"
     ]
    },
    {
     "name": "stdout",
     "output_type": "stream",
     "text": [
      "Copying G:\\내 드라이브\\Project\\RGBLab\\ABB\\Data\\06.배회(wander)\\insidedoor_01\\144-5\\144-5_cam01_wander03_place01_night_summer_resized.mp4 to G:\\내 드라이브\\Project\\RGBLab\\ABB\\Data\\Resized\\06.배회(wander)\\insidedoor_01\\144-5\\144-5_cam01_wander03_place01_night_summer_resized.mp4\n"
     ]
    },
    {
     "name": "stderr",
     "output_type": "stream",
     "text": [
      "Copying files: 1485it [09:55,  1.08s/it]"
     ]
    },
    {
     "name": "stdout",
     "output_type": "stream",
     "text": [
      "Copying G:\\내 드라이브\\Project\\RGBLab\\ABB\\Data\\06.배회(wander)\\insidedoor_01\\144-5\\144-5_cam01_wander03_place01_night_winter_resized.mp4 to G:\\내 드라이브\\Project\\RGBLab\\ABB\\Data\\Resized\\06.배회(wander)\\insidedoor_01\\144-5\\144-5_cam01_wander03_place01_night_winter_resized.mp4\n"
     ]
    },
    {
     "name": "stderr",
     "output_type": "stream",
     "text": [
      "Copying files: 1486it [09:56,  1.03s/it]"
     ]
    },
    {
     "name": "stdout",
     "output_type": "stream",
     "text": [
      "Copying G:\\내 드라이브\\Project\\RGBLab\\ABB\\Data\\06.배회(wander)\\insidedoor_01\\144-5\\144-5_cam01_wander03_place01_night_spring_resized.mp4 to G:\\내 드라이브\\Project\\RGBLab\\ABB\\Data\\Resized\\06.배회(wander)\\insidedoor_01\\144-5\\144-5_cam01_wander03_place01_night_spring_resized.mp4\n",
      "Copying G:\\내 드라이브\\Project\\RGBLab\\ABB\\Data\\06.배회(wander)\\insidedoor_01\\144-5\\144-5_cam02_wander03_place01_night_spring_resized.mp4 to G:\\내 드라이브\\Project\\RGBLab\\ABB\\Data\\Resized\\06.배회(wander)\\insidedoor_01\\144-5\\144-5_cam02_wander03_place01_night_spring_resized.mp4\n",
      "Copying G:\\내 드라이브\\Project\\RGBLab\\ABB\\Data\\06.배회(wander)\\insidedoor_01\\144-5\\144-5_cam02_wander03_place01_night_summer_resized.mp4 to G:\\내 드라이브\\Project\\RGBLab\\ABB\\Data\\Resized\\06.배회(wander)\\insidedoor_01\\144-5\\144-5_cam02_wander03_place01_night_summer_resized.mp4\n"
     ]
    },
    {
     "name": "stderr",
     "output_type": "stream",
     "text": [
      "Copying files: 1489it [09:57,  1.50it/s]"
     ]
    },
    {
     "name": "stdout",
     "output_type": "stream",
     "text": [
      "Copying G:\\내 드라이브\\Project\\RGBLab\\ABB\\Data\\06.배회(wander)\\insidedoor_01\\144-6\\144-6_cam03_wander03_place01_night_summer_resized.mp4 to G:\\내 드라이브\\Project\\RGBLab\\ABB\\Data\\Resized\\06.배회(wander)\\insidedoor_01\\144-6\\144-6_cam03_wander03_place01_night_summer_resized.mp4\n"
     ]
    },
    {
     "name": "stderr",
     "output_type": "stream",
     "text": [
      "Copying files: 1490it [10:00,  1.11s/it]"
     ]
    },
    {
     "name": "stdout",
     "output_type": "stream",
     "text": [
      "Copying G:\\내 드라이브\\Project\\RGBLab\\ABB\\Data\\06.배회(wander)\\insidedoor_01\\144-6\\144-6_cam03_wander03_place01_night_spring_resized.mp4 to G:\\내 드라이브\\Project\\RGBLab\\ABB\\Data\\Resized\\06.배회(wander)\\insidedoor_01\\144-6\\144-6_cam03_wander03_place01_night_spring_resized.mp4\n"
     ]
    },
    {
     "name": "stderr",
     "output_type": "stream",
     "text": [
      "Copying files: 1491it [10:01,  1.10s/it]"
     ]
    },
    {
     "name": "stdout",
     "output_type": "stream",
     "text": [
      "Copying G:\\내 드라이브\\Project\\RGBLab\\ABB\\Data\\06.배회(wander)\\insidedoor_01\\144-6\\144-6_cam01_wander03_place01_night_summer_resized.mp4 to G:\\내 드라이브\\Project\\RGBLab\\ABB\\Data\\Resized\\06.배회(wander)\\insidedoor_01\\144-6\\144-6_cam01_wander03_place01_night_summer_resized.mp4\n"
     ]
    },
    {
     "name": "stderr",
     "output_type": "stream",
     "text": [
      "Copying files: 1492it [10:03,  1.24s/it]"
     ]
    },
    {
     "name": "stdout",
     "output_type": "stream",
     "text": [
      "Copying G:\\내 드라이브\\Project\\RGBLab\\ABB\\Data\\06.배회(wander)\\insidedoor_01\\144-6\\144-6_cam01_wander03_place01_night_spring_resized.mp4 to G:\\내 드라이브\\Project\\RGBLab\\ABB\\Data\\Resized\\06.배회(wander)\\insidedoor_01\\144-6\\144-6_cam01_wander03_place01_night_spring_resized.mp4\n",
      "Copying G:\\내 드라이브\\Project\\RGBLab\\ABB\\Data\\06.배회(wander)\\insidedoor_01\\144-6\\144-6_cam02_wander03_place01_night_winter_resized.mp4 to G:\\내 드라이브\\Project\\RGBLab\\ABB\\Data\\Resized\\06.배회(wander)\\insidedoor_01\\144-6\\144-6_cam02_wander03_place01_night_winter_resized.mp4\n"
     ]
    },
    {
     "name": "stderr",
     "output_type": "stream",
     "text": [
      "Copying files: 1494it [10:04,  1.03it/s]"
     ]
    },
    {
     "name": "stdout",
     "output_type": "stream",
     "text": [
      "Copying G:\\내 드라이브\\Project\\RGBLab\\ABB\\Data\\06.배회(wander)\\insidedoor_01\\144-6\\144-6_cam02_wander03_place01_night_spring_resized.mp4 to G:\\내 드라이브\\Project\\RGBLab\\ABB\\Data\\Resized\\06.배회(wander)\\insidedoor_01\\144-6\\144-6_cam02_wander03_place01_night_spring_resized.mp4\n"
     ]
    },
    {
     "name": "stderr",
     "output_type": "stream",
     "text": [
      "Copying files: 1495it [10:05,  1.00s/it]"
     ]
    },
    {
     "name": "stdout",
     "output_type": "stream",
     "text": [
      "Copying G:\\내 드라이브\\Project\\RGBLab\\ABB\\Data\\06.배회(wander)\\insidedoor_01\\144-6\\144-6_cam01_wander03_place01_night_winter_resized.mp4 to G:\\내 드라이브\\Project\\RGBLab\\ABB\\Data\\Resized\\06.배회(wander)\\insidedoor_01\\144-6\\144-6_cam01_wander03_place01_night_winter_resized.mp4\n"
     ]
    },
    {
     "name": "stderr",
     "output_type": "stream",
     "text": [
      "Copying files: 1496it [10:06,  1.05s/it]"
     ]
    },
    {
     "name": "stdout",
     "output_type": "stream",
     "text": [
      "Copying G:\\내 드라이브\\Project\\RGBLab\\ABB\\Data\\06.배회(wander)\\insidedoor_01\\144-6\\144-6_cam02_wander03_place01_night_summer_resized.mp4 to G:\\내 드라이브\\Project\\RGBLab\\ABB\\Data\\Resized\\06.배회(wander)\\insidedoor_01\\144-6\\144-6_cam02_wander03_place01_night_summer_resized.mp4\n"
     ]
    },
    {
     "name": "stderr",
     "output_type": "stream",
     "text": [
      "Copying files: 1497it [10:08,  1.32s/it]"
     ]
    },
    {
     "name": "stdout",
     "output_type": "stream",
     "text": [
      "Copying G:\\내 드라이브\\Project\\RGBLab\\ABB\\Data\\06.배회(wander)\\insidedoor_01\\144-6\\144-6_cam03_wander03_place01_night_winter_resized.mp4 to G:\\내 드라이브\\Project\\RGBLab\\ABB\\Data\\Resized\\06.배회(wander)\\insidedoor_01\\144-6\\144-6_cam03_wander03_place01_night_winter_resized.mp4\n"
     ]
    },
    {
     "name": "stderr",
     "output_type": "stream",
     "text": [
      "Copying files: 1498it [10:09,  1.25s/it]"
     ]
    },
    {
     "name": "stdout",
     "output_type": "stream",
     "text": [
      "Copying G:\\내 드라이브\\Project\\RGBLab\\ABB\\Data\\06.배회(wander)\\insidedoor_02\\254-3_wander01_place09_day\\254-3_cam03_wander01_place09_day_spring_resized.mp4 to G:\\내 드라이브\\Project\\RGBLab\\ABB\\Data\\Resized\\06.배회(wander)\\insidedoor_02\\254-3_wander01_place09_day\\254-3_cam03_wander01_place09_day_spring_resized.mp4\n"
     ]
    },
    {
     "name": "stderr",
     "output_type": "stream",
     "text": [
      "Copying files: 1499it [10:10,  1.19s/it]"
     ]
    },
    {
     "name": "stdout",
     "output_type": "stream",
     "text": [
      "Copying G:\\내 드라이브\\Project\\RGBLab\\ABB\\Data\\06.배회(wander)\\insidedoor_02\\254-3_wander01_place09_day\\254-3_cam01_wander01_place09_day_spring_resized.mp4 to G:\\내 드라이브\\Project\\RGBLab\\ABB\\Data\\Resized\\06.배회(wander)\\insidedoor_02\\254-3_wander01_place09_day\\254-3_cam01_wander01_place09_day_spring_resized.mp4\n"
     ]
    },
    {
     "name": "stderr",
     "output_type": "stream",
     "text": [
      "Copying files: 1500it [10:12,  1.41s/it]"
     ]
    },
    {
     "name": "stdout",
     "output_type": "stream",
     "text": [
      "Copying G:\\내 드라이브\\Project\\RGBLab\\ABB\\Data\\06.배회(wander)\\insidedoor_02\\254-3_wander01_place09_day\\254-3_cam01_wander01_place09_day_summer_resized.mp4 to G:\\내 드라이브\\Project\\RGBLab\\ABB\\Data\\Resized\\06.배회(wander)\\insidedoor_02\\254-3_wander01_place09_day\\254-3_cam01_wander01_place09_day_summer_resized.mp4\n"
     ]
    },
    {
     "name": "stderr",
     "output_type": "stream",
     "text": [
      "Copying files: 1501it [10:13,  1.31s/it]"
     ]
    },
    {
     "name": "stdout",
     "output_type": "stream",
     "text": [
      "Copying G:\\내 드라이브\\Project\\RGBLab\\ABB\\Data\\06.배회(wander)\\insidedoor_02\\254-3_wander01_place09_day\\254-3_cam03_wander01_place09_day_summer_resized.mp4 to G:\\내 드라이브\\Project\\RGBLab\\ABB\\Data\\Resized\\06.배회(wander)\\insidedoor_02\\254-3_wander01_place09_day\\254-3_cam03_wander01_place09_day_summer_resized.mp4\n"
     ]
    },
    {
     "name": "stderr",
     "output_type": "stream",
     "text": [
      "Copying files: 1505it [10:14,  1.81it/s]"
     ]
    },
    {
     "name": "stdout",
     "output_type": "stream",
     "text": [
      "Copying G:\\내 드라이브\\Project\\RGBLab\\ABB\\Data\\06.배회(wander)\\insidedoor_02\\254-3_wander01_place09_day\\254-3_cam02_wander01_place09_day_spring_resized.mp4 to G:\\내 드라이브\\Project\\RGBLab\\ABB\\Data\\Resized\\06.배회(wander)\\insidedoor_02\\254-3_wander01_place09_day\\254-3_cam02_wander01_place09_day_spring_resized.mp4\n",
      "Copying G:\\내 드라이브\\Project\\RGBLab\\ABB\\Data\\06.배회(wander)\\insidedoor_02\\254-3_wander01_place09_day\\254-3_cam02_wander01_place09_day_winter_resized.mp4 to G:\\내 드라이브\\Project\\RGBLab\\ABB\\Data\\Resized\\06.배회(wander)\\insidedoor_02\\254-3_wander01_place09_day\\254-3_cam02_wander01_place09_day_winter_resized.mp4\n",
      "Copying G:\\내 드라이브\\Project\\RGBLab\\ABB\\Data\\06.배회(wander)\\insidedoor_02\\254-3_wander01_place09_day\\254-3_cam02_wander01_place09_day_summer_resized.mp4 to G:\\내 드라이브\\Project\\RGBLab\\ABB\\Data\\Resized\\06.배회(wander)\\insidedoor_02\\254-3_wander01_place09_day\\254-3_cam02_wander01_place09_day_summer_resized.mp4\n",
      "Copying G:\\내 드라이브\\Project\\RGBLab\\ABB\\Data\\06.배회(wander)\\insidedoor_02\\254-3_wander01_place09_day\\254-3_cam01_wander01_place09_day_winter_resized.mp4 to G:\\내 드라이브\\Project\\RGBLab\\ABB\\Data\\Resized\\06.배회(wander)\\insidedoor_02\\254-3_wander01_place09_day\\254-3_cam01_wander01_place09_day_winter_resized.mp4\n"
     ]
    },
    {
     "name": "stderr",
     "output_type": "stream",
     "text": [
      "Copying files: 1506it [10:16,  1.45it/s]"
     ]
    },
    {
     "name": "stdout",
     "output_type": "stream",
     "text": [
      "Copying G:\\내 드라이브\\Project\\RGBLab\\ABB\\Data\\06.배회(wander)\\insidedoor_02\\254-3_wander01_place09_day\\254-3_cam03_wander01_place09_day_winter_resized.mp4 to G:\\내 드라이브\\Project\\RGBLab\\ABB\\Data\\Resized\\06.배회(wander)\\insidedoor_02\\254-3_wander01_place09_day\\254-3_cam03_wander01_place09_day_winter_resized.mp4\n",
      "Copying G:\\내 드라이브\\Project\\RGBLab\\ABB\\Data\\06.배회(wander)\\insidedoor_02\\254-2_wander01_place09_day\\254-2_cam03_wander01_place09_day_summer_resized.mp4 to G:\\내 드라이브\\Project\\RGBLab\\ABB\\Data\\Resized\\06.배회(wander)\\insidedoor_02\\254-2_wander01_place09_day\\254-2_cam03_wander01_place09_day_summer_resized.mp4\n",
      "Copying G:\\내 드라이브\\Project\\RGBLab\\ABB\\Data\\06.배회(wander)\\insidedoor_02\\254-2_wander01_place09_day\\254-2_cam03_wander01_place09_day_spring_resized.mp4 to G:\\내 드라이브\\Project\\RGBLab\\ABB\\Data\\Resized\\06.배회(wander)\\insidedoor_02\\254-2_wander01_place09_day\\254-2_cam03_wander01_place09_day_spring_resized.mp4\n"
     ]
    },
    {
     "name": "stderr",
     "output_type": "stream",
     "text": [
      "Copying files: 1509it [10:17,  1.81it/s]"
     ]
    },
    {
     "name": "stdout",
     "output_type": "stream",
     "text": [
      "Copying G:\\내 드라이브\\Project\\RGBLab\\ABB\\Data\\06.배회(wander)\\insidedoor_02\\254-2_wander01_place09_day\\254-2_cam01_wander01_place09_day_spring_resized.mp4 to G:\\내 드라이브\\Project\\RGBLab\\ABB\\Data\\Resized\\06.배회(wander)\\insidedoor_02\\254-2_wander01_place09_day\\254-2_cam01_wander01_place09_day_spring_resized.mp4\n"
     ]
    },
    {
     "name": "stderr",
     "output_type": "stream",
     "text": [
      "Copying files: 1510it [10:18,  1.56it/s]"
     ]
    },
    {
     "name": "stdout",
     "output_type": "stream",
     "text": [
      "Copying G:\\내 드라이브\\Project\\RGBLab\\ABB\\Data\\06.배회(wander)\\insidedoor_02\\254-2_wander01_place09_day\\254-2_cam02_wander01_place09_day_winter_resized.mp4 to G:\\내 드라이브\\Project\\RGBLab\\ABB\\Data\\Resized\\06.배회(wander)\\insidedoor_02\\254-2_wander01_place09_day\\254-2_cam02_wander01_place09_day_winter_resized.mp4\n",
      "Copying G:\\내 드라이브\\Project\\RGBLab\\ABB\\Data\\06.배회(wander)\\insidedoor_02\\254-2_wander01_place09_day\\254-2_cam03_wander01_place09_day_winter_resized.mp4 to G:\\내 드라이브\\Project\\RGBLab\\ABB\\Data\\Resized\\06.배회(wander)\\insidedoor_02\\254-2_wander01_place09_day\\254-2_cam03_wander01_place09_day_winter_resized.mp4\n"
     ]
    },
    {
     "name": "stderr",
     "output_type": "stream",
     "text": [
      "Copying files: 1512it [10:20,  1.19it/s]"
     ]
    },
    {
     "name": "stdout",
     "output_type": "stream",
     "text": [
      "Copying G:\\내 드라이브\\Project\\RGBLab\\ABB\\Data\\06.배회(wander)\\insidedoor_02\\254-2_wander01_place09_day\\254-2_cam01_wander01_place09_day_winter_resized.mp4 to G:\\내 드라이브\\Project\\RGBLab\\ABB\\Data\\Resized\\06.배회(wander)\\insidedoor_02\\254-2_wander01_place09_day\\254-2_cam01_wander01_place09_day_winter_resized.mp4\n"
     ]
    },
    {
     "name": "stderr",
     "output_type": "stream",
     "text": [
      "Copying files: 1513it [10:21,  1.13it/s]"
     ]
    },
    {
     "name": "stdout",
     "output_type": "stream",
     "text": [
      "Copying G:\\내 드라이브\\Project\\RGBLab\\ABB\\Data\\06.배회(wander)\\insidedoor_02\\254-2_wander01_place09_day\\254-2_cam01_wander01_place09_day_summer_resized.mp4 to G:\\내 드라이브\\Project\\RGBLab\\ABB\\Data\\Resized\\06.배회(wander)\\insidedoor_02\\254-2_wander01_place09_day\\254-2_cam01_wander01_place09_day_summer_resized.mp4\n"
     ]
    },
    {
     "name": "stderr",
     "output_type": "stream",
     "text": [
      "Copying files: 1514it [10:22,  1.08it/s]"
     ]
    },
    {
     "name": "stdout",
     "output_type": "stream",
     "text": [
      "Copying G:\\내 드라이브\\Project\\RGBLab\\ABB\\Data\\06.배회(wander)\\insidedoor_02\\254-2_wander01_place09_day\\254-2_cam02_wander01_place09_day_spring_resized.mp4 to G:\\내 드라이브\\Project\\RGBLab\\ABB\\Data\\Resized\\06.배회(wander)\\insidedoor_02\\254-2_wander01_place09_day\\254-2_cam02_wander01_place09_day_spring_resized.mp4\n"
     ]
    },
    {
     "name": "stderr",
     "output_type": "stream",
     "text": [
      "Copying files: 1515it [10:24,  1.01it/s]"
     ]
    },
    {
     "name": "stdout",
     "output_type": "stream",
     "text": [
      "Copying G:\\내 드라이브\\Project\\RGBLab\\ABB\\Data\\06.배회(wander)\\insidedoor_02\\254-2_wander01_place09_day\\254-2_cam02_wander01_place09_day_summer_resized.mp4 to G:\\내 드라이브\\Project\\RGBLab\\ABB\\Data\\Resized\\06.배회(wander)\\insidedoor_02\\254-2_wander01_place09_day\\254-2_cam02_wander01_place09_day_summer_resized.mp4\n"
     ]
    },
    {
     "name": "stderr",
     "output_type": "stream",
     "text": [
      "Copying files: 1516it [10:26,  1.41s/it]"
     ]
    },
    {
     "name": "stdout",
     "output_type": "stream",
     "text": [
      "Copying G:\\내 드라이브\\Project\\RGBLab\\ABB\\Data\\06.배회(wander)\\insidedoor_02\\254-5_wander01_place09_day\\254-5_cam02_wander01_place09_day_winter_resized.mp4 to G:\\내 드라이브\\Project\\RGBLab\\ABB\\Data\\Resized\\06.배회(wander)\\insidedoor_02\\254-5_wander01_place09_day\\254-5_cam02_wander01_place09_day_winter_resized.mp4\n"
     ]
    },
    {
     "name": "stderr",
     "output_type": "stream",
     "text": [
      "Copying files: 1517it [10:27,  1.33s/it]"
     ]
    },
    {
     "name": "stdout",
     "output_type": "stream",
     "text": [
      "Copying G:\\내 드라이브\\Project\\RGBLab\\ABB\\Data\\06.배회(wander)\\insidedoor_02\\254-5_wander01_place09_day\\254-5_cam03_wander01_place09_day_spring_resized.mp4 to G:\\내 드라이브\\Project\\RGBLab\\ABB\\Data\\Resized\\06.배회(wander)\\insidedoor_02\\254-5_wander01_place09_day\\254-5_cam03_wander01_place09_day_spring_resized.mp4\n"
     ]
    },
    {
     "name": "stderr",
     "output_type": "stream",
     "text": [
      "Copying files: 1518it [10:30,  1.77s/it]"
     ]
    },
    {
     "name": "stdout",
     "output_type": "stream",
     "text": [
      "Copying G:\\내 드라이브\\Project\\RGBLab\\ABB\\Data\\06.배회(wander)\\insidedoor_02\\254-5_wander01_place09_day\\254-5_cam02_wander01_place09_day_summer_resized.mp4 to G:\\내 드라이브\\Project\\RGBLab\\ABB\\Data\\Resized\\06.배회(wander)\\insidedoor_02\\254-5_wander01_place09_day\\254-5_cam02_wander01_place09_day_summer_resized.mp4\n",
      "Copying G:\\내 드라이브\\Project\\RGBLab\\ABB\\Data\\06.배회(wander)\\insidedoor_02\\254-5_wander01_place09_day\\254-5_cam02_wander01_place09_day_spring_resized.mp4 to G:\\내 드라이브\\Project\\RGBLab\\ABB\\Data\\Resized\\06.배회(wander)\\insidedoor_02\\254-5_wander01_place09_day\\254-5_cam02_wander01_place09_day_spring_resized.mp4\n"
     ]
    },
    {
     "name": "stderr",
     "output_type": "stream",
     "text": [
      "Copying files: 1520it [10:32,  1.25s/it]"
     ]
    },
    {
     "name": "stdout",
     "output_type": "stream",
     "text": [
      "Copying G:\\내 드라이브\\Project\\RGBLab\\ABB\\Data\\06.배회(wander)\\insidedoor_02\\254-5_wander01_place09_day\\254-5_cam01_wander01_place09_day_summer_resized.mp4 to G:\\내 드라이브\\Project\\RGBLab\\ABB\\Data\\Resized\\06.배회(wander)\\insidedoor_02\\254-5_wander01_place09_day\\254-5_cam01_wander01_place09_day_summer_resized.mp4\n"
     ]
    },
    {
     "name": "stderr",
     "output_type": "stream",
     "text": [
      "Copying files: 1521it [10:33,  1.18s/it]"
     ]
    },
    {
     "name": "stdout",
     "output_type": "stream",
     "text": [
      "Copying G:\\내 드라이브\\Project\\RGBLab\\ABB\\Data\\06.배회(wander)\\insidedoor_02\\254-5_wander01_place09_day\\254-5_cam01_wander01_place09_day_winter_resized.mp4 to G:\\내 드라이브\\Project\\RGBLab\\ABB\\Data\\Resized\\06.배회(wander)\\insidedoor_02\\254-5_wander01_place09_day\\254-5_cam01_wander01_place09_day_winter_resized.mp4\n"
     ]
    },
    {
     "name": "stderr",
     "output_type": "stream",
     "text": [
      "Copying files: 1525it [10:35,  1.40it/s]"
     ]
    },
    {
     "name": "stdout",
     "output_type": "stream",
     "text": [
      "Copying G:\\내 드라이브\\Project\\RGBLab\\ABB\\Data\\06.배회(wander)\\insidedoor_02\\254-5_wander01_place09_day\\254-5_cam03_wander01_place09_day_winter_resized.mp4 to G:\\내 드라이브\\Project\\RGBLab\\ABB\\Data\\Resized\\06.배회(wander)\\insidedoor_02\\254-5_wander01_place09_day\\254-5_cam03_wander01_place09_day_winter_resized.mp4\n",
      "Copying G:\\내 드라이브\\Project\\RGBLab\\ABB\\Data\\06.배회(wander)\\insidedoor_02\\254-5_wander01_place09_day\\254-5_cam01_wander01_place09_day_spring_resized.mp4 to G:\\내 드라이브\\Project\\RGBLab\\ABB\\Data\\Resized\\06.배회(wander)\\insidedoor_02\\254-5_wander01_place09_day\\254-5_cam01_wander01_place09_day_spring_resized.mp4\n",
      "Copying G:\\내 드라이브\\Project\\RGBLab\\ABB\\Data\\06.배회(wander)\\insidedoor_02\\254-5_wander01_place09_day\\254-5_cam03_wander01_place09_day_summer_resized.mp4 to G:\\내 드라이브\\Project\\RGBLab\\ABB\\Data\\Resized\\06.배회(wander)\\insidedoor_02\\254-5_wander01_place09_day\\254-5_cam03_wander01_place09_day_summer_resized.mp4\n",
      "Copying G:\\내 드라이브\\Project\\RGBLab\\ABB\\Data\\06.배회(wander)\\insidedoor_02\\254-4_wander01_place09_day\\254-4_cam03_wander01_place09_day_spring_resized.mp4 to G:\\내 드라이브\\Project\\RGBLab\\ABB\\Data\\Resized\\06.배회(wander)\\insidedoor_02\\254-4_wander01_place09_day\\254-4_cam03_wander01_place09_day_spring_resized.mp4\n",
      "Copying G:\\내 드라이브\\Project\\RGBLab\\ABB\\Data\\06.배회(wander)\\insidedoor_02\\254-4_wander01_place09_day\\254-4_cam01_wander01_place09_day_spring_resized.mp4 to G:\\내 드라이브\\Project\\RGBLab\\ABB\\Data\\Resized\\06.배회(wander)\\insidedoor_02\\254-4_wander01_place09_day\\254-4_cam01_wander01_place09_day_spring_resized.mp4\n"
     ]
    },
    {
     "name": "stderr",
     "output_type": "stream",
     "text": [
      "Copying files: 1527it [10:36,  1.53it/s]"
     ]
    },
    {
     "name": "stdout",
     "output_type": "stream",
     "text": [
      "Copying G:\\내 드라이브\\Project\\RGBLab\\ABB\\Data\\06.배회(wander)\\insidedoor_02\\254-4_wander01_place09_day\\254-4_cam02_wander01_place09_day_winter_resized.mp4 to G:\\내 드라이브\\Project\\RGBLab\\ABB\\Data\\Resized\\06.배회(wander)\\insidedoor_02\\254-4_wander01_place09_day\\254-4_cam02_wander01_place09_day_winter_resized.mp4\n"
     ]
    },
    {
     "name": "stderr",
     "output_type": "stream",
     "text": [
      "Copying files: 1528it [10:38,  1.00s/it]"
     ]
    },
    {
     "name": "stdout",
     "output_type": "stream",
     "text": [
      "Copying G:\\내 드라이브\\Project\\RGBLab\\ABB\\Data\\06.배회(wander)\\insidedoor_02\\254-4_wander01_place09_day\\254-4_cam02_wander01_place09_day_spring_resized.mp4 to G:\\내 드라이브\\Project\\RGBLab\\ABB\\Data\\Resized\\06.배회(wander)\\insidedoor_02\\254-4_wander01_place09_day\\254-4_cam02_wander01_place09_day_spring_resized.mp4\n"
     ]
    },
    {
     "name": "stderr",
     "output_type": "stream",
     "text": [
      "Copying files: 1529it [10:41,  1.30s/it]"
     ]
    },
    {
     "name": "stdout",
     "output_type": "stream",
     "text": [
      "Copying G:\\내 드라이브\\Project\\RGBLab\\ABB\\Data\\06.배회(wander)\\insidedoor_02\\254-4_wander01_place09_day\\254-4_cam03_wander01_place09_day_summer_resized.mp4 to G:\\내 드라이브\\Project\\RGBLab\\ABB\\Data\\Resized\\06.배회(wander)\\insidedoor_02\\254-4_wander01_place09_day\\254-4_cam03_wander01_place09_day_summer_resized.mp4\n"
     ]
    },
    {
     "name": "stderr",
     "output_type": "stream",
     "text": [
      "Copying files: 1530it [10:43,  1.55s/it]"
     ]
    },
    {
     "name": "stdout",
     "output_type": "stream",
     "text": [
      "Copying G:\\내 드라이브\\Project\\RGBLab\\ABB\\Data\\06.배회(wander)\\insidedoor_02\\254-4_wander01_place09_day\\254-4_cam01_wander01_place09_day_summer_resized.mp4 to G:\\내 드라이브\\Project\\RGBLab\\ABB\\Data\\Resized\\06.배회(wander)\\insidedoor_02\\254-4_wander01_place09_day\\254-4_cam01_wander01_place09_day_summer_resized.mp4\n"
     ]
    },
    {
     "name": "stderr",
     "output_type": "stream",
     "text": [
      "Copying files: 1531it [10:44,  1.38s/it]"
     ]
    },
    {
     "name": "stdout",
     "output_type": "stream",
     "text": [
      "Copying G:\\내 드라이브\\Project\\RGBLab\\ABB\\Data\\06.배회(wander)\\insidedoor_02\\254-4_wander01_place09_day\\254-4_cam01_wander01_place09_day_winter_resized.mp4 to G:\\내 드라이브\\Project\\RGBLab\\ABB\\Data\\Resized\\06.배회(wander)\\insidedoor_02\\254-4_wander01_place09_day\\254-4_cam01_wander01_place09_day_winter_resized.mp4\n"
     ]
    },
    {
     "name": "stderr",
     "output_type": "stream",
     "text": [
      "Copying files: 1532it [10:46,  1.61s/it]"
     ]
    },
    {
     "name": "stdout",
     "output_type": "stream",
     "text": [
      "Copying G:\\내 드라이브\\Project\\RGBLab\\ABB\\Data\\06.배회(wander)\\insidedoor_02\\254-4_wander01_place09_day\\254-4_cam03_wander01_place09_day_winter_resized.mp4 to G:\\내 드라이브\\Project\\RGBLab\\ABB\\Data\\Resized\\06.배회(wander)\\insidedoor_02\\254-4_wander01_place09_day\\254-4_cam03_wander01_place09_day_winter_resized.mp4\n",
      "Copying G:\\내 드라이브\\Project\\RGBLab\\ABB\\Data\\06.배회(wander)\\insidedoor_02\\254-4_wander01_place09_day\\254-4_cam02_wander01_place09_day_summer_resized.mp4 to G:\\내 드라이브\\Project\\RGBLab\\ABB\\Data\\Resized\\06.배회(wander)\\insidedoor_02\\254-4_wander01_place09_day\\254-4_cam02_wander01_place09_day_summer_resized.mp4\n"
     ]
    },
    {
     "name": "stderr",
     "output_type": "stream",
     "text": [
      "Copying files: 1534it [10:47,  1.16s/it]"
     ]
    },
    {
     "name": "stdout",
     "output_type": "stream",
     "text": [
      "Copying G:\\내 드라이브\\Project\\RGBLab\\ABB\\Data\\06.배회(wander)\\insidedoor_02\\254-6_wander01_place09_day\\254-6_cam02_wander01_place09_day_summer_resized.mp4 to G:\\내 드라이브\\Project\\RGBLab\\ABB\\Data\\Resized\\06.배회(wander)\\insidedoor_02\\254-6_wander01_place09_day\\254-6_cam02_wander01_place09_day_summer_resized.mp4\n"
     ]
    },
    {
     "name": "stderr",
     "output_type": "stream",
     "text": [
      "Copying files: 1535it [10:49,  1.37s/it]"
     ]
    },
    {
     "name": "stdout",
     "output_type": "stream",
     "text": [
      "Copying G:\\내 드라이브\\Project\\RGBLab\\ABB\\Data\\06.배회(wander)\\insidedoor_02\\254-6_wander01_place09_day\\254-6_cam01_wander01_place09_day_spring_resized.mp4 to G:\\내 드라이브\\Project\\RGBLab\\ABB\\Data\\Resized\\06.배회(wander)\\insidedoor_02\\254-6_wander01_place09_day\\254-6_cam01_wander01_place09_day_spring_resized.mp4\n"
     ]
    },
    {
     "name": "stderr",
     "output_type": "stream",
     "text": [
      "Copying files: 1536it [10:51,  1.30s/it]"
     ]
    },
    {
     "name": "stdout",
     "output_type": "stream",
     "text": [
      "Copying G:\\내 드라이브\\Project\\RGBLab\\ABB\\Data\\06.배회(wander)\\insidedoor_02\\254-6_wander01_place09_day\\254-6_cam03_wander01_place09_day_summer_resized.mp4 to G:\\내 드라이브\\Project\\RGBLab\\ABB\\Data\\Resized\\06.배회(wander)\\insidedoor_02\\254-6_wander01_place09_day\\254-6_cam03_wander01_place09_day_summer_resized.mp4\n"
     ]
    },
    {
     "name": "stderr",
     "output_type": "stream",
     "text": [
      "Copying files: 1537it [10:51,  1.19s/it]"
     ]
    },
    {
     "name": "stdout",
     "output_type": "stream",
     "text": [
      "Copying G:\\내 드라이브\\Project\\RGBLab\\ABB\\Data\\06.배회(wander)\\insidedoor_02\\254-6_wander01_place09_day\\254-6_cam02_wander01_place09_day_spring_resized.mp4 to G:\\내 드라이브\\Project\\RGBLab\\ABB\\Data\\Resized\\06.배회(wander)\\insidedoor_02\\254-6_wander01_place09_day\\254-6_cam02_wander01_place09_day_spring_resized.mp4\n"
     ]
    },
    {
     "name": "stderr",
     "output_type": "stream",
     "text": [
      "Copying files: 1538it [10:55,  1.73s/it]"
     ]
    },
    {
     "name": "stdout",
     "output_type": "stream",
     "text": [
      "Copying G:\\내 드라이브\\Project\\RGBLab\\ABB\\Data\\06.배회(wander)\\insidedoor_02\\254-6_wander01_place09_day\\254-6_cam01_wander01_place09_day_winter_resized.mp4 to G:\\내 드라이브\\Project\\RGBLab\\ABB\\Data\\Resized\\06.배회(wander)\\insidedoor_02\\254-6_wander01_place09_day\\254-6_cam01_wander01_place09_day_winter_resized.mp4\n",
      "Copying G:\\내 드라이브\\Project\\RGBLab\\ABB\\Data\\06.배회(wander)\\insidedoor_02\\254-6_wander01_place09_day\\254-6_cam02_wander01_place09_day_winter_resized.mp4 to G:\\내 드라이브\\Project\\RGBLab\\ABB\\Data\\Resized\\06.배회(wander)\\insidedoor_02\\254-6_wander01_place09_day\\254-6_cam02_wander01_place09_day_winter_resized.mp4\n",
      "Copying G:\\내 드라이브\\Project\\RGBLab\\ABB\\Data\\06.배회(wander)\\insidedoor_02\\254-6_wander01_place09_day\\254-6_cam01_wander01_place09_day_summer_resized.mp4 to G:\\내 드라이브\\Project\\RGBLab\\ABB\\Data\\Resized\\06.배회(wander)\\insidedoor_02\\254-6_wander01_place09_day\\254-6_cam01_wander01_place09_day_summer_resized.mp4\n"
     ]
    },
    {
     "name": "stderr",
     "output_type": "stream",
     "text": [
      "Copying files: 1541it [10:56,  1.00s/it]"
     ]
    },
    {
     "name": "stdout",
     "output_type": "stream",
     "text": [
      "Copying G:\\내 드라이브\\Project\\RGBLab\\ABB\\Data\\06.배회(wander)\\insidedoor_02\\254-6_wander01_place09_day\\254-6_cam03_wander01_place09_day_winter_resized.mp4 to G:\\내 드라이브\\Project\\RGBLab\\ABB\\Data\\Resized\\06.배회(wander)\\insidedoor_02\\254-6_wander01_place09_day\\254-6_cam03_wander01_place09_day_winter_resized.mp4\n"
     ]
    },
    {
     "name": "stderr",
     "output_type": "stream",
     "text": [
      "Copying files: 1542it [10:57,  1.01it/s]"
     ]
    },
    {
     "name": "stdout",
     "output_type": "stream",
     "text": [
      "Copying G:\\내 드라이브\\Project\\RGBLab\\ABB\\Data\\06.배회(wander)\\insidedoor_02\\254-6_wander01_place09_day\\254-6_cam03_wander01_place09_day_spring_resized.mp4 to G:\\내 드라이브\\Project\\RGBLab\\ABB\\Data\\Resized\\06.배회(wander)\\insidedoor_02\\254-6_wander01_place09_day\\254-6_cam03_wander01_place09_day_spring_resized.mp4\n",
      "Copying G:\\내 드라이브\\Project\\RGBLab\\ABB\\Data\\06.배회(wander)\\insidedoor_03\\263-1\\263-1_cam03_wander03_place02_day_winter_resized.mp4 to G:\\내 드라이브\\Project\\RGBLab\\ABB\\Data\\Resized\\06.배회(wander)\\insidedoor_03\\263-1\\263-1_cam03_wander03_place02_day_winter_resized.mp4\n"
     ]
    },
    {
     "name": "stderr",
     "output_type": "stream",
     "text": [
      "Copying files: 1544it [10:58,  1.18it/s]"
     ]
    },
    {
     "name": "stdout",
     "output_type": "stream",
     "text": [
      "Copying G:\\내 드라이브\\Project\\RGBLab\\ABB\\Data\\06.배회(wander)\\insidedoor_03\\263-1\\263-1_cam02_wander03_place02_day_winter_resized.mp4 to G:\\내 드라이브\\Project\\RGBLab\\ABB\\Data\\Resized\\06.배회(wander)\\insidedoor_03\\263-1\\263-1_cam02_wander03_place02_day_winter_resized.mp4\n"
     ]
    },
    {
     "name": "stderr",
     "output_type": "stream",
     "text": [
      "Copying files: 1545it [10:59,  1.13it/s]"
     ]
    },
    {
     "name": "stdout",
     "output_type": "stream",
     "text": [
      "Copying G:\\내 드라이브\\Project\\RGBLab\\ABB\\Data\\06.배회(wander)\\insidedoor_03\\263-1\\263-1_cam02_wander03_place02_day_summer_resized.mp4 to G:\\내 드라이브\\Project\\RGBLab\\ABB\\Data\\Resized\\06.배회(wander)\\insidedoor_03\\263-1\\263-1_cam02_wander03_place02_day_summer_resized.mp4\n"
     ]
    },
    {
     "name": "stderr",
     "output_type": "stream",
     "text": [
      "Copying files: 1549it [11:02,  1.52it/s]"
     ]
    },
    {
     "name": "stdout",
     "output_type": "stream",
     "text": [
      "Copying G:\\내 드라이브\\Project\\RGBLab\\ABB\\Data\\06.배회(wander)\\insidedoor_03\\263-1\\263-1_cam01_wander03_place02_day_summer_resized.mp4 to G:\\내 드라이브\\Project\\RGBLab\\ABB\\Data\\Resized\\06.배회(wander)\\insidedoor_03\\263-1\\263-1_cam01_wander03_place02_day_summer_resized.mp4\n",
      "Copying G:\\내 드라이브\\Project\\RGBLab\\ABB\\Data\\06.배회(wander)\\insidedoor_03\\263-1\\263-1_cam01_wander03_place02_day_winter_resized.mp4 to G:\\내 드라이브\\Project\\RGBLab\\ABB\\Data\\Resized\\06.배회(wander)\\insidedoor_03\\263-1\\263-1_cam01_wander03_place02_day_winter_resized.mp4\n",
      "Copying G:\\내 드라이브\\Project\\RGBLab\\ABB\\Data\\06.배회(wander)\\insidedoor_03\\263-1\\263-1_cam01_wander03_place02_day_spring_resized.mp4 to G:\\내 드라이브\\Project\\RGBLab\\ABB\\Data\\Resized\\06.배회(wander)\\insidedoor_03\\263-1\\263-1_cam01_wander03_place02_day_spring_resized.mp4\n",
      "Copying G:\\내 드라이브\\Project\\RGBLab\\ABB\\Data\\06.배회(wander)\\insidedoor_03\\263-1\\263-1_cam02_wander03_place02_day_spring_resized.mp4 to G:\\내 드라이브\\Project\\RGBLab\\ABB\\Data\\Resized\\06.배회(wander)\\insidedoor_03\\263-1\\263-1_cam02_wander03_place02_day_spring_resized.mp4\n"
     ]
    },
    {
     "name": "stderr",
     "output_type": "stream",
     "text": [
      "Copying files: 1550it [11:03,  1.31it/s]"
     ]
    },
    {
     "name": "stdout",
     "output_type": "stream",
     "text": [
      "Copying G:\\내 드라이브\\Project\\RGBLab\\ABB\\Data\\06.배회(wander)\\insidedoor_03\\263-1\\263-1_cam03_wander03_place02_day_spring_resized.mp4 to G:\\내 드라이브\\Project\\RGBLab\\ABB\\Data\\Resized\\06.배회(wander)\\insidedoor_03\\263-1\\263-1_cam03_wander03_place02_day_spring_resized.mp4\n"
     ]
    },
    {
     "name": "stderr",
     "output_type": "stream",
     "text": [
      "Copying files: 1551it [11:04,  1.21it/s]"
     ]
    },
    {
     "name": "stdout",
     "output_type": "stream",
     "text": [
      "Copying G:\\내 드라이브\\Project\\RGBLab\\ABB\\Data\\06.배회(wander)\\insidedoor_03\\263-1\\263-1_cam03_wander03_place02_day_summer_resized.mp4 to G:\\내 드라이브\\Project\\RGBLab\\ABB\\Data\\Resized\\06.배회(wander)\\insidedoor_03\\263-1\\263-1_cam03_wander03_place02_day_summer_resized.mp4\n"
     ]
    },
    {
     "name": "stderr",
     "output_type": "stream",
     "text": [
      "Copying files: 1552it [11:06,  1.11s/it]"
     ]
    },
    {
     "name": "stdout",
     "output_type": "stream",
     "text": [
      "Copying G:\\내 드라이브\\Project\\RGBLab\\ABB\\Data\\06.배회(wander)\\insidedoor_03\\263-2\\263-2_cam02_wander03_place02_day_winter_resized.mp4 to G:\\내 드라이브\\Project\\RGBLab\\ABB\\Data\\Resized\\06.배회(wander)\\insidedoor_03\\263-2\\263-2_cam02_wander03_place02_day_winter_resized.mp4\n"
     ]
    },
    {
     "name": "stderr",
     "output_type": "stream",
     "text": [
      "Copying files: 1553it [11:07,  1.12s/it]"
     ]
    },
    {
     "name": "stdout",
     "output_type": "stream",
     "text": [
      "Copying G:\\내 드라이브\\Project\\RGBLab\\ABB\\Data\\06.배회(wander)\\insidedoor_03\\263-2\\263-2_cam03_wander03_place02_day_spring_resized.mp4 to G:\\내 드라이브\\Project\\RGBLab\\ABB\\Data\\Resized\\06.배회(wander)\\insidedoor_03\\263-2\\263-2_cam03_wander03_place02_day_spring_resized.mp4\n"
     ]
    },
    {
     "name": "stderr",
     "output_type": "stream",
     "text": [
      "Copying files: 1554it [11:08,  1.10s/it]"
     ]
    },
    {
     "name": "stdout",
     "output_type": "stream",
     "text": [
      "Copying G:\\내 드라이브\\Project\\RGBLab\\ABB\\Data\\06.배회(wander)\\insidedoor_03\\263-2\\263-2_cam03_wander03_place02_day_summer_resized.mp4 to G:\\내 드라이브\\Project\\RGBLab\\ABB\\Data\\Resized\\06.배회(wander)\\insidedoor_03\\263-2\\263-2_cam03_wander03_place02_day_summer_resized.mp4\n"
     ]
    },
    {
     "name": "stderr",
     "output_type": "stream",
     "text": [
      "Copying files: 1555it [11:09,  1.05s/it]"
     ]
    },
    {
     "name": "stdout",
     "output_type": "stream",
     "text": [
      "Copying G:\\내 드라이브\\Project\\RGBLab\\ABB\\Data\\06.배회(wander)\\insidedoor_03\\263-2\\263-2_cam01_wander03_place02_day_spring_resized.mp4 to G:\\내 드라이브\\Project\\RGBLab\\ABB\\Data\\Resized\\06.배회(wander)\\insidedoor_03\\263-2\\263-2_cam01_wander03_place02_day_spring_resized.mp4\n"
     ]
    },
    {
     "name": "stderr",
     "output_type": "stream",
     "text": [
      "Copying files: 1556it [11:10,  1.07s/it]"
     ]
    },
    {
     "name": "stdout",
     "output_type": "stream",
     "text": [
      "Copying G:\\내 드라이브\\Project\\RGBLab\\ABB\\Data\\06.배회(wander)\\insidedoor_03\\263-2\\263-2_cam01_wander03_place02_day_winter_resized.mp4 to G:\\내 드라이브\\Project\\RGBLab\\ABB\\Data\\Resized\\06.배회(wander)\\insidedoor_03\\263-2\\263-2_cam01_wander03_place02_day_winter_resized.mp4\n",
      "Copying G:\\내 드라이브\\Project\\RGBLab\\ABB\\Data\\06.배회(wander)\\insidedoor_03\\263-2\\263-2_cam02_wander03_place02_day_summer_resized.mp4 to G:\\내 드라이브\\Project\\RGBLab\\ABB\\Data\\Resized\\06.배회(wander)\\insidedoor_03\\263-2\\263-2_cam02_wander03_place02_day_summer_resized.mp4\n"
     ]
    },
    {
     "name": "stderr",
     "output_type": "stream",
     "text": [
      "Copying files: 1558it [11:11,  1.17it/s]"
     ]
    },
    {
     "name": "stdout",
     "output_type": "stream",
     "text": [
      "Copying G:\\내 드라이브\\Project\\RGBLab\\ABB\\Data\\06.배회(wander)\\insidedoor_03\\263-2\\263-2_cam01_wander03_place02_day_summer_resized.mp4 to G:\\내 드라이브\\Project\\RGBLab\\ABB\\Data\\Resized\\06.배회(wander)\\insidedoor_03\\263-2\\263-2_cam01_wander03_place02_day_summer_resized.mp4\n",
      "Copying G:\\내 드라이브\\Project\\RGBLab\\ABB\\Data\\06.배회(wander)\\insidedoor_03\\263-2\\263-2_cam02_wander03_place02_day_spring_resized.mp4 to G:\\내 드라이브\\Project\\RGBLab\\ABB\\Data\\Resized\\06.배회(wander)\\insidedoor_03\\263-2\\263-2_cam02_wander03_place02_day_spring_resized.mp4\n"
     ]
    },
    {
     "name": "stderr",
     "output_type": "stream",
     "text": [
      "Copying files: 1560it [11:12,  1.36it/s]"
     ]
    },
    {
     "name": "stdout",
     "output_type": "stream",
     "text": [
      "Copying G:\\내 드라이브\\Project\\RGBLab\\ABB\\Data\\06.배회(wander)\\insidedoor_03\\263-2\\263-2_cam03_wander03_place02_day_winter_resized.mp4 to G:\\내 드라이브\\Project\\RGBLab\\ABB\\Data\\Resized\\06.배회(wander)\\insidedoor_03\\263-2\\263-2_cam03_wander03_place02_day_winter_resized.mp4\n"
     ]
    },
    {
     "name": "stderr",
     "output_type": "stream",
     "text": [
      "Copying files: 1561it [11:14,  1.03s/it]"
     ]
    },
    {
     "name": "stdout",
     "output_type": "stream",
     "text": [
      "Copying G:\\내 드라이브\\Project\\RGBLab\\ABB\\Data\\06.배회(wander)\\insidedoor_03\\263-3\\263-3_cam03_wander03_place02_day_winter_resized.mp4 to G:\\내 드라이브\\Project\\RGBLab\\ABB\\Data\\Resized\\06.배회(wander)\\insidedoor_03\\263-3\\263-3_cam03_wander03_place02_day_winter_resized.mp4\n"
     ]
    },
    {
     "name": "stderr",
     "output_type": "stream",
     "text": [
      "Copying files: 1562it [11:15,  1.00it/s]"
     ]
    },
    {
     "name": "stdout",
     "output_type": "stream",
     "text": [
      "Copying G:\\내 드라이브\\Project\\RGBLab\\ABB\\Data\\06.배회(wander)\\insidedoor_03\\263-3\\263-3_cam02_wander03_place02_day_winter_resized.mp4 to G:\\내 드라이브\\Project\\RGBLab\\ABB\\Data\\Resized\\06.배회(wander)\\insidedoor_03\\263-3\\263-3_cam02_wander03_place02_day_winter_resized.mp4\n"
     ]
    },
    {
     "name": "stderr",
     "output_type": "stream",
     "text": [
      "Copying files: 1563it [11:18,  1.39s/it]"
     ]
    },
    {
     "name": "stdout",
     "output_type": "stream",
     "text": [
      "Copying G:\\내 드라이브\\Project\\RGBLab\\ABB\\Data\\06.배회(wander)\\insidedoor_03\\263-3\\263-3_cam02_wander03_place02_day_summer_resized.mp4 to G:\\내 드라이브\\Project\\RGBLab\\ABB\\Data\\Resized\\06.배회(wander)\\insidedoor_03\\263-3\\263-3_cam02_wander03_place02_day_summer_resized.mp4\n",
      "Copying G:\\내 드라이브\\Project\\RGBLab\\ABB\\Data\\06.배회(wander)\\insidedoor_03\\263-3\\263-3_cam03_wander03_place02_day_spring_resized.mp4 to G:\\내 드라이브\\Project\\RGBLab\\ABB\\Data\\Resized\\06.배회(wander)\\insidedoor_03\\263-3\\263-3_cam03_wander03_place02_day_spring_resized.mp4\n"
     ]
    },
    {
     "name": "stderr",
     "output_type": "stream",
     "text": [
      "Copying files: 1565it [11:19,  1.04s/it]"
     ]
    },
    {
     "name": "stdout",
     "output_type": "stream",
     "text": [
      "Copying G:\\내 드라이브\\Project\\RGBLab\\ABB\\Data\\06.배회(wander)\\insidedoor_03\\263-3\\263-3_cam03_wander03_place02_day_summer_resized.mp4 to G:\\내 드라이브\\Project\\RGBLab\\ABB\\Data\\Resized\\06.배회(wander)\\insidedoor_03\\263-3\\263-3_cam03_wander03_place02_day_summer_resized.mp4\n"
     ]
    },
    {
     "name": "stderr",
     "output_type": "stream",
     "text": [
      "Copying files: 1566it [11:21,  1.19s/it]"
     ]
    },
    {
     "name": "stdout",
     "output_type": "stream",
     "text": [
      "Copying G:\\내 드라이브\\Project\\RGBLab\\ABB\\Data\\06.배회(wander)\\insidedoor_03\\263-3\\263-3_cam01_wander03_place02_day_winter_resized.mp4 to G:\\내 드라이브\\Project\\RGBLab\\ABB\\Data\\Resized\\06.배회(wander)\\insidedoor_03\\263-3\\263-3_cam01_wander03_place02_day_winter_resized.mp4\n"
     ]
    },
    {
     "name": "stderr",
     "output_type": "stream",
     "text": [
      "Copying files: 1567it [11:23,  1.50s/it]"
     ]
    },
    {
     "name": "stdout",
     "output_type": "stream",
     "text": [
      "Copying G:\\내 드라이브\\Project\\RGBLab\\ABB\\Data\\06.배회(wander)\\insidedoor_03\\263-3\\263-3_cam01_wander03_place02_day_spring_resized.mp4 to G:\\내 드라이브\\Project\\RGBLab\\ABB\\Data\\Resized\\06.배회(wander)\\insidedoor_03\\263-3\\263-3_cam01_wander03_place02_day_spring_resized.mp4\n"
     ]
    },
    {
     "name": "stderr",
     "output_type": "stream",
     "text": [
      "Copying files: 1568it [11:24,  1.38s/it]"
     ]
    },
    {
     "name": "stdout",
     "output_type": "stream",
     "text": [
      "Copying G:\\내 드라이브\\Project\\RGBLab\\ABB\\Data\\06.배회(wander)\\insidedoor_03\\263-3\\263-3_cam01_wander03_place02_day_summer_resized.mp4 to G:\\내 드라이브\\Project\\RGBLab\\ABB\\Data\\Resized\\06.배회(wander)\\insidedoor_03\\263-3\\263-3_cam01_wander03_place02_day_summer_resized.mp4\n"
     ]
    },
    {
     "name": "stderr",
     "output_type": "stream",
     "text": [
      "Copying files: 1569it [11:25,  1.30s/it]"
     ]
    },
    {
     "name": "stdout",
     "output_type": "stream",
     "text": [
      "Copying G:\\내 드라이브\\Project\\RGBLab\\ABB\\Data\\06.배회(wander)\\insidedoor_03\\263-3\\263-3_cam02_wander03_place02_day_spring_resized.mp4 to G:\\내 드라이브\\Project\\RGBLab\\ABB\\Data\\Resized\\06.배회(wander)\\insidedoor_03\\263-3\\263-3_cam02_wander03_place02_day_spring_resized.mp4\n"
     ]
    },
    {
     "name": "stderr",
     "output_type": "stream",
     "text": [
      "Copying files: 1570it [11:26,  1.27s/it]"
     ]
    },
    {
     "name": "stdout",
     "output_type": "stream",
     "text": [
      "Copying G:\\내 드라이브\\Project\\RGBLab\\ABB\\Data\\06.배회(wander)\\insidedoor_03\\263-4\\263-4_cam03_wander03_place02_day_winter_resized.mp4 to G:\\내 드라이브\\Project\\RGBLab\\ABB\\Data\\Resized\\06.배회(wander)\\insidedoor_03\\263-4\\263-4_cam03_wander03_place02_day_winter_resized.mp4\n"
     ]
    },
    {
     "name": "stderr",
     "output_type": "stream",
     "text": [
      "Copying files: 1571it [11:28,  1.39s/it]"
     ]
    },
    {
     "name": "stdout",
     "output_type": "stream",
     "text": [
      "Copying G:\\내 드라이브\\Project\\RGBLab\\ABB\\Data\\06.배회(wander)\\insidedoor_03\\263-4\\263-4_cam03_wander03_place02_day_summer_resized.mp4 to G:\\내 드라이브\\Project\\RGBLab\\ABB\\Data\\Resized\\06.배회(wander)\\insidedoor_03\\263-4\\263-4_cam03_wander03_place02_day_summer_resized.mp4\n"
     ]
    },
    {
     "name": "stderr",
     "output_type": "stream",
     "text": [
      "Copying files: 1572it [11:29,  1.28s/it]"
     ]
    },
    {
     "name": "stdout",
     "output_type": "stream",
     "text": [
      "Copying G:\\내 드라이브\\Project\\RGBLab\\ABB\\Data\\06.배회(wander)\\insidedoor_03\\263-4\\263-4_cam03_wander03_place02_day_spring_resized.mp4 to G:\\내 드라이브\\Project\\RGBLab\\ABB\\Data\\Resized\\06.배회(wander)\\insidedoor_03\\263-4\\263-4_cam03_wander03_place02_day_spring_resized.mp4\n"
     ]
    },
    {
     "name": "stderr",
     "output_type": "stream",
     "text": [
      "Copying files: 1573it [11:30,  1.21s/it]"
     ]
    },
    {
     "name": "stdout",
     "output_type": "stream",
     "text": [
      "Copying G:\\내 드라이브\\Project\\RGBLab\\ABB\\Data\\06.배회(wander)\\insidedoor_03\\263-4\\263-4_cam01_wander03_place02_day_spring_resized.mp4 to G:\\내 드라이브\\Project\\RGBLab\\ABB\\Data\\Resized\\06.배회(wander)\\insidedoor_03\\263-4\\263-4_cam01_wander03_place02_day_spring_resized.mp4\n"
     ]
    },
    {
     "name": "stderr",
     "output_type": "stream",
     "text": [
      "Copying files: 1574it [11:31,  1.13s/it]"
     ]
    },
    {
     "name": "stdout",
     "output_type": "stream",
     "text": [
      "Copying G:\\내 드라이브\\Project\\RGBLab\\ABB\\Data\\06.배회(wander)\\insidedoor_03\\263-4\\263-4_cam01_wander03_place02_day_summer_resized.mp4 to G:\\내 드라이브\\Project\\RGBLab\\ABB\\Data\\Resized\\06.배회(wander)\\insidedoor_03\\263-4\\263-4_cam01_wander03_place02_day_summer_resized.mp4\n"
     ]
    },
    {
     "name": "stderr",
     "output_type": "stream",
     "text": [
      "Copying files: 1575it [11:32,  1.13s/it]"
     ]
    },
    {
     "name": "stdout",
     "output_type": "stream",
     "text": [
      "Copying G:\\내 드라이브\\Project\\RGBLab\\ABB\\Data\\06.배회(wander)\\insidedoor_03\\263-4\\263-4_cam02_wander03_place02_day_summer_resized.mp4 to G:\\내 드라이브\\Project\\RGBLab\\ABB\\Data\\Resized\\06.배회(wander)\\insidedoor_03\\263-4\\263-4_cam02_wander03_place02_day_summer_resized.mp4\n",
      "Copying G:\\내 드라이브\\Project\\RGBLab\\ABB\\Data\\06.배회(wander)\\insidedoor_03\\263-4\\263-4_cam01_wander03_place02_day_winter_resized.mp4 to G:\\내 드라이브\\Project\\RGBLab\\ABB\\Data\\Resized\\06.배회(wander)\\insidedoor_03\\263-4\\263-4_cam01_wander03_place02_day_winter_resized.mp4\n"
     ]
    },
    {
     "name": "stderr",
     "output_type": "stream",
     "text": [
      "Copying files: 1577it [11:36,  1.37s/it]"
     ]
    },
    {
     "name": "stdout",
     "output_type": "stream",
     "text": [
      "Copying G:\\내 드라이브\\Project\\RGBLab\\ABB\\Data\\06.배회(wander)\\insidedoor_03\\263-4\\263-4_cam02_wander03_place02_day_winter_resized.mp4 to G:\\내 드라이브\\Project\\RGBLab\\ABB\\Data\\Resized\\06.배회(wander)\\insidedoor_03\\263-4\\263-4_cam02_wander03_place02_day_winter_resized.mp4\n"
     ]
    },
    {
     "name": "stderr",
     "output_type": "stream",
     "text": [
      "Copying files: 1578it [11:37,  1.30s/it]"
     ]
    },
    {
     "name": "stdout",
     "output_type": "stream",
     "text": [
      "Copying G:\\내 드라이브\\Project\\RGBLab\\ABB\\Data\\06.배회(wander)\\insidedoor_03\\263-4\\263-4_cam02_wander03_place02_day_spring_resized.mp4 to G:\\내 드라이브\\Project\\RGBLab\\ABB\\Data\\Resized\\06.배회(wander)\\insidedoor_03\\263-4\\263-4_cam02_wander03_place02_day_spring_resized.mp4\n"
     ]
    },
    {
     "name": "stderr",
     "output_type": "stream",
     "text": [
      "Copying files: 1579it [11:38,  1.23s/it]"
     ]
    },
    {
     "name": "stdout",
     "output_type": "stream",
     "text": [
      "Copying G:\\내 드라이브\\Project\\RGBLab\\ABB\\Data\\06.배회(wander)\\insidedoor_03\\263-5\\263-5_cam03_wander03_place02_day_spring_resized.mp4 to G:\\내 드라이브\\Project\\RGBLab\\ABB\\Data\\Resized\\06.배회(wander)\\insidedoor_03\\263-5\\263-5_cam03_wander03_place02_day_spring_resized.mp4\n"
     ]
    },
    {
     "name": "stderr",
     "output_type": "stream",
     "text": [
      "Copying files: 1580it [11:39,  1.22s/it]"
     ]
    },
    {
     "name": "stdout",
     "output_type": "stream",
     "text": [
      "Copying G:\\내 드라이브\\Project\\RGBLab\\ABB\\Data\\06.배회(wander)\\insidedoor_03\\263-5\\263-5_cam03_wander03_place02_day_summer_resized.mp4 to G:\\내 드라이브\\Project\\RGBLab\\ABB\\Data\\Resized\\06.배회(wander)\\insidedoor_03\\263-5\\263-5_cam03_wander03_place02_day_summer_resized.mp4\n",
      "Copying G:\\내 드라이브\\Project\\RGBLab\\ABB\\Data\\06.배회(wander)\\insidedoor_03\\263-5\\263-5_cam02_wander03_place02_day_winter_resized.mp4 to G:\\내 드라이브\\Project\\RGBLab\\ABB\\Data\\Resized\\06.배회(wander)\\insidedoor_03\\263-5\\263-5_cam02_wander03_place02_day_winter_resized.mp4\n"
     ]
    },
    {
     "name": "stderr",
     "output_type": "stream",
     "text": [
      "Copying files: 1582it [11:40,  1.08it/s]"
     ]
    },
    {
     "name": "stdout",
     "output_type": "stream",
     "text": [
      "Copying G:\\내 드라이브\\Project\\RGBLab\\ABB\\Data\\06.배회(wander)\\insidedoor_03\\263-5\\263-5_cam03_wander03_place02_day_winter_resized.mp4 to G:\\내 드라이브\\Project\\RGBLab\\ABB\\Data\\Resized\\06.배회(wander)\\insidedoor_03\\263-5\\263-5_cam03_wander03_place02_day_winter_resized.mp4\n"
     ]
    },
    {
     "name": "stderr",
     "output_type": "stream",
     "text": [
      "Copying files: 1583it [11:42,  1.13s/it]"
     ]
    },
    {
     "name": "stdout",
     "output_type": "stream",
     "text": [
      "Copying G:\\내 드라이브\\Project\\RGBLab\\ABB\\Data\\06.배회(wander)\\insidedoor_03\\263-5\\263-5_cam01_wander03_place02_day_spring_resized.mp4 to G:\\내 드라이브\\Project\\RGBLab\\ABB\\Data\\Resized\\06.배회(wander)\\insidedoor_03\\263-5\\263-5_cam01_wander03_place02_day_spring_resized.mp4\n"
     ]
    },
    {
     "name": "stderr",
     "output_type": "stream",
     "text": [
      "Copying files: 1584it [11:44,  1.36s/it]"
     ]
    },
    {
     "name": "stdout",
     "output_type": "stream",
     "text": [
      "Copying G:\\내 드라이브\\Project\\RGBLab\\ABB\\Data\\06.배회(wander)\\insidedoor_03\\263-5\\263-5_cam01_wander03_place02_day_summer_resized.mp4 to G:\\내 드라이브\\Project\\RGBLab\\ABB\\Data\\Resized\\06.배회(wander)\\insidedoor_03\\263-5\\263-5_cam01_wander03_place02_day_summer_resized.mp4\n"
     ]
    },
    {
     "name": "stderr",
     "output_type": "stream",
     "text": [
      "Copying files: 1585it [11:45,  1.24s/it]"
     ]
    },
    {
     "name": "stdout",
     "output_type": "stream",
     "text": [
      "Copying G:\\내 드라이브\\Project\\RGBLab\\ABB\\Data\\06.배회(wander)\\insidedoor_03\\263-5\\263-5_cam01_wander03_place02_day_winter_resized.mp4 to G:\\내 드라이브\\Project\\RGBLab\\ABB\\Data\\Resized\\06.배회(wander)\\insidedoor_03\\263-5\\263-5_cam01_wander03_place02_day_winter_resized.mp4\n"
     ]
    },
    {
     "name": "stderr",
     "output_type": "stream",
     "text": [
      "Copying files: 1588it [11:46,  1.42it/s]"
     ]
    },
    {
     "name": "stdout",
     "output_type": "stream",
     "text": [
      "Copying G:\\내 드라이브\\Project\\RGBLab\\ABB\\Data\\06.배회(wander)\\insidedoor_03\\263-5\\263-5_cam02_wander03_place02_day_summer_resized.mp4 to G:\\내 드라이브\\Project\\RGBLab\\ABB\\Data\\Resized\\06.배회(wander)\\insidedoor_03\\263-5\\263-5_cam02_wander03_place02_day_summer_resized.mp4\n",
      "Copying G:\\내 드라이브\\Project\\RGBLab\\ABB\\Data\\06.배회(wander)\\insidedoor_03\\263-5\\263-5_cam02_wander03_place02_day_spring_resized.mp4 to G:\\내 드라이브\\Project\\RGBLab\\ABB\\Data\\Resized\\06.배회(wander)\\insidedoor_03\\263-5\\263-5_cam02_wander03_place02_day_spring_resized.mp4\n",
      "Copying G:\\내 드라이브\\Project\\RGBLab\\ABB\\Data\\06.배회(wander)\\outsidedoor_01\\122-1\\122-1_cam01_wander02_place01_day_summer_resized.mp4 to G:\\내 드라이브\\Project\\RGBLab\\ABB\\Data\\Resized\\06.배회(wander)\\outsidedoor_01\\122-1\\122-1_cam01_wander02_place01_day_summer_resized.mp4\n"
     ]
    },
    {
     "name": "stderr",
     "output_type": "stream",
     "text": [
      "Copying files: 1589it [11:54,  2.34s/it]"
     ]
    },
    {
     "name": "stdout",
     "output_type": "stream",
     "text": [
      "Copying G:\\내 드라이브\\Project\\RGBLab\\ABB\\Data\\06.배회(wander)\\outsidedoor_01\\122-1\\122-1_cam01_wander02_place01_day_spring_resized.mp4 to G:\\내 드라이브\\Project\\RGBLab\\ABB\\Data\\Resized\\06.배회(wander)\\outsidedoor_01\\122-1\\122-1_cam01_wander02_place01_day_spring_resized.mp4\n"
     ]
    },
    {
     "name": "stderr",
     "output_type": "stream",
     "text": [
      "Copying files: 1590it [11:56,  2.42s/it]"
     ]
    },
    {
     "name": "stdout",
     "output_type": "stream",
     "text": [
      "Copying G:\\내 드라이브\\Project\\RGBLab\\ABB\\Data\\06.배회(wander)\\outsidedoor_01\\122-3\\122-3_cam01_wander02_place01_day_spring_resized.mp4 to G:\\내 드라이브\\Project\\RGBLab\\ABB\\Data\\Resized\\06.배회(wander)\\outsidedoor_01\\122-3\\122-3_cam01_wander02_place01_day_spring_resized.mp4\n"
     ]
    },
    {
     "name": "stderr",
     "output_type": "stream",
     "text": [
      "Copying files: 1591it [12:09,  5.08s/it]"
     ]
    },
    {
     "name": "stdout",
     "output_type": "stream",
     "text": [
      "Copying G:\\내 드라이브\\Project\\RGBLab\\ABB\\Data\\06.배회(wander)\\outsidedoor_01\\122-4\\122-4_cam01_wander02_place01_day_summer_resized.mp4 to G:\\내 드라이브\\Project\\RGBLab\\ABB\\Data\\Resized\\06.배회(wander)\\outsidedoor_01\\122-4\\122-4_cam01_wander02_place01_day_summer_resized.mp4\n"
     ]
    },
    {
     "name": "stderr",
     "output_type": "stream",
     "text": [
      "Copying files: 1593it [12:11,  3.11s/it]"
     ]
    },
    {
     "name": "stdout",
     "output_type": "stream",
     "text": [
      "Copying G:\\내 드라이브\\Project\\RGBLab\\ABB\\Data\\06.배회(wander)\\outsidedoor_01\\122-4\\122-4_cam01_wander02_place01_day_spring_resized.mp4 to G:\\내 드라이브\\Project\\RGBLab\\ABB\\Data\\Resized\\06.배회(wander)\\outsidedoor_01\\122-4\\122-4_cam01_wander02_place01_day_spring_resized.mp4\n"
     ]
    },
    {
     "name": "stderr",
     "output_type": "stream",
     "text": [
      "Copying files: 1593it [12:11,  3.11s/it]"
     ]
    },
    {
     "name": "stdout",
     "output_type": "stream",
     "text": [
      "Copying G:\\내 드라이브\\Project\\RGBLab\\ABB\\Data\\06.배회(wander)\\outsidedoor_01\\122-5\\122-5_cam01_wander02_place01_day_summer_resized.mp4 to G:\\내 드라이브\\Project\\RGBLab\\ABB\\Data\\Resized\\06.배회(wander)\\outsidedoor_01\\122-5\\122-5_cam01_wander02_place01_day_summer_resized.mp4\n"
     ]
    },
    {
     "name": "stderr",
     "output_type": "stream",
     "text": [
      "Copying files: 1594it [12:18,  4.14s/it]"
     ]
    },
    {
     "name": "stdout",
     "output_type": "stream",
     "text": [
      "Copying G:\\내 드라이브\\Project\\RGBLab\\ABB\\Data\\06.배회(wander)\\outsidedoor_01\\122-5\\122-5_cam01_wander02_place01_day_spring_resized.mp4 to G:\\내 드라이브\\Project\\RGBLab\\ABB\\Data\\Resized\\06.배회(wander)\\outsidedoor_01\\122-5\\122-5_cam01_wander02_place01_day_spring_resized.mp4\n"
     ]
    },
    {
     "name": "stderr",
     "output_type": "stream",
     "text": [
      "Copying files: 1595it [12:25,  5.23s/it]"
     ]
    },
    {
     "name": "stdout",
     "output_type": "stream",
     "text": [
      "Copying G:\\내 드라이브\\Project\\RGBLab\\ABB\\Data\\06.배회(wander)\\outsidedoor_01\\122-6\\122-6_cam01_wander02_place01_day_summer_resized.mp4 to G:\\내 드라이브\\Project\\RGBLab\\ABB\\Data\\Resized\\06.배회(wander)\\outsidedoor_01\\122-6\\122-6_cam01_wander02_place01_day_summer_resized.mp4\n"
     ]
    },
    {
     "name": "stderr",
     "output_type": "stream",
     "text": [
      "Copying files: 1596it [12:28,  4.36s/it]"
     ]
    },
    {
     "name": "stdout",
     "output_type": "stream",
     "text": [
      "Copying G:\\내 드라이브\\Project\\RGBLab\\ABB\\Data\\06.배회(wander)\\outsidedoor_01\\123-1\\123-1_cam02_wander02_place02_night_spring_resized.mp4 to G:\\내 드라이브\\Project\\RGBLab\\ABB\\Data\\Resized\\06.배회(wander)\\outsidedoor_01\\123-1\\123-1_cam02_wander02_place02_night_spring_resized.mp4\n"
     ]
    },
    {
     "name": "stderr",
     "output_type": "stream",
     "text": [
      "Copying files: 1597it [12:28,  3.15s/it]"
     ]
    },
    {
     "name": "stdout",
     "output_type": "stream",
     "text": [
      "Copying G:\\내 드라이브\\Project\\RGBLab\\ABB\\Data\\06.배회(wander)\\outsidedoor_01\\123-1\\123-1_cam02_wander02_place02_night_summer_resized.mp4 to G:\\내 드라이브\\Project\\RGBLab\\ABB\\Data\\Resized\\06.배회(wander)\\outsidedoor_01\\123-1\\123-1_cam02_wander02_place02_night_summer_resized.mp4\n"
     ]
    },
    {
     "name": "stderr",
     "output_type": "stream",
     "text": [
      "Copying files: 1598it [12:37,  4.91s/it]"
     ]
    },
    {
     "name": "stdout",
     "output_type": "stream",
     "text": [
      "Copying G:\\내 드라이브\\Project\\RGBLab\\ABB\\Data\\06.배회(wander)\\outsidedoor_01\\123-1\\123-1_cam01_wander02_place02_night_spring_resized.mp4 to G:\\내 드라이브\\Project\\RGBLab\\ABB\\Data\\Resized\\06.배회(wander)\\outsidedoor_01\\123-1\\123-1_cam01_wander02_place02_night_spring_resized.mp4\n"
     ]
    },
    {
     "name": "stderr",
     "output_type": "stream",
     "text": [
      "Copying files: 1599it [12:42,  5.02s/it]"
     ]
    },
    {
     "name": "stdout",
     "output_type": "stream",
     "text": [
      "Copying G:\\내 드라이브\\Project\\RGBLab\\ABB\\Data\\06.배회(wander)\\outsidedoor_01\\123-1\\123-1_cam01_wander02_place02_night_summer_resized.mp4 to G:\\내 드라이브\\Project\\RGBLab\\ABB\\Data\\Resized\\06.배회(wander)\\outsidedoor_01\\123-1\\123-1_cam01_wander02_place02_night_summer_resized.mp4\n"
     ]
    },
    {
     "name": "stderr",
     "output_type": "stream",
     "text": [
      "Copying files: 1600it [12:46,  4.62s/it]"
     ]
    },
    {
     "name": "stdout",
     "output_type": "stream",
     "text": [
      "Copying G:\\내 드라이브\\Project\\RGBLab\\ABB\\Data\\06.배회(wander)\\outsidedoor_01\\123-2\\123-2_cam02_wander02_place02_night_spring_resized.mp4 to G:\\내 드라이브\\Project\\RGBLab\\ABB\\Data\\Resized\\06.배회(wander)\\outsidedoor_01\\123-2\\123-2_cam02_wander02_place02_night_spring_resized.mp4\n"
     ]
    },
    {
     "name": "stderr",
     "output_type": "stream",
     "text": [
      "Copying files: 1601it [12:54,  5.62s/it]"
     ]
    },
    {
     "name": "stdout",
     "output_type": "stream",
     "text": [
      "Copying G:\\내 드라이브\\Project\\RGBLab\\ABB\\Data\\06.배회(wander)\\outsidedoor_01\\123-2\\123-2_cam02_wander02_place02_night_summer_resized.mp4 to G:\\내 드라이브\\Project\\RGBLab\\ABB\\Data\\Resized\\06.배회(wander)\\outsidedoor_01\\123-2\\123-2_cam02_wander02_place02_night_summer_resized.mp4\n"
     ]
    },
    {
     "name": "stderr",
     "output_type": "stream",
     "text": [
      "Copying files: 1602it [12:57,  4.82s/it]"
     ]
    },
    {
     "name": "stdout",
     "output_type": "stream",
     "text": [
      "Copying G:\\내 드라이브\\Project\\RGBLab\\ABB\\Data\\06.배회(wander)\\outsidedoor_01\\123-2\\123-2_cam01_wander02_place02_night_spring_resized.mp4 to G:\\내 드라이브\\Project\\RGBLab\\ABB\\Data\\Resized\\06.배회(wander)\\outsidedoor_01\\123-2\\123-2_cam01_wander02_place02_night_spring_resized.mp4\n"
     ]
    },
    {
     "name": "stderr",
     "output_type": "stream",
     "text": [
      "Copying files: 1603it [12:57,  3.45s/it]"
     ]
    },
    {
     "name": "stdout",
     "output_type": "stream",
     "text": [
      "Copying G:\\내 드라이브\\Project\\RGBLab\\ABB\\Data\\06.배회(wander)\\outsidedoor_01\\123-2\\123-2_cam01_wander02_place02_night_summer_resized.mp4 to G:\\내 드라이브\\Project\\RGBLab\\ABB\\Data\\Resized\\06.배회(wander)\\outsidedoor_01\\123-2\\123-2_cam01_wander02_place02_night_summer_resized.mp4\n"
     ]
    },
    {
     "name": "stderr",
     "output_type": "stream",
     "text": [
      "Copying files: 1604it [12:57,  2.49s/it]"
     ]
    },
    {
     "name": "stdout",
     "output_type": "stream",
     "text": [
      "Copying G:\\내 드라이브\\Project\\RGBLab\\ABB\\Data\\06.배회(wander)\\outsidedoor_01\\123-3\\123-3_cam02_wander02_place02_night_spring_resized.mp4 to G:\\내 드라이브\\Project\\RGBLab\\ABB\\Data\\Resized\\06.배회(wander)\\outsidedoor_01\\123-3\\123-3_cam02_wander02_place02_night_spring_resized.mp4\n"
     ]
    },
    {
     "name": "stderr",
     "output_type": "stream",
     "text": [
      "Copying files: 1605it [13:10,  5.43s/it]"
     ]
    },
    {
     "name": "stdout",
     "output_type": "stream",
     "text": [
      "Copying G:\\내 드라이브\\Project\\RGBLab\\ABB\\Data\\06.배회(wander)\\outsidedoor_01\\123-3\\123-3_cam02_wander02_place02_night_summer_resized.mp4 to G:\\내 드라이브\\Project\\RGBLab\\ABB\\Data\\Resized\\06.배회(wander)\\outsidedoor_01\\123-3\\123-3_cam02_wander02_place02_night_summer_resized.mp4\n"
     ]
    },
    {
     "name": "stderr",
     "output_type": "stream",
     "text": [
      "Copying files: 1606it [13:10,  3.89s/it]"
     ]
    },
    {
     "name": "stdout",
     "output_type": "stream",
     "text": [
      "Copying G:\\내 드라이브\\Project\\RGBLab\\ABB\\Data\\06.배회(wander)\\outsidedoor_01\\123-3\\123-3_cam01_wander02_place02_night_spring_resized.mp4 to G:\\내 드라이브\\Project\\RGBLab\\ABB\\Data\\Resized\\06.배회(wander)\\outsidedoor_01\\123-3\\123-3_cam01_wander02_place02_night_spring_resized.mp4\n"
     ]
    },
    {
     "name": "stderr",
     "output_type": "stream",
     "text": [
      "Copying files: 1607it [13:10,  2.81s/it]"
     ]
    },
    {
     "name": "stdout",
     "output_type": "stream",
     "text": [
      "Copying G:\\내 드라이브\\Project\\RGBLab\\ABB\\Data\\06.배회(wander)\\outsidedoor_01\\123-3\\123-3_cam01_wander02_place02_night_summer_resized.mp4 to G:\\내 드라이브\\Project\\RGBLab\\ABB\\Data\\Resized\\06.배회(wander)\\outsidedoor_01\\123-3\\123-3_cam01_wander02_place02_night_summer_resized.mp4\n"
     ]
    },
    {
     "name": "stderr",
     "output_type": "stream",
     "text": [
      "Copying files: 1608it [13:11,  2.05s/it]"
     ]
    },
    {
     "name": "stdout",
     "output_type": "stream",
     "text": [
      "Copying G:\\내 드라이브\\Project\\RGBLab\\ABB\\Data\\06.배회(wander)\\outsidedoor_01\\123-4\\123-4_cam01_wander02_place02_night_summer_resized.mp4 to G:\\내 드라이브\\Project\\RGBLab\\ABB\\Data\\Resized\\06.배회(wander)\\outsidedoor_01\\123-4\\123-4_cam01_wander02_place02_night_summer_resized.mp4\n"
     ]
    },
    {
     "name": "stderr",
     "output_type": "stream",
     "text": [
      "Copying files: 1609it [13:21,  4.61s/it]"
     ]
    },
    {
     "name": "stdout",
     "output_type": "stream",
     "text": [
      "Copying G:\\내 드라이브\\Project\\RGBLab\\ABB\\Data\\06.배회(wander)\\outsidedoor_01\\123-4\\123-4_cam02_wander02_place02_night_spring_resized.mp4 to G:\\내 드라이브\\Project\\RGBLab\\ABB\\Data\\Resized\\06.배회(wander)\\outsidedoor_01\\123-4\\123-4_cam02_wander02_place02_night_spring_resized.mp4\n"
     ]
    },
    {
     "name": "stderr",
     "output_type": "stream",
     "text": [
      "Copying files: 1610it [13:21,  3.31s/it]"
     ]
    },
    {
     "name": "stdout",
     "output_type": "stream",
     "text": [
      "Copying G:\\내 드라이브\\Project\\RGBLab\\ABB\\Data\\06.배회(wander)\\outsidedoor_01\\123-4\\123-4_cam02_wander02_place02_night_summer_resized.mp4 to G:\\내 드라이브\\Project\\RGBLab\\ABB\\Data\\Resized\\06.배회(wander)\\outsidedoor_01\\123-4\\123-4_cam02_wander02_place02_night_summer_resized.mp4\n"
     ]
    },
    {
     "name": "stderr",
     "output_type": "stream",
     "text": [
      "Copying files: 1611it [13:24,  3.14s/it]"
     ]
    },
    {
     "name": "stdout",
     "output_type": "stream",
     "text": [
      "Copying G:\\내 드라이브\\Project\\RGBLab\\ABB\\Data\\06.배회(wander)\\outsidedoor_01\\123-4\\123-4_cam01_wander02_place02_night_spring_resized.mp4 to G:\\내 드라이브\\Project\\RGBLab\\ABB\\Data\\Resized\\06.배회(wander)\\outsidedoor_01\\123-4\\123-4_cam01_wander02_place02_night_spring_resized.mp4\n"
     ]
    },
    {
     "name": "stderr",
     "output_type": "stream",
     "text": [
      "Copying files: 1612it [13:34,  5.01s/it]"
     ]
    },
    {
     "name": "stdout",
     "output_type": "stream",
     "text": [
      "Copying G:\\내 드라이브\\Project\\RGBLab\\ABB\\Data\\06.배회(wander)\\outsidedoor_01\\123-5\\123-5_cam01_wander02_place02_night_summer_resized.mp4 to G:\\내 드라이브\\Project\\RGBLab\\ABB\\Data\\Resized\\06.배회(wander)\\outsidedoor_01\\123-5\\123-5_cam01_wander02_place02_night_summer_resized.mp4\n"
     ]
    },
    {
     "name": "stderr",
     "output_type": "stream",
     "text": [
      "Copying files: 1613it [13:43,  6.27s/it]"
     ]
    },
    {
     "name": "stdout",
     "output_type": "stream",
     "text": [
      "Copying G:\\내 드라이브\\Project\\RGBLab\\ABB\\Data\\06.배회(wander)\\outsidedoor_01\\123-5\\123-5_cam02_wander02_place02_night_spring_resized.mp4 to G:\\내 드라이브\\Project\\RGBLab\\ABB\\Data\\Resized\\06.배회(wander)\\outsidedoor_01\\123-5\\123-5_cam02_wander02_place02_night_spring_resized.mp4\n"
     ]
    },
    {
     "name": "stderr",
     "output_type": "stream",
     "text": [
      "Copying files: 1614it [13:43,  4.47s/it]"
     ]
    },
    {
     "name": "stdout",
     "output_type": "stream",
     "text": [
      "Copying G:\\내 드라이브\\Project\\RGBLab\\ABB\\Data\\06.배회(wander)\\outsidedoor_01\\123-5\\123-5_cam02_wander02_place02_night_summer_resized.mp4 to G:\\내 드라이브\\Project\\RGBLab\\ABB\\Data\\Resized\\06.배회(wander)\\outsidedoor_01\\123-5\\123-5_cam02_wander02_place02_night_summer_resized.mp4\n"
     ]
    },
    {
     "name": "stderr",
     "output_type": "stream",
     "text": [
      "Copying files: 1615it [13:46,  3.91s/it]"
     ]
    },
    {
     "name": "stdout",
     "output_type": "stream",
     "text": [
      "Copying G:\\내 드라이브\\Project\\RGBLab\\ABB\\Data\\06.배회(wander)\\outsidedoor_01\\123-5\\123-5_cam01_wander02_place02_night_spring_resized.mp4 to G:\\내 드라이브\\Project\\RGBLab\\ABB\\Data\\Resized\\06.배회(wander)\\outsidedoor_01\\123-5\\123-5_cam01_wander02_place02_night_spring_resized.mp4\n"
     ]
    },
    {
     "name": "stderr",
     "output_type": "stream",
     "text": [
      "Copying files: 1616it [13:57,  6.27s/it]"
     ]
    },
    {
     "name": "stdout",
     "output_type": "stream",
     "text": [
      "Copying G:\\내 드라이브\\Project\\RGBLab\\ABB\\Data\\06.배회(wander)\\outsidedoor_01\\123-6\\123-6_cam02_wander02_place02_night_spring_resized.mp4 to G:\\내 드라이브\\Project\\RGBLab\\ABB\\Data\\Resized\\06.배회(wander)\\outsidedoor_01\\123-6\\123-6_cam02_wander02_place02_night_spring_resized.mp4\n"
     ]
    },
    {
     "name": "stderr",
     "output_type": "stream",
     "text": [
      "Copying files: 1617it [14:06,  7.01s/it]"
     ]
    },
    {
     "name": "stdout",
     "output_type": "stream",
     "text": [
      "Copying G:\\내 드라이브\\Project\\RGBLab\\ABB\\Data\\06.배회(wander)\\outsidedoor_01\\123-6\\123-6_cam02_wander02_place02_night_summer_resized.mp4 to G:\\내 드라이브\\Project\\RGBLab\\ABB\\Data\\Resized\\06.배회(wander)\\outsidedoor_01\\123-6\\123-6_cam02_wander02_place02_night_summer_resized.mp4\n"
     ]
    },
    {
     "name": "stderr",
     "output_type": "stream",
     "text": [
      "Copying files: 1618it [14:15,  7.60s/it]"
     ]
    },
    {
     "name": "stdout",
     "output_type": "stream",
     "text": [
      "Copying G:\\내 드라이브\\Project\\RGBLab\\ABB\\Data\\06.배회(wander)\\outsidedoor_01\\123-6\\123-6_cam01_wander02_place02_night_spring_resized.mp4 to G:\\내 드라이브\\Project\\RGBLab\\ABB\\Data\\Resized\\06.배회(wander)\\outsidedoor_01\\123-6\\123-6_cam01_wander02_place02_night_spring_resized.mp4\n"
     ]
    },
    {
     "name": "stderr",
     "output_type": "stream",
     "text": [
      "Copying files: 1619it [14:22,  7.54s/it]"
     ]
    },
    {
     "name": "stdout",
     "output_type": "stream",
     "text": [
      "Copying G:\\내 드라이브\\Project\\RGBLab\\ABB\\Data\\06.배회(wander)\\outsidedoor_01\\123-6\\123-6_cam01_wander02_place02_night_summer_resized.mp4 to G:\\내 드라이브\\Project\\RGBLab\\ABB\\Data\\Resized\\06.배회(wander)\\outsidedoor_01\\123-6\\123-6_cam01_wander02_place02_night_summer_resized.mp4\n"
     ]
    },
    {
     "name": "stderr",
     "output_type": "stream",
     "text": [
      "Copying files: 1620it [14:25,  6.13s/it]"
     ]
    },
    {
     "name": "stdout",
     "output_type": "stream",
     "text": [
      "Copying G:\\내 드라이브\\Project\\RGBLab\\ABB\\Data\\06.배회(wander)\\outsidedoor_01\\124-1\\124-1_cam02_wander02_place03_day_spring_resized.mp4 to G:\\내 드라이브\\Project\\RGBLab\\ABB\\Data\\Resized\\06.배회(wander)\\outsidedoor_01\\124-1\\124-1_cam02_wander02_place03_day_spring_resized.mp4\n"
     ]
    },
    {
     "name": "stderr",
     "output_type": "stream",
     "text": [
      "Copying files: 1621it [14:29,  5.45s/it]"
     ]
    },
    {
     "name": "stdout",
     "output_type": "stream",
     "text": [
      "Copying G:\\내 드라이브\\Project\\RGBLab\\ABB\\Data\\06.배회(wander)\\outsidedoor_01\\124-1\\124-1_cam02_wander02_place03_day_summer_resized.mp4 to G:\\내 드라이브\\Project\\RGBLab\\ABB\\Data\\Resized\\06.배회(wander)\\outsidedoor_01\\124-1\\124-1_cam02_wander02_place03_day_summer_resized.mp4\n"
     ]
    },
    {
     "name": "stderr",
     "output_type": "stream",
     "text": [
      "Copying files: 1622it [14:33,  5.09s/it]"
     ]
    },
    {
     "name": "stdout",
     "output_type": "stream",
     "text": [
      "Copying G:\\내 드라이브\\Project\\RGBLab\\ABB\\Data\\06.배회(wander)\\outsidedoor_01\\124-1\\124-1_cam01_wander02_place03_day_spring_resized.mp4 to G:\\내 드라이브\\Project\\RGBLab\\ABB\\Data\\Resized\\06.배회(wander)\\outsidedoor_01\\124-1\\124-1_cam01_wander02_place03_day_spring_resized.mp4\n"
     ]
    },
    {
     "name": "stderr",
     "output_type": "stream",
     "text": [
      "Copying files: 1623it [14:34,  3.64s/it]"
     ]
    },
    {
     "name": "stdout",
     "output_type": "stream",
     "text": [
      "Copying G:\\내 드라이브\\Project\\RGBLab\\ABB\\Data\\06.배회(wander)\\outsidedoor_01\\124-1\\124-1_cam01_wander02_place03_day_summer_resized.mp4 to G:\\내 드라이브\\Project\\RGBLab\\ABB\\Data\\Resized\\06.배회(wander)\\outsidedoor_01\\124-1\\124-1_cam01_wander02_place03_day_summer_resized.mp4\n"
     ]
    },
    {
     "name": "stderr",
     "output_type": "stream",
     "text": [
      "Copying files: 1624it [14:45,  5.93s/it]"
     ]
    },
    {
     "name": "stdout",
     "output_type": "stream",
     "text": [
      "Copying G:\\내 드라이브\\Project\\RGBLab\\ABB\\Data\\06.배회(wander)\\outsidedoor_01\\124-2\\124-2_cam01_wander02_place03_day_summer_resized.mp4 to G:\\내 드라이브\\Project\\RGBLab\\ABB\\Data\\Resized\\06.배회(wander)\\outsidedoor_01\\124-2\\124-2_cam01_wander02_place03_day_summer_resized.mp4\n"
     ]
    },
    {
     "name": "stderr",
     "output_type": "stream",
     "text": [
      "Copying files: 1625it [15:00,  8.57s/it]"
     ]
    },
    {
     "name": "stdout",
     "output_type": "stream",
     "text": [
      "Copying G:\\내 드라이브\\Project\\RGBLab\\ABB\\Data\\06.배회(wander)\\outsidedoor_01\\124-2\\124-2_cam02_wander02_place03_day_spring_resized.mp4 to G:\\내 드라이브\\Project\\RGBLab\\ABB\\Data\\Resized\\06.배회(wander)\\outsidedoor_01\\124-2\\124-2_cam02_wander02_place03_day_spring_resized.mp4\n"
     ]
    },
    {
     "name": "stderr",
     "output_type": "stream",
     "text": [
      "Copying files: 1626it [15:13,  9.89s/it]"
     ]
    },
    {
     "name": "stdout",
     "output_type": "stream",
     "text": [
      "Copying G:\\내 드라이브\\Project\\RGBLab\\ABB\\Data\\06.배회(wander)\\outsidedoor_01\\124-2\\124-2_cam01_wander02_place03_day_spring_resized.mp4 to G:\\내 드라이브\\Project\\RGBLab\\ABB\\Data\\Resized\\06.배회(wander)\\outsidedoor_01\\124-2\\124-2_cam01_wander02_place03_day_spring_resized.mp4\n"
     ]
    },
    {
     "name": "stderr",
     "output_type": "stream",
     "text": [
      "Copying files: 1627it [15:16,  8.02s/it]"
     ]
    },
    {
     "name": "stdout",
     "output_type": "stream",
     "text": [
      "Copying G:\\내 드라이브\\Project\\RGBLab\\ABB\\Data\\06.배회(wander)\\outsidedoor_01\\124-2\\124-2_cam02_wander02_place03_day_summer_resized.mp4 to G:\\내 드라이브\\Project\\RGBLab\\ABB\\Data\\Resized\\06.배회(wander)\\outsidedoor_01\\124-2\\124-2_cam02_wander02_place03_day_summer_resized.mp4\n"
     ]
    },
    {
     "name": "stderr",
     "output_type": "stream",
     "text": [
      "Copying files: 1628it [15:20,  6.64s/it]"
     ]
    },
    {
     "name": "stdout",
     "output_type": "stream",
     "text": [
      "Copying G:\\내 드라이브\\Project\\RGBLab\\ABB\\Data\\06.배회(wander)\\outsidedoor_01\\124-3\\124-3_cam01_wander02_place03_day_summer_resized.mp4 to G:\\내 드라이브\\Project\\RGBLab\\ABB\\Data\\Resized\\06.배회(wander)\\outsidedoor_01\\124-3\\124-3_cam01_wander02_place03_day_summer_resized.mp4\n"
     ]
    },
    {
     "name": "stderr",
     "output_type": "stream",
     "text": [
      "Copying files: 1629it [15:20,  4.72s/it]"
     ]
    },
    {
     "name": "stdout",
     "output_type": "stream",
     "text": [
      "Copying G:\\내 드라이브\\Project\\RGBLab\\ABB\\Data\\06.배회(wander)\\outsidedoor_01\\124-3\\124-3_cam02_wander02_place03_day_spring_resized.mp4 to G:\\내 드라이브\\Project\\RGBLab\\ABB\\Data\\Resized\\06.배회(wander)\\outsidedoor_01\\124-3\\124-3_cam02_wander02_place03_day_spring_resized.mp4\n"
     ]
    },
    {
     "name": "stderr",
     "output_type": "stream",
     "text": [
      "Copying files: 1630it [15:27,  5.31s/it]"
     ]
    },
    {
     "name": "stdout",
     "output_type": "stream",
     "text": [
      "Copying G:\\내 드라이브\\Project\\RGBLab\\ABB\\Data\\06.배회(wander)\\outsidedoor_01\\124-3\\124-3_cam02_wander02_place03_day_summer_resized.mp4 to G:\\내 드라이브\\Project\\RGBLab\\ABB\\Data\\Resized\\06.배회(wander)\\outsidedoor_01\\124-3\\124-3_cam02_wander02_place03_day_summer_resized.mp4\n"
     ]
    },
    {
     "name": "stderr",
     "output_type": "stream",
     "text": [
      "Copying files: 1631it [15:27,  3.84s/it]"
     ]
    },
    {
     "name": "stdout",
     "output_type": "stream",
     "text": [
      "Copying G:\\내 드라이브\\Project\\RGBLab\\ABB\\Data\\06.배회(wander)\\outsidedoor_01\\124-3\\124-3_cam01_wander02_place03_day_spring_resized.mp4 to G:\\내 드라이브\\Project\\RGBLab\\ABB\\Data\\Resized\\06.배회(wander)\\outsidedoor_01\\124-3\\124-3_cam01_wander02_place03_day_spring_resized.mp4\n"
     ]
    },
    {
     "name": "stderr",
     "output_type": "stream",
     "text": [
      "Copying files: 1632it [15:27,  2.76s/it]"
     ]
    },
    {
     "name": "stdout",
     "output_type": "stream",
     "text": [
      "Copying G:\\내 드라이브\\Project\\RGBLab\\ABB\\Data\\06.배회(wander)\\outsidedoor_01\\124-4\\124-4_cam01_wander02_place03_day_spring_resized.mp4 to G:\\내 드라이브\\Project\\RGBLab\\ABB\\Data\\Resized\\06.배회(wander)\\outsidedoor_01\\124-4\\124-4_cam01_wander02_place03_day_spring_resized.mp4\n"
     ]
    },
    {
     "name": "stderr",
     "output_type": "stream",
     "text": [
      "Copying files: 1633it [15:28,  2.00s/it]"
     ]
    },
    {
     "name": "stdout",
     "output_type": "stream",
     "text": [
      "Copying G:\\내 드라이브\\Project\\RGBLab\\ABB\\Data\\06.배회(wander)\\outsidedoor_02\\124-5\\124-5_cam02_wander02_place03_day_spring_resized.mp4 to G:\\내 드라이브\\Project\\RGBLab\\ABB\\Data\\Resized\\06.배회(wander)\\outsidedoor_02\\124-5\\124-5_cam02_wander02_place03_day_spring_resized.mp4\n"
     ]
    },
    {
     "name": "stderr",
     "output_type": "stream",
     "text": [
      "Copying files: 1634it [15:31,  2.41s/it]"
     ]
    },
    {
     "name": "stdout",
     "output_type": "stream",
     "text": [
      "Copying G:\\내 드라이브\\Project\\RGBLab\\ABB\\Data\\06.배회(wander)\\outsidedoor_02\\124-5\\124-5_cam02_wander02_place03_day_summer_resized.mp4 to G:\\내 드라이브\\Project\\RGBLab\\ABB\\Data\\Resized\\06.배회(wander)\\outsidedoor_02\\124-5\\124-5_cam02_wander02_place03_day_summer_resized.mp4\n"
     ]
    },
    {
     "name": "stderr",
     "output_type": "stream",
     "text": [
      "Copying files: 1635it [15:34,  2.61s/it]"
     ]
    },
    {
     "name": "stdout",
     "output_type": "stream",
     "text": [
      "Copying G:\\내 드라이브\\Project\\RGBLab\\ABB\\Data\\06.배회(wander)\\outsidedoor_02\\124-5\\124-5_cam01_wander02_place03_day_spring_resized.mp4 to G:\\내 드라이브\\Project\\RGBLab\\ABB\\Data\\Resized\\06.배회(wander)\\outsidedoor_02\\124-5\\124-5_cam01_wander02_place03_day_spring_resized.mp4\n"
     ]
    },
    {
     "name": "stderr",
     "output_type": "stream",
     "text": [
      "Copying files: 1636it [15:37,  2.81s/it]"
     ]
    },
    {
     "name": "stdout",
     "output_type": "stream",
     "text": [
      "Copying G:\\내 드라이브\\Project\\RGBLab\\ABB\\Data\\06.배회(wander)\\outsidedoor_02\\124-5\\124-5_cam01_wander02_place03_day_summer_resized.mp4 to G:\\내 드라이브\\Project\\RGBLab\\ABB\\Data\\Resized\\06.배회(wander)\\outsidedoor_02\\124-5\\124-5_cam01_wander02_place03_day_summer_resized.mp4\n"
     ]
    },
    {
     "name": "stderr",
     "output_type": "stream",
     "text": [
      "Copying files: 1637it [15:38,  2.05s/it]"
     ]
    },
    {
     "name": "stdout",
     "output_type": "stream",
     "text": [
      "Copying G:\\내 드라이브\\Project\\RGBLab\\ABB\\Data\\06.배회(wander)\\outsidedoor_02\\124-6\\124-6_cam02_wander02_place03_day_summer_resized.mp4 to G:\\내 드라이브\\Project\\RGBLab\\ABB\\Data\\Resized\\06.배회(wander)\\outsidedoor_02\\124-6\\124-6_cam02_wander02_place03_day_summer_resized.mp4\n"
     ]
    },
    {
     "name": "stderr",
     "output_type": "stream",
     "text": [
      "Copying files: 1638it [15:38,  1.52s/it]"
     ]
    },
    {
     "name": "stdout",
     "output_type": "stream",
     "text": [
      "Copying G:\\내 드라이브\\Project\\RGBLab\\ABB\\Data\\06.배회(wander)\\outsidedoor_02\\124-6\\124-6_cam01_wander02_place03_day_summer_resized.mp4 to G:\\내 드라이브\\Project\\RGBLab\\ABB\\Data\\Resized\\06.배회(wander)\\outsidedoor_02\\124-6\\124-6_cam01_wander02_place03_day_summer_resized.mp4\n"
     ]
    },
    {
     "name": "stderr",
     "output_type": "stream",
     "text": [
      "Copying files: 1639it [15:41,  1.91s/it]"
     ]
    },
    {
     "name": "stdout",
     "output_type": "stream",
     "text": [
      "Copying G:\\내 드라이브\\Project\\RGBLab\\ABB\\Data\\06.배회(wander)\\outsidedoor_02\\124-6\\124-6_cam02_wander02_place03_day_spring_resized.mp4 to G:\\내 드라이브\\Project\\RGBLab\\ABB\\Data\\Resized\\06.배회(wander)\\outsidedoor_02\\124-6\\124-6_cam02_wander02_place03_day_spring_resized.mp4\n"
     ]
    },
    {
     "name": "stderr",
     "output_type": "stream",
     "text": [
      "Copying files: 1640it [15:44,  2.22s/it]"
     ]
    },
    {
     "name": "stdout",
     "output_type": "stream",
     "text": [
      "Copying G:\\내 드라이브\\Project\\RGBLab\\ABB\\Data\\06.배회(wander)\\outsidedoor_02\\124-6\\124-6_cam01_wander02_place03_day_spring_resized.mp4 to G:\\내 드라이브\\Project\\RGBLab\\ABB\\Data\\Resized\\06.배회(wander)\\outsidedoor_02\\124-6\\124-6_cam01_wander02_place03_day_spring_resized.mp4\n"
     ]
    },
    {
     "name": "stderr",
     "output_type": "stream",
     "text": [
      "Copying files: 1641it [15:55,  5.09s/it]"
     ]
    },
    {
     "name": "stdout",
     "output_type": "stream",
     "text": [
      "Copying G:\\내 드라이브\\Project\\RGBLab\\ABB\\Data\\06.배회(wander)\\outsidedoor_02\\125-1\\125-1_cam02_wander02_place04_day_spring_resized.mp4 to G:\\내 드라이브\\Project\\RGBLab\\ABB\\Data\\Resized\\06.배회(wander)\\outsidedoor_02\\125-1\\125-1_cam02_wander02_place04_day_spring_resized.mp4\n"
     ]
    },
    {
     "name": "stderr",
     "output_type": "stream",
     "text": [
      "Copying files: 1642it [15:59,  4.76s/it]"
     ]
    },
    {
     "name": "stdout",
     "output_type": "stream",
     "text": [
      "Copying G:\\내 드라이브\\Project\\RGBLab\\ABB\\Data\\06.배회(wander)\\outsidedoor_02\\125-1\\125-1_cam02_wander02_place04_day_summer_resized.mp4 to G:\\내 드라이브\\Project\\RGBLab\\ABB\\Data\\Resized\\06.배회(wander)\\outsidedoor_02\\125-1\\125-1_cam02_wander02_place04_day_summer_resized.mp4\n"
     ]
    },
    {
     "name": "stderr",
     "output_type": "stream",
     "text": [
      "Copying files: 1643it [16:08,  5.88s/it]"
     ]
    },
    {
     "name": "stdout",
     "output_type": "stream",
     "text": [
      "Copying G:\\내 드라이브\\Project\\RGBLab\\ABB\\Data\\06.배회(wander)\\outsidedoor_02\\125-1\\125-1_cam01_wander02_place04_day_summer_resized.mp4 to G:\\내 드라이브\\Project\\RGBLab\\ABB\\Data\\Resized\\06.배회(wander)\\outsidedoor_02\\125-1\\125-1_cam01_wander02_place04_day_summer_resized.mp4\n"
     ]
    },
    {
     "name": "stderr",
     "output_type": "stream",
     "text": [
      "Copying files: 1644it [16:11,  5.05s/it]"
     ]
    },
    {
     "name": "stdout",
     "output_type": "stream",
     "text": [
      "Copying G:\\내 드라이브\\Project\\RGBLab\\ABB\\Data\\06.배회(wander)\\outsidedoor_02\\125-4\\125-4_cam02_wander02_place04_day_spring_resized.mp4 to G:\\내 드라이브\\Project\\RGBLab\\ABB\\Data\\Resized\\06.배회(wander)\\outsidedoor_02\\125-4\\125-4_cam02_wander02_place04_day_spring_resized.mp4\n"
     ]
    },
    {
     "name": "stderr",
     "output_type": "stream",
     "text": [
      "Copying files: 1645it [16:11,  3.63s/it]"
     ]
    },
    {
     "name": "stdout",
     "output_type": "stream",
     "text": [
      "Copying G:\\내 드라이브\\Project\\RGBLab\\ABB\\Data\\06.배회(wander)\\outsidedoor_02\\125-4\\125-4_cam02_wander02_place04_day_summer_resized.mp4 to G:\\내 드라이브\\Project\\RGBLab\\ABB\\Data\\Resized\\06.배회(wander)\\outsidedoor_02\\125-4\\125-4_cam02_wander02_place04_day_summer_resized.mp4\n"
     ]
    },
    {
     "name": "stderr",
     "output_type": "stream",
     "text": [
      "Copying files: 1646it [16:15,  3.79s/it]"
     ]
    },
    {
     "name": "stdout",
     "output_type": "stream",
     "text": [
      "Copying G:\\내 드라이브\\Project\\RGBLab\\ABB\\Data\\06.배회(wander)\\outsidedoor_02\\125-4\\125-4_cam01_wander02_place04_day_spring_resized.mp4 to G:\\내 드라이브\\Project\\RGBLab\\ABB\\Data\\Resized\\06.배회(wander)\\outsidedoor_02\\125-4\\125-4_cam01_wander02_place04_day_spring_resized.mp4\n"
     ]
    },
    {
     "name": "stderr",
     "output_type": "stream",
     "text": [
      "Copying files: 1647it [16:19,  3.71s/it]"
     ]
    },
    {
     "name": "stdout",
     "output_type": "stream",
     "text": [
      "Copying G:\\내 드라이브\\Project\\RGBLab\\ABB\\Data\\06.배회(wander)\\outsidedoor_02\\125-4\\125-4_cam01_wander02_place04_day_summer_resized.mp4 to G:\\내 드라이브\\Project\\RGBLab\\ABB\\Data\\Resized\\06.배회(wander)\\outsidedoor_02\\125-4\\125-4_cam01_wander02_place04_day_summer_resized.mp4\n"
     ]
    },
    {
     "name": "stderr",
     "output_type": "stream",
     "text": [
      "Copying files: 1648it [16:23,  3.70s/it]"
     ]
    },
    {
     "name": "stdout",
     "output_type": "stream",
     "text": [
      "Copying G:\\내 드라이브\\Project\\RGBLab\\ABB\\Data\\06.배회(wander)\\outsidedoor_02\\125-5\\125-5_cam02_wander02_place04_day_spring_resized.mp4 to G:\\내 드라이브\\Project\\RGBLab\\ABB\\Data\\Resized\\06.배회(wander)\\outsidedoor_02\\125-5\\125-5_cam02_wander02_place04_day_spring_resized.mp4\n"
     ]
    },
    {
     "name": "stderr",
     "output_type": "stream",
     "text": [
      "Copying files: 1649it [16:26,  3.66s/it]"
     ]
    },
    {
     "name": "stdout",
     "output_type": "stream",
     "text": [
      "Copying G:\\내 드라이브\\Project\\RGBLab\\ABB\\Data\\06.배회(wander)\\outsidedoor_02\\125-5\\125-5_cam02_wander02_place04_day_summer_resized.mp4 to G:\\내 드라이브\\Project\\RGBLab\\ABB\\Data\\Resized\\06.배회(wander)\\outsidedoor_02\\125-5\\125-5_cam02_wander02_place04_day_summer_resized.mp4\n"
     ]
    },
    {
     "name": "stderr",
     "output_type": "stream",
     "text": [
      "Copying files: 1650it [16:40,  6.82s/it]"
     ]
    },
    {
     "name": "stdout",
     "output_type": "stream",
     "text": [
      "Copying G:\\내 드라이브\\Project\\RGBLab\\ABB\\Data\\06.배회(wander)\\outsidedoor_02\\125-5\\125-5_cam01_wander02_place04_day_spring_resized.mp4 to G:\\내 드라이브\\Project\\RGBLab\\ABB\\Data\\Resized\\06.배회(wander)\\outsidedoor_02\\125-5\\125-5_cam01_wander02_place04_day_spring_resized.mp4\n"
     ]
    },
    {
     "name": "stderr",
     "output_type": "stream",
     "text": [
      "Copying files: 1651it [16:44,  5.73s/it]"
     ]
    },
    {
     "name": "stdout",
     "output_type": "stream",
     "text": [
      "Copying G:\\내 드라이브\\Project\\RGBLab\\ABB\\Data\\06.배회(wander)\\outsidedoor_02\\125-5\\125-5_cam01_wander02_place04_day_summer_resized.mp4 to G:\\내 드라이브\\Project\\RGBLab\\ABB\\Data\\Resized\\06.배회(wander)\\outsidedoor_02\\125-5\\125-5_cam01_wander02_place04_day_summer_resized.mp4\n"
     ]
    },
    {
     "name": "stderr",
     "output_type": "stream",
     "text": [
      "Copying files: 1652it [16:44,  4.10s/it]"
     ]
    },
    {
     "name": "stdout",
     "output_type": "stream",
     "text": [
      "Copying G:\\내 드라이브\\Project\\RGBLab\\ABB\\Data\\06.배회(wander)\\outsidedoor_02\\126-1\\126-1_cam02_wander01_place05_night_spring_resized.mp4 to G:\\내 드라이브\\Project\\RGBLab\\ABB\\Data\\Resized\\06.배회(wander)\\outsidedoor_02\\126-1\\126-1_cam02_wander01_place05_night_spring_resized.mp4\n"
     ]
    },
    {
     "name": "stderr",
     "output_type": "stream",
     "text": [
      "Copying files: 1653it [16:45,  3.33s/it]"
     ]
    },
    {
     "name": "stdout",
     "output_type": "stream",
     "text": [
      "Copying G:\\내 드라이브\\Project\\RGBLab\\ABB\\Data\\06.배회(wander)\\outsidedoor_02\\126-1\\126-1_cam02_wander01_place05_night_summer_resized.mp4 to G:\\내 드라이브\\Project\\RGBLab\\ABB\\Data\\Resized\\06.배회(wander)\\outsidedoor_02\\126-1\\126-1_cam02_wander01_place05_night_summer_resized.mp4\n"
     ]
    },
    {
     "name": "stderr",
     "output_type": "stream",
     "text": [
      "Copying files: 1654it [16:47,  2.92s/it]"
     ]
    },
    {
     "name": "stdout",
     "output_type": "stream",
     "text": [
      "Copying G:\\내 드라이브\\Project\\RGBLab\\ABB\\Data\\06.배회(wander)\\outsidedoor_02\\126-1\\126-1_cam01_wander01_place05_night_spring_resized.mp4 to G:\\내 드라이브\\Project\\RGBLab\\ABB\\Data\\Resized\\06.배회(wander)\\outsidedoor_02\\126-1\\126-1_cam01_wander01_place05_night_spring_resized.mp4\n"
     ]
    },
    {
     "name": "stderr",
     "output_type": "stream",
     "text": [
      "Copying files: 1655it [16:49,  2.47s/it]"
     ]
    },
    {
     "name": "stdout",
     "output_type": "stream",
     "text": [
      "Copying G:\\내 드라이브\\Project\\RGBLab\\ABB\\Data\\06.배회(wander)\\outsidedoor_02\\126-1\\126-1_cam01_wander01_place05_night_summer_resized.mp4 to G:\\내 드라이브\\Project\\RGBLab\\ABB\\Data\\Resized\\06.배회(wander)\\outsidedoor_02\\126-1\\126-1_cam01_wander01_place05_night_summer_resized.mp4\n",
      "Copying G:\\내 드라이브\\Project\\RGBLab\\ABB\\Data\\06.배회(wander)\\outsidedoor_02\\126-2\\126-2_cam02_wander01_place05_night_spring_resized.mp4 to G:\\내 드라이브\\Project\\RGBLab\\ABB\\Data\\Resized\\06.배회(wander)\\outsidedoor_02\\126-2\\126-2_cam02_wander01_place05_night_spring_resized.mp4\n"
     ]
    },
    {
     "name": "stderr",
     "output_type": "stream",
     "text": [
      "Copying files: 1657it [16:50,  1.68s/it]"
     ]
    },
    {
     "name": "stdout",
     "output_type": "stream",
     "text": [
      "Copying G:\\내 드라이브\\Project\\RGBLab\\ABB\\Data\\06.배회(wander)\\outsidedoor_02\\126-2\\126-2_cam02_wander01_place05_night_summer_resized.mp4 to G:\\내 드라이브\\Project\\RGBLab\\ABB\\Data\\Resized\\06.배회(wander)\\outsidedoor_02\\126-2\\126-2_cam02_wander01_place05_night_summer_resized.mp4\n"
     ]
    },
    {
     "name": "stderr",
     "output_type": "stream",
     "text": [
      "Copying files: 1658it [16:55,  2.32s/it]"
     ]
    },
    {
     "name": "stdout",
     "output_type": "stream",
     "text": [
      "Copying G:\\내 드라이브\\Project\\RGBLab\\ABB\\Data\\06.배회(wander)\\outsidedoor_02\\126-2\\126-2_cam01_wander01_place05_night_spring_resized.mp4 to G:\\내 드라이브\\Project\\RGBLab\\ABB\\Data\\Resized\\06.배회(wander)\\outsidedoor_02\\126-2\\126-2_cam01_wander01_place05_night_spring_resized.mp4\n"
     ]
    },
    {
     "name": "stderr",
     "output_type": "stream",
     "text": [
      "Copying files: 1659it [16:56,  2.12s/it]"
     ]
    },
    {
     "name": "stdout",
     "output_type": "stream",
     "text": [
      "Copying G:\\내 드라이브\\Project\\RGBLab\\ABB\\Data\\06.배회(wander)\\outsidedoor_02\\126-2\\126-2_cam01_wander01_place05_night_summer_resized.mp4 to G:\\내 드라이브\\Project\\RGBLab\\ABB\\Data\\Resized\\06.배회(wander)\\outsidedoor_02\\126-2\\126-2_cam01_wander01_place05_night_summer_resized.mp4\n"
     ]
    },
    {
     "name": "stderr",
     "output_type": "stream",
     "text": [
      "Copying files: 1660it [17:00,  2.59s/it]"
     ]
    },
    {
     "name": "stdout",
     "output_type": "stream",
     "text": [
      "Copying G:\\내 드라이브\\Project\\RGBLab\\ABB\\Data\\06.배회(wander)\\outsidedoor_02\\126-3\\126-3_cam02_wander01_place05_night_spring_resized.mp4 to G:\\내 드라이브\\Project\\RGBLab\\ABB\\Data\\Resized\\06.배회(wander)\\outsidedoor_02\\126-3\\126-3_cam02_wander01_place05_night_spring_resized.mp4\n"
     ]
    },
    {
     "name": "stderr",
     "output_type": "stream",
     "text": [
      "Copying files: 1661it [17:02,  2.28s/it]"
     ]
    },
    {
     "name": "stdout",
     "output_type": "stream",
     "text": [
      "Copying G:\\내 드라이브\\Project\\RGBLab\\ABB\\Data\\06.배회(wander)\\outsidedoor_02\\126-3\\126-3_cam02_wander01_place05_night_summer_resized.mp4 to G:\\내 드라이브\\Project\\RGBLab\\ABB\\Data\\Resized\\06.배회(wander)\\outsidedoor_02\\126-3\\126-3_cam02_wander01_place05_night_summer_resized.mp4\n"
     ]
    },
    {
     "name": "stderr",
     "output_type": "stream",
     "text": [
      "Copying files: 1662it [17:03,  2.10s/it]"
     ]
    },
    {
     "name": "stdout",
     "output_type": "stream",
     "text": [
      "Copying G:\\내 드라이브\\Project\\RGBLab\\ABB\\Data\\06.배회(wander)\\outsidedoor_02\\126-3\\126-3_cam01_wander01_place05_night_spring_resized.mp4 to G:\\내 드라이브\\Project\\RGBLab\\ABB\\Data\\Resized\\06.배회(wander)\\outsidedoor_02\\126-3\\126-3_cam01_wander01_place05_night_spring_resized.mp4\n"
     ]
    },
    {
     "name": "stderr",
     "output_type": "stream",
     "text": [
      "Copying files: 1663it [17:05,  2.07s/it]"
     ]
    },
    {
     "name": "stdout",
     "output_type": "stream",
     "text": [
      "Copying G:\\내 드라이브\\Project\\RGBLab\\ABB\\Data\\06.배회(wander)\\outsidedoor_03\\127-5\\127-5_cam01_wander02_place06_night_summer_resized.mp4 to G:\\내 드라이브\\Project\\RGBLab\\ABB\\Data\\Resized\\06.배회(wander)\\outsidedoor_03\\127-5\\127-5_cam01_wander02_place06_night_summer_resized.mp4\n"
     ]
    },
    {
     "name": "stderr",
     "output_type": "stream",
     "text": [
      "Copying files: 1665it [17:08,  1.56s/it]"
     ]
    },
    {
     "name": "stdout",
     "output_type": "stream",
     "text": [
      "Copying G:\\내 드라이브\\Project\\RGBLab\\ABB\\Data\\06.배회(wander)\\outsidedoor_03\\127-5\\127-5_cam02_wander02_place06_night_spring_resized.mp4 to G:\\내 드라이브\\Project\\RGBLab\\ABB\\Data\\Resized\\06.배회(wander)\\outsidedoor_03\\127-5\\127-5_cam02_wander02_place06_night_spring_resized.mp4\n",
      "Copying G:\\내 드라이브\\Project\\RGBLab\\ABB\\Data\\06.배회(wander)\\outsidedoor_03\\127-5\\127-5_cam02_wander02_place06_night_summer_resized.mp4 to G:\\내 드라이브\\Project\\RGBLab\\ABB\\Data\\Resized\\06.배회(wander)\\outsidedoor_03\\127-5\\127-5_cam02_wander02_place06_night_summer_resized.mp4\n"
     ]
    },
    {
     "name": "stderr",
     "output_type": "stream",
     "text": [
      "Copying files: 1666it [17:10,  1.83s/it]"
     ]
    },
    {
     "name": "stdout",
     "output_type": "stream",
     "text": [
      "Copying G:\\내 드라이브\\Project\\RGBLab\\ABB\\Data\\06.배회(wander)\\outsidedoor_03\\127-5\\127-5_cam01_wander02_place06_night_spring_resized.mp4 to G:\\내 드라이브\\Project\\RGBLab\\ABB\\Data\\Resized\\06.배회(wander)\\outsidedoor_03\\127-5\\127-5_cam01_wander02_place06_night_spring_resized.mp4\n"
     ]
    },
    {
     "name": "stderr",
     "output_type": "stream",
     "text": [
      "Copying files: 1667it [17:12,  1.94s/it]"
     ]
    },
    {
     "name": "stdout",
     "output_type": "stream",
     "text": [
      "Copying G:\\내 드라이브\\Project\\RGBLab\\ABB\\Data\\06.배회(wander)\\outsidedoor_03\\127-6\\127-6_cam02_wander02_place06_night_spring_resized.mp4 to G:\\내 드라이브\\Project\\RGBLab\\ABB\\Data\\Resized\\06.배회(wander)\\outsidedoor_03\\127-6\\127-6_cam02_wander02_place06_night_spring_resized.mp4\n"
     ]
    },
    {
     "name": "stderr",
     "output_type": "stream",
     "text": [
      "Copying files: 1668it [17:26,  5.32s/it]"
     ]
    },
    {
     "name": "stdout",
     "output_type": "stream",
     "text": [
      "Copying G:\\내 드라이브\\Project\\RGBLab\\ABB\\Data\\06.배회(wander)\\outsidedoor_03\\127-6\\127-6_cam02_wander02_place06_night_summer_resized.mp4 to G:\\내 드라이브\\Project\\RGBLab\\ABB\\Data\\Resized\\06.배회(wander)\\outsidedoor_03\\127-6\\127-6_cam02_wander02_place06_night_summer_resized.mp4\n"
     ]
    },
    {
     "name": "stderr",
     "output_type": "stream",
     "text": [
      "Copying files: 1669it [17:33,  5.88s/it]"
     ]
    },
    {
     "name": "stdout",
     "output_type": "stream",
     "text": [
      "Copying G:\\내 드라이브\\Project\\RGBLab\\ABB\\Data\\06.배회(wander)\\outsidedoor_03\\127-6\\127-6_cam01_wander02_place06_night_spring_resized.mp4 to G:\\내 드라이브\\Project\\RGBLab\\ABB\\Data\\Resized\\06.배회(wander)\\outsidedoor_03\\127-6\\127-6_cam01_wander02_place06_night_spring_resized.mp4\n"
     ]
    },
    {
     "name": "stderr",
     "output_type": "stream",
     "text": [
      "Copying files: 1671it [17:35,  3.46s/it]"
     ]
    },
    {
     "name": "stdout",
     "output_type": "stream",
     "text": [
      "Copying G:\\내 드라이브\\Project\\RGBLab\\ABB\\Data\\06.배회(wander)\\outsidedoor_03\\127-6\\127-6_cam01_wander02_place06_night_summer_resized.mp4 to G:\\내 드라이브\\Project\\RGBLab\\ABB\\Data\\Resized\\06.배회(wander)\\outsidedoor_03\\127-6\\127-6_cam01_wander02_place06_night_summer_resized.mp4\n",
      "Copying G:\\내 드라이브\\Project\\RGBLab\\ABB\\Data\\06.배회(wander)\\outsidedoor_03\\128-1\\128-1_cam02_wander02_place01_day_spring_resized.mp4 to G:\\내 드라이브\\Project\\RGBLab\\ABB\\Data\\Resized\\06.배회(wander)\\outsidedoor_03\\128-1\\128-1_cam02_wander02_place01_day_spring_resized.mp4\n"
     ]
    },
    {
     "name": "stderr",
     "output_type": "stream",
     "text": [
      "Copying files: 1672it [17:39,  3.54s/it]"
     ]
    },
    {
     "name": "stdout",
     "output_type": "stream",
     "text": [
      "Copying G:\\내 드라이브\\Project\\RGBLab\\ABB\\Data\\06.배회(wander)\\outsidedoor_03\\128-1\\128-1_cam02_wander02_place01_day_summer_resized.mp4 to G:\\내 드라이브\\Project\\RGBLab\\ABB\\Data\\Resized\\06.배회(wander)\\outsidedoor_03\\128-1\\128-1_cam02_wander02_place01_day_summer_resized.mp4\n"
     ]
    },
    {
     "name": "stderr",
     "output_type": "stream",
     "text": [
      "Copying files: 1673it [17:40,  2.66s/it]"
     ]
    },
    {
     "name": "stdout",
     "output_type": "stream",
     "text": [
      "Copying G:\\내 드라이브\\Project\\RGBLab\\ABB\\Data\\06.배회(wander)\\outsidedoor_04\\130-6\\130-6_cam02_wander02_place09_day_spring_resized.mp4 to G:\\내 드라이브\\Project\\RGBLab\\ABB\\Data\\Resized\\06.배회(wander)\\outsidedoor_04\\130-6\\130-6_cam02_wander02_place09_day_spring_resized.mp4\n"
     ]
    },
    {
     "name": "stderr",
     "output_type": "stream",
     "text": [
      "Copying files: 1675it [17:46,  2.70s/it]"
     ]
    },
    {
     "name": "stdout",
     "output_type": "stream",
     "text": [
      "Copying G:\\내 드라이브\\Project\\RGBLab\\ABB\\Data\\06.배회(wander)\\outsidedoor_04\\130-6\\130-6_cam02_wander02_place09_day_summer_resized.mp4 to G:\\내 드라이브\\Project\\RGBLab\\ABB\\Data\\Resized\\06.배회(wander)\\outsidedoor_04\\130-6\\130-6_cam02_wander02_place09_day_summer_resized.mp4\n"
     ]
    },
    {
     "name": "stderr",
     "output_type": "stream",
     "text": [
      "Copying files: 1675it [17:46,  2.70s/it]"
     ]
    },
    {
     "name": "stdout",
     "output_type": "stream",
     "text": [
      "Copying G:\\내 드라이브\\Project\\RGBLab\\ABB\\Data\\06.배회(wander)\\outsidedoor_04\\130-6\\130-6_cam01_wander02_place09_day_spring_resized.mp4 to G:\\내 드라이브\\Project\\RGBLab\\ABB\\Data\\Resized\\06.배회(wander)\\outsidedoor_04\\130-6\\130-6_cam01_wander02_place09_day_spring_resized.mp4\n"
     ]
    },
    {
     "name": "stderr",
     "output_type": "stream",
     "text": [
      "Copying files: 1676it [17:49,  2.60s/it]"
     ]
    },
    {
     "name": "stdout",
     "output_type": "stream",
     "text": [
      "Copying G:\\내 드라이브\\Project\\RGBLab\\ABB\\Data\\06.배회(wander)\\outsidedoor_04\\130-6\\130-6_cam01_wander02_place09_day_summer_resized.mp4 to G:\\내 드라이브\\Project\\RGBLab\\ABB\\Data\\Resized\\06.배회(wander)\\outsidedoor_04\\130-6\\130-6_cam01_wander02_place09_day_summer_resized.mp4\n"
     ]
    },
    {
     "name": "stderr",
     "output_type": "stream",
     "text": [
      "Copying files: 1677it [17:51,  2.51s/it]"
     ]
    },
    {
     "name": "stdout",
     "output_type": "stream",
     "text": [
      "Copying G:\\내 드라이브\\Project\\RGBLab\\ABB\\Data\\06.배회(wander)\\outsidedoor_04\\131-1\\131-1_cam02_wander02_place04_day_spring_resized.mp4 to G:\\내 드라이브\\Project\\RGBLab\\ABB\\Data\\Resized\\06.배회(wander)\\outsidedoor_04\\131-1\\131-1_cam02_wander02_place04_day_spring_resized.mp4\n"
     ]
    },
    {
     "name": "stderr",
     "output_type": "stream",
     "text": [
      "Copying files: 1678it [17:52,  2.06s/it]"
     ]
    },
    {
     "name": "stdout",
     "output_type": "stream",
     "text": [
      "Copying G:\\내 드라이브\\Project\\RGBLab\\ABB\\Data\\06.배회(wander)\\outsidedoor_04\\131-1\\131-1_cam02_wander02_place04_day_summer_resized.mp4 to G:\\내 드라이브\\Project\\RGBLab\\ABB\\Data\\Resized\\06.배회(wander)\\outsidedoor_04\\131-1\\131-1_cam02_wander02_place04_day_summer_resized.mp4\n"
     ]
    },
    {
     "name": "stderr",
     "output_type": "stream",
     "text": [
      "Copying files: 1679it [17:52,  1.60s/it]"
     ]
    },
    {
     "name": "stdout",
     "output_type": "stream",
     "text": [
      "Copying G:\\내 드라이브\\Project\\RGBLab\\ABB\\Data\\06.배회(wander)\\outsidedoor_04\\131-1\\131-1_cam01_wander02_place04_day_summer_resized.mp4 to G:\\내 드라이브\\Project\\RGBLab\\ABB\\Data\\Resized\\06.배회(wander)\\outsidedoor_04\\131-1\\131-1_cam01_wander02_place04_day_summer_resized.mp4\n"
     ]
    },
    {
     "name": "stderr",
     "output_type": "stream",
     "text": [
      "Copying files: 1680it [17:53,  1.23s/it]"
     ]
    },
    {
     "name": "stdout",
     "output_type": "stream",
     "text": [
      "Copying G:\\내 드라이브\\Project\\RGBLab\\ABB\\Data\\06.배회(wander)\\outsidedoor_04\\131-1\\131-1_cam01_wander02_place04_day_spring_resized.mp4 to G:\\내 드라이브\\Project\\RGBLab\\ABB\\Data\\Resized\\06.배회(wander)\\outsidedoor_04\\131-1\\131-1_cam01_wander02_place04_day_spring_resized.mp4\n"
     ]
    },
    {
     "name": "stderr",
     "output_type": "stream",
     "text": [
      "Copying files: 1681it [18:11,  6.27s/it]"
     ]
    },
    {
     "name": "stdout",
     "output_type": "stream",
     "text": [
      "Copying G:\\내 드라이브\\Project\\RGBLab\\ABB\\Data\\06.배회(wander)\\outsidedoor_05\\132-5\\132-5_cam02_wander03_place06_night_spring_resized.mp4 to G:\\내 드라이브\\Project\\RGBLab\\ABB\\Data\\Resized\\06.배회(wander)\\outsidedoor_05\\132-5\\132-5_cam02_wander03_place06_night_spring_resized.mp4\n"
     ]
    },
    {
     "name": "stderr",
     "output_type": "stream",
     "text": [
      "Copying files: 1682it [18:13,  4.93s/it]"
     ]
    },
    {
     "name": "stdout",
     "output_type": "stream",
     "text": [
      "Copying G:\\내 드라이브\\Project\\RGBLab\\ABB\\Data\\06.배회(wander)\\outsidedoor_05\\132-5\\132-5_cam01_wander03_place06_night_summer_resized.mp4 to G:\\내 드라이브\\Project\\RGBLab\\ABB\\Data\\Resized\\06.배회(wander)\\outsidedoor_05\\132-5\\132-5_cam01_wander03_place06_night_summer_resized.mp4\n"
     ]
    },
    {
     "name": "stderr",
     "output_type": "stream",
     "text": [
      "Copying files: 1683it [18:13,  3.64s/it]"
     ]
    },
    {
     "name": "stdout",
     "output_type": "stream",
     "text": [
      "Copying G:\\내 드라이브\\Project\\RGBLab\\ABB\\Data\\06.배회(wander)\\outsidedoor_05\\132-5\\132-5_cam02_wander03_place06_night_summer_resized.mp4 to G:\\내 드라이브\\Project\\RGBLab\\ABB\\Data\\Resized\\06.배회(wander)\\outsidedoor_05\\132-5\\132-5_cam02_wander03_place06_night_summer_resized.mp4\n"
     ]
    },
    {
     "name": "stderr",
     "output_type": "stream",
     "text": [
      "Copying files: 1684it [18:15,  2.99s/it]"
     ]
    },
    {
     "name": "stdout",
     "output_type": "stream",
     "text": [
      "Copying G:\\내 드라이브\\Project\\RGBLab\\ABB\\Data\\06.배회(wander)\\outsidedoor_06\\135-3\\135-3_cam02_wander01_place03_day_spring_resized.mp4 to G:\\내 드라이브\\Project\\RGBLab\\ABB\\Data\\Resized\\06.배회(wander)\\outsidedoor_06\\135-3\\135-3_cam02_wander01_place03_day_spring_resized.mp4\n"
     ]
    },
    {
     "name": "stderr",
     "output_type": "stream",
     "text": [
      "Copying files: 1685it [18:25,  5.08s/it]"
     ]
    },
    {
     "name": "stdout",
     "output_type": "stream",
     "text": [
      "Copying G:\\내 드라이브\\Project\\RGBLab\\ABB\\Data\\06.배회(wander)\\outsidedoor_07\\137-4\\137-4_cam02_wander03_place04_day_summer_resized.mp4 to G:\\내 드라이브\\Project\\RGBLab\\ABB\\Data\\Resized\\06.배회(wander)\\outsidedoor_07\\137-4\\137-4_cam02_wander03_place04_day_summer_resized.mp4\n"
     ]
    },
    {
     "name": "stderr",
     "output_type": "stream",
     "text": [
      "Copying files: 1686it [18:25,  3.73s/it]"
     ]
    },
    {
     "name": "stdout",
     "output_type": "stream",
     "text": [
      "Copying G:\\내 드라이브\\Project\\RGBLab\\ABB\\Data\\06.배회(wander)\\outsidedoor_07\\137-4\\137-4_cam01_wander03_place04_day_summer_resized.mp4 to G:\\내 드라이브\\Project\\RGBLab\\ABB\\Data\\Resized\\06.배회(wander)\\outsidedoor_07\\137-4\\137-4_cam01_wander03_place04_day_summer_resized.mp4\n"
     ]
    },
    {
     "name": "stderr",
     "output_type": "stream",
     "text": [
      "Copying files: 1687it [18:26,  2.79s/it]"
     ]
    },
    {
     "name": "stdout",
     "output_type": "stream",
     "text": [
      "Copying G:\\내 드라이브\\Project\\RGBLab\\ABB\\Data\\06.배회(wander)\\outsidedoor_09\\142-1\\142-1_cam02_wander02_place04_day_spring_resized.mp4 to G:\\내 드라이브\\Project\\RGBLab\\ABB\\Data\\Resized\\06.배회(wander)\\outsidedoor_09\\142-1\\142-1_cam02_wander02_place04_day_spring_resized.mp4\n"
     ]
    },
    {
     "name": "stderr",
     "output_type": "stream",
     "text": [
      "Copying files: 1688it [18:27,  2.14s/it]"
     ]
    },
    {
     "name": "stdout",
     "output_type": "stream",
     "text": [
      "Copying G:\\내 드라이브\\Project\\RGBLab\\ABB\\Data\\06.배회(wander)\\outsidedoor_10\\529-3\\529-3_cam02_wander02_place08_night_spring_resized.mp4 to G:\\내 드라이브\\Project\\RGBLab\\ABB\\Data\\Resized\\06.배회(wander)\\outsidedoor_10\\529-3\\529-3_cam02_wander02_place08_night_spring_resized.mp4\n"
     ]
    },
    {
     "name": "stderr",
     "output_type": "stream",
     "text": [
      "Copying files: 1689it [18:27,  1.71s/it]"
     ]
    },
    {
     "name": "stdout",
     "output_type": "stream",
     "text": [
      "Copying G:\\내 드라이브\\Project\\RGBLab\\ABB\\Data\\07.침입(trespass)\\outsidedoor_01\\145-1\\145-1_cam01_trespass01_place01_day_summer_resized.mp4 to G:\\내 드라이브\\Project\\RGBLab\\ABB\\Data\\Resized\\07.침입(trespass)\\outsidedoor_01\\145-1\\145-1_cam01_trespass01_place01_day_summer_resized.mp4\n"
     ]
    },
    {
     "name": "stderr",
     "output_type": "stream",
     "text": [
      "Copying files: 1690it [18:31,  2.26s/it]"
     ]
    },
    {
     "name": "stdout",
     "output_type": "stream",
     "text": [
      "Copying G:\\내 드라이브\\Project\\RGBLab\\ABB\\Data\\07.침입(trespass)\\outsidedoor_01\\145-1\\145-1_cam01_trespass01_place01_day_spring_resized.mp4 to G:\\내 드라이브\\Project\\RGBLab\\ABB\\Data\\Resized\\07.침입(trespass)\\outsidedoor_01\\145-1\\145-1_cam01_trespass01_place01_day_spring_resized.mp4\n"
     ]
    },
    {
     "name": "stderr",
     "output_type": "stream",
     "text": [
      "Copying files: 1691it [18:34,  2.68s/it]"
     ]
    },
    {
     "name": "stdout",
     "output_type": "stream",
     "text": [
      "Copying G:\\내 드라이브\\Project\\RGBLab\\ABB\\Data\\07.침입(trespass)\\outsidedoor_01\\145-1\\145-1_cam02_trespass01_place01_day_summer_resized.mp4 to G:\\내 드라이브\\Project\\RGBLab\\ABB\\Data\\Resized\\07.침입(trespass)\\outsidedoor_01\\145-1\\145-1_cam02_trespass01_place01_day_summer_resized.mp4\n"
     ]
    },
    {
     "name": "stderr",
     "output_type": "stream",
     "text": [
      "Copying files: 1692it [18:35,  1.97s/it]"
     ]
    },
    {
     "name": "stdout",
     "output_type": "stream",
     "text": [
      "Copying G:\\내 드라이브\\Project\\RGBLab\\ABB\\Data\\07.침입(trespass)\\outsidedoor_01\\145-1\\145-1_cam02_trespass01_place01_day_spring_resized.mp4 to G:\\내 드라이브\\Project\\RGBLab\\ABB\\Data\\Resized\\07.침입(trespass)\\outsidedoor_01\\145-1\\145-1_cam02_trespass01_place01_day_spring_resized.mp4\n"
     ]
    },
    {
     "name": "stderr",
     "output_type": "stream",
     "text": [
      "Copying files: 1693it [18:35,  1.45s/it]"
     ]
    },
    {
     "name": "stdout",
     "output_type": "stream",
     "text": [
      "Copying G:\\내 드라이브\\Project\\RGBLab\\ABB\\Data\\07.침입(trespass)\\outsidedoor_01\\145-2\\145-2_cam02_trespass01_place01_day_spring_resized.mp4 to G:\\내 드라이브\\Project\\RGBLab\\ABB\\Data\\Resized\\07.침입(trespass)\\outsidedoor_01\\145-2\\145-2_cam02_trespass01_place01_day_spring_resized.mp4\n"
     ]
    },
    {
     "name": "stderr",
     "output_type": "stream",
     "text": [
      "Copying files: 1694it [18:35,  1.10s/it]"
     ]
    },
    {
     "name": "stdout",
     "output_type": "stream",
     "text": [
      "Copying G:\\내 드라이브\\Project\\RGBLab\\ABB\\Data\\07.침입(trespass)\\outsidedoor_01\\145-2\\145-2_cam01_trespass01_place01_day_summer_resized.mp4 to G:\\내 드라이브\\Project\\RGBLab\\ABB\\Data\\Resized\\07.침입(trespass)\\outsidedoor_01\\145-2\\145-2_cam01_trespass01_place01_day_summer_resized.mp4\n"
     ]
    },
    {
     "name": "stderr",
     "output_type": "stream",
     "text": [
      "Copying files: 1695it [18:38,  1.67s/it]"
     ]
    },
    {
     "name": "stdout",
     "output_type": "stream",
     "text": [
      "Copying G:\\내 드라이브\\Project\\RGBLab\\ABB\\Data\\07.침입(trespass)\\outsidedoor_01\\145-2\\145-2_cam02_trespass01_place01_day_summer_resized.mp4 to G:\\내 드라이브\\Project\\RGBLab\\ABB\\Data\\Resized\\07.침입(trespass)\\outsidedoor_01\\145-2\\145-2_cam02_trespass01_place01_day_summer_resized.mp4\n"
     ]
    },
    {
     "name": "stderr",
     "output_type": "stream",
     "text": [
      "Copying files: 1696it [18:50,  4.58s/it]"
     ]
    },
    {
     "name": "stdout",
     "output_type": "stream",
     "text": [
      "Copying G:\\내 드라이브\\Project\\RGBLab\\ABB\\Data\\07.침입(trespass)\\outsidedoor_01\\145-2\\145-2_cam01_trespass01_place01_day_spring_resized.mp4 to G:\\내 드라이브\\Project\\RGBLab\\ABB\\Data\\Resized\\07.침입(trespass)\\outsidedoor_01\\145-2\\145-2_cam01_trespass01_place01_day_spring_resized.mp4\n"
     ]
    },
    {
     "name": "stderr",
     "output_type": "stream",
     "text": [
      "Copying files: 1697it [18:58,  5.59s/it]"
     ]
    },
    {
     "name": "stdout",
     "output_type": "stream",
     "text": [
      "Copying G:\\내 드라이브\\Project\\RGBLab\\ABB\\Data\\07.침입(trespass)\\outsidedoor_01\\145-3\\145-3_cam02_trespass01_place01_day_summer_resized.mp4 to G:\\내 드라이브\\Project\\RGBLab\\ABB\\Data\\Resized\\07.침입(trespass)\\outsidedoor_01\\145-3\\145-3_cam02_trespass01_place01_day_summer_resized.mp4\n"
     ]
    },
    {
     "name": "stderr",
     "output_type": "stream",
     "text": [
      "Copying files: 1698it [19:08,  7.03s/it]"
     ]
    },
    {
     "name": "stdout",
     "output_type": "stream",
     "text": [
      "Copying G:\\내 드라이브\\Project\\RGBLab\\ABB\\Data\\07.침입(trespass)\\outsidedoor_01\\145-3\\145-3_cam01_trespass01_place01_day_spring_resized.mp4 to G:\\내 드라이브\\Project\\RGBLab\\ABB\\Data\\Resized\\07.침입(trespass)\\outsidedoor_01\\145-3\\145-3_cam01_trespass01_place01_day_spring_resized.mp4\n"
     ]
    },
    {
     "name": "stderr",
     "output_type": "stream",
     "text": [
      "Copying files: 1699it [19:12,  6.26s/it]"
     ]
    },
    {
     "name": "stdout",
     "output_type": "stream",
     "text": [
      "Copying G:\\내 드라이브\\Project\\RGBLab\\ABB\\Data\\07.침입(trespass)\\outsidedoor_01\\145-3\\145-3_cam01_trespass01_place01_day_summer_resized.mp4 to G:\\내 드라이브\\Project\\RGBLab\\ABB\\Data\\Resized\\07.침입(trespass)\\outsidedoor_01\\145-3\\145-3_cam01_trespass01_place01_day_summer_resized.mp4\n"
     ]
    },
    {
     "name": "stderr",
     "output_type": "stream",
     "text": [
      "Copying files: 1700it [19:16,  5.32s/it]"
     ]
    },
    {
     "name": "stdout",
     "output_type": "stream",
     "text": [
      "Copying G:\\내 드라이브\\Project\\RGBLab\\ABB\\Data\\07.침입(trespass)\\outsidedoor_01\\145-3\\145-3_cam02_trespass01_place01_day_spring_resized.mp4 to G:\\내 드라이브\\Project\\RGBLab\\ABB\\Data\\Resized\\07.침입(trespass)\\outsidedoor_01\\145-3\\145-3_cam02_trespass01_place01_day_spring_resized.mp4\n"
     ]
    },
    {
     "name": "stderr",
     "output_type": "stream",
     "text": [
      "Copying files: 1701it [19:26,  6.84s/it]"
     ]
    },
    {
     "name": "stdout",
     "output_type": "stream",
     "text": [
      "Copying G:\\내 드라이브\\Project\\RGBLab\\ABB\\Data\\07.침입(trespass)\\outsidedoor_01\\145-4\\145-4_cam02_trespass01_place01_day_spring_resized.mp4 to G:\\내 드라이브\\Project\\RGBLab\\ABB\\Data\\Resized\\07.침입(trespass)\\outsidedoor_01\\145-4\\145-4_cam02_trespass01_place01_day_spring_resized.mp4\n"
     ]
    },
    {
     "name": "stderr",
     "output_type": "stream",
     "text": [
      "Copying files: 1702it [19:36,  7.94s/it]"
     ]
    },
    {
     "name": "stdout",
     "output_type": "stream",
     "text": [
      "Copying G:\\내 드라이브\\Project\\RGBLab\\ABB\\Data\\07.침입(trespass)\\outsidedoor_01\\145-4\\145-4_cam01_trespass01_place01_day_spring_resized.mp4 to G:\\내 드라이브\\Project\\RGBLab\\ABB\\Data\\Resized\\07.침입(trespass)\\outsidedoor_01\\145-4\\145-4_cam01_trespass01_place01_day_spring_resized.mp4\n"
     ]
    },
    {
     "name": "stderr",
     "output_type": "stream",
     "text": [
      "Copying files: 1703it [19:50,  9.64s/it]"
     ]
    },
    {
     "name": "stdout",
     "output_type": "stream",
     "text": [
      "Copying G:\\내 드라이브\\Project\\RGBLab\\ABB\\Data\\07.침입(trespass)\\outsidedoor_01\\145-4\\145-4_cam01_trespass01_place01_day_summer_resized.mp4 to G:\\내 드라이브\\Project\\RGBLab\\ABB\\Data\\Resized\\07.침입(trespass)\\outsidedoor_01\\145-4\\145-4_cam01_trespass01_place01_day_summer_resized.mp4\n"
     ]
    },
    {
     "name": "stderr",
     "output_type": "stream",
     "text": [
      "Copying files: 1704it [19:53,  7.65s/it]"
     ]
    },
    {
     "name": "stdout",
     "output_type": "stream",
     "text": [
      "Copying G:\\내 드라이브\\Project\\RGBLab\\ABB\\Data\\07.침입(trespass)\\outsidedoor_01\\145-4\\145-4_cam02_trespass01_place01_day_summer_resized.mp4 to G:\\내 드라이브\\Project\\RGBLab\\ABB\\Data\\Resized\\07.침입(trespass)\\outsidedoor_01\\145-4\\145-4_cam02_trespass01_place01_day_summer_resized.mp4\n"
     ]
    },
    {
     "name": "stderr",
     "output_type": "stream",
     "text": [
      "Copying files: 1705it [19:53,  5.44s/it]"
     ]
    },
    {
     "name": "stdout",
     "output_type": "stream",
     "text": [
      "Copying G:\\내 드라이브\\Project\\RGBLab\\ABB\\Data\\07.침입(trespass)\\outsidedoor_01\\145-5\\145-5_cam01_trespass01_place01_day_summer_resized.mp4 to G:\\내 드라이브\\Project\\RGBLab\\ABB\\Data\\Resized\\07.침입(trespass)\\outsidedoor_01\\145-5\\145-5_cam01_trespass01_place01_day_summer_resized.mp4\n"
     ]
    },
    {
     "name": "stderr",
     "output_type": "stream",
     "text": [
      "Copying files: 1706it [19:56,  4.63s/it]"
     ]
    },
    {
     "name": "stdout",
     "output_type": "stream",
     "text": [
      "Copying G:\\내 드라이브\\Project\\RGBLab\\ABB\\Data\\07.침입(trespass)\\outsidedoor_01\\145-5\\145-5_cam02_trespass01_place01_day_spring_resized.mp4 to G:\\내 드라이브\\Project\\RGBLab\\ABB\\Data\\Resized\\07.침입(trespass)\\outsidedoor_01\\145-5\\145-5_cam02_trespass01_place01_day_spring_resized.mp4\n"
     ]
    },
    {
     "name": "stderr",
     "output_type": "stream",
     "text": [
      "Copying files: 1707it [19:59,  4.19s/it]"
     ]
    },
    {
     "name": "stdout",
     "output_type": "stream",
     "text": [
      "Copying G:\\내 드라이브\\Project\\RGBLab\\ABB\\Data\\07.침입(trespass)\\outsidedoor_01\\145-5\\145-5_cam01_trespass01_place01_day_spring_resized.mp4 to G:\\내 드라이브\\Project\\RGBLab\\ABB\\Data\\Resized\\07.침입(trespass)\\outsidedoor_01\\145-5\\145-5_cam01_trespass01_place01_day_spring_resized.mp4\n"
     ]
    },
    {
     "name": "stderr",
     "output_type": "stream",
     "text": [
      "Copying files: 1708it [20:02,  3.85s/it]"
     ]
    },
    {
     "name": "stdout",
     "output_type": "stream",
     "text": [
      "Copying G:\\내 드라이브\\Project\\RGBLab\\ABB\\Data\\07.침입(trespass)\\outsidedoor_01\\145-5\\145-5_cam02_trespass01_place01_day_summer_resized.mp4 to G:\\내 드라이브\\Project\\RGBLab\\ABB\\Data\\Resized\\07.침입(trespass)\\outsidedoor_01\\145-5\\145-5_cam02_trespass01_place01_day_summer_resized.mp4\n"
     ]
    },
    {
     "name": "stderr",
     "output_type": "stream",
     "text": [
      "Copying files: 1709it [20:25,  9.40s/it]"
     ]
    },
    {
     "name": "stdout",
     "output_type": "stream",
     "text": [
      "Copying G:\\내 드라이브\\Project\\RGBLab\\ABB\\Data\\07.침입(trespass)\\outsidedoor_01\\145-6\\145-6_cam01_trespass01_place01_day_summer_resized.mp4 to G:\\내 드라이브\\Project\\RGBLab\\ABB\\Data\\Resized\\07.침입(trespass)\\outsidedoor_01\\145-6\\145-6_cam01_trespass01_place01_day_summer_resized.mp4\n"
     ]
    },
    {
     "name": "stderr",
     "output_type": "stream",
     "text": [
      "Copying files: 1710it [20:32,  8.76s/it]"
     ]
    },
    {
     "name": "stdout",
     "output_type": "stream",
     "text": [
      "Copying G:\\내 드라이브\\Project\\RGBLab\\ABB\\Data\\07.침입(trespass)\\outsidedoor_01\\145-6\\145-6_cam02_trespass01_place01_day_summer_resized.mp4 to G:\\내 드라이브\\Project\\RGBLab\\ABB\\Data\\Resized\\07.침입(trespass)\\outsidedoor_01\\145-6\\145-6_cam02_trespass01_place01_day_summer_resized.mp4\n"
     ]
    },
    {
     "name": "stderr",
     "output_type": "stream",
     "text": [
      "Copying files: 1711it [20:35,  7.03s/it]"
     ]
    },
    {
     "name": "stdout",
     "output_type": "stream",
     "text": [
      "Copying G:\\내 드라이브\\Project\\RGBLab\\ABB\\Data\\07.침입(trespass)\\outsidedoor_01\\145-6\\145-6_cam01_trespass01_place01_day_spring_resized.mp4 to G:\\내 드라이브\\Project\\RGBLab\\ABB\\Data\\Resized\\07.침입(trespass)\\outsidedoor_01\\145-6\\145-6_cam01_trespass01_place01_day_spring_resized.mp4\n"
     ]
    },
    {
     "name": "stderr",
     "output_type": "stream",
     "text": [
      "Copying files: 1712it [20:44,  7.50s/it]"
     ]
    },
    {
     "name": "stdout",
     "output_type": "stream",
     "text": [
      "Copying G:\\내 드라이브\\Project\\RGBLab\\ABB\\Data\\07.침입(trespass)\\outsidedoor_01\\145-6\\145-6_cam02_trespass01_place01_day_spring_resized.mp4 to G:\\내 드라이브\\Project\\RGBLab\\ABB\\Data\\Resized\\07.침입(trespass)\\outsidedoor_01\\145-6\\145-6_cam02_trespass01_place01_day_spring_resized.mp4\n"
     ]
    },
    {
     "name": "stderr",
     "output_type": "stream",
     "text": [
      "Copying files: 1713it [20:56,  8.87s/it]"
     ]
    },
    {
     "name": "stdout",
     "output_type": "stream",
     "text": [
      "Copying G:\\내 드라이브\\Project\\RGBLab\\ABB\\Data\\07.침입(trespass)\\outsidedoor_01\\146-1\\146-1_cam01_trespass03_place01_day_spring_resized.mp4 to G:\\내 드라이브\\Project\\RGBLab\\ABB\\Data\\Resized\\07.침입(trespass)\\outsidedoor_01\\146-1\\146-1_cam01_trespass03_place01_day_spring_resized.mp4\n"
     ]
    },
    {
     "name": "stderr",
     "output_type": "stream",
     "text": [
      "Copying files: 1714it [20:56,  6.27s/it]"
     ]
    },
    {
     "name": "stdout",
     "output_type": "stream",
     "text": [
      "Copying G:\\내 드라이브\\Project\\RGBLab\\ABB\\Data\\07.침입(trespass)\\outsidedoor_01\\146-1\\146-1_cam02_trespass03_place01_day_summer_resized.mp4 to G:\\내 드라이브\\Project\\RGBLab\\ABB\\Data\\Resized\\07.침입(trespass)\\outsidedoor_01\\146-1\\146-1_cam02_trespass03_place01_day_summer_resized.mp4\n"
     ]
    },
    {
     "name": "stderr",
     "output_type": "stream",
     "text": [
      "Copying files: 1715it [21:09,  8.38s/it]"
     ]
    },
    {
     "name": "stdout",
     "output_type": "stream",
     "text": [
      "Copying G:\\내 드라이브\\Project\\RGBLab\\ABB\\Data\\07.침입(trespass)\\outsidedoor_01\\146-1\\146-1_cam02_trespass03_place01_day_spring_resized.mp4 to G:\\내 드라이브\\Project\\RGBLab\\ABB\\Data\\Resized\\07.침입(trespass)\\outsidedoor_01\\146-1\\146-1_cam02_trespass03_place01_day_spring_resized.mp4\n"
     ]
    },
    {
     "name": "stderr",
     "output_type": "stream",
     "text": [
      "Copying files: 1716it [21:12,  6.66s/it]"
     ]
    },
    {
     "name": "stdout",
     "output_type": "stream",
     "text": [
      "Copying G:\\내 드라이브\\Project\\RGBLab\\ABB\\Data\\07.침입(trespass)\\outsidedoor_01\\146-1\\146-1_cam01_trespass03_place01_day_summer_resized.mp4 to G:\\내 드라이브\\Project\\RGBLab\\ABB\\Data\\Resized\\07.침입(trespass)\\outsidedoor_01\\146-1\\146-1_cam01_trespass03_place01_day_summer_resized.mp4\n"
     ]
    },
    {
     "name": "stderr",
     "output_type": "stream",
     "text": [
      "Copying files: 1717it [21:12,  4.73s/it]"
     ]
    },
    {
     "name": "stdout",
     "output_type": "stream",
     "text": [
      "Copying G:\\내 드라이브\\Project\\RGBLab\\ABB\\Data\\07.침입(trespass)\\outsidedoor_01\\146-2\\146-2_cam02_trespass03_place01_day_summer_resized.mp4 to G:\\내 드라이브\\Project\\RGBLab\\ABB\\Data\\Resized\\07.침입(trespass)\\outsidedoor_01\\146-2\\146-2_cam02_trespass03_place01_day_summer_resized.mp4\n"
     ]
    },
    {
     "name": "stderr",
     "output_type": "stream",
     "text": [
      "Copying files: 1718it [21:25,  7.18s/it]"
     ]
    },
    {
     "name": "stdout",
     "output_type": "stream",
     "text": [
      "Copying G:\\내 드라이브\\Project\\RGBLab\\ABB\\Data\\07.침입(trespass)\\outsidedoor_01\\146-2\\146-2_cam02_trespass03_place01_day_spring_resized.mp4 to G:\\내 드라이브\\Project\\RGBLab\\ABB\\Data\\Resized\\07.침입(trespass)\\outsidedoor_01\\146-2\\146-2_cam02_trespass03_place01_day_spring_resized.mp4\n"
     ]
    },
    {
     "name": "stderr",
     "output_type": "stream",
     "text": [
      "Copying files: 1719it [21:39,  9.39s/it]"
     ]
    },
    {
     "name": "stdout",
     "output_type": "stream",
     "text": [
      "Copying G:\\내 드라이브\\Project\\RGBLab\\ABB\\Data\\07.침입(trespass)\\outsidedoor_01\\146-2\\146-2_cam01_trespass03_place01_day_spring_resized.mp4 to G:\\내 드라이브\\Project\\RGBLab\\ABB\\Data\\Resized\\07.침입(trespass)\\outsidedoor_01\\146-2\\146-2_cam01_trespass03_place01_day_spring_resized.mp4\n"
     ]
    },
    {
     "name": "stderr",
     "output_type": "stream",
     "text": [
      "Copying files: 1720it [21:43,  7.59s/it]"
     ]
    },
    {
     "name": "stdout",
     "output_type": "stream",
     "text": [
      "Copying G:\\내 드라이브\\Project\\RGBLab\\ABB\\Data\\07.침입(trespass)\\outsidedoor_01\\146-2\\146-2_cam01_trespass03_place01_day_summer_resized.mp4 to G:\\내 드라이브\\Project\\RGBLab\\ABB\\Data\\Resized\\07.침입(trespass)\\outsidedoor_01\\146-2\\146-2_cam01_trespass03_place01_day_summer_resized.mp4\n"
     ]
    },
    {
     "name": "stderr",
     "output_type": "stream",
     "text": [
      "Copying files: 1721it [21:46,  6.30s/it]"
     ]
    },
    {
     "name": "stdout",
     "output_type": "stream",
     "text": [
      "Copying G:\\내 드라이브\\Project\\RGBLab\\ABB\\Data\\07.침입(trespass)\\outsidedoor_01\\146-3\\146-3_cam02_trespass03_place01_day_summer_resized.mp4 to G:\\내 드라이브\\Project\\RGBLab\\ABB\\Data\\Resized\\07.침입(trespass)\\outsidedoor_01\\146-3\\146-3_cam02_trespass03_place01_day_summer_resized.mp4\n"
     ]
    },
    {
     "name": "stderr",
     "output_type": "stream",
     "text": [
      "Copying files: 1722it [21:50,  5.62s/it]"
     ]
    },
    {
     "name": "stdout",
     "output_type": "stream",
     "text": [
      "Copying G:\\내 드라이브\\Project\\RGBLab\\ABB\\Data\\07.침입(trespass)\\outsidedoor_01\\146-3\\146-3_cam01_trespass03_place01_day_spring_resized.mp4 to G:\\내 드라이브\\Project\\RGBLab\\ABB\\Data\\Resized\\07.침입(trespass)\\outsidedoor_01\\146-3\\146-3_cam01_trespass03_place01_day_spring_resized.mp4\n"
     ]
    },
    {
     "name": "stderr",
     "output_type": "stream",
     "text": [
      "Copying files: 1723it [21:53,  4.85s/it]"
     ]
    },
    {
     "name": "stdout",
     "output_type": "stream",
     "text": [
      "Copying G:\\내 드라이브\\Project\\RGBLab\\ABB\\Data\\07.침입(trespass)\\outsidedoor_01\\146-3\\146-3_cam01_trespass03_place01_day_summer_resized.mp4 to G:\\내 드라이브\\Project\\RGBLab\\ABB\\Data\\Resized\\07.침입(trespass)\\outsidedoor_01\\146-3\\146-3_cam01_trespass03_place01_day_summer_resized.mp4\n"
     ]
    },
    {
     "name": "stderr",
     "output_type": "stream",
     "text": [
      "Copying files: 1724it [22:01,  5.64s/it]"
     ]
    },
    {
     "name": "stdout",
     "output_type": "stream",
     "text": [
      "Copying G:\\내 드라이브\\Project\\RGBLab\\ABB\\Data\\07.침입(trespass)\\outsidedoor_01\\146-3\\146-3_cam02_trespass03_place01_day_spring_resized.mp4 to G:\\내 드라이브\\Project\\RGBLab\\ABB\\Data\\Resized\\07.침입(trespass)\\outsidedoor_01\\146-3\\146-3_cam02_trespass03_place01_day_spring_resized.mp4\n"
     ]
    },
    {
     "name": "stderr",
     "output_type": "stream",
     "text": [
      "Copying files: 1725it [22:04,  5.01s/it]"
     ]
    },
    {
     "name": "stdout",
     "output_type": "stream",
     "text": [
      "Copying G:\\내 드라이브\\Project\\RGBLab\\ABB\\Data\\07.침입(trespass)\\outsidedoor_01\\146-4\\146-4_cam02_trespass03_place01_day_spring_resized.mp4 to G:\\내 드라이브\\Project\\RGBLab\\ABB\\Data\\Resized\\07.침입(trespass)\\outsidedoor_01\\146-4\\146-4_cam02_trespass03_place01_day_spring_resized.mp4\n"
     ]
    },
    {
     "name": "stderr",
     "output_type": "stream",
     "text": [
      "Copying files: 1726it [22:08,  4.60s/it]"
     ]
    },
    {
     "name": "stdout",
     "output_type": "stream",
     "text": [
      "Copying G:\\내 드라이브\\Project\\RGBLab\\ABB\\Data\\07.침입(trespass)\\outsidedoor_01\\146-4\\146-4_cam02_trespass03_place01_day_summer_resized.mp4 to G:\\내 드라이브\\Project\\RGBLab\\ABB\\Data\\Resized\\07.침입(trespass)\\outsidedoor_01\\146-4\\146-4_cam02_trespass03_place01_day_summer_resized.mp4\n"
     ]
    },
    {
     "name": "stderr",
     "output_type": "stream",
     "text": [
      "Copying files: 1727it [22:17,  5.86s/it]"
     ]
    },
    {
     "name": "stdout",
     "output_type": "stream",
     "text": [
      "Copying G:\\내 드라이브\\Project\\RGBLab\\ABB\\Data\\07.침입(trespass)\\outsidedoor_01\\146-4\\146-4_cam01_trespass03_place01_day_spring_resized.mp4 to G:\\내 드라이브\\Project\\RGBLab\\ABB\\Data\\Resized\\07.침입(trespass)\\outsidedoor_01\\146-4\\146-4_cam01_trespass03_place01_day_spring_resized.mp4\n"
     ]
    },
    {
     "name": "stderr",
     "output_type": "stream",
     "text": [
      "Copying files: 1728it [22:24,  6.40s/it]"
     ]
    },
    {
     "name": "stdout",
     "output_type": "stream",
     "text": [
      "Copying G:\\내 드라이브\\Project\\RGBLab\\ABB\\Data\\07.침입(trespass)\\outsidedoor_01\\146-4\\146-4_cam01_trespass03_place01_day_summer_resized.mp4 to G:\\내 드라이브\\Project\\RGBLab\\ABB\\Data\\Resized\\07.침입(trespass)\\outsidedoor_01\\146-4\\146-4_cam01_trespass03_place01_day_summer_resized.mp4\n"
     ]
    },
    {
     "name": "stderr",
     "output_type": "stream",
     "text": [
      "Copying files: 1729it [22:27,  5.33s/it]"
     ]
    },
    {
     "name": "stdout",
     "output_type": "stream",
     "text": [
      "Copying G:\\내 드라이브\\Project\\RGBLab\\ABB\\Data\\07.침입(trespass)\\outsidedoor_01\\146-5\\146-5_cam01_trespass03_place01_day_spring_resized.mp4 to G:\\내 드라이브\\Project\\RGBLab\\ABB\\Data\\Resized\\07.침입(trespass)\\outsidedoor_01\\146-5\\146-5_cam01_trespass03_place01_day_spring_resized.mp4\n"
     ]
    },
    {
     "name": "stderr",
     "output_type": "stream",
     "text": [
      "Copying files: 1730it [22:36,  6.28s/it]"
     ]
    },
    {
     "name": "stdout",
     "output_type": "stream",
     "text": [
      "Copying G:\\내 드라이브\\Project\\RGBLab\\ABB\\Data\\07.침입(trespass)\\outsidedoor_01\\146-5\\146-5_cam02_trespass03_place01_day_spring_resized.mp4 to G:\\내 드라이브\\Project\\RGBLab\\ABB\\Data\\Resized\\07.침입(trespass)\\outsidedoor_01\\146-5\\146-5_cam02_trespass03_place01_day_spring_resized.mp4\n"
     ]
    },
    {
     "name": "stderr",
     "output_type": "stream",
     "text": [
      "Copying files: 1731it [22:39,  5.30s/it]"
     ]
    },
    {
     "name": "stdout",
     "output_type": "stream",
     "text": [
      "Copying G:\\내 드라이브\\Project\\RGBLab\\ABB\\Data\\07.침입(trespass)\\outsidedoor_01\\146-5\\146-5_cam02_trespass03_place01_day_summer_resized.mp4 to G:\\내 드라이브\\Project\\RGBLab\\ABB\\Data\\Resized\\07.침입(trespass)\\outsidedoor_01\\146-5\\146-5_cam02_trespass03_place01_day_summer_resized.mp4\n"
     ]
    },
    {
     "name": "stderr",
     "output_type": "stream",
     "text": [
      "Copying files: 1732it [22:42,  4.60s/it]"
     ]
    },
    {
     "name": "stdout",
     "output_type": "stream",
     "text": [
      "Copying G:\\내 드라이브\\Project\\RGBLab\\ABB\\Data\\07.침입(trespass)\\outsidedoor_01\\146-5\\146-5_cam01_trespass03_place01_day_summer_resized.mp4 to G:\\내 드라이브\\Project\\RGBLab\\ABB\\Data\\Resized\\07.침입(trespass)\\outsidedoor_01\\146-5\\146-5_cam01_trespass03_place01_day_summer_resized.mp4\n"
     ]
    },
    {
     "name": "stderr",
     "output_type": "stream",
     "text": [
      "Copying files: 1733it [22:50,  5.67s/it]"
     ]
    },
    {
     "name": "stdout",
     "output_type": "stream",
     "text": [
      "Copying G:\\내 드라이브\\Project\\RGBLab\\ABB\\Data\\07.침입(trespass)\\outsidedoor_02\\146-6\\146-6_cam01_trespass03_place01_day_spring_resized.mp4 to G:\\내 드라이브\\Project\\RGBLab\\ABB\\Data\\Resized\\07.침입(trespass)\\outsidedoor_02\\146-6\\146-6_cam01_trespass03_place01_day_spring_resized.mp4\n"
     ]
    },
    {
     "name": "stderr",
     "output_type": "stream",
     "text": [
      "Copying files: 1734it [22:57,  6.12s/it]"
     ]
    },
    {
     "name": "stdout",
     "output_type": "stream",
     "text": [
      "Copying G:\\내 드라이브\\Project\\RGBLab\\ABB\\Data\\07.침입(trespass)\\outsidedoor_02\\146-6\\146-6_cam02_trespass03_place01_day_spring_resized.mp4 to G:\\내 드라이브\\Project\\RGBLab\\ABB\\Data\\Resized\\07.침입(trespass)\\outsidedoor_02\\146-6\\146-6_cam02_trespass03_place01_day_spring_resized.mp4\n"
     ]
    },
    {
     "name": "stderr",
     "output_type": "stream",
     "text": [
      "Copying files: 1735it [23:03,  5.97s/it]"
     ]
    },
    {
     "name": "stdout",
     "output_type": "stream",
     "text": [
      "Copying G:\\내 드라이브\\Project\\RGBLab\\ABB\\Data\\07.침입(trespass)\\outsidedoor_02\\146-6\\146-6_cam02_trespass03_place01_day_summer_resized.mp4 to G:\\내 드라이브\\Project\\RGBLab\\ABB\\Data\\Resized\\07.침입(trespass)\\outsidedoor_02\\146-6\\146-6_cam02_trespass03_place01_day_summer_resized.mp4\n"
     ]
    },
    {
     "name": "stderr",
     "output_type": "stream",
     "text": [
      "Copying files: 1736it [23:15,  7.84s/it]"
     ]
    },
    {
     "name": "stdout",
     "output_type": "stream",
     "text": [
      "Copying G:\\내 드라이브\\Project\\RGBLab\\ABB\\Data\\07.침입(trespass)\\outsidedoor_02\\146-6\\146-6_cam01_trespass03_place01_day_summer_resized.mp4 to G:\\내 드라이브\\Project\\RGBLab\\ABB\\Data\\Resized\\07.침입(trespass)\\outsidedoor_02\\146-6\\146-6_cam01_trespass03_place01_day_summer_resized.mp4\n"
     ]
    },
    {
     "name": "stderr",
     "output_type": "stream",
     "text": [
      "Copying files: 1737it [23:17,  6.28s/it]"
     ]
    },
    {
     "name": "stdout",
     "output_type": "stream",
     "text": [
      "Copying G:\\내 드라이브\\Project\\RGBLab\\ABB\\Data\\07.침입(trespass)\\outsidedoor_02\\147-1\\147-1_cam02_trespass01_place03_night_spring_resized.mp4 to G:\\내 드라이브\\Project\\RGBLab\\ABB\\Data\\Resized\\07.침입(trespass)\\outsidedoor_02\\147-1\\147-1_cam02_trespass01_place03_night_spring_resized.mp4\n"
     ]
    },
    {
     "name": "stderr",
     "output_type": "stream",
     "text": [
      "Copying files: 1738it [23:20,  5.12s/it]"
     ]
    },
    {
     "name": "stdout",
     "output_type": "stream",
     "text": [
      "Copying G:\\내 드라이브\\Project\\RGBLab\\ABB\\Data\\07.침입(trespass)\\outsidedoor_02\\147-1\\147-1_cam01_trespass01_place03_night_summer_resized.mp4 to G:\\내 드라이브\\Project\\RGBLab\\ABB\\Data\\Resized\\07.침입(trespass)\\outsidedoor_02\\147-1\\147-1_cam01_trespass01_place03_night_summer_resized.mp4\n"
     ]
    },
    {
     "name": "stderr",
     "output_type": "stream",
     "text": [
      "Copying files: 1739it [23:24,  4.69s/it]"
     ]
    },
    {
     "name": "stdout",
     "output_type": "stream",
     "text": [
      "Copying G:\\내 드라이브\\Project\\RGBLab\\ABB\\Data\\07.침입(trespass)\\outsidedoor_02\\147-1\\147-1_cam02_trespass01_place03_night_summer_resized.mp4 to G:\\내 드라이브\\Project\\RGBLab\\ABB\\Data\\Resized\\07.침입(trespass)\\outsidedoor_02\\147-1\\147-1_cam02_trespass01_place03_night_summer_resized.mp4\n"
     ]
    },
    {
     "name": "stderr",
     "output_type": "stream",
     "text": [
      "Copying files: 1740it [23:26,  3.89s/it]"
     ]
    },
    {
     "name": "stdout",
     "output_type": "stream",
     "text": [
      "Copying G:\\내 드라이브\\Project\\RGBLab\\ABB\\Data\\07.침입(trespass)\\outsidedoor_02\\147-1\\147-1_cam01_trespass01_place03_night_spring_resized.mp4 to G:\\내 드라이브\\Project\\RGBLab\\ABB\\Data\\Resized\\07.침입(trespass)\\outsidedoor_02\\147-1\\147-1_cam01_trespass01_place03_night_spring_resized.mp4\n"
     ]
    },
    {
     "name": "stderr",
     "output_type": "stream",
     "text": [
      "Copying files: 1741it [23:30,  4.15s/it]"
     ]
    },
    {
     "name": "stdout",
     "output_type": "stream",
     "text": [
      "Copying G:\\내 드라이브\\Project\\RGBLab\\ABB\\Data\\07.침입(trespass)\\outsidedoor_02\\147-2\\147-2_cam02_trespass01_place03_night_summer_resized.mp4 to G:\\내 드라이브\\Project\\RGBLab\\ABB\\Data\\Resized\\07.침입(trespass)\\outsidedoor_02\\147-2\\147-2_cam02_trespass01_place03_night_summer_resized.mp4\n"
     ]
    },
    {
     "name": "stderr",
     "output_type": "stream",
     "text": [
      "Copying files: 1742it [23:38,  5.09s/it]"
     ]
    },
    {
     "name": "stdout",
     "output_type": "stream",
     "text": [
      "Copying G:\\내 드라이브\\Project\\RGBLab\\ABB\\Data\\07.침입(trespass)\\outsidedoor_02\\147-2\\147-2_cam01_trespass01_place03_night_spring_resized.mp4 to G:\\내 드라이브\\Project\\RGBLab\\ABB\\Data\\Resized\\07.침입(trespass)\\outsidedoor_02\\147-2\\147-2_cam01_trespass01_place03_night_spring_resized.mp4\n"
     ]
    },
    {
     "name": "stderr",
     "output_type": "stream",
     "text": [
      "Copying files: 1743it [23:40,  4.16s/it]"
     ]
    },
    {
     "name": "stdout",
     "output_type": "stream",
     "text": [
      "Copying G:\\내 드라이브\\Project\\RGBLab\\ABB\\Data\\07.침입(trespass)\\outsidedoor_02\\147-2\\147-2_cam01_trespass01_place03_night_summer_resized.mp4 to G:\\내 드라이브\\Project\\RGBLab\\ABB\\Data\\Resized\\07.침입(trespass)\\outsidedoor_02\\147-2\\147-2_cam01_trespass01_place03_night_summer_resized.mp4\n"
     ]
    },
    {
     "name": "stderr",
     "output_type": "stream",
     "text": [
      "Copying files: 1744it [23:42,  3.52s/it]"
     ]
    },
    {
     "name": "stdout",
     "output_type": "stream",
     "text": [
      "Copying G:\\내 드라이브\\Project\\RGBLab\\ABB\\Data\\07.침입(trespass)\\outsidedoor_02\\147-2\\147-2_cam02_trespass01_place03_night_spring_resized.mp4 to G:\\내 드라이브\\Project\\RGBLab\\ABB\\Data\\Resized\\07.침입(trespass)\\outsidedoor_02\\147-2\\147-2_cam02_trespass01_place03_night_spring_resized.mp4\n"
     ]
    },
    {
     "name": "stderr",
     "output_type": "stream",
     "text": [
      "Copying files: 1745it [23:48,  4.33s/it]"
     ]
    },
    {
     "name": "stdout",
     "output_type": "stream",
     "text": [
      "Copying G:\\내 드라이브\\Project\\RGBLab\\ABB\\Data\\07.침입(trespass)\\outsidedoor_02\\147-3\\147-3_cam02_trespass01_place03_night_spring_resized.mp4 to G:\\내 드라이브\\Project\\RGBLab\\ABB\\Data\\Resized\\07.침입(trespass)\\outsidedoor_02\\147-3\\147-3_cam02_trespass01_place03_night_spring_resized.mp4\n"
     ]
    },
    {
     "name": "stderr",
     "output_type": "stream",
     "text": [
      "Copying files: 1746it [23:55,  5.11s/it]"
     ]
    },
    {
     "name": "stdout",
     "output_type": "stream",
     "text": [
      "Copying G:\\내 드라이브\\Project\\RGBLab\\ABB\\Data\\07.침입(trespass)\\outsidedoor_02\\147-3\\147-3_cam02_trespass01_place03_night_summer_resized.mp4 to G:\\내 드라이브\\Project\\RGBLab\\ABB\\Data\\Resized\\07.침입(trespass)\\outsidedoor_02\\147-3\\147-3_cam02_trespass01_place03_night_summer_resized.mp4\n"
     ]
    },
    {
     "name": "stderr",
     "output_type": "stream",
     "text": [
      "Copying files: 1747it [24:02,  5.74s/it]"
     ]
    },
    {
     "name": "stdout",
     "output_type": "stream",
     "text": [
      "Copying G:\\내 드라이브\\Project\\RGBLab\\ABB\\Data\\07.침입(trespass)\\outsidedoor_02\\147-3\\147-3_cam01_trespass01_place03_night_summer_resized.mp4 to G:\\내 드라이브\\Project\\RGBLab\\ABB\\Data\\Resized\\07.침입(trespass)\\outsidedoor_02\\147-3\\147-3_cam01_trespass01_place03_night_summer_resized.mp4\n"
     ]
    },
    {
     "name": "stderr",
     "output_type": "stream",
     "text": [
      "Copying files: 1748it [24:06,  5.34s/it]"
     ]
    },
    {
     "name": "stdout",
     "output_type": "stream",
     "text": [
      "Copying G:\\내 드라이브\\Project\\RGBLab\\ABB\\Data\\07.침입(trespass)\\outsidedoor_02\\147-3\\147-3_cam01_trespass01_place03_night_spring_resized.mp4 to G:\\내 드라이브\\Project\\RGBLab\\ABB\\Data\\Resized\\07.침입(trespass)\\outsidedoor_02\\147-3\\147-3_cam01_trespass01_place03_night_spring_resized.mp4\n"
     ]
    },
    {
     "name": "stderr",
     "output_type": "stream",
     "text": [
      "Copying files: 1749it [24:12,  5.27s/it]"
     ]
    },
    {
     "name": "stdout",
     "output_type": "stream",
     "text": [
      "Copying G:\\내 드라이브\\Project\\RGBLab\\ABB\\Data\\07.침입(trespass)\\outsidedoor_02\\147-4\\147-4_cam02_trespass01_place03_night_spring_resized.mp4 to G:\\내 드라이브\\Project\\RGBLab\\ABB\\Data\\Resized\\07.침입(trespass)\\outsidedoor_02\\147-4\\147-4_cam02_trespass01_place03_night_spring_resized.mp4\n"
     ]
    },
    {
     "name": "stderr",
     "output_type": "stream",
     "text": [
      "Copying files: 1750it [24:14,  4.45s/it]"
     ]
    },
    {
     "name": "stdout",
     "output_type": "stream",
     "text": [
      "Copying G:\\내 드라이브\\Project\\RGBLab\\ABB\\Data\\07.침입(trespass)\\outsidedoor_02\\147-4\\147-4_cam02_trespass01_place03_night_summer_resized.mp4 to G:\\내 드라이브\\Project\\RGBLab\\ABB\\Data\\Resized\\07.침입(trespass)\\outsidedoor_02\\147-4\\147-4_cam02_trespass01_place03_night_summer_resized.mp4\n"
     ]
    },
    {
     "name": "stderr",
     "output_type": "stream",
     "text": [
      "Copying files: 1751it [24:20,  4.79s/it]"
     ]
    },
    {
     "name": "stdout",
     "output_type": "stream",
     "text": [
      "Copying G:\\내 드라이브\\Project\\RGBLab\\ABB\\Data\\07.침입(trespass)\\outsidedoor_02\\147-4\\147-4_cam01_trespass01_place03_night_summer_resized.mp4 to G:\\내 드라이브\\Project\\RGBLab\\ABB\\Data\\Resized\\07.침입(trespass)\\outsidedoor_02\\147-4\\147-4_cam01_trespass01_place03_night_summer_resized.mp4\n"
     ]
    },
    {
     "name": "stderr",
     "output_type": "stream",
     "text": [
      "Copying files: 1752it [24:21,  3.91s/it]"
     ]
    },
    {
     "name": "stdout",
     "output_type": "stream",
     "text": [
      "Copying G:\\내 드라이브\\Project\\RGBLab\\ABB\\Data\\07.침입(trespass)\\outsidedoor_02\\147-4\\147-4_cam01_trespass01_place03_night_spring_resized.mp4 to G:\\내 드라이브\\Project\\RGBLab\\ABB\\Data\\Resized\\07.침입(trespass)\\outsidedoor_02\\147-4\\147-4_cam01_trespass01_place03_night_spring_resized.mp4\n"
     ]
    },
    {
     "name": "stderr",
     "output_type": "stream",
     "text": [
      "Copying files: 1753it [24:24,  3.35s/it]"
     ]
    },
    {
     "name": "stdout",
     "output_type": "stream",
     "text": [
      "Copying G:\\내 드라이브\\Project\\RGBLab\\ABB\\Data\\07.침입(trespass)\\outsidedoor_02\\147-5\\147-5_cam01_trespass01_place03_night_summer_resized.mp4 to G:\\내 드라이브\\Project\\RGBLab\\ABB\\Data\\Resized\\07.침입(trespass)\\outsidedoor_02\\147-5\\147-5_cam01_trespass01_place03_night_summer_resized.mp4\n"
     ]
    },
    {
     "name": "stderr",
     "output_type": "stream",
     "text": [
      "Copying files: 1754it [24:25,  2.93s/it]"
     ]
    },
    {
     "name": "stdout",
     "output_type": "stream",
     "text": [
      "Copying G:\\내 드라이브\\Project\\RGBLab\\ABB\\Data\\07.침입(trespass)\\outsidedoor_02\\147-5\\147-5_cam02_trespass01_place03_night_spring_resized.mp4 to G:\\내 드라이브\\Project\\RGBLab\\ABB\\Data\\Resized\\07.침입(trespass)\\outsidedoor_02\\147-5\\147-5_cam02_trespass01_place03_night_spring_resized.mp4\n"
     ]
    },
    {
     "name": "stderr",
     "output_type": "stream",
     "text": [
      "Copying files: 1755it [24:33,  4.17s/it]"
     ]
    },
    {
     "name": "stdout",
     "output_type": "stream",
     "text": [
      "Copying G:\\내 드라이브\\Project\\RGBLab\\ABB\\Data\\07.침입(trespass)\\outsidedoor_02\\147-5\\147-5_cam02_trespass01_place03_night_summer_resized.mp4 to G:\\내 드라이브\\Project\\RGBLab\\ABB\\Data\\Resized\\07.침입(trespass)\\outsidedoor_02\\147-5\\147-5_cam02_trespass01_place03_night_summer_resized.mp4\n"
     ]
    },
    {
     "name": "stderr",
     "output_type": "stream",
     "text": [
      "Copying files: 1756it [24:37,  4.20s/it]"
     ]
    },
    {
     "name": "stdout",
     "output_type": "stream",
     "text": [
      "Copying G:\\내 드라이브\\Project\\RGBLab\\ABB\\Data\\07.침입(trespass)\\outsidedoor_02\\147-5\\147-5_cam01_trespass01_place03_night_spring_resized.mp4 to G:\\내 드라이브\\Project\\RGBLab\\ABB\\Data\\Resized\\07.침입(trespass)\\outsidedoor_02\\147-5\\147-5_cam01_trespass01_place03_night_spring_resized.mp4\n"
     ]
    },
    {
     "name": "stderr",
     "output_type": "stream",
     "text": [
      "Copying files: 1757it [24:39,  3.45s/it]"
     ]
    },
    {
     "name": "stdout",
     "output_type": "stream",
     "text": [
      "Copying G:\\내 드라이브\\Project\\RGBLab\\ABB\\Data\\07.침입(trespass)\\outsidedoor_02\\147-6\\147-6_cam01_trespass01_place03_night_spring_resized.mp4 to G:\\내 드라이브\\Project\\RGBLab\\ABB\\Data\\Resized\\07.침입(trespass)\\outsidedoor_02\\147-6\\147-6_cam01_trespass01_place03_night_spring_resized.mp4\n"
     ]
    },
    {
     "name": "stderr",
     "output_type": "stream",
     "text": [
      "Copying files: 1758it [24:40,  2.91s/it]"
     ]
    },
    {
     "name": "stdout",
     "output_type": "stream",
     "text": [
      "Copying G:\\내 드라이브\\Project\\RGBLab\\ABB\\Data\\07.침입(trespass)\\outsidedoor_02\\147-6\\147-6_cam01_trespass01_place03_night_summer_resized.mp4 to G:\\내 드라이브\\Project\\RGBLab\\ABB\\Data\\Resized\\07.침입(trespass)\\outsidedoor_02\\147-6\\147-6_cam01_trespass01_place03_night_summer_resized.mp4\n"
     ]
    },
    {
     "name": "stderr",
     "output_type": "stream",
     "text": [
      "Copying files: 1759it [24:42,  2.70s/it]"
     ]
    },
    {
     "name": "stdout",
     "output_type": "stream",
     "text": [
      "Copying G:\\내 드라이브\\Project\\RGBLab\\ABB\\Data\\07.침입(trespass)\\outsidedoor_02\\147-6\\147-6_cam02_trespass01_place03_night_spring_resized.mp4 to G:\\내 드라이브\\Project\\RGBLab\\ABB\\Data\\Resized\\07.침입(trespass)\\outsidedoor_02\\147-6\\147-6_cam02_trespass01_place03_night_spring_resized.mp4\n"
     ]
    },
    {
     "name": "stderr",
     "output_type": "stream",
     "text": [
      "Copying files: 1760it [24:44,  2.49s/it]"
     ]
    },
    {
     "name": "stdout",
     "output_type": "stream",
     "text": [
      "Copying G:\\내 드라이브\\Project\\RGBLab\\ABB\\Data\\07.침입(trespass)\\outsidedoor_02\\147-6\\147-6_cam02_trespass01_place03_night_summer_resized.mp4 to G:\\내 드라이브\\Project\\RGBLab\\ABB\\Data\\Resized\\07.침입(trespass)\\outsidedoor_02\\147-6\\147-6_cam02_trespass01_place03_night_summer_resized.mp4\n"
     ]
    },
    {
     "name": "stderr",
     "output_type": "stream",
     "text": [
      "Copying files: 1761it [24:50,  3.40s/it]"
     ]
    },
    {
     "name": "stdout",
     "output_type": "stream",
     "text": [
      "Copying G:\\내 드라이브\\Project\\RGBLab\\ABB\\Data\\07.침입(trespass)\\outsidedoor_02\\148-1\\148-1_cam02_trespass02_place03_day_spring_resized.mp4 to G:\\내 드라이브\\Project\\RGBLab\\ABB\\Data\\Resized\\07.침입(trespass)\\outsidedoor_02\\148-1\\148-1_cam02_trespass02_place03_day_spring_resized.mp4\n"
     ]
    },
    {
     "name": "stderr",
     "output_type": "stream",
     "text": [
      "Copying files: 1762it [24:52,  3.15s/it]"
     ]
    },
    {
     "name": "stdout",
     "output_type": "stream",
     "text": [
      "Copying G:\\내 드라이브\\Project\\RGBLab\\ABB\\Data\\07.침입(trespass)\\outsidedoor_02\\148-1\\148-1_cam01_trespass02_place03_day_spring_resized.mp4 to G:\\내 드라이브\\Project\\RGBLab\\ABB\\Data\\Resized\\07.침입(trespass)\\outsidedoor_02\\148-1\\148-1_cam01_trespass02_place03_day_spring_resized.mp4\n"
     ]
    },
    {
     "name": "stderr",
     "output_type": "stream",
     "text": [
      "Copying files: 1763it [24:56,  3.16s/it]"
     ]
    },
    {
     "name": "stdout",
     "output_type": "stream",
     "text": [
      "Copying G:\\내 드라이브\\Project\\RGBLab\\ABB\\Data\\07.침입(trespass)\\outsidedoor_02\\148-1\\148-1_cam01_trespass02_place03_day_summer_resized.mp4 to G:\\내 드라이브\\Project\\RGBLab\\ABB\\Data\\Resized\\07.침입(trespass)\\outsidedoor_02\\148-1\\148-1_cam01_trespass02_place03_day_summer_resized.mp4\n"
     ]
    },
    {
     "name": "stderr",
     "output_type": "stream",
     "text": [
      "Copying files: 1764it [25:06,  5.19s/it]"
     ]
    },
    {
     "name": "stdout",
     "output_type": "stream",
     "text": [
      "Copying G:\\내 드라이브\\Project\\RGBLab\\ABB\\Data\\07.침입(trespass)\\outsidedoor_02\\148-1\\148-1_cam02_trespass02_place03_day_summer_resized.mp4 to G:\\내 드라이브\\Project\\RGBLab\\ABB\\Data\\Resized\\07.침입(trespass)\\outsidedoor_02\\148-1\\148-1_cam02_trespass02_place03_day_summer_resized.mp4\n"
     ]
    },
    {
     "name": "stderr",
     "output_type": "stream",
     "text": [
      "Copying files: 1765it [25:16,  6.64s/it]"
     ]
    },
    {
     "name": "stdout",
     "output_type": "stream",
     "text": [
      "Copying G:\\내 드라이브\\Project\\RGBLab\\ABB\\Data\\07.침입(trespass)\\outsidedoor_02\\148-2\\148-2_cam01_trespass02_place03_day_summer_resized.mp4 to G:\\내 드라이브\\Project\\RGBLab\\ABB\\Data\\Resized\\07.침입(trespass)\\outsidedoor_02\\148-2\\148-2_cam01_trespass02_place03_day_summer_resized.mp4\n"
     ]
    },
    {
     "name": "stderr",
     "output_type": "stream",
     "text": [
      "Copying files: 1766it [25:16,  4.74s/it]"
     ]
    },
    {
     "name": "stdout",
     "output_type": "stream",
     "text": [
      "Copying G:\\내 드라이브\\Project\\RGBLab\\ABB\\Data\\07.침입(trespass)\\outsidedoor_02\\148-2\\148-2_cam02_trespass02_place03_day_spring_resized.mp4 to G:\\내 드라이브\\Project\\RGBLab\\ABB\\Data\\Resized\\07.침입(trespass)\\outsidedoor_02\\148-2\\148-2_cam02_trespass02_place03_day_spring_resized.mp4\n"
     ]
    },
    {
     "name": "stderr",
     "output_type": "stream",
     "text": [
      "Copying files: 1767it [25:19,  4.22s/it]"
     ]
    },
    {
     "name": "stdout",
     "output_type": "stream",
     "text": [
      "Copying G:\\내 드라이브\\Project\\RGBLab\\ABB\\Data\\07.침입(trespass)\\outsidedoor_02\\148-2\\148-2_cam02_trespass02_place03_day_summer_resized.mp4 to G:\\내 드라이브\\Project\\RGBLab\\ABB\\Data\\Resized\\07.침입(trespass)\\outsidedoor_02\\148-2\\148-2_cam02_trespass02_place03_day_summer_resized.mp4\n"
     ]
    },
    {
     "name": "stderr",
     "output_type": "stream",
     "text": [
      "Copying files: 1768it [25:29,  6.08s/it]"
     ]
    },
    {
     "name": "stdout",
     "output_type": "stream",
     "text": [
      "Copying G:\\내 드라이브\\Project\\RGBLab\\ABB\\Data\\07.침입(trespass)\\outsidedoor_02\\148-2\\148-2_cam01_trespass02_place03_day_spring_resized.mp4 to G:\\내 드라이브\\Project\\RGBLab\\ABB\\Data\\Resized\\07.침입(trespass)\\outsidedoor_02\\148-2\\148-2_cam01_trespass02_place03_day_spring_resized.mp4\n"
     ]
    },
    {
     "name": "stderr",
     "output_type": "stream",
     "text": [
      "Copying files: 1769it [25:33,  5.32s/it]"
     ]
    },
    {
     "name": "stdout",
     "output_type": "stream",
     "text": [
      "Copying G:\\내 드라이브\\Project\\RGBLab\\ABB\\Data\\07.침입(trespass)\\outsidedoor_02\\148-3\\148-3_cam02_trespass02_place03_day_summer_resized.mp4 to G:\\내 드라이브\\Project\\RGBLab\\ABB\\Data\\Resized\\07.침입(trespass)\\outsidedoor_02\\148-3\\148-3_cam02_trespass02_place03_day_summer_resized.mp4\n"
     ]
    },
    {
     "name": "stderr",
     "output_type": "stream",
     "text": [
      "Copying files: 1770it [25:41,  6.08s/it]"
     ]
    },
    {
     "name": "stdout",
     "output_type": "stream",
     "text": [
      "Copying G:\\내 드라이브\\Project\\RGBLab\\ABB\\Data\\07.침입(trespass)\\outsidedoor_02\\148-3\\148-3_cam01_trespass02_place03_day_summer_resized.mp4 to G:\\내 드라이브\\Project\\RGBLab\\ABB\\Data\\Resized\\07.침입(trespass)\\outsidedoor_02\\148-3\\148-3_cam01_trespass02_place03_day_summer_resized.mp4\n"
     ]
    },
    {
     "name": "stderr",
     "output_type": "stream",
     "text": [
      "Copying files: 1771it [25:53,  7.90s/it]"
     ]
    },
    {
     "name": "stdout",
     "output_type": "stream",
     "text": [
      "Copying G:\\내 드라이브\\Project\\RGBLab\\ABB\\Data\\07.침입(trespass)\\outsidedoor_02\\148-3\\148-3_cam01_trespass02_place03_day_spring_resized.mp4 to G:\\내 드라이브\\Project\\RGBLab\\ABB\\Data\\Resized\\07.침입(trespass)\\outsidedoor_02\\148-3\\148-3_cam01_trespass02_place03_day_spring_resized.mp4\n"
     ]
    },
    {
     "name": "stderr",
     "output_type": "stream",
     "text": [
      "Copying files: 1772it [25:56,  6.47s/it]"
     ]
    },
    {
     "name": "stdout",
     "output_type": "stream",
     "text": [
      "Copying G:\\내 드라이브\\Project\\RGBLab\\ABB\\Data\\07.침입(trespass)\\outsidedoor_02\\148-3\\148-3_cam02_trespass02_place03_day_spring_resized.mp4 to G:\\내 드라이브\\Project\\RGBLab\\ABB\\Data\\Resized\\07.침입(trespass)\\outsidedoor_02\\148-3\\148-3_cam02_trespass02_place03_day_spring_resized.mp4\n"
     ]
    },
    {
     "name": "stderr",
     "output_type": "stream",
     "text": [
      "Copying files: 1773it [26:06,  7.56s/it]"
     ]
    },
    {
     "name": "stdout",
     "output_type": "stream",
     "text": [
      "Copying G:\\내 드라이브\\Project\\RGBLab\\ABB\\Data\\07.침입(trespass)\\outsidedoor_02\\148-4\\148-4_cam01_trespass02_place03_day_summer_resized.mp4 to G:\\내 드라이브\\Project\\RGBLab\\ABB\\Data\\Resized\\07.침입(trespass)\\outsidedoor_02\\148-4\\148-4_cam01_trespass02_place03_day_summer_resized.mp4\n"
     ]
    },
    {
     "name": "stderr",
     "output_type": "stream",
     "text": [
      "Copying files: 1774it [26:09,  6.08s/it]"
     ]
    },
    {
     "name": "stdout",
     "output_type": "stream",
     "text": [
      "Copying G:\\내 드라이브\\Project\\RGBLab\\ABB\\Data\\07.침입(trespass)\\outsidedoor_02\\148-4\\148-4_cam02_trespass02_place03_day_spring_resized.mp4 to G:\\내 드라이브\\Project\\RGBLab\\ABB\\Data\\Resized\\07.침입(trespass)\\outsidedoor_02\\148-4\\148-4_cam02_trespass02_place03_day_spring_resized.mp4\n"
     ]
    },
    {
     "name": "stderr",
     "output_type": "stream",
     "text": [
      "Copying files: 1775it [26:16,  6.51s/it]"
     ]
    },
    {
     "name": "stdout",
     "output_type": "stream",
     "text": [
      "Copying G:\\내 드라이브\\Project\\RGBLab\\ABB\\Data\\07.침입(trespass)\\outsidedoor_02\\148-4\\148-4_cam01_trespass02_place03_day_spring_resized.mp4 to G:\\내 드라이브\\Project\\RGBLab\\ABB\\Data\\Resized\\07.침입(trespass)\\outsidedoor_02\\148-4\\148-4_cam01_trespass02_place03_day_spring_resized.mp4\n"
     ]
    },
    {
     "name": "stderr",
     "output_type": "stream",
     "text": [
      "Copying files: 1776it [26:21,  5.95s/it]"
     ]
    },
    {
     "name": "stdout",
     "output_type": "stream",
     "text": [
      "Copying G:\\내 드라이브\\Project\\RGBLab\\ABB\\Data\\07.침입(trespass)\\outsidedoor_02\\148-4\\148-4_cam02_trespass02_place03_day_summer_resized.mp4 to G:\\내 드라이브\\Project\\RGBLab\\ABB\\Data\\Resized\\07.침입(trespass)\\outsidedoor_02\\148-4\\148-4_cam02_trespass02_place03_day_summer_resized.mp4\n"
     ]
    },
    {
     "name": "stderr",
     "output_type": "stream",
     "text": [
      "Copying files: 1777it [26:30,  6.86s/it]"
     ]
    },
    {
     "name": "stdout",
     "output_type": "stream",
     "text": [
      "Copying G:\\내 드라이브\\Project\\RGBLab\\ABB\\Data\\07.침입(trespass)\\outsidedoor_02\\148-5\\148-5_cam02_trespass02_place03_day_spring_resized.mp4 to G:\\내 드라이브\\Project\\RGBLab\\ABB\\Data\\Resized\\07.침입(trespass)\\outsidedoor_02\\148-5\\148-5_cam02_trespass02_place03_day_spring_resized.mp4\n"
     ]
    },
    {
     "name": "stderr",
     "output_type": "stream",
     "text": [
      "Copying files: 1778it [26:33,  5.78s/it]"
     ]
    },
    {
     "name": "stdout",
     "output_type": "stream",
     "text": [
      "Copying G:\\내 드라이브\\Project\\RGBLab\\ABB\\Data\\07.침입(trespass)\\outsidedoor_02\\148-5\\148-5_cam01_trespass02_place03_day_spring_resized.mp4 to G:\\내 드라이브\\Project\\RGBLab\\ABB\\Data\\Resized\\07.침입(trespass)\\outsidedoor_02\\148-5\\148-5_cam01_trespass02_place03_day_spring_resized.mp4\n"
     ]
    },
    {
     "name": "stderr",
     "output_type": "stream",
     "text": [
      "Copying files: 1779it [26:42,  6.62s/it]"
     ]
    },
    {
     "name": "stdout",
     "output_type": "stream",
     "text": [
      "Copying G:\\내 드라이브\\Project\\RGBLab\\ABB\\Data\\07.침입(trespass)\\outsidedoor_02\\148-5\\148-5_cam02_trespass02_place03_day_summer_resized.mp4 to G:\\내 드라이브\\Project\\RGBLab\\ABB\\Data\\Resized\\07.침입(trespass)\\outsidedoor_02\\148-5\\148-5_cam02_trespass02_place03_day_summer_resized.mp4\n"
     ]
    },
    {
     "name": "stderr",
     "output_type": "stream",
     "text": [
      "Copying files: 1780it [26:42,  4.70s/it]"
     ]
    },
    {
     "name": "stdout",
     "output_type": "stream",
     "text": [
      "Copying G:\\내 드라이브\\Project\\RGBLab\\ABB\\Data\\07.침입(trespass)\\outsidedoor_02\\148-5\\148-5_cam01_trespass02_place03_day_summer_resized.mp4 to G:\\내 드라이브\\Project\\RGBLab\\ABB\\Data\\Resized\\07.침입(trespass)\\outsidedoor_02\\148-5\\148-5_cam01_trespass02_place03_day_summer_resized.mp4\n"
     ]
    },
    {
     "name": "stderr",
     "output_type": "stream",
     "text": [
      "Copying files: 1781it [26:44,  4.02s/it]"
     ]
    },
    {
     "name": "stdout",
     "output_type": "stream",
     "text": [
      "Copying G:\\내 드라이브\\Project\\RGBLab\\ABB\\Data\\07.침입(trespass)\\outsidedoor_02\\148-6\\148-6_cam02_trespass02_place03_day_spring_resized.mp4 to G:\\내 드라이브\\Project\\RGBLab\\ABB\\Data\\Resized\\07.침입(trespass)\\outsidedoor_02\\148-6\\148-6_cam02_trespass02_place03_day_spring_resized.mp4\n"
     ]
    },
    {
     "name": "stderr",
     "output_type": "stream",
     "text": [
      "Copying files: 1782it [26:57,  6.66s/it]"
     ]
    },
    {
     "name": "stdout",
     "output_type": "stream",
     "text": [
      "Copying G:\\내 드라이브\\Project\\RGBLab\\ABB\\Data\\07.침입(trespass)\\outsidedoor_02\\148-6\\148-6_cam01_trespass02_place03_day_summer_resized.mp4 to G:\\내 드라이브\\Project\\RGBLab\\ABB\\Data\\Resized\\07.침입(trespass)\\outsidedoor_02\\148-6\\148-6_cam01_trespass02_place03_day_summer_resized.mp4\n"
     ]
    },
    {
     "name": "stderr",
     "output_type": "stream",
     "text": [
      "Copying files: 1783it [27:09,  8.15s/it]"
     ]
    },
    {
     "name": "stdout",
     "output_type": "stream",
     "text": [
      "Copying G:\\내 드라이브\\Project\\RGBLab\\ABB\\Data\\07.침입(trespass)\\outsidedoor_02\\148-6\\148-6_cam02_trespass02_place03_day_summer_resized.mp4 to G:\\내 드라이브\\Project\\RGBLab\\ABB\\Data\\Resized\\07.침입(trespass)\\outsidedoor_02\\148-6\\148-6_cam02_trespass02_place03_day_summer_resized.mp4\n"
     ]
    },
    {
     "name": "stderr",
     "output_type": "stream",
     "text": [
      "Copying files: 1784it [27:12,  6.57s/it]"
     ]
    },
    {
     "name": "stdout",
     "output_type": "stream",
     "text": [
      "Copying G:\\내 드라이브\\Project\\RGBLab\\ABB\\Data\\07.침입(trespass)\\outsidedoor_02\\148-6\\148-6_cam01_trespass02_place03_day_spring_resized.mp4 to G:\\내 드라이브\\Project\\RGBLab\\ABB\\Data\\Resized\\07.침입(trespass)\\outsidedoor_02\\148-6\\148-6_cam01_trespass02_place03_day_spring_resized.mp4\n"
     ]
    },
    {
     "name": "stderr",
     "output_type": "stream",
     "text": [
      "Copying files: 1785it [27:17,  6.12s/it]"
     ]
    },
    {
     "name": "stdout",
     "output_type": "stream",
     "text": [
      "Copying G:\\내 드라이브\\Project\\RGBLab\\ABB\\Data\\07.침입(trespass)\\outsidedoor_03\\149-1\\149-1_cam02_trespass01_place01_night_spring_resized.mp4 to G:\\내 드라이브\\Project\\RGBLab\\ABB\\Data\\Resized\\07.침입(trespass)\\outsidedoor_03\\149-1\\149-1_cam02_trespass01_place01_night_spring_resized.mp4\n"
     ]
    },
    {
     "name": "stderr",
     "output_type": "stream",
     "text": [
      "Copying files: 1786it [27:21,  5.43s/it]"
     ]
    },
    {
     "name": "stdout",
     "output_type": "stream",
     "text": [
      "Copying G:\\내 드라이브\\Project\\RGBLab\\ABB\\Data\\07.침입(trespass)\\outsidedoor_03\\149-1\\149-1_cam02_trespass01_place01_night_summer_resized.mp4 to G:\\내 드라이브\\Project\\RGBLab\\ABB\\Data\\Resized\\07.침입(trespass)\\outsidedoor_03\\149-1\\149-1_cam02_trespass01_place01_night_summer_resized.mp4\n"
     ]
    },
    {
     "name": "stderr",
     "output_type": "stream",
     "text": [
      "Copying files: 1787it [27:24,  4.90s/it]"
     ]
    },
    {
     "name": "stdout",
     "output_type": "stream",
     "text": [
      "Copying G:\\내 드라이브\\Project\\RGBLab\\ABB\\Data\\07.침입(trespass)\\outsidedoor_03\\149-1\\149-1_cam01_trespass01_place01_night_spring_resized.mp4 to G:\\내 드라이브\\Project\\RGBLab\\ABB\\Data\\Resized\\07.침입(trespass)\\outsidedoor_03\\149-1\\149-1_cam01_trespass01_place01_night_spring_resized.mp4\n"
     ]
    },
    {
     "name": "stderr",
     "output_type": "stream",
     "text": [
      "Copying files: 1788it [27:26,  3.80s/it]"
     ]
    },
    {
     "name": "stdout",
     "output_type": "stream",
     "text": [
      "Copying G:\\내 드라이브\\Project\\RGBLab\\ABB\\Data\\07.침입(trespass)\\outsidedoor_03\\149-2\\149-2_cam02_trespass01_place01_night_spring_resized.mp4 to G:\\내 드라이브\\Project\\RGBLab\\ABB\\Data\\Resized\\07.침입(trespass)\\outsidedoor_03\\149-2\\149-2_cam02_trespass01_place01_night_spring_resized.mp4\n"
     ]
    },
    {
     "name": "stderr",
     "output_type": "stream",
     "text": [
      "Copying files: 1789it [27:27,  2.97s/it]"
     ]
    },
    {
     "name": "stdout",
     "output_type": "stream",
     "text": [
      "Copying G:\\내 드라이브\\Project\\RGBLab\\ABB\\Data\\07.침입(trespass)\\outsidedoor_03\\149-2\\149-2_cam01_trespass01_place01_night_summer_resized.mp4 to G:\\내 드라이브\\Project\\RGBLab\\ABB\\Data\\Resized\\07.침입(trespass)\\outsidedoor_03\\149-2\\149-2_cam01_trespass01_place01_night_summer_resized.mp4\n"
     ]
    },
    {
     "name": "stderr",
     "output_type": "stream",
     "text": [
      "Copying files: 1790it [27:31,  3.36s/it]"
     ]
    },
    {
     "name": "stdout",
     "output_type": "stream",
     "text": [
      "Copying G:\\내 드라이브\\Project\\RGBLab\\ABB\\Data\\07.침입(trespass)\\outsidedoor_03\\149-2\\149-2_cam02_trespass01_place01_night_summer_resized.mp4 to G:\\내 드라이브\\Project\\RGBLab\\ABB\\Data\\Resized\\07.침입(trespass)\\outsidedoor_03\\149-2\\149-2_cam02_trespass01_place01_night_summer_resized.mp4\n"
     ]
    },
    {
     "name": "stderr",
     "output_type": "stream",
     "text": [
      "Copying files: 1791it [27:34,  3.27s/it]"
     ]
    },
    {
     "name": "stdout",
     "output_type": "stream",
     "text": [
      "Copying G:\\내 드라이브\\Project\\RGBLab\\ABB\\Data\\07.침입(trespass)\\outsidedoor_03\\149-2\\149-2_cam01_trespass01_place01_night_spring_resized.mp4 to G:\\내 드라이브\\Project\\RGBLab\\ABB\\Data\\Resized\\07.침입(trespass)\\outsidedoor_03\\149-2\\149-2_cam01_trespass01_place01_night_spring_resized.mp4\n",
      "Copying G:\\내 드라이브\\Project\\RGBLab\\ABB\\Data\\07.침입(trespass)\\outsidedoor_03\\149-3\\149-3_cam01_trespass01_place01_night_spring_resized.mp4 to G:\\내 드라이브\\Project\\RGBLab\\ABB\\Data\\Resized\\07.침입(trespass)\\outsidedoor_03\\149-3\\149-3_cam01_trespass01_place01_night_spring_resized.mp4\n"
     ]
    },
    {
     "name": "stderr",
     "output_type": "stream",
     "text": [
      "Copying files: 1793it [27:38,  2.60s/it]"
     ]
    },
    {
     "name": "stdout",
     "output_type": "stream",
     "text": [
      "Copying G:\\내 드라이브\\Project\\RGBLab\\ABB\\Data\\07.침입(trespass)\\outsidedoor_03\\149-3\\149-3_cam02_trespass01_place01_night_summer_resized.mp4 to G:\\내 드라이브\\Project\\RGBLab\\ABB\\Data\\Resized\\07.침입(trespass)\\outsidedoor_03\\149-3\\149-3_cam02_trespass01_place01_night_summer_resized.mp4\n"
     ]
    },
    {
     "name": "stderr",
     "output_type": "stream",
     "text": [
      "Copying files: 1794it [27:41,  2.73s/it]"
     ]
    },
    {
     "name": "stdout",
     "output_type": "stream",
     "text": [
      "Copying G:\\내 드라이브\\Project\\RGBLab\\ABB\\Data\\07.침입(trespass)\\outsidedoor_03\\149-3\\149-3_cam02_trespass01_place01_night_spring_resized.mp4 to G:\\내 드라이브\\Project\\RGBLab\\ABB\\Data\\Resized\\07.침입(trespass)\\outsidedoor_03\\149-3\\149-3_cam02_trespass01_place01_night_spring_resized.mp4\n"
     ]
    },
    {
     "name": "stderr",
     "output_type": "stream",
     "text": [
      "Copying files: 1795it [27:45,  3.03s/it]"
     ]
    },
    {
     "name": "stdout",
     "output_type": "stream",
     "text": [
      "Copying G:\\내 드라이브\\Project\\RGBLab\\ABB\\Data\\07.침입(trespass)\\outsidedoor_03\\149-3\\149-3_cam01_trespass01_place01_night_summer_resized.mp4 to G:\\내 드라이브\\Project\\RGBLab\\ABB\\Data\\Resized\\07.침입(trespass)\\outsidedoor_03\\149-3\\149-3_cam01_trespass01_place01_night_summer_resized.mp4\n"
     ]
    },
    {
     "name": "stderr",
     "output_type": "stream",
     "text": [
      "Copying files: 1796it [27:48,  3.14s/it]"
     ]
    },
    {
     "name": "stdout",
     "output_type": "stream",
     "text": [
      "Copying G:\\내 드라이브\\Project\\RGBLab\\ABB\\Data\\07.침입(trespass)\\outsidedoor_03\\149-4\\149-4_cam02_trespass01_place01_night_spring_resized.mp4 to G:\\내 드라이브\\Project\\RGBLab\\ABB\\Data\\Resized\\07.침입(trespass)\\outsidedoor_03\\149-4\\149-4_cam02_trespass01_place01_night_spring_resized.mp4\n"
     ]
    },
    {
     "name": "stderr",
     "output_type": "stream",
     "text": [
      "Copying files: 1797it [27:52,  3.34s/it]"
     ]
    },
    {
     "name": "stdout",
     "output_type": "stream",
     "text": [
      "Copying G:\\내 드라이브\\Project\\RGBLab\\ABB\\Data\\07.침입(trespass)\\outsidedoor_03\\149-4\\149-4_cam02_trespass01_place01_night_summer_resized.mp4 to G:\\내 드라이브\\Project\\RGBLab\\ABB\\Data\\Resized\\07.침입(trespass)\\outsidedoor_03\\149-4\\149-4_cam02_trespass01_place01_night_summer_resized.mp4\n"
     ]
    },
    {
     "name": "stderr",
     "output_type": "stream",
     "text": [
      "Copying files: 1798it [27:55,  3.25s/it]"
     ]
    },
    {
     "name": "stdout",
     "output_type": "stream",
     "text": [
      "Copying G:\\내 드라이브\\Project\\RGBLab\\ABB\\Data\\07.침입(trespass)\\outsidedoor_03\\149-4\\149-4_cam01_trespass01_place01_night_summer_resized.mp4 to G:\\내 드라이브\\Project\\RGBLab\\ABB\\Data\\Resized\\07.침입(trespass)\\outsidedoor_03\\149-4\\149-4_cam01_trespass01_place01_night_summer_resized.mp4\n"
     ]
    },
    {
     "name": "stderr",
     "output_type": "stream",
     "text": [
      "Copying files: 1799it [27:58,  3.23s/it]"
     ]
    },
    {
     "name": "stdout",
     "output_type": "stream",
     "text": [
      "Copying G:\\내 드라이브\\Project\\RGBLab\\ABB\\Data\\07.침입(trespass)\\outsidedoor_03\\149-4\\149-4_cam01_trespass01_place01_night_spring_resized.mp4 to G:\\내 드라이브\\Project\\RGBLab\\ABB\\Data\\Resized\\07.침입(trespass)\\outsidedoor_03\\149-4\\149-4_cam01_trespass01_place01_night_spring_resized.mp4\n"
     ]
    },
    {
     "name": "stderr",
     "output_type": "stream",
     "text": [
      "Copying files: 1800it [27:59,  2.69s/it]"
     ]
    },
    {
     "name": "stdout",
     "output_type": "stream",
     "text": [
      "Copying G:\\내 드라이브\\Project\\RGBLab\\ABB\\Data\\07.침입(trespass)\\outsidedoor_03\\149-5\\149-5_cam01_trespass01_place01_night_summer_resized.mp4 to G:\\내 드라이브\\Project\\RGBLab\\ABB\\Data\\Resized\\07.침입(trespass)\\outsidedoor_03\\149-5\\149-5_cam01_trespass01_place01_night_summer_resized.mp4\n"
     ]
    },
    {
     "name": "stderr",
     "output_type": "stream",
     "text": [
      "Copying files: 1801it [28:01,  2.30s/it]"
     ]
    },
    {
     "name": "stdout",
     "output_type": "stream",
     "text": [
      "Copying G:\\내 드라이브\\Project\\RGBLab\\ABB\\Data\\07.침입(trespass)\\outsidedoor_03\\149-5\\149-5_cam02_trespass01_place01_night_spring_resized.mp4 to G:\\내 드라이브\\Project\\RGBLab\\ABB\\Data\\Resized\\07.침입(trespass)\\outsidedoor_03\\149-5\\149-5_cam02_trespass01_place01_night_spring_resized.mp4\n"
     ]
    },
    {
     "name": "stderr",
     "output_type": "stream",
     "text": [
      "Copying files: 1802it [28:05,  2.76s/it]"
     ]
    },
    {
     "name": "stdout",
     "output_type": "stream",
     "text": [
      "Copying G:\\내 드라이브\\Project\\RGBLab\\ABB\\Data\\07.침입(trespass)\\outsidedoor_03\\149-5\\149-5_cam02_trespass01_place01_night_summer_resized.mp4 to G:\\내 드라이브\\Project\\RGBLab\\ABB\\Data\\Resized\\07.침입(trespass)\\outsidedoor_03\\149-5\\149-5_cam02_trespass01_place01_night_summer_resized.mp4\n"
     ]
    },
    {
     "name": "stderr",
     "output_type": "stream",
     "text": [
      "Copying files: 1803it [28:06,  2.33s/it]"
     ]
    },
    {
     "name": "stdout",
     "output_type": "stream",
     "text": [
      "Copying G:\\내 드라이브\\Project\\RGBLab\\ABB\\Data\\07.침입(trespass)\\outsidedoor_03\\149-5\\149-5_cam01_trespass01_place01_night_spring_resized.mp4 to G:\\내 드라이브\\Project\\RGBLab\\ABB\\Data\\Resized\\07.침입(trespass)\\outsidedoor_03\\149-5\\149-5_cam01_trespass01_place01_night_spring_resized.mp4\n"
     ]
    },
    {
     "name": "stderr",
     "output_type": "stream",
     "text": [
      "Copying files: 1804it [28:10,  2.85s/it]"
     ]
    },
    {
     "name": "stdout",
     "output_type": "stream",
     "text": [
      "Copying G:\\내 드라이브\\Project\\RGBLab\\ABB\\Data\\07.침입(trespass)\\outsidedoor_03\\149-6\\149-6_cam02_trespass01_place01_night_spring_resized.mp4 to G:\\내 드라이브\\Project\\RGBLab\\ABB\\Data\\Resized\\07.침입(trespass)\\outsidedoor_03\\149-6\\149-6_cam02_trespass01_place01_night_spring_resized.mp4\n"
     ]
    },
    {
     "name": "stderr",
     "output_type": "stream",
     "text": [
      "Copying files: 1805it [28:14,  3.19s/it]"
     ]
    },
    {
     "name": "stdout",
     "output_type": "stream",
     "text": [
      "Copying G:\\내 드라이브\\Project\\RGBLab\\ABB\\Data\\07.침입(trespass)\\outsidedoor_03\\149-6\\149-6_cam01_trespass01_place01_night_summer_resized.mp4 to G:\\내 드라이브\\Project\\RGBLab\\ABB\\Data\\Resized\\07.침입(trespass)\\outsidedoor_03\\149-6\\149-6_cam01_trespass01_place01_night_summer_resized.mp4\n"
     ]
    },
    {
     "name": "stderr",
     "output_type": "stream",
     "text": [
      "Copying files: 1806it [28:17,  3.03s/it]"
     ]
    },
    {
     "name": "stdout",
     "output_type": "stream",
     "text": [
      "Copying G:\\내 드라이브\\Project\\RGBLab\\ABB\\Data\\07.침입(trespass)\\outsidedoor_03\\149-6\\149-6_cam02_trespass01_place01_night_summer_resized.mp4 to G:\\내 드라이브\\Project\\RGBLab\\ABB\\Data\\Resized\\07.침입(trespass)\\outsidedoor_03\\149-6\\149-6_cam02_trespass01_place01_night_summer_resized.mp4\n"
     ]
    },
    {
     "name": "stderr",
     "output_type": "stream",
     "text": [
      "Copying files: 1807it [28:20,  3.27s/it]"
     ]
    },
    {
     "name": "stdout",
     "output_type": "stream",
     "text": [
      "Copying G:\\내 드라이브\\Project\\RGBLab\\ABB\\Data\\07.침입(trespass)\\outsidedoor_03\\149-6\\149-6_cam01_trespass01_place01_night_spring_resized.mp4 to G:\\내 드라이브\\Project\\RGBLab\\ABB\\Data\\Resized\\07.침입(trespass)\\outsidedoor_03\\149-6\\149-6_cam01_trespass01_place01_night_spring_resized.mp4\n"
     ]
    },
    {
     "name": "stderr",
     "output_type": "stream",
     "text": [
      "Copying files: 1808it [28:25,  3.68s/it]"
     ]
    },
    {
     "name": "stdout",
     "output_type": "stream",
     "text": [
      "Copying G:\\내 드라이브\\Project\\RGBLab\\ABB\\Data\\07.침입(trespass)\\outsidedoor_03\\150-1\\150-1_cam01_trespass02_place01_night_summer_resized.mp4 to G:\\내 드라이브\\Project\\RGBLab\\ABB\\Data\\Resized\\07.침입(trespass)\\outsidedoor_03\\150-1\\150-1_cam01_trespass02_place01_night_summer_resized.mp4\n"
     ]
    },
    {
     "name": "stderr",
     "output_type": "stream",
     "text": [
      "Copying files: 1809it [28:30,  4.09s/it]"
     ]
    },
    {
     "name": "stdout",
     "output_type": "stream",
     "text": [
      "Copying G:\\내 드라이브\\Project\\RGBLab\\ABB\\Data\\07.침입(trespass)\\outsidedoor_03\\150-1\\150-1_cam02_trespass02_place01_night_summer_resized.mp4 to G:\\내 드라이브\\Project\\RGBLab\\ABB\\Data\\Resized\\07.침입(trespass)\\outsidedoor_03\\150-1\\150-1_cam02_trespass02_place01_night_summer_resized.mp4\n"
     ]
    },
    {
     "name": "stderr",
     "output_type": "stream",
     "text": [
      "Copying files: 1810it [28:38,  5.17s/it]"
     ]
    },
    {
     "name": "stdout",
     "output_type": "stream",
     "text": [
      "Copying G:\\내 드라이브\\Project\\RGBLab\\ABB\\Data\\07.침입(trespass)\\outsidedoor_03\\150-1\\150-1_cam02_trespass02_place01_night_spring_resized.mp4 to G:\\내 드라이브\\Project\\RGBLab\\ABB\\Data\\Resized\\07.침입(trespass)\\outsidedoor_03\\150-1\\150-1_cam02_trespass02_place01_night_spring_resized.mp4\n"
     ]
    },
    {
     "name": "stderr",
     "output_type": "stream",
     "text": [
      "Copying files: 1811it [28:45,  5.87s/it]"
     ]
    },
    {
     "name": "stdout",
     "output_type": "stream",
     "text": [
      "Copying G:\\내 드라이브\\Project\\RGBLab\\ABB\\Data\\07.침입(trespass)\\outsidedoor_03\\150-1\\150-1_cam01_trespass02_place01_night_spring_resized.mp4 to G:\\내 드라이브\\Project\\RGBLab\\ABB\\Data\\Resized\\07.침입(trespass)\\outsidedoor_03\\150-1\\150-1_cam01_trespass02_place01_night_spring_resized.mp4\n"
     ]
    },
    {
     "name": "stderr",
     "output_type": "stream",
     "text": [
      "Copying files: 1812it [28:51,  5.93s/it]"
     ]
    },
    {
     "name": "stdout",
     "output_type": "stream",
     "text": [
      "Copying G:\\내 드라이브\\Project\\RGBLab\\ABB\\Data\\07.침입(trespass)\\outsidedoor_03\\150-2\\150-2_cam01_trespass02_place01_night_summer_resized.mp4 to G:\\내 드라이브\\Project\\RGBLab\\ABB\\Data\\Resized\\07.침입(trespass)\\outsidedoor_03\\150-2\\150-2_cam01_trespass02_place01_night_summer_resized.mp4\n"
     ]
    },
    {
     "name": "stderr",
     "output_type": "stream",
     "text": [
      "Copying files: 1813it [28:54,  4.78s/it]"
     ]
    },
    {
     "name": "stdout",
     "output_type": "stream",
     "text": [
      "Copying G:\\내 드라이브\\Project\\RGBLab\\ABB\\Data\\07.침입(trespass)\\outsidedoor_03\\150-2\\150-2_cam02_trespass02_place01_night_summer_resized.mp4 to G:\\내 드라이브\\Project\\RGBLab\\ABB\\Data\\Resized\\07.침입(trespass)\\outsidedoor_03\\150-2\\150-2_cam02_trespass02_place01_night_summer_resized.mp4\n"
     ]
    },
    {
     "name": "stderr",
     "output_type": "stream",
     "text": [
      "Copying files: 1814it [28:56,  4.00s/it]"
     ]
    },
    {
     "name": "stdout",
     "output_type": "stream",
     "text": [
      "Copying G:\\내 드라이브\\Project\\RGBLab\\ABB\\Data\\07.침입(trespass)\\outsidedoor_03\\150-2\\150-2_cam01_trespass02_place01_night_spring_resized.mp4 to G:\\내 드라이브\\Project\\RGBLab\\ABB\\Data\\Resized\\07.침입(trespass)\\outsidedoor_03\\150-2\\150-2_cam01_trespass02_place01_night_spring_resized.mp4\n"
     ]
    },
    {
     "name": "stderr",
     "output_type": "stream",
     "text": [
      "Copying files: 1815it [29:00,  4.18s/it]"
     ]
    },
    {
     "name": "stdout",
     "output_type": "stream",
     "text": [
      "Copying G:\\내 드라이브\\Project\\RGBLab\\ABB\\Data\\07.침입(trespass)\\outsidedoor_03\\150-2\\150-2_cam02_trespass02_place01_night_spring_resized.mp4 to G:\\내 드라이브\\Project\\RGBLab\\ABB\\Data\\Resized\\07.침입(trespass)\\outsidedoor_03\\150-2\\150-2_cam02_trespass02_place01_night_spring_resized.mp4\n"
     ]
    },
    {
     "name": "stderr",
     "output_type": "stream",
     "text": [
      "Copying files: 1816it [29:05,  4.25s/it]"
     ]
    },
    {
     "name": "stdout",
     "output_type": "stream",
     "text": [
      "Copying G:\\내 드라이브\\Project\\RGBLab\\ABB\\Data\\07.침입(trespass)\\outsidedoor_03\\150-3\\150-3_cam01_trespass02_place01_night_spring_resized.mp4 to G:\\내 드라이브\\Project\\RGBLab\\ABB\\Data\\Resized\\07.침입(trespass)\\outsidedoor_03\\150-3\\150-3_cam01_trespass02_place01_night_spring_resized.mp4\n"
     ]
    },
    {
     "name": "stderr",
     "output_type": "stream",
     "text": [
      "Copying files: 1817it [29:11,  4.73s/it]"
     ]
    },
    {
     "name": "stdout",
     "output_type": "stream",
     "text": [
      "Copying G:\\내 드라이브\\Project\\RGBLab\\ABB\\Data\\07.침입(trespass)\\outsidedoor_03\\150-3\\150-3_cam01_trespass02_place01_night_summer_resized.mp4 to G:\\내 드라이브\\Project\\RGBLab\\ABB\\Data\\Resized\\07.침입(trespass)\\outsidedoor_03\\150-3\\150-3_cam01_trespass02_place01_night_summer_resized.mp4\n"
     ]
    },
    {
     "name": "stderr",
     "output_type": "stream",
     "text": [
      "Copying files: 1818it [29:19,  5.73s/it]"
     ]
    },
    {
     "name": "stdout",
     "output_type": "stream",
     "text": [
      "Copying G:\\내 드라이브\\Project\\RGBLab\\ABB\\Data\\07.침입(trespass)\\outsidedoor_03\\150-3\\150-3_cam02_trespass02_place01_night_summer_resized.mp4 to G:\\내 드라이브\\Project\\RGBLab\\ABB\\Data\\Resized\\07.침입(trespass)\\outsidedoor_03\\150-3\\150-3_cam02_trespass02_place01_night_summer_resized.mp4\n"
     ]
    },
    {
     "name": "stderr",
     "output_type": "stream",
     "text": [
      "Copying files: 1819it [29:21,  4.68s/it]"
     ]
    },
    {
     "name": "stdout",
     "output_type": "stream",
     "text": [
      "Copying G:\\내 드라이브\\Project\\RGBLab\\ABB\\Data\\07.침입(trespass)\\outsidedoor_03\\150-3\\150-3_cam02_trespass02_place01_night_spring_resized.mp4 to G:\\내 드라이브\\Project\\RGBLab\\ABB\\Data\\Resized\\07.침입(trespass)\\outsidedoor_03\\150-3\\150-3_cam02_trespass02_place01_night_spring_resized.mp4\n"
     ]
    },
    {
     "name": "stderr",
     "output_type": "stream",
     "text": [
      "Copying files: 1820it [29:27,  4.97s/it]"
     ]
    },
    {
     "name": "stdout",
     "output_type": "stream",
     "text": [
      "Copying G:\\내 드라이브\\Project\\RGBLab\\ABB\\Data\\07.침입(trespass)\\outsidedoor_03\\150-4\\150-4_cam02_trespass02_place01_night_spring_resized.mp4 to G:\\내 드라이브\\Project\\RGBLab\\ABB\\Data\\Resized\\07.침입(trespass)\\outsidedoor_03\\150-4\\150-4_cam02_trespass02_place01_night_spring_resized.mp4\n"
     ]
    },
    {
     "name": "stderr",
     "output_type": "stream",
     "text": [
      "Copying files: 1821it [29:29,  4.23s/it]"
     ]
    },
    {
     "name": "stdout",
     "output_type": "stream",
     "text": [
      "Copying G:\\내 드라이브\\Project\\RGBLab\\ABB\\Data\\07.침입(trespass)\\outsidedoor_03\\150-4\\150-4_cam01_trespass02_place01_night_summer_resized.mp4 to G:\\내 드라이브\\Project\\RGBLab\\ABB\\Data\\Resized\\07.침입(trespass)\\outsidedoor_03\\150-4\\150-4_cam01_trespass02_place01_night_summer_resized.mp4\n"
     ]
    },
    {
     "name": "stderr",
     "output_type": "stream",
     "text": [
      "Copying files: 1823it [29:35,  3.32s/it]"
     ]
    },
    {
     "name": "stdout",
     "output_type": "stream",
     "text": [
      "Copying G:\\내 드라이브\\Project\\RGBLab\\ABB\\Data\\07.침입(trespass)\\outsidedoor_03\\150-4\\150-4_cam02_trespass02_place01_night_summer_resized.mp4 to G:\\내 드라이브\\Project\\RGBLab\\ABB\\Data\\Resized\\07.침입(trespass)\\outsidedoor_03\\150-4\\150-4_cam02_trespass02_place01_night_summer_resized.mp4\n",
      "Copying G:\\내 드라이브\\Project\\RGBLab\\ABB\\Data\\07.침입(trespass)\\outsidedoor_03\\150-4\\150-4_cam01_trespass02_place01_night_spring_resized.mp4 to G:\\내 드라이브\\Project\\RGBLab\\ABB\\Data\\Resized\\07.침입(trespass)\\outsidedoor_03\\150-4\\150-4_cam01_trespass02_place01_night_spring_resized.mp4\n"
     ]
    },
    {
     "name": "stderr",
     "output_type": "stream",
     "text": [
      "Copying files: 1824it [29:38,  3.13s/it]"
     ]
    },
    {
     "name": "stdout",
     "output_type": "stream",
     "text": [
      "Copying G:\\내 드라이브\\Project\\RGBLab\\ABB\\Data\\07.침입(trespass)\\outsidedoor_04\\150-5\\150-5_cam01_trespass02_place01_night_summer_resized.mp4 to G:\\내 드라이브\\Project\\RGBLab\\ABB\\Data\\Resized\\07.침입(trespass)\\outsidedoor_04\\150-5\\150-5_cam01_trespass02_place01_night_summer_resized.mp4\n"
     ]
    },
    {
     "name": "stderr",
     "output_type": "stream",
     "text": [
      "Copying files: 1825it [29:40,  2.85s/it]"
     ]
    },
    {
     "name": "stdout",
     "output_type": "stream",
     "text": [
      "Copying G:\\내 드라이브\\Project\\RGBLab\\ABB\\Data\\07.침입(trespass)\\outsidedoor_04\\150-5\\150-5_cam02_trespass02_place01_night_summer_resized.mp4 to G:\\내 드라이브\\Project\\RGBLab\\ABB\\Data\\Resized\\07.침입(trespass)\\outsidedoor_04\\150-5\\150-5_cam02_trespass02_place01_night_summer_resized.mp4\n"
     ]
    },
    {
     "name": "stderr",
     "output_type": "stream",
     "text": [
      "Copying files: 1826it [29:42,  2.72s/it]"
     ]
    },
    {
     "name": "stdout",
     "output_type": "stream",
     "text": [
      "Copying G:\\내 드라이브\\Project\\RGBLab\\ABB\\Data\\07.침입(trespass)\\outsidedoor_04\\150-5\\150-5_cam02_trespass02_place01_night_spring_resized.mp4 to G:\\내 드라이브\\Project\\RGBLab\\ABB\\Data\\Resized\\07.침입(trespass)\\outsidedoor_04\\150-5\\150-5_cam02_trespass02_place01_night_spring_resized.mp4\n"
     ]
    },
    {
     "name": "stderr",
     "output_type": "stream",
     "text": [
      "Copying files: 1827it [29:50,  4.39s/it]"
     ]
    },
    {
     "name": "stdout",
     "output_type": "stream",
     "text": [
      "Copying G:\\내 드라이브\\Project\\RGBLab\\ABB\\Data\\07.침입(trespass)\\outsidedoor_04\\150-5\\150-5_cam01_trespass02_place01_night_spring_resized.mp4 to G:\\내 드라이브\\Project\\RGBLab\\ABB\\Data\\Resized\\07.침입(trespass)\\outsidedoor_04\\150-5\\150-5_cam01_trespass02_place01_night_spring_resized.mp4\n"
     ]
    },
    {
     "name": "stderr",
     "output_type": "stream",
     "text": [
      "Copying files: 1828it [29:52,  3.65s/it]"
     ]
    },
    {
     "name": "stdout",
     "output_type": "stream",
     "text": [
      "Copying G:\\내 드라이브\\Project\\RGBLab\\ABB\\Data\\07.침입(trespass)\\outsidedoor_04\\150-6\\150-6_cam02_trespass02_place01_night_spring_resized.mp4 to G:\\내 드라이브\\Project\\RGBLab\\ABB\\Data\\Resized\\07.침입(trespass)\\outsidedoor_04\\150-6\\150-6_cam02_trespass02_place01_night_spring_resized.mp4\n"
     ]
    },
    {
     "name": "stderr",
     "output_type": "stream",
     "text": [
      "Copying files: 1829it [29:59,  4.65s/it]"
     ]
    },
    {
     "name": "stdout",
     "output_type": "stream",
     "text": [
      "Copying G:\\내 드라이브\\Project\\RGBLab\\ABB\\Data\\07.침입(trespass)\\outsidedoor_04\\150-6\\150-6_cam02_trespass02_place01_night_summer_resized.mp4 to G:\\내 드라이브\\Project\\RGBLab\\ABB\\Data\\Resized\\07.침입(trespass)\\outsidedoor_04\\150-6\\150-6_cam02_trespass02_place01_night_summer_resized.mp4\n"
     ]
    },
    {
     "name": "stderr",
     "output_type": "stream",
     "text": [
      "Copying files: 1830it [30:05,  5.01s/it]"
     ]
    },
    {
     "name": "stdout",
     "output_type": "stream",
     "text": [
      "Copying G:\\내 드라이브\\Project\\RGBLab\\ABB\\Data\\07.침입(trespass)\\outsidedoor_04\\150-6\\150-6_cam01_trespass02_place01_night_summer_resized.mp4 to G:\\내 드라이브\\Project\\RGBLab\\ABB\\Data\\Resized\\07.침입(trespass)\\outsidedoor_04\\150-6\\150-6_cam01_trespass02_place01_night_summer_resized.mp4\n"
     ]
    },
    {
     "name": "stderr",
     "output_type": "stream",
     "text": [
      "Copying files: 1831it [30:08,  4.28s/it]"
     ]
    },
    {
     "name": "stdout",
     "output_type": "stream",
     "text": [
      "Copying G:\\내 드라이브\\Project\\RGBLab\\ABB\\Data\\07.침입(trespass)\\outsidedoor_04\\150-6\\150-6_cam01_trespass02_place01_night_spring_resized.mp4 to G:\\내 드라이브\\Project\\RGBLab\\ABB\\Data\\Resized\\07.침입(trespass)\\outsidedoor_04\\150-6\\150-6_cam01_trespass02_place01_night_spring_resized.mp4\n"
     ]
    },
    {
     "name": "stderr",
     "output_type": "stream",
     "text": [
      "Copying files: 1832it [30:10,  3.67s/it]"
     ]
    },
    {
     "name": "stdout",
     "output_type": "stream",
     "text": [
      "Copying G:\\내 드라이브\\Project\\RGBLab\\ABB\\Data\\07.침입(trespass)\\outsidedoor_04\\151-1\\151-1_cam01_trespass01_place03_night_summer_resized.mp4 to G:\\내 드라이브\\Project\\RGBLab\\ABB\\Data\\Resized\\07.침입(trespass)\\outsidedoor_04\\151-1\\151-1_cam01_trespass01_place03_night_summer_resized.mp4\n"
     ]
    },
    {
     "name": "stderr",
     "output_type": "stream",
     "text": [
      "Copying files: 1833it [30:12,  3.00s/it]"
     ]
    },
    {
     "name": "stdout",
     "output_type": "stream",
     "text": [
      "Copying G:\\내 드라이브\\Project\\RGBLab\\ABB\\Data\\07.침입(trespass)\\outsidedoor_04\\151-1\\151-1_cam02_trespass01_place03_night_spring_resized.mp4 to G:\\내 드라이브\\Project\\RGBLab\\ABB\\Data\\Resized\\07.침입(trespass)\\outsidedoor_04\\151-1\\151-1_cam02_trespass01_place03_night_spring_resized.mp4\n"
     ]
    },
    {
     "name": "stderr",
     "output_type": "stream",
     "text": [
      "Copying files: 1834it [30:13,  2.54s/it]"
     ]
    },
    {
     "name": "stdout",
     "output_type": "stream",
     "text": [
      "Copying G:\\내 드라이브\\Project\\RGBLab\\ABB\\Data\\07.침입(trespass)\\outsidedoor_04\\151-1\\151-1_cam02_trespass01_place03_night_summer_resized.mp4 to G:\\내 드라이브\\Project\\RGBLab\\ABB\\Data\\Resized\\07.침입(trespass)\\outsidedoor_04\\151-1\\151-1_cam02_trespass01_place03_night_summer_resized.mp4\n"
     ]
    },
    {
     "name": "stderr",
     "output_type": "stream",
     "text": [
      "Copying files: 1835it [30:14,  2.13s/it]"
     ]
    },
    {
     "name": "stdout",
     "output_type": "stream",
     "text": [
      "Copying G:\\내 드라이브\\Project\\RGBLab\\ABB\\Data\\07.침입(trespass)\\outsidedoor_04\\151-1\\151-1_cam01_trespass01_place03_night_spring_resized.mp4 to G:\\내 드라이브\\Project\\RGBLab\\ABB\\Data\\Resized\\07.침입(trespass)\\outsidedoor_04\\151-1\\151-1_cam01_trespass01_place03_night_spring_resized.mp4\n"
     ]
    },
    {
     "name": "stderr",
     "output_type": "stream",
     "text": [
      "Copying files: 1836it [30:16,  2.08s/it]"
     ]
    },
    {
     "name": "stdout",
     "output_type": "stream",
     "text": [
      "Copying G:\\내 드라이브\\Project\\RGBLab\\ABB\\Data\\07.침입(trespass)\\outsidedoor_04\\151-2\\151-2_cam02_trespass01_place03_night_spring_resized.mp4 to G:\\내 드라이브\\Project\\RGBLab\\ABB\\Data\\Resized\\07.침입(trespass)\\outsidedoor_04\\151-2\\151-2_cam02_trespass01_place03_night_spring_resized.mp4\n"
     ]
    },
    {
     "name": "stderr",
     "output_type": "stream",
     "text": [
      "Copying files: 1837it [30:17,  1.81s/it]"
     ]
    },
    {
     "name": "stdout",
     "output_type": "stream",
     "text": [
      "Copying G:\\내 드라이브\\Project\\RGBLab\\ABB\\Data\\07.침입(trespass)\\outsidedoor_04\\151-2\\151-2_cam01_trespass01_place03_night_summer_resized.mp4 to G:\\내 드라이브\\Project\\RGBLab\\ABB\\Data\\Resized\\07.침입(trespass)\\outsidedoor_04\\151-2\\151-2_cam01_trespass01_place03_night_summer_resized.mp4\n"
     ]
    },
    {
     "name": "stderr",
     "output_type": "stream",
     "text": [
      "Copying files: 1838it [30:18,  1.62s/it]"
     ]
    },
    {
     "name": "stdout",
     "output_type": "stream",
     "text": [
      "Copying G:\\내 드라이브\\Project\\RGBLab\\ABB\\Data\\07.침입(trespass)\\outsidedoor_04\\151-2\\151-2_cam02_trespass01_place03_night_summer_resized.mp4 to G:\\내 드라이브\\Project\\RGBLab\\ABB\\Data\\Resized\\07.침입(trespass)\\outsidedoor_04\\151-2\\151-2_cam02_trespass01_place03_night_summer_resized.mp4\n"
     ]
    },
    {
     "name": "stderr",
     "output_type": "stream",
     "text": [
      "Copying files: 1839it [30:20,  1.50s/it]"
     ]
    },
    {
     "name": "stdout",
     "output_type": "stream",
     "text": [
      "Copying G:\\내 드라이브\\Project\\RGBLab\\ABB\\Data\\07.침입(trespass)\\outsidedoor_04\\151-2\\151-2_cam01_trespass01_place03_night_spring_resized.mp4 to G:\\내 드라이브\\Project\\RGBLab\\ABB\\Data\\Resized\\07.침입(trespass)\\outsidedoor_04\\151-2\\151-2_cam01_trespass01_place03_night_spring_resized.mp4\n"
     ]
    },
    {
     "name": "stderr",
     "output_type": "stream",
     "text": [
      "Copying files: 1840it [30:21,  1.46s/it]"
     ]
    },
    {
     "name": "stdout",
     "output_type": "stream",
     "text": [
      "Copying G:\\내 드라이브\\Project\\RGBLab\\ABB\\Data\\07.침입(trespass)\\outsidedoor_04\\151-3\\151-3_cam02_trespass01_place03_night_spring_resized.mp4 to G:\\내 드라이브\\Project\\RGBLab\\ABB\\Data\\Resized\\07.침입(trespass)\\outsidedoor_04\\151-3\\151-3_cam02_trespass01_place03_night_spring_resized.mp4\n"
     ]
    },
    {
     "name": "stderr",
     "output_type": "stream",
     "text": [
      "Copying files: 1841it [30:25,  2.31s/it]"
     ]
    },
    {
     "name": "stdout",
     "output_type": "stream",
     "text": [
      "Copying G:\\내 드라이브\\Project\\RGBLab\\ABB\\Data\\07.침입(trespass)\\outsidedoor_04\\151-3\\151-3_cam01_trespass01_place03_night_summer_resized.mp4 to G:\\내 드라이브\\Project\\RGBLab\\ABB\\Data\\Resized\\07.침입(trespass)\\outsidedoor_04\\151-3\\151-3_cam01_trespass01_place03_night_summer_resized.mp4\n"
     ]
    },
    {
     "name": "stderr",
     "output_type": "stream",
     "text": [
      "Copying files: 1842it [30:29,  2.70s/it]"
     ]
    },
    {
     "name": "stdout",
     "output_type": "stream",
     "text": [
      "Copying G:\\내 드라이브\\Project\\RGBLab\\ABB\\Data\\07.침입(trespass)\\outsidedoor_04\\151-3\\151-3_cam01_trespass01_place03_night_spring_resized.mp4 to G:\\내 드라이브\\Project\\RGBLab\\ABB\\Data\\Resized\\07.침입(trespass)\\outsidedoor_04\\151-3\\151-3_cam01_trespass01_place03_night_spring_resized.mp4\n"
     ]
    },
    {
     "name": "stderr",
     "output_type": "stream",
     "text": [
      "Copying files: 1843it [30:32,  2.76s/it]"
     ]
    },
    {
     "name": "stdout",
     "output_type": "stream",
     "text": [
      "Copying G:\\내 드라이브\\Project\\RGBLab\\ABB\\Data\\07.침입(trespass)\\outsidedoor_04\\151-3\\151-3_cam02_trespass01_place03_night_summer_resized.mp4 to G:\\내 드라이브\\Project\\RGBLab\\ABB\\Data\\Resized\\07.침입(trespass)\\outsidedoor_04\\151-3\\151-3_cam02_trespass01_place03_night_summer_resized.mp4\n"
     ]
    },
    {
     "name": "stderr",
     "output_type": "stream",
     "text": [
      "Copying files: 1844it [30:35,  2.85s/it]"
     ]
    },
    {
     "name": "stdout",
     "output_type": "stream",
     "text": [
      "Copying G:\\내 드라이브\\Project\\RGBLab\\ABB\\Data\\07.침입(trespass)\\outsidedoor_04\\151-4\\151-4_cam02_trespass01_place03_night_spring_resized.mp4 to G:\\내 드라이브\\Project\\RGBLab\\ABB\\Data\\Resized\\07.침입(trespass)\\outsidedoor_04\\151-4\\151-4_cam02_trespass01_place03_night_spring_resized.mp4\n"
     ]
    },
    {
     "name": "stderr",
     "output_type": "stream",
     "text": [
      "Copying files: 1845it [30:38,  2.80s/it]"
     ]
    },
    {
     "name": "stdout",
     "output_type": "stream",
     "text": [
      "Copying G:\\내 드라이브\\Project\\RGBLab\\ABB\\Data\\07.침입(trespass)\\outsidedoor_04\\151-4\\151-4_cam01_trespass01_place03_night_summer_resized.mp4 to G:\\내 드라이브\\Project\\RGBLab\\ABB\\Data\\Resized\\07.침입(trespass)\\outsidedoor_04\\151-4\\151-4_cam01_trespass01_place03_night_summer_resized.mp4\n"
     ]
    },
    {
     "name": "stderr",
     "output_type": "stream",
     "text": [
      "Copying files: 1846it [30:40,  2.79s/it]"
     ]
    },
    {
     "name": "stdout",
     "output_type": "stream",
     "text": [
      "Copying G:\\내 드라이브\\Project\\RGBLab\\ABB\\Data\\07.침입(trespass)\\outsidedoor_04\\151-4\\151-4_cam02_trespass01_place03_night_summer_resized.mp4 to G:\\내 드라이브\\Project\\RGBLab\\ABB\\Data\\Resized\\07.침입(trespass)\\outsidedoor_04\\151-4\\151-4_cam02_trespass01_place03_night_summer_resized.mp4\n"
     ]
    },
    {
     "name": "stderr",
     "output_type": "stream",
     "text": [
      "Copying files: 1847it [30:44,  3.12s/it]"
     ]
    },
    {
     "name": "stdout",
     "output_type": "stream",
     "text": [
      "Copying G:\\내 드라이브\\Project\\RGBLab\\ABB\\Data\\07.침입(trespass)\\outsidedoor_04\\151-4\\151-4_cam01_trespass01_place03_night_spring_resized.mp4 to G:\\내 드라이브\\Project\\RGBLab\\ABB\\Data\\Resized\\07.침입(trespass)\\outsidedoor_04\\151-4\\151-4_cam01_trespass01_place03_night_spring_resized.mp4\n",
      "Copying G:\\내 드라이브\\Project\\RGBLab\\ABB\\Data\\07.침입(trespass)\\outsidedoor_04\\151-5\\151-5_cam01_trespass01_place03_night_spring_resized.mp4 to G:\\내 드라이브\\Project\\RGBLab\\ABB\\Data\\Resized\\07.침입(trespass)\\outsidedoor_04\\151-5\\151-5_cam01_trespass01_place03_night_spring_resized.mp4\n"
     ]
    },
    {
     "name": "stderr",
     "output_type": "stream",
     "text": [
      "Copying files: 1849it [30:47,  2.40s/it]"
     ]
    },
    {
     "name": "stdout",
     "output_type": "stream",
     "text": [
      "Copying G:\\내 드라이브\\Project\\RGBLab\\ABB\\Data\\07.침입(trespass)\\outsidedoor_04\\151-5\\151-5_cam01_trespass01_place03_night_summer_resized.mp4 to G:\\내 드라이브\\Project\\RGBLab\\ABB\\Data\\Resized\\07.침입(trespass)\\outsidedoor_04\\151-5\\151-5_cam01_trespass01_place03_night_summer_resized.mp4\n"
     ]
    },
    {
     "name": "stderr",
     "output_type": "stream",
     "text": [
      "Copying files: 1850it [30:49,  2.23s/it]"
     ]
    },
    {
     "name": "stdout",
     "output_type": "stream",
     "text": [
      "Copying G:\\내 드라이브\\Project\\RGBLab\\ABB\\Data\\07.침입(trespass)\\outsidedoor_04\\151-5\\151-5_cam02_trespass01_place03_night_summer_resized.mp4 to G:\\내 드라이브\\Project\\RGBLab\\ABB\\Data\\Resized\\07.침입(trespass)\\outsidedoor_04\\151-5\\151-5_cam02_trespass01_place03_night_summer_resized.mp4\n"
     ]
    },
    {
     "name": "stderr",
     "output_type": "stream",
     "text": [
      "Copying files: 1851it [30:50,  1.97s/it]"
     ]
    },
    {
     "name": "stdout",
     "output_type": "stream",
     "text": [
      "Copying G:\\내 드라이브\\Project\\RGBLab\\ABB\\Data\\07.침입(trespass)\\outsidedoor_04\\151-5\\151-5_cam02_trespass01_place03_night_spring_resized.mp4 to G:\\내 드라이브\\Project\\RGBLab\\ABB\\Data\\Resized\\07.침입(trespass)\\outsidedoor_04\\151-5\\151-5_cam02_trespass01_place03_night_spring_resized.mp4\n"
     ]
    },
    {
     "name": "stderr",
     "output_type": "stream",
     "text": [
      "Copying files: 1852it [30:54,  2.37s/it]"
     ]
    },
    {
     "name": "stdout",
     "output_type": "stream",
     "text": [
      "Copying G:\\내 드라이브\\Project\\RGBLab\\ABB\\Data\\07.침입(trespass)\\outsidedoor_04\\151-6\\151-6_cam01_trespass01_place03_night_summer_resized.mp4 to G:\\내 드라이브\\Project\\RGBLab\\ABB\\Data\\Resized\\07.침입(trespass)\\outsidedoor_04\\151-6\\151-6_cam01_trespass01_place03_night_summer_resized.mp4\n"
     ]
    },
    {
     "name": "stderr",
     "output_type": "stream",
     "text": [
      "Copying files: 1853it [30:57,  2.48s/it]"
     ]
    },
    {
     "name": "stdout",
     "output_type": "stream",
     "text": [
      "Copying G:\\내 드라이브\\Project\\RGBLab\\ABB\\Data\\07.침입(trespass)\\outsidedoor_04\\151-6\\151-6_cam02_trespass01_place03_night_summer_resized.mp4 to G:\\내 드라이브\\Project\\RGBLab\\ABB\\Data\\Resized\\07.침입(trespass)\\outsidedoor_04\\151-6\\151-6_cam02_trespass01_place03_night_summer_resized.mp4\n"
     ]
    },
    {
     "name": "stderr",
     "output_type": "stream",
     "text": [
      "Copying files: 1854it [30:58,  2.15s/it]"
     ]
    },
    {
     "name": "stdout",
     "output_type": "stream",
     "text": [
      "Copying G:\\내 드라이브\\Project\\RGBLab\\ABB\\Data\\07.침입(trespass)\\outsidedoor_04\\151-6\\151-6_cam02_trespass01_place03_night_spring_resized.mp4 to G:\\내 드라이브\\Project\\RGBLab\\ABB\\Data\\Resized\\07.침입(trespass)\\outsidedoor_04\\151-6\\151-6_cam02_trespass01_place03_night_spring_resized.mp4\n"
     ]
    },
    {
     "name": "stderr",
     "output_type": "stream",
     "text": [
      "Copying files: 1855it [31:02,  2.59s/it]"
     ]
    },
    {
     "name": "stdout",
     "output_type": "stream",
     "text": [
      "Copying G:\\내 드라이브\\Project\\RGBLab\\ABB\\Data\\07.침입(trespass)\\outsidedoor_04\\151-6\\151-6_cam01_trespass01_place03_night_spring_resized.mp4 to G:\\내 드라이브\\Project\\RGBLab\\ABB\\Data\\Resized\\07.침입(trespass)\\outsidedoor_04\\151-6\\151-6_cam01_trespass01_place03_night_spring_resized.mp4\n"
     ]
    },
    {
     "name": "stderr",
     "output_type": "stream",
     "text": [
      "Copying files: 1856it [31:03,  2.36s/it]"
     ]
    },
    {
     "name": "stdout",
     "output_type": "stream",
     "text": [
      "Copying G:\\내 드라이브\\Project\\RGBLab\\ABB\\Data\\07.침입(trespass)\\outsidedoor_04\\152-1\\152-1_cam01_trespass02_place02_day_spring_resized.mp4 to G:\\내 드라이브\\Project\\RGBLab\\ABB\\Data\\Resized\\07.침입(trespass)\\outsidedoor_04\\152-1\\152-1_cam01_trespass02_place02_day_spring_resized.mp4\n"
     ]
    },
    {
     "name": "stderr",
     "output_type": "stream",
     "text": [
      "Copying files: 1857it [31:14,  4.68s/it]"
     ]
    },
    {
     "name": "stdout",
     "output_type": "stream",
     "text": [
      "Copying G:\\내 드라이브\\Project\\RGBLab\\ABB\\Data\\07.침입(trespass)\\outsidedoor_04\\152-1\\152-1_cam02_trespass02_place02_day_spring_resized.mp4 to G:\\내 드라이브\\Project\\RGBLab\\ABB\\Data\\Resized\\07.침입(trespass)\\outsidedoor_04\\152-1\\152-1_cam02_trespass02_place02_day_spring_resized.mp4\n"
     ]
    },
    {
     "name": "stderr",
     "output_type": "stream",
     "text": [
      "Copying files: 1858it [31:22,  5.85s/it]"
     ]
    },
    {
     "name": "stdout",
     "output_type": "stream",
     "text": [
      "Copying G:\\내 드라이브\\Project\\RGBLab\\ABB\\Data\\07.침입(trespass)\\outsidedoor_04\\152-1\\152-1_cam01_trespass02_place02_day_summer_resized.mp4 to G:\\내 드라이브\\Project\\RGBLab\\ABB\\Data\\Resized\\07.침입(trespass)\\outsidedoor_04\\152-1\\152-1_cam01_trespass02_place02_day_summer_resized.mp4\n"
     ]
    },
    {
     "name": "stderr",
     "output_type": "stream",
     "text": [
      "Copying files: 1859it [31:33,  7.27s/it]"
     ]
    },
    {
     "name": "stdout",
     "output_type": "stream",
     "text": [
      "Copying G:\\내 드라이브\\Project\\RGBLab\\ABB\\Data\\07.침입(trespass)\\outsidedoor_04\\152-1\\152-1_cam02_trespass02_place02_day_summer_resized.mp4 to G:\\내 드라이브\\Project\\RGBLab\\ABB\\Data\\Resized\\07.침입(trespass)\\outsidedoor_04\\152-1\\152-1_cam02_trespass02_place02_day_summer_resized.mp4\n"
     ]
    },
    {
     "name": "stderr",
     "output_type": "stream",
     "text": [
      "Copying files: 1860it [31:35,  5.91s/it]"
     ]
    },
    {
     "name": "stdout",
     "output_type": "stream",
     "text": [
      "Copying G:\\내 드라이브\\Project\\RGBLab\\ABB\\Data\\07.침입(trespass)\\outsidedoor_04\\152-2\\152-2_cam01_trespass02_place02_day_spring_resized.mp4 to G:\\내 드라이브\\Project\\RGBLab\\ABB\\Data\\Resized\\07.침입(trespass)\\outsidedoor_04\\152-2\\152-2_cam01_trespass02_place02_day_spring_resized.mp4\n"
     ]
    },
    {
     "name": "stderr",
     "output_type": "stream",
     "text": [
      "Copying files: 1861it [31:44,  6.59s/it]"
     ]
    },
    {
     "name": "stdout",
     "output_type": "stream",
     "text": [
      "Copying G:\\내 드라이브\\Project\\RGBLab\\ABB\\Data\\07.침입(trespass)\\outsidedoor_04\\152-2\\152-2_cam02_trespass02_place02_day_spring_resized.mp4 to G:\\내 드라이브\\Project\\RGBLab\\ABB\\Data\\Resized\\07.침입(trespass)\\outsidedoor_04\\152-2\\152-2_cam02_trespass02_place02_day_spring_resized.mp4\n"
     ]
    },
    {
     "name": "stderr",
     "output_type": "stream",
     "text": [
      "Copying files: 1862it [31:55,  7.92s/it]"
     ]
    },
    {
     "name": "stdout",
     "output_type": "stream",
     "text": [
      "Copying G:\\내 드라이브\\Project\\RGBLab\\ABB\\Data\\07.침입(trespass)\\outsidedoor_04\\152-2\\152-2_cam01_trespass02_place02_day_summer_resized.mp4 to G:\\내 드라이브\\Project\\RGBLab\\ABB\\Data\\Resized\\07.침입(trespass)\\outsidedoor_04\\152-2\\152-2_cam01_trespass02_place02_day_summer_resized.mp4\n"
     ]
    },
    {
     "name": "stderr",
     "output_type": "stream",
     "text": [
      "Copying files: 1863it [32:03,  8.02s/it]"
     ]
    },
    {
     "name": "stdout",
     "output_type": "stream",
     "text": [
      "Copying G:\\내 드라이브\\Project\\RGBLab\\ABB\\Data\\07.침입(trespass)\\outsidedoor_04\\152-2\\152-2_cam02_trespass02_place02_day_summer_resized.mp4 to G:\\내 드라이브\\Project\\RGBLab\\ABB\\Data\\Resized\\07.침입(trespass)\\outsidedoor_04\\152-2\\152-2_cam02_trespass02_place02_day_summer_resized.mp4\n"
     ]
    },
    {
     "name": "stderr",
     "output_type": "stream",
     "text": [
      "Copying files: 1864it [32:06,  6.63s/it]"
     ]
    },
    {
     "name": "stdout",
     "output_type": "stream",
     "text": [
      "Copying G:\\내 드라이브\\Project\\RGBLab\\ABB\\Data\\07.침입(trespass)\\outsidedoor_04\\152-3\\152-3_cam02_trespass02_place02_day_summer_resized.mp4 to G:\\내 드라이브\\Project\\RGBLab\\ABB\\Data\\Resized\\07.침입(trespass)\\outsidedoor_04\\152-3\\152-3_cam02_trespass02_place02_day_summer_resized.mp4\n"
     ]
    },
    {
     "name": "stderr",
     "output_type": "stream",
     "text": [
      "Copying files: 1865it [32:10,  5.63s/it]"
     ]
    },
    {
     "name": "stdout",
     "output_type": "stream",
     "text": [
      "Copying G:\\내 드라이브\\Project\\RGBLab\\ABB\\Data\\07.침입(trespass)\\outsidedoor_04\\152-3\\152-3_cam02_trespass02_place02_day_spring_resized.mp4 to G:\\내 드라이브\\Project\\RGBLab\\ABB\\Data\\Resized\\07.침입(trespass)\\outsidedoor_04\\152-3\\152-3_cam02_trespass02_place02_day_spring_resized.mp4\n"
     ]
    },
    {
     "name": "stderr",
     "output_type": "stream",
     "text": [
      "Copying files: 1866it [32:14,  5.15s/it]"
     ]
    },
    {
     "name": "stdout",
     "output_type": "stream",
     "text": [
      "Copying G:\\내 드라이브\\Project\\RGBLab\\ABB\\Data\\07.침입(trespass)\\outsidedoor_04\\152-3\\152-3_cam01_trespass02_place02_day_summer_resized.mp4 to G:\\내 드라이브\\Project\\RGBLab\\ABB\\Data\\Resized\\07.침입(trespass)\\outsidedoor_04\\152-3\\152-3_cam01_trespass02_place02_day_summer_resized.mp4\n"
     ]
    },
    {
     "name": "stderr",
     "output_type": "stream",
     "text": [
      "Copying files: 1867it [32:23,  6.26s/it]"
     ]
    },
    {
     "name": "stdout",
     "output_type": "stream",
     "text": [
      "Copying G:\\내 드라이브\\Project\\RGBLab\\ABB\\Data\\07.침입(trespass)\\outsidedoor_04\\152-3\\152-3_cam01_trespass02_place02_day_spring_resized.mp4 to G:\\내 드라이브\\Project\\RGBLab\\ABB\\Data\\Resized\\07.침입(trespass)\\outsidedoor_04\\152-3\\152-3_cam01_trespass02_place02_day_spring_resized.mp4\n"
     ]
    },
    {
     "name": "stderr",
     "output_type": "stream",
     "text": [
      "Copying files: 1868it [32:35,  8.08s/it]"
     ]
    },
    {
     "name": "stdout",
     "output_type": "stream",
     "text": [
      "Copying G:\\내 드라이브\\Project\\RGBLab\\ABB\\Data\\07.침입(trespass)\\outsidedoor_04\\152-4\\152-4_cam02_trespass02_place02_day_summer_resized.mp4 to G:\\내 드라이브\\Project\\RGBLab\\ABB\\Data\\Resized\\07.침입(trespass)\\outsidedoor_04\\152-4\\152-4_cam02_trespass02_place02_day_summer_resized.mp4\n"
     ]
    },
    {
     "name": "stderr",
     "output_type": "stream",
     "text": [
      "Copying files: 1869it [32:47,  9.29s/it]"
     ]
    },
    {
     "name": "stdout",
     "output_type": "stream",
     "text": [
      "Copying G:\\내 드라이브\\Project\\RGBLab\\ABB\\Data\\07.침입(trespass)\\outsidedoor_04\\152-4\\152-4_cam02_trespass02_place02_day_spring_resized.mp4 to G:\\내 드라이브\\Project\\RGBLab\\ABB\\Data\\Resized\\07.침입(trespass)\\outsidedoor_04\\152-4\\152-4_cam02_trespass02_place02_day_spring_resized.mp4\n"
     ]
    },
    {
     "name": "stderr",
     "output_type": "stream",
     "text": [
      "Copying files: 1870it [32:50,  7.38s/it]"
     ]
    },
    {
     "name": "stdout",
     "output_type": "stream",
     "text": [
      "Copying G:\\내 드라이브\\Project\\RGBLab\\ABB\\Data\\07.침입(trespass)\\outsidedoor_04\\152-4\\152-4_cam01_trespass02_place02_day_spring_resized.mp4 to G:\\내 드라이브\\Project\\RGBLab\\ABB\\Data\\Resized\\07.침입(trespass)\\outsidedoor_04\\152-4\\152-4_cam01_trespass02_place02_day_spring_resized.mp4\n"
     ]
    },
    {
     "name": "stderr",
     "output_type": "stream",
     "text": [
      "Copying files: 1871it [33:01,  8.38s/it]"
     ]
    },
    {
     "name": "stdout",
     "output_type": "stream",
     "text": [
      "Copying G:\\내 드라이브\\Project\\RGBLab\\ABB\\Data\\07.침입(trespass)\\outsidedoor_04\\152-4\\152-4_cam01_trespass02_place02_day_summer_resized.mp4 to G:\\내 드라이브\\Project\\RGBLab\\ABB\\Data\\Resized\\07.침입(trespass)\\outsidedoor_04\\152-4\\152-4_cam01_trespass02_place02_day_summer_resized.mp4\n"
     ]
    },
    {
     "name": "stderr",
     "output_type": "stream",
     "text": [
      "Copying files: 1872it [33:10,  8.74s/it]"
     ]
    },
    {
     "name": "stdout",
     "output_type": "stream",
     "text": [
      "Copying G:\\내 드라이브\\Project\\RGBLab\\ABB\\Data\\07.침입(trespass)\\outsidedoor_05\\152-5\\152-5_cam01_trespass02_place02_day_summer_resized.mp4 to G:\\내 드라이브\\Project\\RGBLab\\ABB\\Data\\Resized\\07.침입(trespass)\\outsidedoor_05\\152-5\\152-5_cam01_trespass02_place02_day_summer_resized.mp4\n"
     ]
    },
    {
     "name": "stderr",
     "output_type": "stream",
     "text": [
      "Copying files: 1873it [33:26, 10.98s/it]"
     ]
    },
    {
     "name": "stdout",
     "output_type": "stream",
     "text": [
      "Copying G:\\내 드라이브\\Project\\RGBLab\\ABB\\Data\\07.침입(trespass)\\outsidedoor_05\\152-5\\152-5_cam02_trespass02_place02_day_spring_resized.mp4 to G:\\내 드라이브\\Project\\RGBLab\\ABB\\Data\\Resized\\07.침입(trespass)\\outsidedoor_05\\152-5\\152-5_cam02_trespass02_place02_day_spring_resized.mp4\n"
     ]
    },
    {
     "name": "stderr",
     "output_type": "stream",
     "text": [
      "Copying files: 1874it [33:27,  7.77s/it]"
     ]
    },
    {
     "name": "stdout",
     "output_type": "stream",
     "text": [
      "Copying G:\\내 드라이브\\Project\\RGBLab\\ABB\\Data\\07.침입(trespass)\\outsidedoor_05\\152-5\\152-5_cam01_trespass02_place02_day_spring_resized.mp4 to G:\\내 드라이브\\Project\\RGBLab\\ABB\\Data\\Resized\\07.침입(trespass)\\outsidedoor_05\\152-5\\152-5_cam01_trespass02_place02_day_spring_resized.mp4\n"
     ]
    },
    {
     "name": "stderr",
     "output_type": "stream",
     "text": [
      "Copying files: 1875it [33:37,  8.54s/it]"
     ]
    },
    {
     "name": "stdout",
     "output_type": "stream",
     "text": [
      "Copying G:\\내 드라이브\\Project\\RGBLab\\ABB\\Data\\07.침입(trespass)\\outsidedoor_05\\152-5\\152-5_cam02_trespass02_place02_day_summer_resized.mp4 to G:\\내 드라이브\\Project\\RGBLab\\ABB\\Data\\Resized\\07.침입(trespass)\\outsidedoor_05\\152-5\\152-5_cam02_trespass02_place02_day_summer_resized.mp4\n"
     ]
    },
    {
     "name": "stderr",
     "output_type": "stream",
     "text": [
      "Copying files: 1876it [33:40,  6.88s/it]"
     ]
    },
    {
     "name": "stdout",
     "output_type": "stream",
     "text": [
      "Copying G:\\내 드라이브\\Project\\RGBLab\\ABB\\Data\\07.침입(trespass)\\outsidedoor_05\\152-6\\152-6_cam01_trespass02_place02_day_summer_resized.mp4 to G:\\내 드라이브\\Project\\RGBLab\\ABB\\Data\\Resized\\07.침입(trespass)\\outsidedoor_05\\152-6\\152-6_cam01_trespass02_place02_day_summer_resized.mp4\n"
     ]
    },
    {
     "name": "stderr",
     "output_type": "stream",
     "text": [
      "Copying files: 1877it [33:43,  5.68s/it]"
     ]
    },
    {
     "name": "stdout",
     "output_type": "stream",
     "text": [
      "Copying G:\\내 드라이브\\Project\\RGBLab\\ABB\\Data\\07.침입(trespass)\\outsidedoor_05\\152-6\\152-6_cam02_trespass02_place02_day_spring_resized.mp4 to G:\\내 드라이브\\Project\\RGBLab\\ABB\\Data\\Resized\\07.침입(trespass)\\outsidedoor_05\\152-6\\152-6_cam02_trespass02_place02_day_spring_resized.mp4\n"
     ]
    },
    {
     "name": "stderr",
     "output_type": "stream",
     "text": [
      "Copying files: 1878it [33:46,  4.91s/it]"
     ]
    },
    {
     "name": "stdout",
     "output_type": "stream",
     "text": [
      "Copying G:\\내 드라이브\\Project\\RGBLab\\ABB\\Data\\07.침입(trespass)\\outsidedoor_05\\152-6\\152-6_cam02_trespass02_place02_day_summer_resized.mp4 to G:\\내 드라이브\\Project\\RGBLab\\ABB\\Data\\Resized\\07.침입(trespass)\\outsidedoor_05\\152-6\\152-6_cam02_trespass02_place02_day_summer_resized.mp4\n"
     ]
    },
    {
     "name": "stderr",
     "output_type": "stream",
     "text": [
      "Copying files: 1879it [33:49,  4.46s/it]"
     ]
    },
    {
     "name": "stdout",
     "output_type": "stream",
     "text": [
      "Copying G:\\내 드라이브\\Project\\RGBLab\\ABB\\Data\\07.침입(trespass)\\outsidedoor_05\\152-6\\152-6_cam01_trespass02_place02_day_spring_resized.mp4 to G:\\내 드라이브\\Project\\RGBLab\\ABB\\Data\\Resized\\07.침입(trespass)\\outsidedoor_05\\152-6\\152-6_cam01_trespass02_place02_day_spring_resized.mp4\n"
     ]
    },
    {
     "name": "stderr",
     "output_type": "stream",
     "text": [
      "Copying files: 1880it [33:53,  4.07s/it]"
     ]
    },
    {
     "name": "stdout",
     "output_type": "stream",
     "text": [
      "Copying G:\\내 드라이브\\Project\\RGBLab\\ABB\\Data\\07.침입(trespass)\\outsidedoor_05\\153-1\\153-1_cam01_trespass01_place08_day_summer_resized.mp4 to G:\\내 드라이브\\Project\\RGBLab\\ABB\\Data\\Resized\\07.침입(trespass)\\outsidedoor_05\\153-1\\153-1_cam01_trespass01_place08_day_summer_resized.mp4\n"
     ]
    },
    {
     "name": "stderr",
     "output_type": "stream",
     "text": [
      "Copying files: 1881it [34:03,  5.86s/it]"
     ]
    },
    {
     "name": "stdout",
     "output_type": "stream",
     "text": [
      "Copying G:\\내 드라이브\\Project\\RGBLab\\ABB\\Data\\07.침입(trespass)\\outsidedoor_05\\153-1\\153-1_cam02_trespass01_place08_day_spring_resized.mp4 to G:\\내 드라이브\\Project\\RGBLab\\ABB\\Data\\Resized\\07.침입(trespass)\\outsidedoor_05\\153-1\\153-1_cam02_trespass01_place08_day_spring_resized.mp4\n"
     ]
    },
    {
     "name": "stderr",
     "output_type": "stream",
     "text": [
      "Copying files: 1882it [34:06,  5.05s/it]"
     ]
    },
    {
     "name": "stdout",
     "output_type": "stream",
     "text": [
      "Copying G:\\내 드라이브\\Project\\RGBLab\\ABB\\Data\\07.침입(trespass)\\outsidedoor_05\\153-1\\153-1_cam02_trespass01_place08_day_summer_resized.mp4 to G:\\내 드라이브\\Project\\RGBLab\\ABB\\Data\\Resized\\07.침입(trespass)\\outsidedoor_05\\153-1\\153-1_cam02_trespass01_place08_day_summer_resized.mp4\n"
     ]
    },
    {
     "name": "stderr",
     "output_type": "stream",
     "text": [
      "Copying files: 1883it [34:09,  4.54s/it]"
     ]
    },
    {
     "name": "stdout",
     "output_type": "stream",
     "text": [
      "Copying G:\\내 드라이브\\Project\\RGBLab\\ABB\\Data\\07.침입(trespass)\\outsidedoor_05\\153-1\\153-1_cam01_trespass01_place08_day_spring_resized.mp4 to G:\\내 드라이브\\Project\\RGBLab\\ABB\\Data\\Resized\\07.침입(trespass)\\outsidedoor_05\\153-1\\153-1_cam01_trespass01_place08_day_spring_resized.mp4\n"
     ]
    },
    {
     "name": "stderr",
     "output_type": "stream",
     "text": [
      "Copying files: 1884it [34:12,  4.07s/it]"
     ]
    },
    {
     "name": "stdout",
     "output_type": "stream",
     "text": [
      "Copying G:\\내 드라이브\\Project\\RGBLab\\ABB\\Data\\07.침입(trespass)\\outsidedoor_05\\153-2\\153-2_cam01_trespass01_place08_day_spring_resized.mp4 to G:\\내 드라이브\\Project\\RGBLab\\ABB\\Data\\Resized\\07.침입(trespass)\\outsidedoor_05\\153-2\\153-2_cam01_trespass01_place08_day_spring_resized.mp4\n"
     ]
    },
    {
     "name": "stderr",
     "output_type": "stream",
     "text": [
      "Copying files: 1885it [34:19,  5.04s/it]"
     ]
    },
    {
     "name": "stdout",
     "output_type": "stream",
     "text": [
      "Copying G:\\내 드라이브\\Project\\RGBLab\\ABB\\Data\\07.침입(trespass)\\outsidedoor_05\\153-2\\153-2_cam01_trespass01_place08_day_summer_resized.mp4 to G:\\내 드라이브\\Project\\RGBLab\\ABB\\Data\\Resized\\07.침입(trespass)\\outsidedoor_05\\153-2\\153-2_cam01_trespass01_place08_day_summer_resized.mp4\n"
     ]
    },
    {
     "name": "stderr",
     "output_type": "stream",
     "text": [
      "Copying files: 1886it [34:22,  4.34s/it]"
     ]
    },
    {
     "name": "stdout",
     "output_type": "stream",
     "text": [
      "Copying G:\\내 드라이브\\Project\\RGBLab\\ABB\\Data\\07.침입(trespass)\\outsidedoor_05\\153-2\\153-2_cam02_trespass01_place08_day_summer_resized.mp4 to G:\\내 드라이브\\Project\\RGBLab\\ABB\\Data\\Resized\\07.침입(trespass)\\outsidedoor_05\\153-2\\153-2_cam02_trespass01_place08_day_summer_resized.mp4\n"
     ]
    },
    {
     "name": "stderr",
     "output_type": "stream",
     "text": [
      "Copying files: 1887it [34:25,  3.78s/it]"
     ]
    },
    {
     "name": "stdout",
     "output_type": "stream",
     "text": [
      "Copying G:\\내 드라이브\\Project\\RGBLab\\ABB\\Data\\07.침입(trespass)\\outsidedoor_05\\153-2\\153-2_cam02_trespass01_place08_day_spring_resized.mp4 to G:\\내 드라이브\\Project\\RGBLab\\ABB\\Data\\Resized\\07.침입(trespass)\\outsidedoor_05\\153-2\\153-2_cam02_trespass01_place08_day_spring_resized.mp4\n"
     ]
    },
    {
     "name": "stderr",
     "output_type": "stream",
     "text": [
      "Copying files: 1888it [34:33,  5.04s/it]"
     ]
    },
    {
     "name": "stdout",
     "output_type": "stream",
     "text": [
      "Copying G:\\내 드라이브\\Project\\RGBLab\\ABB\\Data\\07.침입(trespass)\\outsidedoor_05\\153-3\\153-3_cam01_trespass01_place08_day_summer_resized.mp4 to G:\\내 드라이브\\Project\\RGBLab\\ABB\\Data\\Resized\\07.침입(trespass)\\outsidedoor_05\\153-3\\153-3_cam01_trespass01_place08_day_summer_resized.mp4\n"
     ]
    },
    {
     "name": "stderr",
     "output_type": "stream",
     "text": [
      "Copying files: 1889it [34:35,  4.38s/it]"
     ]
    },
    {
     "name": "stdout",
     "output_type": "stream",
     "text": [
      "Copying G:\\내 드라이브\\Project\\RGBLab\\ABB\\Data\\07.침입(trespass)\\outsidedoor_05\\153-3\\153-3_cam01_trespass01_place08_day_spring_resized.mp4 to G:\\내 드라이브\\Project\\RGBLab\\ABB\\Data\\Resized\\07.침입(trespass)\\outsidedoor_05\\153-3\\153-3_cam01_trespass01_place08_day_spring_resized.mp4\n"
     ]
    },
    {
     "name": "stderr",
     "output_type": "stream",
     "text": [
      "Copying files: 1890it [34:38,  3.89s/it]"
     ]
    },
    {
     "name": "stdout",
     "output_type": "stream",
     "text": [
      "Copying G:\\내 드라이브\\Project\\RGBLab\\ABB\\Data\\07.침입(trespass)\\outsidedoor_05\\153-3\\153-3_cam02_trespass01_place08_day_spring_resized.mp4 to G:\\내 드라이브\\Project\\RGBLab\\ABB\\Data\\Resized\\07.침입(trespass)\\outsidedoor_05\\153-3\\153-3_cam02_trespass01_place08_day_spring_resized.mp4\n"
     ]
    },
    {
     "name": "stderr",
     "output_type": "stream",
     "text": [
      "Copying files: 1891it [34:43,  4.19s/it]"
     ]
    },
    {
     "name": "stdout",
     "output_type": "stream",
     "text": [
      "Copying G:\\내 드라이브\\Project\\RGBLab\\ABB\\Data\\07.침입(trespass)\\outsidedoor_05\\153-3\\153-3_cam02_trespass01_place08_day_summer_resized.mp4 to G:\\내 드라이브\\Project\\RGBLab\\ABB\\Data\\Resized\\07.침입(trespass)\\outsidedoor_05\\153-3\\153-3_cam02_trespass01_place08_day_summer_resized.mp4\n"
     ]
    },
    {
     "name": "stderr",
     "output_type": "stream",
     "text": [
      "Copying files: 1892it [34:46,  3.72s/it]"
     ]
    },
    {
     "name": "stdout",
     "output_type": "stream",
     "text": [
      "Copying G:\\내 드라이브\\Project\\RGBLab\\ABB\\Data\\07.침입(trespass)\\outsidedoor_05\\153-4\\153-4_cam02_trespass01_place08_day_summer_resized.mp4 to G:\\내 드라이브\\Project\\RGBLab\\ABB\\Data\\Resized\\07.침입(trespass)\\outsidedoor_05\\153-4\\153-4_cam02_trespass01_place08_day_summer_resized.mp4\n"
     ]
    },
    {
     "name": "stderr",
     "output_type": "stream",
     "text": [
      "Copying files: 1893it [34:54,  5.23s/it]"
     ]
    },
    {
     "name": "stdout",
     "output_type": "stream",
     "text": [
      "Copying G:\\내 드라이브\\Project\\RGBLab\\ABB\\Data\\07.침입(trespass)\\outsidedoor_05\\153-4\\153-4_cam01_trespass01_place08_day_summer_resized.mp4 to G:\\내 드라이브\\Project\\RGBLab\\ABB\\Data\\Resized\\07.침입(trespass)\\outsidedoor_05\\153-4\\153-4_cam01_trespass01_place08_day_summer_resized.mp4\n"
     ]
    },
    {
     "name": "stderr",
     "output_type": "stream",
     "text": [
      "Copying files: 1894it [34:58,  4.68s/it]"
     ]
    },
    {
     "name": "stdout",
     "output_type": "stream",
     "text": [
      "Copying G:\\내 드라이브\\Project\\RGBLab\\ABB\\Data\\07.침입(trespass)\\outsidedoor_05\\153-4\\153-4_cam01_trespass01_place08_day_spring_resized.mp4 to G:\\내 드라이브\\Project\\RGBLab\\ABB\\Data\\Resized\\07.침입(trespass)\\outsidedoor_05\\153-4\\153-4_cam01_trespass01_place08_day_spring_resized.mp4\n"
     ]
    },
    {
     "name": "stderr",
     "output_type": "stream",
     "text": [
      "Copying files: 1895it [35:01,  4.11s/it]"
     ]
    },
    {
     "name": "stdout",
     "output_type": "stream",
     "text": [
      "Copying G:\\내 드라이브\\Project\\RGBLab\\ABB\\Data\\07.침입(trespass)\\outsidedoor_05\\153-4\\153-4_cam02_trespass01_place08_day_spring_resized.mp4 to G:\\내 드라이브\\Project\\RGBLab\\ABB\\Data\\Resized\\07.침입(trespass)\\outsidedoor_05\\153-4\\153-4_cam02_trespass01_place08_day_spring_resized.mp4\n"
     ]
    },
    {
     "name": "stderr",
     "output_type": "stream",
     "text": [
      "Copying files: 1896it [35:04,  3.87s/it]"
     ]
    },
    {
     "name": "stdout",
     "output_type": "stream",
     "text": [
      "Copying G:\\내 드라이브\\Project\\RGBLab\\ABB\\Data\\07.침입(trespass)\\outsidedoor_05\\153-5\\153-5_cam01_trespass01_place08_day_spring_resized.mp4 to G:\\내 드라이브\\Project\\RGBLab\\ABB\\Data\\Resized\\07.침입(trespass)\\outsidedoor_05\\153-5\\153-5_cam01_trespass01_place08_day_spring_resized.mp4\n"
     ]
    },
    {
     "name": "stderr",
     "output_type": "stream",
     "text": [
      "Copying files: 1897it [35:07,  3.63s/it]"
     ]
    },
    {
     "name": "stdout",
     "output_type": "stream",
     "text": [
      "Copying G:\\내 드라이브\\Project\\RGBLab\\ABB\\Data\\07.침입(trespass)\\outsidedoor_05\\153-5\\153-5_cam01_trespass01_place08_day_summer_resized.mp4 to G:\\내 드라이브\\Project\\RGBLab\\ABB\\Data\\Resized\\07.침입(trespass)\\outsidedoor_05\\153-5\\153-5_cam01_trespass01_place08_day_summer_resized.mp4\n"
     ]
    },
    {
     "name": "stderr",
     "output_type": "stream",
     "text": [
      "Copying files: 1898it [35:10,  3.39s/it]"
     ]
    },
    {
     "name": "stdout",
     "output_type": "stream",
     "text": [
      "Copying G:\\내 드라이브\\Project\\RGBLab\\ABB\\Data\\07.침입(trespass)\\outsidedoor_05\\153-5\\153-5_cam02_trespass01_place08_day_summer_resized.mp4 to G:\\내 드라이브\\Project\\RGBLab\\ABB\\Data\\Resized\\07.침입(trespass)\\outsidedoor_05\\153-5\\153-5_cam02_trespass01_place08_day_summer_resized.mp4\n"
     ]
    },
    {
     "name": "stderr",
     "output_type": "stream",
     "text": [
      "Copying files: 1899it [35:19,  5.07s/it]"
     ]
    },
    {
     "name": "stdout",
     "output_type": "stream",
     "text": [
      "Copying G:\\내 드라이브\\Project\\RGBLab\\ABB\\Data\\07.침입(trespass)\\outsidedoor_05\\153-5\\153-5_cam02_trespass01_place08_day_spring_resized.mp4 to G:\\내 드라이브\\Project\\RGBLab\\ABB\\Data\\Resized\\07.침입(trespass)\\outsidedoor_05\\153-5\\153-5_cam02_trespass01_place08_day_spring_resized.mp4\n"
     ]
    },
    {
     "name": "stderr",
     "output_type": "stream",
     "text": [
      "Copying files: 1900it [35:22,  4.43s/it]"
     ]
    },
    {
     "name": "stdout",
     "output_type": "stream",
     "text": [
      "Copying G:\\내 드라이브\\Project\\RGBLab\\ABB\\Data\\07.침입(trespass)\\outsidedoor_05\\153-6\\153-6_cam02_trespass01_place08_day_summer_resized.mp4 to G:\\내 드라이브\\Project\\RGBLab\\ABB\\Data\\Resized\\07.침입(trespass)\\outsidedoor_05\\153-6\\153-6_cam02_trespass01_place08_day_summer_resized.mp4\n"
     ]
    },
    {
     "name": "stderr",
     "output_type": "stream",
     "text": [
      "Copying files: 1901it [35:25,  3.98s/it]"
     ]
    },
    {
     "name": "stdout",
     "output_type": "stream",
     "text": [
      "Copying G:\\내 드라이브\\Project\\RGBLab\\ABB\\Data\\07.침입(trespass)\\outsidedoor_05\\153-6\\153-6_cam02_trespass01_place08_day_spring_resized.mp4 to G:\\내 드라이브\\Project\\RGBLab\\ABB\\Data\\Resized\\07.침입(trespass)\\outsidedoor_05\\153-6\\153-6_cam02_trespass01_place08_day_spring_resized.mp4\n"
     ]
    },
    {
     "name": "stderr",
     "output_type": "stream",
     "text": [
      "Copying files: 1902it [35:28,  3.70s/it]"
     ]
    },
    {
     "name": "stdout",
     "output_type": "stream",
     "text": [
      "Copying G:\\내 드라이브\\Project\\RGBLab\\ABB\\Data\\07.침입(trespass)\\outsidedoor_05\\153-6\\153-6_cam01_trespass01_place08_day_spring_resized.mp4 to G:\\내 드라이브\\Project\\RGBLab\\ABB\\Data\\Resized\\07.침입(trespass)\\outsidedoor_05\\153-6\\153-6_cam01_trespass01_place08_day_spring_resized.mp4\n"
     ]
    },
    {
     "name": "stderr",
     "output_type": "stream",
     "text": [
      "Copying files: 1903it [35:30,  3.29s/it]"
     ]
    },
    {
     "name": "stdout",
     "output_type": "stream",
     "text": [
      "Copying G:\\내 드라이브\\Project\\RGBLab\\ABB\\Data\\07.침입(trespass)\\outsidedoor_05\\153-6\\153-6_cam01_trespass01_place08_day_summer_resized.mp4 to G:\\내 드라이브\\Project\\RGBLab\\ABB\\Data\\Resized\\07.침입(trespass)\\outsidedoor_05\\153-6\\153-6_cam01_trespass01_place08_day_summer_resized.mp4\n"
     ]
    },
    {
     "name": "stderr",
     "output_type": "stream",
     "text": [
      "Copying files: 1904it [35:32,  3.04s/it]"
     ]
    },
    {
     "name": "stdout",
     "output_type": "stream",
     "text": [
      "Copying G:\\내 드라이브\\Project\\RGBLab\\ABB\\Data\\07.침입(trespass)\\outsidedoor_05\\154-1\\154-1_cam02_trespass03_place03_night_spring_resized.mp4 to G:\\내 드라이브\\Project\\RGBLab\\ABB\\Data\\Resized\\07.침입(trespass)\\outsidedoor_05\\154-1\\154-1_cam02_trespass03_place03_night_spring_resized.mp4\n"
     ]
    },
    {
     "name": "stderr",
     "output_type": "stream",
     "text": [
      "Copying files: 1905it [35:35,  2.74s/it]"
     ]
    },
    {
     "name": "stdout",
     "output_type": "stream",
     "text": [
      "Copying G:\\내 드라이브\\Project\\RGBLab\\ABB\\Data\\07.침입(trespass)\\outsidedoor_05\\154-1\\154-1_cam02_trespass03_place03_night_summer_resized.mp4 to G:\\내 드라이브\\Project\\RGBLab\\ABB\\Data\\Resized\\07.침입(trespass)\\outsidedoor_05\\154-1\\154-1_cam02_trespass03_place03_night_summer_resized.mp4\n"
     ]
    },
    {
     "name": "stderr",
     "output_type": "stream",
     "text": [
      "Copying files: 1906it [35:37,  2.56s/it]"
     ]
    },
    {
     "name": "stdout",
     "output_type": "stream",
     "text": [
      "Copying G:\\내 드라이브\\Project\\RGBLab\\ABB\\Data\\07.침입(trespass)\\outsidedoor_05\\154-1\\154-1_cam01_trespass03_place03_night_spring_resized.mp4 to G:\\내 드라이브\\Project\\RGBLab\\ABB\\Data\\Resized\\07.침입(trespass)\\outsidedoor_05\\154-1\\154-1_cam01_trespass03_place03_night_spring_resized.mp4\n"
     ]
    },
    {
     "name": "stderr",
     "output_type": "stream",
     "text": [
      "Copying files: 1907it [35:38,  2.26s/it]"
     ]
    },
    {
     "name": "stdout",
     "output_type": "stream",
     "text": [
      "Copying G:\\내 드라이브\\Project\\RGBLab\\ABB\\Data\\07.침입(trespass)\\outsidedoor_05\\154-1\\154-1_cam01_trespass03_place03_night_summer_resized.mp4 to G:\\내 드라이브\\Project\\RGBLab\\ABB\\Data\\Resized\\07.침입(trespass)\\outsidedoor_05\\154-1\\154-1_cam01_trespass03_place03_night_summer_resized.mp4\n"
     ]
    },
    {
     "name": "stderr",
     "output_type": "stream",
     "text": [
      "Copying files: 1908it [35:40,  2.03s/it]"
     ]
    },
    {
     "name": "stdout",
     "output_type": "stream",
     "text": [
      "Copying G:\\내 드라이브\\Project\\RGBLab\\ABB\\Data\\07.침입(trespass)\\outsidedoor_05\\154-2\\154-2_cam02_trespass03_place03_night_summer_resized.mp4 to G:\\내 드라이브\\Project\\RGBLab\\ABB\\Data\\Resized\\07.침입(trespass)\\outsidedoor_05\\154-2\\154-2_cam02_trespass03_place03_night_summer_resized.mp4\n"
     ]
    },
    {
     "name": "stderr",
     "output_type": "stream",
     "text": [
      "Copying files: 1909it [35:42,  2.07s/it]"
     ]
    },
    {
     "name": "stdout",
     "output_type": "stream",
     "text": [
      "Copying G:\\내 드라이브\\Project\\RGBLab\\ABB\\Data\\07.침입(trespass)\\outsidedoor_05\\154-2\\154-2_cam01_trespass03_place03_night_spring_resized.mp4 to G:\\내 드라이브\\Project\\RGBLab\\ABB\\Data\\Resized\\07.침입(trespass)\\outsidedoor_05\\154-2\\154-2_cam01_trespass03_place03_night_spring_resized.mp4\n"
     ]
    },
    {
     "name": "stderr",
     "output_type": "stream",
     "text": [
      "Copying files: 1910it [35:44,  1.95s/it]"
     ]
    },
    {
     "name": "stdout",
     "output_type": "stream",
     "text": [
      "Copying G:\\내 드라이브\\Project\\RGBLab\\ABB\\Data\\07.침입(trespass)\\outsidedoor_05\\154-2\\154-2_cam02_trespass03_place03_night_spring_resized.mp4 to G:\\내 드라이브\\Project\\RGBLab\\ABB\\Data\\Resized\\07.침입(trespass)\\outsidedoor_05\\154-2\\154-2_cam02_trespass03_place03_night_spring_resized.mp4\n"
     ]
    },
    {
     "name": "stderr",
     "output_type": "stream",
     "text": [
      "Copying files: 1911it [35:46,  2.12s/it]"
     ]
    },
    {
     "name": "stdout",
     "output_type": "stream",
     "text": [
      "Copying G:\\내 드라이브\\Project\\RGBLab\\ABB\\Data\\07.침입(trespass)\\outsidedoor_05\\154-2\\154-2_cam01_trespass03_place03_night_summer_resized.mp4 to G:\\내 드라이브\\Project\\RGBLab\\ABB\\Data\\Resized\\07.침입(trespass)\\outsidedoor_05\\154-2\\154-2_cam01_trespass03_place03_night_summer_resized.mp4\n"
     ]
    },
    {
     "name": "stderr",
     "output_type": "stream",
     "text": [
      "Copying files: 1912it [35:48,  1.96s/it]"
     ]
    },
    {
     "name": "stdout",
     "output_type": "stream",
     "text": [
      "Copying G:\\내 드라이브\\Project\\RGBLab\\ABB\\Data\\07.침입(trespass)\\outsidedoor_05\\154-3\\154-3_cam02_trespass03_place03_night_summer_resized.mp4 to G:\\내 드라이브\\Project\\RGBLab\\ABB\\Data\\Resized\\07.침입(trespass)\\outsidedoor_05\\154-3\\154-3_cam02_trespass03_place03_night_summer_resized.mp4\n"
     ]
    },
    {
     "name": "stderr",
     "output_type": "stream",
     "text": [
      "Copying files: 1913it [35:50,  1.95s/it]"
     ]
    },
    {
     "name": "stdout",
     "output_type": "stream",
     "text": [
      "Copying G:\\내 드라이브\\Project\\RGBLab\\ABB\\Data\\07.침입(trespass)\\outsidedoor_05\\154-3\\154-3_cam01_trespass03_place03_night_summer_resized.mp4 to G:\\내 드라이브\\Project\\RGBLab\\ABB\\Data\\Resized\\07.침입(trespass)\\outsidedoor_05\\154-3\\154-3_cam01_trespass03_place03_night_summer_resized.mp4\n"
     ]
    },
    {
     "name": "stderr",
     "output_type": "stream",
     "text": [
      "Copying files: 1914it [35:51,  1.83s/it]"
     ]
    },
    {
     "name": "stdout",
     "output_type": "stream",
     "text": [
      "Copying G:\\내 드라이브\\Project\\RGBLab\\ABB\\Data\\07.침입(trespass)\\outsidedoor_05\\154-3\\154-3_cam02_trespass03_place03_night_spring_resized.mp4 to G:\\내 드라이브\\Project\\RGBLab\\ABB\\Data\\Resized\\07.침입(trespass)\\outsidedoor_05\\154-3\\154-3_cam02_trespass03_place03_night_spring_resized.mp4\n"
     ]
    },
    {
     "name": "stderr",
     "output_type": "stream",
     "text": [
      "Copying files: 1915it [35:54,  2.02s/it]"
     ]
    },
    {
     "name": "stdout",
     "output_type": "stream",
     "text": [
      "Copying G:\\내 드라이브\\Project\\RGBLab\\ABB\\Data\\07.침입(trespass)\\outsidedoor_05\\154-3\\154-3_cam01_trespass03_place03_night_spring_resized.mp4 to G:\\내 드라이브\\Project\\RGBLab\\ABB\\Data\\Resized\\07.침입(trespass)\\outsidedoor_05\\154-3\\154-3_cam01_trespass03_place03_night_spring_resized.mp4\n"
     ]
    },
    {
     "name": "stderr",
     "output_type": "stream",
     "text": [
      "Copying files: 1916it [35:55,  1.87s/it]"
     ]
    },
    {
     "name": "stdout",
     "output_type": "stream",
     "text": [
      "Copying G:\\내 드라이브\\Project\\RGBLab\\ABB\\Data\\07.침입(trespass)\\outsidedoor_05\\154-4\\154-4_cam01_trespass03_place03_night_spring_resized.mp4 to G:\\내 드라이브\\Project\\RGBLab\\ABB\\Data\\Resized\\07.침입(trespass)\\outsidedoor_05\\154-4\\154-4_cam01_trespass03_place03_night_spring_resized.mp4\n"
     ]
    },
    {
     "name": "stderr",
     "output_type": "stream",
     "text": [
      "Copying files: 1917it [35:57,  1.79s/it]"
     ]
    },
    {
     "name": "stdout",
     "output_type": "stream",
     "text": [
      "Copying G:\\내 드라이브\\Project\\RGBLab\\ABB\\Data\\07.침입(trespass)\\outsidedoor_05\\154-4\\154-4_cam02_trespass03_place03_night_spring_resized.mp4 to G:\\내 드라이브\\Project\\RGBLab\\ABB\\Data\\Resized\\07.침입(trespass)\\outsidedoor_05\\154-4\\154-4_cam02_trespass03_place03_night_spring_resized.mp4\n"
     ]
    },
    {
     "name": "stderr",
     "output_type": "stream",
     "text": [
      "Copying files: 1918it [35:59,  1.91s/it]"
     ]
    },
    {
     "name": "stdout",
     "output_type": "stream",
     "text": [
      "Copying G:\\내 드라이브\\Project\\RGBLab\\ABB\\Data\\07.침입(trespass)\\outsidedoor_05\\154-4\\154-4_cam02_trespass03_place03_night_summer_resized.mp4 to G:\\내 드라이브\\Project\\RGBLab\\ABB\\Data\\Resized\\07.침입(trespass)\\outsidedoor_05\\154-4\\154-4_cam02_trespass03_place03_night_summer_resized.mp4\n"
     ]
    },
    {
     "name": "stderr",
     "output_type": "stream",
     "text": [
      "Copying files: 1919it [36:01,  1.97s/it]"
     ]
    },
    {
     "name": "stdout",
     "output_type": "stream",
     "text": [
      "Copying G:\\내 드라이브\\Project\\RGBLab\\ABB\\Data\\07.침입(trespass)\\outsidedoor_05\\154-4\\154-4_cam01_trespass03_place03_night_summer_resized.mp4 to G:\\내 드라이브\\Project\\RGBLab\\ABB\\Data\\Resized\\07.침입(trespass)\\outsidedoor_05\\154-4\\154-4_cam01_trespass03_place03_night_summer_resized.mp4\n"
     ]
    },
    {
     "name": "stderr",
     "output_type": "stream",
     "text": [
      "Copying files: 1920it [36:03,  1.86s/it]"
     ]
    },
    {
     "name": "stdout",
     "output_type": "stream",
     "text": [
      "Copying G:\\내 드라이브\\Project\\RGBLab\\ABB\\Data\\07.침입(trespass)\\outsidedoor_05\\154-5\\154-5_cam01_trespass03_place03_night_summer_resized.mp4 to G:\\내 드라이브\\Project\\RGBLab\\ABB\\Data\\Resized\\07.침입(trespass)\\outsidedoor_05\\154-5\\154-5_cam01_trespass03_place03_night_summer_resized.mp4\n"
     ]
    },
    {
     "name": "stderr",
     "output_type": "stream",
     "text": [
      "Copying files: 1921it [36:04,  1.78s/it]"
     ]
    },
    {
     "name": "stdout",
     "output_type": "stream",
     "text": [
      "Copying G:\\내 드라이브\\Project\\RGBLab\\ABB\\Data\\07.침입(trespass)\\outsidedoor_05\\154-5\\154-5_cam01_trespass03_place03_night_spring_resized.mp4 to G:\\내 드라이브\\Project\\RGBLab\\ABB\\Data\\Resized\\07.침입(trespass)\\outsidedoor_05\\154-5\\154-5_cam01_trespass03_place03_night_spring_resized.mp4\n"
     ]
    },
    {
     "name": "stderr",
     "output_type": "stream",
     "text": [
      "Copying files: 1922it [36:06,  1.88s/it]"
     ]
    },
    {
     "name": "stdout",
     "output_type": "stream",
     "text": [
      "Copying G:\\내 드라이브\\Project\\RGBLab\\ABB\\Data\\07.침입(trespass)\\outsidedoor_05\\154-5\\154-5_cam02_trespass03_place03_night_summer_resized.mp4 to G:\\내 드라이브\\Project\\RGBLab\\ABB\\Data\\Resized\\07.침입(trespass)\\outsidedoor_05\\154-5\\154-5_cam02_trespass03_place03_night_summer_resized.mp4\n"
     ]
    },
    {
     "name": "stderr",
     "output_type": "stream",
     "text": [
      "Copying files: 1923it [36:09,  1.13s/it]"
     ]
    },
    {
     "name": "stdout",
     "output_type": "stream",
     "text": [
      "Done copying files\n"
     ]
    },
    {
     "name": "stderr",
     "output_type": "stream",
     "text": [
      "\n"
     ]
    }
   ],
   "source": [
    "import shutil\n",
    "from tqdm import tqdm\n",
    "\n",
    "trg_DATA_PATH = [path.replace(\"Data\", \"Data\\\\Resized\") for path in src_DATA_PATH]\n",
    "\n",
    "# copy all the files from src_DATA_PATH to trg_DATA_PATH\n",
    "for src, trg in tqdm(zip(src_DATA_PATH, trg_DATA_PATH), desc=\"Copying files\"):\n",
    "    \n",
    "    tqdm.write(\"Copying {} to {}\".format(src, trg))\n",
    "    \n",
    "    try:\n",
    "        # check first if the file exists\n",
    "        if not os.path.exists(trg):\n",
    "            # check if the directory exists\n",
    "            if not os.path.exists(os.path.dirname(trg)):\n",
    "                os.makedirs(os.path.dirname(trg))\n",
    "\n",
    "            # copy the file\n",
    "            shutil.copy(src, trg)\n",
    "            \n",
    "    except Exception as e:\n",
    "        tqdm.write(\"Error copying file: {}\".format(e))\n",
    "        continue\n",
    "    \n",
    "print(\"Done copying files\")"
   ]
  },
  {
   "cell_type": "code",
   "execution_count": 28,
   "metadata": {},
   "outputs": [
    {
     "data": {
      "text/plain": [
       "['G:\\\\내 드라이브\\\\Project\\\\RGBLab\\\\ABB\\\\Data\\\\Resized\\\\01.폭행(assult)\\\\inside_croki_02\\\\24-5\\\\24-5_cam01_assault01_place09_night_winter_resized.mp4',\n",
       " 'G:\\\\내 드라이브\\\\Project\\\\RGBLab\\\\ABB\\\\Data\\\\Resized\\\\01.폭행(assult)\\\\inside_croki_02\\\\24-5\\\\24-5_cam02_assault01_place09_night_winter_resized.mp4',\n",
       " 'G:\\\\내 드라이브\\\\Project\\\\RGBLab\\\\ABB\\\\Data\\\\Resized\\\\01.폭행(assult)\\\\inside_croki_02\\\\24-5\\\\24-5_cam01_assault01_place09_night_summer_resized.mp4',\n",
       " 'G:\\\\내 드라이브\\\\Project\\\\RGBLab\\\\ABB\\\\Data\\\\Resized\\\\01.폭행(assult)\\\\inside_croki_02\\\\24-5\\\\24-5_cam01_assault01_place09_night_spring_resized.mp4',\n",
       " 'G:\\\\내 드라이브\\\\Project\\\\RGBLab\\\\ABB\\\\Data\\\\Resized\\\\01.폭행(assult)\\\\inside_croki_02\\\\24-5\\\\24-5_cam03_assault01_place09_night_spring_resized.mp4']"
      ]
     },
     "execution_count": 28,
     "metadata": {},
     "output_type": "execute_result"
    }
   ],
   "source": [
    "trg_DATA_PATH[:5]"
   ]
  },
  {
   "cell_type": "code",
   "execution_count": null,
   "metadata": {},
   "outputs": [],
   "source": []
  },
  {
   "cell_type": "code",
   "execution_count": null,
   "metadata": {},
   "outputs": [],
   "source": []
  }
 ],
 "metadata": {
  "kernelspec": {
   "display_name": "abb_project",
   "language": "python",
   "name": "python3"
  },
  "language_info": {
   "codemirror_mode": {
    "name": "ipython",
    "version": 3
   },
   "file_extension": ".py",
   "mimetype": "text/x-python",
   "name": "python",
   "nbconvert_exporter": "python",
   "pygments_lexer": "ipython3",
   "version": "3.10.13"
  }
 },
 "nbformat": 4,
 "nbformat_minor": 2
}
