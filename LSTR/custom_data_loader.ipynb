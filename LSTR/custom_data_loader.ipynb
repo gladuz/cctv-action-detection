{
 "cells": [
  {
   "cell_type": "code",
   "execution_count": 1,
   "metadata": {},
   "outputs": [],
   "source": [
    "import torch\n",
    "from torch.utils.data import Dataset, DataLoader\n",
    "import pickle"
   ]
  },
  {
   "cell_type": "code",
   "execution_count": 2,
   "metadata": {},
   "outputs": [],
   "source": [
    "pkl_file = '/data/common/abb_project/processed_data/total_data.pkl'"
   ]
  },
  {
   "cell_type": "code",
   "execution_count": 3,
   "metadata": {},
   "outputs": [],
   "source": [
    "with open(pkl_file, 'rb') as f:\n",
    "    total_data = pickle.load(f)"
   ]
  },
  {
   "cell_type": "code",
   "execution_count": 11,
   "metadata": {},
   "outputs": [
    {
     "data": {
      "text/plain": [
       "(1536, 1024)"
      ]
     },
     "execution_count": 11,
     "metadata": {},
     "output_type": "execute_result"
    }
   ],
   "source": [
    "total_data[list(total_data.keys())[0]][0].shape"
   ]
  },
  {
   "cell_type": "code",
   "execution_count": 12,
   "metadata": {},
   "outputs": [
    {
     "data": {
      "text/plain": [
       "(1536, 2048)"
      ]
     },
     "execution_count": 12,
     "metadata": {},
     "output_type": "execute_result"
    }
   ],
   "source": [
    "total_data[list(total_data.keys())[0]][1].shape"
   ]
  },
  {
   "cell_type": "code",
   "execution_count": 13,
   "metadata": {},
   "outputs": [
    {
     "data": {
      "text/plain": [
       "(1536, 13)"
      ]
     },
     "execution_count": 13,
     "metadata": {},
     "output_type": "execute_result"
    }
   ],
   "source": [
    "total_data[list(total_data.keys())[0]][2].shape"
   ]
  },
  {
   "cell_type": "code",
   "execution_count": 20,
   "metadata": {},
   "outputs": [],
   "source": [
    "from torch.nn.utils.rnn import pad_sequence\n",
    "\n",
    "def my_collate_fn(batch):\n",
    "    flow_features = [item[0].clone().detach() for item in batch]\n",
    "    rgb_features = [item[1].clone().detach() for item in batch]\n",
    "    labels = [item[2].clone().detach() for item in batch]\n",
    "    \n",
    "    flow_features_padded = pad_sequence(flow_features, batch_first=True, padding_value=0)\n",
    "    rgb_features_padded = pad_sequence(rgb_features, batch_first=True, padding_value=0)\n",
    "    labels_padded = pad_sequence(labels, batch_first=True, padding_value=0)\n",
    "    \n",
    "    return flow_features_padded, rgb_features_padded, labels_padded"
   ]
  },
  {
   "cell_type": "code",
   "execution_count": 21,
   "metadata": {},
   "outputs": [],
   "source": [
    "class CustomDataset(Dataset):\n",
    "    def __init__(self, pkl_file):\n",
    "        # with open(pkl_file, 'rb') as f:\n",
    "        #     self.data_dict = pickle.load(f)\n",
    "        self.data_dict = pkl_file\n",
    "\n",
    "    def __len__(self):\n",
    "        return len(self.data_dict)\n",
    "\n",
    "    def __getitem__(self, idx):\n",
    "        video_name = list(self.data_dict.keys())[idx]\n",
    "        flow_features = self.data_dict[video_name][0]\n",
    "        rgb_features = self.data_dict[video_name][1]\n",
    "        labels = self.data_dict[video_name][2]\n",
    "        \n",
    "        return torch.tensor(flow_features), torch.tensor(rgb_features), torch.tensor(labels)\n",
    "\n",
    "# DataLoader\n",
    "custom_dataset = CustomDataset(total_data)\n",
    "train_loader = DataLoader(dataset=custom_dataset, batch_size=4, shuffle=True, collate_fn=my_collate_fn)  # 배치 크기는 예시입니다.\n"
   ]
  },
  {
   "cell_type": "code",
   "execution_count": 22,
   "metadata": {},
   "outputs": [
    {
     "name": "stdout",
     "output_type": "stream",
     "text": [
      "Batch 1\n",
      "RGB Features: torch.Size([4, 1600, 2048])\n",
      "Flow Features: torch.Size([4, 1600, 1024])\n",
      "Labels: torch.Size([4, 1600, 13])\n"
     ]
    }
   ],
   "source": [
    "# DataLoader를 사용하여 데이터를 불러옵니다.\n",
    "for i, (rgb_features, flow_features, labels) in enumerate(train_loader):\n",
    "    print(f\"Batch {i+1}\")\n",
    "    print(\"RGB Features:\", rgb_features.shape)  # [batch_size, num_frames, 2048] 형태를 기대합니다.\n",
    "    print(\"Flow Features:\", flow_features.shape)  # [batch_size, num_frames, 1024] 형태를 기대합니다.\n",
    "    print(\"Labels:\", labels.shape)  # [batch_size, num_frames, 13] 형태를 기대합니다.\n",
    "    \n",
    "    # 첫 번째 배치만 확인하고 루프를 종료합니다.\n",
    "    if i == 0:\n",
    "        break\n"
   ]
  },
  {
   "cell_type": "code",
   "execution_count": null,
   "metadata": {},
   "outputs": [],
   "source": []
  }
 ],
 "metadata": {
  "kernelspec": {
   "display_name": "abb2",
   "language": "python",
   "name": "python3"
  },
  "language_info": {
   "codemirror_mode": {
    "name": "ipython",
    "version": 3
   },
   "file_extension": ".py",
   "mimetype": "text/x-python",
   "name": "python",
   "nbconvert_exporter": "python",
   "pygments_lexer": "ipython3",
   "version": "3.10.13"
  }
 },
 "nbformat": 4,
 "nbformat_minor": 2
}
