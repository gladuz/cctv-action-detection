{
 "cells": [
  {
   "cell_type": "code",
   "execution_count": 8,
   "metadata": {},
   "outputs": [],
   "source": [
    "import torch\n",
    "import torch.nn as nn\n",
    "from collections import deque\n",
    "\n",
    "# Long-Term and Short-Term Memory\n",
    "class Memory:\n",
    "    def __init__(self, long_term_size, short_term_size):\n",
    "        self.long_term_memory = deque(maxlen=long_term_size)\n",
    "        self.short_term_memory = deque(maxlen=short_term_size)\n",
    "        \n",
    "    def update(self, new_feature):\n",
    "        self.short_term_memory.append(new_feature)\n",
    "        if len(self.short_term_memory) == self.short_term_memory.maxlen:\n",
    "            self.long_term_memory.append(self.short_term_memory[0])\n",
    "            \n",
    "# LSTR Encoder-Decoder using Transformer\n",
    "class LSTREncoderDecoder(nn.Module):\n",
    "    def __init__(self, d_model, nhead, num_layers, num_classes=4):\n",
    "        super(LSTREncoderDecoder, self).__init__()\n",
    "        self.encoder_layer = nn.TransformerEncoderLayer(d_model, nhead)\n",
    "        self.encoder = nn.TransformerEncoder(self.encoder_layer, num_layers=num_layers)\n",
    "        self.decoder_layer = nn.TransformerDecoderLayer(d_model, nhead)\n",
    "        self.decoder = nn.TransformerDecoder(self.decoder_layer, num_layers=num_layers)\n",
    "\n",
    "        # classifier (4 classes)\n",
    "        self.classifier = nn.Linear(d_model, num_classes)\n",
    "        \n",
    "    def forward(self, long_term_memory, short_term_memory):\n",
    "        long_term_encoded = self.encoder(long_term_memory)\n",
    "        decoder_output = self.decoder(short_term_memory, long_term_encoded)\n",
    "\n",
    "        # Assuming the last output is what you want to classify\n",
    "        last_output = decoder_output[-1]\n",
    "        class_output = self.classifier(last_output)\n",
    "        return class_output     # this will be of shape (batch_size, num_classes)\n",
    "\n",
    "# init\n",
    "long_term_size = 2048  # Example size\n",
    "short_term_size = 32  # Example size\n",
    "memory = Memory(long_term_size, short_term_size)\n",
    "\n",
    "d_model = 2048 + 512  # Embedding dimension\n",
    "nhead = 8  # Number of heads in multi-head attention\n",
    "num_layers = 3  # Number of transformer layers\n",
    "\n",
    "model = LSTREncoderDecoder(d_model, nhead, num_layers)\n",
    "\n",
    "# Simulate feature update\n",
    "for _ in range(short_term_size):  # iterate over short-term memory size at least it is filled\n",
    "    rgb_feature = torch.rand(1, 2048)  # RGB features\n",
    "    optical_flow_feature = torch.rand(1, 512)  # Optical Flow features\n",
    "    \n",
    "    # Combine or process features if needed\n",
    "    combined_feature = torch.cat((rgb_feature, optical_flow_feature), dim=1)  # Example\n",
    "    \n",
    "    memory.update(combined_feature)\n",
    "\n",
    "# Forward pass\n",
    "if len(memory.long_term_memory) > 0 and len(memory.short_term_memory) > 0:\n",
    "    long_term_memory_tensor = torch.stack(list(memory.long_term_memory))\n",
    "    short_term_memory_tensor = torch.stack(list(memory.short_term_memory))\n",
    "    class_output = model(long_term_memory_tensor, short_term_memory_tensor)\n",
    "    class_probabilities = nn.Softmax(dim=1)(class_output)\n",
    "else:\n",
    "    print(\"Memory is not yet filled. Continue collecting features.\")\n"
   ]
  },
  {
   "cell_type": "code",
   "execution_count": 9,
   "metadata": {},
   "outputs": [
    {
     "data": {
      "text/plain": [
       "tensor([[-0.0498,  0.3692, -0.6853,  0.6039]], grad_fn=<AddmmBackward0>)"
      ]
     },
     "execution_count": 9,
     "metadata": {},
     "output_type": "execute_result"
    }
   ],
   "source": [
    "class_output"
   ]
  },
  {
   "cell_type": "code",
   "execution_count": 10,
   "metadata": {},
   "outputs": [
    {
     "data": {
      "text/plain": [
       "tensor([[0.2011, 0.3058, 0.1065, 0.3866]], grad_fn=<SoftmaxBackward0>)"
      ]
     },
     "execution_count": 10,
     "metadata": {},
     "output_type": "execute_result"
    }
   ],
   "source": [
    "class_probabilities"
   ]
  }
 ],
 "metadata": {
  "kernelspec": {
   "display_name": "abb",
   "language": "python",
   "name": "python3"
  },
  "language_info": {
   "codemirror_mode": {
    "name": "ipython",
    "version": 3
   },
   "file_extension": ".py",
   "mimetype": "text/x-python",
   "name": "python",
   "nbconvert_exporter": "python",
   "pygments_lexer": "ipython3",
   "version": "3.8.18"
  },
  "orig_nbformat": 4
 },
 "nbformat": 4,
 "nbformat_minor": 2
}
